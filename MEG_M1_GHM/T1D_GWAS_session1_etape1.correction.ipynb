{
 "cells": [
  {
   "cell_type": "markdown",
   "metadata": {},
   "source": [
    "# __Génétique Humaine Méthodologie__"
   ]
  },
  {
   "cell_type": "markdown",
   "metadata": {},
   "source": [
    "## **TP: Étude d'association pan-génomique dans le diabète de type 1:**\n",
    "\n",
    "*Claire Vandiedonck et Fabien Fauchereau - 2022*\n",
    "\n",
    ">`Contenu de ce notebook:`\n",
    "> *temps estimé = 1h max*\n",
    ">\n",
    "> 0. Synopsis\n",
    "> 1. Étape 1.</u> Évaluation de la faisabilité de l'étude:\n",
    ">      <br>1.a. Identification des régions déjà connues pour leur association au DT1 de manière significative\n",
    ">      <br>1.b. Calcul de puissance pour retrouver les mêmes régions ou d’autres variants avec effets similaires dans une nouvelle cohorte    \n",
    "> \n",
    "> La suite de la session 1 portant sur le début de l'étape 2 se fera dans le notebook `T1D_GWAS_session1_etape2_start.ipynb`\n",
    "\n"
   ]
  },
  {
   "cell_type": "markdown",
   "metadata": {
    "tags": []
   },
   "source": [
    "---\n",
    "## **Avant d'aller plus loin**\n",
    "\n",
    "<div class=\"alert alert-block alert-danger\"><b>Caution:</b> \n",
    "Ne travaillez pas directement sur ce notebook. Dupliquez-le et renommez-le par exemple avec vos initiales et travaillez sur cette nouvelle copie : dans le panneau de gauche, faites un clic droit sur le fichier et sélectionnez \"Duplicate\"<br>\n",
    "N'oubliez pas de sauvegarder régulièremeny votre notebook.\n",
    "</div>"
   ]
  },
  {
   "cell_type": "raw",
   "metadata": {},
   "source": [
    "Dans ce TP, vous lancerez chaque cellule l'une après l'autre dans l'ordre. Si vous revenez en arrière et rééxécuter une cellule, veillez à relancer les suivantes. Les cellules sont numérotées dans leur ordre d'éxécution."
   ]
  },
  {
   "cell_type": "markdown",
   "metadata": {},
   "source": [
    "<div class=\"alert alert-block alert-info\"> \n",
    "    \n",
    "<b>Rappel</b>, dans un notebook :\n",
    "\n",
    "- la combinaison de touches <kbd>Ctrl</kbd>+<kbd>Entrée</kbd> exécute une cellule.<br>\n",
    "- la combinaison de touches <kbd>Shift</kbd>+<kbd>Entrée</kbd> exécute une cellule puis passe à la suivante. C'est équivalent à cliquer sur l'icone ▶️ dans la barre de menu du notebook.<br>\n",
    "- la combinaison de touches <kbd>Alt</kbd>+<kbd>Entrée</kbd> exécute une cellule puis en crée une nouvelle (vide) en dessous.<br>\n",
    "- pour ajouter une cellule, vous pouvez aussi cliquer sur l'icone ➕ dans la barre de menu du notebook.<br>\n",
    "- vous pouvez déplacer les cellules pour les réorganiser les unes en-dessous des autres.<br>\n",
    "- vous pouvez ajouter des commentaires, soit en commençant la ligne par un \"#\" dans une cellule de code (ces lignes ne seront pas éxécutées), soit dans une nouvelle céllule de type Markdown.<br>\n",
    "- vous sélectionner le type de cellule dans le menu en haut de votre notebbok.<br>\n",
    "    - \"Code\" pour entrer des lignes de commande à éxécuter <br>\n",
    "    - \"Markdown pour ajouter du texte balisé qui peut être formatté<br>\n",
    "- pour modifier une cellule ̀Markdown, double-cliquez dessus<br>\n",
    "- attention à la casse des caractères pour les cellules de code<br>\n",
    "- évitez les caractères spéciaux dans les cellules de code<br>\n",
    "\n",
    "    \n",
    "\n",
    " </div>    \n",
    "\n",
    "***Useful links***    \n",
    "*To make nice html reports with markdown:* [html visualization tool1](https://dillinger.io/) or [html visualization tool2](https://stackedit.io/app#) and [to draw nice tables](https://www.tablesgenerator.com/markdown_tables ) and the [Ultimate guide](https://medium.com/analytics-vidhya/the-ultimate-markdown-guide-for-jupyter-notebook-d5e5abf728fd)   \n",
    "*Further reading on JupyterLab notebooks:*  https://jupyterlab.readthedocs.io/en/latest/user/notebook.html <br>\n",
    "*Here we are using JupyterLab interface implemented as part of the https://plasmabio.org/ project lead by Sandrine Caburet, Pierre Poulain and Claire Vandiedonck.*\n",
    "\n",
    "\n",
    "---"
   ]
  },
  {
   "cell_type": "markdown",
   "metadata": {},
   "source": [
    "\n",
    "__*=> A propos de ce jupyter notebook*__\n",
    "\n",
    "Pour ce TP, nous aurons besoin d'éxécuter du code `bash` at `R`. On pourrait réaliser le TP directement dans un terminal `bash` en lançant R à la volée.\n",
    "\n",
    ">_If you want to see this by yourself, you can open a terminal on adenine:_\n",
    ">- _in the `File` menu in the top bar, select `New Launcher` or click on the `+` sign below_\n",
    ">- _open either a bash `Console` or a `Terminal`_\n",
    ">- _you'll be able to copy and paste the commands from the `Code` cells of the notebook in the \"bottom cell\" (for the console) or after the `$` sign (for the terminal)_\n",
    ">\n",
    ">_This is for your information only, and not needed. All the commands are already included in this notebook_\n",
    "\n",
    "Toutefois, nous préférons utiliser un notebook pour rédiger un rapport computationel. Or un notebook jupyter ne peut contenir qu'un seul langage à la fois. Nous avions trois solutions pour éxécuter malgré tout des commandes bash et R dans le même notebook:\n",
    "\n",
    "**1.** utiliser un notebokk avec un noyau  `bash` et éxécuter des commandes `R`, une par une, en tapant `R -e \"myRcommand\"` ou exécuter un script R contenant plusieurs commandes en tapant `Rscript myscript.R`.\n",
    "\n",
    "**2.** utiliser un notebook avec un noyau `R` et éxécuter des commandes `bash` en invoquant la function `system(\"mybashcommand\")`.\n",
    "\n",
    "**3.** utiliser un notebook avec un noyau `python` et indiquer que les cellules doivent être éxécutées en bash (natif) en ajoutant `%%bash` au début de chaque cellule, et en ajoutant `%%R` au début de chaque cellule `R` après avoir installé et chargé `Rpy2` au début du notebook.\n",
    "\n",
    "=> <mark> Nous avons opté pour cette 3ème option avec un jupyter notebook de type  python </mark> qui a l'avantage de ne pas alourdir les commandes `bash` et `R` et d'être très lisible. Les informations de configuration de ce notebook et de l'environnement jupyterlab associé sont disponibles à ce lien: https://github.com/CVandiedonck/HumanGeneticsMethodology_GWAS \n",
    "\n",
    "Avant de commencer, nous devons donc charger le module `Rpy2` avec la commande suivante."
   ]
  },
  {
   "cell_type": "code",
   "execution_count": 1,
   "metadata": {},
   "outputs": [],
   "source": [
    "%load_ext rpy2.ipython"
   ]
  },
  {
   "cell_type": "markdown",
   "metadata": {},
   "source": [
    "Vous pouvez éxécuter cette commande python pour connaître votre répertoire de travail puis lister ce qu'il contient."
   ]
  },
  {
   "cell_type": "code",
   "execution_count": 2,
   "metadata": {},
   "outputs": [
    {
     "data": {
      "text/plain": [
       "'/srv/home/cvandiedonck/m1meg_ghm_gwas'"
      ]
     },
     "execution_count": 2,
     "metadata": {},
     "output_type": "execute_result"
    }
   ],
   "source": [
    "import os \n",
    "os.getcwd()"
   ]
  },
  {
   "cell_type": "markdown",
   "metadata": {},
   "source": [
    "<div class=\"alert alert-block alert-warning\"><b>Le résultat devrait ressembler à :</b>\"/srv/home/mylogin/m1meg_ghm_gwas\" avec votre login. Si ce n'est pas le cas, changez de répertoire avec la commande \"os.chdir('path')\"</div>"
   ]
  },
  {
   "cell_type": "markdown",
   "metadata": {},
   "source": [
    "Pour lister ce qu'il contient, vous pouvez tenter avec les 3 langages:\n",
    "- en python:"
   ]
  },
  {
   "cell_type": "code",
   "execution_count": 3,
   "metadata": {},
   "outputs": [
    {
     "data": {
      "text/plain": [
       "['.jupyter',\n",
       " 'stratifwithoutld_pcplot.Rout',\n",
       " 'T1D_GWAS_session1-Copy1.ipynb',\n",
       " '.conda',\n",
       " 'output',\n",
       " '.gitignore',\n",
       " 'T1D_GWAS_session1.html',\n",
       " 'ng.3245.pdf',\n",
       " '.git',\n",
       " 'output.autosomic.bed',\n",
       " '.config',\n",
       " 'test2',\n",
       " '.local',\n",
       " 'plink.fam',\n",
       " 'dup.toexclude.txt',\n",
       " 'T1D_GWAS_session2.ipynb',\n",
       " 'preparation_L2_SPS_TP07_2020_2021.ipynb',\n",
       " 'test.log',\n",
       " 'L2_SPS_TP07_2020_2021.ipynb',\n",
       " '.yarn',\n",
       " 'tp_gwas_commands.sh',\n",
       " 'same_position.toexclude.txt',\n",
       " '.profile',\n",
       " 'output.autosomic.log',\n",
       " '.bashrc',\n",
       " 'input',\n",
       " '.bash_logout',\n",
       " 'T1D_GWAS_session1.ipynb',\n",
       " 'nodup.toexclude.txt',\n",
       " 'T1D_GWAS_session3_tests.ipynb',\n",
       " '.ipynb_checkpoints',\n",
       " '.RData',\n",
       " 'plink.log',\n",
       " '.empty',\n",
       " 'output.autosomic.bim',\n",
       " 'T1D_GWAS_session1_etape1.ipynb',\n",
       " 'T1D_GWAS_session1_etape1._correction.ipynb',\n",
       " 'output.autosomic.fam',\n",
       " 'allelictest.log',\n",
       " 'T1D_GWAS_session2_correction.ipynb',\n",
       " 'T1D_GWAS_session3_correction.ipynb',\n",
       " 'warning.txt',\n",
       " 'T1D_GWAS_session1_correction.ipynb',\n",
       " 'FrenchGWAS',\n",
       " 'T1D_GWAS_session3.ipynb',\n",
       " 'data_analysis_notebook_Python.ipynb',\n",
       " 'README.md',\n",
       " 'binder',\n",
       " '.npm']"
      ]
     },
     "execution_count": 3,
     "metadata": {},
     "output_type": "execute_result"
    }
   ],
   "source": [
    "os.listdir()"
   ]
  },
  {
   "cell_type": "markdown",
   "metadata": {},
   "source": [
    "- en bash:"
   ]
  },
  {
   "cell_type": "code",
   "execution_count": 4,
   "metadata": {},
   "outputs": [
    {
     "name": "stdout",
     "output_type": "stream",
     "text": [
      "allelictest.log\n",
      "binder\n",
      "data_analysis_notebook_Python.ipynb\n",
      "dup.toexclude.txt\n",
      "FrenchGWAS\n",
      "input\n",
      "L2_SPS_TP07_2020_2021.ipynb\n",
      "ng.3245.pdf\n",
      "nodup.toexclude.txt\n",
      "output\n",
      "output.autosomic.bed\n",
      "output.autosomic.bim\n",
      "output.autosomic.fam\n",
      "output.autosomic.log\n",
      "plink.fam\n",
      "plink.log\n",
      "preparation_L2_SPS_TP07_2020_2021.ipynb\n",
      "README.md\n",
      "same_position.toexclude.txt\n",
      "stratifwithoutld_pcplot.Rout\n",
      "T1D_GWAS_session1-Copy1.ipynb\n",
      "T1D_GWAS_session1_correction.ipynb\n",
      "T1D_GWAS_session1_etape1._correction.ipynb\n",
      "T1D_GWAS_session1_etape1.ipynb\n",
      "T1D_GWAS_session1.html\n",
      "T1D_GWAS_session1.ipynb\n",
      "T1D_GWAS_session2_correction.ipynb\n",
      "T1D_GWAS_session2.ipynb\n",
      "T1D_GWAS_session3_correction.ipynb\n",
      "T1D_GWAS_session3.ipynb\n",
      "T1D_GWAS_session3_tests.ipynb\n",
      "test2\n",
      "test.log\n",
      "tp_gwas_commands.sh\n",
      "warning.txt\n"
     ]
    }
   ],
   "source": [
    "%%bash\n",
    "ls"
   ]
  },
  {
   "cell_type": "markdown",
   "metadata": {},
   "source": [
    "- en R:"
   ]
  },
  {
   "cell_type": "code",
   "execution_count": 5,
   "metadata": {},
   "outputs": [
    {
     "name": "stdout",
     "output_type": "stream",
     "text": [
      " [1] \"allelictest.log\"                           \n",
      " [2] \"binder\"                                    \n",
      " [3] \"data_analysis_notebook_Python.ipynb\"       \n",
      " [4] \"dup.toexclude.txt\"                         \n",
      " [5] \"FrenchGWAS\"                                \n",
      " [6] \"input\"                                     \n",
      " [7] \"L2_SPS_TP07_2020_2021.ipynb\"               \n",
      " [8] \"ng.3245.pdf\"                               \n",
      " [9] \"nodup.toexclude.txt\"                       \n",
      "[10] \"output\"                                    \n",
      "[11] \"output.autosomic.bed\"                      \n",
      "[12] \"output.autosomic.bim\"                      \n",
      "[13] \"output.autosomic.fam\"                      \n",
      "[14] \"output.autosomic.log\"                      \n",
      "[15] \"plink.fam\"                                 \n",
      "[16] \"plink.log\"                                 \n",
      "[17] \"preparation_L2_SPS_TP07_2020_2021.ipynb\"   \n",
      "[18] \"README.md\"                                 \n",
      "[19] \"same_position.toexclude.txt\"               \n",
      "[20] \"stratifwithoutld_pcplot.Rout\"              \n",
      "[21] \"T1D_GWAS_session1_correction.ipynb\"        \n",
      "[22] \"T1D_GWAS_session1_etape1._correction.ipynb\"\n",
      "[23] \"T1D_GWAS_session1_etape1.ipynb\"            \n",
      "[24] \"T1D_GWAS_session1-Copy1.ipynb\"             \n",
      "[25] \"T1D_GWAS_session1.html\"                    \n",
      "[26] \"T1D_GWAS_session1.ipynb\"                   \n",
      "[27] \"T1D_GWAS_session2_correction.ipynb\"        \n",
      "[28] \"T1D_GWAS_session2.ipynb\"                   \n",
      "[29] \"T1D_GWAS_session3_correction.ipynb\"        \n",
      "[30] \"T1D_GWAS_session3_tests.ipynb\"             \n",
      "[31] \"T1D_GWAS_session3.ipynb\"                   \n",
      "[32] \"test.log\"                                  \n",
      "[33] \"test2\"                                     \n",
      "[34] \"tp_gwas_commands.sh\"                       \n",
      "[35] \"warning.txt\"                               \n"
     ]
    }
   ],
   "source": [
    "%%R\n",
    "list.files()"
   ]
  },
  {
   "cell_type": "markdown",
   "metadata": {},
   "source": [
    "---\n",
    "## **0 - Synopsis**\n",
    "\n",
    "### **Objectifs du TP**\n",
    "\n",
    "Dans cette série de 4 séances du TP n°1, vous allez réaliser une étude d’association génétique dans le diabète de type 1 (DT1) dans une cohorte française au moyen d’outils informatiques et statistiques.\n",
    "Tous les échantillons ont été génotypés au moyen de la puce Illumina Immunochip (Trynka G et al., 2011, Parkes M et al. 2013). Au cours de ce TP, vous serez amenés à préparer vos  fichiers de génotypage pour l'analyse, à effectuer des contrôles de qualité et à nettoyer/filtrer les données, à effectuer les analyses d'associations génétiques de type cas/contrôles et de type familial (Marees  AT et al., 2018), et enfin à interpréter vos résultats en comparaison avec les articles publiés par le Type 1 Diabetes Genetics Consortium (Onengut-Gumuscu  S, et al., 2015, Robertson CC et al., 2021).\n",
    "\n",
    "\n",
    "### **Plan du TP**\n",
    "\n",
    "Le découpage des différentes étapes est ainsi prévu :\n",
    "\n",
    "#### <b><u>Étape n°1 :</u> Évaluation de la faisabilité de l'étude (pendant la séance de TP 1)</b>\n",
    "\n",
    "- Identification des régions déjà connues pour leur association au DT1 de manière significative\n",
    "\n",
    "- Calcul de puissance pour retrouver les mêmes régions ou d’autres variants avec effets similaires dans une nouvelle cohorte\n",
    "      \n",
    "#### <b><u>Étape n°2:</u> Étude d’association cas-contrôles (pendant les séances de TP 1, 2, 3 et 4)</b>\n",
    "\n",
    "- Formatage des fichiers pour les logiciels de génétique – Apprentissage de PLINK (séance 1)\n",
    "\n",
    "- Statistiques descriptives des cas et contrôles, contrôle qualité et nettoyage des données pour l'étude d'association (séances 2 et 3)\n",
    "\n",
    "- Analyse d'association génétique cas-contrôles (séances 3 et 4)\n",
    "      \n",
    "#### <b><u>Étape n°3:</u> Étude d’association familiale (pendant la séance de TP  4)</b>\n",
    "- Contrôle de qualité des données familiales\n",
    "\n",
    "- Analyse d'association génétique familiale\n",
    "\n",
    "- Représentation des associations\n",
    "\n",
    "- Interprétation des données, conclusion\n",
    "\n",
    "\n",
    "⚠️ <mark>Vous aurez 6 notebooks: 2 pour la séance 1 (1 pour l'étape 1 et 1 pour le début de l'étape 2), puis 1 pour la séance 2 et 1 pour la séance 3 (étape 2 suite et resuite) et efin 2 pour la séance 4 (fin étape 2 et étape 3).</mark>\n",
    "\n",
    "\n",
    "***Références***<br>\n",
    "Trynka G, et al. Dense genotyping identifies and localizes multiple common and rare variant association signals in celiac disease. Nature Genetics 43, 1193–1201 (2011) doi.org/10.1038/ng.998<br>\n",
    "Parkes M, et al. Genetic insight into common pathways and complex relationships among immune-mediated diseases. Nature Genetics 14, 661-673 (2013) doi.org/10.1038/nrg3502<br>\n",
    "Marees AT et al. A tutorial on conducting genome‐wide association studies: Quality control and statistical analysis. Int J Methods Psychiatr Res. 27:e1608. (2018) doi.org/10.1002/mpr.1608<br>\n",
    "Onengut-Gumuscu S et al. Fine mapping of type 1 diabetes susceptibility loci and evidence for colocalization of causal variants with lymphoid gene enhancers. Nature Genetics 47, 381–386 (2015) doi.org/10.1038/ng.3245<br>\n",
    "Robertson CC et al. (2021). Fine-mapping, trans-ancestral and genomic analyses identify causal variants, cells, genes and drug targets for type 1 diabetes. Nature Genetics 53, 962–971 (2021). doi.org/10.1038/s41588-021-00880-5\n"
   ]
  },
  {
   "cell_type": "markdown",
   "metadata": {},
   "source": [
    "___\n",
    "---\n",
    "## **I - Étape 1: Évaluation de la faisabilité de l'étude**\n",
    "\n",
    "Avant d'entamer toute étude de génétique, il est nécessaire d'évaluer l'état des connaissances et de vérifier si l'étude prévue aura la puissance nécessaire pour identifier des associations génétiques.\n",
    "\n",
    "\n",
    "### **I.a- Quelles sont les régions génétiques déjà associées au DT1 ?**\n",
    "\n",
    "Pour répondre à cette question, vous allez étudier le résultats publiés par par Onengut-Gumuscu et al. Nature Genetics (2015), présentant les derniers résultats de GWAS publiés par le consortium international de l'étude du diabète de type 1 (T1DGC for Type 1 Diabetes genetics Consortium). L'article au format .pdf est présent sur moodle et dans votre environnement jupyterlab."
   ]
  },
  {
   "cell_type": "markdown",
   "metadata": {},
   "source": [
    "#### **Q1.1:** Combien de régions génomiques avaient été impliquées dans le diabète de type I (DT1) avant le démarrage de l'étude ?"
   ]
  },
  {
   "cell_type": "markdown",
   "metadata": {},
   "source": [
    "41 régions étaient connues avant le design de l'immunochip en février 2000"
   ]
  },
  {
   "cell_type": "markdown",
   "metadata": {},
   "source": [
    "#### **Q1.2:** Dans quels buts a été conçue l'Immunochip ? Quelle a été la stratégie de conception de l'Immunochip ?"
   ]
  },
  {
   "cell_type": "markdown",
   "metadata": {},
   "source": [
    "4 buts indiqués dans l'article:\n",
    "\n",
    "i. identifier de nouveaux facteurs génétiques de risque du DT1\n",
    "\n",
    "ii. faire une cartographie fine des régions associées pour identifier les SNPs candidats pour un rôle causal les plus crédibles\n",
    "\n",
    "iii. analyser ces SNPs candidats au regard des séquences régulatrices (c'est un but indirect, plutôt une conséquence du ii)\n",
    "\n",
    "iv. combiner les résultats de GWAS de plusieurs maladies autoimmunes\n",
    "\n",
    "Le consortium ImmunoChip a réalisé des études d'association génétique sur 16 maladies auto-immunes ou inflammatoires au moyen d'une puce de cartographie fine contenant près de 200 000 SNPs sur l'ensemble du génome, avec une plus forte densité dans les régions génétiques du système immunitaire. Chaque consortium sur une maladie a fourni une liste de SNPs à inclure sur la puce.<br>\n",
    "=> Pour le DT1, cela inclut: les SNPs des 41 régions connues + 3000 autres SNPs taggant des gènes candidats et d'autres SNPs montrant une association suggestive jusqu'ici avec seuil <1x10-5 mais > à 5x10-8\n",
    "\n",
    "Pour info les 20 maladies étudiées sont: \n",
    "spondylathrite ankylosante (SA), les thyroïdtes autoimmunes (ATD), la maladie coeliaque (CEL), la maladie de Crohn (CRO), l'arthrite juvenile idiopathique (JIA), la sclérose en plaques (MS), la cirrhose biliaire primitive (PBC), le psoriasis (PSO), la polyarthrite rhumatoïde (RA), le lupus systémique érythémateux (SLE), le diabète de type 1 (T1D), la rectocolite hémorragique (UC), l'alopécie areata, les maladies inflammatoires chroniques de l'intestin (IBD), la sensibilité allergique et réponse aux IgE, la narcolepsie, la cholangite sclérosante primitive, le syndrome de Sjögren, la sclérodermie systémique et le vitiligo."
   ]
  },
  {
   "cell_type": "markdown",
   "metadata": {},
   "source": [
    "#### **Q1.3:** Quelle est la structure des échantillons? Combien de cas et de contrôles ont été étudiés après QC (Quality Controls sur les SNPs et sur les sujets) ? Quelle est leur origine géographique?"
   ]
  },
  {
   "cell_type": "markdown",
   "metadata": {},
   "source": [
    "Des données Cas/Contrôles et d'autres familiales.\n",
    "\n",
    "- Après QC sur les SNPs (test principal):\n",
    "6670 patients + 12264 controles (=6523 contrôles de la cohorte 1958 + 2893 contrôles du UK National Blood Service et 2848 contrôles du NIHR Cambridge Biomedical Research Centre Cambridge Ressources)\n",
    "+ 2601 paires de germains du T1DGC de 5 régions (pour info, non mis dans le papier: Amérique du Nord, Asie-Pacifique, UK, Sardaigne,  danemark) -> donc 2601 cas et 2601 contrôles\n",
    "+ 69 trios du T1DGC  de 5 régions -> donc 69 patients et 138 contrôles!\n",
    " \n",
    "- Après QC sur SNPs et sujets (bas colonne gauche page dans online methods du papier):\n",
    "10 796 individus: 6683 cas, 12 173 controls, 2601 ASP et 69 trios\n",
    "\n",
    "[Selon immunobase, il y avait 6670 cas, 9416 controls et 2601 familles.]"
   ]
  },
  {
   "cell_type": "markdown",
   "metadata": {},
   "source": [
    "#### **Q1.4:** Combien de SNPs ont passé les seuils de QC ? "
   ]
  },
  {
   "cell_type": "markdown",
   "metadata": {},
   "source": [
    "138, 229 SNPs dans le corps du texte mais 135,870 dans les méthodes..."
   ]
  },
  {
   "cell_type": "markdown",
   "metadata": {},
   "source": [
    "#### **Q1.5:** Avec R, calculer la valeur de seuil de Bonferroni pour le nombre de SNPs ayant passé les QCs. S'agit-il du seuil utilisé dans l'artcile? "
   ]
  },
  {
   "cell_type": "code",
   "execution_count": 6,
   "metadata": {},
   "outputs": [
    {
     "name": "stdout",
     "output_type": "stream",
     "text": [
      "[1] 3.227076e-07\n"
     ]
    }
   ],
   "source": [
    "%%R\n",
    "# votre code R\n",
    "0.05/154939"
   ]
  },
  {
   "cell_type": "markdown",
   "metadata": {},
   "source": [
    "Normalement cela devrait être  p<5E-08 afin de prendre en compte la correction multiples.\n",
    "Mais ici ils ont pris un seuil moins stringent de 3.23x10-7"
   ]
  },
  {
   "cell_type": "markdown",
   "metadata": {},
   "source": [
    "#### **Q1.6:** En dehors du CMH qui n'est pas étudié dans cet article, combien de régions ont été trouvées associées à leur seuil? En bas de la colonne 2 de la 1ère page de l'article, combien de régions les auteurs répliquent-ils et combien de nouvelles régions sont associées au seuil 5e-8 ?"
   ]
  },
  {
   "cell_type": "markdown",
   "metadata": {},
   "source": [
    "Ils répliquent 38 associations déjà connues (voir article bas colonne de droite page 1) et ils en identifient 4 nouvelles au seuil 5e-8 = 42\n",
    "et ils identifient 2 suggestives < 1e-7\n",
    "= 44 en tout"
   ]
  },
  {
   "cell_type": "markdown",
   "metadata": {},
   "source": [
    "#### **Q1.7:** Quelle version de la séquence de référence du génome est utilisée dans cet article?"
   ]
  },
  {
   "cell_type": "markdown",
   "metadata": {},
   "source": [
    "génome hg19 = GRch37 à trouver dans les méthodes dans la section SNP annotation"
   ]
  },
  {
   "cell_type": "markdown",
   "metadata": {},
   "source": [
    "<div class=\"alert alert-block alert-warning\"><b>Pour information :</b><br>\n",
    "<b>Jusque juin 2021</b>, l'ensemble des études pangénomiques sur le DT1 réalisées essentiellement par le T1DGC (Type 1 Diabetes Genetics Consortium) avait permis d'identifier 52 régions associées de manière significative au seuil pangénomique 5x10-8. Cinq autres régions avaient été associées de manière suggestives au seuil 5x10-5  : 2q11.2, 6q23.3, 11q13.1, 14q24.1 et 17q21.31, les 4 premières étant associées de manière significative à une autre maladie autoimmune ou inflammatoire.<br>\n",
    "<b>A ce jour, 78 régions significatives sont connues </b>. En effet, 36 nouvelles régions ont été indetifiées comme présentant une association significative dans la dernière étude d'association pangéomique publiée en juin dernier (Robertson CC, Nature Genetics 2021). Cette étude doublait la taille de l'échantillon par rapport aux précédentes  avec plus de 61 000 sujets de plusieurs ascendances (Européenne, AFricaine, Finnoise, Est-Asiatiques et autres populations mélangées). L'étude portait toujours sur le génotypage au moyen de l'immunochip et a inclus également l'imputation de 137k à 322k SNPs selon les populations. La publication est disponible sur moodle.\n",
    "</div>"
   ]
  },
  {
   "cell_type": "markdown",
   "metadata": {},
   "source": [
    "### **1.b.- Quelle est la puissance de détecter les mêmes associations ou de nouvelles associations avec des effets comparables ?**\n",
    "\n",
    "Dans cette seconde partie, vous allez évaluer la capacité de répliquer les effets déjà publiés dans une cohorte française génotypée au moyen de l'immunochip. Vous réaliserez le GWAS de cette cohorte dans les prochaines séances de TP.\n",
    "\n",
    "Pour rappel, dans un test d'association génétique:\n",
    "\n",
    "- `l'hypothèse nulle (H0)` correspond à l'absence d'association, c'est à dire qu'il n'y a pas d'effet: les fréquences alléliques sont identiques entre cas et contrôles.\n",
    "\n",
    "- `l'hypothèse alternative (H1)` est celle de l'absence d'égalité des fréquences alléliques: il existe un effet, c'est à dire une association allélique.\n",
    "\n",
    "En statistiques, on définit la `puissance` comme la probabilité de detecter un effet s'il existe. Il s'agit de la probabilité de rejeter H0 sachant que H0 n'est pas vraie. Il faut connaitre une hypothèse H1 spécifique, c'est-à-dire connaitre l'amplitude de l'effet en question. Dans une étude d'association génétique, l'OR correspond à l'effet. \n",
    "\n",
    "\n",
    "Dans le cas d'un test de comparaison de fréquences, il faut également connaître la fréquence de chaque groupe, cas et contrôles sous H1. Connaissant la fréquence de contrôles et l'OR, vous pouvez déduire la fréquence des cas en admettant des effectifs de taille similaire entre cas et contrôles (voir formule plus bas).\n",
    "\n",
    "Si vous ne génotypez pas directement le SNP reporté comme étant associé, mais un SNP en déséquilibre de liaison (DL) avec lui, certains outils de calcul de puissance vous demandent de renseigner ce DL. Dans ce TP, nous espérons que le variant associé est bien inclus dans l'immunochip. Nous supposerons donc que nous testons directement le variant associé pour les calculs de puissance.\n",
    "\n",
    "=> Vous allez calculer la puissance pour une taille d'échantillon donnée que vous ferez varier de 50 à 5000 (pour chaque groupe, cas et contrôles) pour les deux meilleures régions associées au DT1 à ce jour après le CMH:\n",
    "- la région du gène de l'Insuline (*INS*) en 11p15.5:  chr11:2092701-2260001\n",
    "- le gène *PTPN22* en 1p13.2: chr1:113288123-114009223\n",
    "\n",
    "A titre de référence et pour comparaison, nous vous fournissons les valeurs pour la région du CMH (en 6p21.3 : chr6:32350867-32714887) et les résultats du calcul de puissance dans les tableaux 1 et 2 ci-dessous que vous complèterez. Vous pouvez aussi compléter les tableaux sur le document google partagé à ce line: https://docs.google.com/spreadsheets/d/1M6C4cbVxKXgWMUIWA10pisS6AXS4RJHzZRUBlP2gij0/edit?usp=sharing.\n",
    "\n",
    "<center><b>Tableau 1.</b> Valeurs de référence pour les top SNPs des 3 meilleurs régions associées au DT1</center>"
   ]
  },
  {
   "cell_type": "markdown",
   "metadata": {},
   "source": [
    "|  \t\t\trégion \t\t \t|  \t\t\tSNP \t\t       \t|  \t\t\tallèles \t\t \t| \t\t\tOR \t\t\t allèle  mineur \t\t \t|  \t\t\tOR \t\t\tallèle  majeur \t\t \t|  \t\t\tMAF \t\t    \t|  \t\t\tfreq \t\t\tallèle majeur \t\t \t|  \t\t\tfreq \t\t\tallèle mineur patients \t\t                \t|  \t\t\tfreq \t\t\tallèle majeur patients \t\t \t|\n",
    "|----------\t|-------------\t|-----------\t|----------------------\t|---------------------\t|----------\t|----------------------\t|----------------------------------------------\t|-------------------------------\t|\n",
    "|  \t\t\tCMH \t\t    \t|  \t\t\trs6916742 \t\t \t|  \t\t\tC>T \t\t     \t|  \t\t\t<br>  \t\t\t \t\t  \t|  \t\t\t0.24 \t\t               \t|  \t\t\t4.17 \t\t              \t|  \t\t\t0.39 \t\t   \t|  \t\t\t0.61 \t\t               \t|  \t\t\t0.13<br> \t\t\t<br> \t\t\t=0.39*0.24(1-0.39+0.39*0.24) \t\t \t|  \t\t\t0.87 \t\t                        \t|\n",
    "|  \t\t\tINS \t\t    \t|  \t\t\t<br>  \t\t\t \t\t    \t|  \t\t\t<br>  \t\t\t \t\t  \t|  \t\t\t<br>  \t\t\t \t\t  \t|  \t\t\t<br>  \t\t\t \t\t             \t|  \t\t\t<br>  \t\t\t \t\t            \t|  \t\t\t<br>  \t\t\t \t\t \t|  \t\t\t<br>  \t\t\t \t\t             \t|  \t\t\t<br>  \t\t\t \t\t                                     \t|  \t\t\t<br>  \t\t\t \t\t                      \t|\n",
    "|  \t\t\tPTPN22 \t\t \t|  \t\t\t<br>  \t\t\t \t\t    \t|  \t\t\t<br>  \t\t\t \t\t  \t|  \t\t\t<br>  \t\t\t \t\t  \t|  \t\t\t<br>  \t\t\t \t\t             \t|  \t\t\t<br>  \t\t\t \t\t            \t|  \t\t\t<br>  \t\t\t \t\t \t|  \t\t\t<br>  \t\t\t \t\t             \t|  \t\t\t<br>  \t\t\t \t\t                                     \t|  \t\t\t<br>  \t\t\t \t\t                      \t|"
   ]
  },
  {
   "cell_type": "markdown",
   "metadata": {},
   "source": [
    "#### **Q1.8:** Pour les deux régions, complétez les colonnes du Tableau 1 à partir des valeurs de l'article Onengut-Gumuscu et al. 2015 :"
   ]
  },
  {
   "cell_type": "markdown",
   "metadata": {},
   "source": [
    "- le top SNP (celui qui a la p-value la plus faible) et ses allèles Majeur>Mineur\n",
    "- la p-value de l'association au DT1\n",
    "- l'OR de risque correspondant\n",
    "- la fréquence de l'allèle de risque chez les contrôles de l'étude"
   ]
  },
  {
   "cell_type": "markdown",
   "metadata": {},
   "source": [
    "*entrez ici d'éventuelles explications pour compléter le tableau*\n",
    "\n",
    "*- Pour le Le CMH (en 6p21.3):*\n",
    "top SNP = rs6916742 avec un p = 4.00E-307 (Référence Bradfield et al. Plos Genet 2011 ( https://doi-org.proxy.insermbiblio.inist.fr/10.1371/journal.pgen.1002293; qui pourtant réfère au papier du WTCCC sans ce SNP!; j'ai préféré prendre un seul SNP que ceux taggant DR3 et DR4 non référencés dans OpenTargets ni le GWAS catalogue -> voir papier de Hu X. 2015 nature genet dans la supp Table 2 pour détail des SNPs, ou Erlich et al. 2008 Diabetes pour DR3 et DR4 ou Johnson MB 2019 10.1007/s11892-019-1141-6). <br>\n",
    "OR = OR=0.24 pour l'allèle T = mineur = protecteur <=> OR = 1/0.24=4.17 pour l'allèle C de risque\n",
    "La MAF n'est pas connue -> dbSNP: MAF =fre(T)= 0.39 pour T, donc freq(C)= 0.61\n",
    "\n",
    "\n",
    "*- Pour l'insuline (attention, prendre la 1ère ligne, la seconde étant une association indépendantre du lead SNP)*\n",
    "top SNP = rs689 ave une pvalue de <1E-100 (note: il y avait une autre référence dans T1DBase associée à 1E-195)\n",
    "OR = 0.42 pour l'allèle mineur A selon l'étude, soit un OR de risque 2.38 pour l'allèle majeur T\n",
    "MAF = 0.30 dans l'étude (qui regarde l'autre brin que 1KG !!!) <=> donc fréquence de l'allèle de risque (T)= 0.7\n",
    "\n",
    "*- Pour PTPN22 (déjà vu précédemment dans le TP!)*\n",
    "top SNP = rs2476601 avec p=1.1e-122 (ils indiquent <1e-100)\n",
    "OR=1.89 pour l'allèle mineur A de risque\n",
    "MAF=0.09\n",
    "\n",
    "|  \t\t\trégion \t\t \t|  \t\t\tSNP \t\t        \t|  \t\t\tallèles \t\t \t|  \t\t\tOR \t\t\tpour mineur \t\t \t|  \t\t\tOR \t\t\tpour majeur \t\t        \t|  \t\t\tMAF \t\t  \t|  \t\t\tfreq \t\t\tmajeur \t\t \t|  \t\t\tfreq \t\t\tallèle mineur patients \t\t                   \t|  \t\t\tfreq \t\t\tallèle majeur patients \t\t \t|   \t|\n",
    "|----------\t|--------------\t|-----------\t|------------------\t|-------------------------\t|--------\t|---------------\t|-------------------------------------------------\t|-------------------------------\t|---\t|\n",
    "|  \t\t\tCMH \t\t    \t|  \t\t\trs6916742 \t\t  \t|  \t\t\tC>T \t\t     \t|  \t\t\t0.24 \t\t           \t|  \t\t\t4.17<br> \t\t\t<br> \t\t\t=1/0.24 \t\t \t|  \t\t\t0.39 \t\t \t|  \t\t\t0.61 \t\t        \t|  \t\t\t0.13<br> \t\t\t<br> \t\t\t=0.39*0.24(1-0.39+0.39*0.24) \t\t    \t|  \t\t\t0.87 \t\t                        \t|   \t|\n",
    "|  \t\t\tINS \t\t    \t|  \t\t\trs689 \t\t      \t|  \t\t\tT>A \t\t     \t|  \t\t\t0.42 \t\t           \t|  \t\t\t2.38<br> \t\t\t<br> \t\t\t=1/0.42 \t\t \t|  \t\t\t0.30 \t\t \t|  \t\t\t0.70 \t\t        \t|  \t\t\t0.15<br> \t\t\t<br> \t\t\t=(0.3*0.42)/(1-0.3+(0.3*0.42)) \t\t  \t|  \t\t\t0.85 \t\t                        \t|   \t|\n",
    "|  \t\t\tPTPN22 \t\t \t|  \t\t\trs \t\t\t2476601 \t\t \t|  \t\t\tG>A \t\t     \t|  \t\t\t1.89 \t\t           \t|  \t\t\tinutile \t\t               \t|  \t\t\t0.09 \t\t \t|  \t\t\tinutile \t\t     \t|  \t\t\t0.16<br> \t\t\t<br> \t\t\t=(0.09*1.89)/(1-0.09+0.09*1.89) \t\t \t|  \t\t\tinutile \t\t                     \t|   \t|"
   ]
  },
  {
   "cell_type": "markdown",
   "metadata": {},
   "source": [
    "A présent vous pouvez calculer la puissance de détecter ces mêmes effets ou des effets d'amplitude similaire, connaissant la fréquence de l'allèle de risque associé et l'OR.\n",
    "\n",
    "Il existe plusieurs outils permettant de calculer la puissance dans le cas d'un test d'association génétique, tels que:\n",
    "<br>- Genetic Power Calculator : http://zzz.bwh.harvard.edu/gpc/\n",
    "<br>- Quanto : http://biostats.usc.edu/Quanto.html\n",
    "<br>- GAS Power Calculator: https://csg.sph.umich.edu/abecasis/gas_power_calculator/index.html\n",
    "Leur utilisation n'est pas si simple car elle ne prend pas en compte les 3 seuls paramètres: OR, fréquence et taille pour déterminer la puissance. Ils prennent également en paramètre d'entrée la prévalence de la maladie (afin de déduire le nombre de contrôles en réalité atteints). Ils peuvent considérer si le SNP testé est le variant causal ou s'il est en DL avec le causal. Il faut alors renseigner soir le DL soit les fréquences génotypiques ou alléliques au SNP testé en plus du causal. Ces outils peuvent aussi prendre en compte différents modèles (additif, dominant, etc...) voire des effets de l'environnement et des interactions. De plus, ils ne prennent pas directement en compte l'OR mais d'autres valeurs d'effet comme le risque relatif par génotype.\n",
    "\n",
    "Dans ce TP, nous avons décidé d'utiliser un paquet de R dédié au calcul de puissance pour les tests statistiques classiques: \"pwr\" : http://cran.r-project.org/web/packages/pwr/index.html. Ce paquet présente un double avantage: (i) il est générique donc utilisable  en dehors d'un contexte génétique; (ii) il permet de générer une courbe de la puissance en fonction de la taille d'échantillon en une commande.\n",
    "\n",
    "Installons le paquet pwr:"
   ]
  },
  {
   "cell_type": "code",
   "execution_count": 7,
   "metadata": {},
   "outputs": [
    {
     "name": "stderr",
     "output_type": "stream",
     "text": [
      "R[write to console]: Installing package into ‘/srv/home/cvandiedonck/R/x86_64-conda_cos6-linux-gnu-library/4.0’\n",
      "(as ‘lib’ is unspecified)\n",
      "\n"
     ]
    },
    {
     "name": "stdout",
     "output_type": "stream",
     "text": [
      "--- Please select a CRAN mirror for use in this session ---\n",
      "Secure CRAN mirrors \n",
      "\n",
      " 1: 0-Cloud [https]\n",
      " 2: Australia (Canberra) [https]\n",
      " 3: Australia (Melbourne 1) [https]\n",
      " 4: Australia (Melbourne 2) [https]\n",
      " 5: Australia (Perth) [https]\n",
      " 6: Austria [https]\n",
      " 7: Belgium (Brussels) [https]\n",
      " 8: Brazil (PR) [https]\n",
      " 9: Brazil (RJ) [https]\n",
      "10: Brazil (SP 1) [https]\n",
      "11: Brazil (SP 2) [https]\n",
      "12: Bulgaria [https]\n",
      "13: Canada (MB) [https]\n",
      "14: Canada (ON 2) [https]\n",
      "15: Canada (ON 3) [https]\n",
      "16: Chile (Santiago) [https]\n",
      "17: China (Beijing 2) [https]\n",
      "18: China (Hefei) [https]\n",
      "19: China (Hong Kong) [https]\n",
      "20: China (Guangzhou) [https]\n",
      "21: China (Lanzhou) [https]\n",
      "22: China (Nanjing) [https]\n",
      "23: China (Shanghai 1) [https]\n",
      "24: China (Shanghai 2) [https]\n",
      "25: China (Shenzhen) [https]\n",
      "26: Costa Rica [https]\n",
      "27: Cyprus [https]\n",
      "28: Czech Republic [https]\n",
      "29: Denmark [https]\n",
      "30: East Asia [https]\n",
      "31: Ecuador (Cuenca) [https]\n",
      "32: Ecuador (Quito) [https]\n",
      "33: Estonia [https]\n",
      "34: France (Lyon 1) [https]\n",
      "35: France (Lyon 2) [https]\n",
      "36: France (Marseille) [https]\n",
      "37: France (Montpellier) [https]\n",
      "38: France (Paris 1) [https]\n",
      "39: Germany (Erlangen) [https]\n",
      "40: Germany (Leipzig) [https]\n",
      "41: Germany (Göttingen) [https]\n",
      "42: Germany (Münster) [https]\n",
      "43: Germany (Regensburg) [https]\n",
      "44: Greece [https]\n",
      "45: Hungary [https]\n",
      "46: Iceland [https]\n",
      "47: India [https]\n",
      "48: Indonesia (Jakarta) [https]\n",
      "49: Iran [https]\n",
      "50: Italy (Milano) [https]\n",
      "51: Italy (Padua) [https]\n",
      "52: Japan (Tokyo) [https]\n",
      "53: Korea (Gyeongsan-si) [https]\n",
      "54: Korea (Seoul 1) [https]\n",
      "55: Korea (Ulsan) [https]\n",
      "56: Malaysia [https]\n",
      "57: Mexico (Mexico City) [https]\n",
      "58: Mexico (Texcoco) [https]\n",
      "59: Morocco [https]\n",
      "60: Netherlands [https]\n",
      "61: New Zealand [https]\n",
      "62: Norway [https]\n",
      "63: Russia (Moscow) [https]\n",
      "64: South Africa (Johannesburg) [https]\n",
      "65: Spain (A Coruña) [https]\n",
      "66: Spain (Madrid) [https]\n",
      "67: Sweden (Borås) [https]\n",
      "68: Sweden (Umeå) [https]\n",
      "69: Switzerland [https]\n",
      "70: Taiwan (Taipei) [https]\n",
      "71: Turkey (Denizli) [https]\n",
      "72: Turkey (Istanbul) [https]\n",
      "73: Turkey (Mersin) [https]\n",
      "74: UK (Bristol) [https]\n",
      "75: UK (London 1) [https]\n",
      "76: USA (IA) [https]\n",
      "77: USA (KS) [https]\n",
      "78: USA (MI) [https]\n",
      "79: USA (OH) [https]\n",
      "80: USA (OR) [https]\n",
      "81: USA (TN) [https]\n",
      "82: USA (TX 1) [https]\n",
      "83: Uruguay [https]\n",
      "84: (other mirrors)\n",
      "\n"
     ]
    },
    {
     "name": "stdin",
     "output_type": "stream",
     "text": [
      "Selection:  1\n"
     ]
    },
    {
     "name": "stderr",
     "output_type": "stream",
     "text": [
      "R[write to console]: trying URL 'https://cloud.r-project.org/src/contrib/pwr_1.3-0.tar.gz'\n",
      "\n",
      "R[write to console]: Content type 'application/x-gzip'\n",
      "R[write to console]:  length 80426 bytes (78 KB)\n",
      "\n",
      "R[write to console]: =\n",
      "R[write to console]: =\n",
      "R[write to console]: =\n",
      "R[write to console]: =\n",
      "R[write to console]: =\n",
      "R[write to console]: =\n",
      "R[write to console]: =\n",
      "R[write to console]: =\n",
      "R[write to console]: =\n",
      "R[write to console]: =\n",
      "R[write to console]: =\n",
      "R[write to console]: =\n",
      "R[write to console]: =\n",
      "R[write to console]: =\n",
      "R[write to console]: =\n",
      "R[write to console]: =\n",
      "R[write to console]: =\n",
      "R[write to console]: =\n",
      "R[write to console]: =\n",
      "R[write to console]: =\n",
      "R[write to console]: =\n",
      "R[write to console]: =\n",
      "R[write to console]: =\n",
      "R[write to console]: =\n",
      "R[write to console]: =\n",
      "R[write to console]: =\n",
      "R[write to console]: =\n",
      "R[write to console]: =\n",
      "R[write to console]: =\n",
      "R[write to console]: =\n",
      "R[write to console]: =\n",
      "R[write to console]: =\n",
      "R[write to console]: =\n",
      "R[write to console]: =\n",
      "R[write to console]: =\n",
      "R[write to console]: =\n",
      "R[write to console]: =\n",
      "R[write to console]: =\n",
      "R[write to console]: =\n",
      "R[write to console]: =\n",
      "R[write to console]: =\n",
      "R[write to console]: =\n",
      "R[write to console]: =\n",
      "R[write to console]: =\n",
      "R[write to console]: =\n",
      "R[write to console]: =\n",
      "R[write to console]: =\n",
      "R[write to console]: =\n",
      "R[write to console]: =\n",
      "R[write to console]: =\n",
      "R[write to console]: \n",
      "\n",
      "R[write to console]: downloaded 78 KB\n",
      "\n",
      "\n",
      "R[write to console]: \n",
      "\n",
      "R[write to console]: \n",
      "R[write to console]: The downloaded source packages are in\n",
      "\t‘/tmp/RtmpFt3vH0/downloaded_packages’\n",
      "R[write to console]: \n",
      "R[write to console]: \n",
      "\n"
     ]
    },
    {
     "name": "stdout",
     "output_type": "stream",
     "text": [
      "R version 4.0.2 (2020-06-22)\n",
      "Platform: x86_64-conda_cos6-linux-gnu (64-bit)\n",
      "Running under: Ubuntu 18.04.4 LTS\n",
      "\n",
      "Matrix products: default\n",
      "BLAS/LAPACK: /srv/conda/envs/notebook/lib/libopenblasp-r0.3.12.so\n",
      "\n",
      "locale:\n",
      " [1] LC_CTYPE=en_US.UTF-8       LC_NUMERIC=C              \n",
      " [3] LC_TIME=en_US.UTF-8        LC_COLLATE=en_US.UTF-8    \n",
      " [5] LC_MONETARY=en_US.UTF-8    LC_MESSAGES=en_US.UTF-8   \n",
      " [7] LC_PAPER=en_US.UTF-8       LC_NAME=C                 \n",
      " [9] LC_ADDRESS=C               LC_TELEPHONE=C            \n",
      "[11] LC_MEASUREMENT=en_US.UTF-8 LC_IDENTIFICATION=C       \n",
      "\n",
      "attached base packages:\n",
      "[1] tools     stats     graphics  grDevices utils     datasets  methods  \n",
      "[8] base     \n",
      "\n",
      "other attached packages:\n",
      "[1] pwr_1.3-0\n",
      "\n",
      "loaded via a namespace (and not attached):\n",
      "[1] compiler_4.0.2\n"
     ]
    }
   ],
   "source": [
    "%%R\n",
    "# votre code R\n",
    "install.packages(\"pwr\")\n",
    "library(pwr)\n",
    "sessionInfo()"
   ]
  },
  {
   "cell_type": "markdown",
   "metadata": {},
   "source": [
    "Nous l'utiliserons dans le contexte d'un test statistique du Chi2 à 1 degré de liberté que nous pouvons utiliser pour un test allélique. La fonction est `pwr.chisq.test()`.\n",
    "Les arguments que nous devons renseigner sont:\n",
    "\n",
    "- N: la taille totale des échantillons \n",
    "- sig.levl : le degré de signification (vous utiliserez le seuil de p-value corrigé pour un GWAS, c'est-à-dire 5x10-8)\n",
    "- w: l'effect size selon la définition de Cohen.\n",
    "\n",
    "L'`effect size` peut se mesure de différentes façons dans un test statistique. En génétique, on choisit plutôt l'OR que la différence entre les fréquences alléliques théoriques chez les cas et contrôles. Plus classiquement, cette mesure de l'amplitude de l'effet peut être mesurée par la valeur `d` de Cohen. C'est celle qui est implémentée dans ce paquet. Il n'est pas nécessaire de rentrer dans le détail de cette mesure mais vous pouvez trouver au lien suivant un outil en ligne pour obtenir les conversions d'un OR en valuer d de Cohen ou tout autre mesure de la taille de l'effet: https://www.escal.site/\n",
    "\n",
    "Nous calculerons l'effect size `d` directement dans R au moyen de la formule le reliant à l'OR:</p> \n",
    "\t\t\t\t\t\t\n",
    "> d <- sqrt(3)*ln(OR)/pi\n",
    "\n",
    "Voici ci-dessous les commandes pour calculer la puissance pour la région du CMH à partir d'une taille d'échantillon de 100 et pour générer la courbe puissance ~ taille de l'échantillon:"
   ]
  },
  {
   "cell_type": "code",
   "execution_count": 8,
   "metadata": {},
   "outputs": [
    {
     "name": "stdout",
     "output_type": "stream",
     "text": [
      "[1] 0.7872514\n",
      "\n",
      "     Chi squared power calculation \n",
      "\n",
      "              w = 0.7872514\n",
      "              N = 100\n",
      "             df = 1\n",
      "      sig.level = 5e-08\n",
      "          power = 0.9922654\n",
      "\n",
      "NOTE: N is the number of observations\n",
      "\n"
     ]
    },
    {
     "data": {
      "image/png": "[encoded data removed]"
     },
     "metadata": {},
     "output_type": "display_data"
    }
   ],
   "source": [
    "%%R\n",
    "# votre code R\n",
    "d_cmh <- sqrt(3)*log(4.17)/pi\n",
    "print(d_cmh)\n",
    "print(pwr.chisq.test(w = d_cmh, df = 1, N = 100, sig.level = 5e-8))\n",
    "\n",
    "plot(pwr.chisq.test(w = d_cmh, df = 1, power = 0.80, sig.level = 5e-8), main=\"CMH\")"
   ]
  },
  {
   "cell_type": "markdown",
   "metadata": {},
   "source": [
    "#### **Q1.9:** Pour le CMH et les deux régions des gènes de l'INS et PTPN22, complétez les colonnes du Tableau 2 à partir des valeurs de l'article Onengut-Gumuscu et al. 2015 et tracez la courbe puissance ~ taille échantillon."
   ]
  },
  {
   "cell_type": "markdown",
   "metadata": {},
   "source": [
    "<center><b>Tableau 2.</b> Puissance pour les différents effectifs</center>"
   ]
  },
  {
   "cell_type": "markdown",
   "metadata": {},
   "source": [
    "|  \t\t\trégion \t\t \t|  \t\t\t50 \t\t     \t|  \t\t\t100 \t\t    \t|  \t\t\t200 \t\t    \t|  \t\t\t300 \t\t    \t|  \t\t\t500 \t\t    \t|\n",
    "|----------\t|----------\t|----------\t|----------\t|----------\t|----------\t|\n",
    "|  \t\t\tCMH \t\t    \t|  \t\t\t55% \t\t \t|  \t\t\t99% \t\t \t|  \t\t\t100% \t\t \t|  \t\t\t100% \t\t \t|  \t\t\t100% \t\t   \t|  \t\t\t100% \t\t  \t|  \t\t\t<br>  \t\t\t \t\t \t|  \t\t\t<br>  \t\t\t \t\t \t|  \t\t\t<br>  \t\t\t \t\t \t|\n",
    "|  \t\t\tINS \t\t    \t|  \t\t\t<br>  \t\t\t \t\t \t|  \t\t\t<br>  \t\t\t \t\t \t|  \t\t\t<br>  \t\t\t \t\t \t|  \t\t\t<br>  \t\t\t \t\t \t|  \t\t\t<br>  \t\t\t \t\t \t|  \t\t\t<br>  \t\t\t \t\t \t|  \t\t\t<br>  \t\t\t \t\t \t|  \t\t\t<br>  \t\t\t \t\t \t|  \t\t\t<br>  \t\t\t \t\t \t|\n",
    "|  \t\t\tPTPN22 \t\t \t|  \t\t\t<br>  \t\t\t \t\t \t|  \t\t\t<br>  \t\t\t \t\t \t|  \t\t\t<br>  \t\t\t \t\t \t|  \t\t\t<br>  \t\t\t \t\t \t|  \t\t\t<br>  \t\t\t \t\t \t|  \t\t\t<br>  \t\t\t \t\t \t|  \t\t\t<br>  \t\t\t \t\t \t|  \t\t\t<br>  \t\t\t \t\t \t|  \t\t\t<br>  \t\t\t \t\t \t|\n",
    "|          \t|          \t|          \t|          \t|          \t|          \t|          \t|          \t|          \t|          \t|"
   ]
  },
  {
   "cell_type": "markdown",
   "metadata": {},
   "source": [
    "*solution*\n",
    "\n",
    "|  \t\t\trégion \t\t \t|  \t\t\t50 \t\t   \t|  \t\t\t100 \t\t  \t|  \t\t\t200 \t\t   \t|  \t\t\t300 \t\t   \t|  \t\t\t500 \t\t   \t|\n",
    "|----------\t|--------\t|--------\t|---------\t|---------\t|---------\t|\n",
    "|  \t\t\tCMH \t\t    \t|  \t\t\t55% \t\t \t|  \t\t\t99% \t\t \t|  \t\t\t100% \t\t \t|  \t\t\t100% \t\t \t|  \t\t\t100% \t\t   \t|  \t\t\t100% \t\t  \t|  \t\t\t<br>  \t\t\t \t\t \t|  \t\t\t<br>  \t\t\t \t\t \t|  \t\t\t<br>  \t\t\t \t\t \t|\n",
    "|  \t\t\tINS \t\t    \t|  \t\t\t2% \t\t   \t|  \t\t\t25% \t\t \t|  \t\t\t90% \t\t  \t|  \t\t\t99.8% \t\t \t|  \t\t\t100% \t\t \t|  \t\t\t100% \t\t \t|  \t\t\t100% \t\t    \t|  \t\t\t<br>  \t\t\t \t\t \t|  \t\t\t<br>  \t\t\t \t\t \t|\n",
    "|  \t\t\tPTPN22 \t\t \t|  \t\t\t0.1% \t\t   \t|  \t\t\t2.6% \t\t   \t|  \t\t\t3% \t\t    \t|  \t\t\t73% \t\t  \t|  \t\t\t99.2% \t\t  \t|  \t\t\t23.5 \t\t \t|  \t\t\t89.4 \t\t   \t|  \t\t\t99.7 \t\t   \t|  \t\t\t100 \t\t    \t|"
   ]
  },
  {
   "cell_type": "code",
   "execution_count": 9,
   "metadata": {},
   "outputs": [
    {
     "name": "stdout",
     "output_type": "stream",
     "text": [
      "CMH[1] 50\n",
      "\n",
      "     Chi squared power calculation \n",
      "\n",
      "              w = 0.7872514\n",
      "              N = 50\n",
      "             df = 1\n",
      "      sig.level = 5e-08\n",
      "          power = 0.5459349\n",
      "\n",
      "NOTE: N is the number of observations\n",
      "\n",
      "[1] 100\n",
      "\n",
      "     Chi squared power calculation \n",
      "\n",
      "              w = 0.7872514\n",
      "              N = 100\n",
      "             df = 1\n",
      "      sig.level = 5e-08\n",
      "          power = 0.9922654\n",
      "\n",
      "NOTE: N is the number of observations\n",
      "\n",
      "[1] 200\n",
      "\n",
      "     Chi squared power calculation \n",
      "\n",
      "              w = 0.7872514\n",
      "              N = 200\n",
      "             df = 1\n",
      "      sig.level = 5e-08\n",
      "          power = 1\n",
      "\n",
      "NOTE: N is the number of observations\n",
      "\n",
      "[1] 300\n",
      "\n",
      "     Chi squared power calculation \n",
      "\n",
      "              w = 0.7872514\n",
      "              N = 300\n",
      "             df = 1\n",
      "      sig.level = 5e-08\n",
      "          power = 1\n",
      "\n",
      "NOTE: N is the number of observations\n",
      "\n",
      "[1] 500\n",
      "\n",
      "     Chi squared power calculation \n",
      "\n",
      "              w = 0.7872514\n",
      "              N = 500\n",
      "             df = 1\n",
      "      sig.level = 5e-08\n",
      "          power = 1\n",
      "\n",
      "NOTE: N is the number of observations\n",
      "\n",
      "INS[1] 0.4780576\n",
      "[1] 50\n",
      "\n",
      "     Chi squared power calculation \n",
      "\n",
      "              w = 0.4780576\n",
      "              N = 50\n",
      "             df = 1\n",
      "      sig.level = 5e-08\n",
      "          power = 0.01918253\n",
      "\n",
      "NOTE: N is the number of observations\n",
      "\n",
      "[1] 100\n",
      "\n",
      "     Chi squared power calculation \n",
      "\n",
      "              w = 0.4780576\n",
      "              N = 100\n",
      "             df = 1\n",
      "      sig.level = 5e-08\n",
      "          power = 0.2511947\n",
      "\n",
      "NOTE: N is the number of observations\n",
      "\n",
      "[1] 200\n",
      "\n",
      "     Chi squared power calculation \n",
      "\n",
      "              w = 0.4780576\n",
      "              N = 200\n",
      "             df = 1\n",
      "      sig.level = 5e-08\n",
      "          power = 0.9048081\n",
      "\n",
      "NOTE: N is the number of observations\n",
      "\n",
      "[1] 300\n",
      "\n",
      "     Chi squared power calculation \n",
      "\n",
      "              w = 0.4780576\n",
      "              N = 300\n",
      "             df = 1\n",
      "      sig.level = 5e-08\n",
      "          power = 0.9976645\n",
      "\n",
      "NOTE: N is the number of observations\n",
      "\n",
      "[1] 500\n",
      "\n",
      "     Chi squared power calculation \n",
      "\n",
      "              w = 0.4780576\n",
      "              N = 500\n",
      "             df = 1\n",
      "      sig.level = 5e-08\n",
      "          power = 0.9999999\n",
      "\n",
      "NOTE: N is the number of observations\n",
      "\n",
      "PTPN22[1] 0.3509632\n",
      "[1] 50\n",
      "\n",
      "     Chi squared power calculation \n",
      "\n",
      "              w = 0.3509632\n",
      "              N = 50\n",
      "             df = 1\n",
      "      sig.level = 5e-08\n",
      "          power = 0.001490813\n",
      "\n",
      "NOTE: N is the number of observations\n",
      "\n",
      "[1] 100\n",
      "\n",
      "     Chi squared power calculation \n",
      "\n",
      "              w = 0.3509632\n",
      "              N = 100\n",
      "             df = 1\n",
      "      sig.level = 5e-08\n",
      "          power = 0.02608802\n",
      "\n",
      "NOTE: N is the number of observations\n",
      "\n",
      "[1] 200\n",
      "\n",
      "     Chi squared power calculation \n",
      "\n",
      "              w = 0.3509632\n",
      "              N = 200\n",
      "             df = 1\n",
      "      sig.level = 5e-08\n",
      "          power = 0.3127957\n",
      "\n",
      "NOTE: N is the number of observations\n",
      "\n",
      "[1] 300\n",
      "\n",
      "     Chi squared power calculation \n",
      "\n",
      "              w = 0.3509632\n",
      "              N = 300\n",
      "             df = 1\n",
      "      sig.level = 5e-08\n",
      "          power = 0.7348508\n",
      "\n",
      "NOTE: N is the number of observations\n",
      "\n",
      "[1] 500\n",
      "\n",
      "     Chi squared power calculation \n",
      "\n",
      "              w = 0.3509632\n",
      "              N = 500\n",
      "             df = 1\n",
      "      sig.level = 5e-08\n",
      "          power = 0.991723\n",
      "\n",
      "NOTE: N is the number of observations\n",
      "\n"
     ]
    }
   ],
   "source": [
    "%%R\n",
    "cat(\"CMH\")\n",
    "for (i in c(50,100,200,300,500)){\n",
    "   print(i)\n",
    "    print(pwr.chisq.test(w=d_cmh,df=1, N=i, sig.level=5e-8))\n",
    "}\n",
    "\n",
    "cat(\"INS\")\n",
    "d_ins <- sqrt(3)*log(2.38)/pi\n",
    "print(d_ins)\n",
    "\n",
    "for (i in c(50,100,200,300,500)){\n",
    "   print(i)\n",
    "    print(pwr.chisq.test(w=d_ins,df=1, N=i, sig.level=5e-8))\n",
    "}\n",
    "\n",
    "cat(\"PTPN22\")\n",
    "d_ptpn22 <- sqrt(3)*log(1.89)/pi\n",
    "print(d_ptpn22)\n",
    "\n",
    "for (i in c(50,100,200,300,500)){\n",
    "   print(i)\n",
    "    print(pwr.chisq.test(w=d_ptpn22,df=1, N=i, sig.level=5e-8))\n",
    "}\n",
    "\n"
   ]
  },
  {
   "cell_type": "code",
   "execution_count": 10,
   "metadata": {},
   "outputs": [
    {
     "data": {
      "image/png": "[encoded data removed]"
     },
     "metadata": {},
     "output_type": "display_data"
    },
    {
     "data": {
      "image/png": "[encoded data removed]"
     },
     "metadata": {},
     "output_type": "display_data"
    },
    {
     "data": {
      "image/png": "[encoded data removed]"
     },
     "metadata": {},
     "output_type": "display_data"
    }
   ],
   "source": [
    "%%R\n",
    "# votre code R\n",
    "print(plot(pwr.chisq.test(w=0.78, df=1, power = 0.80,sig.level=5e-8), main=\"CMH\"))\n",
    "print(plot(pwr.chisq.test(w=0.47,df=1, power = 0.80,sig.level=5e-8), main=\"INS\"))\n",
    "print(plot(pwr.chisq.test(w=0.35, df=1, power = 0.80,sig.level=5e-8), main=\"PTPN22\"))"
   ]
  },
  {
   "cell_type": "markdown",
   "metadata": {},
   "source": [
    "#### **Q1.10:** Commentez les résultats."
   ]
  },
  {
   "cell_type": "markdown",
   "metadata": {},
   "source": [
    "<div class=\"alert alert-block alert-warning\"><b>En pratique</b><br>\n",
    "⚠️  On calcule la puissance avant tout projet afin de connaitre la taille des échantillons recquise pour mettre en évidence un effet minimum. Cependant, on recalcule la puissance à la fin de l'étude en fonction des fréquences alléliques effectivement estimées dans notre échantillon afin de s'assurer, en cas d'absence d'association, qu'on avait bien la puissance nécessaire. Pensez-y pour votre compte-rendu!</div>"
   ]
  },
  {
   "cell_type": "markdown",
   "metadata": {},
   "source": [
    "---"
   ]
  },
  {
   "cell_type": "markdown",
   "metadata": {},
   "source": [
    "<div class=\"alert alert-block alert-success\"><b>=> Bravo!</b><br>\n",
    "\n",
    "Vous êtes désormais prêts pour mener le GWAS \"acs-contrôles\". Suite du TP dans le prochain notebook!</div>"
   ]
  }
 ],
 "metadata": {
  "kernelspec": {
   "display_name": "Python 3 (ipykernel)",
   "language": "python",
   "name": "python3"
  },
  "language_info": {
   "codemirror_mode": {
    "name": "ipython",
    "version": 3
   },
   "file_extension": ".py",
   "mimetype": "text/x-python",
   "name": "python",
   "nbconvert_exporter": "python",
   "pygments_lexer": "ipython3",
   "version": "3.10.0"
  }
 },
 "nbformat": 4,
 "nbformat_minor": 4
}
