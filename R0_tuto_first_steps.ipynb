{
 "cells": [
  {
   "cell_type": "markdown",
   "metadata": {},
   "source": [
    "# __R Session n°0 :__\n",
    "M1 MEG UE5 - Claire Vandiedonck\n",
    "***\n",
    "\n",
    "## **tutorial on 1st steps with R**\n",
    "\n",
    "*Content of this tutorial:*\n",
    "\n",
    "1. R as a calculator \n",
    "2. Assigning data to R objects, using and reading them  \n",
    "3. Managing your session\n",
    "4. Managing objects in your R Session\n",
    "5. Saving your data, session, and history"
   ]
  },
  {
   "cell_type": "markdown",
   "metadata": {},
   "source": [
    "---\n",
    "## Avant d'aller plus loin\n",
    "\n",
    "<div class=\"alert alert-block alert-danger\"><b>Attention:</b> \n",
    "Ne travaillez pas directement sur ce notebook pour ne pas le perdre. Dupliquez-le et renommez-le par exemple en ajoutant vos initiales et travaillez sur cette nouvelle copie. Pour ce faire, dans le panneau de gauche, faites un clic droit sur le fichier et sélectionnez \"Duplicate\". Puis, toujours dans la colonne de gauche, faites un clic droit sur cette copie et sélectionnez \"rename\" pour changer le nom. Ouvrez ensuite cette nouvelle version en double cliquant dessus. Vous êtes prêt(e) à démarrer! <br>\n",
    "<br>\n",
    "<b>N'oubliez pas de sauvegarder régulièrement votre notebook</b>: <kbd>Ctrl</kbd> + <kbd>S</kbd>. ou en cliquant sur l'icone 💾 en haut à gauche de votre notebook ou dans le Menu du JupyterLab \"File puis \"Save Notebook\"!\n",
    "</div>\n",
    " "
   ]
  },
  {
   "cell_type": "markdown",
   "metadata": {},
   "source": [
    "__*=> About this jupyter notebook*__\n",
    "\n",
    "This a jupyter notebook in **R**, meaning that the commands you will enter or run in `Code` cells are directly understood by the server in the R language.\n",
    "<br>You could run the same commands in a Terminal or in RStudio. \n",
    "\n",
    "\n",
    "> In this tutorial, you will run one cell at a time.    \n",
    "\n"
   ]
  },
  {
   "cell_type": "markdown",
   "metadata": {},
   "source": [
    "<div class=\"alert alert-block alert-warning\"><b>Warning:</b> you are strongly advised to run the cells in the indicated order. If you want to rerun cells above, you can just restart the kernel to start at 1 again. </div>"
   ]
  },
  {
   "cell_type": "markdown",
   "metadata": {},
   "source": [
    "## **I. Some reminders on R basics**\n",
    "---\n",
    "---"
   ]
  },
  {
   "cell_type": "markdown",
   "metadata": {
    "tags": []
   },
   "source": [
    "### **I.0 What is R ?**\n",
    "---\n",
    "\n",
    "R is available on this website: https://www.r-project.org\n",
    "\n",
    "The language is:\n",
    "- open-source\n",
    "- available for Windows, Mac and Unix\n",
    "- widely used in academia, finance, pharma, social sciences...\n",
    "\n",
    "R is a statsitical programming language. This project started in 1993. We are currently at version 4.0.4 (15/02/2021). There is a new release twice a year."
   ]
  },
  {
   "cell_type": "markdown",
   "metadata": {},
   "source": [
    "R includes a \"core language\" called `R base` with more than 3000 contributed packages. A package is a set of functions.\n",
    "\n",
    "R can be used for:\n",
    "1. data manipulation: import, format, edit, export\n",
    "2. statistics\n",
    "3. avdanced graphics\n",
    "\n",
    "***Some useful links***\n",
    "- Quick R: https://www.statmethods.net/index.html\n",
    "- Emmanuel Paradis tutorial: [in French](https://cran.r-project.org/doc/contrib/Paradis-rdebuts_fr.pdf) or [in English](https://cran.r-project.org/doc/contrib/Paradis-rdebuts_en.pdf)\n",
    "- R cheatsheet: https://rstudio.com/resources/cheatsheets/\n",
    "- R style guide: https://google.github.io/styleguide/Rguide.html"
   ]
  },
  {
   "cell_type": "markdown",
   "metadata": {},
   "source": [
    "### **I.1 - R as a calulator**\n",
    "---\n",
    "\n",
    "Some very simple examples**"
   ]
  },
  {
   "cell_type": "markdown",
   "metadata": {},
   "source": [
    "You can directly use R to perform mathematic operations with usual operators: `+`, `-`, `*` to multiply,`^` to raise to the power, `/` to divide, `%%` to get the modulo."
   ]
  },
  {
   "cell_type": "code",
   "execution_count": null,
   "metadata": {},
   "outputs": [],
   "source": [
    "2+2\n",
    "2-3\n",
    "6/2\n",
    "10/3\n",
    "10%%3"
   ]
  },
  {
   "cell_type": "markdown",
   "metadata": {},
   "source": [
    "You can use built-in functions like `round()`,`log()`, `mean`...\n"
   ]
  },
  {
   "cell_type": "code",
   "execution_count": null,
   "metadata": {},
   "outputs": [],
   "source": [
    "mean(c(1,2)) # we will see we need to put concatenate different values with a c() first\n",
    "exp(-2)"
   ]
  },
  {
   "cell_type": "markdown",
   "metadata": {},
   "source": [
    "You can nest functions, in the following example, `exp()` is nested in `round()`"
   ]
  },
  {
   "cell_type": "code",
   "execution_count": null,
   "metadata": {},
   "outputs": [],
   "source": [
    "round(exp(-2), 2)"
   ]
  },
  {
   "cell_type": "markdown",
   "metadata": {},
   "source": [
    "For some functions, you need to enter several arguments. In the example below, we add the `base` argument for the `log()` function."
   ]
  },
  {
   "cell_type": "code",
   "execution_count": null,
   "metadata": {},
   "outputs": [],
   "source": [
    "log(100,base=10) #we want to get the log of 100 in base 10 "
   ]
  },
  {
   "cell_type": "markdown",
   "metadata": {},
   "source": [
    "***Getting help on functions:***\n",
    "\n",
    "To know which argument to use, it is recommanded to always look at the help of the functions. To do so, enter the name of the function after `?` or `help()` and the name of the function in the brackets. A help page will be displayed with different sections:\n",
    "\n",
    "- description: what is the purpose of the function?\n",
    "- usage: how is it used?\n",
    "- arguments: which parameters are used by the function. Default values may be specified.\n",
    "- details: technical description of the function\n",
    "- value: type of the output returned by the function\n",
    "- see also: similar functions in R\n",
    "- source/references: not always\n",
    "- example: concrete examples -> the best way to learn how it works!"
   ]
  },
  {
   "cell_type": "code",
   "execution_count": null,
   "metadata": {
    "tags": []
   },
   "outputs": [],
   "source": [
    "help(round)"
   ]
  },
  {
   "cell_type": "code",
   "execution_count": null,
   "metadata": {
    "tags": []
   },
   "outputs": [],
   "source": [
    "?exp"
   ]
  },
  {
   "cell_type": "markdown",
   "metadata": {},
   "source": [
    "### **I-2 - Assigning data into R objects, using and reading them**\n",
    "---"
   ]
  },
  {
   "cell_type": "markdown",
   "metadata": {},
   "source": [
    "We can store values in R objects/variables to reuse them in another command.\n",
    "To do so, use `<-` made with `<` and `-`. *An alternative is to use `=`. For code clarity, it is not recommanded.*\n",
    "\n",
    "Let's assign for example `2` to `x`:"
   ]
  },
  {
   "cell_type": "code",
   "execution_count": null,
   "metadata": {},
   "outputs": [],
   "source": [
    "x <- 2"
   ]
  },
  {
   "cell_type": "markdown",
   "metadata": {},
   "source": [
    "To know what is in `x` just enter `x`:"
   ]
  },
  {
   "cell_type": "code",
   "execution_count": null,
   "metadata": {},
   "outputs": [],
   "source": [
    "x"
   ]
  },
  {
   "cell_type": "markdown",
   "metadata": {},
   "source": [
    "We can do operations on x:"
   ]
  },
  {
   "cell_type": "code",
   "execution_count": null,
   "metadata": {},
   "outputs": [],
   "source": [
    "x + x"
   ]
  },
  {
   "cell_type": "markdown",
   "metadata": {},
   "source": [
    "You can then assign an operation with `x` to `y` ."
   ]
  },
  {
   "cell_type": "code",
   "execution_count": null,
   "metadata": {},
   "outputs": [],
   "source": [
    "y <- x + 3"
   ]
  },
  {
   "cell_type": "markdown",
   "metadata": {},
   "source": [
    "To get the result y, enter it in the next command:"
   ]
  },
  {
   "cell_type": "code",
   "execution_count": null,
   "metadata": {},
   "outputs": [],
   "source": [
    "y"
   ]
  },
  {
   "cell_type": "code",
   "execution_count": null,
   "metadata": {},
   "outputs": [],
   "source": [
    "x <- 4\n",
    "y"
   ]
  },
  {
   "cell_type": "markdown",
   "metadata": {},
   "source": [
    "<div class=\"alert alert-block alert-danger\"><b>Caution:</b> \n",
    "If you assign a new value to x, y will not change because the result of the operation x+3 was stored in y, not the operation \"x + 3\" itself.\n",
    "</div>"
   ]
  },
  {
   "cell_type": "markdown",
   "metadata": {},
   "source": [
    "So you would have to rerun the command assigning `x+3` to y to change the value of y."
   ]
  },
  {
   "cell_type": "code",
   "execution_count": null,
   "metadata": {},
   "outputs": [],
   "source": [
    "y <- x + 3\n",
    "y"
   ]
  },
  {
   "cell_type": "markdown",
   "metadata": {},
   "source": [
    "In addition to numeric values, we can store other kind of data in an object. For example we will put a string of character in s. Strings of characters have to be entered between \"quotes\""
   ]
  },
  {
   "cell_type": "code",
   "execution_count": null,
   "metadata": {},
   "outputs": [],
   "source": [
    "s <- \"this is a string of characters\"\n",
    "s"
   ]
  },
  {
   "cell_type": "markdown",
   "metadata": {},
   "source": [
    "Of note, you can check the type of an R object using `class()`."
   ]
  },
  {
   "cell_type": "code",
   "execution_count": null,
   "metadata": {},
   "outputs": [],
   "source": [
    "class(x)\n",
    "class(s)"
   ]
  },
  {
   "cell_type": "markdown",
   "metadata": {},
   "source": [
    "It is important that numeric values are well encoded as numeric in R and not as strings of characters. Y"
   ]
  },
  {
   "cell_type": "code",
   "execution_count": null,
   "metadata": {},
   "outputs": [],
   "source": [
    "\"1\"\n",
    "class(\"1\")\n",
    "class(1)"
   ]
  },
  {
   "cell_type": "markdown",
   "metadata": {},
   "source": [
    "If you try to add `\"1\"` and 3,  an error message is returned here since we are trying to make an impossible operation:"
   ]
  },
  {
   "cell_type": "code",
   "execution_count": null,
   "metadata": {},
   "outputs": [],
   "source": [
    "try(\"1\" + 3)# I added the try function to avoid stopping the notebook if you want to run all the cells"
   ]
  },
  {
   "cell_type": "markdown",
   "metadata": {},
   "source": [
    "If you are using numeric variables, the operation can be done:"
   ]
  },
  {
   "cell_type": "code",
   "execution_count": null,
   "metadata": {},
   "outputs": [],
   "source": [
    "1 + 3"
   ]
  },
  {
   "cell_type": "markdown",
   "metadata": {},
   "source": [
    "\n",
    "\n",
    "### **I.3 - Managing your session**\n",
    "---"
   ]
  },
  {
   "cell_type": "markdown",
   "metadata": {},
   "source": [
    "When working with R, it is always a good practice to document the R version you are using and the packages that are loaded. The function is `sessionInfo()`."
   ]
  },
  {
   "cell_type": "code",
   "execution_count": null,
   "metadata": {},
   "outputs": [],
   "source": [
    "sessionInfo()"
   ]
  },
  {
   "cell_type": "markdown",
   "metadata": {},
   "source": [
    "As you can see, the version 4.1.3 is the one installed. By default, some \"base\" packages like stats are loaded. We will see in another R Session that we can load other packages.\n",
    "\n",
    "The command `getwd()` gives you the path of your working directory."
   ]
  },
  {
   "cell_type": "code",
   "execution_count": null,
   "metadata": {},
   "outputs": [],
   "source": [
    "getwd()"
   ]
  },
  {
   "cell_type": "markdown",
   "metadata": {},
   "source": [
    "<div class=\"alert alert-block alert-warning\"><b>The result should be like this:</b>`'/srv/home/cvandiedonck/name_of_your_environment'`.</div>"
   ]
  },
  {
   "cell_type": "markdown",
   "metadata": {},
   "source": [
    "If needed, you can change it to another directory with `setwd()`. For example in the directory containing this notebook like in the example below."
   ]
  },
  {
   "cell_type": "raw",
   "metadata": {},
   "source": [
    "setwd('/srv/home/cvandiedonck/megm1_ue5_r/R0') #change with your login!!!\n",
    "getwd() #change is visible"
   ]
  },
  {
   "cell_type": "markdown",
   "metadata": {},
   "source": [
    "\n",
    "### **I-4 - Managing objects in your R Session and working directory**\n",
    "___\n"
   ]
  },
  {
   "cell_type": "markdown",
   "metadata": {},
   "source": [
    "The objects `x`, `y`and `s`you have cretaed above are only present in your R session, but they are not written in your working directory on the computer -> they are not present in the left-hand panel of Jupyter Lab.\n",
    "\n",
    "So, to know which objects you have in your R session, you can use the same function as in Unix/bash to list the files. The only difference is that in R you add brackets to use functions."
   ]
  },
  {
   "cell_type": "code",
   "execution_count": null,
   "metadata": {},
   "outputs": [],
   "source": [
    "ls()"
   ]
  },
  {
   "cell_type": "markdown",
   "metadata": {},
   "source": [
    "<div class=\"alert alert-block alert-warning\"><b> Inspector Variable: </b> On this environment, you can also open a new tab in the Jupyter lab to inspect all R objects in your R session. To do so, right click on the notebook and select \"Open Variable Inspector\". You should see the same objects as the ones returned by the ls() commands with some additional information on their structure. </div>"
   ]
  },
  {
   "cell_type": "markdown",
   "metadata": {},
   "source": [
    "Similarly, you can get rid of an object with the function `rm()`."
   ]
  },
  {
   "cell_type": "code",
   "execution_count": null,
   "metadata": {},
   "outputs": [],
   "source": [
    "rm(y)\n",
    "ls()"
   ]
  },
  {
   "cell_type": "markdown",
   "metadata": {},
   "source": [
    "Conversely, you can also look at the data on your computer from R with the function `dir()` or `list.files()`. With the second function, you can add an argument to specify a pattern of interest."
   ]
  },
  {
   "cell_type": "code",
   "execution_count": null,
   "metadata": {},
   "outputs": [],
   "source": [
    "dir()"
   ]
  },
  {
   "cell_type": "code",
   "execution_count": null,
   "metadata": {},
   "outputs": [],
   "source": [
    "list.files(pattern=\".ipynb\")"
   ]
  },
  {
   "cell_type": "markdown",
   "metadata": {},
   "source": [
    "### **I.5 - Saving your data, session, and history**\n",
    "___\n"
   ]
  },
  {
   "cell_type": "markdown",
   "metadata": {},
   "source": [
    "Before quitting R, you will probably want to save objects and other session information on your computer to be able to find them again next time you use R.\n",
    "By default, all the data and files you save will be saved in your ***working directory***."
   ]
  },
  {
   "cell_type": "markdown",
   "metadata": {},
   "source": [
    "#### **a - Saving specific data *(or functions)***"
   ]
  },
  {
   "cell_type": "markdown",
   "metadata": {},
   "source": [
    "The function `save()` is used to save a specific object in your computer. You will have to give a name to the file on your computer. Generally, we save them with the extension `.RData`."
   ]
  },
  {
   "cell_type": "code",
   "execution_count": null,
   "metadata": {},
   "outputs": [],
   "source": [
    "save(x,file=\"x.RData\")"
   ]
  },
  {
   "cell_type": "markdown",
   "metadata": {},
   "source": [
    "With the above command, you should have created the file `x.Rdata` in your working directory. Check it is present on the left-hand panel of Jupyter Lab.<br>\n",
    "Now, if you remove `x` from your R session, you can load it back again with the `load()` function."
   ]
  },
  {
   "cell_type": "code",
   "execution_count": null,
   "metadata": {},
   "outputs": [],
   "source": [
    "rm(x)\n",
    "ls()"
   ]
  },
  {
   "cell_type": "code",
   "execution_count": null,
   "metadata": {},
   "outputs": [],
   "source": [
    "load(\"x.RData\")\n",
    "ls()\n",
    "x #x is again accessible"
   ]
  },
  {
   "cell_type": "markdown",
   "metadata": {},
   "source": [
    "You can also delete the file from the working directory with the function `file.remove()`."
   ]
  },
  {
   "cell_type": "code",
   "execution_count": null,
   "metadata": {},
   "outputs": [],
   "source": [
    "file.remove(\"x.RData\") #remove file: returns TRUE on successful removal"
   ]
  },
  {
   "cell_type": "markdown",
   "metadata": {},
   "source": [
    "Instead of saving a single object, you can save several by listing them all as separate arguments in the `save()` function."
   ]
  },
  {
   "cell_type": "code",
   "execution_count": null,
   "metadata": {},
   "outputs": [],
   "source": [
    "save(x,s, file=\"xands.RData\")"
   ]
  },
  {
   "cell_type": "code",
   "execution_count": null,
   "metadata": {},
   "outputs": [],
   "source": [
    "file.remove(\"xands.RData\")# to clean the working directory"
   ]
  },
  {
   "cell_type": "markdown",
   "metadata": {},
   "source": [
    "#### **b - Saving all variables *(and functions)* at once**"
   ]
  },
  {
   "cell_type": "markdown",
   "metadata": {},
   "source": [
    "It is even more efficient when you want to save all objects to use the function `save.image()`"
   ]
  },
  {
   "cell_type": "code",
   "execution_count": null,
   "metadata": {},
   "outputs": [],
   "source": [
    "ls()\n",
    "save.image(file=\"AllMyData.RData\")"
   ]
  },
  {
   "cell_type": "markdown",
   "metadata": {},
   "source": [
    "And similarly you can upload them all back after removing all objects in the session or starting a new one."
   ]
  },
  {
   "cell_type": "code",
   "execution_count": null,
   "metadata": {},
   "outputs": [],
   "source": [
    "rm(list=ls()) # this command removes all the objects on the R session\n",
    "ls() #all variables have been removed"
   ]
  },
  {
   "cell_type": "code",
   "execution_count": null,
   "metadata": {},
   "outputs": [],
   "source": [
    "load(\"AllMyData.RData\")\n",
    "ls() #all variables are accessible again\n",
    "file.remove(\"AllMyData.RData\")\n",
    "ls()"
   ]
  },
  {
   "cell_type": "markdown",
   "metadata": {},
   "source": [
    "#### **c- Save \"history\"** = all past commands"
   ]
  },
  {
   "cell_type": "markdown",
   "metadata": {},
   "source": [
    "<div class=\"alert alert-block alert-warning\"><b> Do not run</b>. It does not work in R notebooks where no history is saved because we are running independant cells! The command below would be the one to run in R shell (Terminal > R) or in RStudio (change \"lab\" in URL to \"rstudio\").</div>"
   ]
  },
  {
   "cell_type": "raw",
   "metadata": {},
   "source": [
    "ls()\n",
    "savehistory(file=\"MyHistory.Rhistory\") #save all previously run commands in a special formatted file\n",
    "loadhistory(\"MyHistory.Rhistory\") #load all commands stored in the specified file\n",
    "my_history <- read.delim(\"MyHistory.Rhistory\") #see how the file is formatted: number of line and associated command\n",
    "head(my_history)"
   ]
  },
  {
   "cell_type": "markdown",
   "metadata": {},
   "source": [
    "\n",
    "---\n",
    "---"
   ]
  },
  {
   "cell_type": "markdown",
   "metadata": {},
   "source": [
    "<div class=\"alert alert-block alert-success\"><b>Success:</b> Well done! You now know all the basic usage of R, how to get help and how to assign values in R objets. In the next session (R1), you will learn about the main R object types and we will focus on the most elementary objects, the vectors. In the following sessions, you will lear about the other R objects (matrices, dataframes, lists...), how to do some nice plots and how to start programming.\n",
    "\n",
    "</div>\n",
    "    "
   ]
  },
  {
   "cell_type": "markdown",
   "metadata": {},
   "source": [
    "<div class=\"alert alert-block alert-danger\"><b>Caution:</b><br> \n",
    " Don't forget to save you notebook and export a copy as an <b>html</b> file as well <br>\n",
    "- Open \"File\" in the Menu<br>\n",
    "- Select \"Export Notebook As\"<br>\n",
    "- Export notebook as HTML<br>\n",
    "- You can then open it in your browser even without being connected to a JupyterLab interface!\n",
    "</div>"
   ]
  },
  {
   "cell_type": "markdown",
   "metadata": {},
   "source": [
    "\n",
    "\n",
    "***\n",
    "***\n",
    "## Useful commands\n",
    "<div class=\"alert alert-block alert-info\"> \n",
    "    \n",
    "- <kbd>CTRL</kbd>+<kbd>S</kbd> : save notebook<br>    \n",
    "- <kbd>CTRL</kbd>+<kbd>ENTER</kbd> : Run Cell<br>  \n",
    "- <kbd>SHIFT</kbd>+<kbd>ENTER</kbd> : Run Cell and Select Next<br>   \n",
    "- <kbd>ALT</kbd>+<kbd>ENTER</kbd> : Run Cell and Insert Below<br>   \n",
    "- <kbd>ESC</kbd>+<kbd>y</kbd> : Change to *Code* Cell Type<br>  \n",
    "- <kbd>ESC</kbd>+<kbd>m</kbd> : Change to *Markdown* Cell Type<br> \n",
    "- <kbd>ESC</kbd>+<kbd>r</kbd> : Change to *Raw* Cell Type<br>    \n",
    "- <kbd>ESC</kbd>+<kbd>a</kbd> : Create Cell Above<br> \n",
    "- <kbd>ESC</kbd>+<kbd>b</kbd> : Create Cell Below<br> \n",
    "\n",
    "<em>  \n",
    "To make nice html reports with markdown: <a href=\"https://dillinger.io/\" title=\"dillinger.io\">html visualization tool 1</a> or <a href=\"https://stackedit.io/app#\" title=\"stackedit.io\">html visualization tool 2</a>, <a href=\"https://www.tablesgenerator.com/markdown_tables\" title=\"tablesgenerator.com\">to draw nice tables</a>, and the <a href=\"https://medium.com/analytics-vidhya/the-ultimate-markdown-guide-for-jupyter-notebook-d5e5abf728fd\" title=\"Ultimate guide\">Ultimate guide</a>. <br>\n",
    "Further reading on JupyterLab notebooks: <a href=\"https://jupyterlab.readthedocs.io/en/latest/user/notebook.html\" title=\"Jupyter Lab\">Jupyter Lab documentation</a>.<br>   \n",
    "</em>    \n",
    " \n",
    "</div>"
   ]
  },
  {
   "cell_type": "code",
   "execution_count": null,
   "metadata": {},
   "outputs": [],
   "source": [
    "sessionInfo()"
   ]
  }
 ],
 "metadata": {
  "kernelspec": {
   "display_name": "R",
   "language": "R",
   "name": "ir"
  },
  "language_info": {
   "codemirror_mode": "r",
   "file_extension": ".r",
   "mimetype": "text/x-r-source",
   "name": "R",
   "pygments_lexer": "r",
   "version": "4.1.3"
  },
  "toc-showtags": true
 },
 "nbformat": 4,
 "nbformat_minor": 4
}
