{
 "cells": [
  {
   "cell_type": "markdown",
   "metadata": {},
   "source": [
    "# Introduction \n",
    "\n",
    "Le but de ce TP est de manipuler des données de GWAS quantitative, et d'explorer comment des algorithmes de machine learning peuvent être utiliser pour les analyser. Nous allons travailler avec les génotypes de 89 individus du [1000 Genomes Project](http://www.internationalgenome.org/data), d'origine Han ou japonaise, et un phénotype quantitatif (c'est-à-dire à valeurs réelles) simulé. On peut imaginer que ce phénotype quantifie la réponse de ces 89 individus à un traitement.\n",
    "\n",
    "## Compte-rendu noté\n",
    "Le compte-rendu du TP sera à rendre avant le __19 octobre 2017 (23h59)__, sous forme d'un fichier `<NomDeFamille>_<Prenom>.ipynb` à déposer [ici](https://cazencott.info/owncloud/index.php/s/2ARJtzeXqKiul3S). \n",
    "\n",
    "## Notebook Jupyter\n",
    "\n",
    "Jupyter est une application web qui vous permet de créer et partager des documents appelés _notebooks_ (tels que ce notebook .ipynb) qui contient du code modifiable et exécutable, des visualisations, et du texte explicatoire qui peut être formaté avec une syntaxe markdown simple et contenir des équations.\n",
    "\n",
    "Quelques éléments concernant l'utilisation des notebooks Jupyter :\n",
    "* Chaque bloc éditable est contenu dans une cellule (_cell_). Un cellule peut contenit du texte brut (_raw text_), du code, ou du texte formatté avec la syntaxe markdown, comme cette cellule. Pour plus d'information sur la syntaxe markdown, suivez le [guide](http://jupyter-notebook.readthedocs.io/en/latest/examples/Notebook/Working%20With%20Markdown%20Cells.html) !\n",
    "* Pour exécuter une cellule, il suffit de cliquer dessus et de taper Shift+Enter (ou d'utiliser le bouton Play dans la barre de menu).\n",
    "* Pour créer une nouvelle cellule vide en-dessous de celle que vous allez exécuter, utilisez Alt+Enter au lieu de Shift+Enter.\n",
    "\n",
    "Quelques éléments concernant l'utilisation d'un notebook Jupyter avec Python :\n",
    "* Une cellule de code Python se comporte comme un shell Python interactif (et en particulier comme ipython, sur lequel est basé Jupyter). En particulier : \n",
    "  * Tabulation permet d'auto-compléter le mot-clé que vous avez commencé à taper\n",
    "  * Taper un point d'interrogation après le nom d'un objet charge l'aide interactive pour cette fonction.\n",
    "* Jupyter a des commandes Python spéciales (des raccourcis, en quelque sorte) qui s'appellent des _magics_. Par exemple, `%bash` permet d'exécuter du code bash (donc comme si vous étiez dans un terminal), `%paste` permet de coller un block de code précédemment copié (depuis le notebook ou une autre application) en conservant son formatage (et en particulier les indentations), et `%matplotlib inline` permet d'importer la librairie de visualisation de matplotlib et d'afficher les graphiques créés non pas dans une nouvelle fenêtre mais à l'intérieur du notebook. Vous trouverez une liste complète de _magics_ sur http://ipython.readthedocs.io/en/stable/interactive/magics.html \n",
    "* Pour en savoir plus sur le shell python interactif : http://ipython.readthedocs.io/en/stable/interactive/tutorial.html\n",
    "\n",
    "Pour en savoir plus sur Jupyter : https://jupyter.org/"
   ]
  },
  {
   "cell_type": "markdown",
   "metadata": {},
   "source": [
    "Email : nicolas.venedittan@outlook.com"
   ]
  },
  {
   "cell_type": "code",
   "execution_count": 1,
   "metadata": {},
   "outputs": [
    {
     "data": {
      "text/plain": [
       "4"
      ]
     },
     "execution_count": 1,
     "metadata": {},
     "output_type": "execute_result"
    }
   ],
   "source": [
    "2 + 2 # exécuter avec Shift+Enter"
   ]
  },
  {
   "cell_type": "code",
   "execution_count": 2,
   "metadata": {},
   "outputs": [
    {
     "name": "stdout",
     "output_type": "stream",
     "text": [
      "Hello world!\n"
     ]
    }
   ],
   "source": [
    "print(\"Hello world!\") # exécuter avec Alt+Enter pour créer une nouvelle cellule"
   ]
  },
  {
   "cell_type": "code",
   "execution_count": null,
   "metadata": {
    "collapsed": true
   },
   "outputs": [],
   "source": []
  },
  {
   "cell_type": "code",
   "execution_count": 3,
   "metadata": {},
   "outputs": [
    {
     "name": "stdout",
     "output_type": "stream",
     "text": [
      "2017-10-05-m2bi.pdf\t\t\t\t   mydata.log\r\n",
      "assoc1.log\t\t\t\t\t   plink.log\r\n",
      "assoc1.qassoc\t\t\t\t\t   simulated-gwas\r\n",
      "m2bi-2017-intro-ml.pdf\t\t\t\t   simulated-gwas.tar.gz\r\n",
      "M2BI TP Recherche efficace de biomarqueurs .ipynb  simulated.map\r\n",
      "mydata.bed\t\t\t\t\t   simulated.ped\r\n",
      "mydata.bim\t\t\t\t\t   Untitled.ipynb\r\n",
      "mydata.fam\r\n"
     ]
    }
   ],
   "source": [
    "!ls # le ! permet de lancer le code dans un terminal bash plutôt que python"
   ]
  },
  {
   "cell_type": "markdown",
   "metadata": {},
   "source": [
    "# 1. GWAS avec PLINK\n",
    "\n",
    "[PLINK](http://zzz.bwh.harvard.edu/plink/) est le logiciel le plus classiquement utilisé pour l'analyse de données GWAS. Il est développé et maintenu sous la responsabilité de [Shaun Purcell](http://zzz.bwh.harvard.edu/) à Harvard, le MGH et le Broad Institute.\n",
    "\n",
    "[PLINK 1.9](https://www.cog-genomics.org/plink/1.9/) est actuellement en version beta.\n",
    "\n",
    "## 1.1 Chargement des données"
   ]
  },
  {
   "cell_type": "code",
   "execution_count": 4,
   "metadata": {},
   "outputs": [
    {
     "name": "stdout",
     "output_type": "stream",
     "text": [
      "simulated.ped\n",
      "simulated.map\n"
     ]
    }
   ],
   "source": [
    "!tar zxvf simulated-gwas.tar.gz # le ! permet de lancer le code dans un terminal bash plutôt que python"
   ]
  },
  {
   "cell_type": "markdown",
   "metadata": {},
   "source": [
    "Les données sont au format PLINK, un format qui est fréquemment utilisé pour les données GWAS, y compris par d'autres logiciels que PLINK.\n",
    "\n",
    "### File format\n",
    "* `.ped` : Les échantillons. Un fichier ped contient une ligne par échantillon (= individu) dans les données, et (6 + 2 x nombre-de-SNPs) colonnes. Les 6 premières colonnes contiennent les informations suivantes :\n",
    "  * FID (\"Family Identifier\") : l'identifiant de la famille de l'individu\n",
    "  * IID (\"Individual Identifier\") : l'identifiant de l'individidu\n",
    "  * PAT (\"Paternal Identifier\") : l'identifiant du père \n",
    "  * MAT (\"Maternal Identifier\") : l'identifiant de la mère\n",
    "  * SEX : le sexe (1=male, 2=femelle, autre=inconnu)\n",
    "  * PHENOTPYE : le phénotype.\n",
    "Les colonnes suivantes décrivent les SNPs bialléliques : chaque SNP est encodé sur 2 colonnes, chacune correspondant à un brin d'ADN. L'encodage est soit {A, T, C, G}, soit {1, 2} (correspondant à l'un ou l'autre des allèles).\n",
    "\n",
    "* `.map` : Les marqueurs. Un fichier map contient une ligne par SNP. Chaque SNP est décrit sur 4 colonnes : chromosome, identifiant du SNP, distance génétique en morgans, et position (basepair).\n",
    "\n",
    "La documentation complète du format PLINK est [ici](http://zzz.bwh.harvard.edu/plink/data.shtml).\n",
    "\n",
    "Nous allons commencer par vérifier que les données sont complètes et que PLINK fonctionne, et obtenir quelques informations sur nos données. "
   ]
  },
  {
   "cell_type": "code",
   "execution_count": 5,
   "metadata": {},
   "outputs": [
    {
     "name": "stdout",
     "output_type": "stream",
     "text": [
      "\n",
      "@----------------------------------------------------------@\n",
      "|        PLINK!       |     v1.07      |   10/Aug/2009     |\n",
      "|----------------------------------------------------------|\n",
      "|  (C) 2009 Shaun Purcell, GNU General Public License, v2  |\n",
      "|----------------------------------------------------------|\n",
      "|  For documentation, citation & bug-report instructions:  |\n",
      "|        http://pngu.mgh.harvard.edu/purcell/plink/        |\n",
      "@----------------------------------------------------------@\n",
      "\n",
      "Skipping web check... [ --noweb ] \n",
      "Writing this text to log file [ plink.log ]\n",
      "Analysis started: Thu Oct  5 14:16:26 2017\n",
      "\n",
      "Options in effect:\n",
      "\t--noweb\n",
      "\t--file simulated\n",
      "\n",
      "83534 (of 83534) markers to be included from [ simulated.map ]\n",
      "89 individuals read from [ simulated.ped ] \n",
      "89 individuals with nonmissing phenotypes\n",
      "Assuming a quantitative trait\n",
      "Missing phenotype value is -9\n",
      "89 males, 0 females, and 0 of unspecified sex\n",
      "Before frequency and genotyping pruning, there are 83534 SNPs\n",
      "89 founders and 0 non-founders found\n",
      "Total genotyping rate in remaining individuals is 1\n",
      "0 SNPs failed missingness test ( GENO > 1 )\n",
      "0 SNPs failed frequency test ( MAF < 0 )\n",
      "After frequency and genotyping pruning, there are 83534 SNPs\n",
      "After filtering, 89 individuals with non-missing status\n",
      "After filtering, 89 males, 0 females, and 0 of unspecified sex\n",
      "\n",
      "Analysis finished: Thu Oct  5 14:16:28 2017\n",
      "\n"
     ]
    }
   ],
   "source": [
    "!plink --noweb --file simulated # Remplacer `plink` par son chemin absolu si nécessaire."
   ]
  },
  {
   "cell_type": "markdown",
   "metadata": {},
   "source": [
    "### Contrôle de qualité\n",
    "\n",
    "Nous allons maintenant appliquer quelques filtres de __contrôle de qualité__ :\n",
    "\n",
    "* Enlever les SNPs avec une fréquence d'allèle mineur (minor allele frequency, MAF) plus faible que 1% : `--maf 0.01`\n",
    "* Enlever les SNPs pour lesquelles nous n'avons pas de données pour plus de 10% des individus : `--geno 0.1`\n",
    "* Enlever les SNPs qui ne sont pas en équilibre de Hardy-Weinberg (HWE), avec une p-valeur supérieure à 1e-6, car ils sont susceptibles d'avoir été mal génotypés : `--hwe 1e-6` \n",
    "\n",
    "Nous allons aussi créer une version binaire du fichier ped, appelé `.bed`, qui va prendre moins d'espace disque et accélérer les analyses."
   ]
  },
  {
   "cell_type": "code",
   "execution_count": 6,
   "metadata": {
    "scrolled": true
   },
   "outputs": [
    {
     "name": "stdout",
     "output_type": "stream",
     "text": [
      "\n",
      "@----------------------------------------------------------@\n",
      "|        PLINK!       |     v1.07      |   10/Aug/2009     |\n",
      "|----------------------------------------------------------|\n",
      "|  (C) 2009 Shaun Purcell, GNU General Public License, v2  |\n",
      "|----------------------------------------------------------|\n",
      "|  For documentation, citation & bug-report instructions:  |\n",
      "|        http://pngu.mgh.harvard.edu/purcell/plink/        |\n",
      "@----------------------------------------------------------@\n",
      "\n",
      "Skipping web check... [ --noweb ] \n",
      "Writing this text to log file [ mydata.log ]\n",
      "Analysis started: Thu Oct  5 14:16:29 2017\n",
      "\n",
      "Options in effect:\n",
      "\t--noweb\n",
      "\t--file simulated\n",
      "\t--maf 0.01\n",
      "\t--hwe 1e-6\n",
      "\t--geno 0.1\n",
      "\t--make-bed\n",
      "\t--out mydata\n",
      "\n",
      "83534 (of 83534) markers to be included from [ simulated.map ]\n",
      "89 individuals read from [ simulated.ped ] \n",
      "89 individuals with nonmissing phenotypes\n",
      "Assuming a quantitative trait\n",
      "Missing phenotype value is -9\n",
      "89 males, 0 females, and 0 of unspecified sex\n",
      "Before frequency and genotyping pruning, there are 83534 SNPs\n",
      "89 founders and 0 non-founders found\n",
      "5 markers to be excluded based on HWE test ( p <= 1e-06 )\n",
      "Total genotyping rate in remaining individuals is 1\n",
      "0 SNPs failed missingness test ( GENO > 0.1 )\n",
      "16993 SNPs failed frequency test ( MAF < 0.01 )\n",
      "After frequency and genotyping pruning, there are 66536 SNPs\n",
      "After filtering, 89 individuals with non-missing status\n",
      "After filtering, 89 males, 0 females, and 0 of unspecified sex\n",
      "Writing pedigree information to [ mydata.fam ] \n",
      "Writing map (extended format) information to [ mydata.bim ] \n",
      "Writing genotype bitfile to [ mydata.bed ] \n",
      "Using (default) SNP-major mode\n",
      "\n",
      "Analysis finished: Thu Oct  5 14:16:32 2017\n",
      "\n"
     ]
    }
   ],
   "source": [
    "!plink --noweb --file simulated --maf 0.01 --hwe 1e-6 --geno 0.1 --make-bed --out mydata"
   ]
  },
  {
   "cell_type": "markdown",
   "metadata": {},
   "source": [
    "__Question :__ Combien de SNPs ont passé le contrôle de qualité (i.e. combien de SNPs allons-nous analyser) ?"
   ]
  },
  {
   "cell_type": "markdown",
   "metadata": {
    "collapsed": true
   },
   "source": [
    "__Réponse__ 66536"
   ]
  },
  {
   "cell_type": "markdown",
   "metadata": {},
   "source": [
    "La commande `--out -mydata` nous a permis de créer les fichiers suivants :\n",
    "* `mydata.bed` : la version binaire du fichier `.ped` (moins les SNPs filtrés) ;\n",
    "* `mydata.bim` : une version augmentée du fichier `.map`, contenant deux colonns supplémentaires donannt les noms des allèles ;\n",
    "* `mydata.fam` : les 6 premières colonnes du fichier `.ped`.\n",
    "\n",
    "PLINK a aussi créé un fichier `.log` qui contient les sorties que vous voyez à l'écran."
   ]
  },
  {
   "cell_type": "markdown",
   "metadata": {},
   "source": [
    "## 1.2 GWAS\n",
    "\n",
    "Nous allons utiliser PLINK pour tester individuellement l'association statistique entre chaque SNP et le phénotype."
   ]
  },
  {
   "cell_type": "code",
   "execution_count": 7,
   "metadata": {},
   "outputs": [
    {
     "name": "stdout",
     "output_type": "stream",
     "text": [
      "\n",
      "@----------------------------------------------------------@\n",
      "|        PLINK!       |     v1.07      |   10/Aug/2009     |\n",
      "|----------------------------------------------------------|\n",
      "|  (C) 2009 Shaun Purcell, GNU General Public License, v2  |\n",
      "|----------------------------------------------------------|\n",
      "|  For documentation, citation & bug-report instructions:  |\n",
      "|        http://pngu.mgh.harvard.edu/purcell/plink/        |\n",
      "@----------------------------------------------------------@\n",
      "\n",
      "Skipping web check... [ --noweb ] \n",
      "Writing this text to log file [ assoc1.log ]\n",
      "Analysis started: Thu Oct  5 14:16:33 2017\n",
      "\n",
      "Options in effect:\n",
      "\t--noweb\n",
      "\t--bfile mydata\n",
      "\t--assoc\n",
      "\t--out assoc1\n",
      "\n",
      "Reading map (extended format) from [ mydata.bim ] \n",
      "66536 markers to be included from [ mydata.bim ]\n",
      "Reading pedigree information from [ mydata.fam ] \n",
      "89 individuals read from [ mydata.fam ] \n",
      "89 individuals with nonmissing phenotypes\n",
      "Assuming a quantitative trait\n",
      "Missing phenotype value is -9\n",
      "89 males, 0 females, and 0 of unspecified sex\n",
      "Reading genotype bitfile from [ mydata.bed ] \n",
      "Detected that binary PED file is v1.00 SNP-major mode\n",
      "Before frequency and genotyping pruning, there are 66536 SNPs\n",
      "89 founders and 0 non-founders found\n",
      "Total genotyping rate in remaining individuals is 1\n",
      "0 SNPs failed missingness test ( GENO > 1 )\n",
      "0 SNPs failed frequency test ( MAF < 0 )\n",
      "After frequency and genotyping pruning, there are 66536 SNPs\n",
      "After filtering, 89 individuals with non-missing status\n",
      "After filtering, 89 males, 0 females, and 0 of unspecified sex\n",
      "Writing QT association results to [ assoc1.qassoc ] \n",
      "\n",
      "Analysis finished: Thu Oct  5 14:16:33 2017\n",
      "\n"
     ]
    }
   ],
   "source": [
    "!plink --noweb --bfile mydata --assoc --out assoc1"
   ]
  },
  {
   "cell_type": "markdown",
   "metadata": {},
   "source": [
    "Le fichier `assoc1.qassoc` contient les résultats des tests. \n",
    "\n",
    "Pour chaque SNP, PLINK a calculé une régression entre ce SNP et le phénotype. Il nous donne entre autre :\n",
    "* BETA : le coefficient de cette régression, qui peut être interprété comme la taille de l'effet ;\n",
    "* R2 : le coefficient de corrélation entre le phénotype réel et celui prédit par cette régression, qui peut être interprété comme la proportion de la variance phénotypique expliquée par le SNP ;\n",
    "* P : la p-valeur du test statistique de Wald qui évalue si BETA est significativement différent de zéro."
   ]
  },
  {
   "cell_type": "markdown",
   "metadata": {},
   "source": [
    "__Question__ Quel est le SNP le plus significativement associé avec le phénotype ?"
   ]
  },
  {
   "cell_type": "code",
   "execution_count": 15,
   "metadata": {},
   "outputs": [
    {
     "name": "stdout",
     "output_type": "stream",
     "text": [
      "   8   rs3808434      43867       89     0.2042    0.04994     0.1612    4.089    9.623e-05 \r\n",
      "  11    rs211146      54891       89    -0.1565    0.03826     0.1613   -4.091    9.574e-05 \r\n",
      "  11   rs2283233      54892       89    -0.1554    0.03732     0.1662   -4.164    7.333e-05 \r\n",
      "   1  rs12045968        861       89     0.2169    0.04525      0.209    4.794    6.696e-06 \r\n",
      "   3   rs2470764      16983       89    -0.2028    0.04758     0.1728   -4.264    5.089e-05 \r\n",
      "   3   rs1905017      16982       89    -0.2028    0.04758     0.1728   -4.264    5.089e-05 \r\n",
      "  13   rs1467601      61964       89     0.1739    0.04118     0.1701    4.223    5.907e-05 \r\n",
      "  11   rs1015896      54887       89    -0.2669    0.03154     0.4516   -8.464    5.608e-13 \r\n",
      "   4   rs4279260      24660       89     0.1735    0.04041     0.1749    4.294    4.548e-05 \r\n",
      "   3   rs1403436      16984       89    -0.1889    0.04314     0.1806   -4.379    3.308e-05 \r\n",
      "sort: échec d'écriture: 'sortie standard': Relais brisé (pipe)\r\n",
      "sort: erreur d'écriture\r\n"
     ]
    }
   ],
   "source": [
    "!sort --key=9 -r --general-numeric-sort assoc1.qassoc | head -10  # Réponse"
   ]
  },
  {
   "cell_type": "markdown",
   "metadata": {},
   "source": [
    "## 1.3 Analyse des résultats en Python\n",
    "\n",
    "Nous allons utiliser Python pour analyser les résultats. \n",
    "\n",
    "Nous allons utiliser en particulier une librairie appelée `pandas` pour manipuler les données. "
   ]
  },
  {
   "cell_type": "code",
   "execution_count": 16,
   "metadata": {},
   "outputs": [],
   "source": [
    "# Importer pandas\n",
    "import pandas as pd\n",
    "# Lire la sortie de PLINK dans un objet pandas appelé df (pour dataFrame)\n",
    "df = pd.read_csv('assoc1.qassoc', # nom du fichier\n",
    "                 delim_whitespace=True) # utiliser tout espace comme séparateur"
   ]
  },
  {
   "cell_type": "code",
   "execution_count": 17,
   "metadata": {},
   "outputs": [
    {
     "name": "stdout",
     "output_type": "stream",
     "text": [
      "       CHR         SNP     BP  NMISS      BETA       SE        R2        T  \\\n",
      "0        1   rs6681049      1     89 -0.041220  0.04808  0.008377 -0.85730   \n",
      "1        1   rs4074137      2     89 -0.013890  0.07988  0.000347 -0.17380   \n",
      "2        1   rs1891905      4     89 -0.015330  0.04204  0.001527 -0.36470   \n",
      "3        1   rs9729550      5     89  0.030830  0.06171  0.002861  0.49960   \n",
      "4        1   rs3813196      6     89  0.091870  0.13620  0.005198  0.67430   \n",
      "5        1  rs12044597     11     89  0.025280  0.05010  0.002920  0.50470   \n",
      "6        1  rs10907185     12     89 -0.087420  0.04872  0.035690 -1.79400   \n",
      "7        1  rs11260616     13     89  0.002172  0.05845  0.000016  0.03717   \n",
      "8        1    rs745910     14     89  0.085970  0.05798  0.024650  1.48300   \n",
      "9        1   rs2803291     15     89  0.062540  0.06285  0.011260  0.99520   \n",
      "10       1    rs262688     17     89  0.022200  0.05959  0.001593  0.37260   \n",
      "11       1   rs2460000     18     89 -0.029770  0.05066  0.003955 -0.58770   \n",
      "12       1    rs260509     19     89 -0.066150  0.05828  0.014590 -1.13500   \n",
      "13       1   rs2645091     20     89  0.095530  0.05362  0.035200  1.78200   \n",
      "14       1   rs2643895     21     89 -0.011110  0.07800  0.000233 -0.14240   \n",
      "15       1   rs2840529     22     89  0.034640  0.04495  0.006778  0.77050   \n",
      "16       1   rs3736330     23     89 -0.078390  0.04348  0.036010 -1.80300   \n",
      "17       1   rs4233033     24     89  0.173600  0.06632  0.073000  2.61800   \n",
      "18       1    rs942817     25     89  0.067640  0.05664  0.016130  1.19400   \n",
      "19       1   rs2236395     26     89 -0.081700  0.04634  0.034500 -1.76300   \n",
      "20       1   rs7550231     27     89  0.022950  0.04412  0.003102  0.52030   \n",
      "21       1    rs735000     28     89 -0.002669  0.08403  0.000012 -0.03176   \n",
      "22       1   rs6679232     29     89  0.025260  0.07796  0.001205  0.32400   \n",
      "23       1    rs880725     32     89 -0.016500  0.05085  0.001209 -0.32450   \n",
      "24       1   rs2842925     33     89  0.039260  0.05293  0.006284  0.74170   \n",
      "25       1   rs1338382     34     89 -0.048190  0.06535  0.006211 -0.73740   \n",
      "26       1  rs10489589     35     89  0.047890  0.04420  0.013310  1.08300   \n",
      "27       1   rs2103530     36     89  0.045130  0.04458  0.011640  1.01200   \n",
      "28       1   rs1890336     37     89  0.031430  0.05549  0.003674  0.56640   \n",
      "29       1   rs2817178     38     89  0.012620  0.04492  0.000906  0.28090   \n",
      "...    ...         ...    ...    ...       ...      ...       ...      ...   \n",
      "66506   22  rs10483250  83501     89 -0.261500  0.12230  0.049960 -2.13900   \n",
      "66507   22   rs6009874  83502     89 -0.067230  0.08160  0.007742 -0.82390   \n",
      "66508   22   rs6009881  83503     89 -0.018040  0.06713  0.000829 -0.26870   \n",
      "66509   22   rs2319457  83504     89 -0.004732  0.06505  0.000061 -0.07275   \n",
      "66510   22    rs761878  83505     89  0.078260  0.07786  0.011480  1.00500   \n",
      "66511   22   rs2236139  83506     89 -0.017760  0.04788  0.001579 -0.37100   \n",
      "66512   22    rs137843  83507     89 -0.012680  0.04744  0.000820 -0.26720   \n",
      "66513   22     rs79298  83508     89  0.062120  0.06606  0.010060  0.94040   \n",
      "66514   22    rs137916  83509     89  0.001584  0.05076  0.000011  0.03122   \n",
      "66515   22   rs2076136  83510     89 -0.053920  0.04808  0.014250 -1.12100   \n",
      "66516   22    rs137933  83511     89 -0.092570  0.04601  0.044470 -2.01200   \n",
      "66517   22   rs3810971  83512     89  0.088080  0.04757  0.037910  1.85200   \n",
      "66518   22    rs138229  83513     89  0.052820  0.06005  0.008814  0.87950   \n",
      "66519   22   rs3736691  83514     89  0.090750  0.04765  0.040020  1.90500   \n",
      "66520   22   rs2015446  83515     89  0.090750  0.04765  0.040020  1.90500   \n",
      "66521   22    rs760753  83516     89 -0.106400  0.09489  0.014250 -1.12100   \n",
      "66522   22   rs6537637  83517     89  0.105400  0.17390  0.004207  0.60630   \n",
      "66523   22   rs5771104  83518     89 -0.029990  0.04710  0.004637 -0.63660   \n",
      "66524   22    rs742184  83520     89  0.012210  0.04927  0.000706  0.24780   \n",
      "66525   22   rs6010226  83521     89  0.031190  0.04580  0.005302  0.68100   \n",
      "66526   22   rs7410608  83522     89 -0.058470  0.04854  0.016400 -1.20500   \n",
      "66527   22   rs4824149  83523     89  0.036590  0.04583  0.007272  0.79830   \n",
      "66528   22   rs4824157  83524     89  0.027970  0.08993  0.001111  0.31100   \n",
      "66529   22    rs131817  83525     89  0.062660  0.04239  0.024500  1.47800   \n",
      "66530   22    rs131794  83526     89 -0.089490  0.09509  0.010080 -0.94100   \n",
      "66531   22   rs5770913  83528     89 -0.042790  0.04414  0.010690 -0.96940   \n",
      "66532   22    rs131750  83529     89  0.028660  0.04571  0.004498  0.62700   \n",
      "66533   22   rs2269380  83530     89 -0.085230  0.05542  0.026460 -1.53800   \n",
      "66534   22   rs1001469  83533     89 -0.111200  0.05007  0.053670 -2.22100   \n",
      "66535   22    rs756638  83534     89 -0.121700  0.06672  0.036820 -1.82400   \n",
      "\n",
      "             P  \n",
      "0      0.39360  \n",
      "1      0.86240  \n",
      "2      0.71620  \n",
      "3      0.61860  \n",
      "4      0.50190  \n",
      "5      0.61500  \n",
      "6      0.07623  \n",
      "7      0.97040  \n",
      "8      0.14170  \n",
      "9      0.32240  \n",
      "10     0.71040  \n",
      "11     0.55820  \n",
      "12     0.25950  \n",
      "13     0.07830  \n",
      "14     0.88710  \n",
      "15     0.44310  \n",
      "16     0.07488  \n",
      "17     0.01044  \n",
      "18     0.23560  \n",
      "19     0.08139  \n",
      "20     0.60420  \n",
      "21     0.97470  \n",
      "22     0.74670  \n",
      "23     0.74630  \n",
      "24     0.46020  \n",
      "25     0.46290  \n",
      "26     0.28160  \n",
      "27     0.31410  \n",
      "28     0.57260  \n",
      "29     0.77950  \n",
      "...        ...  \n",
      "66506  0.03524  \n",
      "66507  0.41230  \n",
      "66508  0.78880  \n",
      "66509  0.94220  \n",
      "66510  0.31760  \n",
      "66511  0.71160  \n",
      "66512  0.78990  \n",
      "66513  0.34960  \n",
      "66514  0.97520  \n",
      "66515  0.26520  \n",
      "66516  0.04730  \n",
      "66517  0.06748  \n",
      "66518  0.38150  \n",
      "66519  0.06015  \n",
      "66520  0.06015  \n",
      "66521  0.26520  \n",
      "66522  0.54590  \n",
      "66523  0.52600  \n",
      "66524  0.80480  \n",
      "66525  0.49770  \n",
      "66526  0.23160  \n",
      "66527  0.42690  \n",
      "66528  0.75650  \n",
      "66529  0.14300  \n",
      "66530  0.34930  \n",
      "66531  0.33500  \n",
      "66532  0.53230  \n",
      "66533  0.12770  \n",
      "66534  0.02893  \n",
      "66535  0.07163  \n",
      "\n",
      "[66536 rows x 9 columns]\n"
     ]
    }
   ],
   "source": [
    "# Visualiser l'objet en question\n",
    "print(df)"
   ]
  },
  {
   "cell_type": "code",
   "execution_count": 19,
   "metadata": {
    "collapsed": true
   },
   "outputs": [],
   "source": [
    "# Trier les SNPs par p-valeur\n",
    "df_sorted = df.sort_values('P')"
   ]
  },
  {
   "cell_type": "markdown",
   "metadata": {},
   "source": [
    "__Question__ Afficher les 10 SNPs avec la plus petite p-valeur."
   ]
  },
  {
   "cell_type": "code",
   "execution_count": 23,
   "metadata": {},
   "outputs": [
    {
     "name": "stdout",
     "output_type": "stream",
     "text": [
      "       CHR         SNP     BP  NMISS    BETA       SE      R2      T  \\\n",
      "43968   11   rs1015896  54887     89 -0.2669  0.03154  0.4516 -8.464   \n",
      "12345    3    rs920160  15796     89  0.2401  0.03937  0.2995  6.099   \n",
      "43970   11    rs524657  54889     89 -0.2093  0.04063  0.2336 -5.150   \n",
      "683      1  rs12045968    861     89  0.2169  0.04525  0.2090  4.794   \n",
      "13279    3   rs1403436  16984     89 -0.1889  0.04314  0.1806 -4.379   \n",
      "19467    4   rs4279260  24660     89  0.1735  0.04041  0.1749  4.294   \n",
      "13278    3   rs2470764  16983     89 -0.2028  0.04758  0.1728 -4.264   \n",
      "13277    3   rs1905017  16982     89 -0.2028  0.04758  0.1728 -4.264   \n",
      "49603   13   rs1467601  61964     89  0.1739  0.04118  0.1701  4.223   \n",
      "43973   11   rs2283233  54892     89 -0.1554  0.03732  0.1662 -4.164   \n",
      "\n",
      "                  P  \n",
      "43968  5.608000e-13  \n",
      "12345  2.870000e-08  \n",
      "43970  1.602000e-06  \n",
      "683    6.696000e-06  \n",
      "13279  3.308000e-05  \n",
      "19467  4.548000e-05  \n",
      "13278  5.089000e-05  \n",
      "13277  5.089000e-05  \n",
      "49603  5.907000e-05  \n",
      "43973  7.333000e-05  \n"
     ]
    }
   ],
   "source": [
    "print(df_sorted[0:10]) # Réponse"
   ]
  },
  {
   "cell_type": "markdown",
   "metadata": {},
   "source": [
    "### Seuil de significativité\n",
    "\n",
    "__Question__ Combien de tests statistiques PLINK a-t-il fait ?"
   ]
  },
  {
   "cell_type": "markdown",
   "metadata": {
    "collapsed": true
   },
   "source": [
    "__Réponse__ 66536"
   ]
  },
  {
   "cell_type": "markdown",
   "metadata": {},
   "source": [
    "__Question__ Prenons un seuil de significativité de 0.05. Calculer le seuil `sig_thresh` corrigé par correction de Bonferroni."
   ]
  },
  {
   "cell_type": "code",
   "execution_count": 26,
   "metadata": {},
   "outputs": [
    {
     "name": "stdout",
     "output_type": "stream",
     "text": [
      "7.514728868582422e-07\n"
     ]
    }
   ],
   "source": [
    "sig_thresh = 0.05/66536\n",
    "print (sig_thresh) # Réponse"
   ]
  },
  {
   "cell_type": "markdown",
   "metadata": {},
   "source": [
    "Nous pouvons maintenant identifier les SNPs significativement associés avec le phénotype."
   ]
  },
  {
   "cell_type": "code",
   "execution_count": 35,
   "metadata": {
    "scrolled": true
   },
   "outputs": [
    {
     "name": "stdout",
     "output_type": "stream",
     "text": [
      "       CHR       SNP     BP  NMISS    BETA       SE      R2      T  \\\n",
      "12345    3  rs920160  15796     89  0.2401  0.03937  0.2995  6.099   \n",
      "\n",
      "                  P  \n",
      "12345  2.870000e-08  \n",
      "       CHR        SNP     BP  NMISS    BETA       SE      R2      T  \\\n",
      "43968   11  rs1015896  54887     89 -0.2669  0.03154  0.4516 -8.464   \n",
      "\n",
      "                  P  \n",
      "43968  5.608000e-13  \n"
     ]
    }
   ],
   "source": [
    "sig_SNPs = df.SNP[df.P < sig_thresh]\n",
    "for snp in sig_SNPs:\n",
    "    print(df[df.SNP == snp])"
   ]
  },
  {
   "cell_type": "markdown",
   "metadata": {},
   "source": [
    "__Question__ Quels SNPs sont associés avec le phénotype ? Sur quel(s) chromosome(s) sont-ils situés ?"
   ]
  },
  {
   "cell_type": "markdown",
   "metadata": {
    "collapsed": true
   },
   "source": [
    "__Réponse__ SNP rs920160 => CHR 3 <br> \n",
    "SNP rs1015896 => CHR 11"
   ]
  },
  {
   "cell_type": "markdown",
   "metadata": {},
   "source": [
    "### Manhattan plot\n",
    "\n",
    "Nous allons visualiser nos résultats avec un _diagramme de Manhattan_ : nous allons afficher chaque SNP selon, en abscisse, sa position génomique, et, en ordonnée, leur p-valeur (ou plutôt, -10 log(p)). Nous allons aussi colorer chaque chromosome d'une couleur différente."
   ]
  },
  {
   "cell_type": "code",
   "execution_count": 46,
   "metadata": {},
   "outputs": [
    {
     "data": {
      "image/png": "[encoded data removed]",
      "text/plain": [
       "<matplotlib.figure.Figure at 0x7f937c3dc7f0>"
      ]
     },
     "metadata": {},
     "output_type": "display_data"
    }
   ],
   "source": [
    "import numpy as np # librairie pour pythom numérique \n",
    "from matplotlib import pyplot as plt # librairie pour créer des figures\n",
    "\n",
    "# Manhattan plot\n",
    "plt.scatter(df.BP, # x = SNP position (in bp)\n",
    "            -np.log10(df.P), # y = -log10 p-value \n",
    "            c=df.CHR) # couleur par chromosome\n",
    "\n",
    "# Enjoliver\n",
    "plt.xlabel(\"SNP\", fontsize=14)\n",
    "plt.ylabel(\"-log10 p-value\", fontsize=14)\n",
    "plt.xlim([0, max(df.BP)])\n",
    "plt.hlines(-np.log10(sig_thresh),0,max(df.BP),color=\"red\")\n",
    "plt.show(block=False)\n",
    "\n",
    "# Pour sauvegarder l'image\n",
    "# plt.savefig('manhattan.png', bbox_inches='tight')"
   ]
  },
  {
   "cell_type": "markdown",
   "metadata": {},
   "source": [
    "__Question__ Reproduire le graphique ci-dessus en y rajoutant une ligne horizontale correspondant au seuil de significativité."
   ]
  },
  {
   "cell_type": "code",
   "execution_count": null,
   "metadata": {
    "collapsed": true
   },
   "outputs": [],
   "source": [
    "# Réponse"
   ]
  },
  {
   "cell_type": "markdown",
   "metadata": {},
   "source": [
    "### Q-Q plot\n",
    "\n",
    "Un _diagramme quantile-quantile_ nous permet de visualiser la distribution des p-valeurs, et si elle dévie significativement de la distribution uniforme. Nous nous attendons en effet à ce que la plupart des SNPs ne soient pas associés avec le phénotype, et par conséquence à ce que leurs p-valeurs soient distribuées uniformément. Une déviation visible de la distribution uniforme indque que l'analyse est biaisée, vraisemblablement par une structure de population."
   ]
  },
  {
   "cell_type": "code",
   "execution_count": 47,
   "metadata": {},
   "outputs": [
    {
     "data": {
      "image/png": "[encoded data removed]",
      "text/plain": [
       "<matplotlib.figure.Figure at 0x7f937c3dc550>"
      ]
     },
     "metadata": {},
     "output_type": "display_data"
    }
   ],
   "source": [
    "import scipy.stats as ss\n",
    "ss.probplot(df.P, dist=\"uniform\", plot=plt)\n",
    "plt.show(block=False)"
   ]
  },
  {
   "cell_type": "markdown",
   "metadata": {},
   "source": [
    "Notre diagramme quantile-quantile correspond parfaitement à la diagonale. Cela indique qu'il n'y a pas de déviation par rapport à la distribution uniforme. Il y a peu de chance que l'analyse soit biaisée par la structure de population. \n",
    "\n",
    "En pratique, cela est due à la façon dont nous avons simulé les phénotypes : il est assez peu probable qu'une cohorte mélangeant des chinois Han et des japonais ne souffre pas d'un tel biais.\n",
    "\n",
    "Les techniques généralement utilisées pour corriger ce genre de biais sont :\n",
    "* utiliser les composantes principales (calculées par exemple avec [EIGENSTRAT](https://github.com/DReichLab/EIG/) comme covariables avec l'option --covar\n",
    "* utiliser des modèles linéaires mixtes, par exemple avec l'outil [FastLMM](https://github.com/MicrosoftGenomics/FaST-LMM)."
   ]
  },
  {
   "cell_type": "markdown",
   "metadata": {},
   "source": [
    "# 2. Approches d'apprentissage (machine learning)"
   ]
  },
  {
   "cell_type": "markdown",
   "metadata": {
    "collapsed": true
   },
   "source": [
    "Nous allons maintenant utiliser [scikit-learn](http://scikit-learn.org/stable/index.html), qui est la librairie Python de référence pour le machine learning (hors deep learning).\n",
    "\n",
    "Pour cela, nous devons transformer nos données en une matrice (pour scikit-learn, un array numpy) X de n lignes et p colonnes, où n est le nombre d'échantillons et p le nombre de SNPs. Chaque SNP doit être représenté par un unique nombre. Nous allons utiliser un encodage _additif_ : \n",
    "* 0 pour un SNP homozygote avec l'allèle majeur (AA);\n",
    "* 1 pour un SNP hétérozygote (Aa);\n",
    "* 2 pour un SNP homozygote avec l'allèle mineur (aa).\n",
    "\n",
    "PLINK nous permet d'effectuer cette transformation :"
   ]
  },
  {
   "cell_type": "code",
   "execution_count": 48,
   "metadata": {},
   "outputs": [
    {
     "name": "stdout",
     "output_type": "stream",
     "text": [
      "\n",
      "@----------------------------------------------------------@\n",
      "|        PLINK!       |     v1.07      |   10/Aug/2009     |\n",
      "|----------------------------------------------------------|\n",
      "|  (C) 2009 Shaun Purcell, GNU General Public License, v2  |\n",
      "|----------------------------------------------------------|\n",
      "|  For documentation, citation & bug-report instructions:  |\n",
      "|        http://pngu.mgh.harvard.edu/purcell/plink/        |\n",
      "@----------------------------------------------------------@\n",
      "\n",
      "Skipping web check... [ --noweb ] \n",
      "Writing this text to log file [ mydata1.log ]\n",
      "Analysis started: Thu Oct  5 15:03:24 2017\n",
      "\n",
      "Options in effect:\n",
      "\t--noweb\n",
      "\t--bfile mydata\n",
      "\t--recodeA\n",
      "\t--out mydata1\n",
      "\n",
      "Reading map (extended format) from [ mydata.bim ] \n",
      "66536 markers to be included from [ mydata.bim ]\n",
      "Reading pedigree information from [ mydata.fam ] \n",
      "89 individuals read from [ mydata.fam ] \n",
      "89 individuals with nonmissing phenotypes\n",
      "Assuming a quantitative trait\n",
      "Missing phenotype value is -9\n",
      "89 males, 0 females, and 0 of unspecified sex\n",
      "Reading genotype bitfile from [ mydata.bed ] \n",
      "Detected that binary PED file is v1.00 SNP-major mode\n",
      "Before frequency and genotyping pruning, there are 66536 SNPs\n",
      "89 founders and 0 non-founders found\n",
      "Total genotyping rate in remaining individuals is 1\n",
      "0 SNPs failed missingness test ( GENO > 1 )\n",
      "0 SNPs failed frequency test ( MAF < 0 )\n",
      "After frequency and genotyping pruning, there are 66536 SNPs\n",
      "After filtering, 89 individuals with non-missing status\n",
      "After filtering, 89 males, 0 females, and 0 of unspecified sex\n",
      "Writing recoded file to [ mydata1.raw ] \n",
      "\n",
      "Analysis finished: Thu Oct  5 15:03:25 2017\n",
      "\n"
     ]
    }
   ],
   "source": [
    "!plink --noweb --bfile mydata --recodeA --out mydata1"
   ]
  },
  {
   "cell_type": "markdown",
   "metadata": {},
   "source": [
    "Nous venons de créer un fichier `mydata1.raw` qui contient une ligne par individu. Les 6 premières colonnes sont les habituelles `FID IID PAT MAT SEX PHENOTYPE`, et ensuite il y a une colonne par SNP. La première ligne est un en-tête."
   ]
  },
  {
   "cell_type": "markdown",
   "metadata": {},
   "source": [
    "### Lecture des données dans Python\n",
    "Nous allons représenter \n",
    "* le phénotype comme un array numpy 1D `y` de longueur `num_samples` (n) \n",
    "* les génotypes comme un array numpy 2D `X` de taille `num_samples x num_snps` (n x p).\n",
    "\n",
    "Pour cela, nous allons de nouveau utiliser `pandas`."
   ]
  },
  {
   "cell_type": "code",
   "execution_count": 50,
   "metadata": {},
   "outputs": [
    {
     "name": "stdout",
     "output_type": "stream",
     "text": [
      "      FID  IID  PAT  MAT  SEX  PHENOTYPE  rs6681049_1  rs4074137_1  \\\n",
      "0  HCB181    1    0    0    1   0.290579            0            0   \n",
      "1  HCB182    1    0    0    1   0.754480            0            1   \n",
      "\n",
      "   rs1891905_1  rs9729550_1     ...      rs7410608_1  rs4824149_1  \\\n",
      "0            1            0     ...                1            1   \n",
      "1            1            1     ...                0            0   \n",
      "\n",
      "   rs4824157_1  rs131817_2  rs131794_1  rs5770913_1  rs131750_1  rs2269380_1  \\\n",
      "0            0           0           0            1           1            0   \n",
      "1            0           2           0            0           2            0   \n",
      "\n",
      "   rs1001469_1  rs756638_1  \n",
      "0            1           0  \n",
      "1            1           0  \n",
      "\n",
      "[2 rows x 66542 columns]\n"
     ]
    }
   ],
   "source": [
    "df = pd.read_csv('mydata1.raw',\n",
    "                  delim_whitespace=True)\n",
    "print(df[0:2])"
   ]
  },
  {
   "cell_type": "markdown",
   "metadata": {},
   "source": [
    "__Question__ Utiliser `iloc` pour créer les array `X` et `y` à partir de df.\n",
    "http://pandas.pydata.org/pandas-docs/stable/generated/pandas.DataFrame.iloc.html"
   ]
  },
  {
   "cell_type": "code",
   "execution_count": 56,
   "metadata": {},
   "outputs": [
    {
     "name": "stdout",
     "output_type": "stream",
     "text": [
      "[[0 0 1 ..., 0 1 0]\n",
      " [0 1 1 ..., 0 1 0]\n",
      " [0 1 1 ..., 2 0 1]\n",
      " ..., \n",
      " [1 0 0 ..., 1 1 1]\n",
      " [0 0 1 ..., 2 1 0]\n",
      " [0 0 0 ..., 0 1 1]] [ 0.290579   0.75448    0.758444   0.361467   1.14344    0.612501   0.342599\n",
      "  0.335213   1.04442    1.09406    0.346519   0.570452   0.842389   0.822911\n",
      "  0.58177    1.049      1.05523    0.341757   0.567039   0.539772   0.809159\n",
      "  0.609363   0.608134   0.603511   0.316228   0.0787525  0.321135   0.530818\n",
      "  0.334219   0.860866   0.858961   0.801332   0.342113   1.05991    0.58347\n",
      "  0.253907   0.835248   0.567284   0.772149   0.503974   0.560663   0.801379\n",
      "  1.12017    0.534523   1.09185    0.530812   1.09419    0.837739   1.3249\n",
      "  1.03987    0.78328    0.550428   1.0609     0.55158    0.593942   1.30373\n",
      "  0.30923    1.07902    0.527667   1.09075    0.859089   0.540727   1.30942\n",
      "  0.0451066  0.563146   0.540203   0.835148   0.776821   0.572097   0.539729\n",
      "  0.577217   1.04742    0.563793   0.530845   1.29499    0.884027   1.05943\n",
      "  1.05588    1.05757    0.827027   1.05966    0.319012   0.5656     0.838801\n",
      "  0.776633   0.601466   0.861147   0.606344   1.07932  ]\n"
     ]
    }
   ],
   "source": [
    "X = np.array(df.iloc[0:len(df),6:]) # génotype\n",
    "y = np.array(df.iloc[0:len(df),5]) # phénotype\n",
    "print(X,y)"
   ]
  },
  {
   "cell_type": "markdown",
   "metadata": {},
   "source": [
    "PLINK a donné à chaque colonne SNP un identifiant de la forme `rsXXX_A` où `rsXXX` est le nom du SNP et `A` est `1` ou `2` selon lequel des deux est l'allèle mineur dans les données. Pour pouvoir faire correspondre ces noms de colonnes aux noms de SNPs que nous connaissons, il faut supprimer ce suffixe `_1` or `_2`.\n",
    "\n",
    "__Question__ Remplacer les en-têtes des colonnes de `df` (à partir de la 7ème) en supprimant ce suffixe. Les en-têtes de colonnes sont accessibles grâce à `df.columns`."
   ]
  },
  {
   "cell_type": "code",
   "execution_count": 57,
   "metadata": {},
   "outputs": [
    {
     "name": "stdout",
     "output_type": "stream",
     "text": [
      "Index(['FID', 'IID', 'PAT', 'MAT', 'SEX', 'PHENOTYPE', 'rs6681049',\n",
      "       'rs4074137', 'rs1891905', 'rs9729550',\n",
      "       ...\n",
      "       'rs7410608', 'rs4824149', 'rs4824157', 'rs131817', 'rs131794',\n",
      "       'rs5770913', 'rs131750', 'rs2269380', 'rs1001469', 'rs756638'],\n",
      "      dtype='object', length=66542)\n"
     ]
    }
   ],
   "source": [
    "tmp = []\n",
    "for col in df.columns:\n",
    "    tmp.append(col.split(\"_\")[0])\n",
    "df.columns = tmp\n",
    "print(df.columns)"
   ]
  },
  {
   "cell_type": "markdown",
   "metadata": {},
   "source": [
    "## 2.1 Pourcentage de variance expliquée par les SNPs significatifs\n",
    "Avant de mettre en place des modèles d'apprentissage, nous allons utiliser `scikit-learn` pour déterminer la fraction de la variance phénotypique de nos 89 individus qui est expliquée par les SNPs significatifs détectés avec PLINK.\n",
    "\n",
    "Nous allons commencer par construire un _modèle linéaire_ qui utilise uniquement ces SNPs."
   ]
  },
  {
   "cell_type": "code",
   "execution_count": 58,
   "metadata": {},
   "outputs": [
    {
     "data": {
      "text/plain": [
       "LinearRegression(copy_X=True, fit_intercept=True, n_jobs=1, normalize=False)"
      ]
     },
     "execution_count": 58,
     "metadata": {},
     "output_type": "execute_result"
    }
   ],
   "source": [
    "# Identifier les indices des SNPs significatifs dans X :\n",
    "# ce sont les indices des SNPs significatifs dans df, moins 6 (nous avons exclu les 6 premières colonnes)\n",
    "sig_indices = [(df.columns.get_loc(snp)-6) for snp in sig_SNPs]\n",
    "# Restreindre X aux SNPs significatifs\n",
    "X_sig = X[:, sig_indices]\n",
    "\n",
    "# Créer un modèle linéaire qui utilise les SNPs significatifs uniquement\n",
    "from sklearn import linear_model\n",
    "model = linear_model.LinearRegression() # crée un objet \"modèle de régression linéaire\"\n",
    "model.fit(X_sig, y) # apprend ce modèle sur les SNPs significatifs"
   ]
  },
  {
   "cell_type": "markdown",
   "metadata": {},
   "source": [
    "Nous allons maintenant évaluer à quel point ce modèle arrive à prédire le phénotype."
   ]
  },
  {
   "cell_type": "code",
   "execution_count": 59,
   "metadata": {},
   "outputs": [
    {
     "data": {
      "image/png": "[encoded data removed]",
      "text/plain": [
       "<matplotlib.figure.Figure at 0x7f936a474940>"
      ]
     },
     "metadata": {},
     "output_type": "display_data"
    }
   ],
   "source": [
    "# Essayons de prédire y avec ce modèle\n",
    "y_pred = model.predict(X_sig)\n",
    "\n",
    "# Regardons visuellement à quel point nos prédictions sont proches de la réalité\n",
    "plt.scatter(y, y_pred)\n",
    "plt.xlabel(\"True phenotype\", fontsize=14)\n",
    "plt.ylabel(\"Predicted phenotype\", fontsize=14)\n",
    "plt.title(\"Phenotype predicted from 2 significant SNPs\")\n",
    "plt.show(block=False)"
   ]
  },
  {
   "cell_type": "markdown",
   "metadata": {},
   "source": [
    "Il est aussi possible d'utiliser `scikit-learn` pour quantifier la qualité de ces prédictions grâce à la __proportion de variance expliquée__"
   ]
  },
  {
   "cell_type": "code",
   "execution_count": 62,
   "metadata": {},
   "outputs": [
    {
     "name": "stdout",
     "output_type": "stream",
     "text": [
      "0.697490094731\n"
     ]
    }
   ],
   "source": [
    "from sklearn import metrics\n",
    "print(metrics.explained_variance_score(y, y_pred))"
   ]
  },
  {
   "cell_type": "markdown",
   "metadata": {
    "collapsed": true
   },
   "source": [
    "__Question__ Quelle est la proportion de variance expliquée par les SNPs significativement associés au phénotype par PLINK ?"
   ]
  },
  {
   "cell_type": "markdown",
   "metadata": {},
   "source": [
    "__Réponse__ 70% de la variance expliquée."
   ]
  },
  {
   "cell_type": "markdown",
   "metadata": {},
   "source": [
    "Rappelez-vous que nous travaillons sur des données simulées. Par contraste, les SNPs associés à la taille humaine expliquent seulement 12% de la variance phénotypique, bien que l'on estime qu'environ 80% de ce phénotype est héritable, ce qui illustre le problème dit de l'_héritabilité manquante_. \n",
    "\n",
    "Nous allons maintenant appliquer des techniques de machine learning pour essayer de détecter plus de SNPs susceptibles d'expliquer notre phénotype."
   ]
  },
  {
   "cell_type": "markdown",
   "metadata": {},
   "source": [
    "## 2.2 Lasso\n",
    "\n",
    "Pour cela, nous allons utiliser un Lasso. Le Lasso trouve une combinaison linéaire de SNPs qui explique au mieux le phénotype, et a un mécanisme intrinsèque (la _régularisation l1_) qui permet de créer un modèle _parcimonieux_ (ou _sparse_), c'est-à-dire un modèle qui utilise le moins de SNPs possible.\n",
    "\n",
    "Pour ce faire, le Lasso minimise une somme de deux termes : l'erreur quadratique moyenne entre phénotype prédit et phénotype réel, et le terme de régularisation. Le terme de régularisation est la somme des valeurs absolues des coefficients de la régression linéaire. Il est donc faible quand beaucoup de features ont un coefficient de régression nul.\n",
    "\n",
    "L'importance relative des deux termes (erreurs et régularisation) est controllée par un paramètre de régularisation (`alpha` dans `scikit-learn`). Plus `alpha` est grand, plus le terme de régularisation a d'importance, et moins il y aura de SNPs dans le modèle.\n",
    "\n",
    "Nous allons commencer par observer le comportement du Lasso pour plusieurs valeurs de `alpha` avant de voir comment le déterminer de manière automatique.\n",
    "\n",
    "http://scikit-learn.org/stable/modules/generated/sklearn.linear_model.Lasso.html"
   ]
  },
  {
   "cell_type": "code",
   "execution_count": 65,
   "metadata": {},
   "outputs": [
    {
     "name": "stdout",
     "output_type": "stream",
     "text": [
      "3 selected SNPs\n"
     ]
    },
    {
     "data": {
      "image/png": "[encoded data removed]",
      "text/plain": [
       "<matplotlib.figure.Figure at 0x7f9368029240>"
      ]
     },
     "metadata": {},
     "output_type": "display_data"
    }
   ],
   "source": [
    "# Créer un modèle Lasso avec un paramètre de régularisation de 0.05\n",
    "lasso = linear_model.Lasso(alpha=0.05)\n",
    "# Entraîner le modèle sur les données\n",
    "lasso.fit(X, y)\n",
    "# Détecter les indices des SNPs qui ont des coefficients non nuls\n",
    "selected_snps = np.where(lasso.coef_)[0]\n",
    "# Les compter\n",
    "print(len(selected_snps), \"selected SNPs\")\n",
    "# Visualiser the coefficients\n",
    "plt.scatter(range(lasso.coef_.shape[0]), # x-axis = SNPs\n",
    "            lasso.coef_, # y-axis = SNP weight\n",
    "            )\n",
    "plt.show(block=False)"
   ]
  },
  {
   "cell_type": "markdown",
   "metadata": {},
   "source": [
    "__Question__ Combien de SNPs le Lasso avec un paramètre de régularisation de 0.05 a-t-il sélectionné ? Quelle est leur p-valeur selon PLINK ? "
   ]
  },
  {
   "cell_type": "code",
   "execution_count": 89,
   "metadata": {},
   "outputs": [
    {
     "name": "stdout",
     "output_type": "stream",
     "text": [
      "            SNP         P\n",
      "683  rs12045968  0.000007\n",
      "            SNP             P\n",
      "12345  rs920160  2.870000e-08\n",
      "             SNP             P\n",
      "43968  rs1015896  5.608000e-13\n"
     ]
    }
   ],
   "source": [
    "for idx in selected_snps :\n",
    "    print(df_sorted[df_sorted.SNP == df.columns[6+idx]][[\"SNP\",\"P\"]])"
   ]
  },
  {
   "cell_type": "markdown",
   "metadata": {},
   "source": [
    "__Réponse__ 3 SNP sélectionnés."
   ]
  },
  {
   "cell_type": "markdown",
   "metadata": {},
   "source": [
    "__Question__ Quel est le pourcentage de variance expliqué par ces SNPs ?"
   ]
  },
  {
   "cell_type": "code",
   "execution_count": 90,
   "metadata": {
    "scrolled": true
   },
   "outputs": [
    {
     "name": "stdout",
     "output_type": "stream",
     "text": [
      "0.762636664915\n"
     ]
    }
   ],
   "source": [
    "ypred = lasso.predict(X)\n",
    "print(metrics.explained_variance_score(y, ypred))"
   ]
  },
  {
   "cell_type": "markdown",
   "metadata": {},
   "source": [
    "__Réponse__ 76%"
   ]
  },
  {
   "cell_type": "markdown",
   "metadata": {},
   "source": [
    "__Question__ Reprendre ces analyses pour `alpha=0.1` et `alpha=0.02`. Qu'observerez-vous ?"
   ]
  },
  {
   "cell_type": "code",
   "execution_count": 94,
   "metadata": {},
   "outputs": [
    {
     "name": "stdout",
     "output_type": "stream",
     "text": [
      "2 selected SNPs\n"
     ]
    },
    {
     "data": {
      "image/png": "[encoded data removed]",
      "text/plain": [
       "<matplotlib.figure.Figure at 0x7f9386173080>"
      ]
     },
     "metadata": {},
     "output_type": "display_data"
    },
    {
     "name": "stdout",
     "output_type": "stream",
     "text": [
      "            SNP             P\n",
      "12345  rs920160  2.870000e-08\n",
      "             SNP             P\n",
      "43968  rs1015896  5.608000e-13\n",
      "0.259114688938\n",
      "6 selected SNPs\n"
     ]
    },
    {
     "data": {
      "image/png": "[encoded data removed]",
      "text/plain": [
       "<matplotlib.figure.Figure at 0x7f936a31a668>"
      ]
     },
     "metadata": {},
     "output_type": "display_data"
    },
    {
     "name": "stdout",
     "output_type": "stream",
     "text": [
      "            SNP         P\n",
      "683  rs12045968  0.000007\n",
      "            SNP             P\n",
      "12345  rs920160  2.870000e-08\n",
      "             SNP         P\n",
      "19480  rs1439279  0.002429\n",
      "              SNP         P\n",
      "37206  rs10964854  0.007227\n",
      "             SNP             P\n",
      "43968  rs1015896  5.608000e-13\n",
      "             SNP        P\n",
      "48589  rs7965447  0.02856\n",
      "0.938896281278\n"
     ]
    }
   ],
   "source": [
    "# Créer un modèle Lasso avec un paramètre de régularisation de 0.1\n",
    "lasso = linear_model.Lasso(alpha=0.1)\n",
    "# Entraîner le modèle sur les données\n",
    "lasso.fit(X, y)\n",
    "# Détecter les indices des SNPs qui ont des coefficients non nuls\n",
    "selected_snps = np.where(lasso.coef_)[0]\n",
    "# Les compter\n",
    "print(len(selected_snps), \"selected SNPs\")\n",
    "# Visualiser the coefficients\n",
    "plt.scatter(range(lasso.coef_.shape[0]), # x-axis = SNPs\n",
    "            lasso.coef_, # y-axis = SNP weight\n",
    "            )\n",
    "plt.show(block=False)\n",
    "\n",
    "for idx in selected_snps :\n",
    "    print(df_sorted[df_sorted.SNP == df.columns[6+idx]][[\"SNP\",\"P\"]])\n",
    "ypred = lasso.predict(X)\n",
    "print(metrics.explained_variance_score(y, ypred))\n",
    "   \n",
    "# Créer un modèle Lasso avec un paramètre de régularisation de 0.02\n",
    "lasso = linear_model.Lasso(alpha=0.02)\n",
    "# Entraîner le modèle sur les données\n",
    "lasso.fit(X, y)\n",
    "# Détecter les indices des SNPs qui ont des coefficients non nuls\n",
    "selected_snps = np.where(lasso.coef_)[0]\n",
    "# Les compter\n",
    "print(len(selected_snps), \"selected SNPs\")\n",
    "# Visualiser the coefficients\n",
    "plt.scatter(range(lasso.coef_.shape[0]), # x-axis = SNPs\n",
    "            lasso.coef_, # y-axis = SNP weight\n",
    "            )\n",
    "plt.show(block=False)\n",
    "\n",
    "for idx in selected_snps :\n",
    "    print(df_sorted[df_sorted.SNP == df.columns[6+idx]][[\"SNP\",\"P\"]])\n",
    "\n",
    "ypred = lasso.predict(X)\n",
    "print(metrics.explained_variance_score(y, ypred))\n"
   ]
  },
  {
   "cell_type": "markdown",
   "metadata": {},
   "source": [
    "__Réponse__ Avec alpha = 0.1, on a 26% de la variance expliquée et avec alpha = 0.02, on a 94% de la variance expliquée. On oberve que plus alpha est petit, plus le pourcentage de variance expliquée augmente, donc on sélectionne plus de SNPs."
   ]
  },
  {
   "cell_type": "markdown",
   "metadata": {},
   "source": [
    "## 2.3 Validation croisée du Lasso\n",
    "\n",
    "Quelle valeur de `alpha` choisir ? Dans une grille de possibilités (c'est-à-dire, ici, une liste de valeurs de `alpha`), nous allons choisir la valeur qui donne le modèle le plus performant _en validation croisée_.\n",
    "\n",
    "`scikit-learn` nous permet de le faire de façon transparente grâce à http://scikit-learn.org/stable/modules/generated/sklearn.linear_model.LassoCV.html."
   ]
  },
  {
   "cell_type": "code",
   "execution_count": 96,
   "metadata": {},
   "outputs": [
    {
     "name": "stdout",
     "output_type": "stream",
     "text": [
      "Optimal alpha: 0.0110172338489\n"
     ]
    }
   ],
   "source": [
    "# Initialiser un modèle Lasso avec une validation croisée interne à 5 folds.\n",
    "lasso_cv = linear_model.LassoCV(cv=5)\n",
    "# Entraîner ce modèle sur les données\n",
    "lasso_cv.fit(X, y)\n",
    "\n",
    "# Quelle est la valeur optimale de alpha ?\n",
    "print(\"Optimal alpha:\", lasso_cv.alpha_)"
   ]
  },
  {
   "cell_type": "markdown",
   "metadata": {},
   "source": [
    "__Question__ Quelle est la valeur optimale de `alpha` ? Combien de SNPs sont sélectionnés ? Quelle est le pourcentage de variance expliquée ?"
   ]
  },
  {
   "cell_type": "code",
   "execution_count": 97,
   "metadata": {},
   "outputs": [
    {
     "name": "stdout",
     "output_type": "stream",
     "text": [
      "25 selected SNPs\n"
     ]
    },
    {
     "data": {
      "image/png": "[encoded data removed]",
      "text/plain": [
       "<matplotlib.figure.Figure at 0x7f936a490eb8>"
      ]
     },
     "metadata": {},
     "output_type": "display_data"
    },
    {
     "name": "stdout",
     "output_type": "stream",
     "text": [
      "            SNP         P\n",
      "683  rs12045968  0.000007\n",
      "            SNP         P\n",
      "2187  rs1884018  0.003032\n",
      "            SNP         P\n",
      "10274  rs768180  0.000954\n",
      "             SNP       P\n",
      "11504  rs2675173  0.0357\n",
      "            SNP             P\n",
      "12345  rs920160  2.870000e-08\n",
      "             SNP         P\n",
      "19480  rs1439279  0.002429\n",
      "             SNP        P\n",
      "23952  rs4711069  0.02891\n",
      "             SNP        P\n",
      "31244  rs7801395  0.01709\n",
      "             SNP        P\n",
      "32255  rs1471026  0.00661\n",
      "             SNP        P\n",
      "33344  rs1866739  0.04651\n",
      "             SNP         P\n",
      "34052  rs6471328  0.000273\n",
      "             SNP         P\n",
      "36614  rs1926370  0.002673\n",
      "              SNP         P\n",
      "37206  rs10964854  0.007227\n",
      "            SNP         P\n",
      "40259  rs705670  0.002869\n",
      "            SNP         P\n",
      "43512  rs307388  0.003693\n",
      "             SNP             P\n",
      "43968  rs1015896  5.608000e-13\n",
      "              SNP         P\n",
      "48263  rs10745844  0.002886\n",
      "             SNP         P\n",
      "48356  rs1356441  0.000228\n",
      "             SNP        P\n",
      "48589  rs7965447  0.02856\n",
      "             SNP         P\n",
      "50634  rs9564660  0.003781\n",
      "             SNP        P\n",
      "50653  rs1373090  0.04572\n",
      "             SNP        P\n",
      "52697  rs4151182  0.02385\n",
      "             SNP        P\n",
      "57451  rs8080993  0.01538\n",
      "             SNP        P\n",
      "60661  rs1539958  0.03646\n",
      "             SNP       P\n",
      "63720  rs6022779  0.1196\n",
      "0.974780482584\n"
     ]
    }
   ],
   "source": [
    "# Créer un modèle Lasso avec un paramètre de régularisation de 0.0110172338489\n",
    "lasso = linear_model.Lasso(alpha=0.0110172338489)\n",
    "# Entraîner le modèle sur les données\n",
    "lasso.fit(X, y)\n",
    "# Détecter les indices des SNPs qui ont des coefficients non nuls\n",
    "selected_snps = np.where(lasso.coef_)[0]\n",
    "# Les compter\n",
    "print(len(selected_snps), \"selected SNPs\")\n",
    "# Visualiser the coefficients\n",
    "plt.scatter(range(lasso.coef_.shape[0]), # x-axis = SNPs\n",
    "            lasso.coef_, # y-axis = SNP weight\n",
    "            )\n",
    "plt.show(block=False)\n",
    "\n",
    "for idx in selected_snps :\n",
    "    print(df_sorted[df_sorted.SNP == df.columns[6+idx]][[\"SNP\",\"P\"]])\n",
    "\n",
    "ypred = lasso.predict(X)\n",
    "print(metrics.explained_variance_score(y, ypred))"
   ]
  },
  {
   "cell_type": "markdown",
   "metadata": {},
   "source": [
    "__Réponse__ On obtient un alpha optimal de 0.0110172338489. 25 SNPs sont sélectionnés. 97% de la variance est expliquée. "
   ]
  },
  {
   "cell_type": "markdown",
   "metadata": {},
   "source": [
    "### Surapprentissage \n",
    "\n",
    "Vous venez normalement d'observer que l'on arrive à expliquer la quasi-totalité de la variance phénotypique avec quelques dizaines de SNPs. \n",
    "\n",
    "Cela pourrait-il être trop beau pour être vrai, et être lié à un phénomène de _surapprentissage_ ? Nous venons d'évaluer notre modèle de régression linéaire sur les mêmes données que celles que nous avons utilisées pour le construire. Marcherait-il aussi bien sur des individus que nous n'avons jamais vu ? Pour évaluer cette situation, nous allons recommencer les expériences ci-dessus en utilisant uniquement deux tiers de notre cohorte pour l'exploration (=la sélection de SNPs), et le tiers restant pour la validation.\n",
    "\n",
    "__Attention__ Utiliser uniquement 2/3 de nos échantillons pour la sélection réduit la puissance statistique de nos analyses..."
   ]
  },
  {
   "cell_type": "code",
   "execution_count": 99,
   "metadata": {
    "collapsed": true
   },
   "outputs": [],
   "source": [
    "# Séparons nos données en un jeu pour l'exploration et un de validation\n",
    "from sklearn import model_selection\n",
    "X_explo, X_val, y_explo, y_val = model_selection.train_test_split(X, y, test_size=0.33,\n",
    "                                 random_state=42)"
   ]
  },
  {
   "cell_type": "markdown",
   "metadata": {
    "collapsed": true
   },
   "source": [
    "__Question__ Entrainer de nouveau un Lasso sur `(X_explo, y_explo)`, mais cette fois utiliser une validation croisée en 3 folds car le jeu contient peu d'échantillons."
   ]
  },
  {
   "cell_type": "code",
   "execution_count": 101,
   "metadata": {},
   "outputs": [
    {
     "name": "stdout",
     "output_type": "stream",
     "text": [
      "Optimal alpha: 0.127623704826\n"
     ]
    }
   ],
   "source": [
    "# Initialiser un modèle Lasso avec une validation croisée interne à 3 folds.\n",
    "lasso_cv = linear_model.LassoCV(cv=3)\n",
    "# Entraîner ce modèle sur les données\n",
    "lasso_cv.fit(X_explo, y_explo)\n",
    "\n",
    "# Quelle est la valeur optimale de alpha ?\n",
    "print(\"Optimal alpha:\", lasso_cv.alpha_)"
   ]
  },
  {
   "cell_type": "markdown",
   "metadata": {},
   "source": [
    "__Question__ Quelle est maintenant la valeur optimale de `alpha` ?"
   ]
  },
  {
   "cell_type": "markdown",
   "metadata": {},
   "source": [
    "__Réponse__ Alpha = 0.127623704826"
   ]
  },
  {
   "cell_type": "markdown",
   "metadata": {},
   "source": [
    "__Question__ Quel pourcentage de variance les SNPs sélectionnés expliquent-ils _dans le jeu d'exploration_ ?"
   ]
  },
  {
   "cell_type": "code",
   "execution_count": 109,
   "metadata": {},
   "outputs": [
    {
     "name": "stdout",
     "output_type": "stream",
     "text": [
      "0.412412524418\n"
     ]
    }
   ],
   "source": [
    "# Identifier les indices des SNPs significatifs dans X :\n",
    "# ce sont les indices des SNPs significatifs dans df, moins 6 (nous avons exclu les 6 premières colonnes)\n",
    "sig_indices = np.where(lasso_cv.coef_)[0]\n",
    "# Restreindre X aux SNPs significatifs\n",
    "X_sig = X_explo[:, sig_indices]\n",
    "\n",
    "# Créer un modèle linéaire qui utilise les SNPs significatifs uniquement\n",
    "model = linear_model.LinearRegression() # crée un objet \"modèle de régression linéaire\"\n",
    "model.fit(X_sig, y_explo) # apprend ce modèle sur les SNPs significatifs\n",
    "y_pred = model.predict(X_sig)\n",
    "print(metrics.explained_variance_score(y_explo, y_pred))"
   ]
  },
  {
   "cell_type": "markdown",
   "metadata": {},
   "source": [
    "__Question__ Quel pourcentage de variance les SNPs sélectionnés expliquent-ils _dans le jeu de test_ ?"
   ]
  },
  {
   "cell_type": "code",
   "execution_count": 110,
   "metadata": {},
   "outputs": [
    {
     "name": "stdout",
     "output_type": "stream",
     "text": [
      "0.00335918042927\n"
     ]
    }
   ],
   "source": [
    "# Identifier les indices des SNPs significatifs dans X :\n",
    "# ce sont les indices des SNPs significatifs dans df, moins 6 (nous avons exclu les 6 premières colonnes)\n",
    "sig_indices = np.where(lasso_cv.coef_)[0]\n",
    "# Restreindre X aux SNPs significatifs\n",
    "X_sig = X_val[:, sig_indices]\n",
    "\n",
    "# Créer un modèle linéaire qui utilise les SNPs significatifs uniquement\n",
    "from sklearn import linear_model\n",
    "model = linear_model.LinearRegression() # crée un objet \"modèle de régression linéaire\"\n",
    "model.fit(X_sig, y_val) # apprend ce modèle sur les SNPs significatifs\n",
    "y_pred = model.predict(X_sig)\n",
    "print(metrics.explained_variance_score(y_val, y_pred))"
   ]
  },
  {
   "cell_type": "markdown",
   "metadata": {},
   "source": [
    "__Commentaire__ On a 40% de la variance expliquée dans le jeu d'exploration et 0.3% de la variance expliquée dans le jeu de test."
   ]
  },
  {
   "cell_type": "markdown",
   "metadata": {},
   "source": [
    "# 3. Pour aller plus loin\n",
    "\n",
    "Quelques pistes à explorer si vous souhaitez aller plus loin dans l'exploration des données :\n",
    "\n",
    "### Stabilité\n",
    "Appliquez les techniques ci-dessus (PLINK ou Lasso) à 90% des échantillons, sélectionnés au hasard, et répétez la procédure plusieurs fois. Obtenez-vous systématiquement les mêmes SNPs ?\n",
    "\n",
    "Le Lasso est connu pour être instable en présence de corrélation entre les variables (ce qui est le cas des SNPs, en particulier à cause du déséquilibre de liaison), et il est très probable que vous obteniez des résultats différents sauf peut-être pour les 2-3 SNPs les plus associés au phénotype. Quelle conséquence cela a-t-il sur l'interprétabilité des résultats ?\n",
    "\n",
    "### Elastic Net\n",
    "\n",
    "Elastic Net est une façon de stabiliser le Lasso : il mélange la parcimonie du Lasso avec l'effet de sélection groupée d'une régularisation l2 (régression ridge). Vous le trouverez dans `sklearn.linear_model.ElasticNet` (voir http://scikit-learn.org/stable/modules/generated/sklearn.linear_model.ElasticNet.html et http://scikit-learn.org/stable/modules/generated/sklearn.linear_model.ElasticNetCV.html). \n",
    "\n",
    "Si vous utilisez ElasticNet à la place du Lasso, comment cela affecte-t-il le nombre de SNPs sélectionnés ? Le pourcentage de variance expliquée sur le jeu de validation ? La stabilité des résultats ?"
   ]
  }
 ],
 "metadata": {
  "kernelspec": {
   "display_name": "Python 3",
   "language": "python",
   "name": "python3"
  },
  "language_info": {
   "codemirror_mode": {
    "name": "ipython",
    "version": 3
   },
   "file_extension": ".py",
   "mimetype": "text/x-python",
   "name": "python",
   "nbconvert_exporter": "python",
   "pygments_lexer": "ipython3",
   "version": "3.6.1"
  }
 },
 "nbformat": 4,
 "nbformat_minor": 2
}
