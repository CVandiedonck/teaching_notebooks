{
 "cells": [
  {
   "cell_type": "markdown",
   "metadata": {},
   "source": [
    "# __R Session n°2 - practical: version with corrections__\n",
    "\n",
    "M1 MEG UE5 - Claire Vandiedonck\n",
    "***\n",
    "\n",
    "__*Programme couvert:*__\n",
    "\n",
    "- Les matrices et leur manipulation\n"
   ]
  },
  {
   "cell_type": "markdown",
   "metadata": {},
   "source": [
    "---\n",
    "    \n",
    "**Rappels**    \n",
    "> Les exercices proposés sont donnés dans un ordre progressif qui suit celui du diaporama associé. Ils ont des niveaux de difficulté variable. Pour chaque exercice, des fonctions R vous sont suggérées. N’hésitez pas à consulter leur menu d’aide en tapant soit `?nom_fonction`, soit `help(nom_fonction)`. Vous pouvez parvenir aux mêmes résultats avec d’autres commandes. Les commandes les plus courtes sont en général les meilleures. Une correction détaillée sera fournie.\n",
    "\n",
    "> Vous pouvez réaliser ces exercices directement dans ce notebook sur `adenine` en indiquant votre code dans les cellules laissées libres. Pour ajouter une nouvelle cellule, cliquez simplement sur le `+`dans le menu en haut à gauche du notebook (cf. rappels sur les notebooks en bas de ce notebook). Vous pouvez mettre plusieurs lignes de code aussi par cellule.\n",
    "> Pour executer les cellules, cliquez sur `Shift+Enter`. Executez les dans le bon ordre.\n",
    "> Remarque: dans un notebook jupyter, l'affichage des vecteurs n'est pas classique. Si vous souhaitez afficher le vecteur de façon plus classique, c'est à dire en ligne avec l'indice pour la 1ère valeur de chaque ligne au début de la ligne, tel qu'il apparait dans R, il est nécessaire d'utiliser la fonction `print()` -> voir dans cet exemple avec un vecteur contenant les deux valeurs numériques 1 et 10.\n"
   ]
  },
  {
   "cell_type": "code",
   "execution_count": 1,
   "metadata": {},
   "outputs": [
    {
     "data": {
      "text/html": [
       "<style>\n",
       ".list-inline {list-style: none; margin:0; padding: 0}\n",
       ".list-inline>li {display: inline-block}\n",
       ".list-inline>li:not(:last-child)::after {content: \"\\00b7\"; padding: 0 .5ex}\n",
       "</style>\n",
       "<ol class=list-inline><li>1</li><li>10</li></ol>\n"
      ],
      "text/latex": [
       "\\begin{enumerate*}\n",
       "\\item 1\n",
       "\\item 10\n",
       "\\end{enumerate*}\n"
      ],
      "text/markdown": [
       "1. 1\n",
       "2. 10\n",
       "\n",
       "\n"
      ],
      "text/plain": [
       "[1]  1 10"
      ]
     },
     "metadata": {},
     "output_type": "display_data"
    }
   ],
   "source": [
    "my_vector <- c(1, 10) # pour générer le vecteur et l'assigner dans un objet \"my_vector\"\n",
    "my_vector # l'affichage ici montre deux éléments dont l'affichage est séparé par un point médian."
   ]
  },
  {
   "cell_type": "code",
   "execution_count": 2,
   "metadata": {},
   "outputs": [
    {
     "name": "stdout",
     "output_type": "stream",
     "text": [
      "[1]  1 10\n"
     ]
    }
   ],
   "source": [
    "print(my_vector) # L'affichage ici montre le vecteur par ligne avec l'indice 1 entre crochets indiquant l'indice de la première valeur de la ligne."
   ]
  },
  {
   "cell_type": "markdown",
   "metadata": {},
   "source": [
    "> Vous pouvez également réaliser ces exercices si vous le préférez dans un terminal ou une console de cet environnement `megm1_ue5_r` sur adenine, ou sur la version rstudio de cet environnement.\n",
    ">\n",
    "> Il est enfin possible de réaliser ces exercices sur votre ordinateur. Dans ce cas, utilisez un editeur de texte avec coloration syntaxique pour votre code (editeur dans Rstudio, ou Tinn-R ou notepad++ par exemple). Sauvegardez vos commandes dans un fichier mes_commandes.R dans le répertoire de votre choix. Exécutez les commandes une par une dans votre console. Vous pouvez ajouter des commentaires qui ne seront pas éxécutés si vous les précédez du caractère « # ».\n",
    "\n",
    ">    "
   ]
  },
  {
   "cell_type": "markdown",
   "metadata": {},
   "source": [
    "---\n",
    "## Avant d'aller plus loin\n",
    "\n",
    "<div class=\"alert alert-block alert-danger\"><b>Attention:</b> \n",
    "Ne travaillez pas directement sur ce notebook pour ne pas le perdre. Dupliquez-le et renommez-le par exemple en ajoutant vos initiales et travaillez sur cette nouvelle copie. Pour ce faire, dans le panneau de gauche, faites un clic droit sur le fichier et sélectionnez \"Duplicate\". Puis, toujours dans la colonne de gauche, faites un clic droit sur cette copie et sélectionnez \"rename\" pour changer le nom. Ouvrez ensuite cette nouvelle version en double cliquant dessus. Vous êtes prêt(e) à démarrer! <br>\n",
    "<br>\n",
    "<b>N'oubliez pas de sauvegarder régulièrement votre notebook</b>: <kbd>Ctrl</kbd> + <kbd>S</kbd>. ou en cliquant sur l'icone 💾 en haut à gauche de votre notebook ou dans le Menu du JupyterLab \"File puis \"Save Notebook\"! Vous pouvez aussi le sauvegarder au format html: Menu \"File\" > Export Notebook As> Export notebook as HTML.\n",
    "</div>\n",
    " "
   ]
  },
  {
   "cell_type": "markdown",
   "metadata": {},
   "source": [
    "<mark> Do not hesitate to try other commands by adding other cells. cf  useful commands at the bottom of the notebook</mark> "
   ]
  },
  {
   "cell_type": "markdown",
   "metadata": {},
   "source": [
    "<div class=\"alert alert-block alert-warning\"><b>Open variable inspector:</b> right click on the notebook and select \"Open Variable Inspector\". A new tab will open. </div>"
   ]
  },
  {
   "cell_type": "markdown",
   "metadata": {},
   "source": [
    "#### 1. Identifiez votre répertoire de travail"
   ]
  },
  {
   "cell_type": "code",
   "execution_count": 3,
   "metadata": {},
   "outputs": [
    {
     "data": {
      "text/html": [
       "'/srv/home/cvandiedonck/megm1_ue5_r/R2'"
      ],
      "text/latex": [
       "'/srv/home/cvandiedonck/megm1\\_ue5\\_r/R2'"
      ],
      "text/markdown": [
       "'/srv/home/cvandiedonck/megm1_ue5_r/R2'"
      ],
      "text/plain": [
       "[1] \"/srv/home/cvandiedonck/megm1_ue5_r/R2\""
      ]
     },
     "metadata": {},
     "output_type": "display_data"
    }
   ],
   "source": [
    "getwd()"
   ]
  },
  {
   "cell_type": "markdown",
   "metadata": {},
   "source": [
    "Si ce répertoire ne vous convient pas, changer le pour un répertoire existant `my_directory`par exemple, avec la commande suivante en spécifiant le chemin relatif ou absolu de votre répertoire:\n",
    "```setwd(\"path/my_directory\")```"
   ]
  },
  {
   "cell_type": "markdown",
   "metadata": {},
   "source": [
    "#### 2.  Identifiez la version R de votre environnement et packages installés."
   ]
  },
  {
   "cell_type": "code",
   "execution_count": 4,
   "metadata": {},
   "outputs": [
    {
     "data": {
      "text/plain": [
       "R version 4.1.3 (2022-03-10)\n",
       "Platform: x86_64-conda-linux-gnu (64-bit)\n",
       "Running under: Ubuntu 18.04.4 LTS\n",
       "\n",
       "Matrix products: default\n",
       "BLAS/LAPACK: /srv/conda/envs/notebook/lib/libopenblasp-r0.3.21.so\n",
       "\n",
       "locale:\n",
       " [1] LC_CTYPE=en_US.UTF-8       LC_NUMERIC=C              \n",
       " [3] LC_TIME=en_US.UTF-8        LC_COLLATE=en_US.UTF-8    \n",
       " [5] LC_MONETARY=en_US.UTF-8    LC_MESSAGES=en_US.UTF-8   \n",
       " [7] LC_PAPER=en_US.UTF-8       LC_NAME=C                 \n",
       " [9] LC_ADDRESS=C               LC_TELEPHONE=C            \n",
       "[11] LC_MEASUREMENT=en_US.UTF-8 LC_IDENTIFICATION=C       \n",
       "\n",
       "attached base packages:\n",
       "[1] stats     graphics  grDevices utils     datasets  methods   base     \n",
       "\n",
       "other attached packages:\n",
       "[1] repr_1.1.4\n",
       "\n",
       "loaded via a namespace (and not attached):\n",
       " [1] fansi_1.0.3     crayon_1.5.1    digest_0.6.29   utf8_1.2.2     \n",
       " [5] IRdisplay_1.1   lifecycle_1.0.2 jsonlite_1.8.0  evaluate_0.16  \n",
       " [9] pillar_1.8.1    rlang_1.0.5     cli_3.4.0       uuid_1.1-0     \n",
       "[13] vctrs_0.4.1     IRkernel_1.2    tools_4.1.3     glue_1.6.2     \n",
       "[17] fastmap_1.1.0   compiler_4.1.3  base64enc_0.1-3 pbdZMQ_0.3-7   \n",
       "[21] htmltools_0.5.3"
      ]
     },
     "metadata": {},
     "output_type": "display_data"
    }
   ],
   "source": [
    "sessionInfo()"
   ]
  },
  {
   "cell_type": "markdown",
   "metadata": {},
   "source": [
    "---\n",
    "---\n",
    "## Exercice 1 : création de matrices\n",
    "\n",
    "### Execrice 1.1\n",
    "\n",
    "Créez la matrice identité `matIdentite` de dimension 10 lignes x 10 colonnes contenant uniquement le chiffre 0. Affichez là.\n",
    "\n",
    "*__Tip :__*\n",
    "_fonction recommandée : `matrix()`_"
   ]
  },
  {
   "cell_type": "code",
   "execution_count": 5,
   "metadata": {},
   "outputs": [
    {
     "data": {
      "text/html": [
       "<table class=\"dataframe\">\n",
       "<caption>A matrix: 10 × 10 of type dbl</caption>\n",
       "<tbody>\n",
       "\t<tr><td>0</td><td>0</td><td>0</td><td>0</td><td>0</td><td>0</td><td>0</td><td>0</td><td>0</td><td>0</td></tr>\n",
       "\t<tr><td>0</td><td>0</td><td>0</td><td>0</td><td>0</td><td>0</td><td>0</td><td>0</td><td>0</td><td>0</td></tr>\n",
       "\t<tr><td>0</td><td>0</td><td>0</td><td>0</td><td>0</td><td>0</td><td>0</td><td>0</td><td>0</td><td>0</td></tr>\n",
       "\t<tr><td>0</td><td>0</td><td>0</td><td>0</td><td>0</td><td>0</td><td>0</td><td>0</td><td>0</td><td>0</td></tr>\n",
       "\t<tr><td>0</td><td>0</td><td>0</td><td>0</td><td>0</td><td>0</td><td>0</td><td>0</td><td>0</td><td>0</td></tr>\n",
       "\t<tr><td>0</td><td>0</td><td>0</td><td>0</td><td>0</td><td>0</td><td>0</td><td>0</td><td>0</td><td>0</td></tr>\n",
       "\t<tr><td>0</td><td>0</td><td>0</td><td>0</td><td>0</td><td>0</td><td>0</td><td>0</td><td>0</td><td>0</td></tr>\n",
       "\t<tr><td>0</td><td>0</td><td>0</td><td>0</td><td>0</td><td>0</td><td>0</td><td>0</td><td>0</td><td>0</td></tr>\n",
       "\t<tr><td>0</td><td>0</td><td>0</td><td>0</td><td>0</td><td>0</td><td>0</td><td>0</td><td>0</td><td>0</td></tr>\n",
       "\t<tr><td>0</td><td>0</td><td>0</td><td>0</td><td>0</td><td>0</td><td>0</td><td>0</td><td>0</td><td>0</td></tr>\n",
       "</tbody>\n",
       "</table>\n"
      ],
      "text/latex": [
       "A matrix: 10 × 10 of type dbl\n",
       "\\begin{tabular}{llllllllll}\n",
       "\t 0 & 0 & 0 & 0 & 0 & 0 & 0 & 0 & 0 & 0\\\\\n",
       "\t 0 & 0 & 0 & 0 & 0 & 0 & 0 & 0 & 0 & 0\\\\\n",
       "\t 0 & 0 & 0 & 0 & 0 & 0 & 0 & 0 & 0 & 0\\\\\n",
       "\t 0 & 0 & 0 & 0 & 0 & 0 & 0 & 0 & 0 & 0\\\\\n",
       "\t 0 & 0 & 0 & 0 & 0 & 0 & 0 & 0 & 0 & 0\\\\\n",
       "\t 0 & 0 & 0 & 0 & 0 & 0 & 0 & 0 & 0 & 0\\\\\n",
       "\t 0 & 0 & 0 & 0 & 0 & 0 & 0 & 0 & 0 & 0\\\\\n",
       "\t 0 & 0 & 0 & 0 & 0 & 0 & 0 & 0 & 0 & 0\\\\\n",
       "\t 0 & 0 & 0 & 0 & 0 & 0 & 0 & 0 & 0 & 0\\\\\n",
       "\t 0 & 0 & 0 & 0 & 0 & 0 & 0 & 0 & 0 & 0\\\\\n",
       "\\end{tabular}\n"
      ],
      "text/markdown": [
       "\n",
       "A matrix: 10 × 10 of type dbl\n",
       "\n",
       "| 0 | 0 | 0 | 0 | 0 | 0 | 0 | 0 | 0 | 0 |\n",
       "| 0 | 0 | 0 | 0 | 0 | 0 | 0 | 0 | 0 | 0 |\n",
       "| 0 | 0 | 0 | 0 | 0 | 0 | 0 | 0 | 0 | 0 |\n",
       "| 0 | 0 | 0 | 0 | 0 | 0 | 0 | 0 | 0 | 0 |\n",
       "| 0 | 0 | 0 | 0 | 0 | 0 | 0 | 0 | 0 | 0 |\n",
       "| 0 | 0 | 0 | 0 | 0 | 0 | 0 | 0 | 0 | 0 |\n",
       "| 0 | 0 | 0 | 0 | 0 | 0 | 0 | 0 | 0 | 0 |\n",
       "| 0 | 0 | 0 | 0 | 0 | 0 | 0 | 0 | 0 | 0 |\n",
       "| 0 | 0 | 0 | 0 | 0 | 0 | 0 | 0 | 0 | 0 |\n",
       "| 0 | 0 | 0 | 0 | 0 | 0 | 0 | 0 | 0 | 0 |\n",
       "\n"
      ],
      "text/plain": [
       "      [,1] [,2] [,3] [,4] [,5] [,6] [,7] [,8] [,9] [,10]\n",
       " [1,] 0    0    0    0    0    0    0    0    0    0    \n",
       " [2,] 0    0    0    0    0    0    0    0    0    0    \n",
       " [3,] 0    0    0    0    0    0    0    0    0    0    \n",
       " [4,] 0    0    0    0    0    0    0    0    0    0    \n",
       " [5,] 0    0    0    0    0    0    0    0    0    0    \n",
       " [6,] 0    0    0    0    0    0    0    0    0    0    \n",
       " [7,] 0    0    0    0    0    0    0    0    0    0    \n",
       " [8,] 0    0    0    0    0    0    0    0    0    0    \n",
       " [9,] 0    0    0    0    0    0    0    0    0    0    \n",
       "[10,] 0    0    0    0    0    0    0    0    0    0    "
      ]
     },
     "metadata": {},
     "output_type": "display_data"
    }
   ],
   "source": [
    "matIdentite <- matrix(data = 0, ncol = 10, nrow = 10)\n",
    "matIdentite"
   ]
  },
  {
   "cell_type": "markdown",
   "metadata": {},
   "source": [
    "Puis remplacez uniquement les valeurs de la diagonale par le chiffre 1.\n",
    "\n",
    "*__Tip :__*\n",
    "_fonction recommandée : `diag()`_\n",
    "\n"
   ]
  },
  {
   "cell_type": "code",
   "execution_count": 6,
   "metadata": {},
   "outputs": [],
   "source": [
    "diag(matIdentite) <- 1 #diag() retourne un vecteur dont on peut remplacer les valeurs 0 par 1"
   ]
  },
  {
   "cell_type": "markdown",
   "metadata": {},
   "source": [
    "Imprimez la matrice à l’écran.\n",
    "\n",
    "*__Tip :__*\n",
    "_fonction recommandée : `print()`_"
   ]
  },
  {
   "cell_type": "code",
   "execution_count": 7,
   "metadata": {},
   "outputs": [
    {
     "name": "stdout",
     "output_type": "stream",
     "text": [
      "      [,1] [,2] [,3] [,4] [,5] [,6] [,7] [,8] [,9] [,10]\n",
      " [1,]    1    0    0    0    0    0    0    0    0     0\n",
      " [2,]    0    1    0    0    0    0    0    0    0     0\n",
      " [3,]    0    0    1    0    0    0    0    0    0     0\n",
      " [4,]    0    0    0    1    0    0    0    0    0     0\n",
      " [5,]    0    0    0    0    1    0    0    0    0     0\n",
      " [6,]    0    0    0    0    0    1    0    0    0     0\n",
      " [7,]    0    0    0    0    0    0    1    0    0     0\n",
      " [8,]    0    0    0    0    0    0    0    1    0     0\n",
      " [9,]    0    0    0    0    0    0    0    0    1     0\n",
      "[10,]    0    0    0    0    0    0    0    0    0     1\n"
     ]
    }
   ],
   "source": [
    "print(matIdentite)"
   ]
  },
  {
   "cell_type": "markdown",
   "metadata": {},
   "source": [
    "<br>\n",
    "\n",
    "*__=> Pour aller plus loin :__*\n",
    "2 variantes plus efficaces pour créer la matrice : "
   ]
  },
  {
   "cell_type": "code",
   "execution_count": 8,
   "metadata": {},
   "outputs": [
    {
     "name": "stdout",
     "output_type": "stream",
     "text": [
      "------variante 1:\n",
      "      [,1] [,2] [,3] [,4] [,5] [,6] [,7] [,8] [,9] [,10]\n",
      " [1,]    1    0    0    0    0    0    0    0    0     0\n",
      " [2,]    0    1    0    0    0    0    0    0    0     0\n",
      " [3,]    0    0    1    0    0    0    0    0    0     0\n",
      " [4,]    0    0    0    1    0    0    0    0    0     0\n",
      " [5,]    0    0    0    0    1    0    0    0    0     0\n",
      " [6,]    0    0    0    0    0    1    0    0    0     0\n",
      " [7,]    0    0    0    0    0    0    1    0    0     0\n",
      " [8,]    0    0    0    0    0    0    0    1    0     0\n",
      " [9,]    0    0    0    0    0    0    0    0    1     0\n",
      "[10,]    0    0    0    0    0    0    0    0    0     1\n"
     ]
    }
   ],
   "source": [
    "cat(\"------variante 1:\\n\")\n",
    "print(diag(1,10,10))"
   ]
  },
  {
   "cell_type": "code",
   "execution_count": 9,
   "metadata": {},
   "outputs": [
    {
     "name": "stdout",
     "output_type": "stream",
     "text": [
      "------variante 2:\n",
      "      [,1] [,2] [,3] [,4] [,5] [,6] [,7] [,8] [,9] [,10]\n",
      " [1,]    1    0    0    0    0    0    0    0    0     0\n",
      " [2,]    0    1    0    0    0    0    0    0    0     0\n",
      " [3,]    0    0    1    0    0    0    0    0    0     0\n",
      " [4,]    0    0    0    1    0    0    0    0    0     0\n",
      " [5,]    0    0    0    0    1    0    0    0    0     0\n",
      " [6,]    0    0    0    0    0    1    0    0    0     0\n",
      " [7,]    0    0    0    0    0    0    1    0    0     0\n",
      " [8,]    0    0    0    0    0    0    0    1    0     0\n",
      " [9,]    0    0    0    0    0    0    0    0    1     0\n",
      "[10,]    0    0    0    0    0    0    0    0    0     1\n"
     ]
    }
   ],
   "source": [
    "cat(\"------variante 2:\\n\")\n",
    "print(diag(10))# en fait, par defaut, si on n'utilise qu'un seul argument dans la fonction diag(), la commande retourne une matrice de 0 sauf pour la diagonale contenant des 1"
   ]
  },
  {
   "cell_type": "markdown",
   "metadata": {},
   "source": [
    "---\n",
    "### Exercice 1.2.\n",
    "\n",
    "Créez une matrice `matAleatoire` contenant des valeurs tirées aléatoirement de dimension 10 lignes x 10 colonnes, dont les éléments suivent une loi normale de moyenne 0 et de variance 5. \n",
    "\n",
    "Imprimez la matrice à l’écran en arrondissant à 2 décimales.\n",
    "\n",
    "*__Tip :__*\n",
    "_fonction recommandée : `matrix()`, `print()`, `rnorm()`, `round()`_"
   ]
  },
  {
   "cell_type": "code",
   "execution_count": 10,
   "metadata": {},
   "outputs": [],
   "source": [
    "## Generate a 10x10 matrix with random normal numbers\n",
    "matAleatoire <- matrix(\n",
    "  nrow = 10, \n",
    "  ncol = 10, \n",
    "  data = rnorm(n = 100, \n",
    "               mean = 0, \n",
    "               sd = sqrt(5)))\n",
    "# as long as you specify the arguments, you may change the order to pass the arguments to the function"
   ]
  },
  {
   "cell_type": "code",
   "execution_count": 11,
   "metadata": {},
   "outputs": [
    {
     "name": "stdout",
     "output_type": "stream",
     "text": [
      "       [,1]  [,2]  [,3]  [,4]  [,5]  [,6]  [,7]  [,8]  [,9] [,10]\n",
      " [1,] -3.21 -5.36  0.36  0.17 -4.59 -4.50  3.20  1.07 -2.40 -1.24\n",
      " [2,] -0.58 -2.78  0.72  2.15 -1.48 -3.13 -2.27 -0.65 -0.16  2.76\n",
      " [3,]  3.16 -0.75  1.50 -2.65  0.77  1.99  1.59  1.90 -0.08 -1.62\n",
      " [4,]  1.54 -2.26  5.25  0.87  1.06  1.08 -0.36  2.36  2.19  2.04\n",
      " [5,]  0.52 -2.41  1.34 -0.51  1.53 -1.13 -0.29  1.36  1.20  0.23\n",
      " [6,] -0.82  2.61 -1.85 -0.89  1.60 -4.01  4.55 -1.11  0.86  0.67\n",
      " [7,] -0.70  0.76  1.45 -1.57 -1.84 -1.37  3.07 -0.48  3.79  1.09\n",
      " [8,]  2.86 -0.78  0.72 -7.16  3.33 -3.50 -0.43  1.14 -3.88 -2.52\n",
      " [9,]  2.11  2.00 -1.65  1.52 -0.14  0.91 -1.78 -2.81 -0.45 -4.33\n",
      "[10,] -0.12 -0.41 -1.88  3.16  2.25 -0.93 -0.14 -2.98  0.10 -0.34\n"
     ]
    }
   ],
   "source": [
    "## Print the results rounded at 2 decimals\n",
    "print(round(matAleatoire, digits = 2))"
   ]
  },
  {
   "cell_type": "markdown",
   "metadata": {
    "tags": []
   },
   "source": [
    "---\n",
    "### Exercice 1.3.\n",
    "\n",
    "Créez un vecteur `vec1` contenant les lettres de l'alphabet en minuscules et un vecteur `vec2` contenant les lettres de l'aphabet en majuscules.\n",
    "\n",
    "*__Tip :__*\n",
    "_constantes recommandées : `letters`, `LETTERS`_"
   ]
  },
  {
   "cell_type": "code",
   "execution_count": 12,
   "metadata": {},
   "outputs": [
    {
     "data": {
      "text/html": [
       "<style>\n",
       ".list-inline {list-style: none; margin:0; padding: 0}\n",
       ".list-inline>li {display: inline-block}\n",
       ".list-inline>li:not(:last-child)::after {content: \"\\00b7\"; padding: 0 .5ex}\n",
       "</style>\n",
       "<ol class=list-inline><li>'a'</li><li>'b'</li><li>'c'</li><li>'d'</li><li>'e'</li><li>'f'</li><li>'g'</li><li>'h'</li><li>'i'</li><li>'j'</li><li>'k'</li><li>'l'</li><li>'m'</li><li>'n'</li><li>'o'</li><li>'p'</li><li>'q'</li><li>'r'</li><li>'s'</li><li>'t'</li><li>'u'</li><li>'v'</li><li>'w'</li><li>'x'</li><li>'y'</li><li>'z'</li></ol>\n"
      ],
      "text/latex": [
       "\\begin{enumerate*}\n",
       "\\item 'a'\n",
       "\\item 'b'\n",
       "\\item 'c'\n",
       "\\item 'd'\n",
       "\\item 'e'\n",
       "\\item 'f'\n",
       "\\item 'g'\n",
       "\\item 'h'\n",
       "\\item 'i'\n",
       "\\item 'j'\n",
       "\\item 'k'\n",
       "\\item 'l'\n",
       "\\item 'm'\n",
       "\\item 'n'\n",
       "\\item 'o'\n",
       "\\item 'p'\n",
       "\\item 'q'\n",
       "\\item 'r'\n",
       "\\item 's'\n",
       "\\item 't'\n",
       "\\item 'u'\n",
       "\\item 'v'\n",
       "\\item 'w'\n",
       "\\item 'x'\n",
       "\\item 'y'\n",
       "\\item 'z'\n",
       "\\end{enumerate*}\n"
      ],
      "text/markdown": [
       "1. 'a'\n",
       "2. 'b'\n",
       "3. 'c'\n",
       "4. 'd'\n",
       "5. 'e'\n",
       "6. 'f'\n",
       "7. 'g'\n",
       "8. 'h'\n",
       "9. 'i'\n",
       "10. 'j'\n",
       "11. 'k'\n",
       "12. 'l'\n",
       "13. 'm'\n",
       "14. 'n'\n",
       "15. 'o'\n",
       "16. 'p'\n",
       "17. 'q'\n",
       "18. 'r'\n",
       "19. 's'\n",
       "20. 't'\n",
       "21. 'u'\n",
       "22. 'v'\n",
       "23. 'w'\n",
       "24. 'x'\n",
       "25. 'y'\n",
       "26. 'z'\n",
       "\n",
       "\n"
      ],
      "text/plain": [
       " [1] \"a\" \"b\" \"c\" \"d\" \"e\" \"f\" \"g\" \"h\" \"i\" \"j\" \"k\" \"l\" \"m\" \"n\" \"o\" \"p\" \"q\" \"r\" \"s\"\n",
       "[20] \"t\" \"u\" \"v\" \"w\" \"x\" \"y\" \"z\""
      ]
     },
     "metadata": {},
     "output_type": "display_data"
    },
    {
     "data": {
      "text/html": [
       "<style>\n",
       ".list-inline {list-style: none; margin:0; padding: 0}\n",
       ".list-inline>li {display: inline-block}\n",
       ".list-inline>li:not(:last-child)::after {content: \"\\00b7\"; padding: 0 .5ex}\n",
       "</style>\n",
       "<ol class=list-inline><li>'A'</li><li>'B'</li><li>'C'</li><li>'D'</li><li>'E'</li><li>'F'</li><li>'G'</li><li>'H'</li><li>'I'</li><li>'J'</li><li>'K'</li><li>'L'</li><li>'M'</li><li>'N'</li><li>'O'</li><li>'P'</li><li>'Q'</li><li>'R'</li><li>'S'</li><li>'T'</li><li>'U'</li><li>'V'</li><li>'W'</li><li>'X'</li><li>'Y'</li><li>'Z'</li></ol>\n"
      ],
      "text/latex": [
       "\\begin{enumerate*}\n",
       "\\item 'A'\n",
       "\\item 'B'\n",
       "\\item 'C'\n",
       "\\item 'D'\n",
       "\\item 'E'\n",
       "\\item 'F'\n",
       "\\item 'G'\n",
       "\\item 'H'\n",
       "\\item 'I'\n",
       "\\item 'J'\n",
       "\\item 'K'\n",
       "\\item 'L'\n",
       "\\item 'M'\n",
       "\\item 'N'\n",
       "\\item 'O'\n",
       "\\item 'P'\n",
       "\\item 'Q'\n",
       "\\item 'R'\n",
       "\\item 'S'\n",
       "\\item 'T'\n",
       "\\item 'U'\n",
       "\\item 'V'\n",
       "\\item 'W'\n",
       "\\item 'X'\n",
       "\\item 'Y'\n",
       "\\item 'Z'\n",
       "\\end{enumerate*}\n"
      ],
      "text/markdown": [
       "1. 'A'\n",
       "2. 'B'\n",
       "3. 'C'\n",
       "4. 'D'\n",
       "5. 'E'\n",
       "6. 'F'\n",
       "7. 'G'\n",
       "8. 'H'\n",
       "9. 'I'\n",
       "10. 'J'\n",
       "11. 'K'\n",
       "12. 'L'\n",
       "13. 'M'\n",
       "14. 'N'\n",
       "15. 'O'\n",
       "16. 'P'\n",
       "17. 'Q'\n",
       "18. 'R'\n",
       "19. 'S'\n",
       "20. 'T'\n",
       "21. 'U'\n",
       "22. 'V'\n",
       "23. 'W'\n",
       "24. 'X'\n",
       "25. 'Y'\n",
       "26. 'Z'\n",
       "\n",
       "\n"
      ],
      "text/plain": [
       " [1] \"A\" \"B\" \"C\" \"D\" \"E\" \"F\" \"G\" \"H\" \"I\" \"J\" \"K\" \"L\" \"M\" \"N\" \"O\" \"P\" \"Q\" \"R\" \"S\"\n",
       "[20] \"T\" \"U\" \"V\" \"W\" \"X\" \"Y\" \"Z\""
      ]
     },
     "metadata": {},
     "output_type": "display_data"
    }
   ],
   "source": [
    "vec1 <- letters\n",
    "vec2 <- LETTERS\n",
    "vec1\n",
    "vec2"
   ]
  },
  {
   "cell_type": "markdown",
   "metadata": {},
   "source": [
    "Créez une matrice `my_mat` vide de 26 colonnes et 2 lignes.\n",
    "\n",
    "Remplacez les données manquantes de la matrice par les vecteurs `vec1` et `vec2` en lignes.\n",
    "\n",
    "*__Tip :__*\n",
    "_fonction recommandée : `matrix()`, `print()`_"
   ]
  },
  {
   "cell_type": "code",
   "execution_count": 13,
   "metadata": {},
   "outputs": [
    {
     "data": {
      "text/html": [
       "<table class=\"dataframe\">\n",
       "<caption>A matrix: 2 × 26 of type chr</caption>\n",
       "<tbody>\n",
       "\t<tr><td>a</td><td>b</td><td>c</td><td>d</td><td>e</td><td>f</td><td>g</td><td>h</td><td>i</td><td>j</td><td>⋯</td><td>q</td><td>r</td><td>s</td><td>t</td><td>u</td><td>v</td><td>w</td><td>x</td><td>y</td><td>z</td></tr>\n",
       "\t<tr><td>A</td><td>B</td><td>C</td><td>D</td><td>E</td><td>F</td><td>G</td><td>H</td><td>I</td><td>J</td><td>⋯</td><td>Q</td><td>R</td><td>S</td><td>T</td><td>U</td><td>V</td><td>W</td><td>X</td><td>Y</td><td>Z</td></tr>\n",
       "</tbody>\n",
       "</table>\n"
      ],
      "text/latex": [
       "A matrix: 2 × 26 of type chr\n",
       "\\begin{tabular}{lllllllllllllllllllll}\n",
       "\t a & b & c & d & e & f & g & h & i & j & ⋯ & q & r & s & t & u & v & w & x & y & z\\\\\n",
       "\t A & B & C & D & E & F & G & H & I & J & ⋯ & Q & R & S & T & U & V & W & X & Y & Z\\\\\n",
       "\\end{tabular}\n"
      ],
      "text/markdown": [
       "\n",
       "A matrix: 2 × 26 of type chr\n",
       "\n",
       "| a | b | c | d | e | f | g | h | i | j | ⋯ | q | r | s | t | u | v | w | x | y | z |\n",
       "| A | B | C | D | E | F | G | H | I | J | ⋯ | Q | R | S | T | U | V | W | X | Y | Z |\n",
       "\n"
      ],
      "text/plain": [
       "     [,1] [,2] [,3] [,4] [,5] [,6] [,7] [,8] [,9] [,10] [,11] [,12] [,13] [,14]\n",
       "[1,] a    b    c    d    e    f    g    h    i    j     ⋯     q     r     s    \n",
       "[2,] A    B    C    D    E    F    G    H    I    J     ⋯     Q     R     S    \n",
       "     [,15] [,16] [,17] [,18] [,19] [,20] [,21]\n",
       "[1,] t     u     v     w     x     y     z    \n",
       "[2,] T     U     V     W     X     Y     Z    "
      ]
     },
     "metadata": {},
     "output_type": "display_data"
    }
   ],
   "source": [
    "my_mat <- matrix (NA, nrow = 2, ncol = 26)\n",
    "my_mat[1,] <- vec1\n",
    "my_mat[2,] <- vec2\n",
    "my_mat"
   ]
  },
  {
   "cell_type": "markdown",
   "metadata": {},
   "source": [
    "<br>\n",
    "\n",
    "*__=> Pour aller plus loin :__*\n",
    "\n",
    "On aurait pu créer la même matrice en utilisant la fonction `matrix()` mais sans passer par une matrice vide en concaténant directement les deux vecteurs comme 1er argument `data` et en spécifiant le nombre de lignes. Il n'est pas nécessaire d'indiquer le nombre de colonnes, dont le nombre est déduit automatiquement par R à partir du nombre d'éléments passés à l'argument `data` et à l'argument `nrow`."
   ]
  },
  {
   "cell_type": "code",
   "execution_count": 14,
   "metadata": {},
   "outputs": [
    {
     "data": {
      "text/html": [
       "<table class=\"dataframe\">\n",
       "<caption>A matrix: 2 × 26 of type chr</caption>\n",
       "<tbody>\n",
       "\t<tr><td>a</td><td>c</td><td>e</td><td>g</td><td>i</td><td>k</td><td>m</td><td>o</td><td>q</td><td>s</td><td>⋯</td><td>G</td><td>I</td><td>K</td><td>M</td><td>O</td><td>Q</td><td>S</td><td>U</td><td>W</td><td>Y</td></tr>\n",
       "\t<tr><td>b</td><td>d</td><td>f</td><td>h</td><td>j</td><td>l</td><td>n</td><td>p</td><td>r</td><td>t</td><td>⋯</td><td>H</td><td>J</td><td>L</td><td>N</td><td>P</td><td>R</td><td>T</td><td>V</td><td>X</td><td>Z</td></tr>\n",
       "</tbody>\n",
       "</table>\n"
      ],
      "text/latex": [
       "A matrix: 2 × 26 of type chr\n",
       "\\begin{tabular}{lllllllllllllllllllll}\n",
       "\t a & c & e & g & i & k & m & o & q & s & ⋯ & G & I & K & M & O & Q & S & U & W & Y\\\\\n",
       "\t b & d & f & h & j & l & n & p & r & t & ⋯ & H & J & L & N & P & R & T & V & X & Z\\\\\n",
       "\\end{tabular}\n"
      ],
      "text/markdown": [
       "\n",
       "A matrix: 2 × 26 of type chr\n",
       "\n",
       "| a | c | e | g | i | k | m | o | q | s | ⋯ | G | I | K | M | O | Q | S | U | W | Y |\n",
       "| b | d | f | h | j | l | n | p | r | t | ⋯ | H | J | L | N | P | R | T | V | X | Z |\n",
       "\n"
      ],
      "text/plain": [
       "     [,1] [,2] [,3] [,4] [,5] [,6] [,7] [,8] [,9] [,10] [,11] [,12] [,13] [,14]\n",
       "[1,] a    c    e    g    i    k    m    o    q    s     ⋯     G     I     K    \n",
       "[2,] b    d    f    h    j    l    n    p    r    t     ⋯     H     J     L    \n",
       "     [,15] [,16] [,17] [,18] [,19] [,20] [,21]\n",
       "[1,] M     O     Q     S     U     W     Y    \n",
       "[2,] N     P     R     T     V     X     Z    "
      ]
     },
     "metadata": {},
     "output_type": "display_data"
    }
   ],
   "source": [
    "my_mat <- matrix (data = c(vec1, vec2), nrow = 2)\n",
    "my_mat"
   ]
  },
  {
   "cell_type": "markdown",
   "metadata": {},
   "source": [
    "---\n",
    "\n",
    "Essayez de nouveau de créer la matrice `my_mat` sans utiliser la fonction `matrix()`, directement à partir des vecteurs vec1 et vec2.\n",
    "\n",
    "*__Tip :__*\n",
    "_fonction recommandée : `rbind()`_"
   ]
  },
  {
   "cell_type": "code",
   "execution_count": 15,
   "metadata": {},
   "outputs": [
    {
     "data": {
      "text/html": [
       "<table class=\"dataframe\">\n",
       "<caption>A matrix: 2 × 26 of type chr</caption>\n",
       "<tbody>\n",
       "\t<tr><th scope=row>vec1</th><td>a</td><td>b</td><td>c</td><td>d</td><td>e</td><td>f</td><td>g</td><td>h</td><td>i</td><td>j</td><td>⋯</td><td>q</td><td>r</td><td>s</td><td>t</td><td>u</td><td>v</td><td>w</td><td>x</td><td>y</td><td>z</td></tr>\n",
       "\t<tr><th scope=row>vec2</th><td>A</td><td>B</td><td>C</td><td>D</td><td>E</td><td>F</td><td>G</td><td>H</td><td>I</td><td>J</td><td>⋯</td><td>Q</td><td>R</td><td>S</td><td>T</td><td>U</td><td>V</td><td>W</td><td>X</td><td>Y</td><td>Z</td></tr>\n",
       "</tbody>\n",
       "</table>\n"
      ],
      "text/latex": [
       "A matrix: 2 × 26 of type chr\n",
       "\\begin{tabular}{r|lllllllllllllllllllll}\n",
       "\tvec1 & a & b & c & d & e & f & g & h & i & j & ⋯ & q & r & s & t & u & v & w & x & y & z\\\\\n",
       "\tvec2 & A & B & C & D & E & F & G & H & I & J & ⋯ & Q & R & S & T & U & V & W & X & Y & Z\\\\\n",
       "\\end{tabular}\n"
      ],
      "text/markdown": [
       "\n",
       "A matrix: 2 × 26 of type chr\n",
       "\n",
       "| vec1 | a | b | c | d | e | f | g | h | i | j | ⋯ | q | r | s | t | u | v | w | x | y | z |\n",
       "| vec2 | A | B | C | D | E | F | G | H | I | J | ⋯ | Q | R | S | T | U | V | W | X | Y | Z |\n",
       "\n"
      ],
      "text/plain": [
       "     [,1] [,2] [,3] [,4] [,5] [,6] [,7] [,8] [,9] [,10] [,11] [,12] [,13] [,14]\n",
       "vec1 a    b    c    d    e    f    g    h    i    j     ⋯     q     r     s    \n",
       "vec2 A    B    C    D    E    F    G    H    I    J     ⋯     Q     R     S    \n",
       "     [,15] [,16] [,17] [,18] [,19] [,20] [,21]\n",
       "vec1 t     u     v     w     x     y     z    \n",
       "vec2 T     U     V     W     X     Y     Z    "
      ]
     },
     "metadata": {},
     "output_type": "display_data"
    }
   ],
   "source": [
    "my_mat <- rbind(vec1, vec2)\n",
    "my_mat"
   ]
  },
  {
   "cell_type": "markdown",
   "metadata": {},
   "source": [
    "--- \n",
    "\n",
    "Créez à présent la matrice `my_mat2` avec les mêmes vecteurs `vec1` et `vec2` mais avec 26 lignes et 2 colonnes.\n",
    "\n",
    "*__Tip :__*\n",
    "_fonction recommandée : `cbind()`_"
   ]
  },
  {
   "cell_type": "code",
   "execution_count": 16,
   "metadata": {},
   "outputs": [
    {
     "data": {
      "text/html": [
       "<table class=\"dataframe\">\n",
       "<caption>A matrix: 26 × 2 of type chr</caption>\n",
       "<thead>\n",
       "\t<tr><th scope=col>vec1</th><th scope=col>vec2</th></tr>\n",
       "</thead>\n",
       "<tbody>\n",
       "\t<tr><td>a</td><td>A</td></tr>\n",
       "\t<tr><td>b</td><td>B</td></tr>\n",
       "\t<tr><td>c</td><td>C</td></tr>\n",
       "\t<tr><td>d</td><td>D</td></tr>\n",
       "\t<tr><td>e</td><td>E</td></tr>\n",
       "\t<tr><td>f</td><td>F</td></tr>\n",
       "\t<tr><td>g</td><td>G</td></tr>\n",
       "\t<tr><td>h</td><td>H</td></tr>\n",
       "\t<tr><td>i</td><td>I</td></tr>\n",
       "\t<tr><td>j</td><td>J</td></tr>\n",
       "\t<tr><td>k</td><td>K</td></tr>\n",
       "\t<tr><td>l</td><td>L</td></tr>\n",
       "\t<tr><td>m</td><td>M</td></tr>\n",
       "\t<tr><td>n</td><td>N</td></tr>\n",
       "\t<tr><td>o</td><td>O</td></tr>\n",
       "\t<tr><td>p</td><td>P</td></tr>\n",
       "\t<tr><td>q</td><td>Q</td></tr>\n",
       "\t<tr><td>r</td><td>R</td></tr>\n",
       "\t<tr><td>s</td><td>S</td></tr>\n",
       "\t<tr><td>t</td><td>T</td></tr>\n",
       "\t<tr><td>u</td><td>U</td></tr>\n",
       "\t<tr><td>v</td><td>V</td></tr>\n",
       "\t<tr><td>w</td><td>W</td></tr>\n",
       "\t<tr><td>x</td><td>X</td></tr>\n",
       "\t<tr><td>y</td><td>Y</td></tr>\n",
       "\t<tr><td>z</td><td>Z</td></tr>\n",
       "</tbody>\n",
       "</table>\n"
      ],
      "text/latex": [
       "A matrix: 26 × 2 of type chr\n",
       "\\begin{tabular}{ll}\n",
       " vec1 & vec2\\\\\n",
       "\\hline\n",
       "\t a & A\\\\\n",
       "\t b & B\\\\\n",
       "\t c & C\\\\\n",
       "\t d & D\\\\\n",
       "\t e & E\\\\\n",
       "\t f & F\\\\\n",
       "\t g & G\\\\\n",
       "\t h & H\\\\\n",
       "\t i & I\\\\\n",
       "\t j & J\\\\\n",
       "\t k & K\\\\\n",
       "\t l & L\\\\\n",
       "\t m & M\\\\\n",
       "\t n & N\\\\\n",
       "\t o & O\\\\\n",
       "\t p & P\\\\\n",
       "\t q & Q\\\\\n",
       "\t r & R\\\\\n",
       "\t s & S\\\\\n",
       "\t t & T\\\\\n",
       "\t u & U\\\\\n",
       "\t v & V\\\\\n",
       "\t w & W\\\\\n",
       "\t x & X\\\\\n",
       "\t y & Y\\\\\n",
       "\t z & Z\\\\\n",
       "\\end{tabular}\n"
      ],
      "text/markdown": [
       "\n",
       "A matrix: 26 × 2 of type chr\n",
       "\n",
       "| vec1 | vec2 |\n",
       "|---|---|\n",
       "| a | A |\n",
       "| b | B |\n",
       "| c | C |\n",
       "| d | D |\n",
       "| e | E |\n",
       "| f | F |\n",
       "| g | G |\n",
       "| h | H |\n",
       "| i | I |\n",
       "| j | J |\n",
       "| k | K |\n",
       "| l | L |\n",
       "| m | M |\n",
       "| n | N |\n",
       "| o | O |\n",
       "| p | P |\n",
       "| q | Q |\n",
       "| r | R |\n",
       "| s | S |\n",
       "| t | T |\n",
       "| u | U |\n",
       "| v | V |\n",
       "| w | W |\n",
       "| x | X |\n",
       "| y | Y |\n",
       "| z | Z |\n",
       "\n"
      ],
      "text/plain": [
       "      vec1 vec2\n",
       " [1,] a    A   \n",
       " [2,] b    B   \n",
       " [3,] c    C   \n",
       " [4,] d    D   \n",
       " [5,] e    E   \n",
       " [6,] f    F   \n",
       " [7,] g    G   \n",
       " [8,] h    H   \n",
       " [9,] i    I   \n",
       "[10,] j    J   \n",
       "[11,] k    K   \n",
       "[12,] l    L   \n",
       "[13,] m    M   \n",
       "[14,] n    N   \n",
       "[15,] o    O   \n",
       "[16,] p    P   \n",
       "[17,] q    Q   \n",
       "[18,] r    R   \n",
       "[19,] s    S   \n",
       "[20,] t    T   \n",
       "[21,] u    U   \n",
       "[22,] v    V   \n",
       "[23,] w    W   \n",
       "[24,] x    X   \n",
       "[25,] y    Y   \n",
       "[26,] z    Z   "
      ]
     },
     "metadata": {},
     "output_type": "display_data"
    }
   ],
   "source": [
    "my_mat2 <- cbind(vec1, vec2)\n",
    "my_mat2"
   ]
  },
  {
   "cell_type": "markdown",
   "metadata": {},
   "source": [
    "Renommez les colonnes de `my_mat2` par \"Min\" et \"Maj\". Affichez la matrice.\n",
    "\n",
    "*__Tip :__*\n",
    "_fonction recommandée : `colnames()`_"
   ]
  },
  {
   "cell_type": "code",
   "execution_count": 17,
   "metadata": {},
   "outputs": [
    {
     "name": "stdout",
     "output_type": "stream",
     "text": [
      "      Min Man\n",
      " [1,] \"a\" \"A\"\n",
      " [2,] \"b\" \"B\"\n",
      " [3,] \"c\" \"C\"\n",
      " [4,] \"d\" \"D\"\n",
      " [5,] \"e\" \"E\"\n",
      " [6,] \"f\" \"F\"\n",
      " [7,] \"g\" \"G\"\n",
      " [8,] \"h\" \"H\"\n",
      " [9,] \"i\" \"I\"\n",
      "[10,] \"j\" \"J\"\n",
      "[11,] \"k\" \"K\"\n",
      "[12,] \"l\" \"L\"\n",
      "[13,] \"m\" \"M\"\n",
      "[14,] \"n\" \"N\"\n",
      "[15,] \"o\" \"O\"\n",
      "[16,] \"p\" \"P\"\n",
      "[17,] \"q\" \"Q\"\n",
      "[18,] \"r\" \"R\"\n",
      "[19,] \"s\" \"S\"\n",
      "[20,] \"t\" \"T\"\n",
      "[21,] \"u\" \"U\"\n",
      "[22,] \"v\" \"V\"\n",
      "[23,] \"w\" \"W\"\n",
      "[24,] \"x\" \"X\"\n",
      "[25,] \"y\" \"Y\"\n",
      "[26,] \"z\" \"Z\"\n"
     ]
    }
   ],
   "source": [
    "colnames(my_mat2) <- c(\"Min\", \"Man\")\n",
    "print(my_mat2)"
   ]
  },
  {
   "cell_type": "markdown",
   "metadata": {},
   "source": [
    "Donnez un nom aux lignes correspondant à la position dans l'alphabet à partir d'un vecteur numérique vec3. Affichez la matrice et vérifiez qu'il s'agit toujours bien d'une matrice.\n",
    "\n",
    "*__Tip :__*\n",
    "_fonction recommandée : `:`, `rownames()`, `class()`_"
   ]
  },
  {
   "cell_type": "code",
   "execution_count": 18,
   "metadata": {},
   "outputs": [
    {
     "data": {
      "text/html": [
       "<table class=\"dataframe\">\n",
       "<caption>A matrix: 26 × 2 of type chr</caption>\n",
       "<thead>\n",
       "\t<tr><th></th><th scope=col>Min</th><th scope=col>Man</th></tr>\n",
       "</thead>\n",
       "<tbody>\n",
       "\t<tr><th scope=row>1</th><td>a</td><td>A</td></tr>\n",
       "\t<tr><th scope=row>2</th><td>b</td><td>B</td></tr>\n",
       "\t<tr><th scope=row>3</th><td>c</td><td>C</td></tr>\n",
       "\t<tr><th scope=row>4</th><td>d</td><td>D</td></tr>\n",
       "\t<tr><th scope=row>5</th><td>e</td><td>E</td></tr>\n",
       "\t<tr><th scope=row>6</th><td>f</td><td>F</td></tr>\n",
       "\t<tr><th scope=row>7</th><td>g</td><td>G</td></tr>\n",
       "\t<tr><th scope=row>8</th><td>h</td><td>H</td></tr>\n",
       "\t<tr><th scope=row>9</th><td>i</td><td>I</td></tr>\n",
       "\t<tr><th scope=row>10</th><td>j</td><td>J</td></tr>\n",
       "\t<tr><th scope=row>11</th><td>k</td><td>K</td></tr>\n",
       "\t<tr><th scope=row>12</th><td>l</td><td>L</td></tr>\n",
       "\t<tr><th scope=row>13</th><td>m</td><td>M</td></tr>\n",
       "\t<tr><th scope=row>14</th><td>n</td><td>N</td></tr>\n",
       "\t<tr><th scope=row>15</th><td>o</td><td>O</td></tr>\n",
       "\t<tr><th scope=row>16</th><td>p</td><td>P</td></tr>\n",
       "\t<tr><th scope=row>17</th><td>q</td><td>Q</td></tr>\n",
       "\t<tr><th scope=row>18</th><td>r</td><td>R</td></tr>\n",
       "\t<tr><th scope=row>19</th><td>s</td><td>S</td></tr>\n",
       "\t<tr><th scope=row>20</th><td>t</td><td>T</td></tr>\n",
       "\t<tr><th scope=row>21</th><td>u</td><td>U</td></tr>\n",
       "\t<tr><th scope=row>22</th><td>v</td><td>V</td></tr>\n",
       "\t<tr><th scope=row>23</th><td>w</td><td>W</td></tr>\n",
       "\t<tr><th scope=row>24</th><td>x</td><td>X</td></tr>\n",
       "\t<tr><th scope=row>25</th><td>y</td><td>Y</td></tr>\n",
       "\t<tr><th scope=row>26</th><td>z</td><td>Z</td></tr>\n",
       "</tbody>\n",
       "</table>\n"
      ],
      "text/latex": [
       "A matrix: 26 × 2 of type chr\n",
       "\\begin{tabular}{r|ll}\n",
       "  & Min & Man\\\\\n",
       "\\hline\n",
       "\t1 & a & A\\\\\n",
       "\t2 & b & B\\\\\n",
       "\t3 & c & C\\\\\n",
       "\t4 & d & D\\\\\n",
       "\t5 & e & E\\\\\n",
       "\t6 & f & F\\\\\n",
       "\t7 & g & G\\\\\n",
       "\t8 & h & H\\\\\n",
       "\t9 & i & I\\\\\n",
       "\t10 & j & J\\\\\n",
       "\t11 & k & K\\\\\n",
       "\t12 & l & L\\\\\n",
       "\t13 & m & M\\\\\n",
       "\t14 & n & N\\\\\n",
       "\t15 & o & O\\\\\n",
       "\t16 & p & P\\\\\n",
       "\t17 & q & Q\\\\\n",
       "\t18 & r & R\\\\\n",
       "\t19 & s & S\\\\\n",
       "\t20 & t & T\\\\\n",
       "\t21 & u & U\\\\\n",
       "\t22 & v & V\\\\\n",
       "\t23 & w & W\\\\\n",
       "\t24 & x & X\\\\\n",
       "\t25 & y & Y\\\\\n",
       "\t26 & z & Z\\\\\n",
       "\\end{tabular}\n"
      ],
      "text/markdown": [
       "\n",
       "A matrix: 26 × 2 of type chr\n",
       "\n",
       "| <!--/--> | Min | Man |\n",
       "|---|---|---|\n",
       "| 1 | a | A |\n",
       "| 2 | b | B |\n",
       "| 3 | c | C |\n",
       "| 4 | d | D |\n",
       "| 5 | e | E |\n",
       "| 6 | f | F |\n",
       "| 7 | g | G |\n",
       "| 8 | h | H |\n",
       "| 9 | i | I |\n",
       "| 10 | j | J |\n",
       "| 11 | k | K |\n",
       "| 12 | l | L |\n",
       "| 13 | m | M |\n",
       "| 14 | n | N |\n",
       "| 15 | o | O |\n",
       "| 16 | p | P |\n",
       "| 17 | q | Q |\n",
       "| 18 | r | R |\n",
       "| 19 | s | S |\n",
       "| 20 | t | T |\n",
       "| 21 | u | U |\n",
       "| 22 | v | V |\n",
       "| 23 | w | W |\n",
       "| 24 | x | X |\n",
       "| 25 | y | Y |\n",
       "| 26 | z | Z |\n",
       "\n"
      ],
      "text/plain": [
       "   Min Man\n",
       "1  a   A  \n",
       "2  b   B  \n",
       "3  c   C  \n",
       "4  d   D  \n",
       "5  e   E  \n",
       "6  f   F  \n",
       "7  g   G  \n",
       "8  h   H  \n",
       "9  i   I  \n",
       "10 j   J  \n",
       "11 k   K  \n",
       "12 l   L  \n",
       "13 m   M  \n",
       "14 n   N  \n",
       "15 o   O  \n",
       "16 p   P  \n",
       "17 q   Q  \n",
       "18 r   R  \n",
       "19 s   S  \n",
       "20 t   T  \n",
       "21 u   U  \n",
       "22 v   V  \n",
       "23 w   W  \n",
       "24 x   X  \n",
       "25 y   Y  \n",
       "26 z   Z  "
      ]
     },
     "metadata": {},
     "output_type": "display_data"
    },
    {
     "data": {
      "text/html": [
       "<style>\n",
       ".list-inline {list-style: none; margin:0; padding: 0}\n",
       ".list-inline>li {display: inline-block}\n",
       ".list-inline>li:not(:last-child)::after {content: \"\\00b7\"; padding: 0 .5ex}\n",
       "</style>\n",
       "<ol class=list-inline><li>'matrix'</li><li>'array'</li></ol>\n"
      ],
      "text/latex": [
       "\\begin{enumerate*}\n",
       "\\item 'matrix'\n",
       "\\item 'array'\n",
       "\\end{enumerate*}\n"
      ],
      "text/markdown": [
       "1. 'matrix'\n",
       "2. 'array'\n",
       "\n",
       "\n"
      ],
      "text/plain": [
       "[1] \"matrix\" \"array\" "
      ]
     },
     "metadata": {},
     "output_type": "display_data"
    }
   ],
   "source": [
    "vec3 <- 1:26\n",
    "rownames(my_mat2) <- vec3\n",
    "my_mat2\n",
    "class(my_mat2)"
   ]
  },
  {
   "cell_type": "markdown",
   "metadata": {},
   "source": [
    "*__=> Pour aller plus loin :__*\n",
    "\n",
    "On peut ommer directement les colonnes au moment de la création de la matrice avec `cbind()`. L'attribut de `vec1` est utilisé en nom de ligne."
   ]
  },
  {
   "cell_type": "code",
   "execution_count": 19,
   "metadata": {},
   "outputs": [
    {
     "data": {
      "text/html": [
       "<table class=\"dataframe\">\n",
       "<caption>A matrix: 26 × 2 of type chr</caption>\n",
       "<thead>\n",
       "\t<tr><th></th><th scope=col>Min</th><th scope=col>Maj</th></tr>\n",
       "</thead>\n",
       "<tbody>\n",
       "\t<tr><th scope=row>1</th><td>a</td><td>A</td></tr>\n",
       "\t<tr><th scope=row>2</th><td>b</td><td>B</td></tr>\n",
       "\t<tr><th scope=row>3</th><td>c</td><td>C</td></tr>\n",
       "\t<tr><th scope=row>4</th><td>d</td><td>D</td></tr>\n",
       "\t<tr><th scope=row>5</th><td>e</td><td>E</td></tr>\n",
       "\t<tr><th scope=row>6</th><td>f</td><td>F</td></tr>\n",
       "\t<tr><th scope=row>7</th><td>g</td><td>G</td></tr>\n",
       "\t<tr><th scope=row>8</th><td>h</td><td>H</td></tr>\n",
       "\t<tr><th scope=row>9</th><td>i</td><td>I</td></tr>\n",
       "\t<tr><th scope=row>10</th><td>j</td><td>J</td></tr>\n",
       "\t<tr><th scope=row>11</th><td>k</td><td>K</td></tr>\n",
       "\t<tr><th scope=row>12</th><td>l</td><td>L</td></tr>\n",
       "\t<tr><th scope=row>13</th><td>m</td><td>M</td></tr>\n",
       "\t<tr><th scope=row>14</th><td>n</td><td>N</td></tr>\n",
       "\t<tr><th scope=row>15</th><td>o</td><td>O</td></tr>\n",
       "\t<tr><th scope=row>16</th><td>p</td><td>P</td></tr>\n",
       "\t<tr><th scope=row>17</th><td>q</td><td>Q</td></tr>\n",
       "\t<tr><th scope=row>18</th><td>r</td><td>R</td></tr>\n",
       "\t<tr><th scope=row>19</th><td>s</td><td>S</td></tr>\n",
       "\t<tr><th scope=row>20</th><td>t</td><td>T</td></tr>\n",
       "\t<tr><th scope=row>21</th><td>u</td><td>U</td></tr>\n",
       "\t<tr><th scope=row>22</th><td>v</td><td>V</td></tr>\n",
       "\t<tr><th scope=row>23</th><td>w</td><td>W</td></tr>\n",
       "\t<tr><th scope=row>24</th><td>x</td><td>X</td></tr>\n",
       "\t<tr><th scope=row>25</th><td>y</td><td>Y</td></tr>\n",
       "\t<tr><th scope=row>26</th><td>z</td><td>Z</td></tr>\n",
       "</tbody>\n",
       "</table>\n"
      ],
      "text/latex": [
       "A matrix: 26 × 2 of type chr\n",
       "\\begin{tabular}{r|ll}\n",
       "  & Min & Maj\\\\\n",
       "\\hline\n",
       "\t1 & a & A\\\\\n",
       "\t2 & b & B\\\\\n",
       "\t3 & c & C\\\\\n",
       "\t4 & d & D\\\\\n",
       "\t5 & e & E\\\\\n",
       "\t6 & f & F\\\\\n",
       "\t7 & g & G\\\\\n",
       "\t8 & h & H\\\\\n",
       "\t9 & i & I\\\\\n",
       "\t10 & j & J\\\\\n",
       "\t11 & k & K\\\\\n",
       "\t12 & l & L\\\\\n",
       "\t13 & m & M\\\\\n",
       "\t14 & n & N\\\\\n",
       "\t15 & o & O\\\\\n",
       "\t16 & p & P\\\\\n",
       "\t17 & q & Q\\\\\n",
       "\t18 & r & R\\\\\n",
       "\t19 & s & S\\\\\n",
       "\t20 & t & T\\\\\n",
       "\t21 & u & U\\\\\n",
       "\t22 & v & V\\\\\n",
       "\t23 & w & W\\\\\n",
       "\t24 & x & X\\\\\n",
       "\t25 & y & Y\\\\\n",
       "\t26 & z & Z\\\\\n",
       "\\end{tabular}\n"
      ],
      "text/markdown": [
       "\n",
       "A matrix: 26 × 2 of type chr\n",
       "\n",
       "| <!--/--> | Min | Maj |\n",
       "|---|---|---|\n",
       "| 1 | a | A |\n",
       "| 2 | b | B |\n",
       "| 3 | c | C |\n",
       "| 4 | d | D |\n",
       "| 5 | e | E |\n",
       "| 6 | f | F |\n",
       "| 7 | g | G |\n",
       "| 8 | h | H |\n",
       "| 9 | i | I |\n",
       "| 10 | j | J |\n",
       "| 11 | k | K |\n",
       "| 12 | l | L |\n",
       "| 13 | m | M |\n",
       "| 14 | n | N |\n",
       "| 15 | o | O |\n",
       "| 16 | p | P |\n",
       "| 17 | q | Q |\n",
       "| 18 | r | R |\n",
       "| 19 | s | S |\n",
       "| 20 | t | T |\n",
       "| 21 | u | U |\n",
       "| 22 | v | V |\n",
       "| 23 | w | W |\n",
       "| 24 | x | X |\n",
       "| 25 | y | Y |\n",
       "| 26 | z | Z |\n",
       "\n"
      ],
      "text/plain": [
       "   Min Maj\n",
       "1  a   A  \n",
       "2  b   B  \n",
       "3  c   C  \n",
       "4  d   D  \n",
       "5  e   E  \n",
       "6  f   F  \n",
       "7  g   G  \n",
       "8  h   H  \n",
       "9  i   I  \n",
       "10 j   J  \n",
       "11 k   K  \n",
       "12 l   L  \n",
       "13 m   M  \n",
       "14 n   N  \n",
       "15 o   O  \n",
       "16 p   P  \n",
       "17 q   Q  \n",
       "18 r   R  \n",
       "19 s   S  \n",
       "20 t   T  \n",
       "21 u   U  \n",
       "22 v   V  \n",
       "23 w   W  \n",
       "24 x   X  \n",
       "25 y   Y  \n",
       "26 z   Z  "
      ]
     },
     "metadata": {},
     "output_type": "display_data"
    },
    {
     "name": "stdout",
     "output_type": "stream",
     "text": [
      " chr [1:26, 1:2] \"a\" \"b\" \"c\" \"d\" \"e\" \"f\" \"g\" \"h\" \"i\" \"j\" \"k\" \"l\" \"m\" \"n\" ...\n",
      " - attr(*, \"dimnames\")=List of 2\n",
      "  ..$ : chr [1:26] \"1\" \"2\" \"3\" \"4\" ...\n",
      "  ..$ : chr [1:2] \"Min\" \"Maj\"\n"
     ]
    }
   ],
   "source": [
    "names(vec1) <- 1:26\n",
    "my_mat2 <- cbind(\"Min\" = vec1, \"Maj\"= vec2)\n",
    "my_mat2\n",
    "str(my_mat2)"
   ]
  },
  {
   "cell_type": "markdown",
   "metadata": {},
   "source": [
    "---\n",
    "---\n",
    "\n",
    "## Exercice 2 : manipulation de matrices\n",
    "\n",
    "### Exercice 2.1\n",
    "\n",
    "Créez deux vecteurs aléatoires nommés `x1` et `x2`, contenant chacun n=10.000 valeurs aléatoires respectivement compatibles:\n",
    "\n",
    "  - avec une loi normale centrée réduite (cad de moyenne 0 et d'écrat type 1) pour x1;\n",
    "  - avec une loi uniforme définie sur l’intervalle [0,10] pour x2.\n",
    "\n",
    "*__Tip :__*\n",
    "_fonctions recommandées : `rnorm()`, `runif()`_\n"
   ]
  },
  {
   "cell_type": "code",
   "execution_count": 20,
   "metadata": {},
   "outputs": [],
   "source": [
    "n <- 10000 ## define vector sizes => cette étape n'est pas indispensable, vous pouvez directement rentrer la valeur 10000 dans les commandes-ci-dessous"
   ]
  },
  {
   "cell_type": "code",
   "execution_count": 21,
   "metadata": {},
   "outputs": [],
   "source": [
    "x1 <- rnorm(n = n, mean = 0, sd = 1) ## normal random\n",
    "x2 <- runif(n = n, min = 0, max = 10) ## uniform random"
   ]
  },
  {
   "cell_type": "markdown",
   "metadata": {},
   "source": [
    "<br>\n",
    "\n",
    "*__=> Pour aller plus loin :__*\n",
    "\n",
    "On anticipe sur la session sur les figures.\n",
    "Vérifiez la distribution empirique de ces échantillons en dessinant des histogrammes."
   ]
  },
  {
   "cell_type": "code",
   "execution_count": 22,
   "metadata": {},
   "outputs": [
    {
     "name": "stdout",
     "output_type": "stream",
     "text": [
      "+++ distribution normale :\n"
     ]
    },
    {
     "data": {
      "text/plain": [
       "     Min.   1st Qu.    Median      Mean   3rd Qu.      Max. \n",
       "-3.786025 -0.672080  0.003687  0.000625  0.676230  4.263663 "
      ]
     },
     "metadata": {},
     "output_type": "display_data"
    },
    {
     "data": {
      "image/png": "[encoded data removed]",
      "text/plain": [
       "Plot with title “Random normal numbers”"
      ]
     },
     "metadata": {
      "image/png": {
       "height": 420,
       "width": 420
      }
     },
     "output_type": "display_data"
    },
    {
     "name": "stdout",
     "output_type": "stream",
     "text": [
      "+++ distribution uniforme :\n"
     ]
    },
    {
     "data": {
      "text/plain": [
       "    Min.  1st Qu.   Median     Mean  3rd Qu.     Max. \n",
       "0.001162 2.532793 5.020442 5.008554 7.470477 9.997819 "
      ]
     },
     "metadata": {},
     "output_type": "display_data"
    },
    {
     "data": {
      "image/png": "[encoded data removed]",
      "text/plain": [
       "Plot with title “Uniformly distributed random numbers”"
      ]
     },
     "metadata": {
      "image/png": {
       "height": 420,
       "width": 420
      }
     },
     "output_type": "display_data"
    }
   ],
   "source": [
    "hist(x = x1, breaks = 100, \n",
    "     las = 1, \n",
    "     col = \"palegreen\",\n",
    "     main = \"Random normal numbers\",\n",
    "     xlab = \"Value\"\n",
    "     )\n",
    "cat(\"+++ distribution normale :\\n\")\n",
    "summary(x1)\n",
    "\n",
    "hist(x = x2, breaks = 10, \n",
    "     las = 1, \n",
    "     col = \"cyan\",\n",
    "     main = \"Uniformly distributed random numbers\",\n",
    "     xlab = \"Value\"\n",
    "     )\n",
    "cat(\"+++ distribution uniforme :\\n\")\n",
    "summary(x2)"
   ]
  },
  {
   "cell_type": "markdown",
   "metadata": {},
   "source": [
    "---\n",
    "### Exercice 2.2\n",
    "\n",
    "Créez une matrice `m1` qui contient les 10 premières valeurs de `x1` (colonne 1 de `m1`) et les 10 dernières valeurs de `x2` (colonne 2 de `m1`). Verifiez qu’il s’agit bien d’une matrice et affichez ses dimensions.\n",
    "\n",
    "\n",
    "*__Tip :__*\n",
    "_fonction recommandée : `matrix()`, `class()`, `dim()`, `cbind()`,…_\n"
   ]
  },
  {
   "cell_type": "markdown",
   "metadata": {},
   "source": [
    "Voici une première solution en créant d'abord une matrice vide:"
   ]
  },
  {
   "cell_type": "code",
   "execution_count": 23,
   "metadata": {},
   "outputs": [
    {
     "data": {
      "text/html": [
       "<table class=\"dataframe\">\n",
       "<caption>A matrix: 10 × 2 of type lgl</caption>\n",
       "<tbody>\n",
       "\t<tr><td>NA</td><td>NA</td></tr>\n",
       "\t<tr><td>NA</td><td>NA</td></tr>\n",
       "\t<tr><td>NA</td><td>NA</td></tr>\n",
       "\t<tr><td>NA</td><td>NA</td></tr>\n",
       "\t<tr><td>NA</td><td>NA</td></tr>\n",
       "\t<tr><td>NA</td><td>NA</td></tr>\n",
       "\t<tr><td>NA</td><td>NA</td></tr>\n",
       "\t<tr><td>NA</td><td>NA</td></tr>\n",
       "\t<tr><td>NA</td><td>NA</td></tr>\n",
       "\t<tr><td>NA</td><td>NA</td></tr>\n",
       "</tbody>\n",
       "</table>\n"
      ],
      "text/latex": [
       "A matrix: 10 × 2 of type lgl\n",
       "\\begin{tabular}{ll}\n",
       "\t NA & NA\\\\\n",
       "\t NA & NA\\\\\n",
       "\t NA & NA\\\\\n",
       "\t NA & NA\\\\\n",
       "\t NA & NA\\\\\n",
       "\t NA & NA\\\\\n",
       "\t NA & NA\\\\\n",
       "\t NA & NA\\\\\n",
       "\t NA & NA\\\\\n",
       "\t NA & NA\\\\\n",
       "\\end{tabular}\n"
      ],
      "text/markdown": [
       "\n",
       "A matrix: 10 × 2 of type lgl\n",
       "\n",
       "| NA | NA |\n",
       "| NA | NA |\n",
       "| NA | NA |\n",
       "| NA | NA |\n",
       "| NA | NA |\n",
       "| NA | NA |\n",
       "| NA | NA |\n",
       "| NA | NA |\n",
       "| NA | NA |\n",
       "| NA | NA |\n",
       "\n"
      ],
      "text/plain": [
       "      [,1] [,2]\n",
       " [1,] NA   NA  \n",
       " [2,] NA   NA  \n",
       " [3,] NA   NA  \n",
       " [4,] NA   NA  \n",
       " [5,] NA   NA  \n",
       " [6,] NA   NA  \n",
       " [7,] NA   NA  \n",
       " [8,] NA   NA  \n",
       " [9,] NA   NA  \n",
       "[10,] NA   NA  "
      ]
     },
     "metadata": {},
     "output_type": "display_data"
    },
    {
     "name": "stdout",
     "output_type": "stream",
     "text": [
      "        [,1]   [,2]\n",
      " [1,] -1.511  0.227\n",
      " [2,] -1.386  0.306\n",
      " [3,]  0.149  0.120\n",
      " [4,]  0.447  1.156\n",
      " [5,] -1.357 -1.122\n",
      " [6,]  0.853 -1.210\n",
      " [7,]  1.267  0.773\n",
      " [8,]  1.724  0.321\n",
      " [9,]  0.673 -0.410\n",
      "[10,] -0.717 -0.949\n"
     ]
    }
   ],
   "source": [
    "## Prepare an empty matrix\n",
    "m1 <- matrix(nrow = 10, ncol = 2)\n",
    "m1\n",
    "\n",
    "## Assign values to the first column\n",
    "m1[, 1] <- x1[1:10]\n",
    "\n",
    "## Assign values to the second column\n",
    "m1[, 2] <- x1[9991:10000]\n",
    "\n",
    "## Print the result rounded to 3 decimals\n",
    "print(round(m1, digits = 3))"
   ]
  },
  {
   "cell_type": "code",
   "execution_count": 24,
   "metadata": {},
   "outputs": [
    {
     "data": {
      "text/html": [
       "<style>\n",
       ".list-inline {list-style: none; margin:0; padding: 0}\n",
       ".list-inline>li {display: inline-block}\n",
       ".list-inline>li:not(:last-child)::after {content: \"\\00b7\"; padding: 0 .5ex}\n",
       "</style>\n",
       "<ol class=list-inline><li>'matrix'</li><li>'array'</li></ol>\n"
      ],
      "text/latex": [
       "\\begin{enumerate*}\n",
       "\\item 'matrix'\n",
       "\\item 'array'\n",
       "\\end{enumerate*}\n"
      ],
      "text/markdown": [
       "1. 'matrix'\n",
       "2. 'array'\n",
       "\n",
       "\n"
      ],
      "text/plain": [
       "[1] \"matrix\" \"array\" "
      ]
     },
     "metadata": {},
     "output_type": "display_data"
    }
   ],
   "source": [
    "## Check it is a matrix and print its dimensions\n",
    "class(m1)"
   ]
  },
  {
   "cell_type": "code",
   "execution_count": 25,
   "metadata": {},
   "outputs": [
    {
     "name": "stdout",
     "output_type": "stream",
     "text": [
      "[1] 10  2\n"
     ]
    }
   ],
   "source": [
    "print(dim(m1))"
   ]
  },
  {
   "cell_type": "markdown",
   "metadata": {},
   "source": [
    "<br>\n",
    "\n",
    "*__=> Pour aller plus loin :__*\n",
    "\n",
    "On aurait pu aussi assigner les valeurs des colonnes de `m1` à partir des vecteurs `x1` et `x2` en utilisant les fonctions `head()`et `tail()`"
   ]
  },
  {
   "cell_type": "code",
   "execution_count": 26,
   "metadata": {},
   "outputs": [],
   "source": [
    "m1[, 1] <- head(x = x1, n = 10) # équivaut à m1[, 1] <- x1[1:10]\n",
    "m1[, 2] <- tail(x = x1, n = 10) # éqivaut à m1[, 2] <- x1[9991:10000]"
   ]
  },
  {
   "cell_type": "markdown",
   "metadata": {},
   "source": [
    "---\n",
    "\n",
    "Cette seconde solution est plus efficace car elle utilise les vecteurs `x1` et `x2` directement avec la fonction `cbind()` sans passer par la création d'une matrice vide."
   ]
  },
  {
   "cell_type": "code",
   "execution_count": 27,
   "metadata": {},
   "outputs": [
    {
     "name": "stdout",
     "output_type": "stream",
     "text": [
      "        [,1]  [,2]\n",
      " [1,] -1.511 3.606\n",
      " [2,] -1.386 8.210\n",
      " [3,]  0.149 9.257\n",
      " [4,]  0.447 8.052\n",
      " [5,] -1.357 4.446\n",
      " [6,]  0.853 1.757\n",
      " [7,]  1.267 1.170\n",
      " [8,]  1.724 4.638\n",
      " [9,]  0.673 5.836\n",
      "[10,] -0.717 6.362\n"
     ]
    }
   ],
   "source": [
    "m1 <- cbind(x1[1:10], x2[9991:10000])\n",
    "print(round(m1, digits = 3))"
   ]
  },
  {
   "cell_type": "code",
   "execution_count": 28,
   "metadata": {},
   "outputs": [
    {
     "data": {
      "text/html": [
       "<style>\n",
       ".list-inline {list-style: none; margin:0; padding: 0}\n",
       ".list-inline>li {display: inline-block}\n",
       ".list-inline>li:not(:last-child)::after {content: \"\\00b7\"; padding: 0 .5ex}\n",
       "</style>\n",
       "<ol class=list-inline><li>'matrix'</li><li>'array'</li></ol>\n"
      ],
      "text/latex": [
       "\\begin{enumerate*}\n",
       "\\item 'matrix'\n",
       "\\item 'array'\n",
       "\\end{enumerate*}\n"
      ],
      "text/markdown": [
       "1. 'matrix'\n",
       "2. 'array'\n",
       "\n",
       "\n"
      ],
      "text/plain": [
       "[1] \"matrix\" \"array\" "
      ]
     },
     "metadata": {},
     "output_type": "display_data"
    }
   ],
   "source": [
    "class(m1)"
   ]
  },
  {
   "cell_type": "code",
   "execution_count": 29,
   "metadata": {},
   "outputs": [
    {
     "name": "stdout",
     "output_type": "stream",
     "text": [
      "[1] 10  2\n"
     ]
    }
   ],
   "source": [
    "print(dim(m1))"
   ]
  },
  {
   "cell_type": "markdown",
   "metadata": {},
   "source": [
    "---\n",
    "### Exercice 2.3\n",
    "\n",
    "Créez une matrice `m2` qui contient\n",
    "\n",
    "    les 16ème, 51ème, 79ème, 31ème et 27ème valeurs de `x1` (colonne 1 de `m2`) et\n",
    "    les 30ème, 70ème, 12ème, 49ème et 45ème de `x2` (colonne 2 de `m2`).\n",
    "\n",
    "Affichez `m2`.\n",
    "\n",
    "*__Tip :__*\n",
    "_fonctions recommandées : `matrix()`, or `cbind()`, ..._"
   ]
  },
  {
   "cell_type": "code",
   "execution_count": 30,
   "metadata": {},
   "outputs": [
    {
     "name": "stdout",
     "output_type": "stream",
     "text": [
      "            [,1]     [,2]\n",
      "[1,]  0.82445157 2.949704\n",
      "[2,]  1.41348726 3.305308\n",
      "[3,]  1.15131819 4.913822\n",
      "[4,] -0.03351272 5.233684\n",
      "[5,] -1.72198802 3.758263\n"
     ]
    }
   ],
   "source": [
    "m2 <- matrix(nrow = 5, ncol = 2)\n",
    "\n",
    "## Assign values\n",
    "m2[, 1] <- x1[c(16, 51, 79, 31, 27)]\n",
    "m2[, 2] <- x2[c(30, 70, 12, 49, 45)]\n",
    "\n",
    "## Print the result\n",
    "print(m2)"
   ]
  },
  {
   "cell_type": "code",
   "execution_count": 31,
   "metadata": {},
   "outputs": [
    {
     "name": "stdout",
     "output_type": "stream",
     "text": [
      "            [,1]     [,2]\n",
      "[1,]  0.82445157 2.949704\n",
      "[2,]  1.41348726 3.305308\n",
      "[3,]  1.15131819 4.913822\n",
      "[4,] -0.03351272 5.233684\n",
      "[5,] -1.72198802 3.758263\n"
     ]
    }
   ],
   "source": [
    "## or more directly using the cbind() function without creating an empty matrix first\n",
    "m2 <- cbind(x1[c(16, 51, 79, 31, 27)], x2[c(30, 70, 12, 49, 45)])\n",
    "print(m2)"
   ]
  },
  {
   "cell_type": "markdown",
   "metadata": {},
   "source": [
    "---\n",
    "### Exercice 2.4\n",
    "\n",
    "Concaténez à la suite (l’une en dessous-de l’autre) les matrices `m1` et `m2`, afin d’obtenir une nouvelle matrice `m3`.\n",
    "\n",
    "Quelles sont les dimensions (nombre de lignes et de colonnes) de `m3` ?\n",
    "\n",
    "\n",
    "*__Tip :__*\n",
    "_fonctions recommandées : `rbind()`, `dim()`, `ncol()`, `nrow()`, `str()`_"
   ]
  },
  {
   "cell_type": "code",
   "execution_count": 32,
   "metadata": {},
   "outputs": [
    {
     "name": "stdout",
     "output_type": "stream",
     "text": [
      "             [,1]     [,2]\n",
      " [1,] -1.51071607 3.605587\n",
      " [2,] -1.38563078 8.209903\n",
      " [3,]  0.14855485 9.256833\n",
      " [4,]  0.44738568 8.051581\n",
      " [5,] -1.35713468 4.445670\n",
      " [6,]  0.85312792 1.757235\n",
      " [7,]  1.26731626 1.169564\n",
      " [8,]  1.72366081 4.637662\n",
      " [9,]  0.67320983 5.836214\n",
      "[10,] -0.71732032 6.361577\n",
      "[11,]  0.82445157 2.949704\n",
      "[12,]  1.41348726 3.305308\n",
      "[13,]  1.15131819 4.913822\n",
      "[14,] -0.03351272 5.233684\n",
      "[15,] -1.72198802 3.758263\n"
     ]
    }
   ],
   "source": [
    "m3 <- rbind(m1, m2)\n",
    "print(m3)"
   ]
  },
  {
   "cell_type": "code",
   "execution_count": 33,
   "metadata": {},
   "outputs": [],
   "source": [
    "# alternativement, moins belle, en utilisant matrix, et en emboitant  tout sans creer m1 et m2:\n",
    "m3 <- matrix(c(x1[1:10],\n",
    "               (x2[1:10]),\n",
    "               x1[c(16, 51, 79, 31, 27)],\n",
    "               (x2[c(30, 70, 12, 49, 45)])),\n",
    "             nrow = 15,\n",
    "             ncol = 2,\n",
    "             byrow = TRUE)"
   ]
  },
  {
   "cell_type": "code",
   "execution_count": 34,
   "metadata": {},
   "outputs": [
    {
     "name": "stdout",
     "output_type": "stream",
     "text": [
      "[1] 15  2\n"
     ]
    }
   ],
   "source": [
    "print(dim(m3))"
   ]
  },
  {
   "cell_type": "code",
   "execution_count": 35,
   "metadata": {},
   "outputs": [
    {
     "data": {
      "text/html": [
       "15"
      ],
      "text/latex": [
       "15"
      ],
      "text/markdown": [
       "15"
      ],
      "text/plain": [
       "[1] 15"
      ]
     },
     "metadata": {},
     "output_type": "display_data"
    },
    {
     "data": {
      "text/html": [
       "2"
      ],
      "text/latex": [
       "2"
      ],
      "text/markdown": [
       "2"
      ],
      "text/plain": [
       "[1] 2"
      ]
     },
     "metadata": {},
     "output_type": "display_data"
    }
   ],
   "source": [
    "# ou vous pouviez utiliser nrow() et ncol()\n",
    "nrow(m3)\n",
    "ncol(m3)"
   ]
  },
  {
   "cell_type": "markdown",
   "metadata": {},
   "source": [
    "<br>\n",
    "\n",
    "*__=> Pour aller plus loin :__*\n",
    "\n",
    "Les operateurs classiques (+, -, * ) font des operations terme à terme si les deux matrices ont la même taille, par exemple: `m1 + rbind(m2,m2)` alors que `m1+m2` retourne une erreur.\n",
    "\n",
    "Pour faire du calcul matriciel, on utilise un operateur specifique `%*%` pour multiplier. La premiere matrice a autant de lignes qu’il y a de colonnes dans la 2eme matrice. La matrice resultante a autant de lignes que la 1ere matrice et de colonnes que la 2eme matrice.\n",
    "\n",
    "Quelques exemples:\n"
   ]
  },
  {
   "cell_type": "code",
   "execution_count": 36,
   "metadata": {},
   "outputs": [
    {
     "name": "stdout",
     "output_type": "stream",
     "text": [
      "[1] 10  5\n"
     ]
    }
   ],
   "source": [
    "m4 <- m1 %*% t(m2)# m1 avec la transposée de m2 qui a 2 lignes et 5 colonnes\n",
    "print(dim(m4))"
   ]
  },
  {
   "cell_type": "code",
   "execution_count": 37,
   "metadata": {},
   "outputs": [
    {
     "name": "stdout",
     "output_type": "stream",
     "text": [
      "[1] 10 10\n"
     ]
    }
   ],
   "source": [
    "m5 <- m1 %*% t(m1)# m1 avec sa propre tranposée\n",
    "print(dim(m5))"
   ]
  },
  {
   "cell_type": "code",
   "execution_count": 38,
   "metadata": {},
   "outputs": [
    {
     "name": "stdout",
     "output_type": "stream",
     "text": [
      "[1] 2 2\n"
     ]
    }
   ],
   "source": [
    "m6 <- t(m1) %*% m1 # ou l'inverse! Pas de commutativite sur ces calculs!\n",
    "print(dim(m6))"
   ]
  },
  {
   "cell_type": "markdown",
   "metadata": {},
   "source": [
    "---\n",
    "---\n",
    "\n",
    "## Exercice 3 : exploration des données d'une matrice\n",
    "\n",
    "### Exercice 3.1\n",
    "\n",
    "Importez dans votre session R les données nommées `WorldPhones` (pré-existantes dans R).\n",
    "\n",
    "Affichez le contenu de la variable `WorldPhones`.\n",
    "\n",
    "Quelle est sa structure et sa classe ?\n",
    "\n",
    "*__Tip :__*\n",
    "_fonctions recommandées : `data(WorldPhones)`, `class()`, `dim()`, `str()`_"
   ]
  },
  {
   "cell_type": "code",
   "execution_count": 39,
   "metadata": {},
   "outputs": [],
   "source": [
    "data(\"WorldPhones\")"
   ]
  },
  {
   "cell_type": "code",
   "execution_count": 40,
   "metadata": {},
   "outputs": [
    {
     "data": {
      "text/html": [
       "<table class=\"dataframe\">\n",
       "<caption>A matrix: 7 × 7 of type dbl</caption>\n",
       "<thead>\n",
       "\t<tr><th></th><th scope=col>N.Amer</th><th scope=col>Europe</th><th scope=col>Asia</th><th scope=col>S.Amer</th><th scope=col>Oceania</th><th scope=col>Africa</th><th scope=col>Mid.Amer</th></tr>\n",
       "</thead>\n",
       "<tbody>\n",
       "\t<tr><th scope=row>1951</th><td>45939</td><td>21574</td><td>2876</td><td>1815</td><td>1646</td><td>  89</td><td> 555</td></tr>\n",
       "\t<tr><th scope=row>1956</th><td>60423</td><td>29990</td><td>4708</td><td>2568</td><td>2366</td><td>1411</td><td> 733</td></tr>\n",
       "\t<tr><th scope=row>1957</th><td>64721</td><td>32510</td><td>5230</td><td>2695</td><td>2526</td><td>1546</td><td> 773</td></tr>\n",
       "\t<tr><th scope=row>1958</th><td>68484</td><td>35218</td><td>6662</td><td>2845</td><td>2691</td><td>1663</td><td> 836</td></tr>\n",
       "\t<tr><th scope=row>1959</th><td>71799</td><td>37598</td><td>6856</td><td>3000</td><td>2868</td><td>1769</td><td> 911</td></tr>\n",
       "\t<tr><th scope=row>1960</th><td>76036</td><td>40341</td><td>8220</td><td>3145</td><td>3054</td><td>1905</td><td>1008</td></tr>\n",
       "\t<tr><th scope=row>1961</th><td>79831</td><td>43173</td><td>9053</td><td>3338</td><td>3224</td><td>2005</td><td>1076</td></tr>\n",
       "</tbody>\n",
       "</table>\n"
      ],
      "text/latex": [
       "A matrix: 7 × 7 of type dbl\n",
       "\\begin{tabular}{r|lllllll}\n",
       "  & N.Amer & Europe & Asia & S.Amer & Oceania & Africa & Mid.Amer\\\\\n",
       "\\hline\n",
       "\t1951 & 45939 & 21574 & 2876 & 1815 & 1646 &   89 &  555\\\\\n",
       "\t1956 & 60423 & 29990 & 4708 & 2568 & 2366 & 1411 &  733\\\\\n",
       "\t1957 & 64721 & 32510 & 5230 & 2695 & 2526 & 1546 &  773\\\\\n",
       "\t1958 & 68484 & 35218 & 6662 & 2845 & 2691 & 1663 &  836\\\\\n",
       "\t1959 & 71799 & 37598 & 6856 & 3000 & 2868 & 1769 &  911\\\\\n",
       "\t1960 & 76036 & 40341 & 8220 & 3145 & 3054 & 1905 & 1008\\\\\n",
       "\t1961 & 79831 & 43173 & 9053 & 3338 & 3224 & 2005 & 1076\\\\\n",
       "\\end{tabular}\n"
      ],
      "text/markdown": [
       "\n",
       "A matrix: 7 × 7 of type dbl\n",
       "\n",
       "| <!--/--> | N.Amer | Europe | Asia | S.Amer | Oceania | Africa | Mid.Amer |\n",
       "|---|---|---|---|---|---|---|---|\n",
       "| 1951 | 45939 | 21574 | 2876 | 1815 | 1646 |   89 |  555 |\n",
       "| 1956 | 60423 | 29990 | 4708 | 2568 | 2366 | 1411 |  733 |\n",
       "| 1957 | 64721 | 32510 | 5230 | 2695 | 2526 | 1546 |  773 |\n",
       "| 1958 | 68484 | 35218 | 6662 | 2845 | 2691 | 1663 |  836 |\n",
       "| 1959 | 71799 | 37598 | 6856 | 3000 | 2868 | 1769 |  911 |\n",
       "| 1960 | 76036 | 40341 | 8220 | 3145 | 3054 | 1905 | 1008 |\n",
       "| 1961 | 79831 | 43173 | 9053 | 3338 | 3224 | 2005 | 1076 |\n",
       "\n"
      ],
      "text/plain": [
       "     N.Amer Europe Asia S.Amer Oceania Africa Mid.Amer\n",
       "1951 45939  21574  2876 1815   1646      89    555    \n",
       "1956 60423  29990  4708 2568   2366    1411    733    \n",
       "1957 64721  32510  5230 2695   2526    1546    773    \n",
       "1958 68484  35218  6662 2845   2691    1663    836    \n",
       "1959 71799  37598  6856 3000   2868    1769    911    \n",
       "1960 76036  40341  8220 3145   3054    1905   1008    \n",
       "1961 79831  43173  9053 3338   3224    2005   1076    "
      ]
     },
     "metadata": {},
     "output_type": "display_data"
    }
   ],
   "source": [
    "WorldPhones"
   ]
  },
  {
   "cell_type": "code",
   "execution_count": 41,
   "metadata": {},
   "outputs": [
    {
     "data": {
      "text/html": [
       "<style>\n",
       ".list-inline {list-style: none; margin:0; padding: 0}\n",
       ".list-inline>li {display: inline-block}\n",
       ".list-inline>li:not(:last-child)::after {content: \"\\00b7\"; padding: 0 .5ex}\n",
       "</style>\n",
       "<ol class=list-inline><li>'matrix'</li><li>'array'</li></ol>\n"
      ],
      "text/latex": [
       "\\begin{enumerate*}\n",
       "\\item 'matrix'\n",
       "\\item 'array'\n",
       "\\end{enumerate*}\n"
      ],
      "text/markdown": [
       "1. 'matrix'\n",
       "2. 'array'\n",
       "\n",
       "\n"
      ],
      "text/plain": [
       "[1] \"matrix\" \"array\" "
      ]
     },
     "metadata": {},
     "output_type": "display_data"
    }
   ],
   "source": [
    "class(WorldPhones)"
   ]
  },
  {
   "cell_type": "code",
   "execution_count": 42,
   "metadata": {},
   "outputs": [
    {
     "name": "stdout",
     "output_type": "stream",
     "text": [
      "[1] 7 7\n"
     ]
    }
   ],
   "source": [
    "print(dim(WorldPhones))"
   ]
  },
  {
   "cell_type": "code",
   "execution_count": 43,
   "metadata": {},
   "outputs": [
    {
     "name": "stdout",
     "output_type": "stream",
     "text": [
      " num [1:7, 1:7] 45939 60423 64721 68484 71799 ...\n",
      " - attr(*, \"dimnames\")=List of 2\n",
      "  ..$ : chr [1:7] \"1951\" \"1956\" \"1957\" \"1958\" ...\n",
      "  ..$ : chr [1:7] \"N.Amer\" \"Europe\" \"Asia\" \"S.Amer\" ...\n"
     ]
    }
   ],
   "source": [
    "str(WorldPhones)"
   ]
  },
  {
   "cell_type": "markdown",
   "metadata": {},
   "source": [
    "---\n",
    "### Exercice 3.2\n",
    "\n",
    "Calculez le nombre total de numéros de téléphone attribués :\n",
    "\n",
    "   - au cours des différentes années (vecteur `nbrTelAn`)\n",
    "   - pour chaque continent (vecteur `nbrTelCont`)\n",
    "\n",
    "*__Tip :__*\n",
    "_fonction recommandée : `sum()`, `apply()`_"
   ]
  },
  {
   "cell_type": "code",
   "execution_count": 44,
   "metadata": {},
   "outputs": [
    {
     "data": {
      "text/html": [
       "467233"
      ],
      "text/latex": [
       "467233"
      ],
      "text/markdown": [
       "467233"
      ],
      "text/plain": [
       "[1] 467233"
      ]
     },
     "metadata": {},
     "output_type": "display_data"
    }
   ],
   "source": [
    "# nombre d'appels pour le continent 1\n",
    "sum(WorldPhones[,1])"
   ]
  },
  {
   "cell_type": "code",
   "execution_count": 45,
   "metadata": {},
   "outputs": [
    {
     "data": {
      "text/html": [
       "240404"
      ],
      "text/latex": [
       "240404"
      ],
      "text/markdown": [
       "240404"
      ],
      "text/plain": [
       "[1] 240404"
      ]
     },
     "metadata": {},
     "output_type": "display_data"
    }
   ],
   "source": [
    "# nombre d'appels pour le continent 2\n",
    "sum(WorldPhones[,2])"
   ]
  },
  {
   "cell_type": "markdown",
   "metadata": {},
   "source": [
    "etc...\n",
    "\n",
    "*__=> Pour aller plus loin :__*\n",
    "\n",
    "Pour aller plus rapidement, on utilise la fonction `apply()` qui est très utile pour répéter une commande par ligne ou colonne sur une matrice:\n"
   ]
  },
  {
   "cell_type": "code",
   "execution_count": 46,
   "metadata": {},
   "outputs": [
    {
     "name": "stdout",
     "output_type": "stream",
     "text": [
      "  1951   1956   1957   1958   1959   1960   1961 \n",
      " 74494 102199 110001 118399 124801 133709 141700 \n"
     ]
    }
   ],
   "source": [
    "# repetition de la commande sum() en ligne = marginal sums per year\n",
    "nbrTelAn <- apply(WorldPhones, 1, sum)\n",
    "print(nbrTelAn)"
   ]
  },
  {
   "cell_type": "code",
   "execution_count": 47,
   "metadata": {},
   "outputs": [
    {
     "name": "stdout",
     "output_type": "stream",
     "text": [
      "  N.Amer   Europe     Asia   S.Amer  Oceania   Africa Mid.Amer \n",
      "  467233   240404    43605    19406    18375    10388     5892 \n"
     ]
    }
   ],
   "source": [
    "# repetition de la commande sum() en colonne =  marginal sums per continent\n",
    "nbrTelCont <- apply(WorldPhones, 2, sum)\n",
    "print(nbrTelCont)"
   ]
  },
  {
   "cell_type": "markdown",
   "metadata": {},
   "source": [
    "---\n",
    "### Exercice 3.3\n",
    "\n",
    "Quel est le continent qui a le plus / moins de numéros attribués ?\n",
    "\n",
    "\n",
    "*__Tip :__*\n",
    "_fonctions recommandées : `names()`, `which()`, `max()`, `min()`, `which.max()`, `which.min()`_"
   ]
  },
  {
   "cell_type": "code",
   "execution_count": 48,
   "metadata": {},
   "outputs": [
    {
     "data": {
      "text/html": [
       "'N.Amer'"
      ],
      "text/latex": [
       "'N.Amer'"
      ],
      "text/markdown": [
       "'N.Amer'"
      ],
      "text/plain": [
       "[1] \"N.Amer\""
      ]
     },
     "metadata": {},
     "output_type": "display_data"
    }
   ],
   "source": [
    "# continent avec le plus de numeros\n",
    "names(nbrTelCont)[which(nbrTelCont == max(nbrTelCont))]"
   ]
  },
  {
   "cell_type": "code",
   "execution_count": 49,
   "metadata": {},
   "outputs": [
    {
     "data": {
      "text/html": [
       "'Mid.Amer'"
      ],
      "text/latex": [
       "'Mid.Amer'"
      ],
      "text/markdown": [
       "'Mid.Amer'"
      ],
      "text/plain": [
       "[1] \"Mid.Amer\""
      ]
     },
     "metadata": {},
     "output_type": "display_data"
    }
   ],
   "source": [
    "# continent avec le moins de numeros\n",
    "names(nbrTelCont)[which(nbrTelCont == min(nbrTelCont))]"
   ]
  },
  {
   "cell_type": "code",
   "execution_count": 50,
   "metadata": {},
   "outputs": [
    {
     "data": {
      "text/html": [
       "'N.Amer'"
      ],
      "text/latex": [
       "'N.Amer'"
      ],
      "text/markdown": [
       "'N.Amer'"
      ],
      "text/plain": [
       "[1] \"N.Amer\""
      ]
     },
     "metadata": {},
     "output_type": "display_data"
    }
   ],
   "source": [
    "# ou plus simplement avec la commande which.max() ou which.min()\n",
    "names(which.max(nbrTelCont))"
   ]
  },
  {
   "cell_type": "code",
   "execution_count": 51,
   "metadata": {},
   "outputs": [
    {
     "data": {
      "text/html": [
       "'Mid.Amer'"
      ],
      "text/latex": [
       "'Mid.Amer'"
      ],
      "text/markdown": [
       "'Mid.Amer'"
      ],
      "text/plain": [
       "[1] \"Mid.Amer\""
      ]
     },
     "metadata": {},
     "output_type": "display_data"
    }
   ],
   "source": [
    "names(which.min(nbrTelCont))"
   ]
  },
  {
   "cell_type": "markdown",
   "metadata": {},
   "source": [
    "<br>\n",
    "\n",
    "*__=> Pour aller plus loin :__*\n",
    "\n",
    "Une autre façon en utilisant les fonctions `tail()`et `head()` après avoir trié les comptes avec `sort()`\n",
    "\n"
   ]
  },
  {
   "cell_type": "code",
   "execution_count": 52,
   "metadata": {},
   "outputs": [
    {
     "data": {
      "text/html": [
       "<strong>N.Amer:</strong> 467233"
      ],
      "text/latex": [
       "\\textbf{N.Amer:} 467233"
      ],
      "text/markdown": [
       "**N.Amer:** 467233"
      ],
      "text/plain": [
       "N.Amer \n",
       "467233 "
      ]
     },
     "metadata": {},
     "output_type": "display_data"
    }
   ],
   "source": [
    "tail(sort(nbrTelCont), n = 1)"
   ]
  },
  {
   "cell_type": "markdown",
   "metadata": {},
   "source": [
    "---\n",
    "### Exercice 3.4\n",
    "\n",
    "Dans combien de continents y a-t-il plus de : 20.000, 50.000 et 200.000 numéros de téléphone attribués ?\n",
    "\n",
    "*__Tip :__*\n",
    "_fonctions recommandées : `sum()`_"
   ]
  },
  {
   "cell_type": "code",
   "execution_count": 53,
   "metadata": {},
   "outputs": [
    {
     "name": "stdout",
     "output_type": "stream",
     "text": [
      "Il y a plus de 20 000 numéros attribués dans 3 continents. \n",
      "Il y a plus de 50 000 numéros attribués dans 2 continents. \n",
      "Il y a plus de 200 000 numéros attribués dans 2 continents. \n"
     ]
    }
   ],
   "source": [
    "cat(\"Il y a plus de 20 000 numéros attribués dans\", sum(nbrTelCont > 20000), \"continents. \\n\") # la phrase n'était pas demandée dans l'exrecice.\n",
    "cat(\"Il y a plus de 50 000 numéros attribués dans\", sum(nbrTelCont > 50000), \"continents. \\n\")\n",
    "cat(\"Il y a plus de 200 000 numéros attribués dans\", sum(nbrTelCont > 200000), \"continents. \\n\")"
   ]
  },
  {
   "cell_type": "markdown",
   "metadata": {},
   "source": [
    "---\n",
    "A la fin, je sauve la liste comme objet pour de futures sessions dans R."
   ]
  },
  {
   "cell_type": "code",
   "execution_count": 54,
   "metadata": {},
   "outputs": [
    {
     "data": {
      "text/html": [
       "<style>\n",
       ".list-inline {list-style: none; margin:0; padding: 0}\n",
       ".list-inline>li {display: inline-block}\n",
       ".list-inline>li:not(:last-child)::after {content: \"\\00b7\"; padding: 0 .5ex}\n",
       "</style>\n",
       "<ol class=list-inline><li>'m1'</li><li>'m2'</li><li>'m3'</li><li>'m4'</li><li>'m5'</li><li>'m6'</li><li>'matAleatoire'</li><li>'matIdentite'</li><li>'my_mat'</li><li>'my_mat2'</li><li>'my_vector'</li><li>'n'</li><li>'nbrTelAn'</li><li>'nbrTelCont'</li><li>'vec1'</li><li>'vec2'</li><li>'vec3'</li><li>'WorldPhones'</li><li>'x1'</li><li>'x2'</li></ol>\n"
      ],
      "text/latex": [
       "\\begin{enumerate*}\n",
       "\\item 'm1'\n",
       "\\item 'm2'\n",
       "\\item 'm3'\n",
       "\\item 'm4'\n",
       "\\item 'm5'\n",
       "\\item 'm6'\n",
       "\\item 'matAleatoire'\n",
       "\\item 'matIdentite'\n",
       "\\item 'my\\_mat'\n",
       "\\item 'my\\_mat2'\n",
       "\\item 'my\\_vector'\n",
       "\\item 'n'\n",
       "\\item 'nbrTelAn'\n",
       "\\item 'nbrTelCont'\n",
       "\\item 'vec1'\n",
       "\\item 'vec2'\n",
       "\\item 'vec3'\n",
       "\\item 'WorldPhones'\n",
       "\\item 'x1'\n",
       "\\item 'x2'\n",
       "\\end{enumerate*}\n"
      ],
      "text/markdown": [
       "1. 'm1'\n",
       "2. 'm2'\n",
       "3. 'm3'\n",
       "4. 'm4'\n",
       "5. 'm5'\n",
       "6. 'm6'\n",
       "7. 'matAleatoire'\n",
       "8. 'matIdentite'\n",
       "9. 'my_mat'\n",
       "10. 'my_mat2'\n",
       "11. 'my_vector'\n",
       "12. 'n'\n",
       "13. 'nbrTelAn'\n",
       "14. 'nbrTelCont'\n",
       "15. 'vec1'\n",
       "16. 'vec2'\n",
       "17. 'vec3'\n",
       "18. 'WorldPhones'\n",
       "19. 'x1'\n",
       "20. 'x2'\n",
       "\n",
       "\n"
      ],
      "text/plain": [
       " [1] \"m1\"           \"m2\"           \"m3\"           \"m4\"           \"m5\"          \n",
       " [6] \"m6\"           \"matAleatoire\" \"matIdentite\"  \"my_mat\"       \"my_mat2\"     \n",
       "[11] \"my_vector\"    \"n\"            \"nbrTelAn\"     \"nbrTelCont\"   \"vec1\"        \n",
       "[16] \"vec2\"         \"vec3\"         \"WorldPhones\"  \"x1\"           \"x2\"          "
      ]
     },
     "metadata": {},
     "output_type": "display_data"
    }
   ],
   "source": [
    "ls()\n",
    "save.image(file=\"R2_practice.RData\")"
   ]
  },
  {
   "cell_type": "markdown",
   "metadata": {},
   "source": [
    "---\n",
    "---\n",
    "\n",
    "## <mark>Check list des actions avant la prochaine session R:<mark>\n",
    "\n",
    "_Pour cocher les cases, ouvrez la cellule du notebook et remplacez l'espace entre les crochets par un `x` lorsque l'action est effectuée_\n",
    "\n",
    "[ ] relire le cours et revoir les différents supports dont diapos, vidéos, scripts et notebooks\n",
    "            \n",
    "[ ] faire les exercices sans les corrections\n",
    "\n",
    "[ ] lire et comprendre les corrections\n",
    "\n",
    "[ ] refaire les exercices sans les corrections\n",
    "    \n",
    "[ ] étudier le tutorial d'introduction aux dataframes \"R2_tuto_intro2dataframes\" (.ipynb et .html sur moodle)  et regarder le diaporama correspondant\n",
    "    \n",
    "[ ] continuer les tuto de swirl 1, 3 à 6  à votre rythme pour les avoir finis avant le QCM en séance R#4.\n",
    "\n",
    "[ ] visionner video Fil Rouge pour le 28/09 avant le TP6 Unix#4"
   ]
  },
  {
   "cell_type": "markdown",
   "metadata": {
    "tags": []
   },
   "source": [
    "***\n",
    "***\n",
    "## Useful commands\n",
    "<div class=\"alert alert-block alert-info\"> \n",
    "    \n",
    "- <kbd>CTRL</kbd>+<kbd>S</kbd> : save notebook<br>    \n",
    "- <kbd>CTRL</kbd>+<kbd>ENTER</kbd> : Run Cell<br>  \n",
    "- <kbd>SHIFT</kbd>+<kbd>ENTER</kbd> : Run Cell and Select Next<br>   \n",
    "- <kbd>ALT</kbd>+<kbd>ENTER</kbd> : Run Cell and Insert Below<br>   \n",
    "- <kbd>ESC</kbd>+<kbd>y</kbd> : Change to *Code* Cell Type<br>  \n",
    "- <kbd>ESC</kbd>+<kbd>m</kbd> : Change to *Markdown* Cell Type<br> \n",
    "- <kbd>ESC</kbd>+<kbd>r</kbd> : Change to *Raw* Cell Type<br>    \n",
    "- <kbd>ESC</kbd>+<kbd>a</kbd> : Create Cell Above<br> \n",
    "- <kbd>ESC</kbd>+<kbd>b</kbd> : Create Cell Below<br> \n",
    "\n",
    "<em>  \n",
    "To make nice html reports with markdown: <a href=\"https://dillinger.io/\" title=\"dillinger.io\">html visualization tool 1</a> or <a href=\"https://stackedit.io/app#\" title=\"stackedit.io\">html visualization tool 2</a>, <a href=\"https://www.tablesgenerator.com/markdown_tables\" title=\"tablesgenerator.com\">to draw nice tables</a>, and the <a href=\"https://medium.com/analytics-vidhya/the-ultimate-markdown-guide-for-jupyter-notebook-d5e5abf728fd\" title=\"Ultimate guide\">Ultimate guide</a>. <br>\n",
    "Further reading on JupyterLab notebooks: <a href=\"https://jupyterlab.readthedocs.io/en/latest/user/notebook.html\" title=\"Jupyter Lab\">Jupyter Lab documentation</a>.<br>   \n",
    "</em>    \n",
    " \n",
    "</div>"
   ]
  },
  {
   "cell_type": "markdown",
   "metadata": {},
   "source": [
    "__*=> About this jupyter notebook*__\n",
    "\n",
    "This a jupyter notebook in **R**, meaning that the commands you will enter or run in `Code` cells are directly understood by the server in the R language.\n",
    "<br>You could run the same commands in a Terminal or in RStudio. \n",
    "Here we are using JupyterLab interface implemented as part of the https://plasmabio.org/ project lead by Sandrine Caburet, Pierre Poulain and Claire Vandiedonck. \n",
    "---\n",
    "\n"
   ]
  },
  {
   "cell_type": "markdown",
   "metadata": {},
   "source": [
    "[version 23/09/2022 - last revision: @CVandiedonck]"
   ]
  }
 ],
 "metadata": {
  "kernelspec": {
   "display_name": "R",
   "language": "R",
   "name": "ir"
  },
  "language_info": {
   "codemirror_mode": "r",
   "file_extension": ".r",
   "mimetype": "text/x-r-source",
   "name": "R",
   "pygments_lexer": "r",
   "version": "4.1.3"
  }
 },
 "nbformat": 4,
 "nbformat_minor": 4
}
