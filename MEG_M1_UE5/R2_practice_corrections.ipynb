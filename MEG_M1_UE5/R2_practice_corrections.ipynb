{
 "cells": [
  {
   "cell_type": "markdown",
   "metadata": {},
   "source": [
    "# __R Session n°2 - practical:__\n",
    "M1 MEG UE5 - Claire Vandiedonck\n",
    "***\n",
    "\n",
    "__*Programme couvert:*__\n",
    "\n",
    "- Les matrices et leur manipulation\n"
   ]
  },
  {
   "cell_type": "markdown",
   "metadata": {},
   "source": [
    "---\n",
    "    \n",
    "**Rappels**    \n",
    "> Les exercices proposés sont donnés dans un ordre progressif qui suit celui du diaporama associé. Ils ont des niveaux de difficulté variable. Pour chaque exercice, des fonctions R vous sont suggérées. N’hésitez pas à consulter leur menu d’aide en tapant soit `?nom_fonction`, soit `help(nom_fonction)`. Vous pouvez parvenir aux mêmes résultats avec d’autres commandes. Les commandes les plus courtes sont en général les meilleures. Une correction détaillée sera fournie.\n",
    "\n",
    "> Vous pouvez réaliser ces exercices directement dans ce notebook sur `adenine` en indiquant votre code dans les cellules laissées libres. Pour ajouter une nouvelle cellule, cliquez simplement sur le `+`dans le menu en haut à gauche du notebook (cf. rappels sur les notebooks en bas de ce notebook). Vous pouvez mettre plusieurs lignes de code aussi par cellule.\n",
    "> Pour executer les cellules, cliquez sur `Shift+Enter`. Executez les dans le bon ordre.\n",
    "> Remarque: dans un notebook jupyter, l'affichage des vecteurs n'est pas classique. Si vous souhaitez afficher le vecteur de façon plus classique, c'est à dire en ligne avec l'indice pour la 1ère valeur de chaque ligne au début de la ligne, tel qu'il apparait dans R, il est nécessaire d'utiliser la fonction `print()` -> voir dans cet exemple avec un vecteur contenant les deux valeurs numériques 1 et 10.\n"
   ]
  },
  {
   "cell_type": "code",
   "execution_count": 1,
   "metadata": {},
   "outputs": [
    {
     "data": {
      "text/html": [
       "<style>\n",
       ".list-inline {list-style: none; margin:0; padding: 0}\n",
       ".list-inline>li {display: inline-block}\n",
       ".list-inline>li:not(:last-child)::after {content: \"\\00b7\"; padding: 0 .5ex}\n",
       "</style>\n",
       "<ol class=list-inline><li>1</li><li>10</li></ol>\n"
      ],
      "text/latex": [
       "\\begin{enumerate*}\n",
       "\\item 1\n",
       "\\item 10\n",
       "\\end{enumerate*}\n"
      ],
      "text/markdown": [
       "1. 1\n",
       "2. 10\n",
       "\n",
       "\n"
      ],
      "text/plain": [
       "[1]  1 10"
      ]
     },
     "metadata": {},
     "output_type": "display_data"
    }
   ],
   "source": [
    "my_vector <- c(1, 10) # pour générer le vecteur et l'assigner dans un objet \"my_vector\"\n",
    "my_vector # l'affichage ici montre deux éléments dont l'affichage est séparé par un point médian."
   ]
  },
  {
   "cell_type": "code",
   "execution_count": 2,
   "metadata": {},
   "outputs": [
    {
     "name": "stdout",
     "output_type": "stream",
     "text": [
      "[1]  1 10\n"
     ]
    }
   ],
   "source": [
    "print(my_vector) # L'affichage ici montre le vecteur par ligne avec l'indice 1 entre crochets indiquant l'indice de la première valeur de la ligne."
   ]
  },
  {
   "cell_type": "markdown",
   "metadata": {},
   "source": [
    "> Vous pouvez également réaliser ces exercices si vous le préférez dans un terminal ou une console de cet environnement `megm1_ue5_r` sur adenine, ou sur la version rstudio de cet environnement.\n",
    ">\n",
    "> Il est enfin possible de réaliser ces exercices sur votre ordinateur. Dans ce cas, utilisez un editeur de texte avec coloration syntaxique pour votre code (editeur dans Rstudio, ou Tinn-R ou notepad++ par exemple). Sauvegardez vos commandes dans un fichier mes_commandes.R dans le répertoire de votre choix. Exécutez les commandes une par une dans votre console. Vous pouvez ajouter des commentaires qui ne seront pas éxécutés si vous les précédez du caractère « # ».\n",
    "\n",
    ">    "
   ]
  },
  {
   "cell_type": "markdown",
   "metadata": {},
   "source": [
    "---\n",
    "## Avant d'aller plus loin\n",
    "\n",
    "<div class=\"alert alert-block alert-danger\"><b>Attention:</b> \n",
    "Ne travaillez pas directement sur ce notebook pour ne pas le perdre. Dupliquez-le et renommez-le par exemple en ajoutant vos initiales et travaillez sur cette nouvelle copie. Pour ce faire, dans le panneau de gauche, faites un clic droit sur le fichier et sélectionnez \"Duplicate\". Puis, toujours dans la colonne de gauche, faites un clic droit sur cette copie et sélectionnez \"rename\" pour changer le nom. Ouvrez ensuite cette nouvelle version en double cliquant dessus. Vous êtes prêt(e) à démarrer! <br>\n",
    "<br>\n",
    "<b>N'oubliez pas de sauvegarder régulièrement votre notebook</b>: <kbd>Ctrl</kbd> + <kbd>S</kbd>. ou en cliquant sur l'icone 💾 en haut à gauche de votre notebook ou dans le Menu du JupyterLab \"File puis \"Save Notebook\"! Vous pouvez aussi le sauvegarder au format html: Menu \"File\" > Export Notebook As> Export notebook as HTML.\n",
    "</div>\n",
    " "
   ]
  },
  {
   "cell_type": "markdown",
   "metadata": {},
   "source": [
    "#### 1. Identifiez votre répertoire de travail"
   ]
  },
  {
   "cell_type": "code",
   "execution_count": 3,
   "metadata": {},
   "outputs": [
    {
     "data": {
      "text/html": [
       "'/srv/home/cvandiedonck/megm1_ue5_r/R2'"
      ],
      "text/latex": [
       "'/srv/home/cvandiedonck/megm1\\_ue5\\_r/R2'"
      ],
      "text/markdown": [
       "'/srv/home/cvandiedonck/megm1_ue5_r/R2'"
      ],
      "text/plain": [
       "[1] \"/srv/home/cvandiedonck/megm1_ue5_r/R2\""
      ]
     },
     "metadata": {},
     "output_type": "display_data"
    }
   ],
   "source": [
    "getwd()"
   ]
  },
  {
   "cell_type": "markdown",
   "metadata": {},
   "source": [
    "Si ce répertoire ne vous convient pas, changer le pour un répertoire existant `my_directory`par exemple, avec la commande suivante en spécifiant le chemin relatif ou absolu de votre répertoire:\n",
    "```setwd(\"path/my_directory\")```"
   ]
  },
  {
   "cell_type": "markdown",
   "metadata": {},
   "source": [
    "#### 2.  Identifiez la version R de votre environnement et packages installés."
   ]
  },
  {
   "cell_type": "code",
   "execution_count": 4,
   "metadata": {},
   "outputs": [
    {
     "data": {
      "text/plain": [
       "R version 4.0.5 (2021-03-31)\n",
       "Platform: x86_64-conda-linux-gnu (64-bit)\n",
       "Running under: Ubuntu 18.04.4 LTS\n",
       "\n",
       "Matrix products: default\n",
       "BLAS/LAPACK: /srv/conda/envs/notebook/lib/libopenblasp-r0.3.17.so\n",
       "\n",
       "locale:\n",
       " [1] LC_CTYPE=en_US.UTF-8       LC_NUMERIC=C              \n",
       " [3] LC_TIME=en_US.UTF-8        LC_COLLATE=en_US.UTF-8    \n",
       " [5] LC_MONETARY=en_US.UTF-8    LC_MESSAGES=en_US.UTF-8   \n",
       " [7] LC_PAPER=en_US.UTF-8       LC_NAME=C                 \n",
       " [9] LC_ADDRESS=C               LC_TELEPHONE=C            \n",
       "[11] LC_MEASUREMENT=en_US.UTF-8 LC_IDENTIFICATION=C       \n",
       "\n",
       "attached base packages:\n",
       "[1] stats     graphics  grDevices utils     datasets  methods   base     \n",
       "\n",
       "loaded via a namespace (and not attached):\n",
       " [1] fansi_0.5.0       digest_0.6.27     utf8_1.2.2        crayon_1.4.1     \n",
       " [5] IRdisplay_1.0     repr_1.1.3        lifecycle_1.0.0   jsonlite_1.7.2   \n",
       " [9] evaluate_0.14     pillar_1.6.2      rlang_0.4.11      uuid_0.1-4       \n",
       "[13] vctrs_0.3.8       ellipsis_0.3.2    IRkernel_1.1.1    tools_4.0.5      \n",
       "[17] compiler_4.0.5    base64enc_0.1-3   pbdZMQ_0.3-5      htmltools_0.5.1.1"
      ]
     },
     "metadata": {},
     "output_type": "display_data"
    }
   ],
   "source": [
    "sessionInfo()"
   ]
  },
  {
   "cell_type": "markdown",
   "metadata": {},
   "source": [
    "---\n",
    "---\n",
    "## Exercice 1\n",
    "\n",
    "### Execrice 1.1\n",
    "\n",
    "Créez la matrice identité `matIdentite` de dimension 10 lignes x 10 colonnes contenant uniquement le chiffre 0.\n",
    "\n",
    "*__Tip :__*\n",
    "_fonction recommandée : `matrix()`_"
   ]
  },
  {
   "cell_type": "code",
   "execution_count": 5,
   "metadata": {},
   "outputs": [],
   "source": [
    "matIdentite <- matrix(data = 0, ncol = 10, nrow = 10)"
   ]
  },
  {
   "cell_type": "markdown",
   "metadata": {},
   "source": [
    "Puis remplacez uniquement les valeurs de la diagonale par le chiffre 1.\n",
    "\n",
    "*__Tip :__*\n",
    "_fonction recommandée : `diag()`_\n",
    "\n"
   ]
  },
  {
   "cell_type": "code",
   "execution_count": 6,
   "metadata": {},
   "outputs": [],
   "source": [
    "diag(matIdentite) <- 1 #diag() retourne un vecteur dont on peut remplacer les valeurs 0 par 1"
   ]
  },
  {
   "cell_type": "markdown",
   "metadata": {},
   "source": [
    "Imprimez la matrice à l’écran.\n",
    "\n",
    "*__Tip :__*\n",
    "_fonction recommandée : `print()`_"
   ]
  },
  {
   "cell_type": "code",
   "execution_count": 7,
   "metadata": {},
   "outputs": [
    {
     "name": "stdout",
     "output_type": "stream",
     "text": [
      "      [,1] [,2] [,3] [,4] [,5] [,6] [,7] [,8] [,9] [,10]\n",
      " [1,]    1    0    0    0    0    0    0    0    0     0\n",
      " [2,]    0    1    0    0    0    0    0    0    0     0\n",
      " [3,]    0    0    1    0    0    0    0    0    0     0\n",
      " [4,]    0    0    0    1    0    0    0    0    0     0\n",
      " [5,]    0    0    0    0    1    0    0    0    0     0\n",
      " [6,]    0    0    0    0    0    1    0    0    0     0\n",
      " [7,]    0    0    0    0    0    0    1    0    0     0\n",
      " [8,]    0    0    0    0    0    0    0    1    0     0\n",
      " [9,]    0    0    0    0    0    0    0    0    1     0\n",
      "[10,]    0    0    0    0    0    0    0    0    0     1\n"
     ]
    }
   ],
   "source": [
    "print(matIdentite)"
   ]
  },
  {
   "cell_type": "markdown",
   "metadata": {},
   "source": [
    "<br>\n",
    "\n",
    "*__=> Pour aller plus loin :__*\n",
    "2 variantes plus efficaces pour créer la matrice : "
   ]
  },
  {
   "cell_type": "code",
   "execution_count": 8,
   "metadata": {},
   "outputs": [
    {
     "name": "stdout",
     "output_type": "stream",
     "text": [
      "------variante 1:\n"
     ]
    },
    {
     "data": {
      "text/html": [
       "<table class=\"dataframe\">\n",
       "<caption>A matrix: 10 × 10 of type dbl</caption>\n",
       "<tbody>\n",
       "\t<tr><td>1</td><td>0</td><td>0</td><td>0</td><td>0</td><td>0</td><td>0</td><td>0</td><td>0</td><td>0</td></tr>\n",
       "\t<tr><td>0</td><td>1</td><td>0</td><td>0</td><td>0</td><td>0</td><td>0</td><td>0</td><td>0</td><td>0</td></tr>\n",
       "\t<tr><td>0</td><td>0</td><td>1</td><td>0</td><td>0</td><td>0</td><td>0</td><td>0</td><td>0</td><td>0</td></tr>\n",
       "\t<tr><td>0</td><td>0</td><td>0</td><td>1</td><td>0</td><td>0</td><td>0</td><td>0</td><td>0</td><td>0</td></tr>\n",
       "\t<tr><td>0</td><td>0</td><td>0</td><td>0</td><td>1</td><td>0</td><td>0</td><td>0</td><td>0</td><td>0</td></tr>\n",
       "\t<tr><td>0</td><td>0</td><td>0</td><td>0</td><td>0</td><td>1</td><td>0</td><td>0</td><td>0</td><td>0</td></tr>\n",
       "\t<tr><td>0</td><td>0</td><td>0</td><td>0</td><td>0</td><td>0</td><td>1</td><td>0</td><td>0</td><td>0</td></tr>\n",
       "\t<tr><td>0</td><td>0</td><td>0</td><td>0</td><td>0</td><td>0</td><td>0</td><td>1</td><td>0</td><td>0</td></tr>\n",
       "\t<tr><td>0</td><td>0</td><td>0</td><td>0</td><td>0</td><td>0</td><td>0</td><td>0</td><td>1</td><td>0</td></tr>\n",
       "\t<tr><td>0</td><td>0</td><td>0</td><td>0</td><td>0</td><td>0</td><td>0</td><td>0</td><td>0</td><td>1</td></tr>\n",
       "</tbody>\n",
       "</table>\n"
      ],
      "text/latex": [
       "A matrix: 10 × 10 of type dbl\n",
       "\\begin{tabular}{llllllllll}\n",
       "\t 1 & 0 & 0 & 0 & 0 & 0 & 0 & 0 & 0 & 0\\\\\n",
       "\t 0 & 1 & 0 & 0 & 0 & 0 & 0 & 0 & 0 & 0\\\\\n",
       "\t 0 & 0 & 1 & 0 & 0 & 0 & 0 & 0 & 0 & 0\\\\\n",
       "\t 0 & 0 & 0 & 1 & 0 & 0 & 0 & 0 & 0 & 0\\\\\n",
       "\t 0 & 0 & 0 & 0 & 1 & 0 & 0 & 0 & 0 & 0\\\\\n",
       "\t 0 & 0 & 0 & 0 & 0 & 1 & 0 & 0 & 0 & 0\\\\\n",
       "\t 0 & 0 & 0 & 0 & 0 & 0 & 1 & 0 & 0 & 0\\\\\n",
       "\t 0 & 0 & 0 & 0 & 0 & 0 & 0 & 1 & 0 & 0\\\\\n",
       "\t 0 & 0 & 0 & 0 & 0 & 0 & 0 & 0 & 1 & 0\\\\\n",
       "\t 0 & 0 & 0 & 0 & 0 & 0 & 0 & 0 & 0 & 1\\\\\n",
       "\\end{tabular}\n"
      ],
      "text/markdown": [
       "\n",
       "A matrix: 10 × 10 of type dbl\n",
       "\n",
       "| 1 | 0 | 0 | 0 | 0 | 0 | 0 | 0 | 0 | 0 |\n",
       "| 0 | 1 | 0 | 0 | 0 | 0 | 0 | 0 | 0 | 0 |\n",
       "| 0 | 0 | 1 | 0 | 0 | 0 | 0 | 0 | 0 | 0 |\n",
       "| 0 | 0 | 0 | 1 | 0 | 0 | 0 | 0 | 0 | 0 |\n",
       "| 0 | 0 | 0 | 0 | 1 | 0 | 0 | 0 | 0 | 0 |\n",
       "| 0 | 0 | 0 | 0 | 0 | 1 | 0 | 0 | 0 | 0 |\n",
       "| 0 | 0 | 0 | 0 | 0 | 0 | 1 | 0 | 0 | 0 |\n",
       "| 0 | 0 | 0 | 0 | 0 | 0 | 0 | 1 | 0 | 0 |\n",
       "| 0 | 0 | 0 | 0 | 0 | 0 | 0 | 0 | 1 | 0 |\n",
       "| 0 | 0 | 0 | 0 | 0 | 0 | 0 | 0 | 0 | 1 |\n",
       "\n"
      ],
      "text/plain": [
       "      [,1] [,2] [,3] [,4] [,5] [,6] [,7] [,8] [,9] [,10]\n",
       " [1,] 1    0    0    0    0    0    0    0    0    0    \n",
       " [2,] 0    1    0    0    0    0    0    0    0    0    \n",
       " [3,] 0    0    1    0    0    0    0    0    0    0    \n",
       " [4,] 0    0    0    1    0    0    0    0    0    0    \n",
       " [5,] 0    0    0    0    1    0    0    0    0    0    \n",
       " [6,] 0    0    0    0    0    1    0    0    0    0    \n",
       " [7,] 0    0    0    0    0    0    1    0    0    0    \n",
       " [8,] 0    0    0    0    0    0    0    1    0    0    \n",
       " [9,] 0    0    0    0    0    0    0    0    1    0    \n",
       "[10,] 0    0    0    0    0    0    0    0    0    1    "
      ]
     },
     "metadata": {},
     "output_type": "display_data"
    }
   ],
   "source": [
    "cat(\"------variante 1:\\n\")\n",
    "diag(1,10,10)"
   ]
  },
  {
   "cell_type": "code",
   "execution_count": 9,
   "metadata": {},
   "outputs": [
    {
     "name": "stdout",
     "output_type": "stream",
     "text": [
      "------variante 2:\n"
     ]
    },
    {
     "data": {
      "text/html": [
       "<table class=\"dataframe\">\n",
       "<caption>A matrix: 10 × 10 of type dbl</caption>\n",
       "<tbody>\n",
       "\t<tr><td>1</td><td>0</td><td>0</td><td>0</td><td>0</td><td>0</td><td>0</td><td>0</td><td>0</td><td>0</td></tr>\n",
       "\t<tr><td>0</td><td>1</td><td>0</td><td>0</td><td>0</td><td>0</td><td>0</td><td>0</td><td>0</td><td>0</td></tr>\n",
       "\t<tr><td>0</td><td>0</td><td>1</td><td>0</td><td>0</td><td>0</td><td>0</td><td>0</td><td>0</td><td>0</td></tr>\n",
       "\t<tr><td>0</td><td>0</td><td>0</td><td>1</td><td>0</td><td>0</td><td>0</td><td>0</td><td>0</td><td>0</td></tr>\n",
       "\t<tr><td>0</td><td>0</td><td>0</td><td>0</td><td>1</td><td>0</td><td>0</td><td>0</td><td>0</td><td>0</td></tr>\n",
       "\t<tr><td>0</td><td>0</td><td>0</td><td>0</td><td>0</td><td>1</td><td>0</td><td>0</td><td>0</td><td>0</td></tr>\n",
       "\t<tr><td>0</td><td>0</td><td>0</td><td>0</td><td>0</td><td>0</td><td>1</td><td>0</td><td>0</td><td>0</td></tr>\n",
       "\t<tr><td>0</td><td>0</td><td>0</td><td>0</td><td>0</td><td>0</td><td>0</td><td>1</td><td>0</td><td>0</td></tr>\n",
       "\t<tr><td>0</td><td>0</td><td>0</td><td>0</td><td>0</td><td>0</td><td>0</td><td>0</td><td>1</td><td>0</td></tr>\n",
       "\t<tr><td>0</td><td>0</td><td>0</td><td>0</td><td>0</td><td>0</td><td>0</td><td>0</td><td>0</td><td>1</td></tr>\n",
       "</tbody>\n",
       "</table>\n"
      ],
      "text/latex": [
       "A matrix: 10 × 10 of type dbl\n",
       "\\begin{tabular}{llllllllll}\n",
       "\t 1 & 0 & 0 & 0 & 0 & 0 & 0 & 0 & 0 & 0\\\\\n",
       "\t 0 & 1 & 0 & 0 & 0 & 0 & 0 & 0 & 0 & 0\\\\\n",
       "\t 0 & 0 & 1 & 0 & 0 & 0 & 0 & 0 & 0 & 0\\\\\n",
       "\t 0 & 0 & 0 & 1 & 0 & 0 & 0 & 0 & 0 & 0\\\\\n",
       "\t 0 & 0 & 0 & 0 & 1 & 0 & 0 & 0 & 0 & 0\\\\\n",
       "\t 0 & 0 & 0 & 0 & 0 & 1 & 0 & 0 & 0 & 0\\\\\n",
       "\t 0 & 0 & 0 & 0 & 0 & 0 & 1 & 0 & 0 & 0\\\\\n",
       "\t 0 & 0 & 0 & 0 & 0 & 0 & 0 & 1 & 0 & 0\\\\\n",
       "\t 0 & 0 & 0 & 0 & 0 & 0 & 0 & 0 & 1 & 0\\\\\n",
       "\t 0 & 0 & 0 & 0 & 0 & 0 & 0 & 0 & 0 & 1\\\\\n",
       "\\end{tabular}\n"
      ],
      "text/markdown": [
       "\n",
       "A matrix: 10 × 10 of type dbl\n",
       "\n",
       "| 1 | 0 | 0 | 0 | 0 | 0 | 0 | 0 | 0 | 0 |\n",
       "| 0 | 1 | 0 | 0 | 0 | 0 | 0 | 0 | 0 | 0 |\n",
       "| 0 | 0 | 1 | 0 | 0 | 0 | 0 | 0 | 0 | 0 |\n",
       "| 0 | 0 | 0 | 1 | 0 | 0 | 0 | 0 | 0 | 0 |\n",
       "| 0 | 0 | 0 | 0 | 1 | 0 | 0 | 0 | 0 | 0 |\n",
       "| 0 | 0 | 0 | 0 | 0 | 1 | 0 | 0 | 0 | 0 |\n",
       "| 0 | 0 | 0 | 0 | 0 | 0 | 1 | 0 | 0 | 0 |\n",
       "| 0 | 0 | 0 | 0 | 0 | 0 | 0 | 1 | 0 | 0 |\n",
       "| 0 | 0 | 0 | 0 | 0 | 0 | 0 | 0 | 1 | 0 |\n",
       "| 0 | 0 | 0 | 0 | 0 | 0 | 0 | 0 | 0 | 1 |\n",
       "\n"
      ],
      "text/plain": [
       "      [,1] [,2] [,3] [,4] [,5] [,6] [,7] [,8] [,9] [,10]\n",
       " [1,] 1    0    0    0    0    0    0    0    0    0    \n",
       " [2,] 0    1    0    0    0    0    0    0    0    0    \n",
       " [3,] 0    0    1    0    0    0    0    0    0    0    \n",
       " [4,] 0    0    0    1    0    0    0    0    0    0    \n",
       " [5,] 0    0    0    0    1    0    0    0    0    0    \n",
       " [6,] 0    0    0    0    0    1    0    0    0    0    \n",
       " [7,] 0    0    0    0    0    0    1    0    0    0    \n",
       " [8,] 0    0    0    0    0    0    0    1    0    0    \n",
       " [9,] 0    0    0    0    0    0    0    0    1    0    \n",
       "[10,] 0    0    0    0    0    0    0    0    0    1    "
      ]
     },
     "metadata": {},
     "output_type": "display_data"
    }
   ],
   "source": [
    "cat(\"------variante 2:\\n\")\n",
    "diag(10)# en fait, par defaut, si on n'utilise qu'un seul argument dans la fonction diag(), la commande retourne une matrice de 0 sauf pour la diagonale contenant des 1"
   ]
  },
  {
   "cell_type": "markdown",
   "metadata": {},
   "source": [
    "---\n",
    "### Exercice 1.2.\n",
    "\n",
    "Créez une matrice `matAleatoire` contenant des valeurs tirées aléatoirement de dimension 10 lignes x 10 colonnes, dont les éléments suivent une loi normale de moyenne 0 et de variance 5. \n",
    "\n",
    "Imprimez la matrice à l’écran en arrondissant à 2 décimales.\n",
    "\n",
    "*__Tip :__*\n",
    "_fonction recommandée : `matrix()`, `print()`, `rnorm()`, `round()`_"
   ]
  },
  {
   "cell_type": "code",
   "execution_count": null,
   "metadata": {},
   "outputs": [],
   "source": [
    "## Generate a 10x10 matrix with random normal numbers\n",
    "matAleatoire <- matrix(\n",
    "  nrow = 10, \n",
    "  ncol = 10, \n",
    "  data = rnorm(n = 100, \n",
    "               mean = 0, \n",
    "               sd = sqrt(5)))\n",
    "# as long as you specify the arguments, you may change the order to pass the arguments to the function"
   ]
  },
  {
   "cell_type": "code",
   "execution_count": null,
   "metadata": {},
   "outputs": [],
   "source": [
    "## Print the results rounded at 2 decimals\n",
    "print(round(matAleatoire, digits = 2))"
   ]
  },
  {
   "cell_type": "markdown",
   "metadata": {},
   "source": [
    "---\n",
    "---\n",
    "\n",
    "## Exercice 2\n",
    "\n",
    "### Exercice 2.1\n",
    "\n",
    "Créez deux vecteurs aléatoires nommés `x1` et `x2`, contenant chacun n=10.000 valeurs aléatoires respectivement compatibles:\n",
    "\n",
    "  - avec une loi normale centrée réduite pour x1;\n",
    "  - avec une loi uniforme définie sur l’intervalle [0,10] pour x2.\n",
    "\n",
    "*__Tip :__*\n",
    "_fonctions recommandées : `rnorm()`, `runif()`_\n"
   ]
  },
  {
   "cell_type": "code",
   "execution_count": null,
   "metadata": {},
   "outputs": [],
   "source": [
    "n <- 10000 ## define vector sizes => cette étape n'est pas indispensable, vous pouvez directement rentrer la valeur 10000 dans les commandes-ci-dessous"
   ]
  },
  {
   "cell_type": "code",
   "execution_count": null,
   "metadata": {},
   "outputs": [],
   "source": [
    "x1 <- rnorm(n = n, mean = 0, sd = 1) ## normal random\n",
    "x2 <- runif(n = n, min = 0, max = 10) ## uniform random"
   ]
  },
  {
   "cell_type": "markdown",
   "metadata": {},
   "source": [
    "<br>\n",
    "\n",
    "*__=> Pour aller plus loin :__*\n",
    "\n",
    "On anticipe sur la session sur les figures.\n",
    "Vérifiez la distribution empirique de ces échantillons en dessinant des histogrammes."
   ]
  },
  {
   "cell_type": "code",
   "execution_count": null,
   "metadata": {},
   "outputs": [],
   "source": [
    "hist(x = x1, breaks = 100, \n",
    "     las = 1, \n",
    "     col = \"palegreen\",\n",
    "     main = \"Random normal numbers\",\n",
    "     xlab = \"Value\"\n",
    "     )\n",
    "cat(\"+++ distribution normale :\\n\")\n",
    "summary(x1)\n",
    "\n",
    "hist(x = x2, breaks = 10, \n",
    "     las = 1, \n",
    "     col = \"cyan\",\n",
    "     main = \"Uniformly distributed random numbers\",\n",
    "     xlab = \"Value\"\n",
    "     )\n",
    "cat(\"+++ distribution uniforme :\\n\")\n",
    "summary(x2)"
   ]
  },
  {
   "cell_type": "markdown",
   "metadata": {},
   "source": [
    "---\n",
    "### Exercice 2.2\n",
    "\n",
    "Créez une matrice `m1` qui contient les 10 premières valeurs de `x1` (colonne 1 de `m1`) et les 10 dernières valeurs de `x2` (colonne 2 de `m1`). Verifiez qu’il s’agit bien d’une matrice et affichez ses dimensions.\n",
    "\n",
    "\n",
    "*__Tip :__*\n",
    "_fonction recommandée : `matrix()`, `class()`, `dim()`, `cbind()`,…_\n"
   ]
  },
  {
   "cell_type": "markdown",
   "metadata": {},
   "source": [
    "Voici une première solution en créant d'abord une matrice vide:"
   ]
  },
  {
   "cell_type": "code",
   "execution_count": null,
   "metadata": {},
   "outputs": [],
   "source": [
    "## Prepare an empty matrix\n",
    "m1 <- matrix(nrow = 10, ncol = 2)\n",
    "\n",
    "## Assign values to the first column\n",
    "m1[, 1] <- x1[1:10]\n",
    "\n",
    "## Assign values to the second column\n",
    "m1[, 2] <- x1[9991:10000]\n",
    "\n",
    "## Print the result rounded to 3 decimals\n",
    "print(round(m1, digits = 3))"
   ]
  },
  {
   "cell_type": "code",
   "execution_count": null,
   "metadata": {},
   "outputs": [],
   "source": [
    "## Check it is a matrix and print its dimensions\n",
    "class(m1)"
   ]
  },
  {
   "cell_type": "code",
   "execution_count": null,
   "metadata": {},
   "outputs": [],
   "source": [
    "print(dim(m1))"
   ]
  },
  {
   "cell_type": "markdown",
   "metadata": {},
   "source": [
    "<br>\n",
    "\n",
    "*__=> Pour aller plus loin :__*\n",
    "\n",
    "On aurait pu aussi assigner les valeurs des colonnes de `m1` à partir des vecteurs `x1` et `x2` en utilisant les fonctions `head()`et `tail()`"
   ]
  },
  {
   "cell_type": "code",
   "execution_count": null,
   "metadata": {},
   "outputs": [],
   "source": [
    "m1[, 1] <- head(x = x1, n = 10) # équivaut à m1[, 1] <- x1[1:10]\n",
    "m1[, 2] <- tail(x = x1, n = 10) # éqivaut à m1[, 2] <- x1[9991:10000]"
   ]
  },
  {
   "cell_type": "markdown",
   "metadata": {},
   "source": [
    "---\n",
    "\n",
    "Cette seconde solution est plus efficace car elle utilise les vecteurs `x1` et `x2` directement avec la fonction `cbind()` sans passer par la création d'une matrice vide."
   ]
  },
  {
   "cell_type": "code",
   "execution_count": null,
   "metadata": {},
   "outputs": [],
   "source": [
    "m1 <- cbind(x1[1:10], x2[9991:10000])\n",
    "print(round(m1, digits = 3))"
   ]
  },
  {
   "cell_type": "code",
   "execution_count": null,
   "metadata": {},
   "outputs": [],
   "source": [
    "class(m1)"
   ]
  },
  {
   "cell_type": "code",
   "execution_count": null,
   "metadata": {},
   "outputs": [],
   "source": [
    "print(dim(m1))"
   ]
  },
  {
   "cell_type": "markdown",
   "metadata": {},
   "source": [
    "---\n",
    "### Exercice 2.3\n",
    "\n",
    "Créez une matrice `m2` qui contient\n",
    "\n",
    "    les 16ème, 51ème, 79ème, 31ème et 27ème valeurs de `x1` (colonne 1 de `m2`) et\n",
    "    les 30ème, 70ème, 12ème, 49ème et 45ème de `x2` (colonne 2 de `m2`).\n",
    "\n",
    "Affichez `m2`.\n",
    "\n",
    "*__Tip :__*\n",
    "_fonctions recommandées : `matrix()`, `cbind()`, ..._"
   ]
  },
  {
   "cell_type": "code",
   "execution_count": 22,
   "metadata": {},
   "outputs": [
    {
     "name": "stdout",
     "output_type": "stream",
     "text": [
      "           [,1]     [,2]\n",
      "[1,]  0.2913006 3.943023\n",
      "[2,] -1.3067052 4.046332\n",
      "[3,]  0.9855518 2.384522\n",
      "[4,] -0.6181669 5.384409\n",
      "[5,] -1.3191543 6.418689\n"
     ]
    }
   ],
   "source": [
    "m2 <- matrix(nrow = 5, ncol = 2)\n",
    "\n",
    "## Assign values\n",
    "m2[, 1] <- x1[c(16, 51, 79, 31, 27)]\n",
    "m2[, 2] <- x2[c(30, 70, 12, 49, 45)]\n",
    "\n",
    "## Print the result\n",
    "print(m2)"
   ]
  },
  {
   "cell_type": "code",
   "execution_count": 23,
   "metadata": {},
   "outputs": [
    {
     "name": "stdout",
     "output_type": "stream",
     "text": [
      "           [,1]     [,2]\n",
      "[1,]  0.2913006 3.943023\n",
      "[2,] -1.3067052 4.046332\n",
      "[3,]  0.9855518 2.384522\n",
      "[4,] -0.6181669 5.384409\n",
      "[5,] -1.3191543 6.418689\n"
     ]
    }
   ],
   "source": [
    "## or more directly using the cbind() function without creating an empty matrix first\n",
    "m2 <- cbind(x1[c(16, 51, 79, 31, 27)], x2[c(30, 70, 12, 49, 45)])\n",
    "print(m2)"
   ]
  },
  {
   "cell_type": "markdown",
   "metadata": {},
   "source": [
    "---\n",
    "### Exercice 2.4\n",
    "\n",
    "Concaténez à la suite (l’une en dessous-de l’autre) les matrices `m1` et `m2`, afin d’obtenir une nouvelle matrice `m3`.\n",
    "\n",
    "Quelles sont les dimensions (nombre de lignes et de colonnes) de `m3` ?\n",
    "\n",
    "\n",
    "*__Tip :__*\n",
    "_fonctions recommandées : `rbind()`, `dim()`, `ncol()`, `nrow()`, `str()`_"
   ]
  },
  {
   "cell_type": "code",
   "execution_count": 24,
   "metadata": {},
   "outputs": [
    {
     "name": "stdout",
     "output_type": "stream",
     "text": [
      "            [,1]     [,2]\n",
      " [1,] -0.2979710 8.975289\n",
      " [2,]  0.4861462 9.941563\n",
      " [3,]  0.7798434 5.503638\n",
      " [4,] -0.5660618 5.971594\n",
      " [5,]  0.8030366 5.532366\n",
      " [6,]  0.7221354 7.311653\n",
      " [7,] -0.4158272 7.659021\n",
      " [8,]  0.4614466 8.025802\n",
      " [9,] -0.8530557 8.966842\n",
      "[10,] -0.5484506 5.922809\n",
      "[11,]  0.2913006 3.943023\n",
      "[12,] -1.3067052 4.046332\n",
      "[13,]  0.9855518 2.384522\n",
      "[14,] -0.6181669 5.384409\n",
      "[15,] -1.3191543 6.418689\n"
     ]
    }
   ],
   "source": [
    "m3 <- rbind(m1, m2)\n",
    "print(m3)"
   ]
  },
  {
   "cell_type": "code",
   "execution_count": 25,
   "metadata": {},
   "outputs": [],
   "source": [
    "# alternativement, moins belle, en utilisant matrix, et en emboitant  tout sans creer m1 et m2:\n",
    "m3 <- matrix(c(x1[1:10], (x2[1:10]),x1[c(16, 51, 79, 31, 27)], (x2[c(30, 70, 12, 49, 45)])),nrow=15, ncol=2, byrow=T)"
   ]
  },
  {
   "cell_type": "code",
   "execution_count": 26,
   "metadata": {},
   "outputs": [
    {
     "name": "stdout",
     "output_type": "stream",
     "text": [
      "[1] 15  2\n"
     ]
    }
   ],
   "source": [
    "print(dim(m3))"
   ]
  },
  {
   "cell_type": "code",
   "execution_count": 27,
   "metadata": {},
   "outputs": [
    {
     "data": {
      "text/html": [
       "15"
      ],
      "text/latex": [
       "15"
      ],
      "text/markdown": [
       "15"
      ],
      "text/plain": [
       "[1] 15"
      ]
     },
     "metadata": {},
     "output_type": "display_data"
    },
    {
     "data": {
      "text/html": [
       "2"
      ],
      "text/latex": [
       "2"
      ],
      "text/markdown": [
       "2"
      ],
      "text/plain": [
       "[1] 2"
      ]
     },
     "metadata": {},
     "output_type": "display_data"
    }
   ],
   "source": [
    "# ou vous pouviez utiliser nrow() et ncol()\n",
    "nrow(m3)\n",
    "ncol(m3)"
   ]
  },
  {
   "cell_type": "markdown",
   "metadata": {},
   "source": [
    "<br>\n",
    "\n",
    "*__=> Pour aller plus loin :__*\n",
    "\n",
    "Les operateurs classiques (+, -, * ) font des operations terme à terme si les deux matrices ont la même taille, par exemple: `m1 + rbind(m2,m2)` alors que `m1+m2` retourne une erreur.\n",
    "\n",
    "Pour faire du calcul matriciel, on utilise un operateur specifique `%*%` pour multiplier. La premiere matrice a autant de lignes qu’il y a de colonnes dans la 2eme matrice. La matrice resultante a autant de lignes que la 1ere matrice et de colonnes que la 2eme matrice.\n",
    "\n",
    "Quelques exemples:\n"
   ]
  },
  {
   "cell_type": "code",
   "execution_count": 28,
   "metadata": {},
   "outputs": [
    {
     "name": "stdout",
     "output_type": "stream",
     "text": [
      "[1] 10  5\n"
     ]
    }
   ],
   "source": [
    "m4 <- m1 %*% t(m2)# m1 avec la transposée de m2 qui a 2 lignes et 5 colonnes\n",
    "print(dim(m4))"
   ]
  },
  {
   "cell_type": "code",
   "execution_count": 29,
   "metadata": {},
   "outputs": [
    {
     "name": "stdout",
     "output_type": "stream",
     "text": [
      "[1] 10 10\n"
     ]
    }
   ],
   "source": [
    "m5 <- m1 %*% t(m1)# m1 avec sa propre tranposée\n",
    "print(dim(m5))"
   ]
  },
  {
   "cell_type": "code",
   "execution_count": 30,
   "metadata": {},
   "outputs": [
    {
     "name": "stdout",
     "output_type": "stream",
     "text": [
      "[1] 2 2\n"
     ]
    }
   ],
   "source": [
    "m6 <- t(m1) %*% m1 # ou l'inverse! Pas de commutativite sur ces calculs!\n",
    "print(dim(m6))"
   ]
  },
  {
   "cell_type": "markdown",
   "metadata": {},
   "source": [
    "---\n",
    "---\n",
    "\n",
    "## Exercice 3.1\n",
    "\n",
    "Importez dans votre session R les données nommées `WorldPhones` (pré-existantes dans R).\n",
    "\n",
    "Affichez le contenu de la variable `WorldPhones`.\n",
    "\n",
    "Quelle est sa structure et sa classe ?\n",
    "\n",
    "*__Tip :__*\n",
    "_fonctions recommandées : `data(WorldPhones)`, `class()`, `dim()`, `str()`_"
   ]
  },
  {
   "cell_type": "code",
   "execution_count": 31,
   "metadata": {},
   "outputs": [],
   "source": [
    "data(\"WorldPhones\")"
   ]
  },
  {
   "cell_type": "code",
   "execution_count": 32,
   "metadata": {},
   "outputs": [
    {
     "data": {
      "text/html": [
       "<table class=\"dataframe\">\n",
       "<caption>A matrix: 7 × 7 of type dbl</caption>\n",
       "<thead>\n",
       "\t<tr><th></th><th scope=col>N.Amer</th><th scope=col>Europe</th><th scope=col>Asia</th><th scope=col>S.Amer</th><th scope=col>Oceania</th><th scope=col>Africa</th><th scope=col>Mid.Amer</th></tr>\n",
       "</thead>\n",
       "<tbody>\n",
       "\t<tr><th scope=row>1951</th><td>45939</td><td>21574</td><td>2876</td><td>1815</td><td>1646</td><td>  89</td><td> 555</td></tr>\n",
       "\t<tr><th scope=row>1956</th><td>60423</td><td>29990</td><td>4708</td><td>2568</td><td>2366</td><td>1411</td><td> 733</td></tr>\n",
       "\t<tr><th scope=row>1957</th><td>64721</td><td>32510</td><td>5230</td><td>2695</td><td>2526</td><td>1546</td><td> 773</td></tr>\n",
       "\t<tr><th scope=row>1958</th><td>68484</td><td>35218</td><td>6662</td><td>2845</td><td>2691</td><td>1663</td><td> 836</td></tr>\n",
       "\t<tr><th scope=row>1959</th><td>71799</td><td>37598</td><td>6856</td><td>3000</td><td>2868</td><td>1769</td><td> 911</td></tr>\n",
       "\t<tr><th scope=row>1960</th><td>76036</td><td>40341</td><td>8220</td><td>3145</td><td>3054</td><td>1905</td><td>1008</td></tr>\n",
       "\t<tr><th scope=row>1961</th><td>79831</td><td>43173</td><td>9053</td><td>3338</td><td>3224</td><td>2005</td><td>1076</td></tr>\n",
       "</tbody>\n",
       "</table>\n"
      ],
      "text/latex": [
       "A matrix: 7 × 7 of type dbl\n",
       "\\begin{tabular}{r|lllllll}\n",
       "  & N.Amer & Europe & Asia & S.Amer & Oceania & Africa & Mid.Amer\\\\\n",
       "\\hline\n",
       "\t1951 & 45939 & 21574 & 2876 & 1815 & 1646 &   89 &  555\\\\\n",
       "\t1956 & 60423 & 29990 & 4708 & 2568 & 2366 & 1411 &  733\\\\\n",
       "\t1957 & 64721 & 32510 & 5230 & 2695 & 2526 & 1546 &  773\\\\\n",
       "\t1958 & 68484 & 35218 & 6662 & 2845 & 2691 & 1663 &  836\\\\\n",
       "\t1959 & 71799 & 37598 & 6856 & 3000 & 2868 & 1769 &  911\\\\\n",
       "\t1960 & 76036 & 40341 & 8220 & 3145 & 3054 & 1905 & 1008\\\\\n",
       "\t1961 & 79831 & 43173 & 9053 & 3338 & 3224 & 2005 & 1076\\\\\n",
       "\\end{tabular}\n"
      ],
      "text/markdown": [
       "\n",
       "A matrix: 7 × 7 of type dbl\n",
       "\n",
       "| <!--/--> | N.Amer | Europe | Asia | S.Amer | Oceania | Africa | Mid.Amer |\n",
       "|---|---|---|---|---|---|---|---|\n",
       "| 1951 | 45939 | 21574 | 2876 | 1815 | 1646 |   89 |  555 |\n",
       "| 1956 | 60423 | 29990 | 4708 | 2568 | 2366 | 1411 |  733 |\n",
       "| 1957 | 64721 | 32510 | 5230 | 2695 | 2526 | 1546 |  773 |\n",
       "| 1958 | 68484 | 35218 | 6662 | 2845 | 2691 | 1663 |  836 |\n",
       "| 1959 | 71799 | 37598 | 6856 | 3000 | 2868 | 1769 |  911 |\n",
       "| 1960 | 76036 | 40341 | 8220 | 3145 | 3054 | 1905 | 1008 |\n",
       "| 1961 | 79831 | 43173 | 9053 | 3338 | 3224 | 2005 | 1076 |\n",
       "\n"
      ],
      "text/plain": [
       "     N.Amer Europe Asia S.Amer Oceania Africa Mid.Amer\n",
       "1951 45939  21574  2876 1815   1646      89    555    \n",
       "1956 60423  29990  4708 2568   2366    1411    733    \n",
       "1957 64721  32510  5230 2695   2526    1546    773    \n",
       "1958 68484  35218  6662 2845   2691    1663    836    \n",
       "1959 71799  37598  6856 3000   2868    1769    911    \n",
       "1960 76036  40341  8220 3145   3054    1905   1008    \n",
       "1961 79831  43173  9053 3338   3224    2005   1076    "
      ]
     },
     "metadata": {},
     "output_type": "display_data"
    }
   ],
   "source": [
    "WorldPhones"
   ]
  },
  {
   "cell_type": "code",
   "execution_count": 33,
   "metadata": {},
   "outputs": [
    {
     "data": {
      "text/html": [
       "<style>\n",
       ".list-inline {list-style: none; margin:0; padding: 0}\n",
       ".list-inline>li {display: inline-block}\n",
       ".list-inline>li:not(:last-child)::after {content: \"\\00b7\"; padding: 0 .5ex}\n",
       "</style>\n",
       "<ol class=list-inline><li>'matrix'</li><li>'array'</li></ol>\n"
      ],
      "text/latex": [
       "\\begin{enumerate*}\n",
       "\\item 'matrix'\n",
       "\\item 'array'\n",
       "\\end{enumerate*}\n"
      ],
      "text/markdown": [
       "1. 'matrix'\n",
       "2. 'array'\n",
       "\n",
       "\n"
      ],
      "text/plain": [
       "[1] \"matrix\" \"array\" "
      ]
     },
     "metadata": {},
     "output_type": "display_data"
    }
   ],
   "source": [
    "class(WorldPhones)"
   ]
  },
  {
   "cell_type": "code",
   "execution_count": 34,
   "metadata": {},
   "outputs": [
    {
     "name": "stdout",
     "output_type": "stream",
     "text": [
      "[1] 7 7\n"
     ]
    }
   ],
   "source": [
    "print(dim(WorldPhones))"
   ]
  },
  {
   "cell_type": "code",
   "execution_count": 35,
   "metadata": {},
   "outputs": [
    {
     "name": "stdout",
     "output_type": "stream",
     "text": [
      " num [1:7, 1:7] 45939 60423 64721 68484 71799 ...\n",
      " - attr(*, \"dimnames\")=List of 2\n",
      "  ..$ : chr [1:7] \"1951\" \"1956\" \"1957\" \"1958\" ...\n",
      "  ..$ : chr [1:7] \"N.Amer\" \"Europe\" \"Asia\" \"S.Amer\" ...\n"
     ]
    }
   ],
   "source": [
    "str(WorldPhones)"
   ]
  },
  {
   "cell_type": "markdown",
   "metadata": {},
   "source": [
    "---\n",
    "### Exercice 3.2\n",
    "\n",
    "Calculez le nombre total de numéros de téléphone attribués :\n",
    "\n",
    "   - au cours des différentes années (vecteur `nbrTelAn`)\n",
    "   - pour chaque continent (vecteur `nbrTelCont`)\n",
    "\n",
    "*__Tip :__*\n",
    "_fonction recommandée : `sum()`, `apply()`_"
   ]
  },
  {
   "cell_type": "code",
   "execution_count": 36,
   "metadata": {},
   "outputs": [
    {
     "data": {
      "text/html": [
       "467233"
      ],
      "text/latex": [
       "467233"
      ],
      "text/markdown": [
       "467233"
      ],
      "text/plain": [
       "[1] 467233"
      ]
     },
     "metadata": {},
     "output_type": "display_data"
    }
   ],
   "source": [
    "# nombre d'appels pour le continent 1\n",
    "sum(WorldPhones[,1])"
   ]
  },
  {
   "cell_type": "code",
   "execution_count": 37,
   "metadata": {},
   "outputs": [
    {
     "data": {
      "text/html": [
       "240404"
      ],
      "text/latex": [
       "240404"
      ],
      "text/markdown": [
       "240404"
      ],
      "text/plain": [
       "[1] 240404"
      ]
     },
     "metadata": {},
     "output_type": "display_data"
    }
   ],
   "source": [
    "# nombre d'appels pour le continent 2\n",
    "sum(WorldPhones[,2])"
   ]
  },
  {
   "cell_type": "markdown",
   "metadata": {},
   "source": [
    "etc...\n",
    "\n",
    "*__=> Pour aller plus loin :__*\n",
    "\n",
    "Pour aller plus rapidement, on utilise la fonction `apply()` qui est très utile pour répéter une commande par ligne ou colonne sur une matrice:\n"
   ]
  },
  {
   "cell_type": "code",
   "execution_count": 38,
   "metadata": {},
   "outputs": [
    {
     "name": "stdout",
     "output_type": "stream",
     "text": [
      "  1951   1956   1957   1958   1959   1960   1961 \n",
      " 74494 102199 110001 118399 124801 133709 141700 \n"
     ]
    }
   ],
   "source": [
    "# repetition de la commande sum() en ligne = marginal sums per year\n",
    "nbrTelAn <- apply(WorldPhones, 1, sum)\n",
    "print(nbrTelAn)"
   ]
  },
  {
   "cell_type": "code",
   "execution_count": 39,
   "metadata": {},
   "outputs": [
    {
     "name": "stdout",
     "output_type": "stream",
     "text": [
      "  N.Amer   Europe     Asia   S.Amer  Oceania   Africa Mid.Amer \n",
      "  467233   240404    43605    19406    18375    10388     5892 \n"
     ]
    }
   ],
   "source": [
    "# repetition de la commande sum() en colonne =  marginal sums per continent\n",
    "nbrTelCont <- apply(WorldPhones, 2, sum)\n",
    "print(nbrTelCont)"
   ]
  },
  {
   "cell_type": "markdown",
   "metadata": {},
   "source": [
    "---\n",
    "### Exercice 3.3\n",
    "\n",
    "Quel est le continent qui a le plus / moins de numéros attribués ?\n",
    "\n",
    "\n",
    "*__Tip :__*\n",
    "_fonctions recommandées : `names()`, `which()`, `max()`, `min()`, `which.max()`, `which.min()`_"
   ]
  },
  {
   "cell_type": "code",
   "execution_count": 40,
   "metadata": {},
   "outputs": [
    {
     "data": {
      "text/html": [
       "'N.Amer'"
      ],
      "text/latex": [
       "'N.Amer'"
      ],
      "text/markdown": [
       "'N.Amer'"
      ],
      "text/plain": [
       "[1] \"N.Amer\""
      ]
     },
     "metadata": {},
     "output_type": "display_data"
    }
   ],
   "source": [
    "# continent avec le plus de numeros\n",
    "names(nbrTelCont)[which(nbrTelCont == max(nbrTelCont))]"
   ]
  },
  {
   "cell_type": "code",
   "execution_count": 41,
   "metadata": {},
   "outputs": [
    {
     "data": {
      "text/html": [
       "'Mid.Amer'"
      ],
      "text/latex": [
       "'Mid.Amer'"
      ],
      "text/markdown": [
       "'Mid.Amer'"
      ],
      "text/plain": [
       "[1] \"Mid.Amer\""
      ]
     },
     "metadata": {},
     "output_type": "display_data"
    }
   ],
   "source": [
    "# continent avec le moins de numeros\n",
    "names(nbrTelCont)[which(nbrTelCont == min(nbrTelCont))]"
   ]
  },
  {
   "cell_type": "code",
   "execution_count": 42,
   "metadata": {},
   "outputs": [
    {
     "data": {
      "text/html": [
       "'N.Amer'"
      ],
      "text/latex": [
       "'N.Amer'"
      ],
      "text/markdown": [
       "'N.Amer'"
      ],
      "text/plain": [
       "[1] \"N.Amer\""
      ]
     },
     "metadata": {},
     "output_type": "display_data"
    }
   ],
   "source": [
    "# ou plus simplement avec la commande which.max() ou which.min()\n",
    "names(which.max(nbrTelCont))"
   ]
  },
  {
   "cell_type": "code",
   "execution_count": 43,
   "metadata": {},
   "outputs": [
    {
     "data": {
      "text/html": [
       "'Mid.Amer'"
      ],
      "text/latex": [
       "'Mid.Amer'"
      ],
      "text/markdown": [
       "'Mid.Amer'"
      ],
      "text/plain": [
       "[1] \"Mid.Amer\""
      ]
     },
     "metadata": {},
     "output_type": "display_data"
    }
   ],
   "source": [
    "names(which.min(nbrTelCont))"
   ]
  },
  {
   "cell_type": "markdown",
   "metadata": {},
   "source": [
    "<br>\n",
    "\n",
    "*__=> Pour aller plus loin :__*\n",
    "\n",
    "Une autre façon en utilisant les fonctions `tail()`et `head()` après avoir trié les comptes avec `sort()`\n",
    "\n"
   ]
  },
  {
   "cell_type": "code",
   "execution_count": 44,
   "metadata": {},
   "outputs": [
    {
     "data": {
      "text/html": [
       "<strong>N.Amer:</strong> 467233"
      ],
      "text/latex": [
       "\\textbf{N.Amer:} 467233"
      ],
      "text/markdown": [
       "**N.Amer:** 467233"
      ],
      "text/plain": [
       "N.Amer \n",
       "467233 "
      ]
     },
     "metadata": {},
     "output_type": "display_data"
    }
   ],
   "source": [
    "tail(sort(nbrTelCont), n = 1)"
   ]
  },
  {
   "cell_type": "markdown",
   "metadata": {},
   "source": [
    "---\n",
    "### Exercice 3.4\n",
    "\n",
    "Dans combien de continents y a-t-il plus de : 20.000, 50.000 et 200.000 numéros de téléphone attribués ?\n",
    "\n",
    "*__Tip :__*\n",
    "_fonctions recommandées : `sum()`_"
   ]
  },
  {
   "cell_type": "code",
   "execution_count": 45,
   "metadata": {},
   "outputs": [
    {
     "name": "stdout",
     "output_type": "stream",
     "text": [
      "Il y a plus de 20 000 numéros attribués dans 3 continents. \n",
      "Il y a plus de 50 000 numéros attribués dans 2 continents. \n",
      "Il y a plus de 200 000 numéros attribués dans 2 continents. \n"
     ]
    }
   ],
   "source": [
    "cat(\"Il y a plus de 20 000 numéros attribués dans\", sum(nbrTelCont > 20000), \"continents. \\n\") # la phrase n'était pas demandée dans l'exrecice.\n",
    "cat(\"Il y a plus de 50 000 numéros attribués dans\", sum(nbrTelCont > 50000), \"continents. \\n\")\n",
    "cat(\"Il y a plus de 200 000 numéros attribués dans\", sum(nbrTelCont > 200000), \"continents. \\n\")"
   ]
  },
  {
   "cell_type": "markdown",
   "metadata": {},
   "source": [
    "---\n",
    "A la fin, je sauve la liste comme objet pour de futures sessions dans R."
   ]
  },
  {
   "cell_type": "code",
   "execution_count": 46,
   "metadata": {},
   "outputs": [
    {
     "data": {
      "text/html": [
       "<style>\n",
       ".list-inline {list-style: none; margin:0; padding: 0}\n",
       ".list-inline>li {display: inline-block}\n",
       ".list-inline>li:not(:last-child)::after {content: \"\\00b7\"; padding: 0 .5ex}\n",
       "</style>\n",
       "<ol class=list-inline><li>'m1'</li><li>'m2'</li><li>'m3'</li><li>'m4'</li><li>'m5'</li><li>'m6'</li><li>'matAleatoire'</li><li>'matIdentite'</li><li>'my_vector'</li><li>'n'</li><li>'nbrTelAn'</li><li>'nbrTelCont'</li><li>'WorldPhones'</li><li>'x1'</li><li>'x2'</li></ol>\n"
      ],
      "text/latex": [
       "\\begin{enumerate*}\n",
       "\\item 'm1'\n",
       "\\item 'm2'\n",
       "\\item 'm3'\n",
       "\\item 'm4'\n",
       "\\item 'm5'\n",
       "\\item 'm6'\n",
       "\\item 'matAleatoire'\n",
       "\\item 'matIdentite'\n",
       "\\item 'my\\_vector'\n",
       "\\item 'n'\n",
       "\\item 'nbrTelAn'\n",
       "\\item 'nbrTelCont'\n",
       "\\item 'WorldPhones'\n",
       "\\item 'x1'\n",
       "\\item 'x2'\n",
       "\\end{enumerate*}\n"
      ],
      "text/markdown": [
       "1. 'm1'\n",
       "2. 'm2'\n",
       "3. 'm3'\n",
       "4. 'm4'\n",
       "5. 'm5'\n",
       "6. 'm6'\n",
       "7. 'matAleatoire'\n",
       "8. 'matIdentite'\n",
       "9. 'my_vector'\n",
       "10. 'n'\n",
       "11. 'nbrTelAn'\n",
       "12. 'nbrTelCont'\n",
       "13. 'WorldPhones'\n",
       "14. 'x1'\n",
       "15. 'x2'\n",
       "\n",
       "\n"
      ],
      "text/plain": [
       " [1] \"m1\"           \"m2\"           \"m3\"           \"m4\"           \"m5\"          \n",
       " [6] \"m6\"           \"matAleatoire\" \"matIdentite\"  \"my_vector\"    \"n\"           \n",
       "[11] \"nbrTelAn\"     \"nbrTelCont\"   \"WorldPhones\"  \"x1\"           \"x2\"          "
      ]
     },
     "metadata": {},
     "output_type": "display_data"
    }
   ],
   "source": [
    "ls()\n",
    "save.image(file=\"R2_practice.RData\")"
   ]
  },
  {
   "cell_type": "markdown",
   "metadata": {
    "jp-MarkdownHeadingCollapsed": true,
    "tags": []
   },
   "source": [
    "***\n",
    "***\n",
    "## Useful commands\n",
    "<div class=\"alert alert-block alert-info\"> \n",
    "    \n",
    "- <kbd>CTRL</kbd>+<kbd>S</kbd> : save notebook<br>    \n",
    "- <kbd>CTRL</kbd>+<kbd>ENTER</kbd> : Run Cell<br>  \n",
    "- <kbd>SHIFT</kbd>+<kbd>ENTER</kbd> : Run Cell and Select Next<br>   \n",
    "- <kbd>ALT</kbd>+<kbd>ENTER</kbd> : Run Cell and Insert Below<br>   \n",
    "- <kbd>ESC</kbd>+<kbd>y</kbd> : Change to *Code* Cell Type<br>  \n",
    "- <kbd>ESC</kbd>+<kbd>m</kbd> : Change to *Markdown* Cell Type<br> \n",
    "- <kbd>ESC</kbd>+<kbd>r</kbd> : Change to *Raw* Cell Type<br>    \n",
    "- <kbd>ESC</kbd>+<kbd>a</kbd> : Create Cell Above<br> \n",
    "- <kbd>ESC</kbd>+<kbd>b</kbd> : Create Cell Below<br> \n",
    "\n",
    "<em>  \n",
    "To make nice html reports with markdown: <a href=\"https://dillinger.io/\" title=\"dillinger.io\">html visualization tool 1</a> or <a href=\"https://stackedit.io/app#\" title=\"stackedit.io\">html visualization tool 2</a>, <a href=\"https://www.tablesgenerator.com/markdown_tables\" title=\"tablesgenerator.com\">to draw nice tables</a>, and the <a href=\"https://medium.com/analytics-vidhya/the-ultimate-markdown-guide-for-jupyter-notebook-d5e5abf728fd\" title=\"Ultimate guide\">Ultimate guide</a>. <br>\n",
    "Further reading on JupyterLab notebooks: <a href=\"https://jupyterlab.readthedocs.io/en/latest/user/notebook.html\" title=\"Jupyter Lab\">Jupyter Lab documentation</a>.<br>   \n",
    "</em>    \n",
    " \n",
    "</div>"
   ]
  },
  {
   "cell_type": "markdown",
   "metadata": {},
   "source": [
    "---\n",
    "---\n",
    "\n",
    "## <mark>Check list des actions avant la prochaine session R:<mark>\n",
    "\n",
    "_Pour cocher les cases, ouvrez la cellule du notebook et remplacez l'espace entre les crochets par un `x` lorsque l'action est effectuée_\n",
    "\n",
    "[ ] relire le cours et revoir les différents supports dont diapos, vidéos, scripts et notebooks\n",
    "            \n",
    "[ ] faire les exercices sans les corrections\n",
    "\n",
    "[ ] lire et comprendre les corrections\n",
    "\n",
    "[ ] refaire les exercices sans les corrections\n",
    "    \n",
    "[ ] étudier le tutorial sur les facteurs (.html sur moodle)\n",
    "    \n",
    "[ ] continuer les tuto de swirl 1, 3 à 6  à votre rythme pour les avoir finis avant le QCM. "
   ]
  }
 ],
 "metadata": {
  "kernelspec": {
   "display_name": "R",
   "language": "R",
   "name": "ir"
  },
  "language_info": {
   "codemirror_mode": "r",
   "file_extension": ".r",
   "mimetype": "text/x-r-source",
   "name": "R",
   "pygments_lexer": "r",
   "version": "4.0.5"
  }
 },
 "nbformat": 4,
 "nbformat_minor": 4
}
