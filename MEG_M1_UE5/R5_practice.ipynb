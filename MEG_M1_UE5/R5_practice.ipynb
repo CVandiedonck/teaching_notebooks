{
 "cells": [
  {
   "cell_type": "markdown",
   "metadata": {},
   "source": [
    "# __R Session n°5 - practice:__\n",
    "M1 MEG UE5 - Claire Vandiedonck\n",
    "***\n",
    "\n",
    "__*Programme couvert:*__\n",
    "\n",
    "- Création de figures avec R base selon le typpe de variables: qualitatives ou quantitatives\n",
    "- Tables usuelles de lois de distribution\n",
    "- Test statistique de comparaison de moyennes\n",
    "- Paquet"
   ]
  },
  {
   "cell_type": "markdown",
   "metadata": {},
   "source": [
    "---\n",
    "    \n",
    "**Rappels**    \n",
    "> Les exercices proposés sont donnés dans un ordre progressif qui suit celui du diaporama associé. Ils ont des niveaux de difficulté variable. Pour chaque exercice, des fonctions R vous sont suggérées. N’hésitez pas à consulter leur menu d’aide en tapant soit `?nom_fonction`, soit `help(nom_fonction)`. Vous pouvez parvenir aux mêmes résultats avec d’autres commandes. Les commandes les plus courtes sont en général les meilleures. Une correction détaillée sera fournie.\n",
    "\n",
    "> Vous pouvez réaliser ces exercices directement dans ce notebook sur `adenine` en indiquant votre code dans les cellules laissées libres. Pour ajouter une nouvelle cellule, cliquez simplement sur le `+`dans le menu en haut à gauche du notebook (cf. rappels sur les notebooks en bas de ce notebook). Vous pouvez mettre plusieurs lignes de code aussi par cellule.\n",
    "> Pour executer les cellules, cliquez sur `Shift+Enter`. Executez les dans le bon ordre.\n",
    "> Remarque: dans un notebook jupyter, l'affichage des vecteurs n'est pas classique. Si vous souhaitez afficher le vecteur de façon plus classique, c'est à dire en ligne avec l'indice pour la 1ère valeur de chaque ligne au début de la ligne, tel qu'il apparait dans R, il est nécessaire d'utiliser la fonction `print()` -> voir dans cet exemple avec un vecteur contenant les deux valeurs numériques 1 et 10."
   ]
  },
  {
   "cell_type": "code",
   "execution_count": null,
   "metadata": {},
   "outputs": [],
   "source": [
    "#cell1\n",
    "my_vector <- c(1, 10) # pour générer le vecteur et l'assigner dans un objet \"my_vector\"\n",
    "my_vector # l'affichage ici montre deux éléments dont l'affichage est séparé par un point médian."
   ]
  },
  {
   "cell_type": "code",
   "execution_count": null,
   "metadata": {},
   "outputs": [],
   "source": [
    "#cell2\n",
    "print(my_vector) # L'affichage ici montre le vecteur par ligne avec l'indice 1 entre crochets indiquant l'indice de la première valeur de la ligne."
   ]
  },
  {
   "cell_type": "markdown",
   "metadata": {},
   "source": [
    "> Vous pouvez également réaliser ces exercices si vous le préférez dans un terminal ou une console de cet environnement `megm1_ue5_r` sur adenine, ou sur la version rstudio de cet environnement.\n",
    ">\n",
    "> Il est enfin possible de réaliser ces exercices sur votre ordinateur. Dans ce cas, utilisez un editeur de texte avec coloration syntaxique pour votre code (editeur dans Rstudio, ou Tinn-R ou notepad++ par exemple). Sauvegardez vos commandes dans un fichier mes_commandes.R dans le répertoire de votre choix. Exécutez les commandes une par une dans votre console. Vous pouvez ajouter des commentaires qui ne seront pas éxécutés si vous les précédez du caractère « # ».\n",
    "\n",
    ">    "
   ]
  },
  {
   "cell_type": "markdown",
   "metadata": {},
   "source": [
    "---\n",
    "## Avant d'aller plus loin\n",
    "\n",
    "<div class=\"alert alert-block alert-danger\"><b>Attention:</b> \n",
    "Ne travaillez pas directement sur ce notebook pour ne pas le perdre. Dupliquez-le et renommez-le par exemple en ajoutant vos initiales et travaillez sur cette nouvelle copie. Pour ce faire, dans le panneau de gauche, faites un clic droit sur le fichier et sélectionnez \"Duplicate\". Puis, toujours dans la colonne de gauche, faites un clic droit sur cette copie et sélectionnez \"rename\" pour changer le nom. Ouvrez ensuite cette nouvelle version en double cliquant dessus. Vous êtes prêt(e) à démarrer! <br>\n",
    "<br>\n",
    "<b>N'oubliez pas de sauvegarder régulièrement votre notebook</b>: <kbd>Ctrl</kbd> + <kbd>S</kbd>. ou en cliquant sur l'icone 💾 en haut à gauche de votre notebook ou dans le Menu du JupyterLab \"File puis \"Save Notebook\"!\n",
    "</div>"
   ]
  },
  {
   "cell_type": "markdown",
   "metadata": {},
   "source": [
    "#### 1. Identifiez votre répertoire de travail"
   ]
  },
  {
   "cell_type": "code",
   "execution_count": null,
   "metadata": {},
   "outputs": [],
   "source": [
    "#cell3\n",
    "getwd()"
   ]
  },
  {
   "cell_type": "markdown",
   "metadata": {},
   "source": [
    "Si ce répertoire ne vous convient pas, changer le pour un répertoire existant `my_directory`par exemple, avec la commande suivante en spécifiant le chemin relatif ou absolu de votre répertoire:\n",
    "```setwd(\"path/my_directory\")```"
   ]
  },
  {
   "cell_type": "markdown",
   "metadata": {},
   "source": [
    "#### 2.  Identifiez la version R de votre environnement et packages installés."
   ]
  },
  {
   "cell_type": "code",
   "execution_count": null,
   "metadata": {},
   "outputs": [],
   "source": [
    "#cell4\n",
    "sessionInfo()"
   ]
  },
  {
   "cell_type": "markdown",
   "metadata": {},
   "source": [
    "---\n",
    "---\n",
    "## Exercice 1: représentations graphiques de données qualitatives\n",
    "---"
   ]
  },
  {
   "cell_type": "markdown",
   "metadata": {},
   "source": [
    "Importez dans R le fichier `motorisation.txt` qui est sur la page du cours ou dans dans: `/srv/data/meg-m1-ue5` ou sur moodle.\n",
    "\n",
    "Générez un camembert de la répartition des différentes motorisations et choisissez vous-mêmes des couleurs.\n",
    "\n",
    "Générez également un diagramme en bâtons avec les proportions (fréquences relatives) des différentes motorisations colorées comme dans le camembert.\n",
    "\n",
    "Disposez à présent les deux graphes côte à côte sur un même graphique. Essayez dans une premier temps de faire chaque graphique independamment avec les bonnes commandes avant de les afficher sur une même fenêtre graphique\n",
    "\n",
    "_Note: lorsque vous utilisez Rstudio, une erreur peur se produire si votre fenetre graphique est trop petite, compte tenu des marges et de la taille de votre ecran-> pensez alors a redimensionner la fenetre graphique avant de lancer vos commandes graphiques_"
   ]
  },
  {
   "cell_type": "markdown",
   "metadata": {},
   "source": [
    "*__Tip :__*_fonctions recommandées :\n",
    "    `read.table()`,\n",
    "    `table()`,\n",
    "    `pie()`,\n",
    "    `barplot()`\n",
    "    `par()`avec l’argument `mfrow`_"
   ]
  },
  {
   "cell_type": "markdown",
   "metadata": {},
   "source": [
    "Avant de lire ce fichier et de l'assigner dans un objet R, ouvrez le avec un editeur de texte pour voir s'il y a une en-tete, combien il contient de lignes, de colonnes et quel est leur separateur (espace, tabulation, virgule, point virgule, etc...)\n",
    "Ici motorisation.txt est un fichier texte de 22 lignes, avec une seule colonne (donc vous pouvez garder le separateur de champs \"espace\" par defaut dans la commande read.table qui suit), et sans en-tete (donc il faut le specifier avec l'argument header sinon votre premiere valeur serait lue comme un nom de colonne par defaut)\n"
   ]
  },
  {
   "cell_type": "code",
   "execution_count": null,
   "metadata": {},
   "outputs": [],
   "source": [
    "#cell 5"
   ]
  },
  {
   "cell_type": "code",
   "execution_count": null,
   "metadata": {},
   "outputs": [],
   "source": [
    "#cell 6"
   ]
  },
  {
   "cell_type": "code",
   "execution_count": null,
   "metadata": {},
   "outputs": [],
   "source": [
    "#cell 7"
   ]
  },
  {
   "cell_type": "code",
   "execution_count": null,
   "metadata": {},
   "outputs": [],
   "source": [
    "#cell 8"
   ]
  },
  {
   "cell_type": "code",
   "execution_count": null,
   "metadata": {},
   "outputs": [],
   "source": [
    "#cell 9"
   ]
  },
  {
   "cell_type": "markdown",
   "metadata": {},
   "source": [
    "---\n",
    "## Exercice 2: représentation graphique de la distribution d’une variable quantitative continue\n",
    "\n",
    "\n",
    "Tirez aléatoirement un ensemble de 100 nombres compatibles avec une distribution normale de moyenne 10 et d’écart type 5.\n",
    "\n",
    "Sauvegardez-les dans un objet R.\n",
    "\n",
    "*__Tip :__*\n",
    "_fonction recommandée : `norm()`_"
   ]
  },
  {
   "cell_type": "code",
   "execution_count": null,
   "metadata": {},
   "outputs": [],
   "source": [
    "#cell 10"
   ]
  },
  {
   "cell_type": "markdown",
   "metadata": {},
   "source": [
    "Changez le nombre d’intervalles de l’histogramme : environ 5, 50 et 100.\n",
    "\n",
    "*__Tip :__*_fonction recommandée : `hist()` avec l'argument `breaks`_"
   ]
  },
  {
   "cell_type": "code",
   "execution_count": null,
   "metadata": {},
   "outputs": [],
   "source": [
    "#cell 11"
   ]
  },
  {
   "cell_type": "markdown",
   "metadata": {},
   "source": [
    "Tracez également une boite à moustache horizontale de ces data.\n",
    "\n",
    "*__Tip :__*_fonction recommandée : `boxplot()`_"
   ]
  },
  {
   "cell_type": "code",
   "execution_count": null,
   "metadata": {},
   "outputs": [],
   "source": [
    "#cell 12"
   ]
  },
  {
   "cell_type": "markdown",
   "metadata": {},
   "source": [
    "Affichez les 3 histogrammes et le boxplot les uns en dessous des autres dans une même fenêtre graphique.\n",
    "\n",
    "*__Tip :__*_fonction recommandée : `par()` avec l'argument `mfrow`_"
   ]
  },
  {
   "cell_type": "code",
   "execution_count": null,
   "metadata": {},
   "outputs": [],
   "source": [
    "#cell 13"
   ]
  },
  {
   "cell_type": "markdown",
   "metadata": {},
   "source": [
    "---\n",
    "## Exercice 3: lois de probabilité\n",
    "\n",
    "<span style=\"color:blue\">  <b>=> Question Wooclap Q1: </b> <br>\n",
    "Si X suit une loi normale de moyenne 10 et d’écart type 5, quelle est la probabilité P(7≤X≤15) ?\n",
    "Arrondissez à trois décimales.</span>\n",
    "\n",
    "\n",
    "\n",
    "*__Tip :__*_fonction recommandée : `pnorm()`_"
   ]
  },
  {
   "cell_type": "code",
   "execution_count": null,
   "metadata": {},
   "outputs": [],
   "source": [
    "#cell 14"
   ]
  },
  {
   "cell_type": "markdown",
   "metadata": {},
   "source": [
    "<span style=\"color:blue\">  <b>=> Question Wooclap Q2: </b> <br>\n",
    "Si X suit une loi normale de moyenne μ=10 et d’écart type σ=5, quelle est la valeur de k telle que P(X≤k)=0.67 ?\n",
    "Arrondissez à une décimale.</span>\n",
    "\n",
    "*__Tip :__*_fonction recommandée : `qnorm()`_"
   ]
  },
  {
   "cell_type": "code",
   "execution_count": null,
   "metadata": {},
   "outputs": [],
   "source": [
    "#cell 15"
   ]
  },
  {
   "cell_type": "markdown",
   "metadata": {},
   "source": [
    "<span style=\"color:blue\">  <b>=> Question Wooclap Q3: </b> <br>\n",
    "Soit un test de Chi2 à 3 degrés de libertés avec une valeur de la statistique de `Chi2=6.26`. Quelle est la p-value de ce test ?\n",
    "Arrondissez à quatre décimales.</span>\n",
    "\n",
    "*__Tip :__*_fonction recommandée : `pchisq()`_"
   ]
  },
  {
   "cell_type": "code",
   "execution_count": null,
   "metadata": {},
   "outputs": [],
   "source": [
    "#cell 16"
   ]
  },
  {
   "cell_type": "markdown",
   "metadata": {},
   "source": [
    "---\n",
    "## Exercice 4: représentations graphiques de données quantitatives\n",
    "\n",
    "Copiez dans votre environnement le fichier `airquality.png` disponible avec la commande suivante:"
   ]
  },
  {
   "cell_type": "code",
   "execution_count": null,
   "metadata": {},
   "outputs": [],
   "source": [
    "#cell 17\n",
    "file.copy(\"/srv/data/meg-m1-ue5/airquality.png\", \"./airquality.png\", overwrite=TRUE)"
   ]
  },
  {
   "cell_type": "markdown",
   "metadata": {},
   "source": [
    "Ouvrez cette image dans le lab en double cliquant dessus. Chargez cette image dans le notebook en executant la cellule Mardown suivante"
   ]
  },
  {
   "cell_type": "markdown",
   "metadata": {},
   "source": [
    "<img src=\"airquality.png\">"
   ]
  },
  {
   "cell_type": "markdown",
   "metadata": {},
   "source": [
    "\n",
    "Récupérez le jeu de données `airquality` disponible sous R.\n",
    "\n",
    "Créez les graphes de la figure ci-dessus avec ce jeu de données.\n",
    "\n",
    "*__Tip :__*_fonctions recommandées : `data()`, \n",
    "    `par()` avec les arguments `mfrow` et `mar`,\n",
    "    `plot()`,\n",
    "  `lines()`,\n",
    "    `boxplot()`,\n",
    "    `abline()`,\n",
    "    `lm()`,\n",
    "    `title()`_"
   ]
  },
  {
   "cell_type": "code",
   "execution_count": null,
   "metadata": {},
   "outputs": [],
   "source": [
    "#cell 18"
   ]
  },
  {
   "cell_type": "code",
   "execution_count": null,
   "metadata": {},
   "outputs": [],
   "source": [
    "#cell 19"
   ]
  },
  {
   "cell_type": "code",
   "execution_count": null,
   "metadata": {},
   "outputs": [],
   "source": [
    "#cell 20"
   ]
  },
  {
   "cell_type": "markdown",
   "metadata": {},
   "source": [
    "---\n",
    "## Exercice 5 facultatif: test de comparaison de moyennes et utilisation d'un paquet"
   ]
  },
  {
   "cell_type": "markdown",
   "metadata": {},
   "source": [
    "### 5.1. Test de comparaison de moyennes\n",
    "\n",
    "Nous allons d'abord tirer deux échantillons de deux populations présentant des moyennes différentes et une même variance.\n",
    "\n",
    "A titre d'exemple dans ce practical nous prendrons la \"taille des humains debout\" comme trait d'intérêt.\n",
    "En France en 2001, les données de l'INSEE indiquaient une taille moyenne de 1.62 pour les femmes et de 1.74 m pour les hommes. Dans l'ensemble de la population, l'écacrt-type était d'environ 7 cm.\n",
    "\n",
    "- Générez 2 échantillons `sample1` et `sample2` de taille 100 issus de la population de femmes et de la population d'hommes avec les paramètres indiqués en supposant que la densité de probabilité de la taille suit une loi normale.\n",
    "\n",
    "*__Tip:__ utiliser la fonction `rnorm()`*"
   ]
  },
  {
   "cell_type": "code",
   "execution_count": null,
   "metadata": {},
   "outputs": [],
   "source": [
    "#cell 21"
   ]
  },
  {
   "cell_type": "code",
   "execution_count": null,
   "metadata": {},
   "outputs": [],
   "source": [
    "#cell 22"
   ]
  },
  {
   "cell_type": "markdown",
   "metadata": {},
   "source": [
    "- Regardez les valeurs résumées des distributions obersvées et faites un simple boxplot de ces distributions.\n",
    "\n",
    "*__Tip:__ utiliser les fonctions `summary()` et `boxplot`*"
   ]
  },
  {
   "cell_type": "code",
   "execution_count": null,
   "metadata": {},
   "outputs": [],
   "source": [
    "#cell 23"
   ]
  },
  {
   "cell_type": "code",
   "execution_count": null,
   "metadata": {},
   "outputs": [],
   "source": [
    "#cell 24"
   ]
  },
  {
   "cell_type": "markdown",
   "metadata": {},
   "source": [
    "- Testez la différence des moyennes entre les deux populations d'où sont issus ces échantillons avec un test de Student bilatéral\n",
    "\n",
    "*__Tip:__ utiliser la fonction `t.test()`*"
   ]
  },
  {
   "cell_type": "code",
   "execution_count": null,
   "metadata": {},
   "outputs": [],
   "source": [
    "#cell 25"
   ]
  },
  {
   "cell_type": "markdown",
   "metadata": {},
   "source": [
    "- Quelle est la valeur de la p-value?\n",
    "\n",
    "*__Tip:__ utilisez la fonction `str()` pour voir comment extraire cette pvalue du test*"
   ]
  },
  {
   "cell_type": "code",
   "execution_count": null,
   "metadata": {},
   "outputs": [],
   "source": [
    "#cell 26"
   ]
  },
  {
   "cell_type": "code",
   "execution_count": null,
   "metadata": {},
   "outputs": [],
   "source": [
    "#cell 27"
   ]
  },
  {
   "cell_type": "markdown",
   "metadata": {},
   "source": [
    "### 5.2. représentation graphique de cette différence à l'aide du paquet dabestR https://github.com/ACCLAB/dabestr"
   ]
  },
  {
   "cell_type": "markdown",
   "metadata": {},
   "source": [
    "- Installez le paquet dabestr s'il n'est pas déjà installé et chargez-le dans votre session R.\n",
    "\n",
    "*__Tip:__ utilisez la fonction `requireNamespace)`, `install.packages()`, `library()` et `sessionInfo()`*"
   ]
  },
  {
   "cell_type": "code",
   "execution_count": null,
   "metadata": {},
   "outputs": [],
   "source": [
    "#cell 28"
   ]
  },
  {
   "cell_type": "markdown",
   "metadata": {},
   "source": [
    "- Consultez la page github de dabestr voire sa vignette et faites une représentation graphique dite ***Gardner-Altman estimation plot*** des distributions qui affiche l'IC de la moyenne en prenant les hommes comme groupe de référence.\n",
    "\n",
    "Pour cela vous devez d'abord générer un dataframe:\n",
    "\n",
    "    - Rassemblez les données des deux échantillons dans un dataframe avec deux colonnes `height` et `grp` pour le groupe.\n",
    "\n",
    "*__Tip:__ utilisez la fonction `data.frame()` sur un vecteur concanténant les taille des deux échantillons avec la fonction `c()` et un vecteur répétant les valeurs 1 et 2 100 fois dans le bon ordre avec la fonction `rep()` et son argument `each=`*"
   ]
  },
  {
   "cell_type": "code",
   "execution_count": null,
   "metadata": {},
   "outputs": [],
   "source": [
    "#cell 29"
   ]
  },
  {
   "cell_type": "markdown",
   "metadata": {},
   "source": [
    "    - Affichez les premières, dernières lignes du dataframe et sa structure. Comptez également le nombre d'observations appartenant au groupe 1 ou 2.\n",
    "\n",
    "*__Tip:__ utilisez les fonctions `head()` , `tail()`, `str()` et `table()`.*"
   ]
  },
  {
   "cell_type": "code",
   "execution_count": null,
   "metadata": {},
   "outputs": [],
   "source": [
    "#cell 30"
   ]
  },
  {
   "cell_type": "code",
   "execution_count": null,
   "metadata": {},
   "outputs": [],
   "source": [
    "#cell 31"
   ]
  },
  {
   "cell_type": "code",
   "execution_count": null,
   "metadata": {},
   "outputs": [],
   "source": [
    "#cell 32"
   ]
  },
  {
   "cell_type": "code",
   "execution_count": null,
   "metadata": {},
   "outputs": [],
   "source": [
    "#cell 33"
   ]
  },
  {
   "cell_type": "markdown",
   "metadata": {},
   "source": [
    "- Dessinez le Grander-Latman estimation plot:\n",
    "\n",
    "*__Tip:__ utilisez les fonctions `dabest()` , `unpaired_mean_diff()`, et `plot()`.*"
   ]
  },
  {
   "cell_type": "code",
   "execution_count": null,
   "metadata": {},
   "outputs": [],
   "source": [
    "#cell 34"
   ]
  },
  {
   "cell_type": "markdown",
   "metadata": {},
   "source": [
    "---\n",
    "## Exercice 6 facultatif: analyse de données\n",
    "\n",
    "Importez dans R le fichier `poisson.txt` disponible dans `/srv/data/meg-m1-ue5/`. Il s’agit d’un jeu de données de l’espèce de poisson “grand corégone” du lac Nathalie dans le territoire de la baie James (province du Québec) (d’après B. Scherrer). En 1977, Dumont a cherché les relations existantes entre le potentiel reproducteur (nombre d’œufs) de cette espèce de poisson (grand Corégone) et plusieurs caractères morphologiques. L’étude a été menée afin de déterminer une éventuelle relation entre le nombre d’œufs, révélant le potentiel reproducteur des poissons, et les variables morphologiques caractérisant ces poissons.\n",
    "\n",
    "__1. Statistiques descriptives__\n",
    "\n",
    "Identifier les variables et le nombre d’observations de l’échantillon.\n",
    "\n",
    "_Fonctions recommandées :_\n",
    "`read.table()`, `head()`, `dim()`, `str()`, `names()`"
   ]
  },
  {
   "cell_type": "code",
   "execution_count": null,
   "metadata": {},
   "outputs": [],
   "source": [
    "#cell 35"
   ]
  },
  {
   "cell_type": "markdown",
   "metadata": {},
   "source": [
    "Calculer la moyenne, la variance et l’écart-type de chaque variable aléatoire.\n",
    "    \n",
    "_Fonctions recommandées:_\n",
    "        `mean()`\n",
    "        `var()`\n",
    "        `sd()`\n",
    "        `apply()`\n",
    "        `summary()`"
   ]
  },
  {
   "cell_type": "code",
   "execution_count": null,
   "metadata": {},
   "outputs": [],
   "source": [
    "#cell 36"
   ]
  },
  {
   "cell_type": "markdown",
   "metadata": {},
   "source": [
    "---\n",
    "Réaliser les représentations des distributions de chaque variable aléatoire.\n",
    "\n",
    "_Fonctions recommandées:_\n",
    "    `hist()`, `par(mfrow = c(-,-))`, `curve()`, `dnorm()`\n"
   ]
  },
  {
   "cell_type": "code",
   "execution_count": null,
   "metadata": {},
   "outputs": [],
   "source": [
    "#cell 37"
   ]
  },
  {
   "cell_type": "markdown",
   "metadata": {},
   "source": [
    "Ces variables vous semblent-elles distribuées selon une loi Normale ? Pour le vérifier, superposez sur chaque histogramme les courbes de densité des lois normales correspondantes (les moyennes et les variances sont estimées à partir des données de l’échantillon). Vous pouvez tracer par superposition la loi normale de même moyenne et écart type sur chaque histogramme. Vous pouvez également tracer le qqplot pour comparer la distribution de chaque variable à celle d’une loi normale. Enfin, vous pouvez tester l’hypothèse nulle de la normalité par un test de Shapiro.\n",
    "\n",
    "_Fonctions recommandées:_\n",
    "`curve()`, `dnorm()`, `qqplot()`, `qqline()`"
   ]
  },
  {
   "cell_type": "code",
   "execution_count": null,
   "metadata": {},
   "outputs": [],
   "source": [
    "#cell 38"
   ]
  },
  {
   "cell_type": "code",
   "execution_count": null,
   "metadata": {},
   "outputs": [],
   "source": [
    "#cell 39"
   ]
  },
  {
   "cell_type": "markdown",
   "metadata": {},
   "source": [
    "---\n",
    "__2. Comparaison des potentiels reproducteurs selon l’âge :__\n",
    "\n",
    "Existe-t-il une différence du nombre d’œufs produits entre les poissons jeunes (âge inférieur à 10 ans) et âgés (âge supérieur ou égal à 10)?\n",
    "\n",
    "- Créez une nouvelle variable qualitative pour identifier les deux groupes : les individus `jeunes` et les individus `âgés`\n",
    "\n",
    "_Fonction recommandées:_\n",
    "`which()` ou `subset()`"
   ]
  },
  {
   "cell_type": "code",
   "execution_count": null,
   "metadata": {},
   "outputs": [],
   "source": [
    "#cell 40 "
   ]
  },
  {
   "cell_type": "code",
   "execution_count": null,
   "metadata": {},
   "outputs": [],
   "source": [
    "#cell 41"
   ]
  },
  {
   "cell_type": "markdown",
   "metadata": {},
   "source": [
    "- Représentez la distribution de la variable œufs en fonction de la variable âge.\n",
    "    \n",
    "_Fonctions recommandées_\n",
    "        `boxplot()`, `stripchart()`"
   ]
  },
  {
   "cell_type": "code",
   "execution_count": null,
   "metadata": {},
   "outputs": [],
   "source": [
    "#cell 42"
   ]
  },
  {
   "cell_type": "markdown",
   "metadata": {},
   "source": [
    "- Calculez les moyennes dans chaque groupe du nombre d’œufs\n",
    "    \n",
    "_Fonctions recommandées:_\n",
    "        `apply()`, `tapply()`, `mean()`\n"
   ]
  },
  {
   "cell_type": "code",
   "execution_count": null,
   "metadata": {},
   "outputs": [],
   "source": [
    "#cell 43"
   ]
  },
  {
   "cell_type": "markdown",
   "metadata": {},
   "source": [
    "- Existe-t-il une différence entre ces moyennes ?\n",
    "    \n",
    "_Fonctions recommandées:_\n",
    "        `t.test()`, `wilcox.test()`"
   ]
  },
  {
   "cell_type": "code",
   "execution_count": null,
   "metadata": {},
   "outputs": [],
   "source": [
    "#cell 44"
   ]
  },
  {
   "cell_type": "markdown",
   "metadata": {},
   "source": [
    "- Existe-t-il une relation linéaire entre le poids des gonades et le nombre d’oeufs produits ?\n",
    "   \n",
    "_Fonctions recommandées:_\n",
    "        `plot()`,\n",
    "        `cor()`,\n",
    "        `lm()`,\n",
    "        `cor.test()`\n"
   ]
  },
  {
   "cell_type": "code",
   "execution_count": null,
   "metadata": {},
   "outputs": [],
   "source": [
    "#cell 45"
   ]
  },
  {
   "cell_type": "code",
   "execution_count": null,
   "metadata": {},
   "outputs": [],
   "source": [
    "#cell 46"
   ]
  },
  {
   "cell_type": "markdown",
   "metadata": {},
   "source": [
    "__Conclusion__\n",
    "\n",
    "Que pouvez-vous conclure quant à lâge des poissons et la production des oeufs?"
   ]
  },
  {
   "cell_type": "markdown",
   "metadata": {},
   "source": [
    "votre réponse"
   ]
  },
  {
   "cell_type": "markdown",
   "metadata": {},
   "source": [
    "*Vous pouvez ensuite tester l’effet d’autres variables sur la variable « oeufs ».*"
   ]
  },
  {
   "cell_type": "markdown",
   "metadata": {},
   "source": [
    "---\n",
    "---\n",
    "\n",
    "<div class=\"alert alert-block alert-success\"><b>Success:</b> Well done! You now know how to create a function and to avoid classical pitfalls. \n",
    "</div>\n",
    "    "
   ]
  },
  {
   "cell_type": "markdown",
   "metadata": {},
   "source": [
    "<div class=\"alert alert-block alert-warning\"><b>Warning:</b><br>\n",
    " Don't forget to save you notebook and export a copy as an <b>html</b> file as well <br>\n",
    "- Open \"File\" in the Menu<br>\n",
    "- Select \"Export Notebook As\"<br>\n",
    "- Export notebook as HTML<br>\n",
    "- You can then open it in your browser even without being connected to a JupyterLab interface!\n",
    "</div>"
   ]
  },
  {
   "cell_type": "code",
   "execution_count": null,
   "metadata": {},
   "outputs": [],
   "source": [
    "sessionInfo()"
   ]
  },
  {
   "cell_type": "markdown",
   "metadata": {},
   "source": [
    "***\n",
    "***\n",
    "## Useful commands\n",
    "<div class=\"alert alert-block alert-info\"> \n",
    "    \n",
    "- <kbd>CTRL</kbd>+<kbd>S</kbd> : save notebook<br>    \n",
    "- <kbd>CTRL</kbd>+<kbd>ENTER</kbd> : Run Cell<br>  \n",
    "- <kbd>SHIFT</kbd>+<kbd>ENTER</kbd> : Run Cell and Select Next<br>   \n",
    "- <kbd>ALT</kbd>+<kbd>ENTER</kbd> : Run Cell and Insert Below<br>   \n",
    "- <kbd>ESC</kbd>+<kbd>y</kbd> : Change to *Code* Cell Type<br>  \n",
    "- <kbd>ESC</kbd>+<kbd>m</kbd> : Change to *Markdown* Cell Type<br> \n",
    "- <kbd>ESC</kbd>+<kbd>r</kbd> : Change to *Raw* Cell Type<br>    \n",
    "- <kbd>ESC</kbd>+<kbd>a</kbd> : Create Cell Above<br> \n",
    "- <kbd>ESC</kbd>+<kbd>b</kbd> : Create Cell Below<br> \n",
    "\n",
    "<em>  \n",
    "To make nice html reports with markdown: <a href=\"https://dillinger.io/\" title=\"dillinger.io\">html visualization tool 1</a> or <a href=\"https://stackedit.io/app#\" title=\"stackedit.io\">html visualization tool 2</a>, <a href=\"https://www.tablesgenerator.com/markdown_tables\" title=\"tablesgenerator.com\">to draw nice tables</a>, and the <a href=\"https://medium.com/analytics-vidhya/the-ultimate-markdown-guide-for-jupyter-notebook-d5e5abf728fd\" title=\"Ultimate guide\">Ultimate guide</a>. <br>\n",
    "Further reading on JupyterLab notebooks: <a href=\"https://jupyterlab.readthedocs.io/en/latest/user/notebook.html\" title=\"Jupyter Lab\">Jupyter Lab documentation</a>.<br>   \n",
    "</em>    \n",
    " \n",
    "</div>"
   ]
  },
  {
   "cell_type": "markdown",
   "metadata": {},
   "source": [
    "---\n",
    "---\n",
    "\n",
    "## <mark>Check list des actions avant la prochaine session R:<mark>\n",
    "\n",
    "_Pour cocher les cases, ouvrez la cellule du notebook et remplacez l'espace entre les crochets par un `x` lorsque l'action est effectuée_\n",
    "\n",
    "[ ] relire le cours et revoir les différents supports dont diapos, scripts et notebooks de la session 5\n",
    "    \n",
    "[ ] étudier le tutoriel sur les paquets\n",
    "       \n",
    "[ ] faire l'atelier#1 de la partie II RNASeq du Fil Rouge: en binôme, <mark> notebook à rendre pour le 17/10 23h59 </mark> sur moodle dans la section \"Fil Rouge\"\n",
    "   "
   ]
  }
 ],
 "metadata": {
  "kernelspec": {
   "display_name": "R",
   "language": "R",
   "name": "ir"
  },
  "language_info": {
   "codemirror_mode": "r",
   "file_extension": ".r",
   "mimetype": "text/x-r-source",
   "name": "R",
   "pygments_lexer": "r",
   "version": "4.0.5"
  }
 },
 "nbformat": 4,
 "nbformat_minor": 4
}
