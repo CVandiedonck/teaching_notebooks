{
 "cells": [
  {
   "cell_type": "markdown",
   "metadata": {
    "tags": []
   },
   "source": [
    "# __R Session n°3 - practice:__\n",
    "M1 MEG UE5 - Claire Vandiedonck\n",
    "***\n",
    "\n",
    "__*Programme couvert:*__\n",
    "\n",
    "- Manipulation de dataframes\n",
    "- Exploration de données omiques\n",
    "- Listes\n"
   ]
  },
  {
   "cell_type": "markdown",
   "metadata": {},
   "source": [
    "---\n",
    "    \n",
    "**Rappels**    \n",
    "> Les exercices proposés sont donnés dans un ordre progressif qui suit celui du diaporama associé. Ils ont des niveaux de difficulté variable. Pour chaque exercice, des fonctions R vous sont suggérées. N’hésitez pas à consulter leur menu d’aide en tapant soit `?nom_fonction`, soit `help(nom_fonction)`. Vous pouvez parvenir aux mêmes résultats avec d’autres commandes. Les commandes les plus courtes sont en général les meilleures. Une correction détaillée sera fournie.\n",
    "\n",
    "> Vous pouvez réaliser ces exercices directement dans ce notebook sur `adenine` en indiquant votre code dans les cellules laissées libres. Pour ajouter une nouvelle cellule, cliquez simplement sur le `+`dans le menu en haut à gauche du notebook (cf. rappels sur les notebooks en bas de ce notebook). Vous pouvez mettre plusieurs lignes de code aussi par cellule.\n",
    "> Pour executer les cellules, cliquez sur `Shift+Enter`. Executez les dans le bon ordre.\n",
    "> Remarque: dans un notebook jupyter, l'affichage des vecteurs n'est pas classique. Si vous souhaitez afficher le vecteur de façon plus classique, c'est à dire en ligne avec l'indice pour la 1ère valeur de chaque ligne au début de la ligne, tel qu'il apparait dans R, il est nécessaire d'utiliser la fonction `print()` -> voir dans cet exemple avec un vecteur contenant les deux valeurs numériques 1 et 10.\n"
   ]
  },
  {
   "cell_type": "code",
   "execution_count": 1,
   "metadata": {},
   "outputs": [
    {
     "data": {
      "text/html": [
       "<style>\n",
       ".list-inline {list-style: none; margin:0; padding: 0}\n",
       ".list-inline>li {display: inline-block}\n",
       ".list-inline>li:not(:last-child)::after {content: \"\\00b7\"; padding: 0 .5ex}\n",
       "</style>\n",
       "<ol class=list-inline><li>1</li><li>10</li></ol>\n"
      ],
      "text/latex": [
       "\\begin{enumerate*}\n",
       "\\item 1\n",
       "\\item 10\n",
       "\\end{enumerate*}\n"
      ],
      "text/markdown": [
       "1. 1\n",
       "2. 10\n",
       "\n",
       "\n"
      ],
      "text/plain": [
       "[1]  1 10"
      ]
     },
     "metadata": {},
     "output_type": "display_data"
    }
   ],
   "source": [
    "#cell1\n",
    "my_vector <- c(1, 10) # pour générer le vecteur et l'assigner dans un objet \"my_vector\"\n",
    "my_vector # l'affichage ici montre deux éléments dont l'affichage est séparé par un point médian."
   ]
  },
  {
   "cell_type": "code",
   "execution_count": 2,
   "metadata": {},
   "outputs": [
    {
     "name": "stdout",
     "output_type": "stream",
     "text": [
      "[1]  1 10\n"
     ]
    }
   ],
   "source": [
    "#cell 2\n",
    "print(my_vector) # L'affichage ici montre le vecteur par ligne avec l'indice 1 entre crochets indiquant l'indice de la première valeur de la ligne."
   ]
  },
  {
   "cell_type": "markdown",
   "metadata": {},
   "source": [
    "> Vous pouvez également réaliser ces exercices si vous le préférez dans un terminal ou une console de cet environnement `megm1_ue5_r` sur adenine, ou sur la version rstudio de cet environnement.\n",
    ">\n",
    "> Il est enfin possible de réaliser ces exercices sur votre ordinateur. Dans ce cas, utilisez un editeur de texte avec coloration syntaxique pour votre code (editeur dans Rstudio, ou Tinn-R ou notepad++ par exemple). Sauvegardez vos commandes dans un fichier mes_commandes.R dans le répertoire de votre choix. Exécutez les commandes une par une dans votre console. Vous pouvez ajouter des commentaires qui ne seront pas éxécutés si vous les précédez du caractère « # ».\n",
    "\n",
    ">    "
   ]
  },
  {
   "cell_type": "markdown",
   "metadata": {},
   "source": [
    "---\n",
    "## Avant d'aller plus loin\n",
    "\n",
    "<div class=\"alert alert-block alert-danger\"><b>Attention:</b> \n",
    "Ne travaillez pas directement sur ce notebook pour ne pas le perdre. Dupliquez-le et renommez-le par exemple en ajoutant vos initiales et travaillez sur cette nouvelle copie. Pour ce faire, dans le panneau de gauche, faites un clic droit sur le fichier et sélectionnez \"Duplicate\". Puis, toujours dans la colonne de gauche, faites un clic droit sur cette copie et sélectionnez \"rename\" pour changer le nom. Ouvrez ensuite cette nouvelle version en double cliquant dessus. Vous êtes prêt(e) à démarrer! <br>\n",
    "<br>\n",
    "<b>N'oubliez pas de sauvegarder régulièrement votre notebook</b>: <kbd>Ctrl</kbd> + <kbd>S</kbd>. ou en cliquant sur l'icone 💾 en haut à gauche de votre notebook ou dans le Menu du JupyterLab \"File puis \"Save Notebook\"!\n",
    "</div>\n",
    " "
   ]
  },
  {
   "cell_type": "markdown",
   "metadata": {},
   "source": [
    "#### 1. Identifiez votre répertoire de travail"
   ]
  },
  {
   "cell_type": "code",
   "execution_count": 3,
   "metadata": {},
   "outputs": [
    {
     "data": {
      "text/html": [
       "'/srv/home/cvandiedonck/megm1_ue5_r/R3'"
      ],
      "text/latex": [
       "'/srv/home/cvandiedonck/megm1\\_ue5\\_r/R3'"
      ],
      "text/markdown": [
       "'/srv/home/cvandiedonck/megm1_ue5_r/R3'"
      ],
      "text/plain": [
       "[1] \"/srv/home/cvandiedonck/megm1_ue5_r/R3\""
      ]
     },
     "metadata": {},
     "output_type": "display_data"
    }
   ],
   "source": [
    "#cell3\n",
    "getwd()"
   ]
  },
  {
   "cell_type": "markdown",
   "metadata": {},
   "source": [
    "Si ce répertoire ne vous convient pas, changer le pour un répertoire existant `my_directory`par exemple, avec la commande suivante en spécifiant le chemin relatif ou absolu de votre répertoire:\n",
    "```setwd(\"path/my_directory\")```"
   ]
  },
  {
   "cell_type": "markdown",
   "metadata": {},
   "source": [
    "#### 2.  Identifiez la version R de votre environnement et packages installés."
   ]
  },
  {
   "cell_type": "code",
   "execution_count": 4,
   "metadata": {},
   "outputs": [
    {
     "data": {
      "text/plain": [
       "R version 4.0.5 (2021-03-31)\n",
       "Platform: x86_64-conda-linux-gnu (64-bit)\n",
       "Running under: Ubuntu 18.04.4 LTS\n",
       "\n",
       "Matrix products: default\n",
       "BLAS/LAPACK: /srv/conda/envs/notebook/lib/libopenblasp-r0.3.17.so\n",
       "\n",
       "locale:\n",
       " [1] LC_CTYPE=en_US.UTF-8       LC_NUMERIC=C              \n",
       " [3] LC_TIME=en_US.UTF-8        LC_COLLATE=en_US.UTF-8    \n",
       " [5] LC_MONETARY=en_US.UTF-8    LC_MESSAGES=en_US.UTF-8   \n",
       " [7] LC_PAPER=en_US.UTF-8       LC_NAME=C                 \n",
       " [9] LC_ADDRESS=C               LC_TELEPHONE=C            \n",
       "[11] LC_MEASUREMENT=en_US.UTF-8 LC_IDENTIFICATION=C       \n",
       "\n",
       "attached base packages:\n",
       "[1] stats     graphics  grDevices utils     datasets  methods   base     \n",
       "\n",
       "loaded via a namespace (and not attached):\n",
       " [1] fansi_0.5.0       digest_0.6.27     utf8_1.2.2        crayon_1.4.1     \n",
       " [5] IRdisplay_1.0     repr_1.1.3        lifecycle_1.0.0   jsonlite_1.7.2   \n",
       " [9] evaluate_0.14     pillar_1.6.2      rlang_0.4.11      uuid_0.1-4       \n",
       "[13] vctrs_0.3.8       ellipsis_0.3.2    IRkernel_1.1.1    tools_4.0.5      \n",
       "[17] compiler_4.0.5    base64enc_0.1-3   pbdZMQ_0.3-5      htmltools_0.5.1.1"
      ]
     },
     "metadata": {},
     "output_type": "display_data"
    }
   ],
   "source": [
    "#cell4\n",
    "sessionInfo()"
   ]
  },
  {
   "cell_type": "markdown",
   "metadata": {},
   "source": [
    "---\n",
    "---\n",
    "\n",
    "## Exercice 1\n",
    "\n",
    "Téléchargez le fichier `test.txt` disponible sur moodle.\n",
    "\n",
    "Ouvrez-le avec un éditeur de texte ou un calculateur pour identifier sa structure et les cases non remplies: dans le jupyterlab, cliquez simplement sur le fichier `test.txt` dans le menu de gauche. Vous verrez que les colonnes sont séparées par des tabulations. \n",
    "\n",
    "Importez le dans R dans un objet `test.data` et vérifiez sa structure et son contenu.\n",
    "\n",
    "*__Tip :__*\n",
    "_fonctions recommandées : ` read.table()` avec l'argument `fill` correct, `str()`_"
   ]
  },
  {
   "cell_type": "code",
   "execution_count": 5,
   "metadata": {},
   "outputs": [],
   "source": [
    "#cell5\n",
    "test.data <- read.table(\"test.txt\",sep = \"\\t\", header = T, fill = TRUE, stringsAsFactors = F) # le séparateur est un séparateur de type tabulation"
   ]
  },
  {
   "cell_type": "markdown",
   "metadata": {},
   "source": [
    "> L'argument `fill=TRUE` peut être ajouté lorsque vous avez un fichier d'entrée avec un nombre d'éléments qui diffère entre chaque ligne. Dans ce cas, les cases correspondant aux colonnes manquantes de ces lignes seront complétées."
   ]
  },
  {
   "cell_type": "code",
   "execution_count": 6,
   "metadata": {},
   "outputs": [
    {
     "name": "stdout",
     "output_type": "stream",
     "text": [
      "'data.frame':\t6 obs. of  5 variables:\n",
      " $ colonne1: int  3 2 7 10 2 1\n",
      " $ colonne2: num  2.2 7.3 NA 10.1 8.9 3.2\n",
      " $ colonne3: logi  TRUE TRUE FALSE TRUE TRUE FALSE\n",
      " $ colonne4: chr  \"toto\" \"toto\" \"tata\" \"titi\" ...\n",
      " $ colonne5: chr  \"oui\" \"non\" \"\" \"oui\" ...\n"
     ]
    }
   ],
   "source": [
    "#cell5.2\n",
    "str(test.data)"
   ]
  },
  {
   "cell_type": "markdown",
   "metadata": {},
   "source": [
    "> Nous vérifions donc ci-dessus que la commande `read.table()`a bien créé un `dataframe`. Celui-ci contient 6 lignes et 5 colonnes.\n",
    "Les dimensions de cet objet étant réduites, je m'autorise à l'affichez complètement ici."
   ]
  },
  {
   "cell_type": "code",
   "execution_count": 7,
   "metadata": {},
   "outputs": [
    {
     "data": {
      "text/html": [
       "<table class=\"dataframe\">\n",
       "<caption>A data.frame: 6 × 5</caption>\n",
       "<thead>\n",
       "\t<tr><th scope=col>colonne1</th><th scope=col>colonne2</th><th scope=col>colonne3</th><th scope=col>colonne4</th><th scope=col>colonne5</th></tr>\n",
       "\t<tr><th scope=col>&lt;int&gt;</th><th scope=col>&lt;dbl&gt;</th><th scope=col>&lt;lgl&gt;</th><th scope=col>&lt;chr&gt;</th><th scope=col>&lt;chr&gt;</th></tr>\n",
       "</thead>\n",
       "<tbody>\n",
       "\t<tr><td> 3</td><td> 2.2</td><td> TRUE</td><td>toto</td><td>oui</td></tr>\n",
       "\t<tr><td> 2</td><td> 7.3</td><td> TRUE</td><td>toto</td><td>non</td></tr>\n",
       "\t<tr><td> 7</td><td>  NA</td><td>FALSE</td><td>tata</td><td>   </td></tr>\n",
       "\t<tr><td>10</td><td>10.1</td><td> TRUE</td><td>titi</td><td>oui</td></tr>\n",
       "\t<tr><td> 2</td><td> 8.9</td><td> TRUE</td><td>toto</td><td>oui</td></tr>\n",
       "\t<tr><td> 1</td><td> 3.2</td><td>FALSE</td><td>tutu</td><td>non</td></tr>\n",
       "</tbody>\n",
       "</table>\n"
      ],
      "text/latex": [
       "A data.frame: 6 × 5\n",
       "\\begin{tabular}{lllll}\n",
       " colonne1 & colonne2 & colonne3 & colonne4 & colonne5\\\\\n",
       " <int> & <dbl> & <lgl> & <chr> & <chr>\\\\\n",
       "\\hline\n",
       "\t  3 &  2.2 &  TRUE & toto & oui\\\\\n",
       "\t  2 &  7.3 &  TRUE & toto & non\\\\\n",
       "\t  7 &   NA & FALSE & tata &    \\\\\n",
       "\t 10 & 10.1 &  TRUE & titi & oui\\\\\n",
       "\t  2 &  8.9 &  TRUE & toto & oui\\\\\n",
       "\t  1 &  3.2 & FALSE & tutu & non\\\\\n",
       "\\end{tabular}\n"
      ],
      "text/markdown": [
       "\n",
       "A data.frame: 6 × 5\n",
       "\n",
       "| colonne1 &lt;int&gt; | colonne2 &lt;dbl&gt; | colonne3 &lt;lgl&gt; | colonne4 &lt;chr&gt; | colonne5 &lt;chr&gt; |\n",
       "|---|---|---|---|---|\n",
       "|  3 |  2.2 |  TRUE | toto | oui |\n",
       "|  2 |  7.3 |  TRUE | toto | non |\n",
       "|  7 |   NA | FALSE | tata | <!----> |\n",
       "| 10 | 10.1 |  TRUE | titi | oui |\n",
       "|  2 |  8.9 |  TRUE | toto | oui |\n",
       "|  1 |  3.2 | FALSE | tutu | non |\n",
       "\n"
      ],
      "text/plain": [
       "  colonne1 colonne2 colonne3 colonne4 colonne5\n",
       "1  3        2.2      TRUE    toto     oui     \n",
       "2  2        7.3      TRUE    toto     non     \n",
       "3  7         NA     FALSE    tata             \n",
       "4 10       10.1      TRUE    titi     oui     \n",
       "5  2        8.9      TRUE    toto     oui     \n",
       "6  1        3.2     FALSE    tutu     non     "
      ]
     },
     "metadata": {},
     "output_type": "display_data"
    }
   ],
   "source": [
    "#cell5.3\n",
    "test.data"
   ]
  },
  {
   "cell_type": "markdown",
   "metadata": {},
   "source": [
    "> Si vous aviez eu un gros dataframe, affichez seulement les premières lignes et les dernières avec `head()`et `tail()`.\n",
    "> Je recommande également d'afficher quelques lignes au milieu pour vous assurez que le format est bien celui attendu en utilisant les indicdes avec les crochets: `[,]"
   ]
  },
  {
   "cell_type": "code",
   "execution_count": 8,
   "metadata": {},
   "outputs": [
    {
     "data": {
      "text/html": [
       "<table class=\"dataframe\">\n",
       "<caption>A data.frame: 6 × 5</caption>\n",
       "<thead>\n",
       "\t<tr><th></th><th scope=col>colonne1</th><th scope=col>colonne2</th><th scope=col>colonne3</th><th scope=col>colonne4</th><th scope=col>colonne5</th></tr>\n",
       "\t<tr><th></th><th scope=col>&lt;int&gt;</th><th scope=col>&lt;dbl&gt;</th><th scope=col>&lt;lgl&gt;</th><th scope=col>&lt;chr&gt;</th><th scope=col>&lt;chr&gt;</th></tr>\n",
       "</thead>\n",
       "<tbody>\n",
       "\t<tr><th scope=row>1</th><td> 3</td><td> 2.2</td><td> TRUE</td><td>toto</td><td>oui</td></tr>\n",
       "\t<tr><th scope=row>2</th><td> 2</td><td> 7.3</td><td> TRUE</td><td>toto</td><td>non</td></tr>\n",
       "\t<tr><th scope=row>3</th><td> 7</td><td>  NA</td><td>FALSE</td><td>tata</td><td>   </td></tr>\n",
       "\t<tr><th scope=row>4</th><td>10</td><td>10.1</td><td> TRUE</td><td>titi</td><td>oui</td></tr>\n",
       "\t<tr><th scope=row>5</th><td> 2</td><td> 8.9</td><td> TRUE</td><td>toto</td><td>oui</td></tr>\n",
       "\t<tr><th scope=row>6</th><td> 1</td><td> 3.2</td><td>FALSE</td><td>tutu</td><td>non</td></tr>\n",
       "</tbody>\n",
       "</table>\n"
      ],
      "text/latex": [
       "A data.frame: 6 × 5\n",
       "\\begin{tabular}{r|lllll}\n",
       "  & colonne1 & colonne2 & colonne3 & colonne4 & colonne5\\\\\n",
       "  & <int> & <dbl> & <lgl> & <chr> & <chr>\\\\\n",
       "\\hline\n",
       "\t1 &  3 &  2.2 &  TRUE & toto & oui\\\\\n",
       "\t2 &  2 &  7.3 &  TRUE & toto & non\\\\\n",
       "\t3 &  7 &   NA & FALSE & tata &    \\\\\n",
       "\t4 & 10 & 10.1 &  TRUE & titi & oui\\\\\n",
       "\t5 &  2 &  8.9 &  TRUE & toto & oui\\\\\n",
       "\t6 &  1 &  3.2 & FALSE & tutu & non\\\\\n",
       "\\end{tabular}\n"
      ],
      "text/markdown": [
       "\n",
       "A data.frame: 6 × 5\n",
       "\n",
       "| <!--/--> | colonne1 &lt;int&gt; | colonne2 &lt;dbl&gt; | colonne3 &lt;lgl&gt; | colonne4 &lt;chr&gt; | colonne5 &lt;chr&gt; |\n",
       "|---|---|---|---|---|---|\n",
       "| 1 |  3 |  2.2 |  TRUE | toto | oui |\n",
       "| 2 |  2 |  7.3 |  TRUE | toto | non |\n",
       "| 3 |  7 |   NA | FALSE | tata | <!----> |\n",
       "| 4 | 10 | 10.1 |  TRUE | titi | oui |\n",
       "| 5 |  2 |  8.9 |  TRUE | toto | oui |\n",
       "| 6 |  1 |  3.2 | FALSE | tutu | non |\n",
       "\n"
      ],
      "text/plain": [
       "  colonne1 colonne2 colonne3 colonne4 colonne5\n",
       "1  3        2.2      TRUE    toto     oui     \n",
       "2  2        7.3      TRUE    toto     non     \n",
       "3  7         NA     FALSE    tata             \n",
       "4 10       10.1      TRUE    titi     oui     \n",
       "5  2        8.9      TRUE    toto     oui     \n",
       "6  1        3.2     FALSE    tutu     non     "
      ]
     },
     "metadata": {},
     "output_type": "display_data"
    },
    {
     "data": {
      "text/html": [
       "<table class=\"dataframe\">\n",
       "<caption>A data.frame: 6 × 5</caption>\n",
       "<thead>\n",
       "\t<tr><th></th><th scope=col>colonne1</th><th scope=col>colonne2</th><th scope=col>colonne3</th><th scope=col>colonne4</th><th scope=col>colonne5</th></tr>\n",
       "\t<tr><th></th><th scope=col>&lt;int&gt;</th><th scope=col>&lt;dbl&gt;</th><th scope=col>&lt;lgl&gt;</th><th scope=col>&lt;chr&gt;</th><th scope=col>&lt;chr&gt;</th></tr>\n",
       "</thead>\n",
       "<tbody>\n",
       "\t<tr><th scope=row>1</th><td> 3</td><td> 2.2</td><td> TRUE</td><td>toto</td><td>oui</td></tr>\n",
       "\t<tr><th scope=row>2</th><td> 2</td><td> 7.3</td><td> TRUE</td><td>toto</td><td>non</td></tr>\n",
       "\t<tr><th scope=row>3</th><td> 7</td><td>  NA</td><td>FALSE</td><td>tata</td><td>   </td></tr>\n",
       "\t<tr><th scope=row>4</th><td>10</td><td>10.1</td><td> TRUE</td><td>titi</td><td>oui</td></tr>\n",
       "\t<tr><th scope=row>5</th><td> 2</td><td> 8.9</td><td> TRUE</td><td>toto</td><td>oui</td></tr>\n",
       "\t<tr><th scope=row>6</th><td> 1</td><td> 3.2</td><td>FALSE</td><td>tutu</td><td>non</td></tr>\n",
       "</tbody>\n",
       "</table>\n"
      ],
      "text/latex": [
       "A data.frame: 6 × 5\n",
       "\\begin{tabular}{r|lllll}\n",
       "  & colonne1 & colonne2 & colonne3 & colonne4 & colonne5\\\\\n",
       "  & <int> & <dbl> & <lgl> & <chr> & <chr>\\\\\n",
       "\\hline\n",
       "\t1 &  3 &  2.2 &  TRUE & toto & oui\\\\\n",
       "\t2 &  2 &  7.3 &  TRUE & toto & non\\\\\n",
       "\t3 &  7 &   NA & FALSE & tata &    \\\\\n",
       "\t4 & 10 & 10.1 &  TRUE & titi & oui\\\\\n",
       "\t5 &  2 &  8.9 &  TRUE & toto & oui\\\\\n",
       "\t6 &  1 &  3.2 & FALSE & tutu & non\\\\\n",
       "\\end{tabular}\n"
      ],
      "text/markdown": [
       "\n",
       "A data.frame: 6 × 5\n",
       "\n",
       "| <!--/--> | colonne1 &lt;int&gt; | colonne2 &lt;dbl&gt; | colonne3 &lt;lgl&gt; | colonne4 &lt;chr&gt; | colonne5 &lt;chr&gt; |\n",
       "|---|---|---|---|---|---|\n",
       "| 1 |  3 |  2.2 |  TRUE | toto | oui |\n",
       "| 2 |  2 |  7.3 |  TRUE | toto | non |\n",
       "| 3 |  7 |   NA | FALSE | tata | <!----> |\n",
       "| 4 | 10 | 10.1 |  TRUE | titi | oui |\n",
       "| 5 |  2 |  8.9 |  TRUE | toto | oui |\n",
       "| 6 |  1 |  3.2 | FALSE | tutu | non |\n",
       "\n"
      ],
      "text/plain": [
       "  colonne1 colonne2 colonne3 colonne4 colonne5\n",
       "1  3        2.2      TRUE    toto     oui     \n",
       "2  2        7.3      TRUE    toto     non     \n",
       "3  7         NA     FALSE    tata             \n",
       "4 10       10.1      TRUE    titi     oui     \n",
       "5  2        8.9      TRUE    toto     oui     \n",
       "6  1        3.2     FALSE    tutu     non     "
      ]
     },
     "metadata": {},
     "output_type": "display_data"
    },
    {
     "data": {
      "text/html": [
       "<table class=\"dataframe\">\n",
       "<caption>A data.frame: 3 × 5</caption>\n",
       "<thead>\n",
       "\t<tr><th></th><th scope=col>colonne1</th><th scope=col>colonne2</th><th scope=col>colonne3</th><th scope=col>colonne4</th><th scope=col>colonne5</th></tr>\n",
       "\t<tr><th></th><th scope=col>&lt;int&gt;</th><th scope=col>&lt;dbl&gt;</th><th scope=col>&lt;lgl&gt;</th><th scope=col>&lt;chr&gt;</th><th scope=col>&lt;chr&gt;</th></tr>\n",
       "</thead>\n",
       "<tbody>\n",
       "\t<tr><th scope=row>2</th><td> 2</td><td> 7.3</td><td> TRUE</td><td>toto</td><td>non</td></tr>\n",
       "\t<tr><th scope=row>3</th><td> 7</td><td>  NA</td><td>FALSE</td><td>tata</td><td>   </td></tr>\n",
       "\t<tr><th scope=row>4</th><td>10</td><td>10.1</td><td> TRUE</td><td>titi</td><td>oui</td></tr>\n",
       "</tbody>\n",
       "</table>\n"
      ],
      "text/latex": [
       "A data.frame: 3 × 5\n",
       "\\begin{tabular}{r|lllll}\n",
       "  & colonne1 & colonne2 & colonne3 & colonne4 & colonne5\\\\\n",
       "  & <int> & <dbl> & <lgl> & <chr> & <chr>\\\\\n",
       "\\hline\n",
       "\t2 &  2 &  7.3 &  TRUE & toto & non\\\\\n",
       "\t3 &  7 &   NA & FALSE & tata &    \\\\\n",
       "\t4 & 10 & 10.1 &  TRUE & titi & oui\\\\\n",
       "\\end{tabular}\n"
      ],
      "text/markdown": [
       "\n",
       "A data.frame: 3 × 5\n",
       "\n",
       "| <!--/--> | colonne1 &lt;int&gt; | colonne2 &lt;dbl&gt; | colonne3 &lt;lgl&gt; | colonne4 &lt;chr&gt; | colonne5 &lt;chr&gt; |\n",
       "|---|---|---|---|---|---|\n",
       "| 2 |  2 |  7.3 |  TRUE | toto | non |\n",
       "| 3 |  7 |   NA | FALSE | tata | <!----> |\n",
       "| 4 | 10 | 10.1 |  TRUE | titi | oui |\n",
       "\n"
      ],
      "text/plain": [
       "  colonne1 colonne2 colonne3 colonne4 colonne5\n",
       "2  2        7.3      TRUE    toto     non     \n",
       "3  7         NA     FALSE    tata             \n",
       "4 10       10.1      TRUE    titi     oui     "
      ]
     },
     "metadata": {},
     "output_type": "display_data"
    }
   ],
   "source": [
    "#cell5.4\n",
    "head(test.data)\n",
    "tail(test.data)\n",
    "test.data[(nrow(test.data)/2-1):(nrow(test.data)/2+1),]"
   ]
  },
  {
   "cell_type": "markdown",
   "metadata": {},
   "source": [
    "---\n",
    "Comment les données manquantes ont-elles été lues ? Remplacez-les par NA si elles n’ont pas été lues comme une donnée manquante.\n",
    "\n",
    "\n",
    "*__Tip :__*\n",
    "_fonctions recommandées : `is.na()`_\n"
   ]
  },
  {
   "cell_type": "code",
   "execution_count": 9,
   "metadata": {},
   "outputs": [
    {
     "data": {
      "text/html": [
       "<table class=\"dataframe\">\n",
       "<caption>A matrix: 6 × 5 of type lgl</caption>\n",
       "<thead>\n",
       "\t<tr><th scope=col>colonne1</th><th scope=col>colonne2</th><th scope=col>colonne3</th><th scope=col>colonne4</th><th scope=col>colonne5</th></tr>\n",
       "</thead>\n",
       "<tbody>\n",
       "\t<tr><td>FALSE</td><td>FALSE</td><td>FALSE</td><td>FALSE</td><td>FALSE</td></tr>\n",
       "\t<tr><td>FALSE</td><td>FALSE</td><td>FALSE</td><td>FALSE</td><td>FALSE</td></tr>\n",
       "\t<tr><td>FALSE</td><td> TRUE</td><td>FALSE</td><td>FALSE</td><td>FALSE</td></tr>\n",
       "\t<tr><td>FALSE</td><td>FALSE</td><td>FALSE</td><td>FALSE</td><td>FALSE</td></tr>\n",
       "\t<tr><td>FALSE</td><td>FALSE</td><td>FALSE</td><td>FALSE</td><td>FALSE</td></tr>\n",
       "\t<tr><td>FALSE</td><td>FALSE</td><td>FALSE</td><td>FALSE</td><td>FALSE</td></tr>\n",
       "</tbody>\n",
       "</table>\n"
      ],
      "text/latex": [
       "A matrix: 6 × 5 of type lgl\n",
       "\\begin{tabular}{lllll}\n",
       " colonne1 & colonne2 & colonne3 & colonne4 & colonne5\\\\\n",
       "\\hline\n",
       "\t FALSE & FALSE & FALSE & FALSE & FALSE\\\\\n",
       "\t FALSE & FALSE & FALSE & FALSE & FALSE\\\\\n",
       "\t FALSE &  TRUE & FALSE & FALSE & FALSE\\\\\n",
       "\t FALSE & FALSE & FALSE & FALSE & FALSE\\\\\n",
       "\t FALSE & FALSE & FALSE & FALSE & FALSE\\\\\n",
       "\t FALSE & FALSE & FALSE & FALSE & FALSE\\\\\n",
       "\\end{tabular}\n"
      ],
      "text/markdown": [
       "\n",
       "A matrix: 6 × 5 of type lgl\n",
       "\n",
       "| colonne1 | colonne2 | colonne3 | colonne4 | colonne5 |\n",
       "|---|---|---|---|---|\n",
       "| FALSE | FALSE | FALSE | FALSE | FALSE |\n",
       "| FALSE | FALSE | FALSE | FALSE | FALSE |\n",
       "| FALSE |  TRUE | FALSE | FALSE | FALSE |\n",
       "| FALSE | FALSE | FALSE | FALSE | FALSE |\n",
       "| FALSE | FALSE | FALSE | FALSE | FALSE |\n",
       "| FALSE | FALSE | FALSE | FALSE | FALSE |\n",
       "\n"
      ],
      "text/plain": [
       "     colonne1 colonne2 colonne3 colonne4 colonne5\n",
       "[1,] FALSE    FALSE    FALSE    FALSE    FALSE   \n",
       "[2,] FALSE    FALSE    FALSE    FALSE    FALSE   \n",
       "[3,] FALSE     TRUE    FALSE    FALSE    FALSE   \n",
       "[4,] FALSE    FALSE    FALSE    FALSE    FALSE   \n",
       "[5,] FALSE    FALSE    FALSE    FALSE    FALSE   \n",
       "[6,] FALSE    FALSE    FALSE    FALSE    FALSE   "
      ]
     },
     "metadata": {},
     "output_type": "display_data"
    }
   ],
   "source": [
    "#cell6\n",
    "is.na(test.data) "
   ]
  },
  {
   "cell_type": "markdown",
   "metadata": {
    "tags": []
   },
   "source": [
    "> Ci-dessus, vous observerez que seule la case `[3,2]` est lue comme une donnée manquante alors que la case `[3,5]` qui était vide dans le fichier `test.txt`n'est pas lue comme une donnee manquante -> cf. help de read.table() pour l'argument `na.strings` de la fonction `read.table()`. En effet, par défaut, seules les données `NA` d'un vecteur de _caractères_ sont considerées comme des données manquantes, alors que pour les autres vecteurs (logical, integer, numeric et complex fields) les cases vides sont bien lues comme des donnees manquantes. Ici, dans la colonne 5 du fichier `test.txt` nous avions des chaines de caractères. Comme il n'était pas écrit `NA` la case a était remplie dans le dataframe avec `\"\"` au lieu de NA.\n",
    "> Pour lire la case `[3,5]` comme une donnée manquante, on aurait pu taper la commande ci-dessous en précisant l'argument `na.strings=\"\"`  pour reconnaitre une case vide de chaine de caractères."
   ]
  },
  {
   "cell_type": "code",
   "execution_count": 10,
   "metadata": {},
   "outputs": [
    {
     "data": {
      "text/html": [
       "<table class=\"dataframe\">\n",
       "<caption>A data.frame: 6 × 5</caption>\n",
       "<thead>\n",
       "\t<tr><th scope=col>colonne1</th><th scope=col>colonne2</th><th scope=col>colonne3</th><th scope=col>colonne4</th><th scope=col>colonne5</th></tr>\n",
       "\t<tr><th scope=col>&lt;int&gt;</th><th scope=col>&lt;dbl&gt;</th><th scope=col>&lt;lgl&gt;</th><th scope=col>&lt;chr&gt;</th><th scope=col>&lt;chr&gt;</th></tr>\n",
       "</thead>\n",
       "<tbody>\n",
       "\t<tr><td> 3</td><td> 2.2</td><td> TRUE</td><td>toto</td><td>oui</td></tr>\n",
       "\t<tr><td> 2</td><td> 7.3</td><td> TRUE</td><td>toto</td><td>non</td></tr>\n",
       "\t<tr><td> 7</td><td>  NA</td><td>FALSE</td><td>tata</td><td>NA </td></tr>\n",
       "\t<tr><td>10</td><td>10.1</td><td> TRUE</td><td>titi</td><td>oui</td></tr>\n",
       "\t<tr><td> 2</td><td> 8.9</td><td> TRUE</td><td>toto</td><td>oui</td></tr>\n",
       "\t<tr><td> 1</td><td> 3.2</td><td>FALSE</td><td>tutu</td><td>non</td></tr>\n",
       "</tbody>\n",
       "</table>\n"
      ],
      "text/latex": [
       "A data.frame: 6 × 5\n",
       "\\begin{tabular}{lllll}\n",
       " colonne1 & colonne2 & colonne3 & colonne4 & colonne5\\\\\n",
       " <int> & <dbl> & <lgl> & <chr> & <chr>\\\\\n",
       "\\hline\n",
       "\t  3 &  2.2 &  TRUE & toto & oui\\\\\n",
       "\t  2 &  7.3 &  TRUE & toto & non\\\\\n",
       "\t  7 &   NA & FALSE & tata & NA \\\\\n",
       "\t 10 & 10.1 &  TRUE & titi & oui\\\\\n",
       "\t  2 &  8.9 &  TRUE & toto & oui\\\\\n",
       "\t  1 &  3.2 & FALSE & tutu & non\\\\\n",
       "\\end{tabular}\n"
      ],
      "text/markdown": [
       "\n",
       "A data.frame: 6 × 5\n",
       "\n",
       "| colonne1 &lt;int&gt; | colonne2 &lt;dbl&gt; | colonne3 &lt;lgl&gt; | colonne4 &lt;chr&gt; | colonne5 &lt;chr&gt; |\n",
       "|---|---|---|---|---|\n",
       "|  3 |  2.2 |  TRUE | toto | oui |\n",
       "|  2 |  7.3 |  TRUE | toto | non |\n",
       "|  7 |   NA | FALSE | tata | NA  |\n",
       "| 10 | 10.1 |  TRUE | titi | oui |\n",
       "|  2 |  8.9 |  TRUE | toto | oui |\n",
       "|  1 |  3.2 | FALSE | tutu | non |\n",
       "\n"
      ],
      "text/plain": [
       "  colonne1 colonne2 colonne3 colonne4 colonne5\n",
       "1  3        2.2      TRUE    toto     oui     \n",
       "2  2        7.3      TRUE    toto     non     \n",
       "3  7         NA     FALSE    tata     NA      \n",
       "4 10       10.1      TRUE    titi     oui     \n",
       "5  2        8.9      TRUE    toto     oui     \n",
       "6  1        3.2     FALSE    tutu     non     "
      ]
     },
     "metadata": {},
     "output_type": "display_data"
    }
   ],
   "source": [
    "#cell6.2\n",
    "read.table(\"test.txt\",sep=\"\\t\", header = T, stringsAsFactors = F,  fill = TRUE, na.strings= \"\")"
   ]
  },
  {
   "cell_type": "markdown",
   "metadata": {},
   "source": [
    "> Avec l'objet `test.data` créé plus haut, je remplace la case vide `[3,5]` par une donnée manquante:"
   ]
  },
  {
   "cell_type": "code",
   "execution_count": 11,
   "metadata": {},
   "outputs": [
    {
     "data": {
      "text/html": [
       "<table class=\"dataframe\">\n",
       "<caption>A data.frame: 6 × 5</caption>\n",
       "<thead>\n",
       "\t<tr><th scope=col>colonne1</th><th scope=col>colonne2</th><th scope=col>colonne3</th><th scope=col>colonne4</th><th scope=col>colonne5</th></tr>\n",
       "\t<tr><th scope=col>&lt;int&gt;</th><th scope=col>&lt;dbl&gt;</th><th scope=col>&lt;lgl&gt;</th><th scope=col>&lt;chr&gt;</th><th scope=col>&lt;chr&gt;</th></tr>\n",
       "</thead>\n",
       "<tbody>\n",
       "\t<tr><td> 3</td><td> 2.2</td><td> TRUE</td><td>toto</td><td>oui</td></tr>\n",
       "\t<tr><td> 2</td><td> 7.3</td><td> TRUE</td><td>toto</td><td>non</td></tr>\n",
       "\t<tr><td> 7</td><td>  NA</td><td>FALSE</td><td>tata</td><td>NA </td></tr>\n",
       "\t<tr><td>10</td><td>10.1</td><td> TRUE</td><td>titi</td><td>oui</td></tr>\n",
       "\t<tr><td> 2</td><td> 8.9</td><td> TRUE</td><td>toto</td><td>oui</td></tr>\n",
       "\t<tr><td> 1</td><td> 3.2</td><td>FALSE</td><td>tutu</td><td>non</td></tr>\n",
       "</tbody>\n",
       "</table>\n"
      ],
      "text/latex": [
       "A data.frame: 6 × 5\n",
       "\\begin{tabular}{lllll}\n",
       " colonne1 & colonne2 & colonne3 & colonne4 & colonne5\\\\\n",
       " <int> & <dbl> & <lgl> & <chr> & <chr>\\\\\n",
       "\\hline\n",
       "\t  3 &  2.2 &  TRUE & toto & oui\\\\\n",
       "\t  2 &  7.3 &  TRUE & toto & non\\\\\n",
       "\t  7 &   NA & FALSE & tata & NA \\\\\n",
       "\t 10 & 10.1 &  TRUE & titi & oui\\\\\n",
       "\t  2 &  8.9 &  TRUE & toto & oui\\\\\n",
       "\t  1 &  3.2 & FALSE & tutu & non\\\\\n",
       "\\end{tabular}\n"
      ],
      "text/markdown": [
       "\n",
       "A data.frame: 6 × 5\n",
       "\n",
       "| colonne1 &lt;int&gt; | colonne2 &lt;dbl&gt; | colonne3 &lt;lgl&gt; | colonne4 &lt;chr&gt; | colonne5 &lt;chr&gt; |\n",
       "|---|---|---|---|---|\n",
       "|  3 |  2.2 |  TRUE | toto | oui |\n",
       "|  2 |  7.3 |  TRUE | toto | non |\n",
       "|  7 |   NA | FALSE | tata | NA  |\n",
       "| 10 | 10.1 |  TRUE | titi | oui |\n",
       "|  2 |  8.9 |  TRUE | toto | oui |\n",
       "|  1 |  3.2 | FALSE | tutu | non |\n",
       "\n"
      ],
      "text/plain": [
       "  colonne1 colonne2 colonne3 colonne4 colonne5\n",
       "1  3        2.2      TRUE    toto     oui     \n",
       "2  2        7.3      TRUE    toto     non     \n",
       "3  7         NA     FALSE    tata     NA      \n",
       "4 10       10.1      TRUE    titi     oui     \n",
       "5  2        8.9      TRUE    toto     oui     \n",
       "6  1        3.2     FALSE    tutu     non     "
      ]
     },
     "metadata": {},
     "output_type": "display_data"
    }
   ],
   "source": [
    "#cell6.3\n",
    "test.data[3,5] <- NA\n",
    "test.data"
   ]
  },
  {
   "cell_type": "markdown",
   "metadata": {},
   "source": [
    "---\n",
    "Déplacez la colonne 1 en dernière colonne."
   ]
  },
  {
   "cell_type": "code",
   "execution_count": 12,
   "metadata": {},
   "outputs": [
    {
     "data": {
      "text/html": [
       "<table class=\"dataframe\">\n",
       "<caption>A data.frame: 6 × 5</caption>\n",
       "<thead>\n",
       "\t<tr><th scope=col>colonne2</th><th scope=col>colonne3</th><th scope=col>colonne4</th><th scope=col>colonne5</th><th scope=col>colonne1</th></tr>\n",
       "\t<tr><th scope=col>&lt;dbl&gt;</th><th scope=col>&lt;lgl&gt;</th><th scope=col>&lt;chr&gt;</th><th scope=col>&lt;chr&gt;</th><th scope=col>&lt;int&gt;</th></tr>\n",
       "</thead>\n",
       "<tbody>\n",
       "\t<tr><td> 2.2</td><td> TRUE</td><td>toto</td><td>oui</td><td> 3</td></tr>\n",
       "\t<tr><td> 7.3</td><td> TRUE</td><td>toto</td><td>non</td><td> 2</td></tr>\n",
       "\t<tr><td>  NA</td><td>FALSE</td><td>tata</td><td>NA </td><td> 7</td></tr>\n",
       "\t<tr><td>10.1</td><td> TRUE</td><td>titi</td><td>oui</td><td>10</td></tr>\n",
       "\t<tr><td> 8.9</td><td> TRUE</td><td>toto</td><td>oui</td><td> 2</td></tr>\n",
       "\t<tr><td> 3.2</td><td>FALSE</td><td>tutu</td><td>non</td><td> 1</td></tr>\n",
       "</tbody>\n",
       "</table>\n"
      ],
      "text/latex": [
       "A data.frame: 6 × 5\n",
       "\\begin{tabular}{lllll}\n",
       " colonne2 & colonne3 & colonne4 & colonne5 & colonne1\\\\\n",
       " <dbl> & <lgl> & <chr> & <chr> & <int>\\\\\n",
       "\\hline\n",
       "\t  2.2 &  TRUE & toto & oui &  3\\\\\n",
       "\t  7.3 &  TRUE & toto & non &  2\\\\\n",
       "\t   NA & FALSE & tata & NA  &  7\\\\\n",
       "\t 10.1 &  TRUE & titi & oui & 10\\\\\n",
       "\t  8.9 &  TRUE & toto & oui &  2\\\\\n",
       "\t  3.2 & FALSE & tutu & non &  1\\\\\n",
       "\\end{tabular}\n"
      ],
      "text/markdown": [
       "\n",
       "A data.frame: 6 × 5\n",
       "\n",
       "| colonne2 &lt;dbl&gt; | colonne3 &lt;lgl&gt; | colonne4 &lt;chr&gt; | colonne5 &lt;chr&gt; | colonne1 &lt;int&gt; |\n",
       "|---|---|---|---|---|\n",
       "|  2.2 |  TRUE | toto | oui |  3 |\n",
       "|  7.3 |  TRUE | toto | non |  2 |\n",
       "|   NA | FALSE | tata | NA  |  7 |\n",
       "| 10.1 |  TRUE | titi | oui | 10 |\n",
       "|  8.9 |  TRUE | toto | oui |  2 |\n",
       "|  3.2 | FALSE | tutu | non |  1 |\n",
       "\n"
      ],
      "text/plain": [
       "  colonne2 colonne3 colonne4 colonne5 colonne1\n",
       "1  2.2      TRUE    toto     oui       3      \n",
       "2  7.3      TRUE    toto     non       2      \n",
       "3   NA     FALSE    tata     NA        7      \n",
       "4 10.1      TRUE    titi     oui      10      \n",
       "5  8.9      TRUE    toto     oui       2      \n",
       "6  3.2     FALSE    tutu     non       1      "
      ]
     },
     "metadata": {},
     "output_type": "display_data"
    }
   ],
   "source": [
    "#cell7\n",
    "test.data <- test.data[,c(2:5,1)]\n",
    "test.data"
   ]
  },
  {
   "cell_type": "markdown",
   "metadata": {},
   "source": [
    "---\n",
    "Renommez les colonnes colA, colB, colC, colD, colE… dans le nouvel ordre obtenu.\n",
    "\n",
    "*__Tip :__*\n",
    "_fonctions recommandées : `names()`, `paste()`, `LETTERS`_"
   ]
  },
  {
   "cell_type": "code",
   "execution_count": 13,
   "metadata": {},
   "outputs": [
    {
     "name": "stdout",
     "output_type": "stream",
     "text": [
      "  colA  colB colC colD colE\n",
      "1  2.2  TRUE toto  oui    3\n",
      "2  7.3  TRUE toto  non    2\n",
      "3   NA FALSE tata <NA>    7\n",
      "4 10.1  TRUE titi  oui   10\n",
      "5  8.9  TRUE toto  oui    2\n",
      "6  3.2 FALSE tutu  non    1\n"
     ]
    },
    {
     "data": {
      "text/html": [
       "<table class=\"dataframe\">\n",
       "<caption>A data.frame: 6 × 5</caption>\n",
       "<thead>\n",
       "\t<tr><th scope=col>colA</th><th scope=col>colB</th><th scope=col>colC</th><th scope=col>colD</th><th scope=col>colE</th></tr>\n",
       "\t<tr><th scope=col>&lt;dbl&gt;</th><th scope=col>&lt;lgl&gt;</th><th scope=col>&lt;chr&gt;</th><th scope=col>&lt;chr&gt;</th><th scope=col>&lt;int&gt;</th></tr>\n",
       "</thead>\n",
       "<tbody>\n",
       "\t<tr><td> 2.2</td><td> TRUE</td><td>toto</td><td>oui</td><td> 3</td></tr>\n",
       "\t<tr><td> 7.3</td><td> TRUE</td><td>toto</td><td>non</td><td> 2</td></tr>\n",
       "\t<tr><td>  NA</td><td>FALSE</td><td>tata</td><td>NA </td><td> 7</td></tr>\n",
       "\t<tr><td>10.1</td><td> TRUE</td><td>titi</td><td>oui</td><td>10</td></tr>\n",
       "\t<tr><td> 8.9</td><td> TRUE</td><td>toto</td><td>oui</td><td> 2</td></tr>\n",
       "\t<tr><td> 3.2</td><td>FALSE</td><td>tutu</td><td>non</td><td> 1</td></tr>\n",
       "</tbody>\n",
       "</table>\n"
      ],
      "text/latex": [
       "A data.frame: 6 × 5\n",
       "\\begin{tabular}{lllll}\n",
       " colA & colB & colC & colD & colE\\\\\n",
       " <dbl> & <lgl> & <chr> & <chr> & <int>\\\\\n",
       "\\hline\n",
       "\t  2.2 &  TRUE & toto & oui &  3\\\\\n",
       "\t  7.3 &  TRUE & toto & non &  2\\\\\n",
       "\t   NA & FALSE & tata & NA  &  7\\\\\n",
       "\t 10.1 &  TRUE & titi & oui & 10\\\\\n",
       "\t  8.9 &  TRUE & toto & oui &  2\\\\\n",
       "\t  3.2 & FALSE & tutu & non &  1\\\\\n",
       "\\end{tabular}\n"
      ],
      "text/markdown": [
       "\n",
       "A data.frame: 6 × 5\n",
       "\n",
       "| colA &lt;dbl&gt; | colB &lt;lgl&gt; | colC &lt;chr&gt; | colD &lt;chr&gt; | colE &lt;int&gt; |\n",
       "|---|---|---|---|---|\n",
       "|  2.2 |  TRUE | toto | oui |  3 |\n",
       "|  7.3 |  TRUE | toto | non |  2 |\n",
       "|   NA | FALSE | tata | NA  |  7 |\n",
       "| 10.1 |  TRUE | titi | oui | 10 |\n",
       "|  8.9 |  TRUE | toto | oui |  2 |\n",
       "|  3.2 | FALSE | tutu | non |  1 |\n",
       "\n"
      ],
      "text/plain": [
       "  colA colB  colC colD colE\n",
       "1  2.2  TRUE toto oui   3  \n",
       "2  7.3  TRUE toto non   2  \n",
       "3   NA FALSE tata NA    7  \n",
       "4 10.1  TRUE titi oui  10  \n",
       "5  8.9  TRUE toto oui   2  \n",
       "6  3.2 FALSE tutu non   1  "
      ]
     },
     "metadata": {},
     "output_type": "display_data"
    }
   ],
   "source": [
    "#cell8\n",
    "names(test.data) <- paste(\"col\", LETTERS[1:5], sep =\"\")\n",
    "print(test.data)\n",
    "test.data # regardez ici l'affichage des lignes avec chaque méthode d'affichage"
   ]
  },
  {
   "cell_type": "markdown",
   "metadata": {},
   "source": [
    "---\n",
    "Supprimez la deuxième ligne."
   ]
  },
  {
   "cell_type": "code",
   "execution_count": 14,
   "metadata": {},
   "outputs": [
    {
     "data": {
      "text/html": [
       "<table class=\"dataframe\">\n",
       "<caption>A data.frame: 5 × 5</caption>\n",
       "<thead>\n",
       "\t<tr><th></th><th scope=col>colA</th><th scope=col>colB</th><th scope=col>colC</th><th scope=col>colD</th><th scope=col>colE</th></tr>\n",
       "\t<tr><th></th><th scope=col>&lt;dbl&gt;</th><th scope=col>&lt;lgl&gt;</th><th scope=col>&lt;chr&gt;</th><th scope=col>&lt;chr&gt;</th><th scope=col>&lt;int&gt;</th></tr>\n",
       "</thead>\n",
       "<tbody>\n",
       "\t<tr><th scope=row>1</th><td> 2.2</td><td> TRUE</td><td>toto</td><td>oui</td><td> 3</td></tr>\n",
       "\t<tr><th scope=row>3</th><td>  NA</td><td>FALSE</td><td>tata</td><td>NA </td><td> 7</td></tr>\n",
       "\t<tr><th scope=row>4</th><td>10.1</td><td> TRUE</td><td>titi</td><td>oui</td><td>10</td></tr>\n",
       "\t<tr><th scope=row>5</th><td> 8.9</td><td> TRUE</td><td>toto</td><td>oui</td><td> 2</td></tr>\n",
       "\t<tr><th scope=row>6</th><td> 3.2</td><td>FALSE</td><td>tutu</td><td>non</td><td> 1</td></tr>\n",
       "</tbody>\n",
       "</table>\n"
      ],
      "text/latex": [
       "A data.frame: 5 × 5\n",
       "\\begin{tabular}{r|lllll}\n",
       "  & colA & colB & colC & colD & colE\\\\\n",
       "  & <dbl> & <lgl> & <chr> & <chr> & <int>\\\\\n",
       "\\hline\n",
       "\t1 &  2.2 &  TRUE & toto & oui &  3\\\\\n",
       "\t3 &   NA & FALSE & tata & NA  &  7\\\\\n",
       "\t4 & 10.1 &  TRUE & titi & oui & 10\\\\\n",
       "\t5 &  8.9 &  TRUE & toto & oui &  2\\\\\n",
       "\t6 &  3.2 & FALSE & tutu & non &  1\\\\\n",
       "\\end{tabular}\n"
      ],
      "text/markdown": [
       "\n",
       "A data.frame: 5 × 5\n",
       "\n",
       "| <!--/--> | colA &lt;dbl&gt; | colB &lt;lgl&gt; | colC &lt;chr&gt; | colD &lt;chr&gt; | colE &lt;int&gt; |\n",
       "|---|---|---|---|---|---|\n",
       "| 1 |  2.2 |  TRUE | toto | oui |  3 |\n",
       "| 3 |   NA | FALSE | tata | NA  |  7 |\n",
       "| 4 | 10.1 |  TRUE | titi | oui | 10 |\n",
       "| 5 |  8.9 |  TRUE | toto | oui |  2 |\n",
       "| 6 |  3.2 | FALSE | tutu | non |  1 |\n",
       "\n"
      ],
      "text/plain": [
       "  colA colB  colC colD colE\n",
       "1  2.2  TRUE toto oui   3  \n",
       "3   NA FALSE tata NA    7  \n",
       "4 10.1  TRUE titi oui  10  \n",
       "5  8.9  TRUE toto oui   2  \n",
       "6  3.2 FALSE tutu non   1  "
      ]
     },
     "metadata": {},
     "output_type": "display_data"
    }
   ],
   "source": [
    "#cell9\n",
    "test.data <- test.data[-2,]\n",
    "test.data"
   ]
  },
  {
   "cell_type": "markdown",
   "metadata": {},
   "source": [
    "> Vous noterez ci-dessus que la ligne 2 ayant été supprimée, la méthode d'affichage dans le notebook indique désormais le nom de la ligne initiale."
   ]
  },
  {
   "cell_type": "markdown",
   "metadata": {},
   "source": [
    "---\n",
    "Ajoutez une colonne de valeurs numériques obtenues en divisant les valeurs de la colE par les valeurs de la colA.\n",
    "\n"
   ]
  },
  {
   "cell_type": "code",
   "execution_count": 15,
   "metadata": {},
   "outputs": [
    {
     "data": {
      "text/html": [
       "<table class=\"dataframe\">\n",
       "<caption>A data.frame: 5 × 6</caption>\n",
       "<thead>\n",
       "\t<tr><th></th><th scope=col>colA</th><th scope=col>colB</th><th scope=col>colC</th><th scope=col>colD</th><th scope=col>colE</th><th scope=col>EbyA</th></tr>\n",
       "\t<tr><th></th><th scope=col>&lt;dbl&gt;</th><th scope=col>&lt;lgl&gt;</th><th scope=col>&lt;chr&gt;</th><th scope=col>&lt;chr&gt;</th><th scope=col>&lt;int&gt;</th><th scope=col>&lt;dbl&gt;</th></tr>\n",
       "</thead>\n",
       "<tbody>\n",
       "\t<tr><th scope=row>1</th><td> 2.2</td><td> TRUE</td><td>toto</td><td>oui</td><td> 3</td><td>1.3636364</td></tr>\n",
       "\t<tr><th scope=row>3</th><td>  NA</td><td>FALSE</td><td>tata</td><td>NA </td><td> 7</td><td>       NA</td></tr>\n",
       "\t<tr><th scope=row>4</th><td>10.1</td><td> TRUE</td><td>titi</td><td>oui</td><td>10</td><td>0.9900990</td></tr>\n",
       "\t<tr><th scope=row>5</th><td> 8.9</td><td> TRUE</td><td>toto</td><td>oui</td><td> 2</td><td>0.2247191</td></tr>\n",
       "\t<tr><th scope=row>6</th><td> 3.2</td><td>FALSE</td><td>tutu</td><td>non</td><td> 1</td><td>0.3125000</td></tr>\n",
       "</tbody>\n",
       "</table>\n"
      ],
      "text/latex": [
       "A data.frame: 5 × 6\n",
       "\\begin{tabular}{r|llllll}\n",
       "  & colA & colB & colC & colD & colE & EbyA\\\\\n",
       "  & <dbl> & <lgl> & <chr> & <chr> & <int> & <dbl>\\\\\n",
       "\\hline\n",
       "\t1 &  2.2 &  TRUE & toto & oui &  3 & 1.3636364\\\\\n",
       "\t3 &   NA & FALSE & tata & NA  &  7 &        NA\\\\\n",
       "\t4 & 10.1 &  TRUE & titi & oui & 10 & 0.9900990\\\\\n",
       "\t5 &  8.9 &  TRUE & toto & oui &  2 & 0.2247191\\\\\n",
       "\t6 &  3.2 & FALSE & tutu & non &  1 & 0.3125000\\\\\n",
       "\\end{tabular}\n"
      ],
      "text/markdown": [
       "\n",
       "A data.frame: 5 × 6\n",
       "\n",
       "| <!--/--> | colA &lt;dbl&gt; | colB &lt;lgl&gt; | colC &lt;chr&gt; | colD &lt;chr&gt; | colE &lt;int&gt; | EbyA &lt;dbl&gt; |\n",
       "|---|---|---|---|---|---|---|\n",
       "| 1 |  2.2 |  TRUE | toto | oui |  3 | 1.3636364 |\n",
       "| 3 |   NA | FALSE | tata | NA  |  7 |        NA |\n",
       "| 4 | 10.1 |  TRUE | titi | oui | 10 | 0.9900990 |\n",
       "| 5 |  8.9 |  TRUE | toto | oui |  2 | 0.2247191 |\n",
       "| 6 |  3.2 | FALSE | tutu | non |  1 | 0.3125000 |\n",
       "\n"
      ],
      "text/plain": [
       "  colA colB  colC colD colE EbyA     \n",
       "1  2.2  TRUE toto oui   3   1.3636364\n",
       "3   NA FALSE tata NA    7          NA\n",
       "4 10.1  TRUE titi oui  10   0.9900990\n",
       "5  8.9  TRUE toto oui   2   0.2247191\n",
       "6  3.2 FALSE tutu non   1   0.3125000"
      ]
     },
     "metadata": {},
     "output_type": "display_data"
    }
   ],
   "source": [
    "#cell10\n",
    "test.data$EbyA <- test.data$colE/test.data$colA\n",
    "test.data"
   ]
  },
  {
   "cell_type": "markdown",
   "metadata": {},
   "source": [
    "---\n",
    "Dans la colC, remplacez les valeurs `toto` par `tata` et vice-versa.\n",
    "\n"
   ]
  },
  {
   "cell_type": "code",
   "execution_count": 16,
   "metadata": {},
   "outputs": [
    {
     "data": {
      "text/html": [
       "<table class=\"dataframe\">\n",
       "<caption>A data.frame: 5 × 6</caption>\n",
       "<thead>\n",
       "\t<tr><th></th><th scope=col>colA</th><th scope=col>colB</th><th scope=col>colC</th><th scope=col>colD</th><th scope=col>colE</th><th scope=col>EbyA</th></tr>\n",
       "\t<tr><th></th><th scope=col>&lt;dbl&gt;</th><th scope=col>&lt;lgl&gt;</th><th scope=col>&lt;chr&gt;</th><th scope=col>&lt;chr&gt;</th><th scope=col>&lt;int&gt;</th><th scope=col>&lt;dbl&gt;</th></tr>\n",
       "</thead>\n",
       "<tbody>\n",
       "\t<tr><th scope=row>1</th><td> 2.2</td><td> TRUE</td><td>otot</td><td>oui</td><td> 3</td><td>1.3636364</td></tr>\n",
       "\t<tr><th scope=row>3</th><td>  NA</td><td>FALSE</td><td>tata</td><td>NA </td><td> 7</td><td>       NA</td></tr>\n",
       "\t<tr><th scope=row>4</th><td>10.1</td><td> TRUE</td><td>titi</td><td>oui</td><td>10</td><td>0.9900990</td></tr>\n",
       "\t<tr><th scope=row>5</th><td> 8.9</td><td> TRUE</td><td>otot</td><td>oui</td><td> 2</td><td>0.2247191</td></tr>\n",
       "\t<tr><th scope=row>6</th><td> 3.2</td><td>FALSE</td><td>tutu</td><td>non</td><td> 1</td><td>0.3125000</td></tr>\n",
       "</tbody>\n",
       "</table>\n"
      ],
      "text/latex": [
       "A data.frame: 5 × 6\n",
       "\\begin{tabular}{r|llllll}\n",
       "  & colA & colB & colC & colD & colE & EbyA\\\\\n",
       "  & <dbl> & <lgl> & <chr> & <chr> & <int> & <dbl>\\\\\n",
       "\\hline\n",
       "\t1 &  2.2 &  TRUE & otot & oui &  3 & 1.3636364\\\\\n",
       "\t3 &   NA & FALSE & tata & NA  &  7 &        NA\\\\\n",
       "\t4 & 10.1 &  TRUE & titi & oui & 10 & 0.9900990\\\\\n",
       "\t5 &  8.9 &  TRUE & otot & oui &  2 & 0.2247191\\\\\n",
       "\t6 &  3.2 & FALSE & tutu & non &  1 & 0.3125000\\\\\n",
       "\\end{tabular}\n"
      ],
      "text/markdown": [
       "\n",
       "A data.frame: 5 × 6\n",
       "\n",
       "| <!--/--> | colA &lt;dbl&gt; | colB &lt;lgl&gt; | colC &lt;chr&gt; | colD &lt;chr&gt; | colE &lt;int&gt; | EbyA &lt;dbl&gt; |\n",
       "|---|---|---|---|---|---|---|\n",
       "| 1 |  2.2 |  TRUE | otot | oui |  3 | 1.3636364 |\n",
       "| 3 |   NA | FALSE | tata | NA  |  7 |        NA |\n",
       "| 4 | 10.1 |  TRUE | titi | oui | 10 | 0.9900990 |\n",
       "| 5 |  8.9 |  TRUE | otot | oui |  2 | 0.2247191 |\n",
       "| 6 |  3.2 | FALSE | tutu | non |  1 | 0.3125000 |\n",
       "\n"
      ],
      "text/plain": [
       "  colA colB  colC colD colE EbyA     \n",
       "1  2.2  TRUE otot oui   3   1.3636364\n",
       "3   NA FALSE tata NA    7          NA\n",
       "4 10.1  TRUE titi oui  10   0.9900990\n",
       "5  8.9  TRUE otot oui   2   0.2247191\n",
       "6  3.2 FALSE tutu non   1   0.3125000"
      ]
     },
     "metadata": {},
     "output_type": "display_data"
    },
    {
     "data": {
      "text/html": [
       "<table class=\"dataframe\">\n",
       "<caption>A data.frame: 5 × 6</caption>\n",
       "<thead>\n",
       "\t<tr><th></th><th scope=col>colA</th><th scope=col>colB</th><th scope=col>colC</th><th scope=col>colD</th><th scope=col>colE</th><th scope=col>EbyA</th></tr>\n",
       "\t<tr><th></th><th scope=col>&lt;dbl&gt;</th><th scope=col>&lt;lgl&gt;</th><th scope=col>&lt;chr&gt;</th><th scope=col>&lt;chr&gt;</th><th scope=col>&lt;int&gt;</th><th scope=col>&lt;dbl&gt;</th></tr>\n",
       "</thead>\n",
       "<tbody>\n",
       "\t<tr><th scope=row>1</th><td> 2.2</td><td> TRUE</td><td>otot</td><td>oui</td><td> 3</td><td>1.3636364</td></tr>\n",
       "\t<tr><th scope=row>3</th><td>  NA</td><td>FALSE</td><td>toto</td><td>NA </td><td> 7</td><td>       NA</td></tr>\n",
       "\t<tr><th scope=row>4</th><td>10.1</td><td> TRUE</td><td>titi</td><td>oui</td><td>10</td><td>0.9900990</td></tr>\n",
       "\t<tr><th scope=row>5</th><td> 8.9</td><td> TRUE</td><td>otot</td><td>oui</td><td> 2</td><td>0.2247191</td></tr>\n",
       "\t<tr><th scope=row>6</th><td> 3.2</td><td>FALSE</td><td>tutu</td><td>non</td><td> 1</td><td>0.3125000</td></tr>\n",
       "</tbody>\n",
       "</table>\n"
      ],
      "text/latex": [
       "A data.frame: 5 × 6\n",
       "\\begin{tabular}{r|llllll}\n",
       "  & colA & colB & colC & colD & colE & EbyA\\\\\n",
       "  & <dbl> & <lgl> & <chr> & <chr> & <int> & <dbl>\\\\\n",
       "\\hline\n",
       "\t1 &  2.2 &  TRUE & otot & oui &  3 & 1.3636364\\\\\n",
       "\t3 &   NA & FALSE & toto & NA  &  7 &        NA\\\\\n",
       "\t4 & 10.1 &  TRUE & titi & oui & 10 & 0.9900990\\\\\n",
       "\t5 &  8.9 &  TRUE & otot & oui &  2 & 0.2247191\\\\\n",
       "\t6 &  3.2 & FALSE & tutu & non &  1 & 0.3125000\\\\\n",
       "\\end{tabular}\n"
      ],
      "text/markdown": [
       "\n",
       "A data.frame: 5 × 6\n",
       "\n",
       "| <!--/--> | colA &lt;dbl&gt; | colB &lt;lgl&gt; | colC &lt;chr&gt; | colD &lt;chr&gt; | colE &lt;int&gt; | EbyA &lt;dbl&gt; |\n",
       "|---|---|---|---|---|---|---|\n",
       "| 1 |  2.2 |  TRUE | otot | oui |  3 | 1.3636364 |\n",
       "| 3 |   NA | FALSE | toto | NA  |  7 |        NA |\n",
       "| 4 | 10.1 |  TRUE | titi | oui | 10 | 0.9900990 |\n",
       "| 5 |  8.9 |  TRUE | otot | oui |  2 | 0.2247191 |\n",
       "| 6 |  3.2 | FALSE | tutu | non |  1 | 0.3125000 |\n",
       "\n"
      ],
      "text/plain": [
       "  colA colB  colC colD colE EbyA     \n",
       "1  2.2  TRUE otot oui   3   1.3636364\n",
       "3   NA FALSE toto NA    7          NA\n",
       "4 10.1  TRUE titi oui  10   0.9900990\n",
       "5  8.9  TRUE otot oui   2   0.2247191\n",
       "6  3.2 FALSE tutu non   1   0.3125000"
      ]
     },
     "metadata": {},
     "output_type": "display_data"
    },
    {
     "data": {
      "text/html": [
       "<table class=\"dataframe\">\n",
       "<caption>A data.frame: 5 × 6</caption>\n",
       "<thead>\n",
       "\t<tr><th></th><th scope=col>colA</th><th scope=col>colB</th><th scope=col>colC</th><th scope=col>colD</th><th scope=col>colE</th><th scope=col>EbyA</th></tr>\n",
       "\t<tr><th></th><th scope=col>&lt;dbl&gt;</th><th scope=col>&lt;lgl&gt;</th><th scope=col>&lt;chr&gt;</th><th scope=col>&lt;chr&gt;</th><th scope=col>&lt;int&gt;</th><th scope=col>&lt;dbl&gt;</th></tr>\n",
       "</thead>\n",
       "<tbody>\n",
       "\t<tr><th scope=row>1</th><td> 2.2</td><td> TRUE</td><td>tata</td><td>oui</td><td> 3</td><td>1.3636364</td></tr>\n",
       "\t<tr><th scope=row>3</th><td>  NA</td><td>FALSE</td><td>toto</td><td>NA </td><td> 7</td><td>       NA</td></tr>\n",
       "\t<tr><th scope=row>4</th><td>10.1</td><td> TRUE</td><td>titi</td><td>oui</td><td>10</td><td>0.9900990</td></tr>\n",
       "\t<tr><th scope=row>5</th><td> 8.9</td><td> TRUE</td><td>tata</td><td>oui</td><td> 2</td><td>0.2247191</td></tr>\n",
       "\t<tr><th scope=row>6</th><td> 3.2</td><td>FALSE</td><td>tutu</td><td>non</td><td> 1</td><td>0.3125000</td></tr>\n",
       "</tbody>\n",
       "</table>\n"
      ],
      "text/latex": [
       "A data.frame: 5 × 6\n",
       "\\begin{tabular}{r|llllll}\n",
       "  & colA & colB & colC & colD & colE & EbyA\\\\\n",
       "  & <dbl> & <lgl> & <chr> & <chr> & <int> & <dbl>\\\\\n",
       "\\hline\n",
       "\t1 &  2.2 &  TRUE & tata & oui &  3 & 1.3636364\\\\\n",
       "\t3 &   NA & FALSE & toto & NA  &  7 &        NA\\\\\n",
       "\t4 & 10.1 &  TRUE & titi & oui & 10 & 0.9900990\\\\\n",
       "\t5 &  8.9 &  TRUE & tata & oui &  2 & 0.2247191\\\\\n",
       "\t6 &  3.2 & FALSE & tutu & non &  1 & 0.3125000\\\\\n",
       "\\end{tabular}\n"
      ],
      "text/markdown": [
       "\n",
       "A data.frame: 5 × 6\n",
       "\n",
       "| <!--/--> | colA &lt;dbl&gt; | colB &lt;lgl&gt; | colC &lt;chr&gt; | colD &lt;chr&gt; | colE &lt;int&gt; | EbyA &lt;dbl&gt; |\n",
       "|---|---|---|---|---|---|---|\n",
       "| 1 |  2.2 |  TRUE | tata | oui |  3 | 1.3636364 |\n",
       "| 3 |   NA | FALSE | toto | NA  |  7 |        NA |\n",
       "| 4 | 10.1 |  TRUE | titi | oui | 10 | 0.9900990 |\n",
       "| 5 |  8.9 |  TRUE | tata | oui |  2 | 0.2247191 |\n",
       "| 6 |  3.2 | FALSE | tutu | non |  1 | 0.3125000 |\n",
       "\n"
      ],
      "text/plain": [
       "  colA colB  colC colD colE EbyA     \n",
       "1  2.2  TRUE tata oui   3   1.3636364\n",
       "3   NA FALSE toto NA    7          NA\n",
       "4 10.1  TRUE titi oui  10   0.9900990\n",
       "5  8.9  TRUE tata oui   2   0.2247191\n",
       "6  3.2 FALSE tutu non   1   0.3125000"
      ]
     },
     "metadata": {},
     "output_type": "display_data"
    }
   ],
   "source": [
    "#cell11\n",
    "test.data[which(test.data$colC == \"toto\"),3] <- \"otot\"\n",
    "test.data\n",
    "test.data[which(test.data$colC == \"tata\"),3] <- \"toto\"\n",
    "test.data\n",
    "test.data[which(test.data$colC == \"otot\"),3] <- \"tata\"\n",
    "test.data"
   ]
  },
  {
   "cell_type": "markdown",
   "metadata": {},
   "source": [
    "> Pour ce remplacement, j'ai du créer un remplacement intermédiaire de `otot` pour éviter d'écraser tous les `toto` en `tata`"
   ]
  },
  {
   "cell_type": "markdown",
   "metadata": {},
   "source": [
    "---\n",
    "Dans la colC, remplacez les lettres t par des m\n",
    "\n",
    "*__Tip :__*\n",
    "_fonctions recommandées : `gsub()`_"
   ]
  },
  {
   "cell_type": "code",
   "execution_count": 17,
   "metadata": {},
   "outputs": [
    {
     "data": {
      "text/html": [
       "<table class=\"dataframe\">\n",
       "<caption>A data.frame: 5 × 6</caption>\n",
       "<thead>\n",
       "\t<tr><th></th><th scope=col>colA</th><th scope=col>colB</th><th scope=col>colC</th><th scope=col>colD</th><th scope=col>colE</th><th scope=col>EbyA</th></tr>\n",
       "\t<tr><th></th><th scope=col>&lt;dbl&gt;</th><th scope=col>&lt;lgl&gt;</th><th scope=col>&lt;chr&gt;</th><th scope=col>&lt;chr&gt;</th><th scope=col>&lt;int&gt;</th><th scope=col>&lt;dbl&gt;</th></tr>\n",
       "</thead>\n",
       "<tbody>\n",
       "\t<tr><th scope=row>1</th><td> 2.2</td><td> TRUE</td><td>mama</td><td>oui</td><td> 3</td><td>1.3636364</td></tr>\n",
       "\t<tr><th scope=row>3</th><td>  NA</td><td>FALSE</td><td>momo</td><td>NA </td><td> 7</td><td>       NA</td></tr>\n",
       "\t<tr><th scope=row>4</th><td>10.1</td><td> TRUE</td><td>mimi</td><td>oui</td><td>10</td><td>0.9900990</td></tr>\n",
       "\t<tr><th scope=row>5</th><td> 8.9</td><td> TRUE</td><td>mama</td><td>oui</td><td> 2</td><td>0.2247191</td></tr>\n",
       "\t<tr><th scope=row>6</th><td> 3.2</td><td>FALSE</td><td>mumu</td><td>non</td><td> 1</td><td>0.3125000</td></tr>\n",
       "</tbody>\n",
       "</table>\n"
      ],
      "text/latex": [
       "A data.frame: 5 × 6\n",
       "\\begin{tabular}{r|llllll}\n",
       "  & colA & colB & colC & colD & colE & EbyA\\\\\n",
       "  & <dbl> & <lgl> & <chr> & <chr> & <int> & <dbl>\\\\\n",
       "\\hline\n",
       "\t1 &  2.2 &  TRUE & mama & oui &  3 & 1.3636364\\\\\n",
       "\t3 &   NA & FALSE & momo & NA  &  7 &        NA\\\\\n",
       "\t4 & 10.1 &  TRUE & mimi & oui & 10 & 0.9900990\\\\\n",
       "\t5 &  8.9 &  TRUE & mama & oui &  2 & 0.2247191\\\\\n",
       "\t6 &  3.2 & FALSE & mumu & non &  1 & 0.3125000\\\\\n",
       "\\end{tabular}\n"
      ],
      "text/markdown": [
       "\n",
       "A data.frame: 5 × 6\n",
       "\n",
       "| <!--/--> | colA &lt;dbl&gt; | colB &lt;lgl&gt; | colC &lt;chr&gt; | colD &lt;chr&gt; | colE &lt;int&gt; | EbyA &lt;dbl&gt; |\n",
       "|---|---|---|---|---|---|---|\n",
       "| 1 |  2.2 |  TRUE | mama | oui |  3 | 1.3636364 |\n",
       "| 3 |   NA | FALSE | momo | NA  |  7 |        NA |\n",
       "| 4 | 10.1 |  TRUE | mimi | oui | 10 | 0.9900990 |\n",
       "| 5 |  8.9 |  TRUE | mama | oui |  2 | 0.2247191 |\n",
       "| 6 |  3.2 | FALSE | mumu | non |  1 | 0.3125000 |\n",
       "\n"
      ],
      "text/plain": [
       "  colA colB  colC colD colE EbyA     \n",
       "1  2.2  TRUE mama oui   3   1.3636364\n",
       "3   NA FALSE momo NA    7          NA\n",
       "4 10.1  TRUE mimi oui  10   0.9900990\n",
       "5  8.9  TRUE mama oui   2   0.2247191\n",
       "6  3.2 FALSE mumu non   1   0.3125000"
      ]
     },
     "metadata": {},
     "output_type": "display_data"
    }
   ],
   "source": [
    "#cell12\n",
    "test.data$colC <- gsub(\"t\",\"m\",test.data$colC)\n",
    "test.data"
   ]
  },
  {
   "cell_type": "markdown",
   "metadata": {},
   "source": [
    "---\n",
    "Triez le dataframe par ordre croissant de la colonne colE.\n",
    "\n",
    "*__Tip :__*\n",
    "_fonctions recommandées : `order()`_"
   ]
  },
  {
   "cell_type": "code",
   "execution_count": 18,
   "metadata": {},
   "outputs": [
    {
     "data": {
      "text/html": [
       "<table class=\"dataframe\">\n",
       "<caption>A data.frame: 5 × 6</caption>\n",
       "<thead>\n",
       "\t<tr><th></th><th scope=col>colA</th><th scope=col>colB</th><th scope=col>colC</th><th scope=col>colD</th><th scope=col>colE</th><th scope=col>EbyA</th></tr>\n",
       "\t<tr><th></th><th scope=col>&lt;dbl&gt;</th><th scope=col>&lt;lgl&gt;</th><th scope=col>&lt;chr&gt;</th><th scope=col>&lt;chr&gt;</th><th scope=col>&lt;int&gt;</th><th scope=col>&lt;dbl&gt;</th></tr>\n",
       "</thead>\n",
       "<tbody>\n",
       "\t<tr><th scope=row>6</th><td> 3.2</td><td>FALSE</td><td>mumu</td><td>non</td><td> 1</td><td>0.3125000</td></tr>\n",
       "\t<tr><th scope=row>5</th><td> 8.9</td><td> TRUE</td><td>mama</td><td>oui</td><td> 2</td><td>0.2247191</td></tr>\n",
       "\t<tr><th scope=row>1</th><td> 2.2</td><td> TRUE</td><td>mama</td><td>oui</td><td> 3</td><td>1.3636364</td></tr>\n",
       "\t<tr><th scope=row>3</th><td>  NA</td><td>FALSE</td><td>momo</td><td>NA </td><td> 7</td><td>       NA</td></tr>\n",
       "\t<tr><th scope=row>4</th><td>10.1</td><td> TRUE</td><td>mimi</td><td>oui</td><td>10</td><td>0.9900990</td></tr>\n",
       "</tbody>\n",
       "</table>\n"
      ],
      "text/latex": [
       "A data.frame: 5 × 6\n",
       "\\begin{tabular}{r|llllll}\n",
       "  & colA & colB & colC & colD & colE & EbyA\\\\\n",
       "  & <dbl> & <lgl> & <chr> & <chr> & <int> & <dbl>\\\\\n",
       "\\hline\n",
       "\t6 &  3.2 & FALSE & mumu & non &  1 & 0.3125000\\\\\n",
       "\t5 &  8.9 &  TRUE & mama & oui &  2 & 0.2247191\\\\\n",
       "\t1 &  2.2 &  TRUE & mama & oui &  3 & 1.3636364\\\\\n",
       "\t3 &   NA & FALSE & momo & NA  &  7 &        NA\\\\\n",
       "\t4 & 10.1 &  TRUE & mimi & oui & 10 & 0.9900990\\\\\n",
       "\\end{tabular}\n"
      ],
      "text/markdown": [
       "\n",
       "A data.frame: 5 × 6\n",
       "\n",
       "| <!--/--> | colA &lt;dbl&gt; | colB &lt;lgl&gt; | colC &lt;chr&gt; | colD &lt;chr&gt; | colE &lt;int&gt; | EbyA &lt;dbl&gt; |\n",
       "|---|---|---|---|---|---|---|\n",
       "| 6 |  3.2 | FALSE | mumu | non |  1 | 0.3125000 |\n",
       "| 5 |  8.9 |  TRUE | mama | oui |  2 | 0.2247191 |\n",
       "| 1 |  2.2 |  TRUE | mama | oui |  3 | 1.3636364 |\n",
       "| 3 |   NA | FALSE | momo | NA  |  7 |        NA |\n",
       "| 4 | 10.1 |  TRUE | mimi | oui | 10 | 0.9900990 |\n",
       "\n"
      ],
      "text/plain": [
       "  colA colB  colC colD colE EbyA     \n",
       "6  3.2 FALSE mumu non   1   0.3125000\n",
       "5  8.9  TRUE mama oui   2   0.2247191\n",
       "1  2.2  TRUE mama oui   3   1.3636364\n",
       "3   NA FALSE momo NA    7          NA\n",
       "4 10.1  TRUE mimi oui  10   0.9900990"
      ]
     },
     "metadata": {},
     "output_type": "display_data"
    }
   ],
   "source": [
    "#cell13\n",
    "test.data <- test.data[order(test.data$colE),]\n",
    "test.data"
   ]
  },
  {
   "cell_type": "markdown",
   "metadata": {},
   "source": [
    "---\n",
    "Convertissez la colonne colB en valeurs numériques.\n",
    "\n",
    "*__Tip :__*\n",
    "_fonctions recommandées : `as.numeric()`_"
   ]
  },
  {
   "cell_type": "code",
   "execution_count": 19,
   "metadata": {},
   "outputs": [
    {
     "data": {
      "text/html": [
       "<table class=\"dataframe\">\n",
       "<caption>A data.frame: 5 × 6</caption>\n",
       "<thead>\n",
       "\t<tr><th></th><th scope=col>colA</th><th scope=col>colB</th><th scope=col>colC</th><th scope=col>colD</th><th scope=col>colE</th><th scope=col>EbyA</th></tr>\n",
       "\t<tr><th></th><th scope=col>&lt;dbl&gt;</th><th scope=col>&lt;dbl&gt;</th><th scope=col>&lt;chr&gt;</th><th scope=col>&lt;chr&gt;</th><th scope=col>&lt;int&gt;</th><th scope=col>&lt;dbl&gt;</th></tr>\n",
       "</thead>\n",
       "<tbody>\n",
       "\t<tr><th scope=row>6</th><td> 3.2</td><td>0</td><td>mumu</td><td>non</td><td> 1</td><td>0.3125000</td></tr>\n",
       "\t<tr><th scope=row>5</th><td> 8.9</td><td>1</td><td>mama</td><td>oui</td><td> 2</td><td>0.2247191</td></tr>\n",
       "\t<tr><th scope=row>1</th><td> 2.2</td><td>1</td><td>mama</td><td>oui</td><td> 3</td><td>1.3636364</td></tr>\n",
       "\t<tr><th scope=row>3</th><td>  NA</td><td>0</td><td>momo</td><td>NA </td><td> 7</td><td>       NA</td></tr>\n",
       "\t<tr><th scope=row>4</th><td>10.1</td><td>1</td><td>mimi</td><td>oui</td><td>10</td><td>0.9900990</td></tr>\n",
       "</tbody>\n",
       "</table>\n"
      ],
      "text/latex": [
       "A data.frame: 5 × 6\n",
       "\\begin{tabular}{r|llllll}\n",
       "  & colA & colB & colC & colD & colE & EbyA\\\\\n",
       "  & <dbl> & <dbl> & <chr> & <chr> & <int> & <dbl>\\\\\n",
       "\\hline\n",
       "\t6 &  3.2 & 0 & mumu & non &  1 & 0.3125000\\\\\n",
       "\t5 &  8.9 & 1 & mama & oui &  2 & 0.2247191\\\\\n",
       "\t1 &  2.2 & 1 & mama & oui &  3 & 1.3636364\\\\\n",
       "\t3 &   NA & 0 & momo & NA  &  7 &        NA\\\\\n",
       "\t4 & 10.1 & 1 & mimi & oui & 10 & 0.9900990\\\\\n",
       "\\end{tabular}\n"
      ],
      "text/markdown": [
       "\n",
       "A data.frame: 5 × 6\n",
       "\n",
       "| <!--/--> | colA &lt;dbl&gt; | colB &lt;dbl&gt; | colC &lt;chr&gt; | colD &lt;chr&gt; | colE &lt;int&gt; | EbyA &lt;dbl&gt; |\n",
       "|---|---|---|---|---|---|---|\n",
       "| 6 |  3.2 | 0 | mumu | non |  1 | 0.3125000 |\n",
       "| 5 |  8.9 | 1 | mama | oui |  2 | 0.2247191 |\n",
       "| 1 |  2.2 | 1 | mama | oui |  3 | 1.3636364 |\n",
       "| 3 |   NA | 0 | momo | NA  |  7 |        NA |\n",
       "| 4 | 10.1 | 1 | mimi | oui | 10 | 0.9900990 |\n",
       "\n"
      ],
      "text/plain": [
       "  colA colB colC colD colE EbyA     \n",
       "6  3.2 0    mumu non   1   0.3125000\n",
       "5  8.9 1    mama oui   2   0.2247191\n",
       "1  2.2 1    mama oui   3   1.3636364\n",
       "3   NA 0    momo NA    7          NA\n",
       "4 10.1 1    mimi oui  10   0.9900990"
      ]
     },
     "metadata": {},
     "output_type": "display_data"
    }
   ],
   "source": [
    "#cell14\n",
    "test.data$colB <- as.numeric(test.data$colB)\n",
    "test.data # je l'affiche à présent dans le notebook"
   ]
  },
  {
   "cell_type": "markdown",
   "metadata": {},
   "source": [
    "---\n",
    "Dans un vecteur sumcolA, calculer la somme de la colA.\n",
    "\n",
    "\n",
    "*__Tip :__*\n",
    "_fonctions recommandées : `sum()`_"
   ]
  },
  {
   "cell_type": "code",
   "execution_count": 20,
   "metadata": {},
   "outputs": [],
   "source": [
    "#cell15\n",
    "sumcolA <- sum(test.data$colA,na.rm = T)"
   ]
  },
  {
   "cell_type": "markdown",
   "metadata": {},
   "source": [
    "---\n",
    "Faites un sous-dataframe test.data2 contenant les lignes pour lesquelles les éléments de la colE sont inférieurs ou égaux à ceux de la colA.\n",
    "\n",
    "*__Tip :__*\n",
    "_fonctions recommandées : `subset()`_"
   ]
  },
  {
   "cell_type": "code",
   "execution_count": 21,
   "metadata": {},
   "outputs": [
    {
     "data": {
      "text/html": [
       "<table class=\"dataframe\">\n",
       "<caption>A data.frame: 3 × 6</caption>\n",
       "<thead>\n",
       "\t<tr><th></th><th scope=col>colA</th><th scope=col>colB</th><th scope=col>colC</th><th scope=col>colD</th><th scope=col>colE</th><th scope=col>EbyA</th></tr>\n",
       "\t<tr><th></th><th scope=col>&lt;dbl&gt;</th><th scope=col>&lt;dbl&gt;</th><th scope=col>&lt;chr&gt;</th><th scope=col>&lt;chr&gt;</th><th scope=col>&lt;int&gt;</th><th scope=col>&lt;dbl&gt;</th></tr>\n",
       "</thead>\n",
       "<tbody>\n",
       "\t<tr><th scope=row>6</th><td> 3.2</td><td>0</td><td>mumu</td><td>non</td><td> 1</td><td>0.3125000</td></tr>\n",
       "\t<tr><th scope=row>5</th><td> 8.9</td><td>1</td><td>mama</td><td>oui</td><td> 2</td><td>0.2247191</td></tr>\n",
       "\t<tr><th scope=row>4</th><td>10.1</td><td>1</td><td>mimi</td><td>oui</td><td>10</td><td>0.9900990</td></tr>\n",
       "</tbody>\n",
       "</table>\n"
      ],
      "text/latex": [
       "A data.frame: 3 × 6\n",
       "\\begin{tabular}{r|llllll}\n",
       "  & colA & colB & colC & colD & colE & EbyA\\\\\n",
       "  & <dbl> & <dbl> & <chr> & <chr> & <int> & <dbl>\\\\\n",
       "\\hline\n",
       "\t6 &  3.2 & 0 & mumu & non &  1 & 0.3125000\\\\\n",
       "\t5 &  8.9 & 1 & mama & oui &  2 & 0.2247191\\\\\n",
       "\t4 & 10.1 & 1 & mimi & oui & 10 & 0.9900990\\\\\n",
       "\\end{tabular}\n"
      ],
      "text/markdown": [
       "\n",
       "A data.frame: 3 × 6\n",
       "\n",
       "| <!--/--> | colA &lt;dbl&gt; | colB &lt;dbl&gt; | colC &lt;chr&gt; | colD &lt;chr&gt; | colE &lt;int&gt; | EbyA &lt;dbl&gt; |\n",
       "|---|---|---|---|---|---|---|\n",
       "| 6 |  3.2 | 0 | mumu | non |  1 | 0.3125000 |\n",
       "| 5 |  8.9 | 1 | mama | oui |  2 | 0.2247191 |\n",
       "| 4 | 10.1 | 1 | mimi | oui | 10 | 0.9900990 |\n",
       "\n"
      ],
      "text/plain": [
       "  colA colB colC colD colE EbyA     \n",
       "6  3.2 0    mumu non   1   0.3125000\n",
       "5  8.9 1    mama oui   2   0.2247191\n",
       "4 10.1 1    mimi oui  10   0.9900990"
      ]
     },
     "metadata": {},
     "output_type": "display_data"
    }
   ],
   "source": [
    "#cell16\n",
    "test.data2 <- subset(test.data, colE <= colA)\n",
    "test.data2\n",
    "# ou test.data2 <- test.data[which(test.data$colE <= test.data$colA),]"
   ]
  },
  {
   "cell_type": "markdown",
   "metadata": {},
   "source": [
    "---\n",
    "Sauvegardez le data frame `test.data2` en fichier texte avec des `;` comme séparateurs de champs.\n",
    "\n",
    "*__Tip :__*\n",
    "_fonctions recommandées : `write.table()`_"
   ]
  },
  {
   "cell_type": "code",
   "execution_count": 22,
   "metadata": {},
   "outputs": [],
   "source": [
    "#cell 17\n",
    "write.table(test.data2,file = \"test2.txt\", sep = \";\", col.names = T,quote = F)"
   ]
  },
  {
   "cell_type": "markdown",
   "metadata": {},
   "source": [
    "> L'objet a été sauvegardé dans votre répertoire de travail. Pensez à l'ouvrir pour vérifier qu'il a le format attendu!"
   ]
  },
  {
   "cell_type": "markdown",
   "metadata": {
    "tags": []
   },
   "source": [
    "---\n",
    "---\n",
    "## Exercice 2\n",
    "\n",
    "### Préambule\n",
    "\n",
    "Cet exercide a pour objectif de vous aider à acquérir les bonnes commandes pour lire, manipuler et sauvegarder des dataframes. Il porte sur le fichier `gene_rpkm_report_fb_2020_03.tsv.gz` que vous avez déjà commencé à étudier dans la partie `Intro à Unix` de cette UE avec Bruno Toupance. Il a été extrait de la base de données `Flybase` que vous verrai également dans le cadre de cette UE dans la partie méthodologie.\n",
    "\n",
    "Pour rappel, ce fichier contient des données de transcriptome en RNASeq chez la Drosophile avec l'expression des gènes en RPKM (cf. votre cours dans l'UE1 et le futur Fil Rouge de cette UE).\n",
    "Je vous remets les liens pour comprendre la nature de ces données:\n",
    "\n",
    "> Lien vers page de download:\n",
    "> https://flybase.org/cgi-bin/get_static_page.pl?file=bulkdata7.html&title=Current%20Release\n",
    ">\n",
    "> Lien vers le fichier RPKM:\n",
    "> ftp://ftp.flybase.org/releases/FB2020_03/precomputed_files/genes/gene_rpkm_report_fb_2020_03.tsv.gz\n",
    ">\n",
    "> Info sur colonnes: \n",
    "> https://wiki.flybase.org/wiki/FlyBase:Downloads_Overview#RNA-Seq_RPKM_values_.28gene_rpkm_report_fb_.2A.tsv.gz.29\n",
    "> \n",
    "> Page pour decsription des conditions et outil de recherche en ligne:\n",
    "> https://flybase.org/rnaseq/profile_search\n",
    ">\n",
    "> Ref article associé:\n",
    "> https://www.ncbi.nlm.nih.gov/pmc/articles/PMC3075879/\n",
    ">\n",
    "__En principe, le fichier `gene_rpkm_report_fb_2020_03.tsv.gz` doit être dans votre répertoire `~/m1meg_ue5_tp1-unix-1/Data/rna-seq/` sur adenine__\n",
    "\n",
    "S'il n'y est pas, ouvrez un terminal bash dans le bon répertoire et téléchargez-le au lien ci-dessus avec la commande ci-dessous déjà vue lors du TP2 Initiation à Unix: "
   ]
  },
  {
   "cell_type": "raw",
   "metadata": {},
   "source": [
    "wget ftp://ftp.flybase.org/releases/FB2020_03/precomputed_files/genes/gene_rpkm_report_fb_2020_03.tsv.gz"
   ]
  },
  {
   "cell_type": "markdown",
   "metadata": {
    "tags": []
   },
   "source": [
    "---\n",
    "\n",
    "### Execrice 2.1.\n",
    "\n",
    "A présent dans R, vous êtes prêts à démarrer. Je vous ai mis la première commande pour charger cet objet dans R car les arguments ne sont pas faciles à trouver.\n"
   ]
  },
  {
   "cell_type": "code",
   "execution_count": 23,
   "metadata": {},
   "outputs": [],
   "source": [
    "#cell18\n",
    "droso <- read.table(\"~/m1meg_ue5_tp1-unix-1/Data/rna-seq/gene_rpkm_report_fb_2020_03.tsv.gz\",\n",
    "                    skip=5,\n",
    "                    comment.char=\"\",\n",
    "                    header=TRUE,\n",
    "                    stringsAsFactors=FALSE,\n",
    "                    fill=TRUE)"
   ]
  },
  {
   "cell_type": "markdown",
   "metadata": {},
   "source": [
    "Voici les explications de cette commande:\n",
    "- `read.table()`lit un fichier texte ou zippé pour donner un dataframe\n",
    "- `comment.char` sert ici à exclure les lignes commençant par un caractère précis. Ici j'ai mis une chaîne vide `\"\"` pour lire toutes les lignes. En effet, l'argument `comment.char` par défaut élimine toutes les lignes commençant par un `#`. Or la ligne du `header` qui donne l'entête des colonnes commence elle-même par deux `#`. Comme nous ne voulons pas l'éliminer, la solution est donc de lire toutes les lignes et d'indiquer combien en exclure au début avec l'argument suivant:\n",
    "- `skip` indique le nombre de lignes à ne pas importer au début\n",
    "- `header` que vous connaissez indique que les colonnes ont un en-tête\n",
    "- `stringsAsFactors=FALSE` évite la factorisation des colonnes de chaînes de caractère\n",
    "- `fill` complète avec des `NA` les lignes qui ont un nombre de colonnes inférieur car incomplètes.\n",
    "\n",
    "\n",
    "Sur wooclap, répondez à la première question:\n",
    "\n",
    "<span style=\"color:blue\">  <b>=> Wooclap Q1:</b> Quelles sont les dimensions du dataframe obtenu? Indiquez-le nombre de lignes l et de colonnes c entre crochets ainsi [l,c].</span>\n",
    "`[2189219, 12]`"
   ]
  },
  {
   "cell_type": "markdown",
   "metadata": {},
   "source": [
    "*__Tip :__*\n",
    "_fonction recommandée : `dim()`_"
   ]
  },
  {
   "cell_type": "code",
   "execution_count": 24,
   "metadata": {},
   "outputs": [
    {
     "name": "stdout",
     "output_type": "stream",
     "text": [
      "[1] 2189219      12\n"
     ]
    }
   ],
   "source": [
    "#cell19\n",
    "print(dim(droso))"
   ]
  },
  {
   "cell_type": "markdown",
   "metadata": {},
   "source": [
    "Conservez les colonnes pertinentes pour l'exercice d'aujourd'hui: `GeneSymbol`, `RNASource_name`, `RPKM_value`"
   ]
  },
  {
   "cell_type": "code",
   "execution_count": 25,
   "metadata": {},
   "outputs": [],
   "source": [
    "#cell20\n",
    "droso <- droso[,c(\"GeneSymbol\", \"RNASource_name\", \"RPKM_value\")]"
   ]
  },
  {
   "cell_type": "markdown",
   "metadata": {},
   "source": [
    "<span style=\"color:blue\">  <b>=> Wooclap Q2:</b> Combien de gènes distincts sont présents ? `17691`<br></span>\n",
    "\n",
    "*__Tip :__* _fonctions recommandées : `unique()` et `length()`_\n"
   ]
  },
  {
   "cell_type": "code",
   "execution_count": 26,
   "metadata": {},
   "outputs": [
    {
     "data": {
      "text/html": [
       "17691"
      ],
      "text/latex": [
       "17691"
      ],
      "text/markdown": [
       "17691"
      ],
      "text/plain": [
       "[1] 17691"
      ]
     },
     "metadata": {},
     "output_type": "display_data"
    }
   ],
   "source": [
    "#cell21\n",
    "length(unique(droso$GeneSymbol))"
   ]
  },
  {
   "cell_type": "markdown",
   "metadata": {},
   "source": [
    "Combien de sources d'ARN distinctes comptez-vous ?"
   ]
  },
  {
   "cell_type": "code",
   "execution_count": 27,
   "metadata": {},
   "outputs": [
    {
     "data": {
      "text/html": [
       "125"
      ],
      "text/latex": [
       "125"
      ],
      "text/markdown": [
       "125"
      ],
      "text/plain": [
       "[1] 125"
      ]
     },
     "metadata": {},
     "output_type": "display_data"
    }
   ],
   "source": [
    "#cell 22\n",
    "length(unique(droso$RNASource_name))"
   ]
  },
  {
   "cell_type": "markdown",
   "metadata": {},
   "source": [
    "---\n",
    "### Exercice 2.2\n",
    "\n",
    "Résumez la variable `RPKM_value` ; quelle est sa valeur maximale ?<br>\n",
    "\n",
    "*__Tip :__* _fonctions recommandées : `summary()` et `max()`_\n"
   ]
  },
  {
   "cell_type": "code",
   "execution_count": 28,
   "metadata": {},
   "outputs": [
    {
     "data": {
      "text/plain": [
       "    Min.  1st Qu.   Median     Mean  3rd Qu.     Max. \n",
       "     0.0      0.0      2.0     30.9     13.0 340470.0 "
      ]
     },
     "metadata": {},
     "output_type": "display_data"
    },
    {
     "data": {
      "text/html": [
       "340470"
      ],
      "text/latex": [
       "340470"
      ],
      "text/markdown": [
       "340470"
      ],
      "text/plain": [
       "[1] 340470"
      ]
     },
     "metadata": {},
     "output_type": "display_data"
    },
    {
     "data": {
      "text/plain": [
       "  Max. \n",
       "340470 "
      ]
     },
     "metadata": {},
     "output_type": "display_data"
    }
   ],
   "source": [
    "#cell23\n",
    "summary(droso$RPKM_value)\n",
    "\n",
    "max(droso$RPKM_value)\n",
    "# ou sans utiliser la fonction max():\n",
    "summary(droso$RPKM_value)[6]# pour extraire directement le max = c'est la 6ème valeur du vecteur retourné par la fonction summary()"
   ]
  },
  {
   "cell_type": "markdown",
   "metadata": {},
   "source": [
    "> __*=> Pour aller plus loin:*__ \n",
    ">\n",
    "> J'utilise la fonction cat() pour afficher la réponse dans une phrase."
   ]
  },
  {
   "cell_type": "code",
   "execution_count": 29,
   "metadata": {},
   "outputs": [
    {
     "name": "stdout",
     "output_type": "stream",
     "text": [
      "La valeur maximale de la variable RPKM_value est: 340470."
     ]
    }
   ],
   "source": [
    "#cell23.2\n",
    "cat(\"La valeur maximale de la variable RPKM_value est: \",\n",
    "    max(droso$RPKM_value),\n",
    "    \".\",\n",
    "    sep=\"\")"
   ]
  },
  {
   "cell_type": "markdown",
   "metadata": {},
   "source": [
    "---\n",
    "Affichez la ligne du dataframe `droso` correspondant à cette valeur maximale<br>\n",
    "\n",
    "*__Tip :__*  _n'oubliez pas `which()`!_"
   ]
  },
  {
   "cell_type": "code",
   "execution_count": 30,
   "metadata": {},
   "outputs": [
    {
     "data": {
      "text/html": [
       "<table class=\"dataframe\">\n",
       "<caption>A data.frame: 1 × 3</caption>\n",
       "<thead>\n",
       "\t<tr><th></th><th scope=col>GeneSymbol</th><th scope=col>RNASource_name</th><th scope=col>RPKM_value</th></tr>\n",
       "\t<tr><th></th><th scope=col>&lt;chr&gt;</th><th scope=col>&lt;chr&gt;</th><th scope=col>&lt;int&gt;</th></tr>\n",
       "</thead>\n",
       "<tbody>\n",
       "\t<tr><th scope=row>71448</th><td>Sgs4</td><td>mE_mRNA_L3_Wand_saliv</td><td>340470</td></tr>\n",
       "</tbody>\n",
       "</table>\n"
      ],
      "text/latex": [
       "A data.frame: 1 × 3\n",
       "\\begin{tabular}{r|lll}\n",
       "  & GeneSymbol & RNASource\\_name & RPKM\\_value\\\\\n",
       "  & <chr> & <chr> & <int>\\\\\n",
       "\\hline\n",
       "\t71448 & Sgs4 & mE\\_mRNA\\_L3\\_Wand\\_saliv & 340470\\\\\n",
       "\\end{tabular}\n"
      ],
      "text/markdown": [
       "\n",
       "A data.frame: 1 × 3\n",
       "\n",
       "| <!--/--> | GeneSymbol &lt;chr&gt; | RNASource_name &lt;chr&gt; | RPKM_value &lt;int&gt; |\n",
       "|---|---|---|---|\n",
       "| 71448 | Sgs4 | mE_mRNA_L3_Wand_saliv | 340470 |\n",
       "\n"
      ],
      "text/plain": [
       "      GeneSymbol RNASource_name        RPKM_value\n",
       "71448 Sgs4       mE_mRNA_L3_Wand_saliv 340470    "
      ]
     },
     "metadata": {},
     "output_type": "display_data"
    }
   ],
   "source": [
    "#cell24\n",
    "droso[which(droso$RPKM_value == max(droso$RPKM_value)), ]"
   ]
  },
  {
   "cell_type": "markdown",
   "metadata": {},
   "source": [
    "> Alernativement, vous pouviez utiliser subset:"
   ]
  },
  {
   "cell_type": "code",
   "execution_count": 31,
   "metadata": {},
   "outputs": [
    {
     "data": {
      "text/html": [
       "<table class=\"dataframe\">\n",
       "<caption>A data.frame: 1 × 3</caption>\n",
       "<thead>\n",
       "\t<tr><th></th><th scope=col>GeneSymbol</th><th scope=col>RNASource_name</th><th scope=col>RPKM_value</th></tr>\n",
       "\t<tr><th></th><th scope=col>&lt;chr&gt;</th><th scope=col>&lt;chr&gt;</th><th scope=col>&lt;int&gt;</th></tr>\n",
       "</thead>\n",
       "<tbody>\n",
       "\t<tr><th scope=row>71448</th><td>Sgs4</td><td>mE_mRNA_L3_Wand_saliv</td><td>340470</td></tr>\n",
       "</tbody>\n",
       "</table>\n"
      ],
      "text/latex": [
       "A data.frame: 1 × 3\n",
       "\\begin{tabular}{r|lll}\n",
       "  & GeneSymbol & RNASource\\_name & RPKM\\_value\\\\\n",
       "  & <chr> & <chr> & <int>\\\\\n",
       "\\hline\n",
       "\t71448 & Sgs4 & mE\\_mRNA\\_L3\\_Wand\\_saliv & 340470\\\\\n",
       "\\end{tabular}\n"
      ],
      "text/markdown": [
       "\n",
       "A data.frame: 1 × 3\n",
       "\n",
       "| <!--/--> | GeneSymbol &lt;chr&gt; | RNASource_name &lt;chr&gt; | RPKM_value &lt;int&gt; |\n",
       "|---|---|---|---|\n",
       "| 71448 | Sgs4 | mE_mRNA_L3_Wand_saliv | 340470 |\n",
       "\n"
      ],
      "text/plain": [
       "      GeneSymbol RNASource_name        RPKM_value\n",
       "71448 Sgs4       mE_mRNA_L3_Wand_saliv 340470    "
      ]
     },
     "metadata": {},
     "output_type": "display_data"
    }
   ],
   "source": [
    "#cell24.2\n",
    "subset(droso, RPKM_value == max(droso$RPKM_value))"
   ]
  },
  {
   "cell_type": "markdown",
   "metadata": {},
   "source": [
    "<span style=\"color:blue\">  <b>=> Wooclap Q3:</b> Quel gène est responsable de cette expression maximale ? Donnez son symbole. </span> `Sgs4`"
   ]
  },
  {
   "cell_type": "code",
   "execution_count": 32,
   "metadata": {},
   "outputs": [
    {
     "data": {
      "text/html": [
       "'Sgs4'"
      ],
      "text/latex": [
       "'Sgs4'"
      ],
      "text/markdown": [
       "'Sgs4'"
      ],
      "text/plain": [
       "[1] \"Sgs4\""
      ]
     },
     "metadata": {},
     "output_type": "display_data"
    }
   ],
   "source": [
    "#cell25\n",
    "droso[which(droso$RPKM_value == max(droso$RPKM_value)), \"GeneSymbol\"]"
   ]
  },
  {
   "cell_type": "markdown",
   "metadata": {},
   "source": [
    "À partir de quelle source d'ARN (colonne `RNASource_name`) cette expression maximale est-elle mesurée ?"
   ]
  },
  {
   "cell_type": "code",
   "execution_count": 33,
   "metadata": {},
   "outputs": [
    {
     "data": {
      "text/html": [
       "'mE_mRNA_L3_Wand_saliv'"
      ],
      "text/latex": [
       "'mE\\_mRNA\\_L3\\_Wand\\_saliv'"
      ],
      "text/markdown": [
       "'mE_mRNA_L3_Wand_saliv'"
      ],
      "text/plain": [
       "[1] \"mE_mRNA_L3_Wand_saliv\""
      ]
     },
     "metadata": {},
     "output_type": "display_data"
    }
   ],
   "source": [
    "#cell26\n",
    "droso[which(droso$RPKM_value == max(droso$RPKM_value)), \"RNASource_name\"]"
   ]
  },
  {
   "cell_type": "markdown",
   "metadata": {},
   "source": [
    "<br>\n",
    "\n",
    "Extrayez les lignes du dataframe `droso` correspondant à ce gène exprimé de manière maximale.\n",
    "Nommez ce dataframe réduit avec le nom du gène.<br>\n",
    "\n",
    "*__Tip :__* _de nouveau, n'oubliez pas `which()` !_"
   ]
  },
  {
   "cell_type": "code",
   "execution_count": 34,
   "metadata": {},
   "outputs": [],
   "source": [
    "#cell27\n",
    "sgs4 <- droso[which(droso$GeneSymbol == \"Sgs4\"),]"
   ]
  },
  {
   "cell_type": "markdown",
   "metadata": {},
   "source": [
    ">__*=> Pour aller plus loin:*__ \n",
    ">\n",
    ">Vous pouviez coder le nom du dataframe avec la fonction `assign()`.  Dans la commande qui utilise cette fonction, le 1er argument dans la fonction ci-dessous retourne le nom du gène dans une chaine de caractères (cf 3 cellules au-dessus) stocké dans une variable `gene_max`. Le 2ème argument est le sous-dataframe souhaité en utilisant la variable `gene_max` pour simplifier l'écriture. Comme le nom du gène est en principe écrit avec une majuscule, je peux donc comparer ce nouvel objet `Sgs4` au précédent créé `sgs4` pour vous convaincre qu'ils sont identiques!  \n"
   ]
  },
  {
   "cell_type": "code",
   "execution_count": 35,
   "metadata": {},
   "outputs": [
    {
     "data": {
      "text/html": [
       "<style>\n",
       ".list-inline {list-style: none; margin:0; padding: 0}\n",
       ".list-inline>li {display: inline-block}\n",
       ".list-inline>li:not(:last-child)::after {content: \"\\00b7\"; padding: 0 .5ex}\n",
       "</style>\n",
       "<ol class=list-inline><li>'droso'</li><li>'gene_max'</li><li>'my_vector'</li><li>'sgs4'</li><li>'Sgs4'</li><li>'sumcolA'</li><li>'test.data'</li><li>'test.data2'</li></ol>\n"
      ],
      "text/latex": [
       "\\begin{enumerate*}\n",
       "\\item 'droso'\n",
       "\\item 'gene\\_max'\n",
       "\\item 'my\\_vector'\n",
       "\\item 'sgs4'\n",
       "\\item 'Sgs4'\n",
       "\\item 'sumcolA'\n",
       "\\item 'test.data'\n",
       "\\item 'test.data2'\n",
       "\\end{enumerate*}\n"
      ],
      "text/markdown": [
       "1. 'droso'\n",
       "2. 'gene_max'\n",
       "3. 'my_vector'\n",
       "4. 'sgs4'\n",
       "5. 'Sgs4'\n",
       "6. 'sumcolA'\n",
       "7. 'test.data'\n",
       "8. 'test.data2'\n",
       "\n",
       "\n"
      ],
      "text/plain": [
       "[1] \"droso\"      \"gene_max\"   \"my_vector\"  \"sgs4\"       \"Sgs4\"      \n",
       "[6] \"sumcolA\"    \"test.data\"  \"test.data2\""
      ]
     },
     "metadata": {},
     "output_type": "display_data"
    },
    {
     "data": {
      "text/html": [
       "TRUE"
      ],
      "text/latex": [
       "TRUE"
      ],
      "text/markdown": [
       "TRUE"
      ],
      "text/plain": [
       "[1] TRUE"
      ]
     },
     "metadata": {},
     "output_type": "display_data"
    }
   ],
   "source": [
    "#cell27.2\n",
    "gene_max <- droso[which(droso$RPKM_value == max(droso$RPKM_value)), \"GeneSymbol\"]\n",
    "assign(gene_max, droso[which(droso$GeneSymbol == gene_max),])\n",
    "ls()\n",
    "identical(sgs4, Sgs4)\n",
    "rm(gene_max, Sgs4)# pas besoin de les garder"
   ]
  },
  {
   "cell_type": "markdown",
   "metadata": {},
   "source": [
    "Dans combien de sources d'ARN ce gène a-t-il été analysé ?"
   ]
  },
  {
   "cell_type": "code",
   "execution_count": 36,
   "metadata": {},
   "outputs": [
    {
     "data": {
      "text/html": [
       "124"
      ],
      "text/latex": [
       "124"
      ],
      "text/markdown": [
       "124"
      ],
      "text/plain": [
       "[1] 124"
      ]
     },
     "metadata": {},
     "output_type": "display_data"
    }
   ],
   "source": [
    "#cell28\n",
    "length(unique(sgs4$RNASource_name))"
   ]
  },
  {
   "cell_type": "markdown",
   "metadata": {},
   "source": [
    "<span style=\"color:blue\">  <b>=> Wooclap Q4:</b> Ce gène est-il toujours exprimé de manière maximale ?<br>\n",
    "Répondez par `oui` ou par `non` sur wooclap.<br></span>\n",
    "\n",
    "\n",
    "*__Tip :__* _fonction recommandée : `summary()`_"
   ]
  },
  {
   "cell_type": "code",
   "execution_count": 37,
   "metadata": {},
   "outputs": [
    {
     "data": {
      "text/plain": [
       "    Min.  1st Qu.   Median     Mean  3rd Qu.     Max. \n",
       "     0.0      0.0      1.0   3749.1     83.2 340470.0 "
      ]
     },
     "metadata": {},
     "output_type": "display_data"
    }
   ],
   "source": [
    "#cell29\n",
    "summary(sgs4$RPKM_value)"
   ]
  },
  {
   "cell_type": "markdown",
   "metadata": {},
   "source": [
    "> Non, on constate que dans au moins 25% des cas il n'est pas exprimé. S'il avait toujours été exprimé au même niveau, il aurait eu la même valeur de min que de max, ce qui n'est pas le cas."
   ]
  },
  {
   "cell_type": "code",
   "execution_count": 38,
   "metadata": {},
   "outputs": [
    {
     "data": {
      "text/html": [
       "FALSE"
      ],
      "text/latex": [
       "FALSE"
      ],
      "text/markdown": [
       "FALSE"
      ],
      "text/plain": [
       "[1] FALSE"
      ]
     },
     "metadata": {},
     "output_type": "display_data"
    }
   ],
   "source": [
    "#cell29.2\n",
    "min(sgs4$RPKM_value) == max(sgs4$RPKM_value)"
   ]
  },
  {
   "cell_type": "markdown",
   "metadata": {},
   "source": [
    "---\n",
    "### Exercice 2.3\n",
    "\n",
    "Ce gène est un membre d'une famille multigénique. \n",
    "Extrayez les lignes du dataframe `droso` correspondant au premier membre de cette famille multigénique.\n",
    "Pour faire cela, remplacez par `1` le nombre final du nom du gène exprimé de manière maximale."
   ]
  },
  {
   "cell_type": "code",
   "execution_count": 39,
   "metadata": {},
   "outputs": [],
   "source": [
    "#cell30\n",
    "sgs1 <- subset(droso, GeneSymbol == \"Sgs1\")"
   ]
  },
  {
   "cell_type": "markdown",
   "metadata": {},
   "source": [
    "Combien de source d'ARN ont été étudiées ?"
   ]
  },
  {
   "cell_type": "code",
   "execution_count": 40,
   "metadata": {},
   "outputs": [
    {
     "data": {
      "text/html": [
       "124"
      ],
      "text/latex": [
       "124"
      ],
      "text/markdown": [
       "124"
      ],
      "text/plain": [
       "[1] 124"
      ]
     },
     "metadata": {},
     "output_type": "display_data"
    }
   ],
   "source": [
    "#cell31\n",
    "length(unique(sgs1$RNASource_name))"
   ]
  },
  {
   "cell_type": "markdown",
   "metadata": {},
   "source": [
    "On veut maintenant comparer l'expression de ces deux gènes.\n",
    "Dans ce but, fusionnez les deux dataframes.\n",
    "Utilisez la fonction `merge` et la variable `RNASource_name` comme clé."
   ]
  },
  {
   "cell_type": "code",
   "execution_count": 41,
   "metadata": {},
   "outputs": [],
   "source": [
    "#cell32\n",
    "sgs14 <- merge(sgs1, sgs4, by = \"RNASource_name\")"
   ]
  },
  {
   "cell_type": "markdown",
   "metadata": {},
   "source": [
    "<span style=\"color:blue\">  <b>=> Wooclap Q5:</b> Combien de lignes et de colonnes le dataframe fusionné présente-t-il ? Comme précédemment, donnez le nombre de lignes et de colonnes au format [l,c].</span>`[124,5]`<br>\n"
   ]
  },
  {
   "cell_type": "code",
   "execution_count": 42,
   "metadata": {},
   "outputs": [
    {
     "name": "stdout",
     "output_type": "stream",
     "text": [
      "[1] 124   5\n"
     ]
    }
   ],
   "source": [
    "#cell33\n",
    "print(dim(sgs14))"
   ]
  },
  {
   "cell_type": "markdown",
   "metadata": {},
   "source": [
    "Affichez le dataframe entier. Quelles colonnes correspondent aux expressions de chacun des deux gènes? Que pouvez-vous rapidement dire de ces expressions ?"
   ]
  },
  {
   "cell_type": "code",
   "execution_count": 43,
   "metadata": {},
   "outputs": [
    {
     "data": {
      "text/html": [
       "<table class=\"dataframe\">\n",
       "<caption>A data.frame: 124 × 5</caption>\n",
       "<thead>\n",
       "\t<tr><th scope=col>RNASource_name</th><th scope=col>GeneSymbol.x</th><th scope=col>RPKM_value.x</th><th scope=col>GeneSymbol.y</th><th scope=col>RPKM_value.y</th></tr>\n",
       "\t<tr><th scope=col>&lt;chr&gt;</th><th scope=col>&lt;chr&gt;</th><th scope=col>&lt;int&gt;</th><th scope=col>&lt;chr&gt;</th><th scope=col>&lt;int&gt;</th></tr>\n",
       "</thead>\n",
       "<tbody>\n",
       "\t<tr><td>BCM_1_A17d                     </td><td>Sgs1</td><td>  0</td><td>Sgs4</td><td>    0</td></tr>\n",
       "\t<tr><td>BCM_1_E14-16hr                 </td><td>Sgs1</td><td>  0</td><td>Sgs4</td><td>    1</td></tr>\n",
       "\t<tr><td>BCM_1_E2-16hr                  </td><td>Sgs1</td><td>  0</td><td>Sgs4</td><td>    0</td></tr>\n",
       "\t<tr><td>BCM_1_E2-16hr100               </td><td>Sgs1</td><td>  0</td><td>Sgs4</td><td>    0</td></tr>\n",
       "\t<tr><td>BCM_1_E2-4hr                   </td><td>Sgs1</td><td>  0</td><td>Sgs4</td><td>    0</td></tr>\n",
       "\t<tr><td>BCM_1_FA3d                     </td><td>Sgs1</td><td>  0</td><td>Sgs4</td><td>    6</td></tr>\n",
       "\t<tr><td>BCM_1_L                        </td><td>Sgs1</td><td>  4</td><td>Sgs4</td><td>    9</td></tr>\n",
       "\t<tr><td>BCM_1_L3i                      </td><td>Sgs1</td><td>314</td><td>Sgs4</td><td> 9451</td></tr>\n",
       "\t<tr><td>BCM_1_L3i100                   </td><td>Sgs1</td><td> 20</td><td>Sgs4</td><td> 2088</td></tr>\n",
       "\t<tr><td>BCM_1_MA3d                     </td><td>Sgs1</td><td>  2</td><td>Sgs4</td><td>   72</td></tr>\n",
       "\t<tr><td>BCM_1_P                        </td><td>Sgs1</td><td>  0</td><td>Sgs4</td><td>    0</td></tr>\n",
       "\t<tr><td>BCM_1_P3d                      </td><td>Sgs1</td><td>  0</td><td>Sgs4</td><td>    2</td></tr>\n",
       "\t<tr><td>Knoblich_mRNA_L3_CNS_neuroblast</td><td>Sgs1</td><td>  0</td><td>Sgs4</td><td>    0</td></tr>\n",
       "\t<tr><td>Knoblich_mRNA_L3_CNS_neuron    </td><td>Sgs1</td><td>  0</td><td>Sgs4</td><td>    2</td></tr>\n",
       "\t<tr><td>mE_mRNA_1182-4H_cells          </td><td>Sgs1</td><td>  0</td><td>Sgs4</td><td>    0</td></tr>\n",
       "\t<tr><td>mE_mRNA_A_10d_Resveratrol_100uM</td><td>Sgs1</td><td>  0</td><td>Sgs4</td><td>    0</td></tr>\n",
       "\t<tr><td>mE_mRNA_A_10d_Rotenone_Starved </td><td>Sgs1</td><td>  3</td><td>Sgs4</td><td>    2</td></tr>\n",
       "\t<tr><td>mE_mRNA_A_1d_carcass           </td><td>Sgs1</td><td>  1</td><td>Sgs4</td><td>    3</td></tr>\n",
       "\t<tr><td>mE_mRNA_A_1d_dig_sys           </td><td>Sgs1</td><td>  0</td><td>Sgs4</td><td>    0</td></tr>\n",
       "\t<tr><td>mE_mRNA_A_20d_carcass          </td><td>Sgs1</td><td>  3</td><td>Sgs4</td><td>   70</td></tr>\n",
       "\t<tr><td>mE_mRNA_A_20d_dig_sys          </td><td>Sgs1</td><td>  0</td><td>Sgs4</td><td>   10</td></tr>\n",
       "\t<tr><td>mE_mRNA_A_4d_Caffeine_2.5mg/ml </td><td>Sgs1</td><td>  0</td><td>Sgs4</td><td>    1</td></tr>\n",
       "\t<tr><td>mE_mRNA_A_4d_Caffeine_25mg/ml  </td><td>Sgs1</td><td>884</td><td>Sgs4</td><td>13843</td></tr>\n",
       "\t<tr><td>mE_mRNA_A_4d_carcass           </td><td>Sgs1</td><td>  2</td><td>Sgs4</td><td>    4</td></tr>\n",
       "\t<tr><td>mE_mRNA_A_4d_Cd_0.05M          </td><td>Sgs1</td><td>263</td><td>Sgs4</td><td>  529</td></tr>\n",
       "\t<tr><td>mE_mRNA_A_4d_Cd_0.1M           </td><td>Sgs1</td><td>  2</td><td>Sgs4</td><td>    0</td></tr>\n",
       "\t<tr><td>mE_mRNA_A_4d_Cold1             </td><td>Sgs1</td><td>325</td><td>Sgs4</td><td>10470</td></tr>\n",
       "\t<tr><td>mE_mRNA_A_4d_Cold2             </td><td>Sgs1</td><td>647</td><td>Sgs4</td><td>21015</td></tr>\n",
       "\t<tr><td>mE_mRNA_A_4d_Cu_15mM           </td><td>Sgs1</td><td>124</td><td>Sgs4</td><td> 1226</td></tr>\n",
       "\t<tr><td>mE_mRNA_A_4d_dig_sys           </td><td>Sgs1</td><td>  0</td><td>Sgs4</td><td>    5</td></tr>\n",
       "\t<tr><td>⋮</td><td>⋮</td><td>⋮</td><td>⋮</td><td>⋮</td></tr>\n",
       "\t<tr><td>mE_mRNA_L3_late_Zn_5mM   </td><td>Sgs1</td><td> 2887</td><td>Sgs4</td><td> 10396</td></tr>\n",
       "\t<tr><td>mE_mRNA_L3_PS1-2         </td><td>Sgs1</td><td>  296</td><td>Sgs4</td><td>  2255</td></tr>\n",
       "\t<tr><td>mE_mRNA_L3_PS3-6         </td><td>Sgs1</td><td>  471</td><td>Sgs4</td><td>  4277</td></tr>\n",
       "\t<tr><td>mE_mRNA_L3_PS7-9         </td><td>Sgs1</td><td>  243</td><td>Sgs4</td><td>  3708</td></tr>\n",
       "\t<tr><td>mE_mRNA_L3_Rotenone_2ug  </td><td>Sgs1</td><td>  116</td><td>Sgs4</td><td>  1344</td></tr>\n",
       "\t<tr><td>mE_mRNA_L3_Rotenone_8ug  </td><td>Sgs1</td><td>   43</td><td>Sgs4</td><td>   300</td></tr>\n",
       "\t<tr><td>mE_mRNA_L3_Wand_carcass  </td><td>Sgs1</td><td>   87</td><td>Sgs4</td><td>  1385</td></tr>\n",
       "\t<tr><td>mE_mRNA_L3_Wand_dig_sys  </td><td>Sgs1</td><td>   46</td><td>Sgs4</td><td>  1681</td></tr>\n",
       "\t<tr><td>mE_mRNA_L3_Wand_fat      </td><td>Sgs1</td><td>    2</td><td>Sgs4</td><td>   101</td></tr>\n",
       "\t<tr><td>mE_mRNA_L3_Wand_imag_disc</td><td>Sgs1</td><td>   97</td><td>Sgs4</td><td>  5383</td></tr>\n",
       "\t<tr><td>mE_mRNA_L3_Wand_saliv    </td><td>Sgs1</td><td>11727</td><td>Sgs4</td><td>340470</td></tr>\n",
       "\t<tr><td>mE_mRNA_M_Sindbis_virus  </td><td>Sgs1</td><td>    1</td><td>Sgs4</td><td>     0</td></tr>\n",
       "\t<tr><td>mE_mRNA_mbn2_cells       </td><td>Sgs1</td><td>    0</td><td>Sgs4</td><td>     0</td></tr>\n",
       "\t<tr><td>mE_mRNA_OSC_cells        </td><td>Sgs1</td><td>    2</td><td>Sgs4</td><td>     0</td></tr>\n",
       "\t<tr><td>mE_mRNA_OSS_cells        </td><td>Sgs1</td><td>    0</td><td>Sgs4</td><td>     1</td></tr>\n",
       "\t<tr><td>mE_mRNA_P_Sindbis_virus  </td><td>Sgs1</td><td>    1</td><td>Sgs4</td><td>     2</td></tr>\n",
       "\t<tr><td>mE_mRNA_P15              </td><td>Sgs1</td><td>    0</td><td>Sgs4</td><td>     0</td></tr>\n",
       "\t<tr><td>mE_mRNA_P5               </td><td>Sgs1</td><td>    0</td><td>Sgs4</td><td>     0</td></tr>\n",
       "\t<tr><td>mE_mRNA_P6               </td><td>Sgs1</td><td>    0</td><td>Sgs4</td><td>     0</td></tr>\n",
       "\t<tr><td>mE_mRNA_P8               </td><td>Sgs1</td><td>    0</td><td>Sgs4</td><td>     0</td></tr>\n",
       "\t<tr><td>mE_mRNA_P8_CNS           </td><td>Sgs1</td><td>    2</td><td>Sgs4</td><td>    48</td></tr>\n",
       "\t<tr><td>mE_mRNA_P8_fat           </td><td>Sgs1</td><td>   17</td><td>Sgs4</td><td>   446</td></tr>\n",
       "\t<tr><td>mE_mRNA_P9-10            </td><td>Sgs1</td><td>    0</td><td>Sgs4</td><td>     2</td></tr>\n",
       "\t<tr><td>mE_mRNA_S1_cells         </td><td>Sgs1</td><td>    0</td><td>Sgs4</td><td>     0</td></tr>\n",
       "\t<tr><td>mE_mRNA_S2R+_cells       </td><td>Sgs1</td><td>    6</td><td>Sgs4</td><td>     0</td></tr>\n",
       "\t<tr><td>mE_mRNA_S3_cells         </td><td>Sgs1</td><td>    0</td><td>Sgs4</td><td>     0</td></tr>\n",
       "\t<tr><td>mE_mRNA_Sg4_cells        </td><td>Sgs1</td><td>    0</td><td>Sgs4</td><td>     0</td></tr>\n",
       "\t<tr><td>mE_mRNA_WPP              </td><td>Sgs1</td><td>    7</td><td>Sgs4</td><td>    79</td></tr>\n",
       "\t<tr><td>mE_mRNA_WPP_fat          </td><td>Sgs1</td><td>    0</td><td>Sgs4</td><td>    27</td></tr>\n",
       "\t<tr><td>mE_mRNA_WPP_saliv        </td><td>Sgs1</td><td>   60</td><td>Sgs4</td><td>  4478</td></tr>\n",
       "</tbody>\n",
       "</table>\n"
      ],
      "text/latex": [
       "A data.frame: 124 × 5\n",
       "\\begin{tabular}{lllll}\n",
       " RNASource\\_name & GeneSymbol.x & RPKM\\_value.x & GeneSymbol.y & RPKM\\_value.y\\\\\n",
       " <chr> & <chr> & <int> & <chr> & <int>\\\\\n",
       "\\hline\n",
       "\t BCM\\_1\\_A17d                      & Sgs1 &   0 & Sgs4 &     0\\\\\n",
       "\t BCM\\_1\\_E14-16hr                  & Sgs1 &   0 & Sgs4 &     1\\\\\n",
       "\t BCM\\_1\\_E2-16hr                   & Sgs1 &   0 & Sgs4 &     0\\\\\n",
       "\t BCM\\_1\\_E2-16hr100                & Sgs1 &   0 & Sgs4 &     0\\\\\n",
       "\t BCM\\_1\\_E2-4hr                    & Sgs1 &   0 & Sgs4 &     0\\\\\n",
       "\t BCM\\_1\\_FA3d                      & Sgs1 &   0 & Sgs4 &     6\\\\\n",
       "\t BCM\\_1\\_L                         & Sgs1 &   4 & Sgs4 &     9\\\\\n",
       "\t BCM\\_1\\_L3i                       & Sgs1 & 314 & Sgs4 &  9451\\\\\n",
       "\t BCM\\_1\\_L3i100                    & Sgs1 &  20 & Sgs4 &  2088\\\\\n",
       "\t BCM\\_1\\_MA3d                      & Sgs1 &   2 & Sgs4 &    72\\\\\n",
       "\t BCM\\_1\\_P                         & Sgs1 &   0 & Sgs4 &     0\\\\\n",
       "\t BCM\\_1\\_P3d                       & Sgs1 &   0 & Sgs4 &     2\\\\\n",
       "\t Knoblich\\_mRNA\\_L3\\_CNS\\_neuroblast & Sgs1 &   0 & Sgs4 &     0\\\\\n",
       "\t Knoblich\\_mRNA\\_L3\\_CNS\\_neuron     & Sgs1 &   0 & Sgs4 &     2\\\\\n",
       "\t mE\\_mRNA\\_1182-4H\\_cells           & Sgs1 &   0 & Sgs4 &     0\\\\\n",
       "\t mE\\_mRNA\\_A\\_10d\\_Resveratrol\\_100uM & Sgs1 &   0 & Sgs4 &     0\\\\\n",
       "\t mE\\_mRNA\\_A\\_10d\\_Rotenone\\_Starved  & Sgs1 &   3 & Sgs4 &     2\\\\\n",
       "\t mE\\_mRNA\\_A\\_1d\\_carcass            & Sgs1 &   1 & Sgs4 &     3\\\\\n",
       "\t mE\\_mRNA\\_A\\_1d\\_dig\\_sys            & Sgs1 &   0 & Sgs4 &     0\\\\\n",
       "\t mE\\_mRNA\\_A\\_20d\\_carcass           & Sgs1 &   3 & Sgs4 &    70\\\\\n",
       "\t mE\\_mRNA\\_A\\_20d\\_dig\\_sys           & Sgs1 &   0 & Sgs4 &    10\\\\\n",
       "\t mE\\_mRNA\\_A\\_4d\\_Caffeine\\_2.5mg/ml  & Sgs1 &   0 & Sgs4 &     1\\\\\n",
       "\t mE\\_mRNA\\_A\\_4d\\_Caffeine\\_25mg/ml   & Sgs1 & 884 & Sgs4 & 13843\\\\\n",
       "\t mE\\_mRNA\\_A\\_4d\\_carcass            & Sgs1 &   2 & Sgs4 &     4\\\\\n",
       "\t mE\\_mRNA\\_A\\_4d\\_Cd\\_0.05M           & Sgs1 & 263 & Sgs4 &   529\\\\\n",
       "\t mE\\_mRNA\\_A\\_4d\\_Cd\\_0.1M            & Sgs1 &   2 & Sgs4 &     0\\\\\n",
       "\t mE\\_mRNA\\_A\\_4d\\_Cold1              & Sgs1 & 325 & Sgs4 & 10470\\\\\n",
       "\t mE\\_mRNA\\_A\\_4d\\_Cold2              & Sgs1 & 647 & Sgs4 & 21015\\\\\n",
       "\t mE\\_mRNA\\_A\\_4d\\_Cu\\_15mM            & Sgs1 & 124 & Sgs4 &  1226\\\\\n",
       "\t mE\\_mRNA\\_A\\_4d\\_dig\\_sys            & Sgs1 &   0 & Sgs4 &     5\\\\\n",
       "\t ⋮ & ⋮ & ⋮ & ⋮ & ⋮\\\\\n",
       "\t mE\\_mRNA\\_L3\\_late\\_Zn\\_5mM    & Sgs1 &  2887 & Sgs4 &  10396\\\\\n",
       "\t mE\\_mRNA\\_L3\\_PS1-2          & Sgs1 &   296 & Sgs4 &   2255\\\\\n",
       "\t mE\\_mRNA\\_L3\\_PS3-6          & Sgs1 &   471 & Sgs4 &   4277\\\\\n",
       "\t mE\\_mRNA\\_L3\\_PS7-9          & Sgs1 &   243 & Sgs4 &   3708\\\\\n",
       "\t mE\\_mRNA\\_L3\\_Rotenone\\_2ug   & Sgs1 &   116 & Sgs4 &   1344\\\\\n",
       "\t mE\\_mRNA\\_L3\\_Rotenone\\_8ug   & Sgs1 &    43 & Sgs4 &    300\\\\\n",
       "\t mE\\_mRNA\\_L3\\_Wand\\_carcass   & Sgs1 &    87 & Sgs4 &   1385\\\\\n",
       "\t mE\\_mRNA\\_L3\\_Wand\\_dig\\_sys   & Sgs1 &    46 & Sgs4 &   1681\\\\\n",
       "\t mE\\_mRNA\\_L3\\_Wand\\_fat       & Sgs1 &     2 & Sgs4 &    101\\\\\n",
       "\t mE\\_mRNA\\_L3\\_Wand\\_imag\\_disc & Sgs1 &    97 & Sgs4 &   5383\\\\\n",
       "\t mE\\_mRNA\\_L3\\_Wand\\_saliv     & Sgs1 & 11727 & Sgs4 & 340470\\\\\n",
       "\t mE\\_mRNA\\_M\\_Sindbis\\_virus   & Sgs1 &     1 & Sgs4 &      0\\\\\n",
       "\t mE\\_mRNA\\_mbn2\\_cells        & Sgs1 &     0 & Sgs4 &      0\\\\\n",
       "\t mE\\_mRNA\\_OSC\\_cells         & Sgs1 &     2 & Sgs4 &      0\\\\\n",
       "\t mE\\_mRNA\\_OSS\\_cells         & Sgs1 &     0 & Sgs4 &      1\\\\\n",
       "\t mE\\_mRNA\\_P\\_Sindbis\\_virus   & Sgs1 &     1 & Sgs4 &      2\\\\\n",
       "\t mE\\_mRNA\\_P15               & Sgs1 &     0 & Sgs4 &      0\\\\\n",
       "\t mE\\_mRNA\\_P5                & Sgs1 &     0 & Sgs4 &      0\\\\\n",
       "\t mE\\_mRNA\\_P6                & Sgs1 &     0 & Sgs4 &      0\\\\\n",
       "\t mE\\_mRNA\\_P8                & Sgs1 &     0 & Sgs4 &      0\\\\\n",
       "\t mE\\_mRNA\\_P8\\_CNS            & Sgs1 &     2 & Sgs4 &     48\\\\\n",
       "\t mE\\_mRNA\\_P8\\_fat            & Sgs1 &    17 & Sgs4 &    446\\\\\n",
       "\t mE\\_mRNA\\_P9-10             & Sgs1 &     0 & Sgs4 &      2\\\\\n",
       "\t mE\\_mRNA\\_S1\\_cells          & Sgs1 &     0 & Sgs4 &      0\\\\\n",
       "\t mE\\_mRNA\\_S2R+\\_cells        & Sgs1 &     6 & Sgs4 &      0\\\\\n",
       "\t mE\\_mRNA\\_S3\\_cells          & Sgs1 &     0 & Sgs4 &      0\\\\\n",
       "\t mE\\_mRNA\\_Sg4\\_cells         & Sgs1 &     0 & Sgs4 &      0\\\\\n",
       "\t mE\\_mRNA\\_WPP               & Sgs1 &     7 & Sgs4 &     79\\\\\n",
       "\t mE\\_mRNA\\_WPP\\_fat           & Sgs1 &     0 & Sgs4 &     27\\\\\n",
       "\t mE\\_mRNA\\_WPP\\_saliv         & Sgs1 &    60 & Sgs4 &   4478\\\\\n",
       "\\end{tabular}\n"
      ],
      "text/markdown": [
       "\n",
       "A data.frame: 124 × 5\n",
       "\n",
       "| RNASource_name &lt;chr&gt; | GeneSymbol.x &lt;chr&gt; | RPKM_value.x &lt;int&gt; | GeneSymbol.y &lt;chr&gt; | RPKM_value.y &lt;int&gt; |\n",
       "|---|---|---|---|---|\n",
       "| BCM_1_A17d                      | Sgs1 |   0 | Sgs4 |     0 |\n",
       "| BCM_1_E14-16hr                  | Sgs1 |   0 | Sgs4 |     1 |\n",
       "| BCM_1_E2-16hr                   | Sgs1 |   0 | Sgs4 |     0 |\n",
       "| BCM_1_E2-16hr100                | Sgs1 |   0 | Sgs4 |     0 |\n",
       "| BCM_1_E2-4hr                    | Sgs1 |   0 | Sgs4 |     0 |\n",
       "| BCM_1_FA3d                      | Sgs1 |   0 | Sgs4 |     6 |\n",
       "| BCM_1_L                         | Sgs1 |   4 | Sgs4 |     9 |\n",
       "| BCM_1_L3i                       | Sgs1 | 314 | Sgs4 |  9451 |\n",
       "| BCM_1_L3i100                    | Sgs1 |  20 | Sgs4 |  2088 |\n",
       "| BCM_1_MA3d                      | Sgs1 |   2 | Sgs4 |    72 |\n",
       "| BCM_1_P                         | Sgs1 |   0 | Sgs4 |     0 |\n",
       "| BCM_1_P3d                       | Sgs1 |   0 | Sgs4 |     2 |\n",
       "| Knoblich_mRNA_L3_CNS_neuroblast | Sgs1 |   0 | Sgs4 |     0 |\n",
       "| Knoblich_mRNA_L3_CNS_neuron     | Sgs1 |   0 | Sgs4 |     2 |\n",
       "| mE_mRNA_1182-4H_cells           | Sgs1 |   0 | Sgs4 |     0 |\n",
       "| mE_mRNA_A_10d_Resveratrol_100uM | Sgs1 |   0 | Sgs4 |     0 |\n",
       "| mE_mRNA_A_10d_Rotenone_Starved  | Sgs1 |   3 | Sgs4 |     2 |\n",
       "| mE_mRNA_A_1d_carcass            | Sgs1 |   1 | Sgs4 |     3 |\n",
       "| mE_mRNA_A_1d_dig_sys            | Sgs1 |   0 | Sgs4 |     0 |\n",
       "| mE_mRNA_A_20d_carcass           | Sgs1 |   3 | Sgs4 |    70 |\n",
       "| mE_mRNA_A_20d_dig_sys           | Sgs1 |   0 | Sgs4 |    10 |\n",
       "| mE_mRNA_A_4d_Caffeine_2.5mg/ml  | Sgs1 |   0 | Sgs4 |     1 |\n",
       "| mE_mRNA_A_4d_Caffeine_25mg/ml   | Sgs1 | 884 | Sgs4 | 13843 |\n",
       "| mE_mRNA_A_4d_carcass            | Sgs1 |   2 | Sgs4 |     4 |\n",
       "| mE_mRNA_A_4d_Cd_0.05M           | Sgs1 | 263 | Sgs4 |   529 |\n",
       "| mE_mRNA_A_4d_Cd_0.1M            | Sgs1 |   2 | Sgs4 |     0 |\n",
       "| mE_mRNA_A_4d_Cold1              | Sgs1 | 325 | Sgs4 | 10470 |\n",
       "| mE_mRNA_A_4d_Cold2              | Sgs1 | 647 | Sgs4 | 21015 |\n",
       "| mE_mRNA_A_4d_Cu_15mM            | Sgs1 | 124 | Sgs4 |  1226 |\n",
       "| mE_mRNA_A_4d_dig_sys            | Sgs1 |   0 | Sgs4 |     5 |\n",
       "| ⋮ | ⋮ | ⋮ | ⋮ | ⋮ |\n",
       "| mE_mRNA_L3_late_Zn_5mM    | Sgs1 |  2887 | Sgs4 |  10396 |\n",
       "| mE_mRNA_L3_PS1-2          | Sgs1 |   296 | Sgs4 |   2255 |\n",
       "| mE_mRNA_L3_PS3-6          | Sgs1 |   471 | Sgs4 |   4277 |\n",
       "| mE_mRNA_L3_PS7-9          | Sgs1 |   243 | Sgs4 |   3708 |\n",
       "| mE_mRNA_L3_Rotenone_2ug   | Sgs1 |   116 | Sgs4 |   1344 |\n",
       "| mE_mRNA_L3_Rotenone_8ug   | Sgs1 |    43 | Sgs4 |    300 |\n",
       "| mE_mRNA_L3_Wand_carcass   | Sgs1 |    87 | Sgs4 |   1385 |\n",
       "| mE_mRNA_L3_Wand_dig_sys   | Sgs1 |    46 | Sgs4 |   1681 |\n",
       "| mE_mRNA_L3_Wand_fat       | Sgs1 |     2 | Sgs4 |    101 |\n",
       "| mE_mRNA_L3_Wand_imag_disc | Sgs1 |    97 | Sgs4 |   5383 |\n",
       "| mE_mRNA_L3_Wand_saliv     | Sgs1 | 11727 | Sgs4 | 340470 |\n",
       "| mE_mRNA_M_Sindbis_virus   | Sgs1 |     1 | Sgs4 |      0 |\n",
       "| mE_mRNA_mbn2_cells        | Sgs1 |     0 | Sgs4 |      0 |\n",
       "| mE_mRNA_OSC_cells         | Sgs1 |     2 | Sgs4 |      0 |\n",
       "| mE_mRNA_OSS_cells         | Sgs1 |     0 | Sgs4 |      1 |\n",
       "| mE_mRNA_P_Sindbis_virus   | Sgs1 |     1 | Sgs4 |      2 |\n",
       "| mE_mRNA_P15               | Sgs1 |     0 | Sgs4 |      0 |\n",
       "| mE_mRNA_P5                | Sgs1 |     0 | Sgs4 |      0 |\n",
       "| mE_mRNA_P6                | Sgs1 |     0 | Sgs4 |      0 |\n",
       "| mE_mRNA_P8                | Sgs1 |     0 | Sgs4 |      0 |\n",
       "| mE_mRNA_P8_CNS            | Sgs1 |     2 | Sgs4 |     48 |\n",
       "| mE_mRNA_P8_fat            | Sgs1 |    17 | Sgs4 |    446 |\n",
       "| mE_mRNA_P9-10             | Sgs1 |     0 | Sgs4 |      2 |\n",
       "| mE_mRNA_S1_cells          | Sgs1 |     0 | Sgs4 |      0 |\n",
       "| mE_mRNA_S2R+_cells        | Sgs1 |     6 | Sgs4 |      0 |\n",
       "| mE_mRNA_S3_cells          | Sgs1 |     0 | Sgs4 |      0 |\n",
       "| mE_mRNA_Sg4_cells         | Sgs1 |     0 | Sgs4 |      0 |\n",
       "| mE_mRNA_WPP               | Sgs1 |     7 | Sgs4 |     79 |\n",
       "| mE_mRNA_WPP_fat           | Sgs1 |     0 | Sgs4 |     27 |\n",
       "| mE_mRNA_WPP_saliv         | Sgs1 |    60 | Sgs4 |   4478 |\n",
       "\n"
      ],
      "text/plain": [
       "    RNASource_name                  GeneSymbol.x RPKM_value.x GeneSymbol.y\n",
       "1   BCM_1_A17d                      Sgs1           0          Sgs4        \n",
       "2   BCM_1_E14-16hr                  Sgs1           0          Sgs4        \n",
       "3   BCM_1_E2-16hr                   Sgs1           0          Sgs4        \n",
       "4   BCM_1_E2-16hr100                Sgs1           0          Sgs4        \n",
       "5   BCM_1_E2-4hr                    Sgs1           0          Sgs4        \n",
       "6   BCM_1_FA3d                      Sgs1           0          Sgs4        \n",
       "7   BCM_1_L                         Sgs1           4          Sgs4        \n",
       "8   BCM_1_L3i                       Sgs1         314          Sgs4        \n",
       "9   BCM_1_L3i100                    Sgs1          20          Sgs4        \n",
       "10  BCM_1_MA3d                      Sgs1           2          Sgs4        \n",
       "11  BCM_1_P                         Sgs1           0          Sgs4        \n",
       "12  BCM_1_P3d                       Sgs1           0          Sgs4        \n",
       "13  Knoblich_mRNA_L3_CNS_neuroblast Sgs1           0          Sgs4        \n",
       "14  Knoblich_mRNA_L3_CNS_neuron     Sgs1           0          Sgs4        \n",
       "15  mE_mRNA_1182-4H_cells           Sgs1           0          Sgs4        \n",
       "16  mE_mRNA_A_10d_Resveratrol_100uM Sgs1           0          Sgs4        \n",
       "17  mE_mRNA_A_10d_Rotenone_Starved  Sgs1           3          Sgs4        \n",
       "18  mE_mRNA_A_1d_carcass            Sgs1           1          Sgs4        \n",
       "19  mE_mRNA_A_1d_dig_sys            Sgs1           0          Sgs4        \n",
       "20  mE_mRNA_A_20d_carcass           Sgs1           3          Sgs4        \n",
       "21  mE_mRNA_A_20d_dig_sys           Sgs1           0          Sgs4        \n",
       "22  mE_mRNA_A_4d_Caffeine_2.5mg/ml  Sgs1           0          Sgs4        \n",
       "23  mE_mRNA_A_4d_Caffeine_25mg/ml   Sgs1         884          Sgs4        \n",
       "24  mE_mRNA_A_4d_carcass            Sgs1           2          Sgs4        \n",
       "25  mE_mRNA_A_4d_Cd_0.05M           Sgs1         263          Sgs4        \n",
       "26  mE_mRNA_A_4d_Cd_0.1M            Sgs1           2          Sgs4        \n",
       "27  mE_mRNA_A_4d_Cold1              Sgs1         325          Sgs4        \n",
       "28  mE_mRNA_A_4d_Cold2              Sgs1         647          Sgs4        \n",
       "29  mE_mRNA_A_4d_Cu_15mM            Sgs1         124          Sgs4        \n",
       "30  mE_mRNA_A_4d_dig_sys            Sgs1           0          Sgs4        \n",
       "⋮   ⋮                               ⋮            ⋮            ⋮           \n",
       "95  mE_mRNA_L3_late_Zn_5mM          Sgs1          2887        Sgs4        \n",
       "96  mE_mRNA_L3_PS1-2                Sgs1           296        Sgs4        \n",
       "97  mE_mRNA_L3_PS3-6                Sgs1           471        Sgs4        \n",
       "98  mE_mRNA_L3_PS7-9                Sgs1           243        Sgs4        \n",
       "99  mE_mRNA_L3_Rotenone_2ug         Sgs1           116        Sgs4        \n",
       "100 mE_mRNA_L3_Rotenone_8ug         Sgs1            43        Sgs4        \n",
       "101 mE_mRNA_L3_Wand_carcass         Sgs1            87        Sgs4        \n",
       "102 mE_mRNA_L3_Wand_dig_sys         Sgs1            46        Sgs4        \n",
       "103 mE_mRNA_L3_Wand_fat             Sgs1             2        Sgs4        \n",
       "104 mE_mRNA_L3_Wand_imag_disc       Sgs1            97        Sgs4        \n",
       "105 mE_mRNA_L3_Wand_saliv           Sgs1         11727        Sgs4        \n",
       "106 mE_mRNA_M_Sindbis_virus         Sgs1             1        Sgs4        \n",
       "107 mE_mRNA_mbn2_cells              Sgs1             0        Sgs4        \n",
       "108 mE_mRNA_OSC_cells               Sgs1             2        Sgs4        \n",
       "109 mE_mRNA_OSS_cells               Sgs1             0        Sgs4        \n",
       "110 mE_mRNA_P_Sindbis_virus         Sgs1             1        Sgs4        \n",
       "111 mE_mRNA_P15                     Sgs1             0        Sgs4        \n",
       "112 mE_mRNA_P5                      Sgs1             0        Sgs4        \n",
       "113 mE_mRNA_P6                      Sgs1             0        Sgs4        \n",
       "114 mE_mRNA_P8                      Sgs1             0        Sgs4        \n",
       "115 mE_mRNA_P8_CNS                  Sgs1             2        Sgs4        \n",
       "116 mE_mRNA_P8_fat                  Sgs1            17        Sgs4        \n",
       "117 mE_mRNA_P9-10                   Sgs1             0        Sgs4        \n",
       "118 mE_mRNA_S1_cells                Sgs1             0        Sgs4        \n",
       "119 mE_mRNA_S2R+_cells              Sgs1             6        Sgs4        \n",
       "120 mE_mRNA_S3_cells                Sgs1             0        Sgs4        \n",
       "121 mE_mRNA_Sg4_cells               Sgs1             0        Sgs4        \n",
       "122 mE_mRNA_WPP                     Sgs1             7        Sgs4        \n",
       "123 mE_mRNA_WPP_fat                 Sgs1             0        Sgs4        \n",
       "124 mE_mRNA_WPP_saliv               Sgs1            60        Sgs4        \n",
       "    RPKM_value.y\n",
       "1       0       \n",
       "2       1       \n",
       "3       0       \n",
       "4       0       \n",
       "5       0       \n",
       "6       6       \n",
       "7       9       \n",
       "8    9451       \n",
       "9    2088       \n",
       "10     72       \n",
       "11      0       \n",
       "12      2       \n",
       "13      0       \n",
       "14      2       \n",
       "15      0       \n",
       "16      0       \n",
       "17      2       \n",
       "18      3       \n",
       "19      0       \n",
       "20     70       \n",
       "21     10       \n",
       "22      1       \n",
       "23  13843       \n",
       "24      4       \n",
       "25    529       \n",
       "26      0       \n",
       "27  10470       \n",
       "28  21015       \n",
       "29   1226       \n",
       "30      5       \n",
       "⋮   ⋮           \n",
       "95   10396      \n",
       "96    2255      \n",
       "97    4277      \n",
       "98    3708      \n",
       "99    1344      \n",
       "100    300      \n",
       "101   1385      \n",
       "102   1681      \n",
       "103    101      \n",
       "104   5383      \n",
       "105 340470      \n",
       "106      0      \n",
       "107      0      \n",
       "108      0      \n",
       "109      1      \n",
       "110      2      \n",
       "111      0      \n",
       "112      0      \n",
       "113      0      \n",
       "114      0      \n",
       "115     48      \n",
       "116    446      \n",
       "117      2      \n",
       "118      0      \n",
       "119      0      \n",
       "120      0      \n",
       "121      0      \n",
       "122     79      \n",
       "123     27      \n",
       "124   4478      "
      ]
     },
     "metadata": {},
     "output_type": "display_data"
    },
    {
     "data": {
      "text/html": [
       "<style>\n",
       ".list-inline {list-style: none; margin:0; padding: 0}\n",
       ".list-inline>li {display: inline-block}\n",
       ".list-inline>li:not(:last-child)::after {content: \"\\00b7\"; padding: 0 .5ex}\n",
       "</style>\n",
       "<ol class=list-inline><li>'RNASource_name'</li><li>'GeneSymbol.x'</li><li>'RPKM_value.x'</li><li>'GeneSymbol.y'</li><li>'RPKM_value.y'</li></ol>\n"
      ],
      "text/latex": [
       "\\begin{enumerate*}\n",
       "\\item 'RNASource\\_name'\n",
       "\\item 'GeneSymbol.x'\n",
       "\\item 'RPKM\\_value.x'\n",
       "\\item 'GeneSymbol.y'\n",
       "\\item 'RPKM\\_value.y'\n",
       "\\end{enumerate*}\n"
      ],
      "text/markdown": [
       "1. 'RNASource_name'\n",
       "2. 'GeneSymbol.x'\n",
       "3. 'RPKM_value.x'\n",
       "4. 'GeneSymbol.y'\n",
       "5. 'RPKM_value.y'\n",
       "\n",
       "\n"
      ],
      "text/plain": [
       "[1] \"RNASource_name\" \"GeneSymbol.x\"   \"RPKM_value.x\"   \"GeneSymbol.y\"  \n",
       "[5] \"RPKM_value.y\"  "
      ]
     },
     "metadata": {},
     "output_type": "display_data"
    }
   ],
   "source": [
    "#cell34\n",
    "sgs14\n",
    "names(sgs14)"
   ]
  },
  {
   "cell_type": "markdown",
   "metadata": {},
   "source": [
    ">-> La colonne RPKM_value.x correspond à l'expression dans le 1er dataframe mis en argument dans la fonction `merge()`: il s'agit de sgs1.\n",
    ">La colonne RPKM_value.y correspond à l'expression dans le 2nd dataframe mis en argument dans la fonction `merge()`: il s'agit de sgs4."
   ]
  },
  {
   "cell_type": "markdown",
   "metadata": {},
   "source": [
    "> Globalement, on observe que ces deux gènes ne sont pas exprimés dans toutes les conditions mais que leur expression semble similaire.\n",
    ">\n",
    ">__*=> Pour aller plus loin:*__ \n",
    ">On représente l'expression graphiquement avec une transformation en log2 pour avoir une meilleure comparaison de l'amplitude entre les deux gènes. Pour éviter les valeurs log2(0), on ajoute dans ce cas artificiellement une valeur (ici 1) aux valeurs à transformer."
   ]
  },
  {
   "cell_type": "code",
   "execution_count": 44,
   "metadata": {},
   "outputs": [
    {
     "data": {
      "image/png": "[encoded data removed]",
      "text/plain": [
       "Plot with title “Niveau d'expression des gènes Sgs4 et Sgs1 \n",
       " par condition en log2(RPKM)”"
      ]
     },
     "metadata": {
      "image/png": {
       "height": 420,
       "width": 420
      }
     },
     "output_type": "display_data"
    }
   ],
   "source": [
    "#cell34.2\n",
    "plot(log2(sgs14$RPKM_value.y + 1), type=\"l\", col=\"red\", main=\"Niveau d'expression des gènes Sgs4 et Sgs1 \\n par condition en log2(RPKM)\", ylab=\"niveau d'expression en log2(RPKM)\", xlab=\"condition 1 à 124\")\n",
    "points(log2(sgs14$RPKM_value.x +  1), type = \"l\", col=\"blue\")\n",
    "legend(\"topleft\", c(\"Sgs1\", \"Sgs4\"), col=c(\"blue\", \"red\"), lty=c(1,1))"
   ]
  },
  {
   "cell_type": "markdown",
   "metadata": {},
   "source": [
    ">__*=> Pour aller plus loin:*__ \n",
    ">\n",
    ">On regarde la distribution des deux gènes avec la fonction `summary`.\n",
    ">Ainsi, globalement, plus de 50% des conditions montrent une epression supérieure de sgs4. Pour Sgs1, au moins 50% des conditions ne montrent pas d'expression. Pour Sgs4, au moins 25% des conditions ne montrent pas d'expression.\n"
   ]
  },
  {
   "cell_type": "code",
   "execution_count": 45,
   "metadata": {},
   "outputs": [
    {
     "data": {
      "text/plain": [
       "   Min. 1st Qu.  Median    Mean 3rd Qu.    Max. \n",
       "    0.0     0.0     0.0   187.3     7.0 11727.0 "
      ]
     },
     "metadata": {},
     "output_type": "display_data"
    }
   ],
   "source": [
    "#cell34.3\n",
    "summary(sgs14$RPKM_value.x)"
   ]
  },
  {
   "cell_type": "code",
   "execution_count": 46,
   "metadata": {},
   "outputs": [
    {
     "data": {
      "text/plain": [
       "    Min.  1st Qu.   Median     Mean  3rd Qu.     Max. \n",
       "     0.0      0.0      1.0   3749.1     83.2 340470.0 "
      ]
     },
     "metadata": {},
     "output_type": "display_data"
    }
   ],
   "source": [
    "#cell34.4\n",
    "summary(sgs14$RPKM_value.y)"
   ]
  },
  {
   "cell_type": "markdown",
   "metadata": {},
   "source": [
    ">__*=> Pour aller plus loin:*__ \n",
    ">\n",
    ">On peut aussi calculer la différence d'expression entre ces deux gènes.\n",
    ">Cependant, on observe 15 conditions où sgs1 est plus exprimé et 51 conditions où l'expression est identique (sans doute nulle). Il faudrait cependant faire une analyse statistique d'expression différentielle pour conclure sur ces différences ou non en prenant en compte l'incertitude de la différence due à la fluctuation d'échantillonage en prenant les variances des différences. Mais aucun réplicat n'étant fourni, cette analyse statistique est impossible."
   ]
  },
  {
   "cell_type": "code",
   "execution_count": 47,
   "metadata": {},
   "outputs": [
    {
     "data": {
      "text/plain": [
       "    Min.  1st Qu.   Median     Mean  3rd Qu.     Max. \n",
       "    -6.0      0.0      0.0   3561.9     77.8 328743.0 "
      ]
     },
     "metadata": {},
     "output_type": "display_data"
    },
    {
     "data": {
      "text/html": [
       "15"
      ],
      "text/latex": [
       "15"
      ],
      "text/markdown": [
       "15"
      ],
      "text/plain": [
       "[1] 15"
      ]
     },
     "metadata": {},
     "output_type": "display_data"
    },
    {
     "data": {
      "text/html": [
       "51"
      ],
      "text/latex": [
       "51"
      ],
      "text/markdown": [
       "51"
      ],
      "text/plain": [
       "[1] 51"
      ]
     },
     "metadata": {},
     "output_type": "display_data"
    },
    {
     "data": {
      "text/html": [
       "58"
      ],
      "text/latex": [
       "58"
      ],
      "text/markdown": [
       "58"
      ],
      "text/plain": [
       "[1] 58"
      ]
     },
     "metadata": {},
     "output_type": "display_data"
    }
   ],
   "source": [
    "#cell34.5\n",
    "diff_sgs4minussgs1 <- sgs14$RPKM_value.y - sgs14$RPKM_value.x\n",
    "summary(diff_sgs4minussgs1)\n",
    "length(which(diff_sgs4minussgs1 < 0))\n",
    "length(which(diff_sgs4minussgs1 == 0))\n",
    "length(which(diff_sgs4minussgs1 > 0))"
   ]
  },
  {
   "cell_type": "markdown",
   "metadata": {},
   "source": [
    "---\n",
    "### Exercice 2.4.\n",
    "À partir de `droso`, extrayez le dataframe correspondant à tous les gènes de cette famille multigénique.<br>\n",
    "\n",
    "*__Tip :__* _fonction recommandée : Utilisez la fonction `grep` avec le préfixe de la famille (sans le chiffre final) comme chaine de caractère à rechercher._"
   ]
  },
  {
   "cell_type": "code",
   "execution_count": 48,
   "metadata": {},
   "outputs": [],
   "source": [
    "#cell35\n",
    "sgs <- droso[grep(\"Sgs\", droso$GeneSymbol),]"
   ]
  },
  {
   "cell_type": "markdown",
   "metadata": {},
   "source": [
    "Listez les gènes de cette famille multigénique :"
   ]
  },
  {
   "cell_type": "code",
   "execution_count": 49,
   "metadata": {},
   "outputs": [
    {
     "data": {
      "text/html": [
       "<style>\n",
       ".list-inline {list-style: none; margin:0; padding: 0}\n",
       ".list-inline>li {display: inline-block}\n",
       ".list-inline>li:not(:last-child)::after {content: \"\\00b7\"; padding: 0 .5ex}\n",
       "</style>\n",
       "<ol class=list-inline><li>'Sgs1'</li><li>'Sgs3'</li><li>'Sgs4'</li><li>'Sgs5'</li><li>'Sgs7'</li><li>'Sgs8'</li><li>'Sgs5bis'</li><li>'Sgsh'</li></ol>\n"
      ],
      "text/latex": [
       "\\begin{enumerate*}\n",
       "\\item 'Sgs1'\n",
       "\\item 'Sgs3'\n",
       "\\item 'Sgs4'\n",
       "\\item 'Sgs5'\n",
       "\\item 'Sgs7'\n",
       "\\item 'Sgs8'\n",
       "\\item 'Sgs5bis'\n",
       "\\item 'Sgsh'\n",
       "\\end{enumerate*}\n"
      ],
      "text/markdown": [
       "1. 'Sgs1'\n",
       "2. 'Sgs3'\n",
       "3. 'Sgs4'\n",
       "4. 'Sgs5'\n",
       "5. 'Sgs7'\n",
       "6. 'Sgs8'\n",
       "7. 'Sgs5bis'\n",
       "8. 'Sgsh'\n",
       "\n",
       "\n"
      ],
      "text/plain": [
       "[1] \"Sgs1\"    \"Sgs3\"    \"Sgs4\"    \"Sgs5\"    \"Sgs7\"    \"Sgs8\"    \"Sgs5bis\"\n",
       "[8] \"Sgsh\"   "
      ]
     },
     "metadata": {},
     "output_type": "display_data"
    }
   ],
   "source": [
    "#cell36\n",
    "unique(sgs$GeneSymbol)"
   ]
  },
  {
   "cell_type": "markdown",
   "metadata": {},
   "source": [
    "Combien de sources d'ARN ont été analysées pour chacun de ces gènes ?\n",
    "\n",
    "*__Tip :__* _fonction recommandée : `table`_"
   ]
  },
  {
   "cell_type": "code",
   "execution_count": 50,
   "metadata": {},
   "outputs": [
    {
     "data": {
      "text/plain": [
       "\n",
       "   Sgs1    Sgs3    Sgs4    Sgs5 Sgs5bis    Sgs7    Sgs8    Sgsh \n",
       "    124     124     124     124     124     124     124     124 "
      ]
     },
     "metadata": {},
     "output_type": "display_data"
    }
   ],
   "source": [
    "#cell37\n",
    "table(sgs$GeneSymbol)"
   ]
  },
  {
   "cell_type": "markdown",
   "metadata": {},
   "source": [
    "---\n",
    "---\n",
    "### Challenge facultatif\n",
    "Pour les plus avantureux !!<br>\n",
    "Il s'agit de lister les gènes qui ne sont jamais exprimés, c'est-à-dire qui ne sont exprimés dans aucune source d'ARN.\n",
    "\n",
    "__Attention:__ il faut procéder en deux temps.<br>\n",
    "Tout d'abord, listez les gènes qui sont exprimés dans au moins une source d'ARN.\n",
    "Pour cela, commencez par identifier les lignes du dataframe `droso` dans lequelles le gène est exprimé (`RPKM_value > 0`). À partir de là, déterminez ensuite combien de gènes distincts sont exprimés dans au moins une source d'ARN.\n",
    "Créez le vecteur de ces gènes. Appelez-le `expressed`.\n",
    "\n",
    "Vous pouvez alors lister les gènes qui ne sont exprimés dans aucune source d'ARN. Appelez ce vecteur `never_expressed`. Ce vecteur `never_expressed` est la différence entre le vecteur de tous les gènes et le vecteur `expressed` des gènes exprimés dans au moins une source d'ARN. Pour l'obtenir, utilisez la fonction `setdiff`.<br>\n",
    "Combien de gènes ne sont ainsi jamais exprimés ?<br>\n",
    "Vérifiez-le."
   ]
  },
  {
   "cell_type": "code",
   "execution_count": 51,
   "metadata": {},
   "outputs": [
    {
     "name": "stdout",
     "output_type": "stream",
     "text": [
      "Nombre de lignes correspondant aux gènes exprimés :  1287051 \n",
      "Nombre de gènes distincts exprimés dans au moins une condition : 17307 \n",
      "Nombre de gènes jamais exprimés : 384 \n",
      "Nombre total de gènes : 17691 \n",
      "Expression maximale des gènes jamais exprimés :  0"
     ]
    }
   ],
   "source": [
    "# cell38: A vous de jouer!\n",
    "cat(\"Nombre de lignes correspondant aux gènes exprimés : \", nrow(subset(droso, RPKM_value > 0)), \"\\n\")\n",
    "# length(unique(subset(droso, RPKM_value > 0)$GeneSymbol))\n",
    "expressed <- unique(subset(droso, RPKM_value > 0)$GeneSymbol)\n",
    "cat(\"Nombre de gènes distincts exprimés dans au moins une condition :\", length(expressed), \"\\n\")\n",
    "never_expressed <- setdiff(unique(droso$GeneSymbol), expressed)\n",
    "cat(\"Nombre de gènes jamais exprimés :\", length(never_expressed), \"\\n\")\n",
    "cat(\"Nombre total de gènes :\", length(unique(droso$GeneSymbol)), \"\\n\")\n",
    "cat(\"Expression maximale des gènes jamais exprimés : \", max(droso$RPKM_value[droso$GeneSymbol %in% never_expressed]))"
   ]
  },
  {
   "cell_type": "markdown",
   "metadata": {},
   "source": [
    "---\n",
    "---\n",
    "\n",
    "## Exercice 3 facultatif\n",
    "\n",
    "Sauvegardez dans une liste session3_list tous les objets créés pendant les exercices 1 à 2 en les mettant dans des sous-listes correspondant à chaque exercice que vous nommerez `exo1` et `exo2`.\n",
    "\n",
    "*__Tip :__*\n",
    "_fonctions recommandées : `list()`, `names()`_"
   ]
  },
  {
   "cell_type": "markdown",
   "metadata": {},
   "source": [
    "---\n",
    ">- Je commence par lister tous les objets créés:"
   ]
  },
  {
   "cell_type": "code",
   "execution_count": 52,
   "metadata": {},
   "outputs": [
    {
     "name": "stdout",
     "output_type": "stream",
     "text": [
      " [1] \"diff_sgs4minussgs1\" \"droso\"              \"expressed\"         \n",
      " [4] \"my_vector\"          \"never_expressed\"    \"sgs\"               \n",
      " [7] \"sgs1\"               \"sgs14\"              \"sgs4\"              \n",
      "[10] \"sumcolA\"            \"test.data\"          \"test.data2\"        \n"
     ]
    }
   ],
   "source": [
    "# cell39\n",
    "print(ls())# check what is in your environment"
   ]
  },
  {
   "cell_type": "markdown",
   "metadata": {},
   "source": [
    "---\n",
    ">- J'initialise la liste vide correspondant à cette session:"
   ]
  },
  {
   "cell_type": "code",
   "execution_count": 53,
   "metadata": {},
   "outputs": [],
   "source": [
    "# cell39.2\n",
    "session3_list <- list()"
   ]
  },
  {
   "cell_type": "markdown",
   "metadata": {},
   "source": [
    "---\n",
    ">- Voici une __1ère méthode pas à pas pour l'exo1__ en créant d'abord une sous-liste de l'exo1 puis en la rentrant dans la liste de la session.\n",
    "\n",
    "  "
   ]
  },
  {
   "cell_type": "markdown",
   "metadata": {},
   "source": [
    ">1. d'abord la sous-liste `exo1`:"
   ]
  },
  {
   "cell_type": "code",
   "execution_count": 54,
   "metadata": {},
   "outputs": [
    {
     "data": {
      "text/html": [
       "<dl>\n",
       "\t<dt>$test.data</dt>\n",
       "\t\t<dd><table class=\"dataframe\">\n",
       "<caption>A data.frame: 5 × 6</caption>\n",
       "<thead>\n",
       "\t<tr><th></th><th scope=col>colA</th><th scope=col>colB</th><th scope=col>colC</th><th scope=col>colD</th><th scope=col>colE</th><th scope=col>EbyA</th></tr>\n",
       "\t<tr><th></th><th scope=col>&lt;dbl&gt;</th><th scope=col>&lt;dbl&gt;</th><th scope=col>&lt;chr&gt;</th><th scope=col>&lt;chr&gt;</th><th scope=col>&lt;int&gt;</th><th scope=col>&lt;dbl&gt;</th></tr>\n",
       "</thead>\n",
       "<tbody>\n",
       "\t<tr><th scope=row>6</th><td> 3.2</td><td>0</td><td>mumu</td><td>non</td><td> 1</td><td>0.3125000</td></tr>\n",
       "\t<tr><th scope=row>5</th><td> 8.9</td><td>1</td><td>mama</td><td>oui</td><td> 2</td><td>0.2247191</td></tr>\n",
       "\t<tr><th scope=row>1</th><td> 2.2</td><td>1</td><td>mama</td><td>oui</td><td> 3</td><td>1.3636364</td></tr>\n",
       "\t<tr><th scope=row>3</th><td>  NA</td><td>0</td><td>momo</td><td>NA </td><td> 7</td><td>       NA</td></tr>\n",
       "\t<tr><th scope=row>4</th><td>10.1</td><td>1</td><td>mimi</td><td>oui</td><td>10</td><td>0.9900990</td></tr>\n",
       "</tbody>\n",
       "</table>\n",
       "</dd>\n",
       "\t<dt>$sumcolA</dt>\n",
       "\t\t<dd>24.4</dd>\n",
       "\t<dt>$test.data2</dt>\n",
       "\t\t<dd><table class=\"dataframe\">\n",
       "<caption>A data.frame: 3 × 6</caption>\n",
       "<thead>\n",
       "\t<tr><th></th><th scope=col>colA</th><th scope=col>colB</th><th scope=col>colC</th><th scope=col>colD</th><th scope=col>colE</th><th scope=col>EbyA</th></tr>\n",
       "\t<tr><th></th><th scope=col>&lt;dbl&gt;</th><th scope=col>&lt;dbl&gt;</th><th scope=col>&lt;chr&gt;</th><th scope=col>&lt;chr&gt;</th><th scope=col>&lt;int&gt;</th><th scope=col>&lt;dbl&gt;</th></tr>\n",
       "</thead>\n",
       "<tbody>\n",
       "\t<tr><th scope=row>6</th><td> 3.2</td><td>0</td><td>mumu</td><td>non</td><td> 1</td><td>0.3125000</td></tr>\n",
       "\t<tr><th scope=row>5</th><td> 8.9</td><td>1</td><td>mama</td><td>oui</td><td> 2</td><td>0.2247191</td></tr>\n",
       "\t<tr><th scope=row>4</th><td>10.1</td><td>1</td><td>mimi</td><td>oui</td><td>10</td><td>0.9900990</td></tr>\n",
       "</tbody>\n",
       "</table>\n",
       "</dd>\n",
       "</dl>\n"
      ],
      "text/latex": [
       "\\begin{description}\n",
       "\\item[\\$test.data] A data.frame: 5 × 6\n",
       "\\begin{tabular}{r|llllll}\n",
       "  & colA & colB & colC & colD & colE & EbyA\\\\\n",
       "  & <dbl> & <dbl> & <chr> & <chr> & <int> & <dbl>\\\\\n",
       "\\hline\n",
       "\t6 &  3.2 & 0 & mumu & non &  1 & 0.3125000\\\\\n",
       "\t5 &  8.9 & 1 & mama & oui &  2 & 0.2247191\\\\\n",
       "\t1 &  2.2 & 1 & mama & oui &  3 & 1.3636364\\\\\n",
       "\t3 &   NA & 0 & momo & NA  &  7 &        NA\\\\\n",
       "\t4 & 10.1 & 1 & mimi & oui & 10 & 0.9900990\\\\\n",
       "\\end{tabular}\n",
       "\n",
       "\\item[\\$sumcolA] 24.4\n",
       "\\item[\\$test.data2] A data.frame: 3 × 6\n",
       "\\begin{tabular}{r|llllll}\n",
       "  & colA & colB & colC & colD & colE & EbyA\\\\\n",
       "  & <dbl> & <dbl> & <chr> & <chr> & <int> & <dbl>\\\\\n",
       "\\hline\n",
       "\t6 &  3.2 & 0 & mumu & non &  1 & 0.3125000\\\\\n",
       "\t5 &  8.9 & 1 & mama & oui &  2 & 0.2247191\\\\\n",
       "\t4 & 10.1 & 1 & mimi & oui & 10 & 0.9900990\\\\\n",
       "\\end{tabular}\n",
       "\n",
       "\\end{description}\n"
      ],
      "text/markdown": [
       "$test.data\n",
       ":   \n",
       "A data.frame: 5 × 6\n",
       "\n",
       "| <!--/--> | colA &lt;dbl&gt; | colB &lt;dbl&gt; | colC &lt;chr&gt; | colD &lt;chr&gt; | colE &lt;int&gt; | EbyA &lt;dbl&gt; |\n",
       "|---|---|---|---|---|---|---|\n",
       "| 6 |  3.2 | 0 | mumu | non |  1 | 0.3125000 |\n",
       "| 5 |  8.9 | 1 | mama | oui |  2 | 0.2247191 |\n",
       "| 1 |  2.2 | 1 | mama | oui |  3 | 1.3636364 |\n",
       "| 3 |   NA | 0 | momo | NA  |  7 |        NA |\n",
       "| 4 | 10.1 | 1 | mimi | oui | 10 | 0.9900990 |\n",
       "\n",
       "\n",
       "$sumcolA\n",
       ":   24.4\n",
       "$test.data2\n",
       ":   \n",
       "A data.frame: 3 × 6\n",
       "\n",
       "| <!--/--> | colA &lt;dbl&gt; | colB &lt;dbl&gt; | colC &lt;chr&gt; | colD &lt;chr&gt; | colE &lt;int&gt; | EbyA &lt;dbl&gt; |\n",
       "|---|---|---|---|---|---|---|\n",
       "| 6 |  3.2 | 0 | mumu | non |  1 | 0.3125000 |\n",
       "| 5 |  8.9 | 1 | mama | oui |  2 | 0.2247191 |\n",
       "| 4 | 10.1 | 1 | mimi | oui | 10 | 0.9900990 |\n",
       "\n",
       "\n",
       "\n",
       "\n"
      ],
      "text/plain": [
       "$test.data\n",
       "  colA colB colC colD colE      EbyA\n",
       "6  3.2    0 mumu  non    1 0.3125000\n",
       "5  8.9    1 mama  oui    2 0.2247191\n",
       "1  2.2    1 mama  oui    3 1.3636364\n",
       "3   NA    0 momo <NA>    7        NA\n",
       "4 10.1    1 mimi  oui   10 0.9900990\n",
       "\n",
       "$sumcolA\n",
       "[1] 24.4\n",
       "\n",
       "$test.data2\n",
       "  colA colB colC colD colE      EbyA\n",
       "6  3.2    0 mumu  non    1 0.3125000\n",
       "5  8.9    1 mama  oui    2 0.2247191\n",
       "4 10.1    1 mimi  oui   10 0.9900990\n"
      ]
     },
     "metadata": {},
     "output_type": "display_data"
    },
    {
     "name": "stdout",
     "output_type": "stream",
     "text": [
      "List of 3\n",
      " $ test.data :'data.frame':\t5 obs. of  6 variables:\n",
      "  ..$ colA: num [1:5] 3.2 8.9 2.2 NA 10.1\n",
      "  ..$ colB: num [1:5] 0 1 1 0 1\n",
      "  ..$ colC: chr [1:5] \"mumu\" \"mama\" \"mama\" \"momo\" ...\n",
      "  ..$ colD: chr [1:5] \"non\" \"oui\" \"oui\" NA ...\n",
      "  ..$ colE: int [1:5] 1 2 3 7 10\n",
      "  ..$ EbyA: num [1:5] 0.312 0.225 1.364 NA 0.99\n",
      " $ sumcolA   : num 24.4\n",
      " $ test.data2:'data.frame':\t3 obs. of  6 variables:\n",
      "  ..$ colA: num [1:3] 3.2 8.9 10.1\n",
      "  ..$ colB: num [1:3] 0 1 1\n",
      "  ..$ colC: chr [1:3] \"mumu\" \"mama\" \"mimi\"\n",
      "  ..$ colD: chr [1:3] \"non\" \"oui\" \"oui\"\n",
      "  ..$ colE: int [1:3] 1 2 10\n",
      "  ..$ EbyA: num [1:3] 0.312 0.225 0.99\n"
     ]
    }
   ],
   "source": [
    "# cell39.3\n",
    "#stepwise for exo1:\n",
    "exo1 <- list(\"test.data\" = test.data, \"sumcolA\" = sumcolA, \"test.data2\" = test.data2)\n",
    "exo1  # comme elle est petite, je peux encore l'afficher \n",
    "str(exo1) # mais afficher la structure est de loin préférable"
   ]
  },
  {
   "cell_type": "markdown",
   "metadata": {},
   "source": [
    ">2. puis l'insertion de cette sous-liste `exo1` comme 1er élément de la liste `session3_list`:"
   ]
  },
  {
   "cell_type": "code",
   "execution_count": 55,
   "metadata": {},
   "outputs": [
    {
     "name": "stdout",
     "output_type": "stream",
     "text": [
      "List of 1\n",
      " $ exo1:List of 3\n",
      "  ..$ test.data :'data.frame':\t5 obs. of  6 variables:\n",
      "  .. ..$ colA: num [1:5] 3.2 8.9 2.2 NA 10.1\n",
      "  .. ..$ colB: num [1:5] 0 1 1 0 1\n",
      "  .. ..$ colC: chr [1:5] \"mumu\" \"mama\" \"mama\" \"momo\" ...\n",
      "  .. ..$ colD: chr [1:5] \"non\" \"oui\" \"oui\" NA ...\n",
      "  .. ..$ colE: int [1:5] 1 2 3 7 10\n",
      "  .. ..$ EbyA: num [1:5] 0.312 0.225 1.364 NA 0.99\n",
      "  ..$ sumcolA   : num 24.4\n",
      "  ..$ test.data2:'data.frame':\t3 obs. of  6 variables:\n",
      "  .. ..$ colA: num [1:3] 3.2 8.9 10.1\n",
      "  .. ..$ colB: num [1:3] 0 1 1\n",
      "  .. ..$ colC: chr [1:3] \"mumu\" \"mama\" \"mimi\"\n",
      "  .. ..$ colD: chr [1:3] \"non\" \"oui\" \"oui\"\n",
      "  .. ..$ colE: int [1:3] 1 2 10\n",
      "  .. ..$ EbyA: num [1:3] 0.312 0.225 0.99\n"
     ]
    }
   ],
   "source": [
    "# cell39.4\n",
    "session3_list[[\"exo1\"]] <- exo1\n",
    "str(session3_list) # mais afficher la structure est de loin préférable"
   ]
  },
  {
   "cell_type": "markdown",
   "metadata": {},
   "source": [
    "---\n",
    ">- Voici l'équivalent pour __l'exo 1__ de la méthode ci-dessus __sans passer par la sous-liste intermédiaire__: je la crée à la volée dans la liste de la session en nommant cette sous-liste `exo1_bis`."
   ]
  },
  {
   "cell_type": "code",
   "execution_count": 56,
   "metadata": {},
   "outputs": [
    {
     "name": "stdout",
     "output_type": "stream",
     "text": [
      "List of 2\n",
      " $ exo1    :List of 3\n",
      "  ..$ test.data :'data.frame':\t5 obs. of  6 variables:\n",
      "  .. ..$ colA: num [1:5] 3.2 8.9 2.2 NA 10.1\n",
      "  .. ..$ colB: num [1:5] 0 1 1 0 1\n",
      "  .. ..$ colC: chr [1:5] \"mumu\" \"mama\" \"mama\" \"momo\" ...\n",
      "  .. ..$ colD: chr [1:5] \"non\" \"oui\" \"oui\" NA ...\n",
      "  .. ..$ colE: int [1:5] 1 2 3 7 10\n",
      "  .. ..$ EbyA: num [1:5] 0.312 0.225 1.364 NA 0.99\n",
      "  ..$ sumcolA   : num 24.4\n",
      "  ..$ test.data2:'data.frame':\t3 obs. of  6 variables:\n",
      "  .. ..$ colA: num [1:3] 3.2 8.9 10.1\n",
      "  .. ..$ colB: num [1:3] 0 1 1\n",
      "  .. ..$ colC: chr [1:3] \"mumu\" \"mama\" \"mimi\"\n",
      "  .. ..$ colD: chr [1:3] \"non\" \"oui\" \"oui\"\n",
      "  .. ..$ colE: int [1:3] 1 2 10\n",
      "  .. ..$ EbyA: num [1:3] 0.312 0.225 0.99\n",
      " $ exo1_bis:List of 3\n",
      "  ..$ test.data :'data.frame':\t5 obs. of  6 variables:\n",
      "  .. ..$ colA: num [1:5] 3.2 8.9 2.2 NA 10.1\n",
      "  .. ..$ colB: num [1:5] 0 1 1 0 1\n",
      "  .. ..$ colC: chr [1:5] \"mumu\" \"mama\" \"mama\" \"momo\" ...\n",
      "  .. ..$ colD: chr [1:5] \"non\" \"oui\" \"oui\" NA ...\n",
      "  .. ..$ colE: int [1:5] 1 2 3 7 10\n",
      "  .. ..$ EbyA: num [1:5] 0.312 0.225 1.364 NA 0.99\n",
      "  ..$ sumcolA   : num 24.4\n",
      "  ..$ test.data2:'data.frame':\t3 obs. of  6 variables:\n",
      "  .. ..$ colA: num [1:3] 3.2 8.9 10.1\n",
      "  .. ..$ colB: num [1:3] 0 1 1\n",
      "  .. ..$ colC: chr [1:3] \"mumu\" \"mama\" \"mimi\"\n",
      "  .. ..$ colD: chr [1:3] \"non\" \"oui\" \"oui\"\n",
      "  .. ..$ colE: int [1:3] 1 2 10\n",
      "  .. ..$ EbyA: num [1:3] 0.312 0.225 0.99\n"
     ]
    }
   ],
   "source": [
    "# cell39.5\n",
    "# or in one command for exo1:\n",
    "session3_list[[\"exo1_bis\"]] <- list(\"test.data\" = test.data, \"sumcolA\" = sumcolA, \"test.data2\" = test.data2)\n",
    "str(session3_list)"
   ]
  },
  {
   "cell_type": "markdown",
   "metadata": {},
   "source": [
    ">Vous voyez que le 1er élément de la liste de la session `exo1` est identique au 1ème élément `exo1_bis` ce que je peux tester avec identical. Je délète ensuite cette 2nde version qui est redondante en remplaçant cet élément par `NULL`."
   ]
  },
  {
   "cell_type": "code",
   "execution_count": 57,
   "metadata": {},
   "outputs": [
    {
     "data": {
      "text/html": [
       "TRUE"
      ],
      "text/latex": [
       "TRUE"
      ],
      "text/markdown": [
       "TRUE"
      ],
      "text/plain": [
       "[1] TRUE"
      ]
     },
     "metadata": {},
     "output_type": "display_data"
    }
   ],
   "source": [
    "# cell39.6\n",
    "identical(session3_list[[1]], session3_list[[2]])"
   ]
  },
  {
   "cell_type": "code",
   "execution_count": 58,
   "metadata": {},
   "outputs": [
    {
     "name": "stdout",
     "output_type": "stream",
     "text": [
      "List of 1\n",
      " $ exo1:List of 3\n",
      "  ..$ test.data :'data.frame':\t5 obs. of  6 variables:\n",
      "  .. ..$ colA: num [1:5] 3.2 8.9 2.2 NA 10.1\n",
      "  .. ..$ colB: num [1:5] 0 1 1 0 1\n",
      "  .. ..$ colC: chr [1:5] \"mumu\" \"mama\" \"mama\" \"momo\" ...\n",
      "  .. ..$ colD: chr [1:5] \"non\" \"oui\" \"oui\" NA ...\n",
      "  .. ..$ colE: int [1:5] 1 2 3 7 10\n",
      "  .. ..$ EbyA: num [1:5] 0.312 0.225 1.364 NA 0.99\n",
      "  ..$ sumcolA   : num 24.4\n",
      "  ..$ test.data2:'data.frame':\t3 obs. of  6 variables:\n",
      "  .. ..$ colA: num [1:3] 3.2 8.9 10.1\n",
      "  .. ..$ colB: num [1:3] 0 1 1\n",
      "  .. ..$ colC: chr [1:3] \"mumu\" \"mama\" \"mimi\"\n",
      "  .. ..$ colD: chr [1:3] \"non\" \"oui\" \"oui\"\n",
      "  .. ..$ colE: int [1:3] 1 2 10\n",
      "  .. ..$ EbyA: num [1:3] 0.312 0.225 0.99\n"
     ]
    }
   ],
   "source": [
    "# cell39.7\n",
    "session3_list[[2]] <- NULL\n",
    "str(session3_list)"
   ]
  },
  {
   "cell_type": "markdown",
   "metadata": {},
   "source": [
    "---\n",
    ">- Voici pour __l'exo2__ une __troisième méthode en insérant un par un les éléments à la liste__, en donnant ou non leur nom directement ou après."
   ]
  },
  {
   "cell_type": "code",
   "execution_count": 59,
   "metadata": {},
   "outputs": [
    {
     "name": "stdout",
     "output_type": "stream",
     "text": [
      "List of 2\n",
      " $ exo1:List of 3\n",
      "  ..$ test.data :'data.frame':\t5 obs. of  6 variables:\n",
      "  .. ..$ colA: num [1:5] 3.2 8.9 2.2 NA 10.1\n",
      "  .. ..$ colB: num [1:5] 0 1 1 0 1\n",
      "  .. ..$ colC: chr [1:5] \"mumu\" \"mama\" \"mama\" \"momo\" ...\n",
      "  .. ..$ colD: chr [1:5] \"non\" \"oui\" \"oui\" NA ...\n",
      "  .. ..$ colE: int [1:5] 1 2 3 7 10\n",
      "  .. ..$ EbyA: num [1:5] 0.312 0.225 1.364 NA 0.99\n",
      "  ..$ sumcolA   : num 24.4\n",
      "  ..$ test.data2:'data.frame':\t3 obs. of  6 variables:\n",
      "  .. ..$ colA: num [1:3] 3.2 8.9 10.1\n",
      "  .. ..$ colB: num [1:3] 0 1 1\n",
      "  .. ..$ colC: chr [1:3] \"mumu\" \"mama\" \"mimi\"\n",
      "  .. ..$ colD: chr [1:3] \"non\" \"oui\" \"oui\"\n",
      "  .. ..$ colE: int [1:3] 1 2 10\n",
      "  .. ..$ EbyA: num [1:3] 0.312 0.225 0.99\n",
      " $ exo2:List of 8\n",
      "  ..$ droso             :'data.frame':\t2189219 obs. of  3 variables:\n",
      "  .. ..$ GeneSymbol    : chr [1:2189219] \"7SLRNA:CR32864\" \"7SLRNA:CR32864\" \"7SLRNA:CR32864\" \"7SLRNA:CR32864\" ...\n",
      "  .. ..$ RNASource_name: chr [1:2189219] \"BCM_1_E2-4hr\" \"BCM_1_E14-16hr\" \"BCM_1_E2-16hr\" \"BCM_1_E2-16hr100\" ...\n",
      "  .. ..$ RPKM_value    : int [1:2189219] 478 372 6 0 1827 8 150 85 119 53 ...\n",
      "  ..$ diff_sgs4minussgs1: int [1:124] 0 1 0 0 0 6 5 9137 2068 70 ...\n",
      "  ..$ expressed         : chr [1:17307] \"7SLRNA:CR32864\" \"a\" \"abd-A\" \"Abd-B\" ...\n",
      "  ..$ never_expressed   : chr [1:384] \"tRNA:Glu-TTC-1-6\" \"tRNA:Glu-CTC-3-5\" \"tRNA:Glu-CTC-3-6\" \"tRNA:Gly-GCC-1-8\" ...\n",
      "  ..$ sgs               :'data.frame':\t992 obs. of  3 variables:\n",
      "  .. ..$ GeneSymbol    : chr [1:992] \"Sgs1\" \"Sgs1\" \"Sgs1\" \"Sgs1\" ...\n",
      "  .. ..$ RNASource_name: chr [1:992] \"BCM_1_E2-4hr\" \"BCM_1_E14-16hr\" \"BCM_1_E2-16hr\" \"BCM_1_E2-16hr100\" ...\n",
      "  .. ..$ RPKM_value    : int [1:992] 0 0 0 0 314 20 0 0 2 0 ...\n",
      "  ..$ sgs1              :'data.frame':\t124 obs. of  3 variables:\n",
      "  .. ..$ GeneSymbol    : chr [1:124] \"Sgs1\" \"Sgs1\" \"Sgs1\" \"Sgs1\" ...\n",
      "  .. ..$ RNASource_name: chr [1:124] \"BCM_1_E2-4hr\" \"BCM_1_E14-16hr\" \"BCM_1_E2-16hr\" \"BCM_1_E2-16hr100\" ...\n",
      "  .. ..$ RPKM_value    : int [1:124] 0 0 0 0 314 20 0 0 2 0 ...\n",
      "  ..$ sgs4              :'data.frame':\t124 obs. of  3 variables:\n",
      "  .. ..$ GeneSymbol    : chr [1:124] \"Sgs4\" \"Sgs4\" \"Sgs4\" \"Sgs4\" ...\n",
      "  .. ..$ RNASource_name: chr [1:124] \"BCM_1_E2-4hr\" \"BCM_1_E14-16hr\" \"BCM_1_E2-16hr\" \"BCM_1_E2-16hr100\" ...\n",
      "  .. ..$ RPKM_value    : int [1:124] 0 1 0 0 9451 2088 2 6 72 0 ...\n",
      "  ..$ sgs14             :'data.frame':\t124 obs. of  5 variables:\n",
      "  .. ..$ RNASource_name: chr [1:124] \"BCM_1_A17d\" \"BCM_1_E14-16hr\" \"BCM_1_E2-16hr\" \"BCM_1_E2-16hr100\" ...\n",
      "  .. ..$ GeneSymbol.x  : chr [1:124] \"Sgs1\" \"Sgs1\" \"Sgs1\" \"Sgs1\" ...\n",
      "  .. ..$ RPKM_value.x  : int [1:124] 0 0 0 0 0 0 4 314 20 2 ...\n",
      "  .. ..$ GeneSymbol.y  : chr [1:124] \"Sgs4\" \"Sgs4\" \"Sgs4\" \"Sgs4\" ...\n",
      "  .. ..$ RPKM_value.y  : int [1:124] 0 1 0 0 0 6 9 9451 2088 72 ...\n"
     ]
    }
   ],
   "source": [
    "# cell39.8\n",
    "# you may also add elements to the list one by one, either or not giving the name directly with different ways:\n",
    "session3_list[[\"exo2\"]] <- list(\"droso\" = droso)\n",
    "session3_list[[\"exo2\"]][\"diff_sgs4minussgs1\"] <- list(diff_sgs4minussgs1)\n",
    "session3_list[[2]][3] <- list(expressed)\n",
    "names(session3_list[[2]])[3] <- \"expressed\"\n",
    "session3_list[[2]][\"never_expressed\"] <- list(\"never_expressed\" = never_expressed)\n",
    "session3_list[[2]][5] <- list(\"sgs\" = sgs) # the name is not used here, it is sueless and the next command line must be entered\n",
    "names(session3_list[[2]])[5] <- \"sgs\"\n",
    "session3_list[[\"exo2\"]][6:8] <- list(sgs1, sgs4, sgs14 )# or several objects at once and naming them after\n",
    "names(session3_list[[\"exo2\"]])[6:8] <- c(\"sgs1\", \"sgs4\", \"sgs14\")\n",
    "str(session3_list)"
   ]
  },
  {
   "cell_type": "markdown",
   "metadata": {},
   "source": [
    "---\n",
    ">A la fin, je nettoie mon environnement de travail. Et je sauve la liste comme objet pour de futures sessions dans R."
   ]
  },
  {
   "cell_type": "code",
   "execution_count": 60,
   "metadata": {},
   "outputs": [
    {
     "data": {
      "text/html": [
       "<style>\n",
       ".list-inline {list-style: none; margin:0; padding: 0}\n",
       ".list-inline>li {display: inline-block}\n",
       ".list-inline>li:not(:last-child)::after {content: \"\\00b7\"; padding: 0 .5ex}\n",
       "</style>\n",
       "<ol class=list-inline><li>'diff_sgs4minussgs1'</li><li>'droso'</li><li>'exo1'</li><li>'expressed'</li><li>'my_vector'</li><li>'never_expressed'</li><li>'session3_list'</li><li>'sgs'</li><li>'sgs1'</li><li>'sgs14'</li><li>'sgs4'</li><li>'sumcolA'</li><li>'test.data'</li><li>'test.data2'</li></ol>\n"
      ],
      "text/latex": [
       "\\begin{enumerate*}\n",
       "\\item 'diff\\_sgs4minussgs1'\n",
       "\\item 'droso'\n",
       "\\item 'exo1'\n",
       "\\item 'expressed'\n",
       "\\item 'my\\_vector'\n",
       "\\item 'never\\_expressed'\n",
       "\\item 'session3\\_list'\n",
       "\\item 'sgs'\n",
       "\\item 'sgs1'\n",
       "\\item 'sgs14'\n",
       "\\item 'sgs4'\n",
       "\\item 'sumcolA'\n",
       "\\item 'test.data'\n",
       "\\item 'test.data2'\n",
       "\\end{enumerate*}\n"
      ],
      "text/markdown": [
       "1. 'diff_sgs4minussgs1'\n",
       "2. 'droso'\n",
       "3. 'exo1'\n",
       "4. 'expressed'\n",
       "5. 'my_vector'\n",
       "6. 'never_expressed'\n",
       "7. 'session3_list'\n",
       "8. 'sgs'\n",
       "9. 'sgs1'\n",
       "10. 'sgs14'\n",
       "11. 'sgs4'\n",
       "12. 'sumcolA'\n",
       "13. 'test.data'\n",
       "14. 'test.data2'\n",
       "\n",
       "\n"
      ],
      "text/plain": [
       " [1] \"diff_sgs4minussgs1\" \"droso\"              \"exo1\"              \n",
       " [4] \"expressed\"          \"my_vector\"          \"never_expressed\"   \n",
       " [7] \"session3_list\"      \"sgs\"                \"sgs1\"              \n",
       "[10] \"sgs14\"              \"sgs4\"               \"sumcolA\"           \n",
       "[13] \"test.data\"          \"test.data2\"        "
      ]
     },
     "metadata": {},
     "output_type": "display_data"
    }
   ],
   "source": [
    "# cell39.9\n",
    "ls()"
   ]
  },
  {
   "cell_type": "code",
   "execution_count": 61,
   "metadata": {},
   "outputs": [
    {
     "data": {
      "text/html": [
       "<style>\n",
       ".list-inline {list-style: none; margin:0; padding: 0}\n",
       ".list-inline>li {display: inline-block}\n",
       ".list-inline>li:not(:last-child)::after {content: \"\\00b7\"; padding: 0 .5ex}\n",
       "</style>\n",
       "<ol class=list-inline><li>'diff_sgs4minussgs1'</li><li>'droso'</li><li>'exo1'</li><li>'expressed'</li><li>'my_vector'</li><li>'never_expressed'</li><li>'session3_list'</li><li>'sgs'</li><li>'sgs1'</li><li>'sgs14'</li><li>'sgs4'</li><li>'sumcolA'</li><li>'test.data'</li><li>'test.data2'</li></ol>\n"
      ],
      "text/latex": [
       "\\begin{enumerate*}\n",
       "\\item 'diff\\_sgs4minussgs1'\n",
       "\\item 'droso'\n",
       "\\item 'exo1'\n",
       "\\item 'expressed'\n",
       "\\item 'my\\_vector'\n",
       "\\item 'never\\_expressed'\n",
       "\\item 'session3\\_list'\n",
       "\\item 'sgs'\n",
       "\\item 'sgs1'\n",
       "\\item 'sgs14'\n",
       "\\item 'sgs4'\n",
       "\\item 'sumcolA'\n",
       "\\item 'test.data'\n",
       "\\item 'test.data2'\n",
       "\\end{enumerate*}\n"
      ],
      "text/markdown": [
       "1. 'diff_sgs4minussgs1'\n",
       "2. 'droso'\n",
       "3. 'exo1'\n",
       "4. 'expressed'\n",
       "5. 'my_vector'\n",
       "6. 'never_expressed'\n",
       "7. 'session3_list'\n",
       "8. 'sgs'\n",
       "9. 'sgs1'\n",
       "10. 'sgs14'\n",
       "11. 'sgs4'\n",
       "12. 'sumcolA'\n",
       "13. 'test.data'\n",
       "14. 'test.data2'\n",
       "\n",
       "\n"
      ],
      "text/plain": [
       " [1] \"diff_sgs4minussgs1\" \"droso\"              \"exo1\"              \n",
       " [4] \"expressed\"          \"my_vector\"          \"never_expressed\"   \n",
       " [7] \"session3_list\"      \"sgs\"                \"sgs1\"              \n",
       "[10] \"sgs14\"              \"sgs4\"               \"sumcolA\"           \n",
       "[13] \"test.data\"          \"test.data2\"        "
      ]
     },
     "metadata": {},
     "output_type": "display_data"
    },
    {
     "data": {
      "text/html": [
       "<style>\n",
       ".list-inline {list-style: none; margin:0; padding: 0}\n",
       ".list-inline>li {display: inline-block}\n",
       ".list-inline>li:not(:last-child)::after {content: \"\\00b7\"; padding: 0 .5ex}\n",
       "</style>\n",
       "<ol class=list-inline><li>'diff_sgs4minussgs1'</li><li>'droso'</li><li>'exo1'</li><li>'expressed'</li><li>'my_vector'</li><li>'never_expressed'</li><li>'session3_list'</li><li>'sgs'</li><li>'sgs1'</li><li>'sgs14'</li><li>'sgs4'</li><li>'sumcolA'</li><li>'test.data'</li><li>'test.data2'</li></ol>\n"
      ],
      "text/latex": [
       "\\begin{enumerate*}\n",
       "\\item 'diff\\_sgs4minussgs1'\n",
       "\\item 'droso'\n",
       "\\item 'exo1'\n",
       "\\item 'expressed'\n",
       "\\item 'my\\_vector'\n",
       "\\item 'never\\_expressed'\n",
       "\\item 'session3\\_list'\n",
       "\\item 'sgs'\n",
       "\\item 'sgs1'\n",
       "\\item 'sgs14'\n",
       "\\item 'sgs4'\n",
       "\\item 'sumcolA'\n",
       "\\item 'test.data'\n",
       "\\item 'test.data2'\n",
       "\\end{enumerate*}\n"
      ],
      "text/markdown": [
       "1. 'diff_sgs4minussgs1'\n",
       "2. 'droso'\n",
       "3. 'exo1'\n",
       "4. 'expressed'\n",
       "5. 'my_vector'\n",
       "6. 'never_expressed'\n",
       "7. 'session3_list'\n",
       "8. 'sgs'\n",
       "9. 'sgs1'\n",
       "10. 'sgs14'\n",
       "11. 'sgs4'\n",
       "12. 'sumcolA'\n",
       "13. 'test.data'\n",
       "14. 'test.data2'\n",
       "\n",
       "\n"
      ],
      "text/plain": [
       " [1] \"diff_sgs4minussgs1\" \"droso\"              \"exo1\"              \n",
       " [4] \"expressed\"          \"my_vector\"          \"never_expressed\"   \n",
       " [7] \"session3_list\"      \"sgs\"                \"sgs1\"              \n",
       "[10] \"sgs14\"              \"sgs4\"               \"sumcolA\"           \n",
       "[13] \"test.data\"          \"test.data2\"        "
      ]
     },
     "metadata": {},
     "output_type": "display_data"
    },
    {
     "data": {
      "text/html": [
       "'session3_list'"
      ],
      "text/latex": [
       "'session3\\_list'"
      ],
      "text/markdown": [
       "'session3_list'"
      ],
      "text/plain": [
       "[1] \"session3_list\""
      ]
     },
     "metadata": {},
     "output_type": "display_data"
    }
   ],
   "source": [
    "# cell39.10\n",
    "# at the end, remove duplicate objects either listing them one by one (commented line), or all but the one you want to keep:\n",
    "ls()\n",
    "#rm(\"my_vector\",\n",
    "#   \"exo1\",\"test.data\", \"test.data2\", \"sumcolA\",\n",
    "#   \"droso\", \"diff_sgs4minussgs1\", \"expressed\", \"never_expressed\", \"sgs\", \"sgs1\", \"sgs14\", \"sgs4\")\n",
    "ls()\n",
    "rm(list=ls()[which(ls() != \"session3_list\")])\n",
    "ls()\n",
    "save(session3_list, file=\"session3_exos.RData\")"
   ]
  },
  {
   "cell_type": "markdown",
   "metadata": {},
   "source": [
    "<div class=\"alert alert-block alert-danger\"><b>Caution:</b><br> \n",
    " Don't forget to save you notebook and export a copy as an <b>html</b> file as well <br>\n",
    "- Open \"File\" in the Menu<br>\n",
    "- Select \"Export Notebook As\"<br>\n",
    "- Export notebook as HTML<br>\n",
    "- You can then open it in your browser even without being connected to a JupyterLab interface!\n",
    "</div>"
   ]
  },
  {
   "cell_type": "markdown",
   "metadata": {
    "jp-MarkdownHeadingCollapsed": true,
    "tags": []
   },
   "source": [
    "***\n",
    "***\n",
    "## Useful commands\n",
    "<div class=\"alert alert-block alert-info\"> \n",
    "    \n",
    "- <kbd>CTRL</kbd>+<kbd>S</kbd> : save notebook<br>    \n",
    "- <kbd>CTRL</kbd>+<kbd>ENTER</kbd> : Run Cell<br>  \n",
    "- <kbd>SHIFT</kbd>+<kbd>ENTER</kbd> : Run Cell and Select Next<br>   \n",
    "- <kbd>ALT</kbd>+<kbd>ENTER</kbd> : Run Cell and Insert Below<br>   \n",
    "- <kbd>ESC</kbd>+<kbd>y</kbd> : Change to *Code* Cell Type<br>  \n",
    "- <kbd>ESC</kbd>+<kbd>m</kbd> : Change to *Markdown* Cell Type<br> \n",
    "- <kbd>ESC</kbd>+<kbd>r</kbd> : Change to *Raw* Cell Type<br>    \n",
    "- <kbd>ESC</kbd>+<kbd>a</kbd> : Create Cell Above<br> \n",
    "- <kbd>ESC</kbd>+<kbd>b</kbd> : Create Cell Below<br> \n",
    "\n",
    "<em>  \n",
    "To make nice html reports with markdown: <a href=\"https://dillinger.io/\" title=\"dillinger.io\">html visualization tool 1</a> or <a href=\"https://stackedit.io/app#\" title=\"stackedit.io\">html visualization tool 2</a>, <a href=\"https://www.tablesgenerator.com/markdown_tables\" title=\"tablesgenerator.com\">to draw nice tables</a>, and the <a href=\"https://medium.com/analytics-vidhya/the-ultimate-markdown-guide-for-jupyter-notebook-d5e5abf728fd\" title=\"Ultimate guide\">Ultimate guide</a>. <br>\n",
    "Further reading on JupyterLab notebooks: <a href=\"https://jupyterlab.readthedocs.io/en/latest/user/notebook.html\" title=\"Jupyter Lab\">Jupyter Lab documentation</a>.<br>   \n",
    "</em>    \n",
    " \n",
    "</div>"
   ]
  },
  {
   "cell_type": "markdown",
   "metadata": {},
   "source": [
    "---\n",
    "---\n",
    "\n",
    "## <mark>Check list des actions avant la prochaine session R:<mark>\n",
    "\n",
    "_Pour cocher les cases, ouvrez la cellule du notebook et remplacez l'espace entre les crochets par un `x` lorsque l'action est effectuée_\n",
    "\n",
    "[ ] relire le cours et revoir les différents supports dont diapos, vidéos, scripts et notebooks\n",
    "    \n",
    "[ ] étudier le tutorial sur les facteurs (.html sur moodle)\n",
    "    \n",
    "[ ] étudier la partie du cours sur les listes en autonomie à partir du diaporama et du script associé\n",
    "    \n",
    "[ ] faire les exercices sans les corrections\n",
    "\n",
    "[ ] lire et comprendre les corrections\n",
    "\n",
    "[ ] refaire les exercices sans les corrections\n",
    "    \n",
    "\n",
    "*_Attention QCM au début de la session 3 (pas sur facteurs ou listes)!!!_*"
   ]
  }
 ],
 "metadata": {
  "kernelspec": {
   "display_name": "R",
   "language": "R",
   "name": "ir"
  },
  "language_info": {
   "codemirror_mode": "r",
   "file_extension": ".r",
   "mimetype": "text/x-r-source",
   "name": "R",
   "pygments_lexer": "r",
   "version": "4.0.5"
  },
  "toc-autonumbering": false,
  "toc-showcode": false
 },
 "nbformat": 4,
 "nbformat_minor": 4
}
