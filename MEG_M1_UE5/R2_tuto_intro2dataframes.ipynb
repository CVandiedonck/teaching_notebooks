{
 "cells": [
  {
   "cell_type": "markdown",
   "metadata": {},
   "source": [
    "# __R Session n°2 : tutorial__\n",
    "M1 MEG UE5 - Claire Vandiedonck\n",
    "***\n",
    "\n",
    "## **introduction on dataframes**\n",
    "\n",
    "*Content of this tutorial:*\n",
    "\n",
    "1. Creating a dataframe\n",
    "2. Reading a text file into RData\n",
    "3. Saving a dataframe on my computer\n",
    "\n",
    "In the next tutorial (session R#3) we will see how to extract data from a dataframe, how to subset dataframes on several criteria, and how to merge them."
   ]
  },
  {
   "cell_type": "markdown",
   "metadata": {},
   "source": [
    "---\n",
    "## Avant d'aller plus loin\n",
    "\n",
    "<div class=\"alert alert-block alert-danger\"><b>Attention:</b> \n",
    "Ne travaillez pas directement sur ce notebook pour ne pas le perdre. Dupliquez-le et renommez-le par exemple en ajoutant vos initiales et travaillez sur cette nouvelle copie. Pour ce faire, dans le panneau de gauche, faites un clic droit sur le fichier et sélectionnez \"Duplicate\". Puis, toujours dans la colonne de gauche, faites un clic droit sur cette copie et sélectionnez \"rename\" pour changer le nom. Ouvrez ensuite cette nouvelle version en double cliquant dessus. Vous êtes prêt(e) à démarrer! <br>\n",
    "<br>\n",
    "<b>N'oubliez pas de sauvegarder régulièrement votre notebook</b>: <kbd>Ctrl</kbd> + <kbd>S</kbd>. ou en cliquant sur l'icone 💾 en haut à gauche de votre notebook ou dans le Menu du JupyterLab \"File puis \"Save Notebook\"! Vous pouvez aussi le sauvegarder au format html: Menu \"File\" > Export Notebook As> Export notebook as HTML.\n",
    "</div>\n",
    " "
   ]
  },
  {
   "cell_type": "markdown",
   "metadata": {},
   "source": [
    "<div class=\"alert alert-block alert-warning\"><b>Warning:</b> you are strongly advised to run the cells in the indicated order. If you want to rerun cells above, you can just restart the kernel to start at 1 again. </div>"
   ]
  },
  {
   "cell_type": "markdown",
   "metadata": {},
   "source": [
    "<div class=\"alert alert-block alert-warning\"><b>Open variable inspector:</b> right click on the notebook and select \"Open Variable Inspector\". A new tab will open. </div>"
   ]
  },
  {
   "cell_type": "markdown",
   "metadata": {},
   "source": [
    "#### 1. Identifiez votre répertoire de travail"
   ]
  },
  {
   "cell_type": "code",
   "execution_count": 1,
   "metadata": {},
   "outputs": [
    {
     "data": {
      "text/html": [
       "'/srv/home/cvandiedonck/megm1_ue5_r/R2'"
      ],
      "text/latex": [
       "'/srv/home/cvandiedonck/megm1\\_ue5\\_r/R2'"
      ],
      "text/markdown": [
       "'/srv/home/cvandiedonck/megm1_ue5_r/R2'"
      ],
      "text/plain": [
       "[1] \"/srv/home/cvandiedonck/megm1_ue5_r/R2\""
      ]
     },
     "metadata": {},
     "output_type": "display_data"
    }
   ],
   "source": [
    "#cell 1\n",
    "getwd()"
   ]
  },
  {
   "cell_type": "markdown",
   "metadata": {},
   "source": [
    "Si ce répertoire ne vous convient pas, changez le pour un répertoire existant `my_directory`par exemple, avec la commande suivante en spécifiant le chemin relatif ou absolu de votre répertoire:\n",
    "```setwd(\"path/my_directory\")```"
   ]
  },
  {
   "cell_type": "markdown",
   "metadata": {},
   "source": [
    "#### 2.  Identifiez la version R de votre environnement et packages installés."
   ]
  },
  {
   "cell_type": "code",
   "execution_count": 2,
   "metadata": {},
   "outputs": [
    {
     "data": {
      "text/plain": [
       "R version 4.1.3 (2022-03-10)\n",
       "Platform: x86_64-conda-linux-gnu (64-bit)\n",
       "Running under: Ubuntu 18.04.4 LTS\n",
       "\n",
       "Matrix products: default\n",
       "BLAS/LAPACK: /srv/conda/envs/notebook/lib/libopenblasp-r0.3.21.so\n",
       "\n",
       "locale:\n",
       " [1] LC_CTYPE=en_US.UTF-8       LC_NUMERIC=C              \n",
       " [3] LC_TIME=en_US.UTF-8        LC_COLLATE=en_US.UTF-8    \n",
       " [5] LC_MONETARY=en_US.UTF-8    LC_MESSAGES=en_US.UTF-8   \n",
       " [7] LC_PAPER=en_US.UTF-8       LC_NAME=C                 \n",
       " [9] LC_ADDRESS=C               LC_TELEPHONE=C            \n",
       "[11] LC_MEASUREMENT=en_US.UTF-8 LC_IDENTIFICATION=C       \n",
       "\n",
       "attached base packages:\n",
       "[1] stats     graphics  grDevices utils     datasets  methods   base     \n",
       "\n",
       "other attached packages:\n",
       "[1] repr_1.1.4\n",
       "\n",
       "loaded via a namespace (and not attached):\n",
       " [1] fansi_1.0.3     crayon_1.5.1    digest_0.6.29   utf8_1.2.2     \n",
       " [5] IRdisplay_1.1   lifecycle_1.0.2 jsonlite_1.8.0  evaluate_0.16  \n",
       " [9] pillar_1.8.1    rlang_1.0.5     cli_3.4.0       uuid_1.1-0     \n",
       "[13] vctrs_0.4.1     IRkernel_1.2    tools_4.1.3     glue_1.6.2     \n",
       "[17] fastmap_1.1.0   compiler_4.1.3  base64enc_0.1-3 pbdZMQ_0.3-7   \n",
       "[21] htmltools_0.5.3"
      ]
     },
     "metadata": {},
     "output_type": "display_data"
    }
   ],
   "source": [
    "#cell 2\n",
    "sessionInfo()"
   ]
  },
  {
   "cell_type": "markdown",
   "metadata": {},
   "source": [
    "---\n",
    "---\n",
    "\n",
    "## **I - Dataframes**\n",
    "\n",
    "\n",
    "Dataframes properties:\n",
    "- **2-dimension objects** (rows x columns)\n",
    "- can be **heterogeneous** : can contain several types of variables in different columns\n",
    "\n",
    "\n",
    "<div class=\"alert alert-block alert-danger\"><b> Caution: </b> Each column must remain with the same type (homogeneous).</div>\n",
    "\n",
    ">*For info, another type of 2-dimension object exists in R, called `matrices` but they have to be homogeneous also across columns.*"
   ]
  },
  {
   "cell_type": "markdown",
   "metadata": {},
   "source": [
    "### **I.1. - Creating a dataframe:**\n",
    "---\n",
    "\n",
    "- They are generated with the function `data.frame()`:\n",
    "\n",
    "This can be done **using existing vectors of same length** like the previoulsy generated \"weight\", \"size\" and \"bmi\" we previously saved in the object \"anthropo.RData\". If you didn't generate it, you can find it on moodle or in the shared data folder: `/srv/data/meg-m1-ue5/`. You only have to change the path in the next command."
   ]
  },
  {
   "cell_type": "code",
   "execution_count": 3,
   "metadata": {},
   "outputs": [
    {
     "data": {
      "text/html": [
       "<style>\n",
       ".list-inline {list-style: none; margin:0; padding: 0}\n",
       ".list-inline>li {display: inline-block}\n",
       ".list-inline>li:not(:last-child)::after {content: \"\\00b7\"; padding: 0 .5ex}\n",
       "</style>\n",
       "<ol class=list-inline><li>'bmi'</li><li>'size'</li><li>'weight'</li></ol>\n"
      ],
      "text/latex": [
       "\\begin{enumerate*}\n",
       "\\item 'bmi'\n",
       "\\item 'size'\n",
       "\\item 'weight'\n",
       "\\end{enumerate*}\n"
      ],
      "text/markdown": [
       "1. 'bmi'\n",
       "2. 'size'\n",
       "3. 'weight'\n",
       "\n",
       "\n"
      ],
      "text/plain": [
       "[1] \"bmi\"    \"size\"   \"weight\""
      ]
     },
     "metadata": {},
     "output_type": "display_data"
    }
   ],
   "source": [
    "#cell 3\n",
    "load(\"../R1/anthropo.RData\")\n",
    "ls()"
   ]
  },
  {
   "cell_type": "code",
   "execution_count": 4,
   "metadata": {},
   "outputs": [
    {
     "data": {
      "text/html": [
       "<table class=\"dataframe\">\n",
       "<caption>A data.frame: 6 × 3</caption>\n",
       "<thead>\n",
       "\t<tr><th></th><th scope=col>weight</th><th scope=col>size</th><th scope=col>bmi</th></tr>\n",
       "\t<tr><th></th><th scope=col>&lt;dbl&gt;</th><th scope=col>&lt;dbl&gt;</th><th scope=col>&lt;dbl&gt;</th></tr>\n",
       "</thead>\n",
       "<tbody>\n",
       "\t<tr><th scope=row>Fabien</th><td>60</td><td>1.75</td><td>19.59184</td></tr>\n",
       "\t<tr><th scope=row>Pierre</th><td>72</td><td>1.80</td><td>22.22222</td></tr>\n",
       "\t<tr><th scope=row>Sandrine</th><td>57</td><td>1.65</td><td>20.93664</td></tr>\n",
       "\t<tr><th scope=row>Claire</th><td>90</td><td>1.90</td><td>24.93075</td></tr>\n",
       "\t<tr><th scope=row>Bruno</th><td>95</td><td>1.74</td><td>31.37799</td></tr>\n",
       "\t<tr><th scope=row>Delphine</th><td>72</td><td>1.91</td><td>19.73630</td></tr>\n",
       "</tbody>\n",
       "</table>\n"
      ],
      "text/latex": [
       "A data.frame: 6 × 3\n",
       "\\begin{tabular}{r|lll}\n",
       "  & weight & size & bmi\\\\\n",
       "  & <dbl> & <dbl> & <dbl>\\\\\n",
       "\\hline\n",
       "\tFabien & 60 & 1.75 & 19.59184\\\\\n",
       "\tPierre & 72 & 1.80 & 22.22222\\\\\n",
       "\tSandrine & 57 & 1.65 & 20.93664\\\\\n",
       "\tClaire & 90 & 1.90 & 24.93075\\\\\n",
       "\tBruno & 95 & 1.74 & 31.37799\\\\\n",
       "\tDelphine & 72 & 1.91 & 19.73630\\\\\n",
       "\\end{tabular}\n"
      ],
      "text/markdown": [
       "\n",
       "A data.frame: 6 × 3\n",
       "\n",
       "| <!--/--> | weight &lt;dbl&gt; | size &lt;dbl&gt; | bmi &lt;dbl&gt; |\n",
       "|---|---|---|---|\n",
       "| Fabien | 60 | 1.75 | 19.59184 |\n",
       "| Pierre | 72 | 1.80 | 22.22222 |\n",
       "| Sandrine | 57 | 1.65 | 20.93664 |\n",
       "| Claire | 90 | 1.90 | 24.93075 |\n",
       "| Bruno | 95 | 1.74 | 31.37799 |\n",
       "| Delphine | 72 | 1.91 | 19.73630 |\n",
       "\n"
      ],
      "text/plain": [
       "         weight size bmi     \n",
       "Fabien   60     1.75 19.59184\n",
       "Pierre   72     1.80 22.22222\n",
       "Sandrine 57     1.65 20.93664\n",
       "Claire   90     1.90 24.93075\n",
       "Bruno    95     1.74 31.37799\n",
       "Delphine 72     1.91 19.73630"
      ]
     },
     "metadata": {},
     "output_type": "display_data"
    }
   ],
   "source": [
    "#cell 4\n",
    "myDataf <- data.frame(weight, size, bmi)\n",
    "myDataf"
   ]
  },
  {
   "cell_type": "markdown",
   "metadata": {},
   "source": [
    "The obtained dataframe looks pretty much like the previous matrix myData2."
   ]
  },
  {
   "cell_type": "code",
   "execution_count": 5,
   "metadata": {},
   "outputs": [
    {
     "data": {
      "text/html": [
       "'data.frame'"
      ],
      "text/latex": [
       "'data.frame'"
      ],
      "text/markdown": [
       "'data.frame'"
      ],
      "text/plain": [
       "[1] \"data.frame\""
      ]
     },
     "metadata": {},
     "output_type": "display_data"
    }
   ],
   "source": [
    "#cell 5\n",
    "class(myDataf)"
   ]
  },
  {
   "cell_type": "code",
   "execution_count": 6,
   "metadata": {},
   "outputs": [
    {
     "name": "stdout",
     "output_type": "stream",
     "text": [
      "'data.frame':\t6 obs. of  3 variables:\n",
      " $ weight: num  60 72 57 90 95 72\n",
      " $ size  : num  1.75 1.8 1.65 1.9 1.74 1.91\n",
      " $ bmi   : num  19.6 22.2 20.9 24.9 31.4 ...\n"
     ]
    }
   ],
   "source": [
    "#cell 6\n",
    "str(myDataf)"
   ]
  },
  {
   "cell_type": "code",
   "execution_count": 7,
   "metadata": {},
   "outputs": [
    {
     "name": "stdout",
     "output_type": "stream",
     "text": [
      "[1] 6 3\n"
     ]
    }
   ],
   "source": [
    "#cell 7\n",
    "print(dim(myDataf))"
   ]
  },
  {
   "cell_type": "markdown",
   "metadata": {},
   "source": [
    ">*Note that if the vectors used to generate the dataframe are character strings, it is advised in versions < 4 to add the argument `stringsAsFactors=FALSE`*"
   ]
  },
  {
   "cell_type": "markdown",
   "metadata": {},
   "source": [
    "- Creating an **empty dataframe ?**\n",
    "\n",
    "If the vectors that will generate the dataframe do not exist yet in the session, but you would like to initiate a dataframe to fill it during your analysis, you could imagine creating an empty dataframe. But this method is useless as it is impossible to fill the generated dataframe having 0 columns and rows."
   ]
  },
  {
   "cell_type": "code",
   "execution_count": 8,
   "metadata": {},
   "outputs": [
    {
     "data": {
      "text/html": [],
      "text/latex": [],
      "text/markdown": [],
      "text/plain": [
       "<0 x 0 matrix>"
      ]
     },
     "metadata": {},
     "output_type": "display_data"
    },
    {
     "data": {
      "text/html": [
       "<style>\n",
       ".list-inline {list-style: none; margin:0; padding: 0}\n",
       ".list-inline>li {display: inline-block}\n",
       ".list-inline>li:not(:last-child)::after {content: \"\\00b7\"; padding: 0 .5ex}\n",
       "</style>\n",
       "<ol class=list-inline><li>0</li><li>0</li></ol>\n"
      ],
      "text/latex": [
       "\\begin{enumerate*}\n",
       "\\item 0\n",
       "\\item 0\n",
       "\\end{enumerate*}\n"
      ],
      "text/markdown": [
       "1. 0\n",
       "2. 0\n",
       "\n",
       "\n"
      ],
      "text/plain": [
       "[1] 0 0"
      ]
     },
     "metadata": {},
     "output_type": "display_data"
    }
   ],
   "source": [
    "#cell 8\n",
    "d <- data.frame()\n",
    "d\n",
    "dim(d)"
   ]
  },
  {
   "cell_type": "markdown",
   "metadata": {},
   "source": [
    "In that case, it is better to create an empty matrix and to convert it to a dataframe. See below."
   ]
  },
  {
   "cell_type": "markdown",
   "metadata": {},
   "source": [
    "Dataframes can be generated by **converting a matrix into a dataframe** with `as.data.frame()`"
   ]
  },
  {
   "cell_type": "markdown",
   "metadata": {},
   "source": [
    "You may use `as.data.frame()` on a matrix generated by binding columns of vectors with  `cbind()`:"
   ]
  },
  {
   "cell_type": "markdown",
   "metadata": {},
   "source": [
    "Let's try with the object myData2 which is a matrix we create with `cbind()`."
   ]
  },
  {
   "cell_type": "code",
   "execution_count": 9,
   "metadata": {},
   "outputs": [],
   "source": [
    "#cell 9\n",
    "myData2 <- cbind(weight, size, bmi)"
   ]
  },
  {
   "cell_type": "code",
   "execution_count": 10,
   "metadata": {},
   "outputs": [
    {
     "data": {
      "text/html": [
       "<style>\n",
       ".list-inline {list-style: none; margin:0; padding: 0}\n",
       ".list-inline>li {display: inline-block}\n",
       ".list-inline>li:not(:last-child)::after {content: \"\\00b7\"; padding: 0 .5ex}\n",
       "</style>\n",
       "<ol class=list-inline><li>'matrix'</li><li>'array'</li></ol>\n"
      ],
      "text/latex": [
       "\\begin{enumerate*}\n",
       "\\item 'matrix'\n",
       "\\item 'array'\n",
       "\\end{enumerate*}\n"
      ],
      "text/markdown": [
       "1. 'matrix'\n",
       "2. 'array'\n",
       "\n",
       "\n"
      ],
      "text/plain": [
       "[1] \"matrix\" \"array\" "
      ]
     },
     "metadata": {},
     "output_type": "display_data"
    },
    {
     "data": {
      "text/html": [
       "'data.frame'"
      ],
      "text/latex": [
       "'data.frame'"
      ],
      "text/markdown": [
       "'data.frame'"
      ],
      "text/plain": [
       "[1] \"data.frame\""
      ]
     },
     "metadata": {},
     "output_type": "display_data"
    },
    {
     "name": "stdout",
     "output_type": "stream",
     "text": [
      "'data.frame':\t6 obs. of  3 variables:\n",
      " $ weight: num  60 72 57 90 95 72\n",
      " $ size  : num  1.75 1.8 1.65 1.9 1.74 1.91\n",
      " $ bmi   : num  19.6 22.2 20.9 24.9 31.4 ...\n"
     ]
    }
   ],
   "source": [
    "#cell 10\n",
    "class(myData2)\n",
    "class(as.data.frame(myData2))\n",
    "str(as.data.frame(myData2))"
   ]
  },
  {
   "cell_type": "markdown",
   "metadata": {},
   "source": [
    "You may also use `as.data.frame()` matrix directly by binding rows :"
   ]
  },
  {
   "cell_type": "code",
   "execution_count": 11,
   "metadata": {},
   "outputs": [
    {
     "name": "stdout",
     "output_type": "stream",
     "text": [
      "'data.frame':\t2 obs. of  2 variables:\n",
      " $ V1: int  1 10\n",
      " $ V2: int  2 11\n"
     ]
    }
   ],
   "source": [
    "#cell 11\n",
    "d1 <- as.data.frame(rbind(1:2, 10:11))\n",
    "str(d1)"
   ]
  },
  {
   "cell_type": "markdown",
   "metadata": {},
   "source": [
    "Similarly, we can do such a conversion of an empy matrix (created with `matrix()` into a dataframe like in the example below with a matrix of two rows and three columns currently filled with missing values:"
   ]
  },
  {
   "cell_type": "code",
   "execution_count": 12,
   "metadata": {},
   "outputs": [
    {
     "name": "stdout",
     "output_type": "stream",
     "text": [
      "  V1 V2 V3\n",
      "1 NA NA NA\n",
      "2 NA NA NA\n",
      "[1] 2 3\n",
      "'data.frame':\t2 obs. of  3 variables:\n",
      " $ V1: logi  NA NA\n",
      " $ V2: logi  NA NA\n",
      " $ V3: logi  NA NA\n"
     ]
    }
   ],
   "source": [
    "# cell 12\n",
    "d2 <- as.data.frame(matrix(NA,2,3))\n",
    "print(d2)\n",
    "print(dim(d2))\n",
    "str(d2)"
   ]
  },
  {
   "cell_type": "markdown",
   "metadata": {},
   "source": [
    "### **I.2. - Reading a text file into R and vice versa**\n",
    "---"
   ]
  },
  {
   "cell_type": "markdown",
   "metadata": {
    "tags": []
   },
   "source": [
    "#### **a. reading a text file into R**\n",
    "\n",
    "The function `read.table()` reads a delimited text file (tabulated, scv or other column separator) into R and **generates a dataframe**. \n",
    "\n",
    "<span style=\"color:red\"><b>read.table() returns a dataframe</b></span>. \n",
    "\n",
    "We will import into R the file `Temperatures.txt` which is located in the shared folder `srv/data/meg-m1-ue5`. It is also on moodle.\n",
    "To import it in you `R2 folder` open a terminal and enter the following command:"
   ]
  },
  {
   "cell_type": "raw",
   "metadata": {},
   "source": [
    "cp /srv/data/meg-m1-ue5/Temperatures.txt ."
   ]
  },
  {
   "cell_type": "markdown",
   "metadata": {},
   "source": [
    "Before importing it into R, let's see how it looks like. Just double click on it.\n",
    "\n",
    "You will see it is a tab-delimited text file.\n",
    "\n",
    "Now let's import it in R by specifying the correct separator (`\"\\t\"` is used for tab-delimited) with the `read.table()` function:"
   ]
  },
  {
   "cell_type": "code",
   "execution_count": 13,
   "metadata": {},
   "outputs": [
    {
     "data": {
      "text/html": [
       "<table class=\"dataframe\">\n",
       "<caption>A data.frame: 12 × 2</caption>\n",
       "<thead>\n",
       "\t<tr><th scope=col>Month</th><th scope=col>Mean_Temp</th></tr>\n",
       "\t<tr><th scope=col>&lt;chr&gt;</th><th scope=col>&lt;dbl&gt;</th></tr>\n",
       "</thead>\n",
       "<tbody>\n",
       "\t<tr><td>January  </td><td> 2.0</td></tr>\n",
       "\t<tr><td>February </td><td> 2.6</td></tr>\n",
       "\t<tr><td>March    </td><td> 7.9</td></tr>\n",
       "\t<tr><td>April    </td><td>11.2</td></tr>\n",
       "\t<tr><td>May      </td><td>15.3</td></tr>\n",
       "\t<tr><td>June     </td><td>22.2</td></tr>\n",
       "\t<tr><td>July     </td><td>22.9</td></tr>\n",
       "\t<tr><td>August   </td><td>22.5</td></tr>\n",
       "\t<tr><td>September</td><td>17.3</td></tr>\n",
       "\t<tr><td>October  </td><td>11.7</td></tr>\n",
       "\t<tr><td>November </td><td> 5.2</td></tr>\n",
       "\t<tr><td>December </td><td> 2.8</td></tr>\n",
       "</tbody>\n",
       "</table>\n"
      ],
      "text/latex": [
       "A data.frame: 12 × 2\n",
       "\\begin{tabular}{ll}\n",
       " Month & Mean\\_Temp\\\\\n",
       " <chr> & <dbl>\\\\\n",
       "\\hline\n",
       "\t January   &  2.0\\\\\n",
       "\t February  &  2.6\\\\\n",
       "\t March     &  7.9\\\\\n",
       "\t April     & 11.2\\\\\n",
       "\t May       & 15.3\\\\\n",
       "\t June      & 22.2\\\\\n",
       "\t July      & 22.9\\\\\n",
       "\t August    & 22.5\\\\\n",
       "\t September & 17.3\\\\\n",
       "\t October   & 11.7\\\\\n",
       "\t November  &  5.2\\\\\n",
       "\t December  &  2.8\\\\\n",
       "\\end{tabular}\n"
      ],
      "text/markdown": [
       "\n",
       "A data.frame: 12 × 2\n",
       "\n",
       "| Month &lt;chr&gt; | Mean_Temp &lt;dbl&gt; |\n",
       "|---|---|\n",
       "| January   |  2.0 |\n",
       "| February  |  2.6 |\n",
       "| March     |  7.9 |\n",
       "| April     | 11.2 |\n",
       "| May       | 15.3 |\n",
       "| June      | 22.2 |\n",
       "| July      | 22.9 |\n",
       "| August    | 22.5 |\n",
       "| September | 17.3 |\n",
       "| October   | 11.7 |\n",
       "| November  |  5.2 |\n",
       "| December  |  2.8 |\n",
       "\n"
      ],
      "text/plain": [
       "   Month     Mean_Temp\n",
       "1  January    2.0     \n",
       "2  February   2.6     \n",
       "3  March      7.9     \n",
       "4  April     11.2     \n",
       "5  May       15.3     \n",
       "6  June      22.2     \n",
       "7  July      22.9     \n",
       "8  August    22.5     \n",
       "9  September 17.3     \n",
       "10 October   11.7     \n",
       "11 November   5.2     \n",
       "12 December   2.8     "
      ]
     },
     "metadata": {},
     "output_type": "display_data"
    },
    {
     "name": "stdout",
     "output_type": "stream",
     "text": [
      "'data.frame':\t12 obs. of  2 variables:\n",
      " $ Month    : chr  \"January\" \"February\" \"March\" \"April\" ...\n",
      " $ Mean_Temp: num  2 2.6 7.9 11.2 15.3 22.2 22.9 22.5 17.3 11.7 ...\n"
     ]
    }
   ],
   "source": [
    "# cell 13\n",
    "path_to_file <- \"/srv/data/meg-m1-ue5/Temperatures.txt\" \n",
    "temperatures <- read.table(path_to_file, sep = \"\\t\", header = TRUE, stringsAsFactors = FALSE)\n",
    "temperatures\n",
    "str(temperatures)"
   ]
  },
  {
   "cell_type": "markdown",
   "metadata": {},
   "source": [
    "In the above command, I used the argument `stringsAsFactors=FALSE`to avoid a factorisation of the columns with strings of character (here the \"Month\" column).\n",
    "In R versions < 4, the default value for this argument is `TRUE`. Let's see what would have happened:"
   ]
  },
  {
   "cell_type": "code",
   "execution_count": 14,
   "metadata": {},
   "outputs": [
    {
     "name": "stdout",
     "output_type": "stream",
     "text": [
      "'data.frame':\t12 obs. of  2 variables:\n",
      " $ Month    : Factor w/ 12 levels \"April\",\"August\",..: 5 4 8 1 9 7 6 2 12 11 ...\n",
      " $ Mean_Temp: num  2 2.6 7.9 11.2 15.3 22.2 22.9 22.5 17.3 11.7 ...\n"
     ]
    }
   ],
   "source": [
    "# cell 14\n",
    "temperatures.2 <- read.table(path_to_file, sep=\"\\t\", header = TRUE, stringsAsFactors = TRUE)\n",
    "str(temperatures.2)"
   ]
  },
  {
   "cell_type": "markdown",
   "metadata": {},
   "source": [
    "Here the \"Month\" column has been factorised. How?"
   ]
  },
  {
   "cell_type": "code",
   "execution_count": 15,
   "metadata": {},
   "outputs": [
    {
     "data": {
      "text/html": [
       "<style>\n",
       ".list-inline {list-style: none; margin:0; padding: 0}\n",
       ".list-inline>li {display: inline-block}\n",
       ".list-inline>li:not(:last-child)::after {content: \"\\00b7\"; padding: 0 .5ex}\n",
       "</style>\n",
       "<ol class=list-inline><li>'April'</li><li>'August'</li><li>'December'</li><li>'February'</li><li>'January'</li><li>'July'</li><li>'June'</li><li>'March'</li><li>'May'</li><li>'November'</li><li>'October'</li><li>'September'</li></ol>\n"
      ],
      "text/latex": [
       "\\begin{enumerate*}\n",
       "\\item 'April'\n",
       "\\item 'August'\n",
       "\\item 'December'\n",
       "\\item 'February'\n",
       "\\item 'January'\n",
       "\\item 'July'\n",
       "\\item 'June'\n",
       "\\item 'March'\n",
       "\\item 'May'\n",
       "\\item 'November'\n",
       "\\item 'October'\n",
       "\\item 'September'\n",
       "\\end{enumerate*}\n"
      ],
      "text/markdown": [
       "1. 'April'\n",
       "2. 'August'\n",
       "3. 'December'\n",
       "4. 'February'\n",
       "5. 'January'\n",
       "6. 'July'\n",
       "7. 'June'\n",
       "8. 'March'\n",
       "9. 'May'\n",
       "10. 'November'\n",
       "11. 'October'\n",
       "12. 'September'\n",
       "\n",
       "\n"
      ],
      "text/plain": [
       " [1] \"April\"     \"August\"    \"December\"  \"February\"  \"January\"   \"July\"     \n",
       " [7] \"June\"      \"March\"     \"May\"       \"November\"  \"October\"   \"September\""
      ]
     },
     "metadata": {},
     "output_type": "display_data"
    }
   ],
   "source": [
    "# cell 15\n",
    "levels(temperatures.2$Month)"
   ]
  },
  {
   "cell_type": "markdown",
   "metadata": {},
   "source": [
    "By alphabetic order, which is not what you want!\n",
    "Thus always use `stringsAsFactors=FALSE`"
   ]
  },
  {
   "cell_type": "markdown",
   "metadata": {},
   "source": [
    "<div class=\"alert alert-block alert-info\"><b>Facultative at home:</b> to better understand the behaviour of factors, you may follow the tutorial \"R2_tuto_factors.ipynb\" available on moodle.</div>"
   ]
  },
  {
   "cell_type": "markdown",
   "metadata": {},
   "source": [
    "<div class=\"alert alert-block alert-warning\"><b> Warnings :</b><br>\n",
    "    <br>\n",
    "\n",
    "    \n",
    "<b> 1. When reading a text file into R, pay attention to the following points:<br></b>\n",
    "    \n",
    "- if there are fewer names than columns in the header of the text file : consider importing file without header or add name to file before importation\n",
    "- if there are fewer columns than names in the header : add argument `fill = TRUE` to overcome this issue\n",
    "- if there are some rows with fewer columns compared to other rows: add argument `fill = TRUE` to overcome this issue\n",
    "- if you use the argument `row.names = 1` : this cannot be used when several rows have the same name\n",
    "    \n",
    "<b> 2. Always check that the dataframe you obtain is as expected with:</b> <br>\n",
    "- `str()`\n",
    "- `head()`\n",
    "- `tail()`\n",
    "- and by displaying some rows in the middle of the file </div>\n",
    "\n",
    "There are other functions to read files into R like `read.csv()` or `scan()` or even `read.xlsx()` and `read.excel()` from the packages \"xlsx\" and \"readxl\"."
   ]
  },
  {
   "cell_type": "markdown",
   "metadata": {},
   "source": [
    "#### **b. writing a dataframe on your computer**\n",
    "\n",
    "Conversely, save a dataframe into your working directory with `write.table()`:"
   ]
  },
  {
   "cell_type": "code",
   "execution_count": 16,
   "metadata": {},
   "outputs": [],
   "source": [
    "# cell 16\n",
    "# save a dataframe as a text file in the working directory\n",
    "write.table(myDataf, file=\"bmi_data.txt\", sep=\"\\t\", quote=F, col.names=T)"
   ]
  },
  {
   "cell_type": "markdown",
   "metadata": {},
   "source": [
    "Have a look at it by double clicking on it in your working directory."
   ]
  },
  {
   "cell_type": "markdown",
   "metadata": {},
   "source": [
    "and check you can import it back in R again:"
   ]
  },
  {
   "cell_type": "code",
   "execution_count": 17,
   "metadata": {},
   "outputs": [
    {
     "data": {
      "text/html": [
       "<table class=\"dataframe\">\n",
       "<caption>A data.frame: 6 × 3</caption>\n",
       "<thead>\n",
       "\t<tr><th></th><th scope=col>weight</th><th scope=col>size</th><th scope=col>bmi</th></tr>\n",
       "\t<tr><th></th><th scope=col>&lt;int&gt;</th><th scope=col>&lt;dbl&gt;</th><th scope=col>&lt;dbl&gt;</th></tr>\n",
       "</thead>\n",
       "<tbody>\n",
       "\t<tr><th scope=row>Fabien</th><td>60</td><td>1.75</td><td>19.59184</td></tr>\n",
       "\t<tr><th scope=row>Pierre</th><td>72</td><td>1.80</td><td>22.22222</td></tr>\n",
       "\t<tr><th scope=row>Sandrine</th><td>57</td><td>1.65</td><td>20.93664</td></tr>\n",
       "\t<tr><th scope=row>Claire</th><td>90</td><td>1.90</td><td>24.93075</td></tr>\n",
       "\t<tr><th scope=row>Bruno</th><td>95</td><td>1.74</td><td>31.37799</td></tr>\n",
       "\t<tr><th scope=row>Delphine</th><td>72</td><td>1.91</td><td>19.73630</td></tr>\n",
       "</tbody>\n",
       "</table>\n"
      ],
      "text/latex": [
       "A data.frame: 6 × 3\n",
       "\\begin{tabular}{r|lll}\n",
       "  & weight & size & bmi\\\\\n",
       "  & <int> & <dbl> & <dbl>\\\\\n",
       "\\hline\n",
       "\tFabien & 60 & 1.75 & 19.59184\\\\\n",
       "\tPierre & 72 & 1.80 & 22.22222\\\\\n",
       "\tSandrine & 57 & 1.65 & 20.93664\\\\\n",
       "\tClaire & 90 & 1.90 & 24.93075\\\\\n",
       "\tBruno & 95 & 1.74 & 31.37799\\\\\n",
       "\tDelphine & 72 & 1.91 & 19.73630\\\\\n",
       "\\end{tabular}\n"
      ],
      "text/markdown": [
       "\n",
       "A data.frame: 6 × 3\n",
       "\n",
       "| <!--/--> | weight &lt;int&gt; | size &lt;dbl&gt; | bmi &lt;dbl&gt; |\n",
       "|---|---|---|---|\n",
       "| Fabien | 60 | 1.75 | 19.59184 |\n",
       "| Pierre | 72 | 1.80 | 22.22222 |\n",
       "| Sandrine | 57 | 1.65 | 20.93664 |\n",
       "| Claire | 90 | 1.90 | 24.93075 |\n",
       "| Bruno | 95 | 1.74 | 31.37799 |\n",
       "| Delphine | 72 | 1.91 | 19.73630 |\n",
       "\n"
      ],
      "text/plain": [
       "         weight size bmi     \n",
       "Fabien   60     1.75 19.59184\n",
       "Pierre   72     1.80 22.22222\n",
       "Sandrine 57     1.65 20.93664\n",
       "Claire   90     1.90 24.93075\n",
       "Bruno    95     1.74 31.37799\n",
       "Delphine 72     1.91 19.73630"
      ]
     },
     "metadata": {},
     "output_type": "display_data"
    },
    {
     "data": {
      "text/html": [
       "TRUE"
      ],
      "text/latex": [
       "TRUE"
      ],
      "text/markdown": [
       "TRUE"
      ],
      "text/plain": [
       "[1] TRUE"
      ]
     },
     "metadata": {},
     "output_type": "display_data"
    }
   ],
   "source": [
    "# cell 17\n",
    "rm(myDataf)\n",
    "myDataf <- read.table(\"bmi_data.txt\", sep=\"\\t\", header=T, stringsAsFactors=F)\n",
    "head(myDataf) #myDataf is again accessible\n",
    "file.remove(\"bmi_data.txt\") #to clean the working directory"
   ]
  },
  {
   "cell_type": "markdown",
   "metadata": {},
   "source": [
    "<div class=\"alert alert-block alert-success\"><b>Success:</b> Well done! You now know all the main functions to create and save dataframes.\n",
    "\n",
    "</div>\n",
    "    "
   ]
  },
  {
   "cell_type": "markdown",
   "metadata": {},
   "source": [
    "---\n",
    "Lets' save all the main objects of this session into an R object:"
   ]
  },
  {
   "cell_type": "code",
   "execution_count": 18,
   "metadata": {},
   "outputs": [
    {
     "data": {
      "text/html": [
       "<style>\n",
       ".list-inline {list-style: none; margin:0; padding: 0}\n",
       ".list-inline>li {display: inline-block}\n",
       ".list-inline>li:not(:last-child)::after {content: \"\\00b7\"; padding: 0 .5ex}\n",
       "</style>\n",
       "<ol class=list-inline><li>'bmi'</li><li>'d'</li><li>'d1'</li><li>'d2'</li><li>'myData2'</li><li>'myDataf'</li><li>'path_to_file'</li><li>'size'</li><li>'temperatures'</li><li>'temperatures.2'</li><li>'weight'</li></ol>\n"
      ],
      "text/latex": [
       "\\begin{enumerate*}\n",
       "\\item 'bmi'\n",
       "\\item 'd'\n",
       "\\item 'd1'\n",
       "\\item 'd2'\n",
       "\\item 'myData2'\n",
       "\\item 'myDataf'\n",
       "\\item 'path\\_to\\_file'\n",
       "\\item 'size'\n",
       "\\item 'temperatures'\n",
       "\\item 'temperatures.2'\n",
       "\\item 'weight'\n",
       "\\end{enumerate*}\n"
      ],
      "text/markdown": [
       "1. 'bmi'\n",
       "2. 'd'\n",
       "3. 'd1'\n",
       "4. 'd2'\n",
       "5. 'myData2'\n",
       "6. 'myDataf'\n",
       "7. 'path_to_file'\n",
       "8. 'size'\n",
       "9. 'temperatures'\n",
       "10. 'temperatures.2'\n",
       "11. 'weight'\n",
       "\n",
       "\n"
      ],
      "text/plain": [
       " [1] \"bmi\"            \"d\"              \"d1\"             \"d2\"            \n",
       " [5] \"myData2\"        \"myDataf\"        \"path_to_file\"   \"size\"          \n",
       " [9] \"temperatures\"   \"temperatures.2\" \"weight\"        "
      ]
     },
     "metadata": {},
     "output_type": "display_data"
    }
   ],
   "source": [
    "#cell 18\n",
    "ls()"
   ]
  },
  {
   "cell_type": "markdown",
   "metadata": {},
   "source": [
    "We will keep `myDataf` and `temperatures`."
   ]
  },
  {
   "cell_type": "code",
   "execution_count": 19,
   "metadata": {},
   "outputs": [],
   "source": [
    "# cell 19\n",
    "save(myDataf, temperatures, file=\"R2_tuto.RData\")"
   ]
  },
  {
   "cell_type": "markdown",
   "metadata": {},
   "source": [
    "***\n",
    "***\n",
    "## Useful commands\n",
    "<div class=\"alert alert-block alert-info\"> \n",
    "    \n",
    "- <kbd>CTRL</kbd>+<kbd>S</kbd> : save notebook<br>    \n",
    "- <kbd>CTRL</kbd>+<kbd>ENTER</kbd> : Run Cell<br>  \n",
    "- <kbd>SHIFT</kbd>+<kbd>ENTER</kbd> : Run Cell and Select Next<br>   \n",
    "- <kbd>ALT</kbd>+<kbd>ENTER</kbd> : Run Cell and Insert Below<br>   \n",
    "- <kbd>ESC</kbd>+<kbd>y</kbd> : Change to *Code* Cell Type<br>  \n",
    "- <kbd>ESC</kbd>+<kbd>m</kbd> : Change to *Markdown* Cell Type<br> \n",
    "- <kbd>ESC</kbd>+<kbd>r</kbd> : Change to *Raw* Cell Type<br>    \n",
    "- <kbd>ESC</kbd>+<kbd>a</kbd> : Create Cell Above<br> \n",
    "- <kbd>ESC</kbd>+<kbd>b</kbd> : Create Cell Below<br> \n",
    "\n",
    "<em>  \n",
    "To make nice html reports with markdown: <a href=\"https://dillinger.io/\" title=\"dillinger.io\">html visualization tool 1</a> or <a href=\"https://stackedit.io/app#\" title=\"stackedit.io\">html visualization tool 2</a>, <a href=\"https://www.tablesgenerator.com/markdown_tables\" title=\"tablesgenerator.com\">to draw nice tables</a>, and the <a href=\"https://medium.com/analytics-vidhya/the-ultimate-markdown-guide-for-jupyter-notebook-d5e5abf728fd\" title=\"Ultimate guide\">Ultimate guide</a>. <br>\n",
    "Further reading on JupyterLab notebooks: <a href=\"https://jupyterlab.readthedocs.io/en/latest/user/notebook.html\" title=\"Jupyter Lab\">Jupyter Lab documentation</a>.<br>   \n",
    "</em>    \n",
    " \n",
    "</div>"
   ]
  },
  {
   "cell_type": "markdown",
   "metadata": {},
   "source": [
    "__*=> About this jupyter notebook*__\n",
    "\n",
    "This a jupyter notebook in **R**, meaning that the commands you will enter or run in `Code` cells are directly understood by the server in the R language.\n",
    "<br>You could run the same commands in a Terminal or in RStudio. \n",
    "Here we are using JupyterLab interface implemented as part of the https://plasmabio.org/ project lead by Sandrine Caburet, Pierre Poulain and Claire Vandiedonck. \n",
    "---\n",
    "\n"
   ]
  },
  {
   "cell_type": "markdown",
   "metadata": {},
   "source": [
    "[version 23/09/2022 - last revision: @CVandiedonck]"
   ]
  }
 ],
 "metadata": {
  "kernelspec": {
   "display_name": "R",
   "language": "R",
   "name": "ir"
  },
  "language_info": {
   "codemirror_mode": "r",
   "file_extension": ".r",
   "mimetype": "text/x-r-source",
   "name": "R",
   "pygments_lexer": "r",
   "version": "4.1.3"
  },
  "toc-showtags": true
 },
 "nbformat": 4,
 "nbformat_minor": 4
}
