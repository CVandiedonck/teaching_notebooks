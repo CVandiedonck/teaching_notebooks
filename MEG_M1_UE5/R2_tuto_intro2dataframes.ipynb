{
 "cells": [
  {
   "cell_type": "markdown",
   "metadata": {},
   "source": [
    "# __R Session n°2 : tutorial__\n",
    "M1 MEG UE5 - Claire Vandiedonck\n",
    "***\n",
    "\n",
    "## **introduction on dataframes**\n",
    "\n",
    "*Content of this tutorial:*\n",
    "\n",
    "1. Creating a dataframe\n",
    "2. Reading a text file into RData\n",
    "3. Saving a dataframe on my computer\n",
    "\n",
    "In the next tutorial we will see how to subset dataframes on several criteria, and how to merge them."
   ]
  },
  {
   "cell_type": "markdown",
   "metadata": {},
   "source": [
    "---\n",
    "## Avant d'aller plus loin\n",
    "\n",
    "<div class=\"alert alert-block alert-danger\"><b>Attention:</b> \n",
    "Ne travaillez pas directement sur ce notebook pour ne pas le perdre. Dupliquez-le et renommez-le par exemple en ajoutant vos initiales et travaillez sur cette nouvelle copie. Pour ce faire, dans le panneau de gauche, faites un clic droit sur le fichier et sélectionnez \"Duplicate\". Puis, toujours dans la colonne de gauche, faites un clic droit sur cette copie et sélectionnez \"rename\" pour changer le nom. Ouvrez ensuite cette nouvelle version en double cliquant dessus. Vous êtes prêt(e) à démarrer! <br>\n",
    "<br>\n",
    "<b>N'oubliez pas de sauvegarder régulièrement votre notebook</b>: <kbd>Ctrl</kbd> + <kbd>S</kbd>. ou en cliquant sur l'icone 💾 en haut à gauche de votre notebook ou dans le Menu du JupyterLab \"File puis \"Save Notebook\"! Vous pouvez aussi le sauvegarder au format html: Menu \"File\" > Export Notebook As> Export notebook as HTML.\n",
    "</div>\n",
    " "
   ]
  },
  {
   "cell_type": "markdown",
   "metadata": {},
   "source": [
    "__*=> About this jupyter notebook*__\n",
    "\n",
    "This a jupyter notebook in **R**, meaning that the commands you will enter or run in `Code` cells are directly understood by the server in the R language.\n",
    "<br>You could run the same commands in a Terminal or in RStudio. \n",
    "\n",
    "\n",
    "> In this tutorial, you will run one cell at a time.    \n",
    "\n"
   ]
  },
  {
   "cell_type": "markdown",
   "metadata": {},
   "source": [
    "<div class=\"alert alert-block alert-warning\"><b>Warning:</b> you are strongly advised to run the cells in the indicated order. If you want to rerun cells above, you can just restart the kernel to start at 1 again. </div>"
   ]
  },
  {
   "cell_type": "markdown",
   "metadata": {},
   "source": [
    "#### 1. Identifiez votre répertoire de travail"
   ]
  },
  {
   "cell_type": "code",
   "execution_count": null,
   "metadata": {},
   "outputs": [],
   "source": [
    "getwd()"
   ]
  },
  {
   "cell_type": "markdown",
   "metadata": {},
   "source": [
    "Si ce répertoire ne vous convient pas, changez le pour un répertoire existant `my_directory`par exemple, avec la commande suivante en spécifiant le chemin relatif ou absolu de votre répertoire:\n",
    "```setwd(\"path/my_directory\")```"
   ]
  },
  {
   "cell_type": "markdown",
   "metadata": {},
   "source": [
    "#### 2.  Identifiez la version R de votre environnement et packages installés."
   ]
  },
  {
   "cell_type": "code",
   "execution_count": null,
   "metadata": {},
   "outputs": [],
   "source": [
    "sessionInfo()"
   ]
  },
  {
   "cell_type": "markdown",
   "metadata": {},
   "source": [
    "---\n",
    "---\n",
    "\n",
    "## **I - Dataframes**\n",
    "\n",
    "\n",
    "Dataframes are two-dimensional objects that can be heterogeneous between columns (but homogeneous within a column)"
   ]
  },
  {
   "cell_type": "markdown",
   "metadata": {},
   "source": [
    "### **I.1. - Creating a dataframe:**\n",
    "---\n",
    "\n",
    "- They are generated with the function `data.frame()`:\n",
    "\n",
    "This can be done **using existing vectors of same length** like the previoulsy generated \"weight\", \"size\" and \"bmi\" we previously saved in the object \"anthropo.RData\". If you didn't generate it, you can find it on moodle or in the shared data folder: `/srv/data/meg-m1-ue5/`. You only have to change the path in the next command."
   ]
  },
  {
   "cell_type": "code",
   "execution_count": null,
   "metadata": {},
   "outputs": [],
   "source": [
    "load(\"../R1/anthropo.RData\")\n",
    "ls()"
   ]
  },
  {
   "cell_type": "code",
   "execution_count": null,
   "metadata": {},
   "outputs": [],
   "source": [
    "myDataf <- data.frame(weight, size, bmi)\n",
    "myDataf"
   ]
  },
  {
   "cell_type": "markdown",
   "metadata": {},
   "source": [
    "The obtained dataframe looks pretty much like the previous matrix myData2."
   ]
  },
  {
   "cell_type": "code",
   "execution_count": null,
   "metadata": {},
   "outputs": [],
   "source": [
    "class(myDataf)"
   ]
  },
  {
   "cell_type": "code",
   "execution_count": null,
   "metadata": {},
   "outputs": [],
   "source": [
    "str(myDataf)"
   ]
  },
  {
   "cell_type": "code",
   "execution_count": null,
   "metadata": {},
   "outputs": [],
   "source": [
    "print(dim(myDataf))"
   ]
  },
  {
   "cell_type": "markdown",
   "metadata": {},
   "source": [
    ">*Note that if the vectors used to generate the dataframe are character strings, it is advised in versions < 4 to add the argument `stringsAsFactors=FALSE`*"
   ]
  },
  {
   "cell_type": "markdown",
   "metadata": {},
   "source": [
    "If the vectors that will generate the dataframe do not exist yet in the session, but you would like to initiate a dataframe to fill it during your analysis, you could imagine creating an empty dataframe. But this method is useless as it is impossible to fill the generated dataframe having 0 columns and rows."
   ]
  },
  {
   "cell_type": "code",
   "execution_count": null,
   "metadata": {},
   "outputs": [],
   "source": [
    "d <- data.frame()\n",
    "d\n",
    "dim(d)"
   ]
  },
  {
   "cell_type": "markdown",
   "metadata": {},
   "source": [
    "In that case, it is better to create an empty matrix and to convert it to a dataframe. See below."
   ]
  },
  {
   "cell_type": "markdown",
   "metadata": {},
   "source": [
    "- Dataframes can be generated by **converting a matrix into a dataframe** with `as.data.frame()`"
   ]
  },
  {
   "cell_type": "markdown",
   "metadata": {},
   "source": [
    "Let's try with the object myData2 which is a matrix we create with `cbind()`."
   ]
  },
  {
   "cell_type": "code",
   "execution_count": null,
   "metadata": {},
   "outputs": [],
   "source": [
    "myData2 <- cbind(weight, size, bmi)"
   ]
  },
  {
   "cell_type": "code",
   "execution_count": null,
   "metadata": {},
   "outputs": [],
   "source": [
    "class(myData2)\n",
    "class(as.data.frame(myData2))\n",
    "str(as.data.frame(myData2))"
   ]
  },
  {
   "cell_type": "markdown",
   "metadata": {},
   "source": [
    "You may also use `as.data.frame()` matrix directly by binding rows :"
   ]
  },
  {
   "cell_type": "code",
   "execution_count": null,
   "metadata": {},
   "outputs": [],
   "source": [
    "d2 <- as.data.frame(rbind(1:2, 10:11))\n",
    "str(d2)"
   ]
  },
  {
   "cell_type": "markdown",
   "metadata": {},
   "source": [
    "So, similarly, we can do such a conversion of an empy matrix into a dataframe like in this example with a matrix of two rows and three columns currently filled with missing values:"
   ]
  },
  {
   "cell_type": "code",
   "execution_count": null,
   "metadata": {},
   "outputs": [],
   "source": [
    "d <- as.data.frame(matrix(NA,2,3))\n",
    "d\n",
    "dim(d)\n",
    "str(d)"
   ]
  },
  {
   "cell_type": "markdown",
   "metadata": {},
   "source": [
    "- Getting **row and column names** of a dataframe:"
   ]
  },
  {
   "cell_type": "markdown",
   "metadata": {},
   "source": [
    "You may use the same fonctions as the ones used for matrices: `rownames()` and `colnames()`:"
   ]
  },
  {
   "cell_type": "code",
   "execution_count": null,
   "metadata": {},
   "outputs": [],
   "source": [
    "rownames(d)\n",
    "colnames(d)"
   ]
  },
  {
   "cell_type": "markdown",
   "metadata": {},
   "source": [
    "But it is better to use the functions dedicated to dataframes which are `row.names()` and `names()`:"
   ]
  },
  {
   "cell_type": "code",
   "execution_count": null,
   "metadata": {},
   "outputs": [],
   "source": [
    "row.names(d)\n",
    "names(d)"
   ]
  },
  {
   "cell_type": "markdown",
   "metadata": {},
   "source": [
    "<div class=\"alert alert-block alert-danger\"><b>Caution:</b>\n",
    "    each row name must be unique in a dataframe!\n",
    "</div>"
   ]
  },
  {
   "cell_type": "markdown",
   "metadata": {},
   "source": [
    "- **Getting a variable from a dataframe:**\n",
    "\n",
    "To better follow, let's first diplay again myDataf"
   ]
  },
  {
   "cell_type": "code",
   "execution_count": null,
   "metadata": {},
   "outputs": [],
   "source": [
    "print(myDataf)"
   ]
  },
  {
   "cell_type": "markdown",
   "metadata": {},
   "source": [
    "Variables are the columns of a dataframe. You can extract the vector corresponding to a column from a dataframe with its `index`, with the `name` of the column inside`\"\"` or using the symbol `$`:"
   ]
  },
  {
   "cell_type": "code",
   "execution_count": null,
   "metadata": {},
   "outputs": [],
   "source": [
    "print(myDataf[,2])\n",
    "print(myDataf[,\"size\"])\n",
    "print(myDataf$size)"
   ]
  },
  {
   "cell_type": "markdown",
   "metadata": {},
   "source": [
    "- **Extracting rows from a dataframe:**\n",
    "\n",
    "You have two options to do so:\n",
    "\n",
    "1. either by specifying the index of the row"
   ]
  },
  {
   "cell_type": "code",
   "execution_count": null,
   "metadata": {},
   "outputs": [],
   "source": [
    "myDataf[2,]"
   ]
  },
  {
   "cell_type": "markdown",
   "metadata": {},
   "source": [
    "2. or by giving its name within the `\"\"` insie the squared brackets:"
   ]
  },
  {
   "cell_type": "code",
   "execution_count": null,
   "metadata": {},
   "outputs": [],
   "source": [
    "myDataf[\"Pierre\",]"
   ]
  },
  {
   "cell_type": "code",
   "execution_count": null,
   "metadata": {},
   "outputs": [],
   "source": [
    "class(myDataf[\"Pierre\",])"
   ]
  },
  {
   "cell_type": "markdown",
   "metadata": {},
   "source": [
    "In both cases, you may notice that you obtain a dataframe and not a vector, even if you extract only one row.\n",
    "If you wish to get the vector corresponding to a row, you have to convert it with the `unlist()` function.\n",
    "\n",
    ">*Of note, dataframes are a special case of list variables of the same number of rows with unique row names.*"
   ]
  },
  {
   "cell_type": "code",
   "execution_count": null,
   "metadata": {},
   "outputs": [],
   "source": [
    "temp <- unlist(myDataf[\"Pierre\",])\n",
    "print(temp)\n",
    "class(temp)"
   ]
  },
  {
   "cell_type": "markdown",
   "metadata": {},
   "source": [
    "<div class=\"alert alert-block alert-warning\"><b>Your turn:</b> have a look at slide 23 and start thinking of answers on your own -> we will discuss the solutions together. </div>"
   ]
  },
  {
   "cell_type": "markdown",
   "metadata": {},
   "source": [
    "- **adding a column:** creating a new vector with characters and including it in the dataframe\n",
    "\n",
    "1. either you add one vector at a time:"
   ]
  },
  {
   "cell_type": "code",
   "execution_count": null,
   "metadata": {},
   "outputs": [],
   "source": [
    "d2$new <- 1:2\n",
    "d2"
   ]
  },
  {
   "cell_type": "markdown",
   "metadata": {},
   "source": [
    "Here is another example to add a colum \"sex\" to the dataframe myData using a vector called \"sex\". I changed the name of the vector but you could keep the same name!"
   ]
  },
  {
   "cell_type": "code",
   "execution_count": null,
   "metadata": {},
   "outputs": [],
   "source": [
    "gender <- c(\"Man\",\"Man\",\"Woman\",\"Woman\",\"Man\",\"Woman\")\n",
    "print(gender)\n",
    "myDataf$sex <- gender\n",
    "print(myDataf$sex)\n",
    "myDataf\n",
    "str(myDataf)"
   ]
  },
  {
   "cell_type": "markdown",
   "metadata": {},
   "source": [
    "2. or add several vectors or several columns from another dataframe at once using `data.frame()`:"
   ]
  },
  {
   "cell_type": "code",
   "execution_count": null,
   "metadata": {},
   "outputs": [],
   "source": [
    "d3 <-  data.frame(d, d2)\n",
    "d3"
   ]
  },
  {
   "cell_type": "markdown",
   "metadata": {},
   "source": [
    "<div class=\"alert alert-block alert-danger\"><b>Caution:</b> \n",
    "    You could also use <b>cbind()</b> but it is at risk as cbind() is rather a function for matrices. If you use it for dataframes, it will keep the data types only if you combine several variables of both dataframes. If you take only one variable from a dataframe, cbind() will convert it as a vector with a possible risk of coercion and of factorisation in versions of R < 4.\n",
    "</div>"
   ]
  },
  {
   "cell_type": "markdown",
   "metadata": {},
   "source": [
    "### **I.2. - Reading a text file into R and vice versa**\n",
    "---"
   ]
  },
  {
   "cell_type": "markdown",
   "metadata": {},
   "source": [
    "#### **a. reading a text file into R**\n",
    "\n",
    "The function `read.table()` reads a delimited text file (tabulated, scv or other column separator) into R and **generates a dataframe**. \n",
    "\n",
    "We will import into R the file `Temperatures.txt` which is located in the shared folder `srv/data/meg-m1-ue5`. It is also on moodle.\n",
    "To import it in you `R2 folder` open a terminal and enter the following command:"
   ]
  },
  {
   "cell_type": "raw",
   "metadata": {},
   "source": [
    "cp /srv/data/meg-m1-ue5/Temperatures.txt ."
   ]
  },
  {
   "cell_type": "markdown",
   "metadata": {},
   "source": [
    "Before importing it into R, let's see how it looks like. Just double click on it.\n",
    "\n",
    "You will see it is a tab-delimited text file.\n",
    "\n",
    "Now let's import it in R by specifying the correct separator with the `read.table()` function:"
   ]
  },
  {
   "cell_type": "code",
   "execution_count": null,
   "metadata": {},
   "outputs": [],
   "source": [
    "temperatures <- read.table(\"Temperatures.txt\", sep = \"\\t\", header = T, stringsAsFactors = F)\n",
    "temperatures\n",
    "str(temperatures)"
   ]
  },
  {
   "cell_type": "markdown",
   "metadata": {},
   "source": [
    "In the above command, I used the argument `stringsAsFactors = FALSE`to avoid a factorisation of the columns with strings of character (here the \"Month\" column).\n",
    "In R versions < 4, the default value for this argument is `TRUE`. Let's see what would have happened:"
   ]
  },
  {
   "cell_type": "code",
   "execution_count": null,
   "metadata": {},
   "outputs": [],
   "source": [
    "temperatures.2 <- read.table(\"Temperatures.txt\", sep = \"\\t\", header = T, stringsAsFactors = TRUE)\n",
    "str(temperatures.2)"
   ]
  },
  {
   "cell_type": "markdown",
   "metadata": {},
   "source": [
    "Here the \"Month\" column has been factorised. How?"
   ]
  },
  {
   "cell_type": "code",
   "execution_count": null,
   "metadata": {},
   "outputs": [],
   "source": [
    "levels(temperatures.2$Month)"
   ]
  },
  {
   "cell_type": "markdown",
   "metadata": {},
   "source": [
    "By alphabetic order, which is not what you want!\n",
    "Thus always use `stringsAsFactors=FALSE`"
   ]
  },
  {
   "cell_type": "markdown",
   "metadata": {},
   "source": [
    "<div class=\"alert alert-block alert-info\"><b>Personal work:</b>to better understand the behaviour of factors which is available on moodle.</div>"
   ]
  },
  {
   "cell_type": "markdown",
   "metadata": {},
   "source": [
    "#### **b. writing a dataframe on your computer**\n",
    "\n",
    "Conversely, save a dataframe into your working directory with `write.table()`:"
   ]
  },
  {
   "cell_type": "code",
   "execution_count": null,
   "metadata": {},
   "outputs": [],
   "source": [
    "# save a dataframe as a text file in the working directory\n",
    "\n",
    "write.table(myDataf, file = \"bmi_data.txt\", sep = \"\\t\", quote = F, col.names = T)"
   ]
  },
  {
   "cell_type": "markdown",
   "metadata": {},
   "source": [
    "Have a look at it by double clicking on it in your working directory."
   ]
  },
  {
   "cell_type": "markdown",
   "metadata": {},
   "source": [
    "and check you can import it back in R again:"
   ]
  },
  {
   "cell_type": "code",
   "execution_count": null,
   "metadata": {},
   "outputs": [],
   "source": [
    "rm(myDataf)\n",
    "myDataf <- read.table(\"bmi_data.txt\", sep = \"\\t\", header = T, stringsAsFactors = F)\n",
    "head(myDataf) #myDataf is again accessible\n",
    "file.remove(\"bmi_data.txt\") #to clean the working directory"
   ]
  },
  {
   "cell_type": "markdown",
   "metadata": {},
   "source": [
    "<div class=\"alert alert-block alert-success\"><b>Success:</b> Well done! You now know all the main functions to create and save dataframes.\n",
    "\n",
    "</div>\n",
    "    "
   ]
  },
  {
   "cell_type": "markdown",
   "metadata": {},
   "source": [
    "---\n",
    "Lets' save all the main objects of this session into an R object:"
   ]
  },
  {
   "cell_type": "code",
   "execution_count": null,
   "metadata": {},
   "outputs": [],
   "source": [
    "ls()"
   ]
  },
  {
   "cell_type": "markdown",
   "metadata": {},
   "source": [
    "We will keep `myDataf` and `temperatures`."
   ]
  },
  {
   "cell_type": "code",
   "execution_count": null,
   "metadata": {},
   "outputs": [],
   "source": [
    "save(myDataf, temperatures, file=\"R2_tuto.RData\")"
   ]
  },
  {
   "cell_type": "code",
   "execution_count": null,
   "metadata": {},
   "outputs": [],
   "source": [
    "sessionInfo()"
   ]
  },
  {
   "cell_type": "markdown",
   "metadata": {},
   "source": [
    "***\n",
    "***\n",
    "## Useful commands\n",
    "<div class=\"alert alert-block alert-info\"> \n",
    "    \n",
    "- <kbd>CTRL</kbd>+<kbd>S</kbd> : save notebook<br>    \n",
    "- <kbd>CTRL</kbd>+<kbd>ENTER</kbd> : Run Cell<br>  \n",
    "- <kbd>SHIFT</kbd>+<kbd>ENTER</kbd> : Run Cell and Select Next<br>   \n",
    "- <kbd>ALT</kbd>+<kbd>ENTER</kbd> : Run Cell and Insert Below<br>   \n",
    "- <kbd>ESC</kbd>+<kbd>y</kbd> : Change to *Code* Cell Type<br>  \n",
    "- <kbd>ESC</kbd>+<kbd>m</kbd> : Change to *Markdown* Cell Type<br> \n",
    "- <kbd>ESC</kbd>+<kbd>r</kbd> : Change to *Raw* Cell Type<br>    \n",
    "- <kbd>ESC</kbd>+<kbd>a</kbd> : Create Cell Above<br> \n",
    "- <kbd>ESC</kbd>+<kbd>b</kbd> : Create Cell Below<br> \n",
    "\n",
    "<em>  \n",
    "To make nice html reports with markdown: <a href=\"https://dillinger.io/\" title=\"dillinger.io\">html visualization tool 1</a> or <a href=\"https://stackedit.io/app#\" title=\"stackedit.io\">html visualization tool 2</a>, <a href=\"https://www.tablesgenerator.com/markdown_tables\" title=\"tablesgenerator.com\">to draw nice tables</a>, and the <a href=\"https://medium.com/analytics-vidhya/the-ultimate-markdown-guide-for-jupyter-notebook-d5e5abf728fd\" title=\"Ultimate guide\">Ultimate guide</a>. <br>\n",
    "Further reading on JupyterLab notebooks: <a href=\"https://jupyterlab.readthedocs.io/en/latest/user/notebook.html\" title=\"Jupyter Lab\">Jupyter Lab documentation</a>.<br>   \n",
    "</em>    \n",
    " \n",
    "</div>"
   ]
  }
 ],
 "metadata": {
  "kernelspec": {
   "display_name": "R",
   "language": "R",
   "name": "ir"
  },
  "language_info": {
   "codemirror_mode": "r",
   "file_extension": ".r",
   "mimetype": "text/x-r-source",
   "name": "R",
   "pygments_lexer": "r",
   "version": "4.0.5"
  },
  "toc-showtags": true
 },
 "nbformat": 4,
 "nbformat_minor": 4
}
