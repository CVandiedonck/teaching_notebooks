{
 "cells": [
  {
   "cell_type": "markdown",
   "metadata": {},
   "source": [
    "# __R Session n°2 : tutorial__\n",
    "M1 MEG UE5 - Claire Vandiedonck\n",
    "***\n",
    "\n",
    "## **introduction on factors**\n"
   ]
  },
  {
   "cell_type": "markdown",
   "metadata": {},
   "source": [
    "## 1. Qu’est-ce qu’un facteur?\n",
    "---\n",
    "\n",
    "Les variables catégoriques peuvent prendre des valeurs numériques ou être des chaines de caractères. **Pour les utiliser de manière correcte en modélisation statistique et tester leur impact sur d’autres variables, il est nécessaire de les transformer en facteurs qui doivent être des entiers**, ce qui peut nécessiter une conversion. Certaines fonctions sous R le font de manière cachée : c’est le cas de boxplot!\n",
    "\n",
    "***Exemple:***\n",
    "Ci-dessous, on affiche la distribution de la consommation en carburant (variable `mpg` = miles per gallon) en fonction du nombre de cylindres (variable `cyl`). En statistiques, le nombre de cylindres est un facteur avec  3 niveaux (4,6 et 8). Mais quand on regarde la structure du dataframe `mtcasr` le type est numérique et non un facteur."
   ]
  },
  {
   "cell_type": "code",
   "execution_count": 1,
   "metadata": {},
   "outputs": [
    {
     "name": "stdout",
     "output_type": "stream",
     "text": [
      "'data.frame':\t32 obs. of  11 variables:\n",
      " $ mpg : num  21 21 22.8 21.4 18.7 18.1 14.3 24.4 22.8 19.2 ...\n",
      " $ cyl : num  6 6 4 6 8 6 8 4 4 6 ...\n",
      " $ disp: num  160 160 108 258 360 ...\n",
      " $ hp  : num  110 110 93 110 175 105 245 62 95 123 ...\n",
      " $ drat: num  3.9 3.9 3.85 3.08 3.15 2.76 3.21 3.69 3.92 3.92 ...\n",
      " $ wt  : num  2.62 2.88 2.32 3.21 3.44 ...\n",
      " $ qsec: num  16.5 17 18.6 19.4 17 ...\n",
      " $ vs  : num  0 0 1 1 0 1 0 1 1 1 ...\n",
      " $ am  : num  1 1 1 0 0 0 0 0 0 0 ...\n",
      " $ gear: num  4 4 4 3 3 3 3 4 4 4 ...\n",
      " $ carb: num  4 4 1 1 2 1 4 2 2 4 ...\n"
     ]
    },
    {
     "data": {
      "image/png": "[encoded data removed]",
      "text/plain": [
       "plot without title"
      ]
     },
     "metadata": {
      "image/png": {
       "height": 420,
       "width": 420
      }
     },
     "output_type": "display_data"
    }
   ],
   "source": [
    "str(mtcars)\n",
    "boxplot(data=mtcars, mpg~cyl)"
   ]
  },
  {
   "cell_type": "markdown",
   "metadata": {},
   "source": [
    "Si vous transformez la variable \"cyl\" en variable avec une chaîne de caractères en ajoutant par exemple \"cyl_\" devant la valeur numérique, la fonction boxplot sera toujours capable de traiter cette variable comme un facteur."
   ]
  },
  {
   "cell_type": "code",
   "execution_count": 2,
   "metadata": {},
   "outputs": [
    {
     "data": {
      "text/html": [
       "'character'"
      ],
      "text/latex": [
       "'character'"
      ],
      "text/markdown": [
       "'character'"
      ],
      "text/plain": [
       "[1] \"character\""
      ]
     },
     "metadata": {},
     "output_type": "display_data"
    },
    {
     "data": {
      "image/png": "[encoded data removed]",
      "text/plain": [
       "plot without title"
      ]
     },
     "metadata": {
      "image/png": {
       "height": 420,
       "width": 420
      }
     },
     "output_type": "display_data"
    }
   ],
   "source": [
    "class(paste(\"cyl_\", mtcars$cyl))\n",
    "boxplot(mtcars$mpg ~ paste(\"cyl_\", mtcars$cyl))"
   ]
  },
  {
   "cell_type": "markdown",
   "metadata": {},
   "source": [
    "## 2. Conversion en facteur avec la fonction `factor()`:\n",
    "---\n",
    "\n",
    "La fonction `factor()` permet de convertir vous-même un vecteur (une variable) en un facteur qui encode les différentes valeurs possibles de la variable.\n",
    "\n",
    "Sous R, les valeurs entières de 1 à n correspondront aux **index du facteur**. Ces valeurs d’index ou « codes » sont attribuées par défaut selon l’ordre alphabétique ou numérique (cf. help(factor)) des différentes valeurs possibles, appelés niveaux ou **levels** de la variable."
   ]
  },
  {
   "cell_type": "markdown",
   "metadata": {},
   "source": [
    "- si les valeurs sont **numériques**:\n",
    "\n",
    "Elles sont elles-mêmes renumérotées ou ré-indexées de 1 à n ! Par exemple, si vous avez les entiers de 4 à 10 dans un vecteur v1 :"
   ]
  },
  {
   "cell_type": "code",
   "execution_count": 3,
   "metadata": {},
   "outputs": [
    {
     "name": "stdout",
     "output_type": "stream",
     "text": [
      "[1] 4  5  6  7  8  9  10\n",
      "Levels: 4 5 6 7 8 9 10\n"
     ]
    }
   ],
   "source": [
    "v1<-4:10\n",
    "print(factor(v1))"
   ]
  },
  {
   "cell_type": "code",
   "execution_count": 4,
   "metadata": {},
   "outputs": [
    {
     "name": "stdout",
     "output_type": "stream",
     "text": [
      " Factor w/ 7 levels \"4\",\"5\",\"6\",\"7\",..: 1 2 3 4 5 6 7\n"
     ]
    }
   ],
   "source": [
    "str(factor(v1))"
   ]
  },
  {
   "cell_type": "markdown",
   "metadata": {},
   "source": [
    "La factorisation de v1 a donc créé un 1 facteur à 7 niveaux correspondant aux valeurs catégoriques “4” à “10” mais indexées 1 à 7 !\n",
    "\n",
    "- Si les valeurs sont des **chaines de caractère**:\n",
    "\n",
    "Elles sont indexées de 1 à n : Par exemple, si je factorise le vecteur suivant contenant 4 valeurs :"
   ]
  },
  {
   "cell_type": "code",
   "execution_count": 5,
   "metadata": {},
   "outputs": [
    {
     "name": "stdout",
     "output_type": "stream",
     "text": [
      "[1] Homme Femme Homme Homme\n",
      "Levels: Femme Homme\n"
     ]
    }
   ],
   "source": [
    "v2 <- c(\"Homme\",\"Femme\",\"Homme\",\"Homme\")\n",
    "print(factor(v2))"
   ]
  },
  {
   "cell_type": "markdown",
   "metadata": {},
   "source": [
    "Les valeurs “Homme” et “Femme” auront respectivement comme index les valeurs 2 et 1 car “Femme” sort avant “Homme” selon l’ordre alphabétique. Les valeurs 1, 3 et 4 du vecteur v2 seront donc codées 2, tandis que la 2ème sera codée 1, ce que vous voyez en regardant la structure du facteur créé :"
   ]
  },
  {
   "cell_type": "code",
   "execution_count": 6,
   "metadata": {},
   "outputs": [
    {
     "name": "stdout",
     "output_type": "stream",
     "text": [
      " Factor w/ 2 levels \"Femme\",\"Homme\": 2 1 2 2\n"
     ]
    }
   ],
   "source": [
    "str(factor(v2))"
   ]
  },
  {
   "cell_type": "markdown",
   "metadata": {},
   "source": [
    "Mais ce n’est cependant pas nécessairement le code que vous voulez garder : souvent on met « 2 » pour les femmes et « 1 » pour les « hommes ». De même, “cas” et “controles” seront convertis en 1 et 2. Or **il est souvent préférable de donner la valeur 1 à la référence à laquelle on compare** et donc on peut souhaiter imposer que 1 corresponde aux “controles” et 2 aux “cas”"
   ]
  },
  {
   "cell_type": "markdown",
   "metadata": {},
   "source": [
    "## 3. Choisir les niveaux d'un facteur\n",
    "---\n",
    "\n",
    "Il peut donc être nécessaire d’imposer par vous-mêmes l’ordre de votre choix qui ne serait pas alphabétique ou numérique. L’argument `levels` permet d’imposer cet ordre.\n",
    "\n",
    "En utilisant la fonction `factor()`, vous pouvez utiliser en particulier deux arguments pour choisir vous- même l’ordre des niveaux d’une part et leurs noms d’autre part:\n",
    "\n",
    "**1. L’argument `levels`** permet de préciser l’ordre de vos niveaux dans un ordre qui pourrait être différent de l’ordre alphabétique ou numérique.\n",
    "\n",
    "**2. L’argument `labels`** permet de renommer chaque niveau du facteur, sans modifier l’ordre par défaut ou spécifié par levels. Par exemple, vous voulez renommer “Homme” par “Man” et “Femme” par “Woman”.\n",
    "\n",
    "Pour ces deux arguments, vous donnez un vecteur avec les noms des niveaux."
   ]
  },
  {
   "cell_type": "markdown",
   "metadata": {},
   "source": [
    "## 4. Exemple pas à pas illustrant l’usage de `factor()` avec les arguments `levels` et `labels` \n",
    "---"
   ]
  },
  {
   "cell_type": "markdown",
   "metadata": {},
   "source": [
    "Prenez par exemple le vecteur d’un score de satisfaction à une enquête:"
   ]
  },
  {
   "cell_type": "code",
   "execution_count": 7,
   "metadata": {},
   "outputs": [
    {
     "name": "stdout",
     "output_type": "stream",
     "text": [
      "[1] \"mauvais\"    \"bon\"        \"acceptable\" \"bon\"        \"bon\"       \n",
      "[6] \"mauvais\"   \n"
     ]
    }
   ],
   "source": [
    "satisfaction<-c(\"mauvais\",\"bon\",\"acceptable\",\"bon\",\"bon\",\"mauvais\")\n",
    "print(satisfaction)"
   ]
  },
  {
   "cell_type": "markdown",
   "metadata": {},
   "source": [
    "### a- conversion en facteur\n",
    "\n",
    "Vous pouvez le **convertir en un facteur** avec la fonction `factor()`"
   ]
  },
  {
   "cell_type": "code",
   "execution_count": 8,
   "metadata": {},
   "outputs": [
    {
     "name": "stdout",
     "output_type": "stream",
     "text": [
      "[1] mauvais    bon        acceptable bon        bon        mauvais   \n",
      "Levels: acceptable bon mauvais\n"
     ]
    }
   ],
   "source": [
    "satisfaction_factor <- factor(satisfaction)\n",
    "print(satisfaction_factor)"
   ]
  },
  {
   "cell_type": "markdown",
   "metadata": {},
   "source": [
    "L’objet obtenu est un facteur à 3 niveaux recodés par les index 1, 2 et 3.\n",
    "\n",
    "Vous ne voyez pas les index directement, mais ils sont visibles si vous utiliser la fonction `str()`. Voir un peu plus bas."
   ]
  },
  {
   "cell_type": "markdown",
   "metadata": {},
   "source": [
    "Par défaut, les codes/index 1 à n sont donnés aux niveaux selon l’ordre alphabétique des valeurs uniques. Dans l’exemple, “acceptable” est donc recodé 1, “bon” 2 et “mauvais” 3. Avant de factoriser, vous pouvez identifier l’ordre avec `sort()` appliqué aux valeurs uniques de votre vecteur de départ."
   ]
  },
  {
   "cell_type": "code",
   "execution_count": 9,
   "metadata": {},
   "outputs": [
    {
     "data": {
      "text/html": [
       "<style>\n",
       ".list-inline {list-style: none; margin:0; padding: 0}\n",
       ".list-inline>li {display: inline-block}\n",
       ".list-inline>li:not(:last-child)::after {content: \"\\00b7\"; padding: 0 .5ex}\n",
       "</style>\n",
       "<ol class=list-inline><li>'acceptable'</li><li>'bon'</li><li>'mauvais'</li></ol>\n"
      ],
      "text/latex": [
       "\\begin{enumerate*}\n",
       "\\item 'acceptable'\n",
       "\\item 'bon'\n",
       "\\item 'mauvais'\n",
       "\\end{enumerate*}\n"
      ],
      "text/markdown": [
       "1. 'acceptable'\n",
       "2. 'bon'\n",
       "3. 'mauvais'\n",
       "\n",
       "\n"
      ],
      "text/plain": [
       "[1] \"acceptable\" \"bon\"        \"mauvais\"   "
      ]
     },
     "metadata": {},
     "output_type": "display_data"
    }
   ],
   "source": [
    "sort(unique(satisfaction))"
   ]
  },
  {
   "cell_type": "markdown",
   "metadata": {},
   "source": [
    "Vous retrouvez cet ordre avec la fonction levels()appliquée à votre facteur."
   ]
  },
  {
   "cell_type": "code",
   "execution_count": 10,
   "metadata": {},
   "outputs": [
    {
     "data": {
      "text/html": [
       "<style>\n",
       ".list-inline {list-style: none; margin:0; padding: 0}\n",
       ".list-inline>li {display: inline-block}\n",
       ".list-inline>li:not(:last-child)::after {content: \"\\00b7\"; padding: 0 .5ex}\n",
       "</style>\n",
       "<ol class=list-inline><li>'acceptable'</li><li>'bon'</li><li>'mauvais'</li></ol>\n"
      ],
      "text/latex": [
       "\\begin{enumerate*}\n",
       "\\item 'acceptable'\n",
       "\\item 'bon'\n",
       "\\item 'mauvais'\n",
       "\\end{enumerate*}\n"
      ],
      "text/markdown": [
       "1. 'acceptable'\n",
       "2. 'bon'\n",
       "3. 'mauvais'\n",
       "\n",
       "\n"
      ],
      "text/plain": [
       "[1] \"acceptable\" \"bon\"        \"mauvais\"   "
      ]
     },
     "metadata": {},
     "output_type": "display_data"
    }
   ],
   "source": [
    "levels(satisfaction_factor)"
   ]
  },
  {
   "cell_type": "markdown",
   "metadata": {},
   "source": [
    "Ainsi, “acceptable” a l’index 1, “bon” l’index 2 et “mauvais” l’index 3 du vecteur levels Si vous regardez la structure de votre facteur avec la fonction `str()`, vous obtenez bien un facteur à 3 niveaux, dont le nom trié alpha-numériquement correspondant au résultats de `levels()` est donné, suivi de l’affichage des premières valeurs codées. Ici, vous obtenez 3 puis 2 puis 1 puis 2 puis 2 puis 3, correspondant aux index/codes des niveaux"
   ]
  },
  {
   "cell_type": "code",
   "execution_count": 11,
   "metadata": {},
   "outputs": [
    {
     "name": "stdout",
     "output_type": "stream",
     "text": [
      " Factor w/ 3 levels \"acceptable\",\"bon\",..: 3 2 1 2 2 3\n"
     ]
    }
   ],
   "source": [
    "str(satisfaction_factor)"
   ]
  },
  {
   "cell_type": "markdown",
   "metadata": {},
   "source": [
    "### b -recodage des niveaux du facteurs\n",
    "\n",
    "Si vous voulez imposer que “mauvais” soit codé par 1, “acceptable” par 2 et “bon” par 3, vous ajoutez ces 3 niveaux dans cet ordre au moment de créer votre facteur avec l’argument `level` auquel vous donnez le vecteur_des_niveaux_du_facteur_dans_ordre_souhaité, par exemple de 1 à 3 du moins bon au meilleur. Dans l’exemple, j’ajoute “2” au nom de ce nouvel objet R:\n",
    "\n"
   ]
  },
  {
   "cell_type": "code",
   "execution_count": 12,
   "metadata": {},
   "outputs": [],
   "source": [
    "satisfaction_factor2 <- factor(satisfaction, levels = c(\"mauvais\",\"acceptable\", \"bon\"))"
   ]
  },
  {
   "cell_type": "markdown",
   "metadata": {},
   "source": [
    "Vous constatez alors avec la fonction str() que les données sont désormais 1, puis 3, puis 2, puis 3 etc…selon les niveaux choisis :"
   ]
  },
  {
   "cell_type": "code",
   "execution_count": 13,
   "metadata": {},
   "outputs": [
    {
     "name": "stdout",
     "output_type": "stream",
     "text": [
      " Factor w/ 3 levels \"mauvais\",\"acceptable\",..: 1 3 2 3 3 1\n"
     ]
    }
   ],
   "source": [
    "str(satisfaction_factor2)"
   ]
  },
  {
   "cell_type": "markdown",
   "metadata": {},
   "source": [
    "### c - renommage des niveaux du facteur\n",
    "\n",
    "Si maintenant vous souhaitez en plus renommer les niveaux par “bad”, “satisfactory”, “good”, vous ajoutez l’argument “labels” dans une version 3:"
   ]
  },
  {
   "cell_type": "code",
   "execution_count": 14,
   "metadata": {},
   "outputs": [],
   "source": [
    "satisfaction_factor3<-factor(satisfaction,levels=c(\"mauvais\", \"acceptable\", \"bon\"), labels=c(\"bad\",\"satisfactory\", \"good\"))"
   ]
  },
  {
   "cell_type": "markdown",
   "metadata": {},
   "source": [
    "Si vous regardez la structure et à quels index correspondent les données, c’est dans l’ordre souhaité comme dans le facteur version 2."
   ]
  },
  {
   "cell_type": "code",
   "execution_count": 15,
   "metadata": {},
   "outputs": [
    {
     "name": "stdout",
     "output_type": "stream",
     "text": [
      " Factor w/ 3 levels \"bad\",\"satisfactory\",..: 1 3 2 3 3 1\n"
     ]
    }
   ],
   "source": [
    "str(satisfaction_factor3)"
   ]
  },
  {
   "cell_type": "markdown",
   "metadata": {},
   "source": [
    "Et vous pouvez voir la reconversion des noms des niveaux:"
   ]
  },
  {
   "cell_type": "code",
   "execution_count": 16,
   "metadata": {},
   "outputs": [
    {
     "name": "stdout",
     "output_type": "stream",
     "text": [
      "[1] bad          good         satisfactory good         good        \n",
      "[6] bad         \n",
      "Levels: bad satisfactory good\n"
     ]
    }
   ],
   "source": [
    "print(satisfaction_factor3)"
   ]
  },
  {
   "cell_type": "markdown",
   "metadata": {},
   "source": [
    "<div class=\"alert alert-block alert-danger\"><b>Attention toutefois lorsque vous utilisez l’argument “labels” dans l’ordre souhaité en oubliant d’utiliser l’argument “levels”</b><br> car vous aboutissez à remplacer les valeurs de façon incorrecte. La version 4 ci-dessous n’est pas du tout celle souhaitée et a remplacé les données !<br>\n",
    "    </div>"
   ]
  },
  {
   "cell_type": "code",
   "execution_count": 17,
   "metadata": {},
   "outputs": [
    {
     "name": "stdout",
     "output_type": "stream",
     "text": [
      "[1] good         satisfactory bad          satisfactory satisfactory\n",
      "[6] good        \n",
      "Levels: bad satisfactory good\n"
     ]
    }
   ],
   "source": [
    "satisfaction_factor4<-factor(satisfaction,labels=c(\"bad\", \"satisfactory\", \"good\"))\n",
    "print(satisfaction_factor4)"
   ]
  },
  {
   "cell_type": "code",
   "execution_count": 18,
   "metadata": {},
   "outputs": [
    {
     "name": "stdout",
     "output_type": "stream",
     "text": [
      " Factor w/ 3 levels \"bad\",\"satisfactory\",..: 3 2 1 2 2 3\n"
     ]
    }
   ],
   "source": [
    "str(satisfaction_factor4)"
   ]
  },
  {
   "cell_type": "markdown",
   "metadata": {},
   "source": [
    "SI vous n'êtes pas convaincus, affichons les comptes obtenus avec la fonction `table()` et comparons aux comptes initiaux:"
   ]
  },
  {
   "cell_type": "code",
   "execution_count": 19,
   "metadata": {},
   "outputs": [
    {
     "data": {
      "text/plain": [
       "satisfaction_factor4\n",
       "         bad satisfactory         good \n",
       "           1            3            2 "
      ]
     },
     "metadata": {},
     "output_type": "display_data"
    }
   ],
   "source": [
    "table(satisfaction_factor4)"
   ]
  },
  {
   "cell_type": "code",
   "execution_count": 20,
   "metadata": {},
   "outputs": [
    {
     "data": {
      "text/plain": [
       "satisfaction\n",
       "acceptable        bon    mauvais \n",
       "         1          3          2 "
      ]
     },
     "metadata": {},
     "output_type": "display_data"
    }
   ],
   "source": [
    "table(satisfaction)"
   ]
  },
  {
   "cell_type": "markdown",
   "metadata": {},
   "source": [
    "**=> IL EST DONC IMPORTANT DE CONTROLER VOUS-MEMES LA FACON DONT LES VARIABLES SONT FACTORISEES.**"
   ]
  },
  {
   "cell_type": "markdown",
   "metadata": {},
   "source": [
    "## 5. Facteurs et dataframes\n",
    "\n",
    "---"
   ]
  },
  {
   "cell_type": "markdown",
   "metadata": {},
   "source": [
    "Finalement, attention aux factorisations indésirables, notamment lors de la création d’un dataframe à partir d’une matrice, en particululier dans les version de R < 4.\n",
    "\n",
    "Soit un vecteur numérique de 20 éléments issus d'une loi exponentionelle de paramètre 7 créé avec la fonction rexp :"
   ]
  },
  {
   "cell_type": "code",
   "execution_count": 21,
   "metadata": {},
   "outputs": [],
   "source": [
    "x <- rexp(20,7)"
   ]
  },
  {
   "cell_type": "markdown",
   "metadata": {},
   "source": [
    "Avec le vecteur des 20 premières lettres de l’alphabet, on crée un data frame. On utilise pour commencer la fonction data.frame():"
   ]
  },
  {
   "cell_type": "code",
   "execution_count": 22,
   "metadata": {},
   "outputs": [
    {
     "data": {
      "text/html": [
       "<table class=\"dataframe\">\n",
       "<caption>A data.frame: 6 × 2</caption>\n",
       "<thead>\n",
       "\t<tr><th></th><th scope=col>V1</th><th scope=col>V2</th></tr>\n",
       "\t<tr><th></th><th scope=col>&lt;chr&gt;</th><th scope=col>&lt;dbl&gt;</th></tr>\n",
       "</thead>\n",
       "<tbody>\n",
       "\t<tr><th scope=row>1</th><td>A</td><td>0.0760314952</td></tr>\n",
       "\t<tr><th scope=row>2</th><td>B</td><td>0.1810817698</td></tr>\n",
       "\t<tr><th scope=row>3</th><td>C</td><td>0.1223393931</td></tr>\n",
       "\t<tr><th scope=row>4</th><td>D</td><td>0.2607171391</td></tr>\n",
       "\t<tr><th scope=row>5</th><td>E</td><td>0.1368292118</td></tr>\n",
       "\t<tr><th scope=row>6</th><td>F</td><td>0.0006828872</td></tr>\n",
       "</tbody>\n",
       "</table>\n"
      ],
      "text/latex": [
       "A data.frame: 6 × 2\n",
       "\\begin{tabular}{r|ll}\n",
       "  & V1 & V2\\\\\n",
       "  & <chr> & <dbl>\\\\\n",
       "\\hline\n",
       "\t1 & A & 0.0760314952\\\\\n",
       "\t2 & B & 0.1810817698\\\\\n",
       "\t3 & C & 0.1223393931\\\\\n",
       "\t4 & D & 0.2607171391\\\\\n",
       "\t5 & E & 0.1368292118\\\\\n",
       "\t6 & F & 0.0006828872\\\\\n",
       "\\end{tabular}\n"
      ],
      "text/markdown": [
       "\n",
       "A data.frame: 6 × 2\n",
       "\n",
       "| <!--/--> | V1 &lt;chr&gt; | V2 &lt;dbl&gt; |\n",
       "|---|---|---|\n",
       "| 1 | A | 0.0760314952 |\n",
       "| 2 | B | 0.1810817698 |\n",
       "| 3 | C | 0.1223393931 |\n",
       "| 4 | D | 0.2607171391 |\n",
       "| 5 | E | 0.1368292118 |\n",
       "| 6 | F | 0.0006828872 |\n",
       "\n"
      ],
      "text/plain": [
       "  V1 V2          \n",
       "1 A  0.0760314952\n",
       "2 B  0.1810817698\n",
       "3 C  0.1223393931\n",
       "4 D  0.2607171391\n",
       "5 E  0.1368292118\n",
       "6 F  0.0006828872"
      ]
     },
     "metadata": {},
     "output_type": "display_data"
    }
   ],
   "source": [
    "y <- data.frame(V1=LETTERS[1:20], V2=x)\n",
    "head(y)"
   ]
  },
  {
   "cell_type": "code",
   "execution_count": 23,
   "metadata": {},
   "outputs": [
    {
     "name": "stdout",
     "output_type": "stream",
     "text": [
      "'data.frame':\t20 obs. of  2 variables:\n",
      " $ V1: chr  \"A\" \"B\" \"C\" \"D\" ...\n",
      " $ V2: num  0.076 0.181 0.122 0.261 0.137 ...\n"
     ]
    }
   ],
   "source": [
    "str(y)"
   ]
  },
  {
   "cell_type": "markdown",
   "metadata": {},
   "source": [
    "Rien n'a été converti en facteur dans les version R>=4 car l'argument `stringsAsFactors=FALSE` est l'option par défaut comme vous pouvez le lire dans l'aide de la fonction."
   ]
  },
  {
   "cell_type": "code",
   "execution_count": 24,
   "metadata": {},
   "outputs": [
    {
     "data": {
      "text/html": [
       "\n",
       "<table width=\"100%\" summary=\"page for data.frame {base}\"><tr><td>data.frame {base}</td><td style=\"text-align: right;\">R Documentation</td></tr></table>\n",
       "\n",
       "<h2>Data Frames</h2>\n",
       "\n",
       "<h3>Description</h3>\n",
       "\n",
       "<p>The function <code>data.frame()</code> creates data frames, tightly coupled\n",
       "collections of variables which share many of the properties of\n",
       "matrices and of lists, used as the fundamental data structure by most\n",
       "of <span style=\"font-family: Courier New, Courier; color: #666666;\"><b>R</b></span>'s modeling software.\n",
       "</p>\n",
       "\n",
       "\n",
       "<h3>Usage</h3>\n",
       "\n",
       "<pre>\n",
       "data.frame(..., row.names = NULL, check.rows = FALSE,\n",
       "           check.names = TRUE, fix.empty.names = TRUE,\n",
       "           stringsAsFactors = default.stringsAsFactors())\n",
       "\n",
       "default.stringsAsFactors() # &lt;&lt; this is deprecated !\n",
       "</pre>\n",
       "\n",
       "\n",
       "<h3>Arguments</h3>\n",
       "\n",
       "<table summary=\"R argblock\">\n",
       "<tr valign=\"top\"><td><code>...</code></td>\n",
       "<td>\n",
       "<p>these arguments are of either the form <code>value</code> or\n",
       "<code>tag = value</code>.  Component names are created based on the tag (if\n",
       "present) or the deparsed argument itself.</p>\n",
       "</td></tr>\n",
       "<tr valign=\"top\"><td><code>row.names</code></td>\n",
       "<td>\n",
       "<p><code>NULL</code> or a single integer or character string\n",
       "specifying a column to be used as row names, or a character or\n",
       "integer vector giving the row names for the data frame.</p>\n",
       "</td></tr>\n",
       "<tr valign=\"top\"><td><code>check.rows</code></td>\n",
       "<td>\n",
       "<p>if <code>TRUE</code> then the rows are checked for\n",
       "consistency of length and names.</p>\n",
       "</td></tr>\n",
       "<tr valign=\"top\"><td><code>check.names</code></td>\n",
       "<td>\n",
       "<p>logical.  If <code>TRUE</code> then the names of the\n",
       "variables in the data frame are checked to ensure that they are\n",
       "syntactically valid variable names and are not duplicated.\n",
       "If necessary they are adjusted (by <code>make.names</code>)\n",
       "so that they are.</p>\n",
       "</td></tr>\n",
       "<tr valign=\"top\"><td><code>fix.empty.names</code></td>\n",
       "<td>\n",
       "<p>logical indicating if arguments which are\n",
       "&ldquo;unnamed&rdquo; (in the sense of not being formally called as\n",
       "<code>someName = arg</code>) get an automatically constructed name or\n",
       "rather name <code>\"\"</code>.  Needs to be set to <code>FALSE</code> even when\n",
       "<code>check.names</code> is false if <code>\"\"</code> names should be kept.</p>\n",
       "</td></tr>\n",
       "<tr valign=\"top\"><td><code>stringsAsFactors</code></td>\n",
       "<td>\n",
       "<p>logical: should character vectors be converted\n",
       "to factors?  The &lsquo;factory-fresh&rsquo; default has been <code>TRUE</code>\n",
       "previously but has been changed to <code>FALSE</code> for <span style=\"font-family: Courier New, Courier; color: #666666;\"><b>R</b></span> 4.0.0.\n",
       "Only as short time workaround, you can revert by setting\n",
       "<code>options(stringsAsFactors = TRUE)</code> which now warns about\n",
       "its deprecation.</p>\n",
       "</td></tr>\n",
       "</table>\n",
       "\n",
       "\n",
       "<h3>Details</h3>\n",
       "\n",
       "<p>A data frame is a list of variables of the same number of rows with\n",
       "unique row names, given class <code>\"data.frame\"</code>.  If no variables\n",
       "are included, the row names determine the number of rows.\n",
       "</p>\n",
       "<p>The column names should be non-empty, and attempts to use empty names\n",
       "will have unsupported results.  Duplicate column names are allowed,\n",
       "but you need to use <code>check.names = FALSE</code> for <code>data.frame</code>\n",
       "to generate such a data frame.  However, not all operations on data\n",
       "frames will preserve duplicated column names: for example matrix-like\n",
       "subsetting will force column names in the result to be unique.\n",
       "</p>\n",
       "<p><code>data.frame</code> converts each of its arguments to a data frame by\n",
       "calling <code>as.data.frame(optional = TRUE)</code>.  As that is a\n",
       "generic function, methods can be written to change the behaviour of\n",
       "arguments according to their classes: <span style=\"font-family: Courier New, Courier; color: #666666;\"><b>R</b></span> comes with many such methods.\n",
       "Character variables passed to <code>data.frame</code> are converted to\n",
       "factor columns unless protected by <code>I</code> or argument\n",
       "<code>stringsAsFactors</code> is false.  If a list or data\n",
       "frame or matrix is passed to <code>data.frame</code> it is as if each\n",
       "component or column had been passed as a separate argument (except for\n",
       "matrices protected by <code>I</code>).\n",
       "</p>\n",
       "<p>Objects passed to <code>data.frame</code> should have the same number of\n",
       "rows, but atomic vectors (see <code>is.vector</code>), factors and\n",
       "character vectors protected by <code>I</code> will be recycled a\n",
       "whole number of times if necessary (including as elements of list\n",
       "arguments).\n",
       "</p>\n",
       "<p>If row names are not supplied in the call to <code>data.frame</code>, the\n",
       "row names are taken from the first component that has suitable names,\n",
       "for example a named vector or a matrix with rownames or a data frame.\n",
       "(If that component is subsequently recycled, the names are discarded\n",
       "with a warning.)  If <code>row.names</code> was supplied as <code>NULL</code> or no\n",
       "suitable component was found the row names are the integer sequence\n",
       "starting at one (and such row names are considered to be\n",
       "&lsquo;automatic&rsquo;, and not preserved by <code>as.matrix</code>).\n",
       "</p>\n",
       "<p>If row names are supplied of length one and the data frame has a\n",
       "single row, the <code>row.names</code> is taken to specify the row names and\n",
       "not a column (by name or number).\n",
       "</p>\n",
       "<p>Names are removed from vector inputs not protected by <code>I</code>.\n",
       "</p>\n",
       "<p><code>default.stringsAsFactors</code> is a utility that takes\n",
       "<code>getOption(\"stringsAsFactors\")</code> and ensures the result is\n",
       "<code>TRUE</code> or <code>FALSE</code> (or throws an error if the value is not\n",
       "<code>NULL</code>).  This function is <b>deprecated</b> now and will no longer\n",
       "be available in the future.\n",
       "</p>\n",
       "\n",
       "\n",
       "<h3>Value</h3>\n",
       "\n",
       "<p>A data frame, a matrix-like structure whose columns may be of\n",
       "differing types (numeric, logical, factor and character and so on).\n",
       "</p>\n",
       "<p>How the names of the data frame are created is complex, and the rest\n",
       "of this paragraph is only the basic story.  If the arguments are all\n",
       "named and simple objects (not lists, matrices of data frames) then the\n",
       "argument names give the column names.  For an unnamed simple argument,\n",
       "a deparsed version of the argument is used as the name (with an\n",
       "enclosing <code>I(...)</code> removed).  For a named matrix/list/data frame\n",
       "argument with more than one named column, the names of the columns are\n",
       "the name of the argument followed by a dot and the column name inside\n",
       "the argument: if the argument is unnamed, the argument's column names\n",
       "are used.  For a named or unnamed matrix/list/data frame argument that\n",
       "contains a single column, the column name in the result is the column\n",
       "name in the argument.  Finally, the names are adjusted to be unique\n",
       "and syntactically valid unless <code>check.names = FALSE</code>.\n",
       "</p>\n",
       "\n",
       "\n",
       "<h3>Note</h3>\n",
       "\n",
       "<p>In versions of <span style=\"font-family: Courier New, Courier; color: #666666;\"><b>R</b></span> prior to 2.4.0 <code>row.names</code> had to be\n",
       "character: to ensure compatibility with such versions of <span style=\"font-family: Courier New, Courier; color: #666666;\"><b>R</b></span>, supply\n",
       "a character vector as the <code>row.names</code> argument.\n",
       "</p>\n",
       "\n",
       "\n",
       "<h3>References</h3>\n",
       "\n",
       "<p>Chambers, J. M. (1992)\n",
       "<em>Data for models.</em>\n",
       "Chapter 3 of <em>Statistical Models in S</em>\n",
       "eds J. M. Chambers and T. J. Hastie, Wadsworth &amp; Brooks/Cole.\n",
       "</p>\n",
       "\n",
       "\n",
       "<h3>See Also</h3>\n",
       "\n",
       "<p><code>I</code>,\n",
       "<code>plot.data.frame</code>,\n",
       "<code>print.data.frame</code>,\n",
       "<code>row.names</code>, <code>names</code> (for the column names),\n",
       "<code>[.data.frame</code> for subsetting methods \n",
       "and <code>I(matrix(..))</code> examples;\n",
       "<code>Math.data.frame</code> etc, about\n",
       "<em>Group</em> methods for <code>data.frame</code>s;\n",
       "<code>read.table</code>,\n",
       "<code>make.names</code>,\n",
       "<code>list2DF</code> for creating data frames from lists of variables.\n",
       "</p>\n",
       "\n",
       "\n",
       "<h3>Examples</h3>\n",
       "\n",
       "<pre>\n",
       "L3 &lt;- LETTERS[1:3]\n",
       "fac &lt;- sample(L3, 10, replace = TRUE)\n",
       "(d &lt;- data.frame(x = 1, y = 1:10, fac = fac))\n",
       "## The \"same\" with automatic column names:\n",
       "data.frame(1, 1:10, sample(L3, 10, replace = TRUE))\n",
       "\n",
       "is.data.frame(d)\n",
       "\n",
       "## do not convert to factor, using I() :\n",
       "(dd &lt;- cbind(d, char = I(letters[1:10])))\n",
       "rbind(class = sapply(dd, class), mode = sapply(dd, mode))\n",
       "\n",
       "stopifnot(1:10 == row.names(d))  # {coercion}\n",
       "\n",
       "(d0  &lt;- d[, FALSE])   # data frame with 0 columns and 10 rows\n",
       "(d.0 &lt;- d[FALSE, ])   # &lt;0 rows&gt; data frame  (3 named cols)\n",
       "(d00 &lt;- d0[FALSE, ])  # data frame with 0 columns and 0 rows\n",
       "</pre>\n",
       "\n",
       "<hr /><div style=\"text-align: center;\">[Package <em>base</em> version 4.0.5 ]</div>"
      ],
      "text/latex": [
       "\\inputencoding{utf8}\n",
       "\\HeaderA{data.frame}{Data Frames}{data.frame}\n",
       "\\aliasA{default.stringsAsFactors}{data.frame}{default.stringsAsFactors}\n",
       "\\keyword{classes}{data.frame}\n",
       "\\keyword{methods}{data.frame}\n",
       "%\n",
       "\\begin{Description}\\relax\n",
       "The function \\code{data.frame()} creates data frames, tightly coupled\n",
       "collections of variables which share many of the properties of\n",
       "matrices and of lists, used as the fundamental data structure by most\n",
       "of \\R{}'s modeling software.\n",
       "\\end{Description}\n",
       "%\n",
       "\\begin{Usage}\n",
       "\\begin{verbatim}\n",
       "data.frame(..., row.names = NULL, check.rows = FALSE,\n",
       "           check.names = TRUE, fix.empty.names = TRUE,\n",
       "           stringsAsFactors = default.stringsAsFactors())\n",
       "\n",
       "default.stringsAsFactors() # << this is deprecated !\n",
       "\\end{verbatim}\n",
       "\\end{Usage}\n",
       "%\n",
       "\\begin{Arguments}\n",
       "\\begin{ldescription}\n",
       "\\item[\\code{...}] these arguments are of either the form \\code{value} or\n",
       "\\code{tag = value}.  Component names are created based on the tag (if\n",
       "present) or the deparsed argument itself.\n",
       "\\item[\\code{row.names}] \\code{NULL} or a single integer or character string\n",
       "specifying a column to be used as row names, or a character or\n",
       "integer vector giving the row names for the data frame.\n",
       "\\item[\\code{check.rows}] if \\code{TRUE} then the rows are checked for\n",
       "consistency of length and names.\n",
       "\\item[\\code{check.names}] logical.  If \\code{TRUE} then the names of the\n",
       "variables in the data frame are checked to ensure that they are\n",
       "syntactically valid variable names and are not duplicated.\n",
       "If necessary they are adjusted (by \\code{\\LinkA{make.names}{make.names}})\n",
       "so that they are.\n",
       "\\item[\\code{fix.empty.names}] logical indicating if arguments which are\n",
       "``unnamed'' (in the sense of not being formally called as\n",
       "\\code{someName = arg}) get an automatically constructed name or\n",
       "rather name \\code{\"\"}.  Needs to be set to \\code{FALSE} even when\n",
       "\\code{check.names} is false if \\code{\"\"} names should be kept.\n",
       "\\item[\\code{stringsAsFactors}] logical: should character vectors be converted\n",
       "to factors?  The `factory-fresh' default has been \\code{TRUE}\n",
       "previously but has been changed to \\code{FALSE} for \\R{} 4.0.0.\n",
       "Only as short time workaround, you can revert by setting\n",
       "\\code{\\LinkA{options}{options}(stringsAsFactors = TRUE)} which now warns about\n",
       "its deprecation.\n",
       "\\end{ldescription}\n",
       "\\end{Arguments}\n",
       "%\n",
       "\\begin{Details}\\relax\n",
       "A data frame is a list of variables of the same number of rows with\n",
       "unique row names, given class \\code{\"data.frame\"}.  If no variables\n",
       "are included, the row names determine the number of rows.\n",
       "\n",
       "The column names should be non-empty, and attempts to use empty names\n",
       "will have unsupported results.  Duplicate column names are allowed,\n",
       "but you need to use \\code{check.names = FALSE} for \\code{data.frame}\n",
       "to generate such a data frame.  However, not all operations on data\n",
       "frames will preserve duplicated column names: for example matrix-like\n",
       "subsetting will force column names in the result to be unique.\n",
       "\n",
       "\\code{data.frame} converts each of its arguments to a data frame by\n",
       "calling \\code{\\LinkA{as.data.frame}{as.data.frame}(optional = TRUE)}.  As that is a\n",
       "generic function, methods can be written to change the behaviour of\n",
       "arguments according to their classes: \\R{} comes with many such methods.\n",
       "Character variables passed to \\code{data.frame} are converted to\n",
       "factor columns unless protected by \\code{\\LinkA{I}{I}} or argument\n",
       "\\code{stringsAsFactors} is false.  If a list or data\n",
       "frame or matrix is passed to \\code{data.frame} it is as if each\n",
       "component or column had been passed as a separate argument (except for\n",
       "matrices protected by \\code{\\LinkA{I}{I}}).\n",
       "\n",
       "Objects passed to \\code{data.frame} should have the same number of\n",
       "rows, but atomic vectors (see \\code{\\LinkA{is.vector}{is.vector}}), factors and\n",
       "character vectors protected by \\code{\\LinkA{I}{I}} will be recycled a\n",
       "whole number of times if necessary (including as elements of list\n",
       "arguments).\n",
       "\n",
       "If row names are not supplied in the call to \\code{data.frame}, the\n",
       "row names are taken from the first component that has suitable names,\n",
       "for example a named vector or a matrix with rownames or a data frame.\n",
       "(If that component is subsequently recycled, the names are discarded\n",
       "with a warning.)  If \\code{row.names} was supplied as \\code{NULL} or no\n",
       "suitable component was found the row names are the integer sequence\n",
       "starting at one (and such row names are considered to be\n",
       "`automatic', and not preserved by \\code{\\LinkA{as.matrix}{as.matrix}}).\n",
       "\n",
       "If row names are supplied of length one and the data frame has a\n",
       "single row, the \\code{row.names} is taken to specify the row names and\n",
       "not a column (by name or number).\n",
       "\n",
       "Names are removed from vector inputs not protected by \\code{\\LinkA{I}{I}}.\n",
       "\n",
       "\\code{default.stringsAsFactors} is a utility that takes\n",
       "\\code{\\LinkA{getOption}{getOption}(\"stringsAsFactors\")} and ensures the result is\n",
       "\\code{TRUE} or \\code{FALSE} (or throws an error if the value is not\n",
       "\\code{NULL}).  This function is \\bold{deprecated} now and will no longer\n",
       "be available in the future.\n",
       "\\end{Details}\n",
       "%\n",
       "\\begin{Value}\n",
       "A data frame, a matrix-like structure whose columns may be of\n",
       "differing types (numeric, logical, factor and character and so on).\n",
       "\n",
       "How the names of the data frame are created is complex, and the rest\n",
       "of this paragraph is only the basic story.  If the arguments are all\n",
       "named and simple objects (not lists, matrices of data frames) then the\n",
       "argument names give the column names.  For an unnamed simple argument,\n",
       "a deparsed version of the argument is used as the name (with an\n",
       "enclosing \\code{I(...)} removed).  For a named matrix/list/data frame\n",
       "argument with more than one named column, the names of the columns are\n",
       "the name of the argument followed by a dot and the column name inside\n",
       "the argument: if the argument is unnamed, the argument's column names\n",
       "are used.  For a named or unnamed matrix/list/data frame argument that\n",
       "contains a single column, the column name in the result is the column\n",
       "name in the argument.  Finally, the names are adjusted to be unique\n",
       "and syntactically valid unless \\code{check.names = FALSE}.\n",
       "\\end{Value}\n",
       "%\n",
       "\\begin{Note}\\relax\n",
       "In versions of \\R{} prior to 2.4.0 \\code{row.names} had to be\n",
       "character: to ensure compatibility with such versions of \\R{}, supply\n",
       "a character vector as the \\code{row.names} argument.\n",
       "\\end{Note}\n",
       "%\n",
       "\\begin{References}\\relax\n",
       "Chambers, J. M. (1992)\n",
       "\\emph{Data for models.}\n",
       "Chapter 3 of \\emph{Statistical Models in S}\n",
       "eds J. M. Chambers and T. J. Hastie, Wadsworth \\& Brooks/Cole.\n",
       "\\end{References}\n",
       "%\n",
       "\\begin{SeeAlso}\\relax\n",
       "\\code{\\LinkA{I}{I}},\n",
       "\\code{\\LinkA{plot.data.frame}{plot.data.frame}},\n",
       "\\code{\\LinkA{print.data.frame}{print.data.frame}},\n",
       "\\code{\\LinkA{row.names}{row.names}}, \\code{\\LinkA{names}{names}} (for the column names),\n",
       "\\code{\\LinkA{[.data.frame}{[.data.frame}} for subsetting methods \n",
       "and \\code{I(matrix(..))} examples;\n",
       "\\code{\\LinkA{Math.data.frame}{Math.data.frame}} etc, about\n",
       "\\emph{Group} methods for \\code{data.frame}s;\n",
       "\\code{\\LinkA{read.table}{read.table}},\n",
       "\\code{\\LinkA{make.names}{make.names}},\n",
       "\\code{\\LinkA{list2DF}{list2DF}} for creating data frames from lists of variables.\n",
       "\\end{SeeAlso}\n",
       "%\n",
       "\\begin{Examples}\n",
       "\\begin{ExampleCode}\n",
       "L3 <- LETTERS[1:3]\n",
       "fac <- sample(L3, 10, replace = TRUE)\n",
       "(d <- data.frame(x = 1, y = 1:10, fac = fac))\n",
       "## The \"same\" with automatic column names:\n",
       "data.frame(1, 1:10, sample(L3, 10, replace = TRUE))\n",
       "\n",
       "is.data.frame(d)\n",
       "\n",
       "## do not convert to factor, using I() :\n",
       "(dd <- cbind(d, char = I(letters[1:10])))\n",
       "rbind(class = sapply(dd, class), mode = sapply(dd, mode))\n",
       "\n",
       "stopifnot(1:10 == row.names(d))  # {coercion}\n",
       "\n",
       "(d0  <- d[, FALSE])   # data frame with 0 columns and 10 rows\n",
       "(d.0 <- d[FALSE, ])   # <0 rows> data frame  (3 named cols)\n",
       "(d00 <- d0[FALSE, ])  # data frame with 0 columns and 0 rows\n",
       "\\end{ExampleCode}\n",
       "\\end{Examples}"
      ],
      "text/plain": [
       "data.frame                package:base                 R Documentation\n",
       "\n",
       "_\bD_\ba_\bt_\ba _\bF_\br_\ba_\bm_\be_\bs\n",
       "\n",
       "_\bD_\be_\bs_\bc_\br_\bi_\bp_\bt_\bi_\bo_\bn:\n",
       "\n",
       "     The function ‘data.frame()’ creates data frames, tightly coupled\n",
       "     collections of variables which share many of the properties of\n",
       "     matrices and of lists, used as the fundamental data structure by\n",
       "     most of R's modeling software.\n",
       "\n",
       "_\bU_\bs_\ba_\bg_\be:\n",
       "\n",
       "     data.frame(..., row.names = NULL, check.rows = FALSE,\n",
       "                check.names = TRUE, fix.empty.names = TRUE,\n",
       "                stringsAsFactors = default.stringsAsFactors())\n",
       "     \n",
       "     default.stringsAsFactors() # << this is deprecated !\n",
       "     \n",
       "_\bA_\br_\bg_\bu_\bm_\be_\bn_\bt_\bs:\n",
       "\n",
       "     ...: these arguments are of either the form ‘value’ or ‘tag =\n",
       "          value’.  Component names are created based on the tag (if\n",
       "          present) or the deparsed argument itself.\n",
       "\n",
       "row.names: ‘NULL’ or a single integer or character string specifying a\n",
       "          column to be used as row names, or a character or integer\n",
       "          vector giving the row names for the data frame.\n",
       "\n",
       "check.rows: if ‘TRUE’ then the rows are checked for consistency of\n",
       "          length and names.\n",
       "\n",
       "check.names: logical.  If ‘TRUE’ then the names of the variables in the\n",
       "          data frame are checked to ensure that they are syntactically\n",
       "          valid variable names and are not duplicated.  If necessary\n",
       "          they are adjusted (by ‘make.names’) so that they are.\n",
       "\n",
       "fix.empty.names: logical indicating if arguments which are “unnamed”\n",
       "          (in the sense of not being formally called as ‘someName =\n",
       "          arg’) get an automatically constructed name or rather name\n",
       "          ‘\"\"’.  Needs to be set to ‘FALSE’ even when ‘check.names’ is\n",
       "          false if ‘\"\"’ names should be kept.\n",
       "\n",
       "stringsAsFactors: logical: should character vectors be converted to\n",
       "          factors?  The ‘factory-fresh’ default has been ‘TRUE’\n",
       "          previously but has been changed to ‘FALSE’ for R 4.0.0.  Only\n",
       "          as short time workaround, you can revert by setting\n",
       "          ‘options(stringsAsFactors = TRUE)’ which now warns about its\n",
       "          deprecation.\n",
       "\n",
       "_\bD_\be_\bt_\ba_\bi_\bl_\bs:\n",
       "\n",
       "     A data frame is a list of variables of the same number of rows\n",
       "     with unique row names, given class ‘\"data.frame\"’.  If no\n",
       "     variables are included, the row names determine the number of\n",
       "     rows.\n",
       "\n",
       "     The column names should be non-empty, and attempts to use empty\n",
       "     names will have unsupported results.  Duplicate column names are\n",
       "     allowed, but you need to use ‘check.names = FALSE’ for\n",
       "     ‘data.frame’ to generate such a data frame.  However, not all\n",
       "     operations on data frames will preserve duplicated column names:\n",
       "     for example matrix-like subsetting will force column names in the\n",
       "     result to be unique.\n",
       "\n",
       "     ‘data.frame’ converts each of its arguments to a data frame by\n",
       "     calling ‘as.data.frame(optional = TRUE)’.  As that is a generic\n",
       "     function, methods can be written to change the behaviour of\n",
       "     arguments according to their classes: R comes with many such\n",
       "     methods.  Character variables passed to ‘data.frame’ are converted\n",
       "     to factor columns unless protected by ‘I’ or argument\n",
       "     ‘stringsAsFactors’ is false.  If a list or data frame or matrix is\n",
       "     passed to ‘data.frame’ it is as if each component or column had\n",
       "     been passed as a separate argument (except for matrices protected\n",
       "     by ‘I’).\n",
       "\n",
       "     Objects passed to ‘data.frame’ should have the same number of\n",
       "     rows, but atomic vectors (see ‘is.vector’), factors and character\n",
       "     vectors protected by ‘I’ will be recycled a whole number of times\n",
       "     if necessary (including as elements of list arguments).\n",
       "\n",
       "     If row names are not supplied in the call to ‘data.frame’, the row\n",
       "     names are taken from the first component that has suitable names,\n",
       "     for example a named vector or a matrix with rownames or a data\n",
       "     frame.  (If that component is subsequently recycled, the names are\n",
       "     discarded with a warning.)  If ‘row.names’ was supplied as ‘NULL’\n",
       "     or no suitable component was found the row names are the integer\n",
       "     sequence starting at one (and such row names are considered to be\n",
       "     ‘automatic’, and not preserved by ‘as.matrix’).\n",
       "\n",
       "     If row names are supplied of length one and the data frame has a\n",
       "     single row, the ‘row.names’ is taken to specify the row names and\n",
       "     not a column (by name or number).\n",
       "\n",
       "     Names are removed from vector inputs not protected by ‘I’.\n",
       "\n",
       "     ‘default.stringsAsFactors’ is a utility that takes\n",
       "     ‘getOption(\"stringsAsFactors\")’ and ensures the result is ‘TRUE’\n",
       "     or ‘FALSE’ (or throws an error if the value is not ‘NULL’).  This\n",
       "     function is *deprecated* now and will no longer be available in\n",
       "     the future.\n",
       "\n",
       "_\bV_\ba_\bl_\bu_\be:\n",
       "\n",
       "     A data frame, a matrix-like structure whose columns may be of\n",
       "     differing types (numeric, logical, factor and character and so\n",
       "     on).\n",
       "\n",
       "     How the names of the data frame are created is complex, and the\n",
       "     rest of this paragraph is only the basic story.  If the arguments\n",
       "     are all named and simple objects (not lists, matrices of data\n",
       "     frames) then the argument names give the column names.  For an\n",
       "     unnamed simple argument, a deparsed version of the argument is\n",
       "     used as the name (with an enclosing ‘I(...)’ removed).  For a\n",
       "     named matrix/list/data frame argument with more than one named\n",
       "     column, the names of the columns are the name of the argument\n",
       "     followed by a dot and the column name inside the argument: if the\n",
       "     argument is unnamed, the argument's column names are used.  For a\n",
       "     named or unnamed matrix/list/data frame argument that contains a\n",
       "     single column, the column name in the result is the column name in\n",
       "     the argument.  Finally, the names are adjusted to be unique and\n",
       "     syntactically valid unless ‘check.names = FALSE’.\n",
       "\n",
       "_\bN_\bo_\bt_\be:\n",
       "\n",
       "     In versions of R prior to 2.4.0 ‘row.names’ had to be character:\n",
       "     to ensure compatibility with such versions of R, supply a\n",
       "     character vector as the ‘row.names’ argument.\n",
       "\n",
       "_\bR_\be_\bf_\be_\br_\be_\bn_\bc_\be_\bs:\n",
       "\n",
       "     Chambers, J. M. (1992) _Data for models._ Chapter 3 of\n",
       "     _Statistical Models in S_ eds J. M. Chambers and T. J. Hastie,\n",
       "     Wadsworth & Brooks/Cole.\n",
       "\n",
       "_\bS_\be_\be _\bA_\bl_\bs_\bo:\n",
       "\n",
       "     ‘I’, ‘plot.data.frame’, ‘print.data.frame’, ‘row.names’, ‘names’\n",
       "     (for the column names), ‘[.data.frame’ for subsetting methods and\n",
       "     ‘I(matrix(..))’ examples; ‘Math.data.frame’ etc, about _Group_\n",
       "     methods for ‘data.frame’s; ‘read.table’, ‘make.names’, ‘list2DF’\n",
       "     for creating data frames from lists of variables.\n",
       "\n",
       "_\bE_\bx_\ba_\bm_\bp_\bl_\be_\bs:\n",
       "\n",
       "     L3 <- LETTERS[1:3]\n",
       "     fac <- sample(L3, 10, replace = TRUE)\n",
       "     (d <- data.frame(x = 1, y = 1:10, fac = fac))\n",
       "     ## The \"same\" with automatic column names:\n",
       "     data.frame(1, 1:10, sample(L3, 10, replace = TRUE))\n",
       "     \n",
       "     is.data.frame(d)\n",
       "     \n",
       "     ## do not convert to factor, using I() :\n",
       "     (dd <- cbind(d, char = I(letters[1:10])))\n",
       "     rbind(class = sapply(dd, class), mode = sapply(dd, mode))\n",
       "     \n",
       "     stopifnot(1:10 == row.names(d))  # {coercion}\n",
       "     \n",
       "     (d0  <- d[, FALSE])   # data frame with 0 columns and 10 rows\n",
       "     (d.0 <- d[FALSE, ])   # <0 rows> data frame  (3 named cols)\n",
       "     (d00 <- d0[FALSE, ])  # data frame with 0 columns and 0 rows\n",
       "     "
      ]
     },
     "metadata": {},
     "output_type": "display_data"
    }
   ],
   "source": [
    "?data.frame"
   ]
  },
  {
   "cell_type": "markdown",
   "metadata": {},
   "source": [
    "Dans les versions de R antérieures à la version 4, le même paramètre est `stringsAsFactors=TRUE` ce qui conduit à une factorisation automatique des variables catégroriques même si ce n'est pas souhaité. Nous aurions donc: "
   ]
  },
  {
   "cell_type": "code",
   "execution_count": 25,
   "metadata": {},
   "outputs": [
    {
     "data": {
      "text/html": [
       "<table class=\"dataframe\">\n",
       "<caption>A data.frame: 6 × 2</caption>\n",
       "<thead>\n",
       "\t<tr><th></th><th scope=col>V1</th><th scope=col>V2</th></tr>\n",
       "\t<tr><th></th><th scope=col>&lt;fct&gt;</th><th scope=col>&lt;dbl&gt;</th></tr>\n",
       "</thead>\n",
       "<tbody>\n",
       "\t<tr><th scope=row>1</th><td>A</td><td>0.0760314952</td></tr>\n",
       "\t<tr><th scope=row>2</th><td>B</td><td>0.1810817698</td></tr>\n",
       "\t<tr><th scope=row>3</th><td>C</td><td>0.1223393931</td></tr>\n",
       "\t<tr><th scope=row>4</th><td>D</td><td>0.2607171391</td></tr>\n",
       "\t<tr><th scope=row>5</th><td>E</td><td>0.1368292118</td></tr>\n",
       "\t<tr><th scope=row>6</th><td>F</td><td>0.0006828872</td></tr>\n",
       "</tbody>\n",
       "</table>\n"
      ],
      "text/latex": [
       "A data.frame: 6 × 2\n",
       "\\begin{tabular}{r|ll}\n",
       "  & V1 & V2\\\\\n",
       "  & <fct> & <dbl>\\\\\n",
       "\\hline\n",
       "\t1 & A & 0.0760314952\\\\\n",
       "\t2 & B & 0.1810817698\\\\\n",
       "\t3 & C & 0.1223393931\\\\\n",
       "\t4 & D & 0.2607171391\\\\\n",
       "\t5 & E & 0.1368292118\\\\\n",
       "\t6 & F & 0.0006828872\\\\\n",
       "\\end{tabular}\n"
      ],
      "text/markdown": [
       "\n",
       "A data.frame: 6 × 2\n",
       "\n",
       "| <!--/--> | V1 &lt;fct&gt; | V2 &lt;dbl&gt; |\n",
       "|---|---|---|\n",
       "| 1 | A | 0.0760314952 |\n",
       "| 2 | B | 0.1810817698 |\n",
       "| 3 | C | 0.1223393931 |\n",
       "| 4 | D | 0.2607171391 |\n",
       "| 5 | E | 0.1368292118 |\n",
       "| 6 | F | 0.0006828872 |\n",
       "\n"
      ],
      "text/plain": [
       "  V1 V2          \n",
       "1 A  0.0760314952\n",
       "2 B  0.1810817698\n",
       "3 C  0.1223393931\n",
       "4 D  0.2607171391\n",
       "5 E  0.1368292118\n",
       "6 F  0.0006828872"
      ]
     },
     "metadata": {},
     "output_type": "display_data"
    }
   ],
   "source": [
    "y <- data.frame(V1=LETTERS[1:20], V2=x, stringsAsFactors = TRUE)\n",
    "head(y)"
   ]
  },
  {
   "cell_type": "code",
   "execution_count": 26,
   "metadata": {},
   "outputs": [
    {
     "name": "stdout",
     "output_type": "stream",
     "text": [
      "'data.frame':\t20 obs. of  2 variables:\n",
      " $ V1: Factor w/ 20 levels \"A\",\"B\",\"C\",\"D\",..: 1 2 3 4 5 6 7 8 9 10 ...\n",
      " $ V2: num  0.076 0.181 0.122 0.261 0.137 ...\n"
     ]
    }
   ],
   "source": [
    "str(y)"
   ]
  },
  {
   "cell_type": "markdown",
   "metadata": {},
   "source": [
    "Ci-dessus, la variable V1 a été factorisée."
   ]
  },
  {
   "cell_type": "markdown",
   "metadata": {},
   "source": [
    "<div class=\"alert alert-block alert-warning\"><b>Attention:</b> Cependant très souvent, on utilise plutôt <b>à tort</b> la fonction cbind() donc on passe par une matrice avant de créer le dataframe et cela pose un problème si l'argument stringsAsFactors=TRUE: </div>"
   ]
  },
  {
   "cell_type": "code",
   "execution_count": 27,
   "metadata": {},
   "outputs": [
    {
     "data": {
      "text/html": [
       "<table class=\"dataframe\">\n",
       "<caption>A matrix: 6 × 2 of type chr</caption>\n",
       "<thead>\n",
       "\t<tr><th scope=col>V1</th><th scope=col>V2</th></tr>\n",
       "</thead>\n",
       "<tbody>\n",
       "\t<tr><td>A</td><td>0.0760314951517752  </td></tr>\n",
       "\t<tr><td>B</td><td>0.181081769848893   </td></tr>\n",
       "\t<tr><td>C</td><td>0.12233939313927    </td></tr>\n",
       "\t<tr><td>D</td><td>0.260717139128588   </td></tr>\n",
       "\t<tr><td>E</td><td>0.136829211846352   </td></tr>\n",
       "\t<tr><td>F</td><td>0.000682887155562639</td></tr>\n",
       "</tbody>\n",
       "</table>\n"
      ],
      "text/latex": [
       "A matrix: 6 × 2 of type chr\n",
       "\\begin{tabular}{ll}\n",
       " V1 & V2\\\\\n",
       "\\hline\n",
       "\t A & 0.0760314951517752  \\\\\n",
       "\t B & 0.181081769848893   \\\\\n",
       "\t C & 0.12233939313927    \\\\\n",
       "\t D & 0.260717139128588   \\\\\n",
       "\t E & 0.136829211846352   \\\\\n",
       "\t F & 0.000682887155562639\\\\\n",
       "\\end{tabular}\n"
      ],
      "text/markdown": [
       "\n",
       "A matrix: 6 × 2 of type chr\n",
       "\n",
       "| V1 | V2 |\n",
       "|---|---|\n",
       "| A | 0.0760314951517752   |\n",
       "| B | 0.181081769848893    |\n",
       "| C | 0.12233939313927     |\n",
       "| D | 0.260717139128588    |\n",
       "| E | 0.136829211846352    |\n",
       "| F | 0.000682887155562639 |\n",
       "\n"
      ],
      "text/plain": [
       "     V1 V2                  \n",
       "[1,] A  0.0760314951517752  \n",
       "[2,] B  0.181081769848893   \n",
       "[3,] C  0.12233939313927    \n",
       "[4,] D  0.260717139128588   \n",
       "[5,] E  0.136829211846352   \n",
       "[6,] F  0.000682887155562639"
      ]
     },
     "metadata": {},
     "output_type": "display_data"
    }
   ],
   "source": [
    "z <- cbind(V1=LETTERS[1:20], V2=x)\n",
    "head(z)"
   ]
  },
  {
   "cell_type": "code",
   "execution_count": 28,
   "metadata": {},
   "outputs": [
    {
     "name": "stdout",
     "output_type": "stream",
     "text": [
      " chr [1:20, 1:2] \"A\" \"B\" \"C\" \"D\" \"E\" \"F\" \"G\" \"H\" \"I\" \"J\" \"K\" \"L\" \"M\" \"N\" ...\n",
      " - attr(*, \"dimnames\")=List of 2\n",
      "  ..$ : NULL\n",
      "  ..$ : chr [1:2] \"V1\" \"V2\"\n"
     ]
    }
   ],
   "source": [
    "str(z)"
   ]
  },
  {
   "cell_type": "markdown",
   "metadata": {},
   "source": [
    "On voit que x a été contraint (‘coerced’) d’être transformé en vecteur chaine de caractères. Le plus souvent, cela passe inaperçu à cette étape et le problème est révélé lors de la transformation en dataframe:"
   ]
  },
  {
   "cell_type": "code",
   "execution_count": 29,
   "metadata": {},
   "outputs": [
    {
     "data": {
      "text/html": [
       "<table class=\"dataframe\">\n",
       "<caption>A data.frame: 6 × 2</caption>\n",
       "<thead>\n",
       "\t<tr><th></th><th scope=col>V1</th><th scope=col>V2</th></tr>\n",
       "\t<tr><th></th><th scope=col>&lt;fct&gt;</th><th scope=col>&lt;fct&gt;</th></tr>\n",
       "</thead>\n",
       "<tbody>\n",
       "\t<tr><th scope=row>1</th><td>A</td><td>0.0760314951517752  </td></tr>\n",
       "\t<tr><th scope=row>2</th><td>B</td><td>0.181081769848893   </td></tr>\n",
       "\t<tr><th scope=row>3</th><td>C</td><td>0.12233939313927    </td></tr>\n",
       "\t<tr><th scope=row>4</th><td>D</td><td>0.260717139128588   </td></tr>\n",
       "\t<tr><th scope=row>5</th><td>E</td><td>0.136829211846352   </td></tr>\n",
       "\t<tr><th scope=row>6</th><td>F</td><td>0.000682887155562639</td></tr>\n",
       "</tbody>\n",
       "</table>\n"
      ],
      "text/latex": [
       "A data.frame: 6 × 2\n",
       "\\begin{tabular}{r|ll}\n",
       "  & V1 & V2\\\\\n",
       "  & <fct> & <fct>\\\\\n",
       "\\hline\n",
       "\t1 & A & 0.0760314951517752  \\\\\n",
       "\t2 & B & 0.181081769848893   \\\\\n",
       "\t3 & C & 0.12233939313927    \\\\\n",
       "\t4 & D & 0.260717139128588   \\\\\n",
       "\t5 & E & 0.136829211846352   \\\\\n",
       "\t6 & F & 0.000682887155562639\\\\\n",
       "\\end{tabular}\n"
      ],
      "text/markdown": [
       "\n",
       "A data.frame: 6 × 2\n",
       "\n",
       "| <!--/--> | V1 &lt;fct&gt; | V2 &lt;fct&gt; |\n",
       "|---|---|---|\n",
       "| 1 | A | 0.0760314951517752   |\n",
       "| 2 | B | 0.181081769848893    |\n",
       "| 3 | C | 0.12233939313927     |\n",
       "| 4 | D | 0.260717139128588    |\n",
       "| 5 | E | 0.136829211846352    |\n",
       "| 6 | F | 0.000682887155562639 |\n",
       "\n"
      ],
      "text/plain": [
       "  V1 V2                  \n",
       "1 A  0.0760314951517752  \n",
       "2 B  0.181081769848893   \n",
       "3 C  0.12233939313927    \n",
       "4 D  0.260717139128588   \n",
       "5 E  0.136829211846352   \n",
       "6 F  0.000682887155562639"
      ]
     },
     "metadata": {},
     "output_type": "display_data"
    }
   ],
   "source": [
    "u <- as.data.frame(z, stringsAsFactors=TRUE)\n",
    "head(u)"
   ]
  },
  {
   "cell_type": "code",
   "execution_count": 30,
   "metadata": {},
   "outputs": [
    {
     "name": "stdout",
     "output_type": "stream",
     "text": [
      "'data.frame':\t20 obs. of  2 variables:\n",
      " $ V1: Factor w/ 20 levels \"A\",\"B\",\"C\",\"D\",..: 1 2 3 4 5 6 7 8 9 10 ...\n",
      " $ V2: Factor w/ 20 levels \"0.000682887155562639\",..: 6 14 11 17 12 1 16 10 18 7 ...\n"
     ]
    }
   ],
   "source": [
    "str(u)"
   ]
  },
  {
   "cell_type": "markdown",
   "metadata": {},
   "source": [
    "On constate que les deux variables sont maintenant des facteurs. Pour la variable x qui était numérique au départ, cela est généralement involontaire.\n",
    "\n",
    "Pour rattraper cette “erreur”, on utilise alors spontanément la fonction as.numeric():"
   ]
  },
  {
   "cell_type": "code",
   "execution_count": 31,
   "metadata": {},
   "outputs": [
    {
     "name": "stdout",
     "output_type": "stream",
     "text": [
      "'data.frame':\t20 obs. of  2 variables:\n",
      " $ V1: Factor w/ 20 levels \"A\",\"B\",\"C\",\"D\",..: 1 2 3 4 5 6 7 8 9 10 ...\n",
      " $ V2: num  6 14 11 17 12 1 16 10 18 7 ...\n"
     ]
    }
   ],
   "source": [
    "u$V2 <- as.numeric(u$V2)\n",
    "str(u)"
   ]
  },
  {
   "cell_type": "markdown",
   "metadata": {},
   "source": [
    "On constate que la transformation `as.numeric()` a en fait recyclé les niveaux correspondant aux valeurs, et pas du tout les valeurs elles-mêmes. Dans cet exemple, l’erreur est rapidement détectée car l’on partait de valeurs décimales. Lorsqu’il s’agit d’entiers au départ, le problème peut très facilement rester inaperçu.\n",
    "\n",
    "Dans cette situation, il faut en fait procéder en deux étapes (après avoir recréé le dataframe à partir de la matrice) en conversitassant d'abord en chaine de caractères puis en valeur numérique:"
   ]
  },
  {
   "cell_type": "code",
   "execution_count": 32,
   "metadata": {},
   "outputs": [
    {
     "name": "stdout",
     "output_type": "stream",
     "text": [
      "'data.frame':\t20 obs. of  2 variables:\n",
      " $ V1: chr  \"A\" \"B\" \"C\" \"D\" ...\n",
      " $ V2: chr  \"0.0760314951517752\" \"0.181081769848893\" \"0.12233939313927\" \"0.260717139128588\" ...\n"
     ]
    }
   ],
   "source": [
    "z2 <- as.data.frame(z)\n",
    "z2$V2 <- as.character(z2$V2)\n",
    "str(z2)"
   ]
  },
  {
   "cell_type": "code",
   "execution_count": 33,
   "metadata": {},
   "outputs": [
    {
     "name": "stdout",
     "output_type": "stream",
     "text": [
      "'data.frame':\t20 obs. of  2 variables:\n",
      " $ V1: chr  \"A\" \"B\" \"C\" \"D\" ...\n",
      " $ V2: num  0.076 0.181 0.122 0.261 0.137 ...\n"
     ]
    }
   ],
   "source": [
    "z2$V2 <- as.numeric(z2$V2)\n",
    "str(z2)"
   ]
  },
  {
   "cell_type": "code",
   "execution_count": 34,
   "metadata": {},
   "outputs": [
    {
     "data": {
      "text/html": [
       "<table class=\"dataframe\">\n",
       "<caption>A data.frame: 6 × 2</caption>\n",
       "<thead>\n",
       "\t<tr><th></th><th scope=col>V1</th><th scope=col>V2</th></tr>\n",
       "\t<tr><th></th><th scope=col>&lt;chr&gt;</th><th scope=col>&lt;dbl&gt;</th></tr>\n",
       "</thead>\n",
       "<tbody>\n",
       "\t<tr><th scope=row>1</th><td>A</td><td>0.0760314952</td></tr>\n",
       "\t<tr><th scope=row>2</th><td>B</td><td>0.1810817698</td></tr>\n",
       "\t<tr><th scope=row>3</th><td>C</td><td>0.1223393931</td></tr>\n",
       "\t<tr><th scope=row>4</th><td>D</td><td>0.2607171391</td></tr>\n",
       "\t<tr><th scope=row>5</th><td>E</td><td>0.1368292118</td></tr>\n",
       "\t<tr><th scope=row>6</th><td>F</td><td>0.0006828872</td></tr>\n",
       "</tbody>\n",
       "</table>\n"
      ],
      "text/latex": [
       "A data.frame: 6 × 2\n",
       "\\begin{tabular}{r|ll}\n",
       "  & V1 & V2\\\\\n",
       "  & <chr> & <dbl>\\\\\n",
       "\\hline\n",
       "\t1 & A & 0.0760314952\\\\\n",
       "\t2 & B & 0.1810817698\\\\\n",
       "\t3 & C & 0.1223393931\\\\\n",
       "\t4 & D & 0.2607171391\\\\\n",
       "\t5 & E & 0.1368292118\\\\\n",
       "\t6 & F & 0.0006828872\\\\\n",
       "\\end{tabular}\n"
      ],
      "text/markdown": [
       "\n",
       "A data.frame: 6 × 2\n",
       "\n",
       "| <!--/--> | V1 &lt;chr&gt; | V2 &lt;dbl&gt; |\n",
       "|---|---|---|\n",
       "| 1 | A | 0.0760314952 |\n",
       "| 2 | B | 0.1810817698 |\n",
       "| 3 | C | 0.1223393931 |\n",
       "| 4 | D | 0.2607171391 |\n",
       "| 5 | E | 0.1368292118 |\n",
       "| 6 | F | 0.0006828872 |\n",
       "\n"
      ],
      "text/plain": [
       "  V1 V2          \n",
       "1 A  0.0760314952\n",
       "2 B  0.1810817698\n",
       "3 C  0.1223393931\n",
       "4 D  0.2607171391\n",
       "5 E  0.1368292118\n",
       "6 F  0.0006828872"
      ]
     },
     "metadata": {},
     "output_type": "display_data"
    }
   ],
   "source": [
    "head(z2)"
   ]
  },
  {
   "cell_type": "markdown",
   "metadata": {},
   "source": [
    "---\n",
    "---\n",
    "\n",
    "## Conclusion\n"
   ]
  },
  {
   "cell_type": "markdown",
   "metadata": {},
   "source": [
    "<div class=\"alert alert-block alert-success\"><b>Points clés:</b>\n",
    "\n",
    "- les facteurs en R sont utilisés pour les statistiques et les figures\n",
    "\n",
    "- il est préférable de contrôler soi-même les niveaux afin de mettre la valeur \"1\" à la référence\n",
    "\n",
    "- l'argument stringsAsFactors=TRUE est dangereux car il peut conduire à des conversions incontrôlées. Ce paramètre par défaut a heuresement était modifié en `FALSE` à partir de la version 4 de R. C'est également le cas pour Tydiverse avec les tibbles.\n",
    "</div>"
   ]
  }
 ],
 "metadata": {
  "kernelspec": {
   "display_name": "R",
   "language": "R",
   "name": "ir"
  },
  "language_info": {
   "codemirror_mode": "r",
   "file_extension": ".r",
   "mimetype": "text/x-r-source",
   "name": "R",
   "pygments_lexer": "r",
   "version": "4.0.5"
  }
 },
 "nbformat": 4,
 "nbformat_minor": 4
}
