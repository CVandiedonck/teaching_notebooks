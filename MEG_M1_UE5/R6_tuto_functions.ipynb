{
 "cells": [
  {
   "cell_type": "markdown",
   "metadata": {},
   "source": [
    "# __R Session n°6 : tutorial__\n",
    "M1 MEG UE5 - Claire Vandiedonck\n",
    "***\n",
    "\n",
    "## **tutorial on functions**\n",
    "1. Principle\n",
    "2. Rules\n",
    "3. Function results\n",
    "4. Some examples to better understand\n",
    "5. Writing your fisr R functions?\n"
   ]
  },
  {
   "cell_type": "markdown",
   "metadata": {},
   "source": [
    "---\n",
    "## Avant d'aller plus loin\n",
    "\n",
    "<div class=\"alert alert-block alert-danger\"><b>Attention:</b> \n",
    "Ne travaillez pas directement sur ce notebook pour ne pas le perdre. Dupliquez-le et renommez-le par exemple en ajoutant vos initiales et travaillez sur cette nouvelle copie. Pour ce faire, dans le panneau de gauche, faites un clic droit sur le fichier et sélectionnez \"Duplicate\". Puis, toujours dans la colonne de gauche, faites un clic droit sur cette copie et sélectionnez \"rename\" pour changer le nom. Ouvrez ensuite cette nouvelle version en double cliquant dessus. Vous êtes prêt(e) à démarrer! <br>\n",
    "<br>\n",
    "<b>N'oubliez pas de sauvegarder régulièrement votre notebook</b>: <kbd>Ctrl</kbd> + <kbd>S</kbd>. ou en cliquant sur l'icone 💾 en haut à gauche de votre notebook ou dans le Menu du JupyterLab \"File puis \"Save Notebook\"! Vous pouvez aussi le sauvegarder au format html: Menu \"File\" > Export Notebook As> Export notebook as HTML.\n",
    "</div>"
   ]
  },
  {
   "cell_type": "markdown",
   "metadata": {},
   "source": [
    "Check your working directory and change it if needed:"
   ]
  },
  {
   "cell_type": "code",
   "execution_count": null,
   "metadata": {},
   "outputs": [],
   "source": [
    "#cell 1\n",
    "getwd()\n",
    "#setwd('/srv/home/cvandiedonck/megm1_ue5_r/R6') #change with your login!!!"
   ]
  },
  {
   "cell_type": "markdown",
   "metadata": {},
   "source": [
    "<div class=\"alert alert-block alert-warning\"><b>Warning:</b> you are strongly advised to run the cells in the indicated order. If you want to rerun cells above, you can just restart the kernel to start at 1 again. </div>"
   ]
  },
  {
   "cell_type": "markdown",
   "metadata": {},
   "source": [
    "## I. Principle\n",
    "---\n"
   ]
  },
  {
   "cell_type": "markdown",
   "metadata": {},
   "source": [
    "### Why writing your own R functions?\n",
    "\n",
    "\n",
    "Writing your own R functions will allow efficient, flexible and rationale use of R if you want **to repeat an operation in different situations**."
   ]
  },
  {
   "cell_type": "markdown",
   "metadata": {},
   "source": [
    "### Properties\n",
    "\n",
    "Similar strcuture as native R functions except there is no help menu *(we could add one, but it requires another tutorial!)*.\n",
    "\n",
    "- name\n",
    "- arguments within brackets to execute the command\n",
    "- body of the function: commands executing actions on arguments\n",
    "- results"
   ]
  },
  {
   "cell_type": "raw",
   "metadata": {},
   "source": [
    "func1 <- function(x,x,z){\n",
    "    ...\n",
    "    commands executing actions on x, y and z\n",
    "    ...\n",
    "    return(results)\n",
    "}"
   ]
  },
  {
   "cell_type": "markdown",
   "metadata": {},
   "source": [
    "### Syntax uses two functions:\n",
    "\n",
    "1. `function()` followed by `{}`\n",
    "    - It is important to assign to the function a name not already used in R.\n",
    "    - You add arguments between `()` : give them a name and a default value with `=`\n",
    "    \n",
    "2. `return()` **inside** the `{}` of the function so that the output of the function can be saved outside the function space. If multiple results, they must be stored in a single output within a list."
   ]
  },
  {
   "cell_type": "markdown",
   "metadata": {},
   "source": [
    "## II. Rules\n",
    "---"
   ]
  },
  {
   "cell_type": "markdown",
   "metadata": {},
   "source": [
    "### 1. Do not use the name of a native function"
   ]
  },
  {
   "cell_type": "markdown",
   "metadata": {},
   "source": [
    "<div class=\"alert alert-block alert-danger\"><b>Caution:</b> \n",
    "The name of your own function must not be a native R function, otherwise the native function is overwritten during your session.\n",
    "</div>"
   ]
  },
  {
   "cell_type": "markdown",
   "metadata": {},
   "source": [
    "In the example below, we rename an existing function `mean()`. As coded, the returned result will be the squared value instead of the mean."
   ]
  },
  {
   "cell_type": "code",
   "execution_count": null,
   "metadata": {},
   "outputs": [],
   "source": [
    "#cell 2\n",
    "mean <- function(x){\n",
    "    return(x^2)\n",
    "}\n",
    "\n",
    "mean(c(3,4))\n",
    "rm(mean)"
   ]
  },
  {
   "cell_type": "markdown",
   "metadata": {},
   "source": [
    "Let's check we got the correct mean() function back:"
   ]
  },
  {
   "cell_type": "code",
   "execution_count": null,
   "metadata": {},
   "outputs": [],
   "source": [
    "#cell 3\n",
    "mean(c(3,4))"
   ]
  },
  {
   "cell_type": "markdown",
   "metadata": {},
   "source": [
    "### 2. The function space is closed"
   ]
  },
  {
   "cell_type": "markdown",
   "metadata": {},
   "source": [
    "**The argument names, all the variables created inside the functions and the results exist only within the enclosed function space!**\n",
    "\n",
    "- All the required objects must be arguments of the function or they must be defined in the body of the function\n",
    "- Risk to call an R object that is outside your function : by default, if the object is not defined in your function, R looks for it outside the function\n"
   ]
  },
  {
   "cell_type": "markdown",
   "metadata": {},
   "source": [
    "*See example below:*\n",
    "\n",
    "We first remove all objects in the environment"
   ]
  },
  {
   "cell_type": "code",
   "execution_count": null,
   "metadata": {},
   "outputs": [],
   "source": [
    "#cell 4\n",
    "rm(list = ls())"
   ]
  },
  {
   "cell_type": "markdown",
   "metadata": {},
   "source": [
    "Let's define a function called `func()` to return the sum between a variable, passed as argument and `a`."
   ]
  },
  {
   "cell_type": "code",
   "execution_count": null,
   "metadata": {},
   "outputs": [],
   "source": [
    "# cell 5\n",
    "func <- function(x){\n",
    "    x <- x + a\n",
    "    return(x^2)\n",
    "}"
   ]
  },
  {
   "cell_type": "markdown",
   "metadata": {},
   "source": [
    "Lest' try to apply it to the value 2:"
   ]
  },
  {
   "cell_type": "code",
   "execution_count": null,
   "metadata": {},
   "outputs": [],
   "source": [
    "# cell 6\n",
    "func(2)"
   ]
  },
  {
   "cell_type": "markdown",
   "metadata": {},
   "source": [
    "This returns an error because the object `a` is not found.\n",
    "\n",
    "But what if `a` already exists in your R environment?"
   ]
  },
  {
   "cell_type": "code",
   "execution_count": null,
   "metadata": {},
   "outputs": [],
   "source": [
    "# cell 7\n",
    "a <- 2\n",
    "func <- function(x){\n",
    "    x <- x + a\n",
    "    return(x^2)\n",
    "}\n",
    "func(2)"
   ]
  },
  {
   "cell_type": "markdown",
   "metadata": {},
   "source": [
    "This time it worked.\n",
    "You could also apply the function to a vector of length > 1:"
   ]
  },
  {
   "cell_type": "code",
   "execution_count": null,
   "metadata": {},
   "outputs": [],
   "source": [
    "# cell 8\n",
    "func(c(2, 3, 10))"
   ]
  },
  {
   "cell_type": "markdown",
   "metadata": {},
   "source": [
    "But imagine now we add `a` as a parameter to a function `func2()` to perform an operation with `x` and `a`:"
   ]
  },
  {
   "cell_type": "code",
   "execution_count": null,
   "metadata": {},
   "outputs": [],
   "source": [
    "# cell 9\n",
    "func2 <- function (x,a){\n",
    "    x <- x + a\n",
    "    return (x^2)\n",
    "}"
   ]
  },
  {
   "cell_type": "markdown",
   "metadata": {},
   "source": [
    "Don't forget that `a` equals to 2 in our R environement."
   ]
  },
  {
   "cell_type": "code",
   "execution_count": null,
   "metadata": {},
   "outputs": [],
   "source": [
    "# cell 10\n",
    "a"
   ]
  },
  {
   "cell_type": "markdown",
   "metadata": {},
   "source": [
    "So if we apply the function `func2()`, will it use this `a`  value or the one you would pass as an argument to the function?\n",
    "Let's have a look."
   ]
  },
  {
   "cell_type": "code",
   "execution_count": null,
   "metadata": {},
   "outputs": [],
   "source": [
    "# cell 11\n",
    "func2(2, 3)"
   ]
  },
  {
   "cell_type": "markdown",
   "metadata": {},
   "source": [
    "So above, the function used 2 for x and 3 for a. It thus used the value `a` defined inside the `()` and not the a value assigned outside the function."
   ]
  },
  {
   "cell_type": "code",
   "execution_count": null,
   "metadata": {},
   "outputs": [],
   "source": [
    "# cell 12\n",
    "func2(2, 10)"
   ]
  },
  {
   "cell_type": "markdown",
   "metadata": {},
   "source": [
    "Similarly with the above two values 2 and 10, 10 was used for the second argument instead of `a`  assigned in the R environment.\n",
    "\n",
    "But what happens if we pass only one argument to the function `func2()`?"
   ]
  },
  {
   "cell_type": "code",
   "execution_count": null,
   "metadata": {},
   "outputs": [],
   "source": [
    "# cell 13\n",
    "func2(2)"
   ]
  },
  {
   "cell_type": "markdown",
   "metadata": {},
   "source": [
    "It returns an error as the argument `a` is missing and we did not specify a default value for it when defining the function.\n",
    "The function func2 could not use the value `a=2` present in the workspace.\n",
    "\n",
    "=> the function space is closed: R uses the objects defined in your function."
   ]
  },
  {
   "cell_type": "markdown",
   "metadata": {},
   "source": [
    "**Several arguments can be passed to the function:**"
   ]
  },
  {
   "cell_type": "markdown",
   "metadata": {},
   "source": [
    "They can be of different types:\n",
    "- numeric\n",
    "- logical\n",
    "- factor\n",
    "- vector\n",
    "- matrix\n",
    "- dataframe\n",
    "- list\n",
    "- functions\n",
    "\n",
    "When `...` is specified, these are additional arguments passed from another function.\n",
    "\n",
    "Arguments are defined by their name or by their order."
   ]
  },
  {
   "cell_type": "code",
   "execution_count": null,
   "metadata": {},
   "outputs": [],
   "source": [
    "# cell 14\n",
    "func3 <- function (x, a){\n",
    "    x <- x + 2 * a\n",
    "    return(x^2)\n",
    "}"
   ]
  },
  {
   "cell_type": "code",
   "execution_count": null,
   "metadata": {},
   "outputs": [],
   "source": [
    "# cell 15\n",
    "func3(2, 5)"
   ]
  },
  {
   "cell_type": "code",
   "execution_count": null,
   "metadata": {},
   "outputs": [],
   "source": [
    "# cell 16\n",
    "func3(x = 2, a = 5)"
   ]
  },
  {
   "cell_type": "code",
   "execution_count": null,
   "metadata": {},
   "outputs": [],
   "source": [
    "# cell 17\n",
    "func3(a = 5, x = 2)"
   ]
  },
  {
   "cell_type": "code",
   "execution_count": null,
   "metadata": {},
   "outputs": [],
   "source": [
    "# cell 18\n",
    "func3(5, 2)"
   ]
  },
  {
   "cell_type": "markdown",
   "metadata": {},
   "source": [
    "Thus above we see that when not specifying the name of the argument, the order set when defining the function is the one used. If we specify the names of the arguments, you may change the order, although this is not recommanded because your script wil lack clarity."
   ]
  },
  {
   "cell_type": "markdown",
   "metadata": {},
   "source": [
    "### 3. Do not hesitate to assign default values to the arguments"
   ]
  },
  {
   "cell_type": "code",
   "execution_count": null,
   "metadata": {},
   "outputs": [],
   "source": [
    "# cell 19\n",
    "func4 <- function(x, a = 4){\n",
    "    x <- x + a\n",
    "    return(x^2)\n",
    "}"
   ]
  },
  {
   "cell_type": "code",
   "execution_count": null,
   "metadata": {},
   "outputs": [],
   "source": [
    "# cell 20\n",
    "func4(2, 5)"
   ]
  },
  {
   "cell_type": "code",
   "execution_count": null,
   "metadata": {},
   "outputs": [],
   "source": [
    "# cell 21\n",
    "func4(2)"
   ]
  },
  {
   "cell_type": "markdown",
   "metadata": {},
   "source": [
    "In the above example, we passed to the function only one argument. But since we defined a default value to `a` when creating the function, this default value has been used."
   ]
  },
  {
   "cell_type": "markdown",
   "metadata": {},
   "source": [
    "## III. Function results\n",
    "---"
   ]
  },
  {
   "cell_type": "markdown",
   "metadata": {},
   "source": [
    "- A function can **only return one object.**\n",
    "\n",
    "- By default **the returned result is the last object** of the function body. "
   ]
  },
  {
   "cell_type": "code",
   "execution_count": null,
   "metadata": {},
   "outputs": [],
   "source": [
    "# cell 22\n",
    "func <- function(x){\n",
    "    x + 10\n",
    "    x^2\n",
    "}\n",
    "func(2)"
   ]
  },
  {
   "cell_type": "markdown",
   "metadata": {},
   "source": [
    "Above it returned only the result of the `x^2` computation but not of `x + 10`."
   ]
  },
  {
   "cell_type": "markdown",
   "metadata": {},
   "source": [
    "- It is highly recommanded to **return the result with the function `return()`.**"
   ]
  },
  {
   "cell_type": "code",
   "execution_count": null,
   "metadata": {},
   "outputs": [],
   "source": [
    "# cell 23\n",
    "func <- function(x){\n",
    "    temp <- x^2\n",
    "    return(temp)\n",
    "}\n",
    "func(2)"
   ]
  },
  {
   "cell_type": "markdown",
   "metadata": {},
   "source": [
    "- **If your function creates more than one result, use a `list` to store them and return the list** as in the example below."
   ]
  },
  {
   "cell_type": "code",
   "execution_count": null,
   "metadata": {},
   "outputs": [],
   "source": [
    "# cell 24\n",
    "func <- function (x) {\n",
    "    temp1 <- x ^2\n",
    "    temp2 <- temp1^x\n",
    "    results <- list(res1 = temp1, res2 = temp2)\n",
    "    return(results)\n",
    "}\n",
    "func(2)"
   ]
  },
  {
   "cell_type": "markdown",
   "metadata": {},
   "source": [
    "## IV. Some examples to better understand\n",
    "---"
   ]
  },
  {
   "cell_type": "markdown",
   "metadata": {},
   "source": [
    "### 1. use return() and assign results"
   ]
  },
  {
   "cell_type": "markdown",
   "metadata": {},
   "source": [
    "Let's clean again our session from all objects and functions."
   ]
  },
  {
   "cell_type": "code",
   "execution_count": null,
   "metadata": {},
   "outputs": [],
   "source": [
    "# cell 25\n",
    "rm(list = ls())\n",
    "ls()"
   ]
  },
  {
   "cell_type": "markdown",
   "metadata": {},
   "source": [
    "We first create a function f1 without using `return()`:"
   ]
  },
  {
   "cell_type": "code",
   "execution_count": null,
   "metadata": {},
   "outputs": [],
   "source": [
    "# cell 26\n",
    "f1 <- function(a, b){\n",
    "    Op <- a + b\n",
    "}\n",
    "f1(a = 6, b = 20)\n",
    "ls()"
   ]
  },
  {
   "cell_type": "markdown",
   "metadata": {},
   "source": [
    "The function f1 ran but the result of the sum was stored in the object \"Op\" which was not printed nor returned. So, the result of the function is not shown. It is thus necessary to add the function return() inside the function to get the result."
   ]
  },
  {
   "cell_type": "code",
   "execution_count": null,
   "metadata": {},
   "outputs": [],
   "source": [
    "# cell 27\n",
    "rm(list = ls())\n",
    "f1 <- function(a, b){\n",
    "    Op <- a + b\n",
    "    return(Op)\n",
    "}\n",
    "f1(a = 6 ,b = 20)\n",
    "ls()"
   ]
  },
  {
   "cell_type": "markdown",
   "metadata": {},
   "source": [
    "However, we do not get the object \"Op\" itself but the value that was assigned to it. If you want to get the result object in your R environment, you have to assign the result of the function."
   ]
  },
  {
   "cell_type": "code",
   "execution_count": null,
   "metadata": {},
   "outputs": [],
   "source": [
    "# cell 28\n",
    "rm(list = ls())\n",
    "f1 <- function(a, b){\n",
    "    Op <- a + b\n",
    "    return(Op)\n",
    "}\n",
    "res1 <- f1(a = 6, b = 20)\n",
    "ls()\n",
    "res1"
   ]
  },
  {
   "cell_type": "markdown",
   "metadata": {},
   "source": [
    "Now, the object `res1` contains the result of the function!"
   ]
  },
  {
   "cell_type": "markdown",
   "metadata": {},
   "source": [
    "### 2. caution to the function space closed"
   ]
  },
  {
   "cell_type": "markdown",
   "metadata": {},
   "source": [
    "Let's play again with the same function, but we first assign to `a` a value outside of the function."
   ]
  },
  {
   "cell_type": "code",
   "execution_count": null,
   "metadata": {},
   "outputs": [],
   "source": [
    "# cell 29\n",
    "rm(list = ls())\n",
    "a <- 27\n",
    "f1 <- function(a, b){\n",
    "      Op <- a + b\n",
    "      return(Op)\n",
    "}\n",
    "f1(a = 6, b = 20)\n",
    "ls()\n",
    "a"
   ]
  },
  {
   "cell_type": "markdown",
   "metadata": {},
   "source": [
    "What happened?\n",
    "- When calling `f1()`, the function used the value `a=6` passed as an argument to the function and not the value `a=27` assigned outside the function.\n",
    "- When printing `a` after using the function, the returned valued is the one assigned to `a` before the function. The one inside the function did not overwrite it."
   ]
  },
  {
   "cell_type": "markdown",
   "metadata": {},
   "source": [
    "Let's try again, this time with assigning a default value to `a` when creating the function."
   ]
  },
  {
   "cell_type": "code",
   "execution_count": null,
   "metadata": {},
   "outputs": [],
   "source": [
    "# cell 30\n",
    "rm(list = ls())\n",
    "a <- 27\n",
    "f1 <- function(a = 22, b){\n",
    "      Op <- a + b\n",
    "      return(Op)\n",
    "}\n",
    "f1(a, b = 20)\n",
    "f1(b = 20)"
   ]
  },
  {
   "cell_type": "markdown",
   "metadata": {},
   "source": [
    "What happened?\n",
    "- When f1 was first called, it used the value `a=27` assigned within the R session and not the default one defined in the function.\n",
    "- While when f1 was called the second time, it used the default `a=22` value specified when creating the function."
   ]
  },
  {
   "cell_type": "markdown",
   "metadata": {},
   "source": [
    "This second result is probably less surprising than the first one.\n",
    "Why did f1 did not use `a=22` in the first instance? Because in that case, you asked f1 to use the `object a`, instead of the `argument a`...This is highly misleading!"
   ]
  },
  {
   "cell_type": "markdown",
   "metadata": {},
   "source": [
    "<div class=\"alert alert-block alert-danger\"><b>Caution:</b><br> \n",
    "It is thus highly recommended to <b> never use in your function space the name of a variable outside of the function</b>.\n",
    "</div>"
   ]
  },
  {
   "cell_type": "markdown",
   "metadata": {},
   "source": [
    "## V. Writing your first R functions?\n",
    "---"
   ]
  },
  {
   "cell_type": "markdown",
   "metadata": {},
   "source": [
    "The recipe to write your own function is:\n",
    "\n",
    "- give it a name\n",
    "- identify the arguments\n",
    "- write the body of the function\n",
    "- identify the results to return\n",
    "- test it!\n",
    "\n",
    "=> Write a function to compute the body mass index using the height and weight"
   ]
  },
  {
   "cell_type": "code",
   "execution_count": null,
   "metadata": {},
   "outputs": [],
   "source": [
    "# cell 31\n",
    "compute.bmi <- function(w, s){\n",
    "    z <- w/s^2\n",
    "    return(z)\n",
    "}\n",
    "compute.bmi(65, 1.70)"
   ]
  },
  {
   "cell_type": "markdown",
   "metadata": {},
   "source": [
    "=> Write a function to compute the variation coefficient"
   ]
  },
  {
   "cell_type": "code",
   "execution_count": null,
   "metadata": {},
   "outputs": [],
   "source": [
    "# cell 32\n",
    "compute.cv <- function(m, s){\n",
    "    z <- s/m\n",
    "    return(z)\n",
    "}\n",
    "compute.cv(rnorm(10), 1:10 )"
   ]
  },
  {
   "cell_type": "markdown",
   "metadata": {},
   "source": [
    "<div class=\"alert alert-block alert-success\"><b>Success:</b> Well done! You now know how to create a function and to avoid classical pitfalls. \n",
    "</div>\n",
    "    "
   ]
  },
  {
   "cell_type": "markdown",
   "metadata": {},
   "source": [
    "Of course, you can improve your functions by adding warnings if the input files are not as expected, or by adding some documentation (start with annotations!)."
   ]
  },
  {
   "cell_type": "markdown",
   "metadata": {},
   "source": [
    "***\n",
    "***\n",
    "\n",
    "## Useful commands\n",
    "<div class=\"alert alert-block alert-info\"> \n",
    "    \n",
    "- <kbd>CTRL</kbd>+<kbd>S</kbd> : save notebook<br>    \n",
    "- <kbd>CTRL</kbd>+<kbd>ENTER</kbd> : Run Cell<br>  \n",
    "- <kbd>SHIFT</kbd>+<kbd>ENTER</kbd> : Run Cell and Select Next<br>   \n",
    "- <kbd>ALT</kbd>+<kbd>ENTER</kbd> : Run Cell and Insert Below<br>   \n",
    "- <kbd>ESC</kbd>+<kbd>y</kbd> : Change to *Code* Cell Type<br>  \n",
    "- <kbd>ESC</kbd>+<kbd>m</kbd> : Change to *Markdown* Cell Type<br> \n",
    "- <kbd>ESC</kbd>+<kbd>r</kbd> : Change to *Raw* Cell Type<br>    \n",
    "- <kbd>ESC</kbd>+<kbd>a</kbd> : Create Cell Above<br> \n",
    "- <kbd>ESC</kbd>+<kbd>b</kbd> : Create Cell Below<br> \n",
    "\n",
    "<em>  \n",
    "To make nice html reports with markdown: <a href=\"https://dillinger.io/\" title=\"dillinger.io\">html visualization tool 1</a> or <a href=\"https://stackedit.io/app#\" title=\"stackedit.io\">html visualization tool 2</a>, <a href=\"https://www.tablesgenerator.com/markdown_tables\" title=\"tablesgenerator.com\">to draw nice tables</a>, and the <a href=\"https://medium.com/analytics-vidhya/the-ultimate-markdown-guide-for-jupyter-notebook-d5e5abf728fd\" title=\"Ultimate guide\">Ultimate guide</a>. <br>\n",
    "Further reading on JupyterLab notebooks: <a href=\"https://jupyterlab.readthedocs.io/en/latest/user/notebook.html\" title=\"Jupyter Lab\">Jupyter Lab documentation</a>.<br>   \n",
    "</em>    \n",
    " \n",
    "</div>"
   ]
  }
 ],
 "metadata": {
  "kernelspec": {
   "display_name": "R",
   "language": "R",
   "name": "ir"
  },
  "language_info": {
   "codemirror_mode": "r",
   "file_extension": ".r",
   "mimetype": "text/x-r-source",
   "name": "R",
   "pygments_lexer": "r",
   "version": "4.0.5"
  },
  "toc-showtags": true
 },
 "nbformat": 4,
 "nbformat_minor": 4
}
