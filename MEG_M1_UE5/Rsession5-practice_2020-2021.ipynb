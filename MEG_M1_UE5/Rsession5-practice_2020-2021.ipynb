{
 "cells": [
  {
   "cell_type": "markdown",
   "metadata": {},
   "source": [
    "# __R Session n°5 - practice:__\n",
    "M1 MEG UE5 - Claire Vandiedonck\n",
    "***\n",
    "\n",
    "__*Programme couvert:*__\n",
    "\n",
    "- Exectutions conditionnelles, boucles, nouvelles fonctions\n",
    "- Programmation dans R\n"
   ]
  },
  {
   "cell_type": "markdown",
   "metadata": {},
   "source": [
    "---\n",
    "    \n",
    "**Rappels**    \n",
    "> Les exercices proposés sont donnés dans un ordre progressif qui suit celui du diaporama associé. Ils ont des niveaux de difficulté variable. Pour chaque exercice, des fonctions R vous sont suggérées. N’hésitez pas à consulter leur menu d’aide en tapant soit `?nom_fonction`, soit `help(nom_fonction)`. Vous pouvez parvenir aux mêmes résultats avec d’autres commandes. Les commandes les plus courtes sont en général les meilleures. Une correction détaillée sera fournie.\n",
    "\n",
    "> Vous pouvez réaliser ces exercices directement dans ce notebook sur `adenine` en indiquant votre code dans les cellules laissées libres. Pour ajouter une nouvelle cellule, cliquez simplement sur le `+`dans le menu en haut à gauche du notebook (cf. rappels sur les notebooks en bas de ce notebook). Vous pouvez mettre plusieurs lignes de code aussi par cellule.\n",
    "> Pour executer les cellules, cliquez sur `Shift+Enter`. Executez les dans le bon ordre.\n",
    "> Remarque: dans un notebook jupyter, par défaut chaque élément d'un vecteur est affiché sur une ligne différente numérotée. Si vous souhaitez afficher le vecteur de façon plus classique, c'est à dire en ligne, tel qu'il apparait dans R, il est nécessaire d'utiliser la fonction `print()` -> voir dans cet exemple avec un vecteur contenant les deux valeurs numériques 1 et 10.\n"
   ]
  },
  {
   "cell_type": "code",
   "execution_count": null,
   "metadata": {},
   "outputs": [],
   "source": [
    "my_vector <- c(1, 10) # pour générer le vecteur et l'assigner dans un objet \"my_vector\"\n",
    "my_vector # l'affichage ici montre deux éléments, chacun dans une ligne différente"
   ]
  },
  {
   "cell_type": "code",
   "execution_count": null,
   "metadata": {},
   "outputs": [],
   "source": [
    "print(my_vector) # L'affichage ici montre le vecteur par ligne avec l'indice 1 entre crochets indiquant l'indice de la première valeur de la ligne."
   ]
  },
  {
   "cell_type": "markdown",
   "metadata": {},
   "source": [
    "> Vous pouvez également réaliser ces exercices si vous le préférez dans un terminal ou une console de cet environnement `UE5_RSession1` sur adenine, ou sur la version rstudio de cet environnement.\n",
    ">\n",
    "> Il est enfin possible de réaliser ces exercices sur votre ordinateur. Dans ce cas, utilisez un editeur de texte avec coloration syntaxique pour votre code (editeur dans Rstudio, ou Tinn-R ou notepad++ par exemple). Sauvegardez vos commandes dans un fichier mes_commandes.R dans le répertoire de votre choix. Exécutez les commandes une par une dans votre console. Vous pouvez ajouter des commentaires qui ne seront pas éxécutés si vous les précédez du caractère « # ».\n",
    "\n",
    ">    "
   ]
  },
  {
   "cell_type": "markdown",
   "metadata": {},
   "source": [
    "---\n",
    "\n",
    "**Avant toute chose**\n",
    "\n",
    "<mark>Avant de démarrer les exercices, sauvegardez une copie de ce notebook pour backup. <mark>\n",
    "\n",
    " "
   ]
  },
  {
   "cell_type": "markdown",
   "metadata": {},
   "source": [
    "#### 1. Identifiez votre répertoire de travail"
   ]
  },
  {
   "cell_type": "code",
   "execution_count": null,
   "metadata": {},
   "outputs": [],
   "source": [
    "getwd()"
   ]
  },
  {
   "cell_type": "markdown",
   "metadata": {},
   "source": [
    "Si ce répertoire ne vous convient pas, changer le pour un répertoire existant `my_directory`par exemple, avec la commande suivante en spécifiant le chemin relatif ou absolu de votre répertoire:\n",
    "```setwd(\"path/my_directory\")```"
   ]
  },
  {
   "cell_type": "markdown",
   "metadata": {},
   "source": [
    "#### 2.  Identifiez la version R de votre environnement et packages installés."
   ]
  },
  {
   "cell_type": "code",
   "execution_count": null,
   "metadata": {},
   "outputs": [],
   "source": [
    "sessionInfo()"
   ]
  },
  {
   "cell_type": "markdown",
   "metadata": {},
   "source": [
    "---\n",
    "---\n",
    "## Exercice 1: tester une condition"
   ]
  },
  {
   "cell_type": "markdown",
   "metadata": {},
   "source": [
    "- Créez un vecteur de 100 valeurs tirées aléatoirement selon une loi normale de moyenne 4 et d’écart type 5.\n",
    "\n",
    "- Identifiez les indices des valeurs strictement supérieures à 3 et récupérez les valeurs correspondantes.\n",
    "\n",
    "- Testez si la somme de ces valeurs est supérieure à 40, à 30 ou à 20 et affichez un message adéquat selon chaque éventualité.\n"
   ]
  },
  {
   "cell_type": "markdown",
   "metadata": {},
   "source": [
    "*__Tip :__*_fonctions recommandées : `rnorm()`, `which()`, `sum()`, `if()`, `ifelse()`, `else()`, `cat()` ou `print()`_"
   ]
  },
  {
   "cell_type": "code",
   "execution_count": null,
   "metadata": {},
   "outputs": [],
   "source": []
  },
  {
   "cell_type": "code",
   "execution_count": null,
   "metadata": {},
   "outputs": [],
   "source": []
  },
  {
   "cell_type": "code",
   "execution_count": null,
   "metadata": {},
   "outputs": [],
   "source": []
  },
  {
   "cell_type": "markdown",
   "metadata": {},
   "source": [
    "---\n",
    "## Exercice 2: création d'une boucle simple\n",
    "\n",
    "- Créez une boucle de 10 itérations `i` qui affiche à chaque itération l’indice `i`.\n",
    "- Calculez au fur et à mesure la somme cumulée des indices dans un vecteur.\n",
    "- Affichez la somme cumulée finale.\n",
    "\n",
    "\n",
    "*__Tip :__*\n",
    "_fonction recommandée : `for()`, `cat()` ou `print()`_"
   ]
  },
  {
   "cell_type": "code",
   "execution_count": null,
   "metadata": {},
   "outputs": [],
   "source": []
  },
  {
   "cell_type": "markdown",
   "metadata": {},
   "source": [
    "---\n",
    "## Exercice 3: création d'une fonction\n",
    "\n",
    "\n",
    "- Créez une fonction calculSomme qui calcule la somme de deux variables x et y passées en argument.\n",
    "- Testez la fonction.\n",
    "\n",
    "\n",
    "*__Tip :__*_fonction recommandée : `function()`, `return()`_"
   ]
  },
  {
   "cell_type": "code",
   "execution_count": null,
   "metadata": {},
   "outputs": [],
   "source": []
  },
  {
   "cell_type": "markdown",
   "metadata": {},
   "source": [
    "---\n",
    "## Exercice 4: création d’une fonction avec des tests, utilisation de cette fonction de manière itérative\n"
   ]
  },
  {
   "cell_type": "markdown",
   "metadata": {},
   "source": [
    "\n",
    "\n",
    "- Ecrivez une fonction `calculTarif()` qui prend pour argument un âge et affiche “demi-tarif” si l’âge est inférieur à 12 ans, “tarif sénior” si l’âge est supérieur ou égal à 60 ans et “plein tarif” sinon.\n",
    "- Testez votre fonction pour des personnes de 5, 65, 85, 41, 23 et 47 ans.\n",
    "\n",
    "\n",
    "*__Tip :__*_fonctions recommandées : `\n",
    "    function()`,\n",
    "    `return()`,\n",
    "    `print()`,\n",
    "    `c()`,\n",
    "    `if()`,\n",
    "    `else()`,\n",
    "    `ifelse()`,\n",
    "    `for()`_"
   ]
  },
  {
   "cell_type": "code",
   "execution_count": null,
   "metadata": {},
   "outputs": [],
   "source": []
  },
  {
   "cell_type": "markdown",
   "metadata": {},
   "source": [
    "---\n",
    "## Exercice 5: création d’une fonction avec compteur de boucle\n",
    "\n",
    "- Ecrivez une fonction `sumCumul()` qui calcule la somme cumulée des nombres entiers compris entre deux bornes a et b que vous mettrez en arguments start et end.\n",
    "\n",
    "- De plus, toutes les 10 boucles, vous affichez la valeur de l’entier ajouté, sinon vous affichez un point ..\n",
    "\n",
    "- Testez la fonction avec les entiers entre 3 et 55 par exemple.\n",
    "\n",
    "- Améliorez la fonction en ajoutant un paramètre \"interval\" correspondant à l’incrément de boucles entre les affichages des entiers (dans la fonction précédente, cet incrément était de 10)\n",
    "\n",
    "- Testez la fonction avec les entiers entre 3 et 55 et un intervalle de 15 par exemple.\n",
    "\n",
    "*__Tip :__*_fonctions recommandées : ` \n",
    "    function()`,\n",
    "    `return()`,\n",
    "    `cat()`,\n",
    "    `seq()`_"
   ]
  },
  {
   "cell_type": "code",
   "execution_count": null,
   "metadata": {},
   "outputs": [],
   "source": []
  },
  {
   "cell_type": "markdown",
   "metadata": {},
   "source": [
    "---\n",
    "---\n",
    "\n",
    "## <mark>Check list des actions avant la séance de debrief du 13/11:<mark>\n",
    "\n",
    "_Pour cocher les cases, ouvrez la cellule du notebook et remplacez l'espace entre les crochets par un `x` lorsque l'action est effectuée_\n",
    "\n",
    "[ ] relire le cours et revoir les différents supports dont diapos, vidéos, scripts et notebooks de la session 5\n",
    "    \n",
    "    \n",
    "[ ] finir les exercices sans les corrections\n",
    "    \n",
    "[ ] lire et comprendre les corrections\n",
    "    \n",
    "[ ] refaire les exercices sans les corrections\n",
    "    \n",
    " [ ] finir la section 1 de la partie R du Fil Rouge:     \n",
    "    -> déposer vos évaluations de vos pairs avant le 31/10 minuit!\n",
    "\n",
    "[ ] section 2 de la partie R du Fil Rouge: avec les mêmes binômes que la sesctin 1 à rendre pour le 06/11 20h00 sur moodle!\n",
    "    \n",
    "[ ] convertir le notebook jupyter des exercices de la session 4 en notebook .Rmd et générer le rapport .html\n",
    "    \n",
    "[ ] autoévaluer mon notebook .Rmd avec la correction grâce au quizz sur moodle"
   ]
  },
  {
   "cell_type": "markdown",
   "metadata": {},
   "source": [
    "---\n",
    "---\n",
    "\n",
    "__*Rappels sur l'utilisation des notebooks*__\n",
    "\n",
    "- To add a new cell, click on the \"+\" icon in the toolbar menu*\n",
    "- You can \"click & drag\" to move up or down a cell*\n",
    "- Cells are either 'Code cells' or 'Markdown cells'*\n",
    "- To execute a 'Code cell', press SHIFT+ENTER*\n",
    "- To format a 'Markdown cell', press SHIFT+ENTER*\n",
    "- To modify a 'Markdown cell', double-click on it*\n",
    "\n",
    "---\n",
    "\n"
   ]
  }
 ],
 "metadata": {
  "kernelspec": {
   "display_name": "R",
   "language": "R",
   "name": "ir"
  },
  "language_info": {
   "codemirror_mode": "r",
   "file_extension": ".r",
   "mimetype": "text/x-r-source",
   "name": "R",
   "pygments_lexer": "r",
   "version": "3.6.1"
  }
 },
 "nbformat": 4,
 "nbformat_minor": 4
}
