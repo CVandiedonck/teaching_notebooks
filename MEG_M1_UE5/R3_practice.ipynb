{
 "cells": [
  {
   "cell_type": "markdown",
   "metadata": {
    "tags": []
   },
   "source": [
    "# __R Session n°3 - practice:__\n",
    "M1 MEG UE5 - Claire Vandiedonck\n",
    "***\n",
    "\n",
    "__*Programme couvert:*__\n",
    "\n",
    "- Manipulation de dataframes\n",
    "- Exploration de données omiques\n",
    "- Listes\n"
   ]
  },
  {
   "cell_type": "markdown",
   "metadata": {},
   "source": [
    "---\n",
    "    \n",
    "**Rappels**    \n",
    "> Les exercices proposés sont donnés dans un ordre progressif qui suit celui du diaporama associé. Ils ont des niveaux de difficulté variable. Pour chaque exercice, des fonctions R vous sont suggérées. N’hésitez pas à consulter leur menu d’aide en tapant soit `?nom_fonction`, soit `help(nom_fonction)`. Vous pouvez parvenir aux mêmes résultats avec d’autres commandes. Les commandes les plus courtes sont en général les meilleures. Une correction détaillée sera fournie.\n",
    "\n",
    "> Vous pouvez réaliser ces exercices directement dans ce notebook sur `adenine` en indiquant votre code dans les cellules laissées libres. Pour ajouter une nouvelle cellule, cliquez simplement sur le `+`dans le menu en haut à gauche du notebook (cf. rappels sur les notebooks en bas de ce notebook). Vous pouvez mettre plusieurs lignes de code aussi par cellule.\n",
    "> Pour executer les cellules, cliquez sur `Shift+Enter`. Executez les dans le bon ordre.\n",
    "> Remarque: dans un notebook jupyter, l'affichage des vecteurs n'est pas classique. Si vous souhaitez afficher le vecteur de façon plus classique, c'est à dire en ligne avec l'indice pour la 1ère valeur de chaque ligne au début de la ligne, tel qu'il apparait dans R, il est nécessaire d'utiliser la fonction `print()` -> voir dans cet exemple avec un vecteur contenant les deux valeurs numériques 1 et 10.\n"
   ]
  },
  {
   "cell_type": "code",
   "execution_count": null,
   "metadata": {},
   "outputs": [],
   "source": [
    "#cell1\n",
    "my_vector <- c(1, 10) # pour générer le vecteur et l'assigner dans un objet \"my_vector\"\n",
    "my_vector # l'affichage ici montre deux éléments dont l'affichage est séparé par un point médian."
   ]
  },
  {
   "cell_type": "code",
   "execution_count": null,
   "metadata": {},
   "outputs": [],
   "source": [
    "#cell2\n",
    "print(my_vector) # L'affichage ici montre le vecteur par ligne avec l'indice 1 entre crochets indiquant l'indice de la première valeur de la ligne."
   ]
  },
  {
   "cell_type": "markdown",
   "metadata": {},
   "source": [
    "> Vous pouvez également réaliser ces exercices si vous le préférez dans un terminal ou une console de cet environnement `megm1_ue5_r` sur adenine, ou sur la version rstudio de cet environnement.\n",
    ">\n",
    "> Il est enfin possible de réaliser ces exercices sur votre ordinateur. Dans ce cas, utilisez un editeur de texte avec coloration syntaxique pour votre code (editeur dans Rstudio, ou Tinn-R ou notepad++ par exemple). Sauvegardez vos commandes dans un fichier mes_commandes.R dans le répertoire de votre choix. Exécutez les commandes une par une dans votre console. Vous pouvez ajouter des commentaires qui ne seront pas éxécutés si vous les précédez du caractère « # ».\n",
    "\n",
    ">    "
   ]
  },
  {
   "cell_type": "markdown",
   "metadata": {},
   "source": [
    "---\n",
    "## Avant d'aller plus loin\n",
    "\n",
    "<div class=\"alert alert-block alert-danger\"><b>Attention:</b> \n",
    "Ne travaillez pas directement sur ce notebook pour ne pas le perdre. Dupliquez-le et renommez-le par exemple en ajoutant vos initiales et travaillez sur cette nouvelle copie. Pour ce faire, dans le panneau de gauche, faites un clic droit sur le fichier et sélectionnez \"Duplicate\". Puis, toujours dans la colonne de gauche, faites un clic droit sur cette copie et sélectionnez \"rename\" pour changer le nom. Ouvrez ensuite cette nouvelle version en double cliquant dessus. Vous êtes prêt(e) à démarrer! <br>\n",
    "<br>\n",
    "<b>N'oubliez pas de sauvegarder régulièrement votre notebook</b>: <kbd>Ctrl</kbd> + <kbd>S</kbd>. ou en cliquant sur l'icone 💾 en haut à gauche de votre notebook ou dans le Menu du JupyterLab \"File puis \"Save Notebook\"!\n",
    "</div>\n",
    " "
   ]
  },
  {
   "cell_type": "markdown",
   "metadata": {},
   "source": [
    "#### 1. Identifiez votre répertoire de travail"
   ]
  },
  {
   "cell_type": "code",
   "execution_count": null,
   "metadata": {},
   "outputs": [],
   "source": [
    "#cell3\n",
    "getwd()"
   ]
  },
  {
   "cell_type": "markdown",
   "metadata": {},
   "source": [
    "Si ce répertoire ne vous convient pas, changer le pour un répertoire existant `my_directory`par exemple, avec la commande suivante en spécifiant le chemin relatif ou absolu de votre répertoire:\n",
    "```setwd(\"path/my_directory\")```"
   ]
  },
  {
   "cell_type": "markdown",
   "metadata": {},
   "source": [
    "#### 2.  Identifiez la version R de votre environnement et packages installés."
   ]
  },
  {
   "cell_type": "code",
   "execution_count": null,
   "metadata": {},
   "outputs": [],
   "source": [
    "#cell4\n",
    "sessionInfo()"
   ]
  },
  {
   "cell_type": "markdown",
   "metadata": {},
   "source": [
    "---\n",
    "---\n",
    "\n",
    "## Exercice 1\n",
    "\n",
    "Téléchargez le fichier `test.txt` disponible sur moodle.\n",
    "\n",
    "Ouvrez-le avec un éditeur de texte ou un calculateur pour identifier sa structure et les cases non remplies: dans le jupyterlab, cliquez simplement sur le fichier `test.txt` dans le menu de gauche. Vous verrez que les colonnes sont séparées par des tabulations. \n",
    "\n",
    "Importez le dans R dans un objet `test.data` et vérifiez sa structure et son contenu.\n",
    "\n",
    "\n",
    "*__Tip :__*\n",
    "_fonctions recommandées : ` read.table()` avec l'argument `fill` correct, `str()`_"
   ]
  },
  {
   "cell_type": "code",
   "execution_count": null,
   "metadata": {},
   "outputs": [],
   "source": [
    "#cell5"
   ]
  },
  {
   "cell_type": "markdown",
   "metadata": {},
   "source": [
    "---\n",
    "Comment les données manquantes ont-elles été lues ? Remplacez-les par NA si elles n’ont pas été lues comme une donnée manquante.\n",
    "\n",
    "\n",
    "*__Tip :__*\n",
    "_fonctions recommandées : `is.na()`_\n"
   ]
  },
  {
   "cell_type": "code",
   "execution_count": null,
   "metadata": {},
   "outputs": [],
   "source": [
    "#cell6"
   ]
  },
  {
   "cell_type": "code",
   "execution_count": null,
   "metadata": {},
   "outputs": [],
   "source": [
    "#cell6.2"
   ]
  },
  {
   "cell_type": "markdown",
   "metadata": {},
   "source": [
    "---\n",
    "Déplacez la colonne 1 en dernière colonne."
   ]
  },
  {
   "cell_type": "code",
   "execution_count": null,
   "metadata": {},
   "outputs": [],
   "source": [
    "#cell7"
   ]
  },
  {
   "cell_type": "markdown",
   "metadata": {},
   "source": [
    "---\n",
    "Renommez les colonnes colA, colB, colC, colD, colE… dans le nouvel ordre obtenu.\n",
    "\n",
    "*__Tip :__*\n",
    "_fonctions recommandées : `names()`, `paste()`, `LETTERS`_"
   ]
  },
  {
   "cell_type": "code",
   "execution_count": null,
   "metadata": {},
   "outputs": [],
   "source": [
    "#cell8"
   ]
  },
  {
   "cell_type": "markdown",
   "metadata": {},
   "source": [
    "---\n",
    "Supprimez la deuxième ligne."
   ]
  },
  {
   "cell_type": "code",
   "execution_count": null,
   "metadata": {},
   "outputs": [],
   "source": [
    "#cell9"
   ]
  },
  {
   "cell_type": "markdown",
   "metadata": {},
   "source": [
    "---\n",
    "Ajoutez une colonne de valeurs numériques obtenues en divisant les valeurs de la colE par les valeurs de la colA."
   ]
  },
  {
   "cell_type": "code",
   "execution_count": null,
   "metadata": {},
   "outputs": [],
   "source": [
    "#cell10"
   ]
  },
  {
   "cell_type": "markdown",
   "metadata": {},
   "source": [
    "---\n",
    "Dans la colC, remplacez les valeurs `toto` par `tata` et vice-versa.\n",
    "\n"
   ]
  },
  {
   "cell_type": "code",
   "execution_count": null,
   "metadata": {},
   "outputs": [],
   "source": [
    "#cell11"
   ]
  },
  {
   "cell_type": "markdown",
   "metadata": {},
   "source": [
    "---\n",
    "Dans la colC, remplacez les lettres t par des m\n",
    "\n",
    "*__Tip :__*\n",
    "_fonctions recommandées : `gsub()`_"
   ]
  },
  {
   "cell_type": "code",
   "execution_count": null,
   "metadata": {},
   "outputs": [],
   "source": [
    "#cell12"
   ]
  },
  {
   "cell_type": "markdown",
   "metadata": {},
   "source": [
    "---\n",
    "Triez le dataframe par ordre croissant de la colonne colE.\n",
    "\n",
    "*__Tip :__*\n",
    "_fonctions recommandées : `order()`_"
   ]
  },
  {
   "cell_type": "code",
   "execution_count": null,
   "metadata": {},
   "outputs": [],
   "source": [
    "#cell13"
   ]
  },
  {
   "cell_type": "markdown",
   "metadata": {},
   "source": [
    "---\n",
    "Convertissez la colonne colB en valeurs numériques.\n",
    "\n",
    "*__Tip :__*\n",
    "_fonctions recommandées : `as.numeric()`_"
   ]
  },
  {
   "cell_type": "code",
   "execution_count": null,
   "metadata": {},
   "outputs": [],
   "source": [
    "#cell14"
   ]
  },
  {
   "cell_type": "markdown",
   "metadata": {},
   "source": [
    "---\n",
    "Dans un vecteur sumcolA, calculer la somme de la colA.\n",
    "\n",
    "\n",
    "*__Tip :__*\n",
    "_fonctions recommandées : `sum()`_"
   ]
  },
  {
   "cell_type": "code",
   "execution_count": null,
   "metadata": {},
   "outputs": [],
   "source": [
    "#cell15"
   ]
  },
  {
   "cell_type": "markdown",
   "metadata": {},
   "source": [
    "---\n",
    "Faites un sous-dataframe test.data2 contenant les lignes pour lesquelles les éléments de la colE sont inférieurs ou égaux à ceux de la colA.\n",
    "\n",
    "*__Tip :__*\n",
    "_fonctions recommandées : `subset()`_"
   ]
  },
  {
   "cell_type": "code",
   "execution_count": null,
   "metadata": {},
   "outputs": [],
   "source": [
    "#cell16"
   ]
  },
  {
   "cell_type": "markdown",
   "metadata": {},
   "source": [
    "---\n",
    "Sauvegardez le data frame `test.data2` en fichier texte avec des `;` comme séparateurs de champs.\n",
    "\n",
    "*__Tip :__*\n",
    "_fonctions recommandées : `write.table()`_"
   ]
  },
  {
   "cell_type": "code",
   "execution_count": null,
   "metadata": {},
   "outputs": [],
   "source": [
    "#cell17"
   ]
  },
  {
   "cell_type": "markdown",
   "metadata": {
    "tags": []
   },
   "source": [
    "---\n",
    "---\n",
    "## Exercice 2\n",
    "\n",
    "### Préambule\n",
    "\n",
    "Cet exercide a pour objectif de vous aider à acquérir les bonnes commandes pour lire, manipuler et sauvegarder des dataframes. Il porte sur le fichier `gene_rpkm_report_fb_2020_03.tsv.gz` que vous avez déjà commencé à étudier dans la partie `Intro à Unix` de cette UE avec Bruno Toupance. Il a été extrait de la base de données `Flybase` que vous verrai également dans le cadre de cette UE dans la partie méthodologie.\n",
    "\n",
    "Pour rappel, ce fichier contient des données de transcriptome en RNASeq chez la Drosophile avec l'expression des gènes en RPKM (cf. votre cours dans l'UE1 et le futur Fil Rouge de cette UE).\n",
    "Je vous remets les liens pour comprendre la nature de ces données:\n",
    "\n",
    "> Lien vers page de download:\n",
    "> https://flybase.org/cgi-bin/get_static_page.pl?file=bulkdata7.html&title=Current%20Release\n",
    ">\n",
    "> Lien vers le fichier RPKM:\n",
    "> ftp://ftp.flybase.org/releases/FB2020_03/precomputed_files/genes/gene_rpkm_report_fb_2020_03.tsv.gz\n",
    ">\n",
    "> Info sur colonnes: \n",
    "> https://wiki.flybase.org/wiki/FlyBase:Downloads_Overview#RNA-Seq_RPKM_values_.28gene_rpkm_report_fb_.2A.tsv.gz.29\n",
    "> \n",
    "> Page pour decsription des conditions et outil de recherche en ligne:\n",
    "> https://flybase.org/rnaseq/profile_search\n",
    ">\n",
    "> Ref article associé:\n",
    "> https://www.ncbi.nlm.nih.gov/pmc/articles/PMC3075879/\n",
    ">\n",
    "__En principe, le fichier `gene_rpkm_report_fb_2020_03.tsv.gz` doit être dans votre répertoire `~/m1meg_ue5_tp1-unix-1/Data/rna-seq/` sur adenine__\n",
    "\n",
    "S'il n'y est pas, ouvrez un terminal bash dans le bon répertoire et téléchargez-le au lien ci-dessus avec la commande ci-dessous déjà vue lors du TP2 Initiation à Unix: "
   ]
  },
  {
   "cell_type": "raw",
   "metadata": {},
   "source": [
    "wget ftp://ftp.flybase.org/releases/FB2020_03/precomputed_files/genes/gene_rpkm_report_fb_2020_03.tsv.gz"
   ]
  },
  {
   "cell_type": "markdown",
   "metadata": {
    "tags": []
   },
   "source": [
    "---\n",
    "\n",
    "### Execrice 2.1.\n",
    "\n",
    "A présent dans R, vous êtes prêts à démarrer. Je vous ai mis la première commande pour charger cet objet dans R car les arguments ne sont pas faciles à trouver.\n"
   ]
  },
  {
   "cell_type": "code",
   "execution_count": null,
   "metadata": {},
   "outputs": [],
   "source": [
    "#cell18\n",
    "droso <- read.table(\"~/m1meg_ue5_tp1-unix-1/Data/rna-seq/gene_rpkm_report_fb_2020_03.tsv.gz\",\n",
    "                    skip=5,\n",
    "                    comment.char=\"\",\n",
    "                    header=TRUE,\n",
    "                    stringsAsFactors=FALSE,\n",
    "                    fill=TRUE)"
   ]
  },
  {
   "cell_type": "markdown",
   "metadata": {},
   "source": [
    "Voici les explications de cette commande:\n",
    "- `read.table()`lit un fichier texte ou zippé pour donner un dataframe\n",
    "- `comment.char` sert ici à exclure les lignes commençant par un caractère précis. Ici j'ai mis une chaîne vide `\"\"` pour lire toutes les lignes. En effet, l'argument `comment.char` par défaut élimine toutes les lignes commençant par un `#`. Or la ligne du `header` qui donne l'entête des colonnes commence elle-même par deux `#`. Comme nous ne voulons pas l'éliminer, la solution est donc de lire toutes les lignes et d'indiquer combien en exclure au début avec l'argument suivant:\n",
    "- `skip` indique le nombre de lignes à ne pas importer au début\n",
    "- `header` que vous connaissez indique que les colonnes ont un en-tête\n",
    "- `stringsAsFactors=FALSE` évite la factorisation des colonnes de chaînes de caractère\n",
    "- `fill` complète avec des `NA` les lignes qui ont un nombre de colonnes inférieur car incomplètes.\n",
    "\n",
    "\n",
    "Sur wooclap, répondez à la première question:\n",
    "\n",
    "<span style=\"color:blue\">  <b>=> Wooclap Q1:</b> Quelles sont les dimensions du dataframe obtenu? Indiquez-le nombre de lignes l et de colonnes c entre crochets ainsi [l,c].</span>"
   ]
  },
  {
   "cell_type": "markdown",
   "metadata": {},
   "source": [
    "*__Tip :__*\n",
    "_fonction recommandée : `dim()`_"
   ]
  },
  {
   "cell_type": "code",
   "execution_count": null,
   "metadata": {},
   "outputs": [],
   "source": [
    "#cell19"
   ]
  },
  {
   "cell_type": "markdown",
   "metadata": {},
   "source": [
    "Conservez les colonnes pertinentes pour l'exercice d'aujourd'hui: `GeneSymbol`, `RNASource_name`, `RPKM_value`"
   ]
  },
  {
   "cell_type": "code",
   "execution_count": null,
   "metadata": {},
   "outputs": [],
   "source": [
    "#cell20"
   ]
  },
  {
   "cell_type": "markdown",
   "metadata": {},
   "source": [
    "<span style=\"color:blue\">  <b>=> Wooclap Q2:</b> Combien de gènes distincts sont présents ?</span>\n",
    "\n",
    "\n",
    "*__Tip :__* _fonctions recommandées : `unique()` et `length()`_"
   ]
  },
  {
   "cell_type": "code",
   "execution_count": null,
   "metadata": {},
   "outputs": [],
   "source": [
    "#cell21"
   ]
  },
  {
   "cell_type": "markdown",
   "metadata": {},
   "source": [
    "Combien de sources d'ARN distinctes comptez-vous ?"
   ]
  },
  {
   "cell_type": "code",
   "execution_count": null,
   "metadata": {},
   "outputs": [],
   "source": [
    "#cell22"
   ]
  },
  {
   "cell_type": "markdown",
   "metadata": {},
   "source": [
    "---\n",
    "### Exercice 2.2\n",
    "\n",
    "Résumez la variable `RPKM_value` ; quelle est sa valeur maximale ?<br>\n",
    "\n",
    "*__Tip :__* _fonctions recommandées : `summary()` et `max()`_\n"
   ]
  },
  {
   "cell_type": "code",
   "execution_count": null,
   "metadata": {},
   "outputs": [],
   "source": [
    "#cell23"
   ]
  },
  {
   "cell_type": "markdown",
   "metadata": {},
   "source": [
    "---\n",
    "Affichez la ligne du dataframe `droso` correspondant à cette valeur maximale<br>\n",
    "\n",
    "*__Tip :__*  _n'oubliez pas `which()`!_"
   ]
  },
  {
   "cell_type": "code",
   "execution_count": null,
   "metadata": {},
   "outputs": [],
   "source": [
    "#cell24"
   ]
  },
  {
   "cell_type": "markdown",
   "metadata": {},
   "source": [
    "<span style=\"color:blue\">  <b>=> Wooclap Q3:</b> Quel gène est responsable de cette expression maximale ? Donnez son symbole.</span>"
   ]
  },
  {
   "cell_type": "code",
   "execution_count": null,
   "metadata": {},
   "outputs": [],
   "source": [
    "#cell25"
   ]
  },
  {
   "cell_type": "markdown",
   "metadata": {},
   "source": [
    "À partir de quelle source d'ARN (colonne `RNASource_name`) cette expression maximale est-elle mesurée ?"
   ]
  },
  {
   "cell_type": "code",
   "execution_count": null,
   "metadata": {},
   "outputs": [],
   "source": [
    "#cell26"
   ]
  },
  {
   "cell_type": "markdown",
   "metadata": {},
   "source": [
    "<br>\n",
    "\n",
    "Extrayez les lignes du dataframe `droso` correspondant à ce gène exprimé de manière maximale.\n",
    "Nommez ce dataframe réduit avec le nom du gène.<br>\n",
    "\n",
    "*__Tip :__* _de nouveau, n'oubliez pas `which()` !_"
   ]
  },
  {
   "cell_type": "code",
   "execution_count": null,
   "metadata": {},
   "outputs": [],
   "source": [
    "#cell27"
   ]
  },
  {
   "cell_type": "markdown",
   "metadata": {},
   "source": [
    "Dans combien de sources d'ARN ce gène a-t-il été analysé ?"
   ]
  },
  {
   "cell_type": "code",
   "execution_count": null,
   "metadata": {},
   "outputs": [],
   "source": [
    "#cell28"
   ]
  },
  {
   "cell_type": "markdown",
   "metadata": {},
   "source": [
    "<span style=\"color:blue\">  <b>=> Wooclap Q4:</b> Ce gène est-il toujours exprimé de manière maximale ?<br>\n",
    "Répondez par `oui` ou par `non` sur wooclap.<br></span>\n",
    "\n",
    "\n",
    "*__Tip :__* _fonction recommandée : `summary()`_"
   ]
  },
  {
   "cell_type": "code",
   "execution_count": null,
   "metadata": {},
   "outputs": [],
   "source": [
    "#cell29"
   ]
  },
  {
   "cell_type": "markdown",
   "metadata": {},
   "source": [
    "---\n",
    "### Exercice 2.3\n",
    "\n",
    "Ce gène est un membre d'une famille multigénique. \n",
    "Extrayez les lignes du dataframe `droso` correspondant au premier membre de cette famille multigénique.\n",
    "Pour faire cela, remplacez par `1` le nombre final du nom du gène exprimé de manière maximale."
   ]
  },
  {
   "cell_type": "code",
   "execution_count": null,
   "metadata": {},
   "outputs": [],
   "source": [
    "#cell30"
   ]
  },
  {
   "cell_type": "markdown",
   "metadata": {},
   "source": [
    "Combien de source d'ARN ont été étudiées ?"
   ]
  },
  {
   "cell_type": "code",
   "execution_count": null,
   "metadata": {},
   "outputs": [],
   "source": [
    "#cell31"
   ]
  },
  {
   "cell_type": "markdown",
   "metadata": {},
   "source": [
    "On veut maintenant comparer l'expression de ces deux gènes.\n",
    "Dans ce but, fusionnez les deux dataframes.\n",
    "Utilisez la fonction `merge` et la variable `RNASource_name` comme clé."
   ]
  },
  {
   "cell_type": "code",
   "execution_count": null,
   "metadata": {},
   "outputs": [],
   "source": [
    "#cell32"
   ]
  },
  {
   "cell_type": "markdown",
   "metadata": {},
   "source": [
    "<span style=\"color:blue\">  <b>=> Wooclap Q5:</b> Combien de lignes et de colonnes le dataframe fusionné présente-t-il ? Comme précédemment, donnez le nombre de lignes et de colonnes au format [l,c].</span>"
   ]
  },
  {
   "cell_type": "code",
   "execution_count": null,
   "metadata": {},
   "outputs": [],
   "source": [
    "#cell33"
   ]
  },
  {
   "cell_type": "markdown",
   "metadata": {},
   "source": [
    "Affichez le dataframe entier. Quelles colonnes correspondent aux expressions de chacun des deux gènes? Que pouvez-vous rapidement dire de ces expressions ?"
   ]
  },
  {
   "cell_type": "code",
   "execution_count": null,
   "metadata": {},
   "outputs": [],
   "source": [
    "#cell34"
   ]
  },
  {
   "cell_type": "markdown",
   "metadata": {
    "tags": []
   },
   "source": [
    "---\n",
    "### Exercice 2.4.\n",
    "À partir de `droso`, extrayez le dataframe correspondant à tous les gènes de cette famille multigénique.<br>\n",
    "\n",
    "*__Tip :__* _fonction recommandée : Utilisez la fonction `grep` avec le préfixe de la famille (sans le chiffre final) comme chaine de caractère à rechercher._"
   ]
  },
  {
   "cell_type": "code",
   "execution_count": null,
   "metadata": {},
   "outputs": [],
   "source": [
    "#cell35"
   ]
  },
  {
   "cell_type": "markdown",
   "metadata": {},
   "source": [
    "Listez les gènes de cette famille multigénique :"
   ]
  },
  {
   "cell_type": "code",
   "execution_count": null,
   "metadata": {},
   "outputs": [],
   "source": [
    "#cell36"
   ]
  },
  {
   "cell_type": "markdown",
   "metadata": {},
   "source": [
    "Combien de sources d'ARN ont été analysées pour chacun de ces gènes ?\n",
    "\n",
    "*__Tip :__* _fonction recommandée : `table`_"
   ]
  },
  {
   "cell_type": "code",
   "execution_count": null,
   "metadata": {},
   "outputs": [],
   "source": [
    "#cell37"
   ]
  },
  {
   "cell_type": "markdown",
   "metadata": {
    "tags": []
   },
   "source": [
    "---\n",
    "---\n",
    "### Challenge facultatif\n",
    "Pour les plus avantureux !!<br>\n",
    "Il s'agit de lister les gènes qui ne sont jamais exprimés, c'est-à-dire qui ne sont exprimés dans aucune source d'ARN.\n",
    "\n",
    "__Attention:__ il faut procéder en deux temps.<br>\n",
    "Tout d'abord, listez les gènes qui sont exprimés dans au moins une source d'ARN.\n",
    "Pour cela, commencez par identifier les lignes du dataframe `droso` dans lequelles le gène est exprimé (`RPKM_value > 0`). À partir de là, déterminez ensuite combien de gènes distincts sont exprimés dans au moins une source d'ARN.\n",
    "Créez le vecteur de ces gènes. Appelez-le `expressed`.\n",
    "\n",
    "Vous pouvez alors lister les gènes qui ne sont exprimés dans aucune source d'ARN. Appelez ce vecteur `never_expressed`. Ce vecteur `never_expressed` est la différence entre le vecteur de tous les gènes et le vecteur `expressed` des gènes exprimés dans au moins une source d'ARN. Pour l'obtenir, utilisez la fonction `setdiff`.<br>\n",
    "Combien de gènes ne sont ainsi jamais exprimés ?<br>\n",
    "Vérifiez-le."
   ]
  },
  {
   "cell_type": "code",
   "execution_count": null,
   "metadata": {},
   "outputs": [],
   "source": [
    "# cell38: A vous de jouer!"
   ]
  },
  {
   "cell_type": "markdown",
   "metadata": {},
   "source": [
    "---\n",
    "---\n",
    "\n",
    "## Exercice 3 facultatif\n",
    "\n",
    "Sauvegardez dans une liste session3_list tous les objets créés pendant les exercices 1 à 2 en les mettant dans des sous-listes correspondant à chaque exercice que vous nommerez `exo1` et `exo2`.\n",
    "\n",
    "*__Tip :__*\n",
    "_fonctions recommandées : `list()`, `names()`_"
   ]
  },
  {
   "cell_type": "code",
   "execution_count": null,
   "metadata": {},
   "outputs": [],
   "source": [
    "# cell39"
   ]
  },
  {
   "cell_type": "code",
   "execution_count": null,
   "metadata": {},
   "outputs": [],
   "source": [
    "# cell39.2"
   ]
  },
  {
   "cell_type": "code",
   "execution_count": null,
   "metadata": {},
   "outputs": [],
   "source": [
    "# cell39.3"
   ]
  },
  {
   "cell_type": "code",
   "execution_count": null,
   "metadata": {},
   "outputs": [],
   "source": [
    "# cell39.4"
   ]
  },
  {
   "cell_type": "markdown",
   "metadata": {},
   "source": [
    "<div class=\"alert alert-block alert-danger\"><b>Caution:</b><br> \n",
    " Don't forget to save you notebook and export a copy as an <b>html</b> file as well <br>\n",
    "- Open \"File\" in the Menu<br>\n",
    "- Select \"Export Notebook As\"<br>\n",
    "- Export notebook as HTML<br>\n",
    "- You can then open it in your browser even without being connected to a JupyterLab interface!\n",
    "</div>"
   ]
  },
  {
   "cell_type": "markdown",
   "metadata": {
    "tags": []
   },
   "source": [
    "***\n",
    "***\n",
    "## Useful commands\n",
    "<div class=\"alert alert-block alert-info\"> \n",
    "    \n",
    "- <kbd>CTRL</kbd>+<kbd>S</kbd> : save notebook<br>    \n",
    "- <kbd>CTRL</kbd>+<kbd>ENTER</kbd> : Run Cell<br>  \n",
    "- <kbd>SHIFT</kbd>+<kbd>ENTER</kbd> : Run Cell and Select Next<br>   \n",
    "- <kbd>ALT</kbd>+<kbd>ENTER</kbd> : Run Cell and Insert Below<br>   \n",
    "- <kbd>ESC</kbd>+<kbd>y</kbd> : Change to *Code* Cell Type<br>  \n",
    "- <kbd>ESC</kbd>+<kbd>m</kbd> : Change to *Markdown* Cell Type<br> \n",
    "- <kbd>ESC</kbd>+<kbd>r</kbd> : Change to *Raw* Cell Type<br>    \n",
    "- <kbd>ESC</kbd>+<kbd>a</kbd> : Create Cell Above<br> \n",
    "- <kbd>ESC</kbd>+<kbd>b</kbd> : Create Cell Below<br> \n",
    "\n",
    "<em>  \n",
    "To make nice html reports with markdown: <a href=\"https://dillinger.io/\" title=\"dillinger.io\">html visualization tool 1</a> or <a href=\"https://stackedit.io/app#\" title=\"stackedit.io\">html visualization tool 2</a>, <a href=\"https://www.tablesgenerator.com/markdown_tables\" title=\"tablesgenerator.com\">to draw nice tables</a>, and the <a href=\"https://medium.com/analytics-vidhya/the-ultimate-markdown-guide-for-jupyter-notebook-d5e5abf728fd\" title=\"Ultimate guide\">Ultimate guide</a>. <br>\n",
    "Further reading on JupyterLab notebooks: <a href=\"https://jupyterlab.readthedocs.io/en/latest/user/notebook.html\" title=\"Jupyter Lab\">Jupyter Lab documentation</a>.<br>   \n",
    "</em>    \n",
    " \n",
    "</div>"
   ]
  },
  {
   "cell_type": "markdown",
   "metadata": {},
   "source": [
    "---\n",
    "---\n",
    "\n",
    "## <mark>Check list des actions avant la prochaine session R:<mark>\n",
    "\n",
    "_Pour cocher les cases, ouvrez la cellule du notebook et remplacez l'espace entre les crochets par un `x` lorsque l'action est effectuée_\n",
    "\n",
    "[ ] relire le cours et revoir les différents supports dont diapos, vidéos, scripts et notebooks\n",
    "    \n",
    "[ ] étudier le tutorial sur les facteurs (.html sur moodle)\n",
    "    \n",
    "[ ] étudier la partie du cours sur les listes en autonomie à partir du diaporama et du script associé\n",
    "    \n",
    "[ ] faire les exercices sans les corrections\n",
    "\n",
    "[ ] lire et comprendre les corrections\n",
    "\n",
    "[ ] refaire les exercices sans les corrections\n",
    "    \n",
    "\n",
    "*_Attention QCM au début de la session 4 (pas sur facteurs ou listes)!!!_*"
   ]
  }
 ],
 "metadata": {
  "kernelspec": {
   "display_name": "R",
   "language": "R",
   "name": "ir"
  },
  "language_info": {
   "codemirror_mode": "r",
   "file_extension": ".r",
   "mimetype": "text/x-r-source",
   "name": "R",
   "pygments_lexer": "r",
   "version": "4.0.5"
  }
 },
 "nbformat": 4,
 "nbformat_minor": 4
}
