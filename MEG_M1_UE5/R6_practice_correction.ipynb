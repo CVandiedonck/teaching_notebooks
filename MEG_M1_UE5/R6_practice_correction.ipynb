{
 "cells": [
  {
   "cell_type": "markdown",
   "metadata": {},
   "source": [
    "# __R Session n°6 - practice:__\n",
    "M1 MEG UE5 - Claire Vandiedonck\n",
    "***\n",
    "\n",
    "__*Programme couvert:*__\n",
    "\n",
    "- Gestion des flux: exéctutions conditionnelles, boucles\n",
    "- nouvelles fonctions\n",
    "- programmation dans R\n",
    "\n",
    "__*Objectifs pédagogiques de ce practical:*__\n",
    "\n",
    "- distinguer les boucles des exécutions conditionnelles\n",
    "- écrire des exécutions conditionnelles\n",
    "- écrire des boucles\n",
    "- comprendre que la vectorisation peut remplacer les boucles de manière avantageuse avec R\n",
    "- créer ses propres fonctions dans R et avoir saisi l'importance de l'espace clos des fonctions."
   ]
  },
  {
   "cell_type": "markdown",
   "metadata": {},
   "source": [
    "---\n",
    "    \n",
    "**Rappels**    \n",
    "> Les exercices proposés sont donnés dans un ordre progressif qui suit celui du diaporama associé. Ils ont des niveaux de difficulté variable. Pour chaque exercice, des fonctions R vous sont suggérées. N’hésitez pas à consulter leur menu d’aide en tapant soit `?nom_fonction`, soit `help(nom_fonction)`. Vous pouvez parvenir aux mêmes résultats avec d’autres commandes. Les commandes les plus courtes sont en général les meilleures. Une correction détaillée sera fournie.\n",
    "\n",
    "> Vous pouvez réaliser ces exercices directement dans ce notebook sur `adenine` en indiquant votre code dans les cellules laissées libres. Pour ajouter une nouvelle cellule, cliquez simplement sur le `+`dans le menu en haut à gauche du notebook (cf. rappels sur les notebooks en bas de ce notebook). Vous pouvez mettre plusieurs lignes de code aussi par cellule.\n",
    "> Pour executer les cellules, cliquez sur `Shift+Enter`. Executez les dans le bon ordre.\n",
    "> Remarque: dans un notebook jupyter, l'affichage des vecteurs n'est pas classique. Si vous souhaitez afficher le vecteur de façon plus classique, c'est à dire en ligne avec l'indice pour la 1ère valeur de chaque ligne au début de la ligne, tel qu'il apparait dans R, il est nécessaire d'utiliser la fonction `print()` -> voir dans cet exemple avec un vecteur contenant les deux valeurs numériques 1 et 10."
   ]
  },
  {
   "cell_type": "code",
   "execution_count": 1,
   "metadata": {},
   "outputs": [
    {
     "data": {
      "text/html": [
       "<style>\n",
       ".list-inline {list-style: none; margin:0; padding: 0}\n",
       ".list-inline>li {display: inline-block}\n",
       ".list-inline>li:not(:last-child)::after {content: \"\\00b7\"; padding: 0 .5ex}\n",
       "</style>\n",
       "<ol class=list-inline><li>1</li><li>10</li></ol>\n"
      ],
      "text/latex": [
       "\\begin{enumerate*}\n",
       "\\item 1\n",
       "\\item 10\n",
       "\\end{enumerate*}\n"
      ],
      "text/markdown": [
       "1. 1\n",
       "2. 10\n",
       "\n",
       "\n"
      ],
      "text/plain": [
       "[1]  1 10"
      ]
     },
     "metadata": {},
     "output_type": "display_data"
    }
   ],
   "source": [
    "#cell1\n",
    "my_vector <- c(1, 10) # pour générer le vecteur et l'assigner dans un objet \"my_vector\"\n",
    "my_vector # l'affichage ici montre deux éléments dont l'affichage est séparé par un point médian."
   ]
  },
  {
   "cell_type": "code",
   "execution_count": 2,
   "metadata": {},
   "outputs": [
    {
     "name": "stdout",
     "output_type": "stream",
     "text": [
      "[1]  1 10\n"
     ]
    }
   ],
   "source": [
    "#cell2\n",
    "print(my_vector) # L'affichage ici montre le vecteur par ligne avec l'indice 1 entre crochets indiquant l'indice de la première valeur de la ligne."
   ]
  },
  {
   "cell_type": "markdown",
   "metadata": {},
   "source": [
    "> Vous pouvez également réaliser ces exercices si vous le préférez dans un terminal ou une console de cet environnement `megm1_ue5_r` sur adenine, ou sur la version rstudio de cet environnement.\n",
    ">\n",
    "> Il est enfin possible de réaliser ces exercices sur votre ordinateur. Dans ce cas, utilisez un editeur de texte avec coloration syntaxique pour votre code (editeur dans Rstudio, ou Tinn-R ou notepad++ par exemple). Sauvegardez vos commandes dans un fichier mes_commandes.R dans le répertoire de votre choix. Exécutez les commandes une par une dans votre console. Vous pouvez ajouter des commentaires qui ne seront pas éxécutés si vous les précédez du caractère « # ».\n",
    "\n",
    ">    "
   ]
  },
  {
   "cell_type": "markdown",
   "metadata": {},
   "source": [
    "---\n",
    "## Avant d'aller plus loin\n",
    "\n",
    "<div class=\"alert alert-block alert-danger\"><b>Attention:</b> \n",
    "Ne travaillez pas directement sur ce notebook pour ne pas le perdre. Dupliquez-le et renommez-le par exemple en ajoutant vos initiales et travaillez sur cette nouvelle copie. Pour ce faire, dans le panneau de gauche, faites un clic droit sur le fichier et sélectionnez \"Duplicate\". Puis, toujours dans la colonne de gauche, faites un clic droit sur cette copie et sélectionnez \"rename\" pour changer le nom. Ouvrez ensuite cette nouvelle version en double cliquant dessus. Vous êtes prêt(e) à démarrer! <br>\n",
    "<br>\n",
    "<b>N'oubliez pas de sauvegarder régulièrement votre notebook</b>: <kbd>Ctrl</kbd> + <kbd>S</kbd>. ou en cliquant sur l'icone 💾 en haut à gauche de votre notebook ou dans le Menu du JupyterLab \"File puis \"Save Notebook\"!\n",
    "</div>"
   ]
  },
  {
   "cell_type": "markdown",
   "metadata": {},
   "source": [
    "#### 1. Identifiez votre répertoire de travail"
   ]
  },
  {
   "cell_type": "code",
   "execution_count": 3,
   "metadata": {},
   "outputs": [
    {
     "data": {
      "text/html": [
       "'/srv/home/cvandiedonck/megm1_ue5_r/R6'"
      ],
      "text/latex": [
       "'/srv/home/cvandiedonck/megm1\\_ue5\\_r/R6'"
      ],
      "text/markdown": [
       "'/srv/home/cvandiedonck/megm1_ue5_r/R6'"
      ],
      "text/plain": [
       "[1] \"/srv/home/cvandiedonck/megm1_ue5_r/R6\""
      ]
     },
     "metadata": {},
     "output_type": "display_data"
    }
   ],
   "source": [
    "#cell3\n",
    "getwd()"
   ]
  },
  {
   "cell_type": "markdown",
   "metadata": {},
   "source": [
    "Si ce répertoire ne vous convient pas, changer le pour un répertoire existant `my_directory`par exemple, avec la commande suivante en spécifiant le chemin relatif ou absolu de votre répertoire:\n",
    "```setwd(\"path/my_directory\")```"
   ]
  },
  {
   "cell_type": "markdown",
   "metadata": {},
   "source": [
    "#### 2.  Identifiez la version R de votre environnement et packages installés."
   ]
  },
  {
   "cell_type": "code",
   "execution_count": 4,
   "metadata": {},
   "outputs": [
    {
     "data": {
      "text/plain": [
       "R version 4.0.5 (2021-03-31)\n",
       "Platform: x86_64-conda-linux-gnu (64-bit)\n",
       "Running under: Ubuntu 18.04.4 LTS\n",
       "\n",
       "Matrix products: default\n",
       "BLAS/LAPACK: /srv/conda/envs/notebook/lib/libopenblasp-r0.3.17.so\n",
       "\n",
       "locale:\n",
       " [1] LC_CTYPE=en_US.UTF-8       LC_NUMERIC=C              \n",
       " [3] LC_TIME=en_US.UTF-8        LC_COLLATE=en_US.UTF-8    \n",
       " [5] LC_MONETARY=en_US.UTF-8    LC_MESSAGES=en_US.UTF-8   \n",
       " [7] LC_PAPER=en_US.UTF-8       LC_NAME=C                 \n",
       " [9] LC_ADDRESS=C               LC_TELEPHONE=C            \n",
       "[11] LC_MEASUREMENT=en_US.UTF-8 LC_IDENTIFICATION=C       \n",
       "\n",
       "attached base packages:\n",
       "[1] stats     graphics  grDevices utils     datasets  methods   base     \n",
       "\n",
       "loaded via a namespace (and not attached):\n",
       " [1] fansi_0.5.0       digest_0.6.27     utf8_1.2.2        crayon_1.4.1     \n",
       " [5] IRdisplay_1.0     repr_1.1.3        lifecycle_1.0.0   jsonlite_1.7.2   \n",
       " [9] evaluate_0.14     pillar_1.6.2      rlang_0.4.11      uuid_0.1-4       \n",
       "[13] vctrs_0.3.8       ellipsis_0.3.2    IRkernel_1.1.1    tools_4.0.5      \n",
       "[17] compiler_4.0.5    base64enc_0.1-3   pbdZMQ_0.3-5      htmltools_0.5.1.1"
      ]
     },
     "metadata": {},
     "output_type": "display_data"
    }
   ],
   "source": [
    "#cell4\n",
    "sessionInfo()"
   ]
  },
  {
   "cell_type": "markdown",
   "metadata": {},
   "source": [
    "---\n",
    "---\n",
    "## Exercice 1: tester une condition"
   ]
  },
  {
   "cell_type": "markdown",
   "metadata": {},
   "source": [
    "- Créez un vecteur de 100 valeurs tirées aléatoirement selon une loi normale de moyenne 4 et d’écart type 5.\n",
    "\n",
    "- Identifiez les indices des valeurs strictement supérieures à 3 et récupérez les valeurs correspondantes.\n",
    "\n",
    "- Testez si la somme de ces valeurs est supérieure à 40, à 30 ou à 20 et affichez un message adéquat selon chaque éventualité."
   ]
  },
  {
   "cell_type": "markdown",
   "metadata": {},
   "source": [
    "*__Tip :__*_fonctions recommandées : `rnorm()`, `which()`, `sum()`, `if()`, `ifelse()`, `else()`, `cat()` ou `print()`_"
   ]
  },
  {
   "cell_type": "code",
   "execution_count": 5,
   "metadata": {},
   "outputs": [],
   "source": [
    "# cell 5\n",
    "vecRandom <- rnorm(100, mean = 4, sd = 5)"
   ]
  },
  {
   "cell_type": "code",
   "execution_count": 6,
   "metadata": {},
   "outputs": [],
   "source": [
    "# cell 6\n",
    "vecAbove3 <- vecRandom[which(vecRandom > 3)]"
   ]
  },
  {
   "cell_type": "code",
   "execution_count": 7,
   "metadata": {},
   "outputs": [
    {
     "name": "stdout",
     "output_type": "stream",
     "text": [
      "la somme est > 40 \n"
     ]
    }
   ],
   "source": [
    "# cell 7\n",
    "valSum <- sum(vecAbove3)\n",
    "\n",
    "if(valSum > 40){\n",
    "          cat(\"la somme est > 40 \\n\")\n",
    "          }else if(valSum > 30){\n",
    "          cat(\"la somme est > 30 mais <= 40 \\n\")\n",
    "          }else if(valSum > 20){\n",
    "          cat(\"la somme est > 20 mais <= 30 \\n\")\n",
    "          }else{\n",
    "          cat(\"la somme est < ou egal 20 \\n\")\n",
    "}"
   ]
  },
  {
   "cell_type": "markdown",
   "metadata": {},
   "source": [
    "*__=> Pour aller plus loin:__*\n",
    "\n",
    "vous pouviez aussi obtenir le vecteur vecAbove3 avec la fonction `ifelse()`:"
   ]
  },
  {
   "cell_type": "code",
   "execution_count": 8,
   "metadata": {},
   "outputs": [
    {
     "data": {
      "text/html": [
       "TRUE"
      ],
      "text/latex": [
       "TRUE"
      ],
      "text/markdown": [
       "TRUE"
      ],
      "text/plain": [
       "[1] TRUE"
      ]
     },
     "metadata": {},
     "output_type": "display_data"
    }
   ],
   "source": [
    "#cell 8\n",
    "identical(vecRandom[ifelse(vecRandom >3, TRUE, FALSE)] , vecRandom[which(vecRandom > 3)]) # exemple ici où je compare en plus si le résultat est bien le même"
   ]
  },
  {
   "cell_type": "markdown",
   "metadata": {},
   "source": [
    "---\n",
    "## Exercice 2: création d'une boucle simple\n",
    "\n",
    "- Créez une boucle de 10 itérations `i` qui affiche à chaque itération l’indice `i`.\n",
    "- Calculez au fur et à mesure la somme cumulée des indices dans un vecteur.\n",
    "- Affichez la somme cumulée finale.\n",
    "\n",
    "\n",
    "*__Tip :__*\n",
    "_fonction recommandée : `for()`, `cat()` ou `print()`_"
   ]
  },
  {
   "cell_type": "code",
   "execution_count": 9,
   "metadata": {},
   "outputs": [
    {
     "name": "stdout",
     "output_type": "stream",
     "text": [
      "[1] 1\n",
      "for i:1  ,the sumCumul is: 1\n",
      "[1] 2\n",
      "for i:2  ,the sumCumul is: 3\n",
      "[1] 3\n",
      "for i:3  ,the sumCumul is: 6\n",
      "[1] 4\n",
      "for i:4  ,the sumCumul is: 10\n",
      "[1] 5\n",
      "for i:5  ,the sumCumul is: 15\n",
      "[1] 6\n",
      "for i:6  ,the sumCumul is: 21\n",
      "[1] 7\n",
      "for i:7  ,the sumCumul is: 28\n",
      "[1] 8\n",
      "for i:8  ,the sumCumul is: 36\n",
      "[1] 9\n",
      "for i:9  ,the sumCumul is: 45\n",
      "[1] 10\n",
      "for i:10  ,the sumCumul is: 55\n"
     ]
    }
   ],
   "source": [
    "# cell 9\n",
    "sumCumul <- 0 # initiate the vector\n",
    "\n",
    "for(i in 1:10){\n",
    "  print(i) # good to print the index of the result, we might prefer cat(), see below\n",
    "  sumCumul <- sumCumul + i\n",
    "  cat(paste(\"for i:\", i, \"  ,the sumCumul is: \", sumCumul, \"\\n\", sep=\"\"))\n",
    "}"
   ]
  },
  {
   "cell_type": "code",
   "execution_count": 10,
   "metadata": {},
   "outputs": [
    {
     "name": "stdout",
     "output_type": "stream",
     "text": [
      "[1] 55\n"
     ]
    }
   ],
   "source": [
    "# cell 10\n",
    "# affichage de la somme cumulee finale\n",
    "print(sumCumul)"
   ]
  },
  {
   "cell_type": "markdown",
   "metadata": {},
   "source": [
    "---\n",
    "## Exercice 3: création d'une fonction\n",
    "\n",
    "\n",
    "- Créez une fonction calculSomme qui calcule la somme de deux variables x et y passées en argument.\n",
    "- Testez la fonction.\n",
    "\n",
    "\n",
    "*__Tip :__*_fonction recommandée : `function()`, `return()`_"
   ]
  },
  {
   "cell_type": "code",
   "execution_count": 11,
   "metadata": {},
   "outputs": [],
   "source": [
    "# cell 11\n",
    "calculSomme <- function(x, y){\n",
    "    return(x + y)\n",
    "}"
   ]
  },
  {
   "cell_type": "markdown",
   "metadata": {},
   "source": [
    "-> Test de la fonction avec par exemple 18 et 35:"
   ]
  },
  {
   "cell_type": "code",
   "execution_count": 12,
   "metadata": {},
   "outputs": [
    {
     "data": {
      "text/html": [
       "53"
      ],
      "text/latex": [
       "53"
      ],
      "text/markdown": [
       "53"
      ],
      "text/plain": [
       "[1] 53"
      ]
     },
     "metadata": {},
     "output_type": "display_data"
    }
   ],
   "source": [
    "# cell 12\n",
    "calculSomme(x = 18, y = 35)"
   ]
  },
  {
   "cell_type": "markdown",
   "metadata": {},
   "source": [
    "*__=> Pour aller plus loin:__*\n",
    "\n",
    "Si vous voulez, vous pouvez definir avant un vecteur qui contiendra le resultat de la somme"
   ]
  },
  {
   "cell_type": "code",
   "execution_count": 13,
   "metadata": {},
   "outputs": [
    {
     "data": {
      "text/html": [
       "53"
      ],
      "text/latex": [
       "53"
      ],
      "text/markdown": [
       "53"
      ],
      "text/plain": [
       "[1] 53"
      ]
     },
     "metadata": {},
     "output_type": "display_data"
    }
   ],
   "source": [
    "#cell 13\n",
    "sum_xandy <- NULL\n",
    "calculSomme <- function(x, y){\n",
    "  sum_xandy <- x + y\n",
    "  return(sum_xandy)\n",
    "}\n",
    "sum_xandy <- calculSomme(x = 18, y = 35) # le resultat est stocké dans l'objet sum_xandy qui n'est plus NULL\n",
    "sum_xandy # affichez le resultat"
   ]
  },
  {
   "cell_type": "markdown",
   "metadata": {},
   "source": [
    "Si maintenant, vous voulez répeter l'operation et stocker les resultats dans un vecteur, il faut concatener les resultats dans un vecteur"
   ]
  },
  {
   "cell_type": "code",
   "execution_count": 14,
   "metadata": {},
   "outputs": [
    {
     "name": "stdout",
     "output_type": "stream",
     "text": [
      "[1] 53 55 21\n"
     ]
    }
   ],
   "source": [
    "# cell 14\n",
    "sum_xandy <- NULL\n",
    "calculSomme <- function(x, y){\n",
    "  sum_xandy <- c(sum_xandy, x + y)\n",
    "  return(sum_xandy)\n",
    "}\n",
    "sum_xandy <- calculSomme(x = 18, y = 35)\n",
    "sum_xandy <- calculSomme(x = 20, y = 35)\n",
    "sum_xandy <- calculSomme(x = 18, y = 3)\n",
    "# le resultat est stocké dans l'objet sum_xandy qui n'est plus NULL\n",
    "print(sum_xandy)"
   ]
  },
  {
   "cell_type": "markdown",
   "metadata": {},
   "source": [
    "---\n",
    "## Exercice 4: création d’une fonction avec des tests, utilisation de cette fonction de manière itérative\n"
   ]
  },
  {
   "cell_type": "markdown",
   "metadata": {},
   "source": [
    "- Ecrivez une fonction `calculTarif()` qui prend pour argument un âge et affiche “demi-tarif” si l’âge est inférieur à 12 ans, “tarif sénior” si l’âge est supérieur ou égal à 60 ans et “plein tarif” sinon.\n",
    "- Testez votre fonction pour des personnes de 5, 65, 85, 41, 23 et 47 ans.\n",
    "\n",
    "\n",
    "*__Tip :__*_fonctions recommandées :\n",
    "   `function()`,\n",
    "    `return()`,\n",
    "    `print()`,\n",
    "    `c()`,\n",
    "    `if()`,\n",
    "    `else()`,\n",
    "    `ifelse()`,\n",
    "    `for()`_"
   ]
  },
  {
   "cell_type": "code",
   "execution_count": 15,
   "metadata": {},
   "outputs": [],
   "source": [
    "# cell 15\n",
    "calculTarif <- function(age){\n",
    "    if(age < 12){\n",
    "        print(\"tarif reduit\")\n",
    "    }else if(age >= 60){\n",
    "        print(\"tarif senior\")\n",
    "    }else{\n",
    "        print(\"plein tarif\")\n",
    "    }\n",
    "}"
   ]
  },
  {
   "cell_type": "markdown",
   "metadata": {},
   "source": [
    "-> test de la fonction"
   ]
  },
  {
   "cell_type": "code",
   "execution_count": 16,
   "metadata": {},
   "outputs": [
    {
     "name": "stdout",
     "output_type": "stream",
     "text": [
      "[1] \"tarif reduit\"\n",
      "[1] \"tarif senior\"\n",
      "[1] \"tarif senior\"\n",
      "[1] \"plein tarif\"\n",
      "[1] \"plein tarif\"\n",
      "[1] \"plein tarif\"\n"
     ]
    }
   ],
   "source": [
    "# cell 16\n",
    "for(i in c(5, 65, 85, 41, 23, 47)){\n",
    "    calculTarif(age = i)\n",
    "}"
   ]
  },
  {
   "cell_type": "markdown",
   "metadata": {},
   "source": [
    "---\n",
    "## Exercice 5: création d’une fonction avec compteur de boucle\n",
    "\n",
    "- Ecrivez une fonction `sumCumul()` qui calcule la somme cumulée des nombres entiers compris entre deux bornes a et b que vous mettrez en arguments start et end.\n",
    "\n",
    "- De plus, toutes les 10 boucles, vous affichez la valeur de l’entier ajouté, sinon vous affichez un point ..\n",
    "\n",
    "- Testez la fonction avec les entiers entre 3 et 55 par exemple.\n",
    "\n",
    "- Améliorez la fonction en ajoutant un paramètre \"interval\" correspondant à l’incrément de boucles entre les affichages des entiers (dans la fonction précédente, cet incrément était de 10)\n",
    "\n",
    "- Testez la fonction avec les entiers entre 3 et 55 et un intervalle de 15 par exemple.\n",
    "\n",
    "*__Tip :__*_fonctions recommandées : ` \n",
    "    function()`,\n",
    "    `return()`,\n",
    "    `cat()`,\n",
    "    `seq()`_"
   ]
  },
  {
   "cell_type": "code",
   "execution_count": 17,
   "metadata": {},
   "outputs": [],
   "source": [
    "# cell 17\n",
    "sumCumul <- function(start,end){\n",
    "         temp <- 0\n",
    "         for(i in start:end){\n",
    "               temp <- temp + i\n",
    "               if (i %in% seq(start, end, 10)){\n",
    "                  cat(i)\n",
    "                  }\n",
    "                  else {cat(\".\")}\n",
    "         }            \n",
    "         cat(\"\\n\")\n",
    "         cat(paste(\"le total cumule est de: \"), temp, \"\\n\",sep=\"\")\n",
    "         return(temp)\n",
    "}"
   ]
  },
  {
   "cell_type": "markdown",
   "metadata": {},
   "source": [
    "-> test de la fonction avec les entiers 3 et 55:"
   ]
  },
  {
   "cell_type": "code",
   "execution_count": 18,
   "metadata": {},
   "outputs": [
    {
     "name": "stdout",
     "output_type": "stream",
     "text": [
      "3.........13.........23.........33.........43.........53..\n",
      "le total cumule est de: 1537\n"
     ]
    }
   ],
   "source": [
    "# cell 18\n",
    "res <- sumCumul(3, 55)"
   ]
  },
  {
   "cell_type": "markdown",
   "metadata": {},
   "source": [
    "*__=> Pour aller plus loin:__*\n",
    "\n",
    "Voici la fonction ameliorée avec un intervalle en argument:"
   ]
  },
  {
   "cell_type": "code",
   "execution_count": 19,
   "metadata": {},
   "outputs": [],
   "source": [
    "# cell 19\n",
    "sumCumul <- function(start,end, interval){\n",
    "         temp <- 0\n",
    "         for(i in start:end){\n",
    "               temp <- temp + i\n",
    "               if (i %in% seq(start,end,interval)){\n",
    "                  cat(i)\n",
    "                  }\n",
    "                  else {cat(\".\")}\n",
    "         }            \n",
    "         cat(\"\\n\")\n",
    "         cat(paste(\"le total cumule est de: \"), temp, \"\\n\",sep=\"\")\n",
    "         return(temp)\n",
    "}"
   ]
  },
  {
   "cell_type": "code",
   "execution_count": 20,
   "metadata": {},
   "outputs": [
    {
     "name": "stdout",
     "output_type": "stream",
     "text": [
      "3..............18..............33..............48.......\n",
      "le total cumule est de: 1537\n"
     ]
    }
   ],
   "source": [
    "#cell 20\n",
    "res <- sumCumul(3, 55, 15)"
   ]
  },
  {
   "cell_type": "code",
   "execution_count": 21,
   "metadata": {},
   "outputs": [
    {
     "name": "stdout",
     "output_type": "stream",
     "text": [
      "3...................23...................43............\n",
      "le total cumule est de: 1537\n"
     ]
    }
   ],
   "source": [
    "#cell 21\n",
    "res <- sumCumul(3, 55, 20)"
   ]
  },
  {
   "cell_type": "markdown",
   "metadata": {},
   "source": [
    "<div class=\"alert alert-block alert-warning\"><b>Warning:</b><br>\n",
    " Don't forget to save you notebook and export a copy as an <b>html</b> file as well <br>\n",
    "- Open \"File\" in the Menu<br>\n",
    "- Select \"Export Notebook As\"<br>\n",
    "- Export notebook as HTML<br>\n",
    "- You can then open it in your browser even without being connected to a JupyterLab interface!\n",
    "</div>"
   ]
  },
  {
   "cell_type": "markdown",
   "metadata": {},
   "source": [
    "***\n",
    "***\n",
    "## Useful commands\n",
    "<div class=\"alert alert-block alert-info\"> \n",
    "    \n",
    "- <kbd>CTRL</kbd>+<kbd>S</kbd> : save notebook<br>    \n",
    "- <kbd>CTRL</kbd>+<kbd>ENTER</kbd> : Run Cell<br>  \n",
    "- <kbd>SHIFT</kbd>+<kbd>ENTER</kbd> : Run Cell and Select Next<br>   \n",
    "- <kbd>ALT</kbd>+<kbd>ENTER</kbd> : Run Cell and Insert Below<br>   \n",
    "- <kbd>ESC</kbd>+<kbd>y</kbd> : Change to *Code* Cell Type<br>  \n",
    "- <kbd>ESC</kbd>+<kbd>m</kbd> : Change to *Markdown* Cell Type<br> \n",
    "- <kbd>ESC</kbd>+<kbd>r</kbd> : Change to *Raw* Cell Type<br>    \n",
    "- <kbd>ESC</kbd>+<kbd>a</kbd> : Create Cell Above<br> \n",
    "- <kbd>ESC</kbd>+<kbd>b</kbd> : Create Cell Below<br> \n",
    "\n",
    "<em>  \n",
    "To make nice html reports with markdown: <a href=\"https://dillinger.io/\" title=\"dillinger.io\">html visualization tool 1</a> or <a href=\"https://stackedit.io/app#\" title=\"stackedit.io\">html visualization tool 2</a>, <a href=\"https://www.tablesgenerator.com/markdown_tables\" title=\"tablesgenerator.com\">to draw nice tables</a>, and the <a href=\"https://medium.com/analytics-vidhya/the-ultimate-markdown-guide-for-jupyter-notebook-d5e5abf728fd\" title=\"Ultimate guide\">Ultimate guide</a>. <br>\n",
    "Further reading on JupyterLab notebooks: <a href=\"https://jupyterlab.readthedocs.io/en/latest/user/notebook.html\" title=\"Jupyter Lab\">Jupyter Lab documentation</a>.<br>   \n",
    "</em>    \n",
    " \n",
    "</div>"
   ]
  },
  {
   "cell_type": "markdown",
   "metadata": {},
   "source": [
    "---\n",
    "---\n",
    "\n",
    "## <mark>Check list des actions avant la prochaine session R:<mark>\n",
    "\n",
    "_Pour cocher les cases, ouvrez la cellule du notebook et remplacez l'espace entre les crochets par un `x` lorsque l'action est effectuée_\n",
    "\n",
    "[ ] relire le cours et revoir les différents supports dont diapos, scripts et notebooks (practice et tuto) de la session 6\n",
    "       \n",
    "[ ] finir l'atelier#1 de la partie II RNASeq du Fil Rouge: en binôme, <mark> notebook à rendre pour le 21/10 12h00 </mark> sur moodle dans la section \"Fil Rouge\"\n",
    "    \n",
    "[ ] atelier#2 de la partie II RNASeq du Fil Rouge: en binôme, évaluation par les pairs des notebooks de 3 autres binômes <mark> pour le 31/10 minuit </mark> sur moodle dans la section \"Fil Rouge\"\n",
    "\n",
    "[ ] partie III RNASeq du Fil Rouge: statistiues descriptives, rendu avec le même binôme que pour l'atelier sur moodle <mark> pour le 08/11 minuit </mark>"
   ]
  }
 ],
 "metadata": {
  "kernelspec": {
   "display_name": "R",
   "language": "R",
   "name": "ir"
  },
  "language_info": {
   "codemirror_mode": "r",
   "file_extension": ".r",
   "mimetype": "text/x-r-source",
   "name": "R",
   "pygments_lexer": "r",
   "version": "4.0.5"
  }
 },
 "nbformat": 4,
 "nbformat_minor": 4
}
