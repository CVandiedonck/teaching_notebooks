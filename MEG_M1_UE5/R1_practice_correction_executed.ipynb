{
 "cells": [
  {
   "cell_type": "markdown",
   "metadata": {},
   "source": [
    "# __R Session n°1 - practice : version with corrections__\n",
    "M1 MEG UE5 - Claire Vandiedonck\n",
    "***\n",
    "\n",
    "__*Programme couvert:*__\n",
    "\n",
    "- Assignation de variables, utilisation des fonctions built-in de R.\n",
    "- Les vecteurs et leur manipulation.\n"
   ]
  },
  {
   "cell_type": "markdown",
   "metadata": {},
   "source": [
    "---\n",
    "    \n",
    "**Conseils**    \n",
    "> Les exercices proposés sont donnés dans un ordre progressif qui suit celui du diaporama associé. Ils ont des niveaux de difficulté variable. Pour chaque exercice, des fonctions R vous sont suggérées. N’hésitez pas à consulter leur menu d’aide en tapant soit `?nom_fonction`, soit `help(nom_fonction)`. Vous pouvez parvenir aux mêmes résultats avec d’autres commandes. Les commandes les plus courtes sont en général les meilleures. Une correction détaillée sera fournie.\n",
    "\n",
    "> Vous pouvez réaliser ces exercices directement dans ce notebook sur `adenine` en indiquant votre code dans les cellules laissées libres. Pour ajouter une nouvelle cellule, cliquez simplement sur le `+` dans le menu en haut à gauche du notebook (cf. rappels sur les notebooks en bas de ce notebook). Vous pouvez mettre plusieurs lignes de code aussi par cellule.\n",
    "> Pour executer les cellules, cliquez sur `Shift+Enter`. Executez les dans le bon ordre.\n",
    "> Remarque: dans un notebook jupyter, par défaut chaque élément d'un vecteur est affiché sur une ligne différente numérotée. Si vous souhaitez afficher le vecteur de façon plus classique, c'est à dire en ligne, tel qu'il apparait dans R, il est nécessaire d'utiliser la fonction `print()` -> voir dans cet exemple avec un vecteur contenant les deux valeurs numériques 1 et 10.\n"
   ]
  },
  {
   "cell_type": "code",
   "execution_count": 1,
   "metadata": {},
   "outputs": [
    {
     "data": {
      "text/html": [
       "<style>\n",
       ".list-inline {list-style: none; margin:0; padding: 0}\n",
       ".list-inline>li {display: inline-block}\n",
       ".list-inline>li:not(:last-child)::after {content: \"\\00b7\"; padding: 0 .5ex}\n",
       "</style>\n",
       "<ol class=list-inline><li>1</li><li>10</li></ol>\n"
      ],
      "text/latex": [
       "\\begin{enumerate*}\n",
       "\\item 1\n",
       "\\item 10\n",
       "\\end{enumerate*}\n"
      ],
      "text/markdown": [
       "1. 1\n",
       "2. 10\n",
       "\n",
       "\n"
      ],
      "text/plain": [
       "[1]  1 10"
      ]
     },
     "metadata": {},
     "output_type": "display_data"
    }
   ],
   "source": [
    "my_vector <- c(1, 10) # pour générer le vecteur et l'assigner dans un objet \"my_vector\"\n",
    "my_vector # l'affichage ici montre deux éléments, chacun séparé par un point médian."
   ]
  },
  {
   "cell_type": "code",
   "execution_count": 2,
   "metadata": {},
   "outputs": [
    {
     "name": "stdout",
     "output_type": "stream",
     "text": [
      "[1]  1 10\n"
     ]
    }
   ],
   "source": [
    "print(my_vector) # L'affichage ici montre le vecteur par ligne avec l'indice 1 entre crochets indiquant l'indice de la première valeur de la ligne."
   ]
  },
  {
   "cell_type": "markdown",
   "metadata": {},
   "source": [
    "> Vous pouvez également réaliser ces exercices si vous le préférez dans un terminal ou une console de cet environnement `megm1_ue5_r` sur adenine, ou sur la version rstudio de cet environnement.\n",
    ">\n",
    "> Il est enfin possible de réaliser ces exercices sur votre ordinateur. Dans ce cas, utilisez un editeur de texte avec coloration syntaxique pour votre code (editeur dans Rstudio, ou Tinn-R ou notepad++ par exemple). Sauvegardez vos commandes dans un fichier mes_commandes.R dans le répertoire de votre choix. Exécutez les commandes une par une dans votre console. Vous pouvez ajouter des commentaires qui ne seront pas éxécutés si vous les précédez du caractère « # ».\n",
    "\n",
    ">    "
   ]
  },
  {
   "cell_type": "markdown",
   "metadata": {},
   "source": [
    "---\n",
    "## Avant d'aller plus loin\n",
    "\n",
    "<div class=\"alert alert-block alert-danger\"><b>Attention:</b> \n",
    "Ne travaillez pas directement sur ce notebook pour ne pas le perdre. Dupliquez-le et renommez-le par exemple en ajoutant vos initiales et travaillez sur cette nouvelle copie. Pour ce faire, dans le panneau de gauche, faites un clic droit sur le fichier et sélectionnez \"Duplicate\". Puis, toujours dans la colonne de gauche, faites un clic droit sur cette copie et sélectionnez \"rename\" pour changer le nom. Ouvrez ensuite cette nouvelle version en double cliquant dessus. Vous êtes prêt(e) à démarrer! <br>\n",
    "<br>\n",
    "<b>N'oubliez pas de sauvegarder régulièrement votre notebook</b>: <kbd>Ctrl</kbd> + <kbd>S</kbd>. ou en cliquant sur l'icone 💾 en haut à gauche de votre notebook ou dans le Menu du JupyterLab \"File puis \"Save Notebook\"!\n",
    "</div>"
   ]
  },
  {
   "cell_type": "markdown",
   "metadata": {},
   "source": [
    "<mark> Do not hesitate to try other commands by adding other cells. cf  useful commands at the bottom of the notebook</mark> "
   ]
  },
  {
   "cell_type": "markdown",
   "metadata": {},
   "source": [
    "<div class=\"alert alert-block alert-warning\"><b>Open variable inspector:</b> right click on the notebook and select \"Open Variable Inspector\". A new tab will open. </div>"
   ]
  },
  {
   "cell_type": "markdown",
   "metadata": {},
   "source": [
    "#### 1. Identifiez votre répertoire de travail"
   ]
  },
  {
   "cell_type": "code",
   "execution_count": 3,
   "metadata": {},
   "outputs": [
    {
     "data": {
      "text/html": [
       "'/srv/home/cvandiedonck/megm1_ue5_r/R1'"
      ],
      "text/latex": [
       "'/srv/home/cvandiedonck/megm1\\_ue5\\_r/R1'"
      ],
      "text/markdown": [
       "'/srv/home/cvandiedonck/megm1_ue5_r/R1'"
      ],
      "text/plain": [
       "[1] \"/srv/home/cvandiedonck/megm1_ue5_r/R1\""
      ]
     },
     "metadata": {},
     "output_type": "display_data"
    }
   ],
   "source": [
    "getwd()"
   ]
  },
  {
   "cell_type": "markdown",
   "metadata": {},
   "source": [
    "Si ce répertoire ne vous convient pas, changer le pour un répertoire existant `my_directory`par exemple, avec la commande suivante en spécifiant le chemin relatif ou absolu de votre répertoire:\n",
    "```setwd(\"path/my_directory\")```"
   ]
  },
  {
   "cell_type": "markdown",
   "metadata": {},
   "source": [
    "#### 2.  Identifiez la version R de votre environnement et packages installés."
   ]
  },
  {
   "cell_type": "code",
   "execution_count": 4,
   "metadata": {},
   "outputs": [
    {
     "data": {
      "text/plain": [
       "R version 4.1.3 (2022-03-10)\n",
       "Platform: x86_64-conda-linux-gnu (64-bit)\n",
       "Running under: Ubuntu 18.04.4 LTS\n",
       "\n",
       "Matrix products: default\n",
       "BLAS/LAPACK: /srv/conda/envs/notebook/lib/libopenblasp-r0.3.21.so\n",
       "\n",
       "locale:\n",
       " [1] LC_CTYPE=en_US.UTF-8       LC_NUMERIC=C              \n",
       " [3] LC_TIME=en_US.UTF-8        LC_COLLATE=en_US.UTF-8    \n",
       " [5] LC_MONETARY=en_US.UTF-8    LC_MESSAGES=en_US.UTF-8   \n",
       " [7] LC_PAPER=en_US.UTF-8       LC_NAME=C                 \n",
       " [9] LC_ADDRESS=C               LC_TELEPHONE=C            \n",
       "[11] LC_MEASUREMENT=en_US.UTF-8 LC_IDENTIFICATION=C       \n",
       "\n",
       "attached base packages:\n",
       "[1] stats     graphics  grDevices utils     datasets  methods   base     \n",
       "\n",
       "other attached packages:\n",
       "[1] repr_1.1.4\n",
       "\n",
       "loaded via a namespace (and not attached):\n",
       " [1] fansi_1.0.3     crayon_1.5.1    digest_0.6.29   utf8_1.2.2     \n",
       " [5] IRdisplay_1.1   lifecycle_1.0.2 jsonlite_1.8.0  evaluate_0.16  \n",
       " [9] pillar_1.8.1    rlang_1.0.5     cli_3.4.0       uuid_1.1-0     \n",
       "[13] vctrs_0.4.1     IRkernel_1.2    tools_4.1.3     glue_1.6.2     \n",
       "[17] fastmap_1.1.0   compiler_4.1.3  base64enc_0.1-3 pbdZMQ_0.3-7   \n",
       "[21] htmltools_0.5.3"
      ]
     },
     "metadata": {},
     "output_type": "display_data"
    }
   ],
   "source": [
    "sessionInfo()"
   ]
  },
  {
   "cell_type": "markdown",
   "metadata": {},
   "source": [
    "---\n",
    "---\n",
    "\n",
    "## Exercice 1: création de vecteurs numériques\n",
    "\n",
    "Créez le vecteur `vec1` contenant la suite des entiers de 1 à 12. \n",
    "\n",
    "*__Tip :__*\n",
    "_fonction recommandée : `:`_"
   ]
  },
  {
   "cell_type": "code",
   "execution_count": 5,
   "metadata": {},
   "outputs": [
    {
     "name": "stdout",
     "output_type": "stream",
     "text": [
      " [1]  1  2  3  4  5  6  7  8  9 10 11 12\n"
     ]
    }
   ],
   "source": [
    "vec1 <- 1:12 # ou vec1 <- seq(1, 12)\n",
    "print(vec1)"
   ]
  },
  {
   "cell_type": "markdown",
   "metadata": {},
   "source": [
    "Ajoutez à la fin de ce vecteur les valeurs 16, 17, 18.\n",
    "\n",
    "*__Tip :__*\n",
    "_fonctions recommandées : `:` et `c()`_"
   ]
  },
  {
   "cell_type": "code",
   "execution_count": 6,
   "metadata": {},
   "outputs": [
    {
     "name": "stdout",
     "output_type": "stream",
     "text": [
      " [1]  1  2  3  4  5  6  7  8  9 10 11 12 16 17 18\n"
     ]
    }
   ],
   "source": [
    "vec1 <- c(vec1, c(16, 17, 18))\n",
    "print(vec1)"
   ]
  },
  {
   "cell_type": "markdown",
   "metadata": {},
   "source": [
    "Refaites ces opérations en une seule ligne de commande et affichez ensuite le vecteur `vec1`."
   ]
  },
  {
   "cell_type": "code",
   "execution_count": 7,
   "metadata": {},
   "outputs": [
    {
     "name": "stdout",
     "output_type": "stream",
     "text": [
      " [1]  1  2  3  4  5  6  7  8  9 10 11 12 16 17 18\n"
     ]
    }
   ],
   "source": [
    "vec1 <- c(1:12, c(16, 17, 18))\n",
    "print(vec1)"
   ]
  },
  {
   "cell_type": "markdown",
   "metadata": {},
   "source": [
    "<br>\n",
    "\n",
    "*__=> Pour aller plus loin :__*\n",
    "\n",
    "Verifiez la taille de `vec1`, le type de valeurs contenues ou directement sa structure:"
   ]
  },
  {
   "cell_type": "code",
   "execution_count": 8,
   "metadata": {},
   "outputs": [
    {
     "data": {
      "text/html": [
       "15"
      ],
      "text/latex": [
       "15"
      ],
      "text/markdown": [
       "15"
      ],
      "text/plain": [
       "[1] 15"
      ]
     },
     "metadata": {},
     "output_type": "display_data"
    },
    {
     "data": {
      "text/html": [
       "'numeric'"
      ],
      "text/latex": [
       "'numeric'"
      ],
      "text/markdown": [
       "'numeric'"
      ],
      "text/plain": [
       "[1] \"numeric\""
      ]
     },
     "metadata": {},
     "output_type": "display_data"
    },
    {
     "data": {
      "text/html": [
       "'numeric'"
      ],
      "text/latex": [
       "'numeric'"
      ],
      "text/markdown": [
       "'numeric'"
      ],
      "text/plain": [
       "[1] \"numeric\""
      ]
     },
     "metadata": {},
     "output_type": "display_data"
    },
    {
     "name": "stdout",
     "output_type": "stream",
     "text": [
      " num [1:15] 1 2 3 4 5 6 7 8 9 10 ...\n"
     ]
    }
   ],
   "source": [
    "length(vec1)\n",
    "class(vec1)\n",
    "mode(vec1)\n",
    "str(vec1)"
   ]
  },
  {
   "cell_type": "markdown",
   "metadata": {},
   "source": [
    "---\n",
    "Créez le vecteur `vec2` contenant les valeurs suivantes : 0, 0.5, 1.0, 1.5, 2.0, 2.5, 3.0, 3.5, 4.0, 4.5, 5.0.\n",
    "\n",
    "Réalisez cette action au moins de deux façons différentes.\n",
    "\n",
    "*__Tip :__*\n",
    "_fonctions recommandées : `c()` et `seq()`_\n"
   ]
  },
  {
   "cell_type": "code",
   "execution_count": 9,
   "metadata": {},
   "outputs": [
    {
     "name": "stdout",
     "output_type": "stream",
     "text": [
      " [1] 0.0 0.5 1.0 1.5 2.0 2.5 3.0 3.5 4.0 4.5 5.0\n"
     ]
    }
   ],
   "source": [
    "vec2 <- c(0, 0.5, 1, 1.5, 2, 2.5, 3, 3.5, 4, 4.5, 5)\n",
    "print(vec2)"
   ]
  },
  {
   "cell_type": "markdown",
   "metadata": {},
   "source": [
    "ou pour s'amuser:"
   ]
  },
  {
   "cell_type": "code",
   "execution_count": 10,
   "metadata": {},
   "outputs": [
    {
     "name": "stdout",
     "output_type": "stream",
     "text": [
      " [1] 0.0 0.5 1.0 1.5 2.0 2.5 3.0 3.5 4.0 4.5 5.0\n"
     ]
    }
   ],
   "source": [
    "vec2 <- c(0, (1:10)/2)\n",
    "print(vec2)"
   ]
  },
  {
   "cell_type": "markdown",
   "metadata": {},
   "source": [
    "ou mieux encore:"
   ]
  },
  {
   "cell_type": "code",
   "execution_count": 11,
   "metadata": {},
   "outputs": [
    {
     "name": "stdout",
     "output_type": "stream",
     "text": [
      " [1] 0.0 0.5 1.0 1.5 2.0 2.5 3.0 3.5 4.0 4.5 5.0\n"
     ]
    }
   ],
   "source": [
    "vec2 <- seq(from = 0, to = 5, by = 0.5)\n",
    "print(vec2)"
   ]
  },
  {
   "cell_type": "markdown",
   "metadata": {},
   "source": [
    "ou la commande precedente sans préciser `from`, `to` et `by`, si vous respectez l'ordre des arguments:"
   ]
  },
  {
   "cell_type": "code",
   "execution_count": 12,
   "metadata": {},
   "outputs": [
    {
     "name": "stdout",
     "output_type": "stream",
     "text": [
      " [1] 0.0 0.5 1.0 1.5 2.0 2.5 3.0 3.5 4.0 4.5 5.0\n"
     ]
    }
   ],
   "source": [
    "vec2 <- seq(0, 5, 0.5)# la meilleure solution ici \n",
    "print(vec2)"
   ]
  },
  {
   "cell_type": "markdown",
   "metadata": {},
   "source": [
    "<br>\n",
    "\n",
    "*__=> Pour aller plus loin :__*\n",
    "\n",
    "Vérification qu'il s'agit du meme vecteur en testant l'égailité avec `==`."
   ]
  },
  {
   "cell_type": "code",
   "execution_count": 13,
   "metadata": {},
   "outputs": [
    {
     "data": {
      "text/html": [
       "<style>\n",
       ".list-inline {list-style: none; margin:0; padding: 0}\n",
       ".list-inline>li {display: inline-block}\n",
       ".list-inline>li:not(:last-child)::after {content: \"\\00b7\"; padding: 0 .5ex}\n",
       "</style>\n",
       "<ol class=list-inline><li>TRUE</li><li>TRUE</li><li>TRUE</li><li>TRUE</li><li>TRUE</li><li>TRUE</li><li>TRUE</li><li>TRUE</li><li>TRUE</li><li>TRUE</li><li>TRUE</li></ol>\n"
      ],
      "text/latex": [
       "\\begin{enumerate*}\n",
       "\\item TRUE\n",
       "\\item TRUE\n",
       "\\item TRUE\n",
       "\\item TRUE\n",
       "\\item TRUE\n",
       "\\item TRUE\n",
       "\\item TRUE\n",
       "\\item TRUE\n",
       "\\item TRUE\n",
       "\\item TRUE\n",
       "\\item TRUE\n",
       "\\end{enumerate*}\n"
      ],
      "text/markdown": [
       "1. TRUE\n",
       "2. TRUE\n",
       "3. TRUE\n",
       "4. TRUE\n",
       "5. TRUE\n",
       "6. TRUE\n",
       "7. TRUE\n",
       "8. TRUE\n",
       "9. TRUE\n",
       "10. TRUE\n",
       "11. TRUE\n",
       "\n",
       "\n"
      ],
      "text/plain": [
       " [1] TRUE TRUE TRUE TRUE TRUE TRUE TRUE TRUE TRUE TRUE TRUE"
      ]
     },
     "metadata": {},
     "output_type": "display_data"
    }
   ],
   "source": [
    "c(0, 0.5, 1, 1.5, 2, 2.5, 3, 3.5, 4, 4.5, 5) == seq(0, 5, 0.5)"
   ]
  },
  {
   "cell_type": "markdown",
   "metadata": {},
   "source": [
    "ou je peux compter le nombre d'elements identiques dans les 2 vecteurs :"
   ]
  },
  {
   "cell_type": "code",
   "execution_count": 14,
   "metadata": {},
   "outputs": [
    {
     "data": {
      "text/html": [
       "11"
      ],
      "text/latex": [
       "11"
      ],
      "text/markdown": [
       "11"
      ],
      "text/plain": [
       "[1] 11"
      ]
     },
     "metadata": {},
     "output_type": "display_data"
    }
   ],
   "source": [
    "sum(as.integer(c(0, 0.5, 1, 1.5, 2, 2.5, 3, 3.5, 4, 4.5, 5) == seq(0, 5, 0.5)))"
   ]
  },
  {
   "cell_type": "markdown",
   "metadata": {},
   "source": [
    "ou avec la fonction `table()`:"
   ]
  },
  {
   "cell_type": "code",
   "execution_count": 15,
   "metadata": {},
   "outputs": [
    {
     "data": {
      "text/plain": [
       "\n",
       "TRUE \n",
       "  11 "
      ]
     },
     "metadata": {},
     "output_type": "display_data"
    }
   ],
   "source": [
    "table(c(0, 0.5, 1, 1.5, 2, 2.5, 3, 3.5, 4, 4.5, 5) == seq(0, 5, 0.5))"
   ]
  },
  {
   "cell_type": "code",
   "execution_count": 16,
   "metadata": {},
   "outputs": [
    {
     "data": {
      "text/html": [
       "TRUE"
      ],
      "text/latex": [
       "TRUE"
      ],
      "text/markdown": [
       "TRUE"
      ],
      "text/plain": [
       "[1] TRUE"
      ]
     },
     "metadata": {},
     "output_type": "display_data"
    }
   ],
   "source": [
    "identical(c(0, 0.5, 1, 1.5, 2, 2.5, 3, 3.5, 4, 4.5, 5), seq(0, 5, 0.5))"
   ]
  },
  {
   "cell_type": "markdown",
   "metadata": {},
   "source": [
    "---\n",
    "## Exercice 2 : manipulation de données numériques\n",
    "Effectuez l’opération suivante : 4850 / 26. Affichez le résultat avec seulement 2 ou 3 décimales.\n",
    "\n",
    "Existe-t-il d’autres fonctions R permettant de réaliser une réduction de décimales ? Répondez à cette question en écrivant du texte dans une cellule de commentaires au format Markdown. Vous pouvez ensuite ajouter une cellule de code pour montrer des exemples. \n",
    "\n",
    "*__Tip :__*\n",
    "_fonctions recommandées : `round()` et `help()`_\n"
   ]
  },
  {
   "cell_type": "code",
   "execution_count": 17,
   "metadata": {},
   "outputs": [
    {
     "data": {
      "text/html": [
       "186.538461538462"
      ],
      "text/latex": [
       "186.538461538462"
      ],
      "text/markdown": [
       "186.538461538462"
      ],
      "text/plain": [
       "[1] 186.5385"
      ]
     },
     "metadata": {},
     "output_type": "display_data"
    }
   ],
   "source": [
    "4850/26"
   ]
  },
  {
   "cell_type": "code",
   "execution_count": 18,
   "metadata": {},
   "outputs": [
    {
     "data": {
      "text/html": [
       "186.54"
      ],
      "text/latex": [
       "186.54"
      ],
      "text/markdown": [
       "186.54"
      ],
      "text/plain": [
       "[1] 186.54"
      ]
     },
     "metadata": {},
     "output_type": "display_data"
    },
    {
     "data": {
      "text/html": [
       "186.538"
      ],
      "text/latex": [
       "186.538"
      ],
      "text/markdown": [
       "186.538"
      ],
      "text/plain": [
       "[1] 186.538"
      ]
     },
     "metadata": {},
     "output_type": "display_data"
    }
   ],
   "source": [
    "#seulement 2 ou 3 décimales\n",
    "round(4850/26, 2)\n",
    "round(4850/26, 3)"
   ]
  },
  {
   "cell_type": "code",
   "execution_count": 19,
   "metadata": {
    "tags": []
   },
   "outputs": [
    {
     "data": {
      "text/html": [
       "\n",
       "<table width=\"100%\" summary=\"page for Round {base}\"><tr><td>Round {base}</td><td style=\"text-align: right;\">R Documentation</td></tr></table>\n",
       "\n",
       "<h2>Rounding of Numbers</h2>\n",
       "\n",
       "<h3>Description</h3>\n",
       "\n",
       "<p><code>ceiling</code> takes a single numeric argument <code>x</code> and returns a\n",
       "numeric vector containing the smallest integers not less than the\n",
       "corresponding elements of <code>x</code>.\n",
       "</p>\n",
       "<p><code>floor</code> takes a single numeric argument <code>x</code> and returns a\n",
       "numeric vector containing the largest integers not greater than the\n",
       "corresponding elements of <code>x</code>.\n",
       "</p>\n",
       "<p><code>trunc</code> takes a single numeric argument <code>x</code> and returns a\n",
       "numeric vector containing the integers formed by truncating the values in\n",
       "<code>x</code> toward <code>0</code>.\n",
       "</p>\n",
       "<p><code>round</code> rounds the values in its first argument to the specified\n",
       "number of decimal places (default 0).  See &lsquo;Details&rsquo; about\n",
       "&ldquo;round to even&rdquo; when rounding off a 5.\n",
       "</p>\n",
       "<p><code>signif</code> rounds the values in its first argument to the specified\n",
       "number of significant digits.   Hence, for <code>numeric</code> <code>x</code>,\n",
       "<code>signif(x, dig)</code> is the same as <code>round(x, dig - ceiling(log10(abs(x))))</code>.\n",
       "For <code>complex</code> <code>x</code>, this is not the case, \n",
       "see the &lsquo;Details&rsquo;.\n",
       "</p>\n",
       "\n",
       "\n",
       "<h3>Usage</h3>\n",
       "\n",
       "<pre>\n",
       "ceiling(x)\n",
       "floor(x)\n",
       "trunc(x, ...)\n",
       "\n",
       "round(x, digits = 0)\n",
       "signif(x, digits = 6)\n",
       "</pre>\n",
       "\n",
       "\n",
       "<h3>Arguments</h3>\n",
       "\n",
       "<table summary=\"R argblock\">\n",
       "<tr valign=\"top\"><td><code>x</code></td>\n",
       "<td>\n",
       "<p>a numeric vector.  Or, for <code>round</code> and <code>signif</code>, a\n",
       "complex vector.</p>\n",
       "</td></tr>\n",
       "<tr valign=\"top\"><td><code>digits</code></td>\n",
       "<td>\n",
       "<p>integer indicating the number of decimal places\n",
       "(<code>round</code>) or significant digits (<code>signif</code>) to be used.\n",
       "Negative values are allowed (see &lsquo;Details&rsquo;).</p>\n",
       "</td></tr>\n",
       "<tr valign=\"top\"><td><code>...</code></td>\n",
       "<td>\n",
       "<p>arguments to be passed to methods.</p>\n",
       "</td></tr>\n",
       "</table>\n",
       "\n",
       "\n",
       "<h3>Details</h3>\n",
       "\n",
       "<p>These are generic functions: methods can be defined for them\n",
       "individually or via the <code>Math</code> group\n",
       "generic.\n",
       "</p>\n",
       "<p>Note that for rounding off a 5, the IEC 60559 standard (see also\n",
       "&lsquo;IEEE 754&rsquo;) is expected to be used, &lsquo;<em>go to the even digit</em>&rsquo;.\n",
       "Therefore <code>round(0.5)</code> is <code>0</code> and <code>round(-1.5)</code> is\n",
       "<code>-2</code>.  However, this is dependent on OS services and on\n",
       "representation error (since e.g. <code>0.15</code> is not represented\n",
       "exactly, the rounding rule applies to the represented number and not\n",
       "to the printed number, and so <code>round(0.15, 1)</code> could be either\n",
       "<code>0.1</code> or <code>0.2</code>).\n",
       "</p>\n",
       "<p>Rounding to a negative number of digits means rounding to a power of\n",
       "ten, so for example <code>round(x, digits = -2)</code> rounds to the nearest\n",
       "hundred.\n",
       "</p>\n",
       "<p>For <code>signif</code> the recognized values of <code>digits</code> are\n",
       "<code>1...22</code>, and non-missing values are rounded to the nearest\n",
       "integer in that range.  Complex numbers are rounded to retain the\n",
       "specified number of digits in the larger of the components.  Each\n",
       "element of the vector is rounded individually, unlike printing.\n",
       "</p>\n",
       "<p>These are all primitive functions.\n",
       "</p>\n",
       "\n",
       "\n",
       "<h3>S4 methods</h3>\n",
       "\n",
       "<p>These are all (internally) S4 generic.\n",
       "</p>\n",
       "<p><code>ceiling</code>, <code>floor</code> and <code>trunc</code> are members of the\n",
       "<code>Math</code> group generic.  As an S4\n",
       "generic, <code>trunc</code> has only one argument.\n",
       "</p>\n",
       "<p><code>round</code> and <code>signif</code> are members of the\n",
       "<code>Math2</code> group generic.\n",
       "</p>\n",
       "\n",
       "\n",
       "<h3>Warning</h3>\n",
       "\n",
       "<p>The realities of computer arithmetic can cause unexpected results,\n",
       "especially with <code>floor</code> and <code>ceiling</code>.  For example, we\n",
       "&lsquo;know&rsquo; that <code>floor(log(x, base = 8))</code> for <code>x = 8</code> is\n",
       "<code>1</code>, but <code>0</code> has been seen on an <span style=\"font-family: Courier New, Courier; color: #666666;\"><b>R</b></span> platform.  It is\n",
       "normally necessary to use a tolerance.\n",
       "</p>\n",
       "<p>Rounding to decimal digits in binary arithmetic is non-trivial (when\n",
       "<code>digits != 0</code>) and may be surprising.  Be aware that most decimal\n",
       "fractions are <em>not</em> exactly representable in binary double precision.\n",
       "In <span style=\"font-family: Courier New, Courier; color: #666666;\"><b>R</b></span> 4.0.0, the algorithm for <code>round(x, d)</code>, for <i>d &gt; 0</i>, has\n",
       "been improved to <em>measure</em> and round &ldquo;to nearest even&rdquo;,\n",
       "contrary to earlier versions of <span style=\"font-family: Courier New, Courier; color: #666666;\"><b>R</b></span> (or also to <code>sprintf()</code>\n",
       "or <code>format()</code> based rounding).\n",
       "</p>\n",
       "\n",
       "\n",
       "<h3>References</h3>\n",
       "\n",
       "<p>Becker, R. A., Chambers, J. M. and Wilks, A. R. (1988)\n",
       "<em>The New S Language</em>.  Wadsworth &amp; Brooks/Cole.\n",
       "</p>\n",
       "<p>The ISO/IEC/IEEE 60559:2011 standard is available for money from\n",
       "<a href=\"https://www.iso.org\">https://www.iso.org</a>.\n",
       "</p>\n",
       "<p>The IEEE 754:2008 standard is more openly documented, e.g, at\n",
       "<a href=\"https://en.wikipedia.org/wiki/IEEE_754\">https://en.wikipedia.org/wiki/IEEE_754</a>.\n",
       "</p>\n",
       "\n",
       "\n",
       "<h3>See Also</h3>\n",
       "\n",
       "<p><code>as.integer</code>.\n",
       "Package <a href=\"https://CRAN.R-project.org/package=round\"><span class=\"pkg\">round</span></a>'s <code>roundX()</code> for several\n",
       "versions or implementations of rounding, including some previous and the\n",
       "current <span style=\"font-family: Courier New, Courier; color: #666666;\"><b>R</b></span> version (as <code>version = \"3d.C\"</code>).\n",
       "</p>\n",
       "\n",
       "\n",
       "<h3>Examples</h3>\n",
       "\n",
       "<pre>\n",
       "round(.5 + -2:4) # IEEE / IEC rounding: -2  0  0  2  2  4  4\n",
       "## (this is *good* behaviour -- do *NOT* report it as bug !)\n",
       "\n",
       "( x1 &lt;- seq(-2, 4, by = .5) )\n",
       "round(x1) #-- IEEE / IEC rounding !\n",
       "x1[trunc(x1) != floor(x1)]\n",
       "x1[round(x1) != floor(x1 + .5)]\n",
       "(non.int &lt;- ceiling(x1) != floor(x1))\n",
       "\n",
       "x2 &lt;- pi * 100^(-1:3)\n",
       "round(x2, 3)\n",
       "signif(x2, 3)\n",
       "</pre>\n",
       "\n",
       "<hr /><div style=\"text-align: center;\">[Package <em>base</em> version 4.1.3 ]</div>"
      ],
      "text/latex": [
       "\\inputencoding{utf8}\n",
       "\\HeaderA{Round}{Rounding of Numbers}{Round}\n",
       "\\aliasA{ceiling}{Round}{ceiling}\n",
       "\\aliasA{floor}{Round}{floor}\n",
       "\\aliasA{round}{Round}{round}\n",
       "\\aliasA{signif}{Round}{signif}\n",
       "\\aliasA{trunc}{Round}{trunc}\n",
       "\\keyword{arith}{Round}\n",
       "%\n",
       "\\begin{Description}\\relax\n",
       "\\code{ceiling} takes a single numeric argument \\code{x} and returns a\n",
       "numeric vector containing the smallest integers not less than the\n",
       "corresponding elements of \\code{x}.\n",
       "\n",
       "\\code{floor} takes a single numeric argument \\code{x} and returns a\n",
       "numeric vector containing the largest integers not greater than the\n",
       "corresponding elements of \\code{x}.\n",
       "\n",
       "\\code{trunc} takes a single numeric argument \\code{x} and returns a\n",
       "numeric vector containing the integers formed by truncating the values in\n",
       "\\code{x} toward \\code{0}.\n",
       "\n",
       "\\code{round} rounds the values in its first argument to the specified\n",
       "number of decimal places (default 0).  See `Details' about\n",
       "``round to even'' when rounding off a 5.\n",
       "\n",
       "\\code{signif} rounds the values in its first argument to the specified\n",
       "number of significant digits.   Hence, for \\code{numeric} \\code{x},\n",
       "\\code{signif(x, dig)} is the same as \\code{round(x, dig - ceiling(log10(abs(x))))}.\n",
       "For \\code{\\LinkA{complex}{complex}} \\code{x}, this is not the case, \n",
       "see the `Details'.\n",
       "\\end{Description}\n",
       "%\n",
       "\\begin{Usage}\n",
       "\\begin{verbatim}\n",
       "ceiling(x)\n",
       "floor(x)\n",
       "trunc(x, ...)\n",
       "\n",
       "round(x, digits = 0)\n",
       "signif(x, digits = 6)\n",
       "\\end{verbatim}\n",
       "\\end{Usage}\n",
       "%\n",
       "\\begin{Arguments}\n",
       "\\begin{ldescription}\n",
       "\\item[\\code{x}] a numeric vector.  Or, for \\code{round} and \\code{signif}, a\n",
       "complex vector.\n",
       "\n",
       "\\item[\\code{digits}] integer indicating the number of decimal places\n",
       "(\\code{round}) or significant digits (\\code{signif}) to be used.\n",
       "Negative values are allowed (see `Details').\n",
       "\n",
       "\\item[\\code{...}] arguments to be passed to methods.\n",
       "\\end{ldescription}\n",
       "\\end{Arguments}\n",
       "%\n",
       "\\begin{Details}\\relax\n",
       "These are generic functions: methods can be defined for them\n",
       "individually or via the \\code{\\LinkA{Math}{S3groupGeneric}} group\n",
       "generic.\n",
       "\n",
       "Note that for rounding off a 5, the IEC 60559 standard (see also\n",
       "`IEEE 754') is expected to be used, `\\emph{go to the even digit}'.\n",
       "Therefore \\code{round(0.5)} is \\code{0} and \\code{round(-1.5)} is\n",
       "\\code{-2}.  However, this is dependent on OS services and on\n",
       "representation error (since e.g.~\\code{0.15} is not represented\n",
       "exactly, the rounding rule applies to the represented number and not\n",
       "to the printed number, and so \\code{round(0.15, 1)} could be either\n",
       "\\code{0.1} or \\code{0.2}).\n",
       "\n",
       "Rounding to a negative number of digits means rounding to a power of\n",
       "ten, so for example \\code{round(x, digits = -2)} rounds to the nearest\n",
       "hundred.\n",
       "\n",
       "For \\code{signif} the recognized values of \\code{digits} are\n",
       "\\code{1...22}, and non-missing values are rounded to the nearest\n",
       "integer in that range.  Complex numbers are rounded to retain the\n",
       "specified number of digits in the larger of the components.  Each\n",
       "element of the vector is rounded individually, unlike printing.\n",
       "\n",
       "These are all primitive functions.\n",
       "\\end{Details}\n",
       "%\n",
       "\\begin{Section}{S4 methods}\n",
       "These are all (internally) S4 generic.\n",
       "\n",
       "\\code{ceiling}, \\code{floor} and \\code{trunc} are members of the\n",
       "\\code{\\LinkA{Math}{S4groupGeneric}} group generic.  As an S4\n",
       "generic, \\code{trunc} has only one argument.\n",
       "\n",
       "\\code{round} and \\code{signif} are members of the\n",
       "\\code{\\LinkA{Math2}{S4groupGeneric}} group generic.\n",
       "\\end{Section}\n",
       "%\n",
       "\\begin{Section}{Warning}\n",
       "The realities of computer arithmetic can cause unexpected results,\n",
       "especially with \\code{floor} and \\code{ceiling}.  For example, we\n",
       "`know' that \\code{floor(log(x, base = 8))} for \\code{x = 8} is\n",
       "\\code{1}, but \\code{0} has been seen on an \\R{} platform.  It is\n",
       "normally necessary to use a tolerance.\n",
       "\n",
       "Rounding to decimal digits in binary arithmetic is non-trivial (when\n",
       "\\code{digits != 0}) and may be surprising.  Be aware that most decimal\n",
       "fractions are \\emph{not} exactly representable in binary double precision.\n",
       "In \\R{} 4.0.0, the algorithm for \\code{round(x, d)}, for \\eqn{d > 0}{}, has\n",
       "been improved to \\emph{measure} and round ``to nearest even'',\n",
       "contrary to earlier versions of \\R{} (or also to \\code{\\LinkA{sprintf}{sprintf}()}\n",
       "or \\code{\\LinkA{format}{format}()} based rounding).\n",
       "\\end{Section}\n",
       "%\n",
       "\\begin{References}\\relax\n",
       "Becker, R. A., Chambers, J. M. and Wilks, A. R. (1988)\n",
       "\\emph{The New S Language}.  Wadsworth \\& Brooks/Cole.\n",
       "\n",
       "The ISO/IEC/IEEE 60559:2011 standard is available for money from\n",
       "\\url{https://www.iso.org}.\n",
       "\n",
       "The IEEE 754:2008 standard is more openly documented, e.g, at\n",
       "\\url{https://en.wikipedia.org/wiki/IEEE_754}.\n",
       "\\end{References}\n",
       "%\n",
       "\\begin{SeeAlso}\\relax\n",
       "\\code{\\LinkA{as.integer}{as.integer}}.\n",
       "Package \\Rhref{https://CRAN.R-project.org/package=round}{\\pkg{round}}'s \\code{\\LinkA{roundX}{roundX}()} for several\n",
       "versions or implementations of rounding, including some previous and the\n",
       "current \\R{} version (as \\code{version = \"3d.C\"}).\n",
       "\\end{SeeAlso}\n",
       "%\n",
       "\\begin{Examples}\n",
       "\\begin{ExampleCode}\n",
       "round(.5 + -2:4) # IEEE / IEC rounding: -2  0  0  2  2  4  4\n",
       "## (this is *good* behaviour -- do *NOT* report it as bug !)\n",
       "\n",
       "( x1 <- seq(-2, 4, by = .5) )\n",
       "round(x1) #-- IEEE / IEC rounding !\n",
       "x1[trunc(x1) != floor(x1)]\n",
       "x1[round(x1) != floor(x1 + .5)]\n",
       "(non.int <- ceiling(x1) != floor(x1))\n",
       "\n",
       "x2 <- pi * 100^(-1:3)\n",
       "round(x2, 3)\n",
       "signif(x2, 3)\n",
       "\\end{ExampleCode}\n",
       "\\end{Examples}"
      ],
      "text/plain": [
       "Round                   package:base                   R Documentation\n",
       "\n",
       "_\bR_\bo_\bu_\bn_\bd_\bi_\bn_\bg _\bo_\bf _\bN_\bu_\bm_\bb_\be_\br_\bs\n",
       "\n",
       "_\bD_\be_\bs_\bc_\br_\bi_\bp_\bt_\bi_\bo_\bn:\n",
       "\n",
       "     ‘ceiling’ takes a single numeric argument ‘x’ and returns a\n",
       "     numeric vector containing the smallest integers not less than the\n",
       "     corresponding elements of ‘x’.\n",
       "\n",
       "     ‘floor’ takes a single numeric argument ‘x’ and returns a numeric\n",
       "     vector containing the largest integers not greater than the\n",
       "     corresponding elements of ‘x’.\n",
       "\n",
       "     ‘trunc’ takes a single numeric argument ‘x’ and returns a numeric\n",
       "     vector containing the integers formed by truncating the values in\n",
       "     ‘x’ toward ‘0’.\n",
       "\n",
       "     ‘round’ rounds the values in its first argument to the specified\n",
       "     number of decimal places (default 0).  See ‘Details’ about “round\n",
       "     to even” when rounding off a 5.\n",
       "\n",
       "     ‘signif’ rounds the values in its first argument to the specified\n",
       "     number of significant digits.  Hence, for ‘numeric’ ‘x’,\n",
       "     ‘signif(x, dig)’ is the same as ‘round(x, dig -\n",
       "     ceiling(log10(abs(x))))’.  For ‘complex’ ‘x’, this is not the\n",
       "     case, see the ‘Details’.\n",
       "\n",
       "_\bU_\bs_\ba_\bg_\be:\n",
       "\n",
       "     ceiling(x)\n",
       "     floor(x)\n",
       "     trunc(x, ...)\n",
       "     \n",
       "     round(x, digits = 0)\n",
       "     signif(x, digits = 6)\n",
       "     \n",
       "_\bA_\br_\bg_\bu_\bm_\be_\bn_\bt_\bs:\n",
       "\n",
       "       x: a numeric vector.  Or, for ‘round’ and ‘signif’, a complex\n",
       "          vector.\n",
       "\n",
       "  digits: integer indicating the number of decimal places (‘round’) or\n",
       "          significant digits (‘signif’) to be used.  Negative values\n",
       "          are allowed (see ‘Details’).\n",
       "\n",
       "     ...: arguments to be passed to methods.\n",
       "\n",
       "_\bD_\be_\bt_\ba_\bi_\bl_\bs:\n",
       "\n",
       "     These are generic functions: methods can be defined for them\n",
       "     individually or via the ‘Math’ group generic.\n",
       "\n",
       "     Note that for rounding off a 5, the IEC 60559 standard (see also\n",
       "     ‘IEEE 754’) is expected to be used, ‘_go to the even digit_’.\n",
       "     Therefore ‘round(0.5)’ is ‘0’ and ‘round(-1.5)’ is ‘-2’.  However,\n",
       "     this is dependent on OS services and on representation error\n",
       "     (since e.g. ‘0.15’ is not represented exactly, the rounding rule\n",
       "     applies to the represented number and not to the printed number,\n",
       "     and so ‘round(0.15, 1)’ could be either ‘0.1’ or ‘0.2’).\n",
       "\n",
       "     Rounding to a negative number of digits means rounding to a power\n",
       "     of ten, so for example ‘round(x, digits = -2)’ rounds to the\n",
       "     nearest hundred.\n",
       "\n",
       "     For ‘signif’ the recognized values of ‘digits’ are ‘1...22’, and\n",
       "     non-missing values are rounded to the nearest integer in that\n",
       "     range.  Complex numbers are rounded to retain the specified number\n",
       "     of digits in the larger of the components.  Each element of the\n",
       "     vector is rounded individually, unlike printing.\n",
       "\n",
       "     These are all primitive functions.\n",
       "\n",
       "_\bS_\b4 _\bm_\be_\bt_\bh_\bo_\bd_\bs:\n",
       "\n",
       "     These are all (internally) S4 generic.\n",
       "\n",
       "     ‘ceiling’, ‘floor’ and ‘trunc’ are members of the ‘Math’ group\n",
       "     generic.  As an S4 generic, ‘trunc’ has only one argument.\n",
       "\n",
       "     ‘round’ and ‘signif’ are members of the ‘Math2’ group generic.\n",
       "\n",
       "_\bW_\ba_\br_\bn_\bi_\bn_\bg:\n",
       "\n",
       "     The realities of computer arithmetic can cause unexpected results,\n",
       "     especially with ‘floor’ and ‘ceiling’.  For example, we ‘know’\n",
       "     that ‘floor(log(x, base = 8))’ for ‘x = 8’ is ‘1’, but ‘0’ has\n",
       "     been seen on an R platform.  It is normally necessary to use a\n",
       "     tolerance.\n",
       "\n",
       "     Rounding to decimal digits in binary arithmetic is non-trivial\n",
       "     (when ‘digits != 0’) and may be surprising.  Be aware that most\n",
       "     decimal fractions are _not_ exactly representable in binary double\n",
       "     precision.  In R 4.0.0, the algorithm for ‘round(x, d)’, for d >\n",
       "     0, has been improved to _measure_ and round “to nearest even”,\n",
       "     contrary to earlier versions of R (or also to ‘sprintf()’ or\n",
       "     ‘format()’ based rounding).\n",
       "\n",
       "_\bR_\be_\bf_\be_\br_\be_\bn_\bc_\be_\bs:\n",
       "\n",
       "     Becker, R. A., Chambers, J. M. and Wilks, A. R. (1988) _The New S\n",
       "     Language_.  Wadsworth & Brooks/Cole.\n",
       "\n",
       "     The ISO/IEC/IEEE 60559:2011 standard is available for money from\n",
       "     <URL: https://www.iso.org>.\n",
       "\n",
       "     The IEEE 754:2008 standard is more openly documented, e.g, at\n",
       "     <URL: https://en.wikipedia.org/wiki/IEEE_754>.\n",
       "\n",
       "_\bS_\be_\be _\bA_\bl_\bs_\bo:\n",
       "\n",
       "     ‘as.integer’.  Package ‘round’'s ‘roundX()’ for several versions\n",
       "     or implementations of rounding, including some previous and the\n",
       "     current R version (as ‘version = \"3d.C\"’).\n",
       "\n",
       "_\bE_\bx_\ba_\bm_\bp_\bl_\be_\bs:\n",
       "\n",
       "     round(.5 + -2:4) # IEEE / IEC rounding: -2  0  0  2  2  4  4\n",
       "     ## (this is *good* behaviour -- do *NOT* report it as bug !)\n",
       "     \n",
       "     ( x1 <- seq(-2, 4, by = .5) )\n",
       "     round(x1) #-- IEEE / IEC rounding !\n",
       "     x1[trunc(x1) != floor(x1)]\n",
       "     x1[round(x1) != floor(x1 + .5)]\n",
       "     (non.int <- ceiling(x1) != floor(x1))\n",
       "     \n",
       "     x2 <- pi * 100^(-1:3)\n",
       "     round(x2, 3)\n",
       "     signif(x2, 3)\n",
       "     "
      ]
     },
     "metadata": {},
     "output_type": "display_data"
    }
   ],
   "source": [
    "help(round)# identique a ?round"
   ]
  },
  {
   "cell_type": "markdown",
   "metadata": {},
   "source": [
    " <span style=\"color:blue\"> <b>Tip : </b> Je peux masquer le menu d'aide ci-dessus en cliquant sur le côté gauche de la cellule dans la barre bleue</span>"
   ]
  },
  {
   "cell_type": "markdown",
   "metadata": {},
   "source": [
    "__📍 ICI : Ma nouvelle cellule au format Markdown (regardez dans le menu: `Markdown` est affiché au lieu de `Code`__\n",
    "\n",
    "- Je double clique dessus pour l'ouvrir et écrire dedans.\n",
    "\n",
    "- Je passe une ligne dedans pour aller à la ligne.\n",
    "\n",
    "- Pour écrire en gras, je mets un symbole `_` ou `*` de part et d'autre de la phrase. Si je double ces signes, la phrase est en italique.\n",
    "\n",
    "*=> Les autres fonctions de R lues dans le menu help de `round()` que j'aies trouvées sont: `ceiling()`, `floor()`, etc.*"
   ]
  },
  {
   "cell_type": "code",
   "execution_count": 20,
   "metadata": {},
   "outputs": [
    {
     "data": {
      "text/html": [
       "187"
      ],
      "text/latex": [
       "187"
      ],
      "text/markdown": [
       "187"
      ],
      "text/plain": [
       "[1] 187"
      ]
     },
     "metadata": {},
     "output_type": "display_data"
    },
    {
     "data": {
      "text/html": [
       "186"
      ],
      "text/latex": [
       "186"
      ],
      "text/markdown": [
       "186"
      ],
      "text/plain": [
       "[1] 186"
      ]
     },
     "metadata": {},
     "output_type": "display_data"
    }
   ],
   "source": [
    "ceiling(4850/26) # entier immeditament superieur ou egal\n",
    "floor(4850/26)  # entier immediatement inferieur ou egal"
   ]
  },
  {
   "cell_type": "markdown",
   "metadata": {},
   "source": [
    "---\n",
    "## Exercice 3 : création d'un vecteur avec des chaînes de caractères incrémentées\n",
    "Créez le vecteur `vec3` contenant les noms suivants : « individu1 », « individu2 », ... , « individu100».\n",
    "\n",
    "Attention au séparateur utilisé !\n",
    "\n",
    "*__Tip :__*\n",
    "_fonction recommandée : `paste()`_\n"
   ]
  },
  {
   "cell_type": "code",
   "execution_count": 21,
   "metadata": {},
   "outputs": [
    {
     "name": "stdout",
     "output_type": "stream",
     "text": [
      "  [1] \"individu1\"   \"individu2\"   \"individu3\"   \"individu4\"   \"individu5\"  \n",
      "  [6] \"individu6\"   \"individu7\"   \"individu8\"   \"individu9\"   \"individu10\" \n",
      " [11] \"individu11\"  \"individu12\"  \"individu13\"  \"individu14\"  \"individu15\" \n",
      " [16] \"individu16\"  \"individu17\"  \"individu18\"  \"individu19\"  \"individu20\" \n",
      " [21] \"individu21\"  \"individu22\"  \"individu23\"  \"individu24\"  \"individu25\" \n",
      " [26] \"individu26\"  \"individu27\"  \"individu28\"  \"individu29\"  \"individu30\" \n",
      " [31] \"individu31\"  \"individu32\"  \"individu33\"  \"individu34\"  \"individu35\" \n",
      " [36] \"individu36\"  \"individu37\"  \"individu38\"  \"individu39\"  \"individu40\" \n",
      " [41] \"individu41\"  \"individu42\"  \"individu43\"  \"individu44\"  \"individu45\" \n",
      " [46] \"individu46\"  \"individu47\"  \"individu48\"  \"individu49\"  \"individu50\" \n",
      " [51] \"individu51\"  \"individu52\"  \"individu53\"  \"individu54\"  \"individu55\" \n",
      " [56] \"individu56\"  \"individu57\"  \"individu58\"  \"individu59\"  \"individu60\" \n",
      " [61] \"individu61\"  \"individu62\"  \"individu63\"  \"individu64\"  \"individu65\" \n",
      " [66] \"individu66\"  \"individu67\"  \"individu68\"  \"individu69\"  \"individu70\" \n",
      " [71] \"individu71\"  \"individu72\"  \"individu73\"  \"individu74\"  \"individu75\" \n",
      " [76] \"individu76\"  \"individu77\"  \"individu78\"  \"individu79\"  \"individu80\" \n",
      " [81] \"individu81\"  \"individu82\"  \"individu83\"  \"individu84\"  \"individu85\" \n",
      " [86] \"individu86\"  \"individu87\"  \"individu88\"  \"individu89\"  \"individu90\" \n",
      " [91] \"individu91\"  \"individu92\"  \"individu93\"  \"individu94\"  \"individu95\" \n",
      " [96] \"individu96\"  \"individu97\"  \"individu98\"  \"individu99\"  \"individu100\"\n"
     ]
    }
   ],
   "source": [
    "vec3 <- paste(\"individu\", 1:100, sep = \"\")\n",
    "print(vec3)"
   ]
  },
  {
   "cell_type": "markdown",
   "metadata": {},
   "source": [
    "<br>\n",
    "\n",
    "*__=> Pour aller plus loin :__*\n",
    "\n",
    "Je comprends l'alternance de l'utilisation des 2 vecteurs collés => les deux vecteurs `c(\"cas\", \"controle\")` et `1:10` n'ont pas la même longueur.\n",
    "\n",
    "Dans ce cas R recycle le premier vecteur qui est le plus court:"
   ]
  },
  {
   "cell_type": "code",
   "execution_count": 22,
   "metadata": {},
   "outputs": [
    {
     "name": "stdout",
     "output_type": "stream",
     "text": [
      " [1] \"cas_1\"       \"controle_2\"  \"cas_3\"       \"controle_4\"  \"cas_5\"      \n",
      " [6] \"controle_6\"  \"cas_7\"       \"controle_8\"  \"cas_9\"       \"controle_10\"\n"
     ]
    }
   ],
   "source": [
    "print(paste(c(\"cas\",\"controle\"), 1:10, sep = \"_\"))"
   ]
  },
  {
   "cell_type": "markdown",
   "metadata": {},
   "source": [
    "<br>\n",
    "\n",
    "*__=> Pour aller encore plus loin :__*\n",
    "\n",
    "Je comprends l'usage de la fonction `paste0()` (documentée dans la même aide que pour la fonction `paste()`) *(même fonction avec sep=\"\" par défaut)*"
   ]
  },
  {
   "cell_type": "code",
   "execution_count": 23,
   "metadata": {},
   "outputs": [
    {
     "name": "stdout",
     "output_type": "stream",
     "text": [
      "  [1] \"individu1\"   \"individu2\"   \"individu3\"   \"individu4\"   \"individu5\"  \n",
      "  [6] \"individu6\"   \"individu7\"   \"individu8\"   \"individu9\"   \"individu10\" \n",
      " [11] \"individu11\"  \"individu12\"  \"individu13\"  \"individu14\"  \"individu15\" \n",
      " [16] \"individu16\"  \"individu17\"  \"individu18\"  \"individu19\"  \"individu20\" \n",
      " [21] \"individu21\"  \"individu22\"  \"individu23\"  \"individu24\"  \"individu25\" \n",
      " [26] \"individu26\"  \"individu27\"  \"individu28\"  \"individu29\"  \"individu30\" \n",
      " [31] \"individu31\"  \"individu32\"  \"individu33\"  \"individu34\"  \"individu35\" \n",
      " [36] \"individu36\"  \"individu37\"  \"individu38\"  \"individu39\"  \"individu40\" \n",
      " [41] \"individu41\"  \"individu42\"  \"individu43\"  \"individu44\"  \"individu45\" \n",
      " [46] \"individu46\"  \"individu47\"  \"individu48\"  \"individu49\"  \"individu50\" \n",
      " [51] \"individu51\"  \"individu52\"  \"individu53\"  \"individu54\"  \"individu55\" \n",
      " [56] \"individu56\"  \"individu57\"  \"individu58\"  \"individu59\"  \"individu60\" \n",
      " [61] \"individu61\"  \"individu62\"  \"individu63\"  \"individu64\"  \"individu65\" \n",
      " [66] \"individu66\"  \"individu67\"  \"individu68\"  \"individu69\"  \"individu70\" \n",
      " [71] \"individu71\"  \"individu72\"  \"individu73\"  \"individu74\"  \"individu75\" \n",
      " [76] \"individu76\"  \"individu77\"  \"individu78\"  \"individu79\"  \"individu80\" \n",
      " [81] \"individu81\"  \"individu82\"  \"individu83\"  \"individu84\"  \"individu85\" \n",
      " [86] \"individu86\"  \"individu87\"  \"individu88\"  \"individu89\"  \"individu90\" \n",
      " [91] \"individu91\"  \"individu92\"  \"individu93\"  \"individu94\"  \"individu95\" \n",
      " [96] \"individu96\"  \"individu97\"  \"individu98\"  \"individu99\"  \"individu100\"\n"
     ]
    }
   ],
   "source": [
    "vec3 <- paste0(\"individu\", 1:100)\n",
    "print(vec3)"
   ]
  },
  {
   "cell_type": "markdown",
   "metadata": {},
   "source": [
    "On obtient bien un vecteur de longueur 100, c'est à dire contenant 100 éléments:"
   ]
  },
  {
   "cell_type": "code",
   "execution_count": 24,
   "metadata": {},
   "outputs": [
    {
     "data": {
      "text/html": [
       "100"
      ],
      "text/latex": [
       "100"
      ],
      "text/markdown": [
       "100"
      ],
      "text/plain": [
       "[1] 100"
      ]
     },
     "metadata": {},
     "output_type": "display_data"
    }
   ],
   "source": [
    "length(vec3)"
   ]
  },
  {
   "cell_type": "markdown",
   "metadata": {},
   "source": [
    "En revanche, avec l'argument `collapse` en collapsant par un separateur de champs comme \";\", je combine les 100 éléments en un seul :"
   ]
  },
  {
   "cell_type": "code",
   "execution_count": 25,
   "metadata": {},
   "outputs": [
    {
     "name": "stdout",
     "output_type": "stream",
     "text": [
      "[1] \"individu1;individu2;individu3;individu4;individu5;individu6;individu7;individu8;individu9;individu10;individu11;individu12;individu13;individu14;individu15;individu16;individu17;individu18;individu19;individu20;individu21;individu22;individu23;individu24;individu25;individu26;individu27;individu28;individu29;individu30;individu31;individu32;individu33;individu34;individu35;individu36;individu37;individu38;individu39;individu40;individu41;individu42;individu43;individu44;individu45;individu46;individu47;individu48;individu49;individu50;individu51;individu52;individu53;individu54;individu55;individu56;individu57;individu58;individu59;individu60;individu61;individu62;individu63;individu64;individu65;individu66;individu67;individu68;individu69;individu70;individu71;individu72;individu73;individu74;individu75;individu76;individu77;individu78;individu79;individu80;individu81;individu82;individu83;individu84;individu85;individu86;individu87;individu88;individu89;individu90;individu91;individu92;individu93;individu94;individu95;individu96;individu97;individu98;individu99;individu100\"\n"
     ]
    },
    {
     "data": {
      "text/html": [
       "1"
      ],
      "text/latex": [
       "1"
      ],
      "text/markdown": [
       "1"
      ],
      "text/plain": [
       "[1] 1"
      ]
     },
     "metadata": {},
     "output_type": "display_data"
    }
   ],
   "source": [
    "print(paste0(\"individu\", 1:100, collapse = \";\"))\n",
    "length(paste0(\"individu\", 1:100, collapse = \";\"))"
   ]
  },
  {
   "cell_type": "markdown",
   "metadata": {},
   "source": [
    "---\n",
    "## Exercice 4 : création et manipulation de vecteurs de chaînes de caractères\n",
    "Affichez la date du jour. Sauvegardez le résultat dans une variable `dateJour`.\n",
    "\n",
    "Créez la variable `m1` dans laquelle vous assignerez la phrase _« Je me souviendrai longtemps de mon premier cours de R, le .\"_\n",
    "\n",
    "Combinez les variables `dateJour` et `m1` afin d’afficher à l’écran la phrase suivante _« Je me souviendrai longtemps de mon premier cours de R, le YYYY-MM-DD.»_\n",
    "\n",
    "Comptez le nombre de caractères de cette phrase.\n",
    "\n",
    "*__Tip :__*\n",
    "_fonctions recommandées : `Sys.Date()`, `paste()` et `nchar()`_"
   ]
  },
  {
   "cell_type": "code",
   "execution_count": 26,
   "metadata": {},
   "outputs": [
    {
     "data": {
      "text/html": [
       "<time datetime=\"2022-09-19\">2022-09-19</time>"
      ],
      "text/latex": [
       "2022-09-19"
      ],
      "text/markdown": [
       "2022-09-19"
      ],
      "text/plain": [
       "[1] \"2022-09-19\""
      ]
     },
     "metadata": {},
     "output_type": "display_data"
    }
   ],
   "source": [
    "Sys.Date()\n",
    "dateJour <- Sys.Date()"
   ]
  },
  {
   "cell_type": "code",
   "execution_count": 27,
   "metadata": {},
   "outputs": [
    {
     "data": {
      "text/html": [
       "'Je me souviendrai longtemps de mon premier cours de R, le 2022-09-19'"
      ],
      "text/latex": [
       "'Je me souviendrai longtemps de mon premier cours de R, le 2022-09-19'"
      ],
      "text/markdown": [
       "'Je me souviendrai longtemps de mon premier cours de R, le 2022-09-19'"
      ],
      "text/plain": [
       "[1] \"Je me souviendrai longtemps de mon premier cours de R, le 2022-09-19\""
      ]
     },
     "metadata": {},
     "output_type": "display_data"
    },
    {
     "data": {
      "text/html": [
       "68"
      ],
      "text/latex": [
       "68"
      ],
      "text/markdown": [
       "68"
      ],
      "text/plain": [
       "[1] 68"
      ]
     },
     "metadata": {},
     "output_type": "display_data"
    }
   ],
   "source": [
    "m1 <- \"Je me souviendrai longtemps de mon premier cours de R, le\"\n",
    "paste(m1, dateJour, sep = \" \") # ou mettre l'espace séparant la date dans m1\n",
    "nchar(paste(m1, dateJour, sep = \" \"))"
   ]
  },
  {
   "cell_type": "markdown",
   "metadata": {},
   "source": [
    "<br>\n",
    "\n",
    "*__=> Pour aller plus loin :__*\n",
    "\n",
    "Il est possible de coller plusieurs chaînes de caracteres. La proposition anticipe le cours avec les listes."
   ]
  },
  {
   "cell_type": "code",
   "execution_count": 28,
   "metadata": {},
   "outputs": [
    {
     "data": {
      "text/html": [
       "'Mon Sep 19 08:36:20 2022'"
      ],
      "text/latex": [
       "'Mon Sep 19 08:36:20 2022'"
      ],
      "text/markdown": [
       "'Mon Sep 19 08:36:20 2022'"
      ],
      "text/plain": [
       "[1] \"Mon Sep 19 08:36:20 2022\""
      ]
     },
     "metadata": {},
     "output_type": "display_data"
    },
    {
     "data": {
      "text/html": [
       "1"
      ],
      "text/latex": [
       "1"
      ],
      "text/markdown": [
       "1"
      ],
      "text/plain": [
       "[1] 1"
      ]
     },
     "metadata": {},
     "output_type": "display_data"
    },
    {
     "name": "stdout",
     "output_type": "stream",
     "text": [
      " chr \"Mon Sep 19 08:36:20 2022\"\n"
     ]
    }
   ],
   "source": [
    "date()\n",
    "length(date())\n",
    "str(date())"
   ]
  },
  {
   "cell_type": "markdown",
   "metadata": {},
   "source": [
    "Ci-dessus, la structure de l'objet retourné par la fonction `date()` est un vecteur de type chaîne de caractères avec un seul élément. Mais on peut noter des espaces séparant les \"mots\" de cette chaîne de caractères. On peut donc générer un nouvel objet R en séparant chaque item de la chaîne de caractères avec la fonction `strsplit()` et le bon séparateur comme argument."
   ]
  },
  {
   "cell_type": "code",
   "execution_count": 29,
   "metadata": {},
   "outputs": [
    {
     "data": {
      "text/html": [
       "<ol>\n",
       "\t<li><style>\n",
       ".list-inline {list-style: none; margin:0; padding: 0}\n",
       ".list-inline>li {display: inline-block}\n",
       ".list-inline>li:not(:last-child)::after {content: \"\\00b7\"; padding: 0 .5ex}\n",
       "</style>\n",
       "<ol class=list-inline><li>'Mon'</li><li>'Sep'</li><li>'19'</li><li>'08:36:20'</li><li>'2022'</li></ol>\n",
       "</li>\n",
       "</ol>\n"
      ],
      "text/latex": [
       "\\begin{enumerate}\n",
       "\\item \\begin{enumerate*}\n",
       "\\item 'Mon'\n",
       "\\item 'Sep'\n",
       "\\item '19'\n",
       "\\item '08:36:20'\n",
       "\\item '2022'\n",
       "\\end{enumerate*}\n",
       "\n",
       "\\end{enumerate}\n"
      ],
      "text/markdown": [
       "1. 1. 'Mon'\n",
       "2. 'Sep'\n",
       "3. '19'\n",
       "4. '08:36:20'\n",
       "5. '2022'\n",
       "\n",
       "\n",
       "\n",
       "\n",
       "\n"
      ],
      "text/plain": [
       "[[1]]\n",
       "[1] \"Mon\"      \"Sep\"      \"19\"       \"08:36:20\" \"2022\"    \n"
      ]
     },
     "metadata": {},
     "output_type": "display_data"
    }
   ],
   "source": [
    "strsplit(date(), split = \" \")"
   ]
  },
  {
   "cell_type": "markdown",
   "metadata": {},
   "source": [
    "La commande ci-dessus a généré un objet de type \"liste\" avec 1 seul element qui est un vecteur de longueur 5 contenant les chaînes de caractères du vecteur produit par `date()` séparé par un espace.\n",
    "\n",
    "Vous pouvez en verifier la structure avec `str()`."
   ]
  },
  {
   "cell_type": "code",
   "execution_count": 30,
   "metadata": {},
   "outputs": [
    {
     "name": "stdout",
     "output_type": "stream",
     "text": [
      "List of 1\n",
      " $ : chr [1:5] \"Mon\" \"Sep\" \"19\" \"08:36:20\" ...\n"
     ]
    }
   ],
   "source": [
    "str(strsplit(date(), split = \" \"))"
   ]
  },
  {
   "cell_type": "markdown",
   "metadata": {},
   "source": [
    "On peut alors récupérer le 4ème élément de la liste par exemple:"
   ]
  },
  {
   "cell_type": "code",
   "execution_count": 31,
   "metadata": {},
   "outputs": [
    {
     "data": {
      "text/html": [
       "'Je me souviendrai longtemps de mon premier cours de R, le 2022-09-19. Il etait 08:36:20.'"
      ],
      "text/latex": [
       "'Je me souviendrai longtemps de mon premier cours de R, le 2022-09-19. Il etait 08:36:20.'"
      ],
      "text/markdown": [
       "'Je me souviendrai longtemps de mon premier cours de R, le 2022-09-19. Il etait 08:36:20.'"
      ],
      "text/plain": [
       "[1] \"Je me souviendrai longtemps de mon premier cours de R, le 2022-09-19. Il etait 08:36:20.\""
      ]
     },
     "metadata": {},
     "output_type": "display_data"
    }
   ],
   "source": [
    "dateHeure <- unlist(strsplit(date(), split = \" \"))[4] #on recupere le 4eme element de la liste\n",
    "paste(m1, \" \", dateJour, \". Il etait \", dateHeure, \".\", sep = \"\") # on affiche la nouvelle phrase!"
   ]
  },
  {
   "cell_type": "markdown",
   "metadata": {},
   "source": [
    "Vous pouvez aussi utiliser la fonction `cat()` bien adaptée aux chaines de caracteres:"
   ]
  },
  {
   "cell_type": "code",
   "execution_count": 32,
   "metadata": {},
   "outputs": [
    {
     "name": "stdout",
     "output_type": "stream",
     "text": [
      " Date[1:1], format: \"2022-09-19\"\n"
     ]
    },
    {
     "data": {
      "text/html": [
       "'2022-09-19'"
      ],
      "text/latex": [
       "'2022-09-19'"
      ],
      "text/markdown": [
       "'2022-09-19'"
      ],
      "text/plain": [
       "[1] \"2022-09-19\""
      ]
     },
     "metadata": {},
     "output_type": "display_data"
    },
    {
     "name": "stdout",
     "output_type": "stream",
     "text": [
      "Je me souviendrai longtemps de mon premier cours de R, le 2022-09-19 \n"
     ]
    }
   ],
   "source": [
    "str(Sys.Date())# il s'agit d'une valeur temporelle\n",
    "as.character(Sys.Date())# convertit la date en chaîne de caracteres\n",
    "cat(m1, as.character(dateJour), \"\\n\", sep = \" \") # \\n est ajouté pour retourer a la ligne"
   ]
  },
  {
   "cell_type": "markdown",
   "metadata": {
    "tags": []
   },
   "source": [
    "---\n",
    "## Exercice 5 : utilisation d'une constante de R et manipulation de chaînes de caractères\n",
    "Créez la variable `vec4` dans laquelle vous assignerez les 24 lettres de l’alphabet en lettres capitales.\n",
    "\n",
    "Remplacez ensuite par des lettres minuscules dans le vecteur `vec4`  toutes les lettres d’indice impair.\n",
    "\n",
    "Inversez l’odre du vecteur `vec4`. Affichez le vecteur `vec4` ainsi obtenu.\n",
    "\n",
    "*__Tip :__*\n",
    "_constante recommandée: `LETTERS`; fonctions recommandées : `seq()`, `tolower()`, `rev()`_"
   ]
  },
  {
   "cell_type": "code",
   "execution_count": 33,
   "metadata": {},
   "outputs": [
    {
     "name": "stdout",
     "output_type": "stream",
     "text": [
      " [1] \"Z\" \"y\" \"X\" \"w\" \"V\" \"u\" \"T\" \"s\" \"R\" \"q\" \"P\" \"o\" \"N\" \"m\" \"L\" \"k\" \"J\" \"i\" \"H\"\n",
      "[20] \"g\" \"F\" \"e\" \"D\" \"c\" \"B\" \"a\"\n"
     ]
    }
   ],
   "source": [
    "vec4 <- LETTERS\n",
    "vec4[seq(1, length(vec4), 2)] <- tolower(vec4[seq(1, length(vec4), 2)])\n",
    "print(rev(vec4))"
   ]
  },
  {
   "cell_type": "markdown",
   "metadata": {
    "tags": []
   },
   "source": [
    "<br>\n",
    "\n",
    "*__=> Pour aller plus loin :__*\n",
    "\n",
    "Vous auriez pu aussi utiliser la commande `letters` pour génerer les lettres en minuscule.\n",
    "De façon reverse, la fonction `toupper()` transforme les lettres en majuscules"
   ]
  },
  {
   "cell_type": "code",
   "execution_count": 34,
   "metadata": {},
   "outputs": [
    {
     "name": "stdout",
     "output_type": "stream",
     "text": [
      " [1] \"Z\" \"y\" \"X\" \"w\" \"V\" \"u\" \"T\" \"s\" \"R\" \"q\" \"P\" \"o\" \"N\" \"m\" \"L\" \"k\" \"J\" \"i\" \"H\"\n",
      "[20] \"g\" \"F\" \"e\" \"D\" \"c\" \"B\" \"a\"\n"
     ]
    }
   ],
   "source": [
    "vec4 <- tolower(letters)\n",
    "vec4[seq(2, length(vec4), 2)] <- toupper(vec4[seq(2, length(vec4), 2)])\n",
    "print(rev(vec4))"
   ]
  },
  {
   "cell_type": "markdown",
   "metadata": {},
   "source": [
    "---\n",
    "\n",
    "## Exercice 6 : manipulation avancée d'un vecteur\n",
    "Créez un vecteur `vec5` dans lequel vous entrerez les entiers de 1 à 10, en entrant d’abord les valeurs impaires puis les valeurs paires.\n",
    "\n",
    "Ajoutez ensuite, sous forme d’attribut, le nom _« impair »_ ou _« pair »_ à chacune des valeurs de ce vecteur .\n",
    "\n",
    "Réordonnez le vecteur `v5` dans l’ordre croissant des valeurs.\n",
    "\n",
    "Quel est le type de données du vecteur `vec5` ?\n",
    "\n",
    "Affichez à présent les 2ème, 4ème, 9ème , 8ème et 7ème valeurs.\n",
    "\n",
    "Remplacez-les ensuite dans le vecteur `vec5` par les lettres de l’alpahbet du vecteur `vec4` de même indice.\n",
    "\n",
    "Affichez le vecteur `vec5` ainsi obtenu.\n",
    "\n",
    "Quelle est nouveau le type de données du vecteur `vec5` ?\n",
    "\n",
    "*__Tip :__*\n",
    "_fonctions recommandées : `c()`, `seq()`, `sort()`, et `mode()`_"
   ]
  },
  {
   "cell_type": "code",
   "execution_count": 35,
   "metadata": {},
   "outputs": [
    {
     "name": "stdout",
     "output_type": "stream",
     "text": [
      " [1]  1  3  5  7  9  2  4  6  8 10\n"
     ]
    }
   ],
   "source": [
    "vec5 <- c(seq(1, 10, 2), seq(2, 10, 2))\n",
    "print(vec5)"
   ]
  },
  {
   "cell_type": "code",
   "execution_count": 36,
   "metadata": {},
   "outputs": [
    {
     "name": "stdout",
     "output_type": "stream",
     "text": [
      "impair impair impair impair impair   pair   pair   pair   pair   pair \n",
      "     1      3      5      7      9      2      4      6      8     10 \n"
     ]
    }
   ],
   "source": [
    "names(vec5) <- c(rep(\"impair\", 5), rep(\"pair\", 5))\n",
    "print(vec5)"
   ]
  },
  {
   "cell_type": "code",
   "execution_count": 37,
   "metadata": {},
   "outputs": [
    {
     "name": "stdout",
     "output_type": "stream",
     "text": [
      "impair   pair impair   pair impair   pair impair   pair impair   pair \n",
      "     1      2      3      4      5      6      7      8      9     10 \n"
     ]
    },
    {
     "data": {
      "text/html": [
       "'numeric'"
      ],
      "text/latex": [
       "'numeric'"
      ],
      "text/markdown": [
       "'numeric'"
      ],
      "text/plain": [
       "[1] \"numeric\""
      ]
     },
     "metadata": {},
     "output_type": "display_data"
    },
    {
     "data": {
      "text/html": [
       "'numeric'"
      ],
      "text/latex": [
       "'numeric'"
      ],
      "text/markdown": [
       "'numeric'"
      ],
      "text/plain": [
       "[1] \"numeric\""
      ]
     },
     "metadata": {},
     "output_type": "display_data"
    }
   ],
   "source": [
    "vec5 <- sort(vec5)\n",
    "print(vec5)\n",
    "mode(vec5)\n",
    "class(vec5)"
   ]
  },
  {
   "cell_type": "code",
   "execution_count": 38,
   "metadata": {},
   "outputs": [
    {
     "name": "stdout",
     "output_type": "stream",
     "text": [
      "  pair   pair impair   pair impair \n",
      "     2      4      9      8      7 \n",
      "impair   pair impair   pair impair   pair impair   pair impair   pair \n",
      "   \"1\"    \"B\"    \"3\"    \"D\"    \"5\"    \"6\"    \"g\"    \"H\"    \"i\"   \"10\" \n"
     ]
    },
    {
     "data": {
      "text/html": [
       "'character'"
      ],
      "text/latex": [
       "'character'"
      ],
      "text/markdown": [
       "'character'"
      ],
      "text/plain": [
       "[1] \"character\""
      ]
     },
     "metadata": {},
     "output_type": "display_data"
    },
    {
     "data": {
      "text/html": [
       "'character'"
      ],
      "text/latex": [
       "'character'"
      ],
      "text/markdown": [
       "'character'"
      ],
      "text/plain": [
       "[1] \"character\""
      ]
     },
     "metadata": {},
     "output_type": "display_data"
    }
   ],
   "source": [
    "print(vec5[c(2, 4, 9:7)])\n",
    "vec5[c(2, 4, 9:7)] <- vec4[c(2, 4, 9:7)]\n",
    "print(vec5)\n",
    "mode(vec5)\n",
    "class(vec5)"
   ]
  },
  {
   "cell_type": "markdown",
   "metadata": {},
   "source": [
    "=> Vous constaterez qu'en ajoutant les lettres du vecteur vec4, le vecteur vec5 qui était numérique a été forcé (\"coerced\") vers un type \"chaînes de caractères\"\n",
    "\n",
    "---"
   ]
  },
  {
   "cell_type": "markdown",
   "metadata": {},
   "source": [
    "## Exercice 7 : tirage aléatoire et statistiques descriptives de données numériques\n",
    "Tirez aléatoirement 10 nombres dans un ensemble de valeurs comprises entre 1 et 100.\n",
    "\n",
    "*__Tip :__*\n",
    "_fonction recommandée : `sample()`_"
   ]
  },
  {
   "cell_type": "code",
   "execution_count": 39,
   "metadata": {},
   "outputs": [
    {
     "name": "stdout",
     "output_type": "stream",
     "text": [
      "  [1] 998 991 513 802 894 563 836 800  73 905  58 396 973 967 866 269 891 851\n",
      " [19] 587 241 558  66 628 682 770 778 233 554 698 121 616 972 654 846  83 168\n",
      " [37]  86 443 584 817 759 604 111  32 394 541 965 123 658 679  11  57 869 411\n",
      " [55] 431 928 282 331 438  53 684 140 939  75 113 144 161  23 119 717 481 813\n",
      " [73] 361 127  52 620 524 683 402 296 159  88 985 953 488   9 415   6 566 375\n",
      " [91] 350 664 934  48  25 581 266 730 452 755\n"
     ]
    }
   ],
   "source": [
    "print(sample(1:1000, size = 100))"
   ]
  },
  {
   "cell_type": "markdown",
   "metadata": {},
   "source": [
    "Assignez à présent dans un vecteur `vec6` 100 nombres entiers tirés aléatoirement dans un ensemble de valeurs comprises entre 1 et 1000."
   ]
  },
  {
   "cell_type": "code",
   "execution_count": 40,
   "metadata": {},
   "outputs": [
    {
     "name": "stdout",
     "output_type": "stream",
     "text": [
      "  [1] 329  98 230 504 307  64 297 219 863 623 474 427 664 738 845 108 247 252\n",
      " [19] 103 646   4 633 891 597 642 434 816 581 288 284 275 447 681 403 148 119\n",
      " [37] 256 478 973 677 496 567 748 523 349  27 837 901 162 813 516 805 937 279\n",
      " [55] 998 582  86 416 495 728 180 639 603 659 251 925 786 831 549 232 458 299\n",
      " [73] 226 968 501 834 133 592 680  55 110 621 906  36 368 140 278 411 409 259\n",
      " [91] 238 298 653  82 705 933 221  20 485 806\n"
     ]
    }
   ],
   "source": [
    "vec6 <- sample(1:1000, size = 100)\n",
    "print(vec6)"
   ]
  },
  {
   "cell_type": "markdown",
   "metadata": {},
   "source": [
    "Constatez bien que le vecteur `vec6` a été généré par un nouvel échantillonage et ne contient pas (ou avec une très faible probabilité) les mêmes valeurs que celles obtenues juste au-dessus sans assigner les valeurs dans une variable."
   ]
  },
  {
   "cell_type": "markdown",
   "metadata": {},
   "source": [
    "Calculer la moyenne, la médiane, l’écart-type et les quartiles de cette série de 100 valeurs.\n",
    "\n",
    "*__Tip :__*\n",
    "_fonctions recommandées : `mean()`, `median()`, `sd()`, `quantile()`, `summary()`_"
   ]
  },
  {
   "cell_type": "code",
   "execution_count": 41,
   "metadata": {},
   "outputs": [
    {
     "data": {
      "text/html": [
       "473.1"
      ],
      "text/latex": [
       "473.1"
      ],
      "text/markdown": [
       "473.1"
      ],
      "text/plain": [
       "[1] 473.1"
      ]
     },
     "metadata": {},
     "output_type": "display_data"
    },
    {
     "data": {
      "text/html": [
       "476"
      ],
      "text/latex": [
       "476"
      ],
      "text/markdown": [
       "476"
      ],
      "text/plain": [
       "[1] 476"
      ]
     },
     "metadata": {},
     "output_type": "display_data"
    },
    {
     "data": {
      "text/html": [
       "276.021061266394"
      ],
      "text/latex": [
       "276.021061266394"
      ],
      "text/markdown": [
       "276.021061266394"
      ],
      "text/plain": [
       "[1] 276.0211"
      ]
     },
     "metadata": {},
     "output_type": "display_data"
    },
    {
     "data": {
      "text/html": [
       "<style>\n",
       ".dl-inline {width: auto; margin:0; padding: 0}\n",
       ".dl-inline>dt, .dl-inline>dd {float: none; width: auto; display: inline-block}\n",
       ".dl-inline>dt::after {content: \":\\0020\"; padding-right: .5ex}\n",
       ".dl-inline>dt:not(:first-of-type) {padding-left: .5ex}\n",
       "</style><dl class=dl-inline><dt>0%</dt><dd>4</dd><dt>25%</dt><dd>250</dd><dt>50%</dt><dd>476</dd><dt>75%</dt><dd>677.75</dd><dt>100%</dt><dd>998</dd></dl>\n"
      ],
      "text/latex": [
       "\\begin{description*}\n",
       "\\item[0\\textbackslash{}\\%] 4\n",
       "\\item[25\\textbackslash{}\\%] 250\n",
       "\\item[50\\textbackslash{}\\%] 476\n",
       "\\item[75\\textbackslash{}\\%] 677.75\n",
       "\\item[100\\textbackslash{}\\%] 998\n",
       "\\end{description*}\n"
      ],
      "text/markdown": [
       "0%\n",
       ":   425%\n",
       ":   25050%\n",
       ":   47675%\n",
       ":   677.75100%\n",
       ":   998\n",
       "\n"
      ],
      "text/plain": [
       "    0%    25%    50%    75%   100% \n",
       "  4.00 250.00 476.00 677.75 998.00 "
      ]
     },
     "metadata": {},
     "output_type": "display_data"
    },
    {
     "data": {
      "text/plain": [
       "   Min. 1st Qu.  Median    Mean 3rd Qu.    Max. \n",
       "    4.0   250.0   476.0   473.1   677.8   998.0 "
      ]
     },
     "metadata": {},
     "output_type": "display_data"
    }
   ],
   "source": [
    "mean(vec6)\n",
    "median(vec6)\n",
    "sd(vec6)\n",
    "quantile(vec6)\n",
    "summary(vec6)"
   ]
  },
  {
   "cell_type": "markdown",
   "metadata": {},
   "source": [
    "Retirez les 50 dernières valeurs du vecteur vec6."
   ]
  },
  {
   "cell_type": "code",
   "execution_count": 42,
   "metadata": {},
   "outputs": [
    {
     "name": "stdout",
     "output_type": "stream",
     "text": [
      " [1] 329  98 230 504 307  64 297 219 863 623 474 427 664 738 845 108 247 252 103\n",
      "[20] 646   4 633 891 597 642 434 816 581 288 284 275 447 681 403 148 119 256 478\n",
      "[39] 973 677 496 567 748 523 349  27 837 901 162\n"
     ]
    }
   ],
   "source": [
    "print(vec6[-(50:100)])"
   ]
  },
  {
   "cell_type": "markdown",
   "metadata": {},
   "source": [
    "---"
   ]
  },
  {
   "cell_type": "markdown",
   "metadata": {
    "tags": []
   },
   "source": [
    "## Exercice 8 : tirage aléatoire d'une loi de probabilité connue et filtrage de valeurs\n",
    "Créez un vecteur `v7` dans lequel vous assignerez 50 valeurs tirées aléatoirement parmi 50 données manquantes et 50 données issues d’une loi normale de moyenne 3 et de variance 4.\n",
    "\n",
    "Calculer la moyenne du vecteur `vec7`.\n",
    "\n",
    "Comptez le nombre de données manquantes dans le vecteur `vec7`.\n",
    "\n",
    "\n",
    "*__Tip :__*\n",
    "_fonctions recommandées : `sample()`,`c()`, `rep()`, `rnorm()`, `mean()` avec l’argument `na.rm=TRUE`, `is.na()`, `sum()`, `which()`_"
   ]
  },
  {
   "cell_type": "code",
   "execution_count": 43,
   "metadata": {},
   "outputs": [
    {
     "data": {
      "text/html": [
       "-0.373237711840432"
      ],
      "text/latex": [
       "-0.373237711840432"
      ],
      "text/markdown": [
       "-0.373237711840432"
      ],
      "text/plain": [
       "[1] -0.3732377"
      ]
     },
     "metadata": {},
     "output_type": "display_data"
    }
   ],
   "source": [
    "vec7 <- sample(c(rep(NA, 50), rnorm(50, 0, 2)), 50)\n",
    "mean(vec7, na.rm = TRUE)"
   ]
  },
  {
   "cell_type": "markdown",
   "metadata": {},
   "source": [
    "Si vous ne precisez pas l'argument `na.rm=TRUE`, la commande vous retourne `NA` car elle est incapable de calculer une moyenne sur des donnees manquantes."
   ]
  },
  {
   "cell_type": "code",
   "execution_count": 44,
   "metadata": {},
   "outputs": [
    {
     "data": {
      "text/html": [
       "&lt;NA&gt;"
      ],
      "text/latex": [
       "<NA>"
      ],
      "text/markdown": [
       "&lt;NA&gt;"
      ],
      "text/plain": [
       "[1] NA"
      ]
     },
     "metadata": {},
     "output_type": "display_data"
    }
   ],
   "source": [
    "mean(vec7)"
   ]
  },
  {
   "cell_type": "markdown",
   "metadata": {},
   "source": [
    "C'est donc un bon reflexe d'ajouter systématqiuement cet argument `na.rm=TRUE`.\n",
    "\n",
    "D'autres fonctions comme `sd()` utilisent le même argument pour ne pas considérer les données manquantes."
   ]
  },
  {
   "cell_type": "code",
   "execution_count": 45,
   "metadata": {},
   "outputs": [
    {
     "data": {
      "text/html": [
       "21"
      ],
      "text/latex": [
       "21"
      ],
      "text/markdown": [
       "21"
      ],
      "text/plain": [
       "[1] 21"
      ]
     },
     "metadata": {},
     "output_type": "display_data"
    }
   ],
   "source": [
    " sum(is.na(vec7))"
   ]
  },
  {
   "cell_type": "markdown",
   "metadata": {},
   "source": [
    "Ci-dessus, la fonction `sum()` a implicitement coercé les donnees booleenes `FALSE` et `TRUE` issues de la commande `is.na(vec7)` en valeurs numeriques `0` et `1`\n",
    "\n",
    "---"
   ]
  },
  {
   "cell_type": "markdown",
   "metadata": {},
   "source": [
    "Dans un vecteur `vec8`, gardez uniquement les valeurs positives du vecteur `vec7`.\n",
    "\n",
    "Affichez le vecteur `vec8` pour vérifier qu’il ne contient que des données positives.\n",
    "\n",
    "*__Tip :__*\n",
    "_fonction recommandée : `which()`_"
   ]
  },
  {
   "cell_type": "code",
   "execution_count": 46,
   "metadata": {},
   "outputs": [
    {
     "name": "stdout",
     "output_type": "stream",
     "text": [
      " [1] 1.6567770 2.0683435 2.1435915 3.8478165 0.8868589 2.0117655 2.1102553\n",
      " [8] 0.3486161 1.1197707 1.1256542 1.9215345 1.4529036\n"
     ]
    }
   ],
   "source": [
    "vec8 <- vec7[which(vec7 > 0)]\n",
    "print(vec8)"
   ]
  },
  {
   "cell_type": "markdown",
   "metadata": {},
   "source": [
    "<br>\n",
    "\n",
    "*__=> Pour aller plus loin :__*\n",
    "\n",
    "ATTENTION, si vous n'utilisez pas la fonction `which()` ci-dessus, vous récupèrerez aussi les données manquantes `NA` en plus des donnees positives"
   ]
  },
  {
   "cell_type": "code",
   "execution_count": 47,
   "metadata": {},
   "outputs": [
    {
     "name": "stdout",
     "output_type": "stream",
     "text": [
      " [1]        NA        NA 1.6567770        NA        NA        NA        NA\n",
      " [8]        NA        NA 2.0683435        NA 2.1435915 3.8478165        NA\n",
      "[15]        NA 0.8868589 2.0117655 2.1102553        NA        NA 0.3486161\n",
      "[22]        NA 1.1197707        NA        NA        NA 1.1256542        NA\n",
      "[29] 1.9215345        NA 1.4529036        NA        NA\n"
     ]
    }
   ],
   "source": [
    "vec8 <- vec7[vec7 > 0]\n",
    "print(vec8 )"
   ]
  },
  {
   "cell_type": "markdown",
   "metadata": {},
   "source": [
    "Alternativement vous pouviez selectionner simultanement les donnes du vecteur vec7 non manquantes ET positives avec la commande suivante:"
   ]
  },
  {
   "cell_type": "code",
   "execution_count": 48,
   "metadata": {},
   "outputs": [
    {
     "name": "stdout",
     "output_type": "stream",
     "text": [
      " [1] 1.6567770 2.0683435 2.1435915 3.8478165 0.8868589 2.0117655 2.1102553\n",
      " [8] 0.3486161 1.1197707 1.1256542 1.9215345 1.4529036\n"
     ]
    }
   ],
   "source": [
    "vec8 <- vec7[!is.na(vec7) & vec7 > 0]\n",
    "print(vec8)"
   ]
  },
  {
   "cell_type": "markdown",
   "metadata": {},
   "source": [
    "---\n",
    "## Exercice 9 : comptage de valeurs, remplacement de valeurs et coercion\n",
    "Simulez 100 lancers d’une pièce de monnaie. Pour cela, réalisez un tirage avec remise dans un ensemble de deux valeurs possibles (« pile » et « face ») et assignez le résultat dans un vecteur `results`.\n",
    "\n",
    "Comptez le nombre de piles et de faces. \n",
    "\n",
    "*__Tip :__*\n",
    "_fonctions recommandées : `sample()`,`table()`_"
   ]
  },
  {
   "cell_type": "code",
   "execution_count": 49,
   "metadata": {},
   "outputs": [
    {
     "data": {
      "text/plain": [
       "results\n",
       "face pile \n",
       "  53   47 "
      ]
     },
     "metadata": {},
     "output_type": "display_data"
    }
   ],
   "source": [
    "results <- sample(c(\"pile\", \"face\"), size = 100, rep = TRUE)\n",
    "table(results)"
   ]
  },
  {
   "cell_type": "markdown",
   "metadata": {},
   "source": [
    "<br>\n",
    "\n",
    "*__=> Pour aller plus loin :__*\n",
    "La fonction `table()`ci-dessus génère un tableau de contingence. S'il y a des données manquantes, ajoutez `useNA = \"always\"` comme argument\n",
    "\n",
    "---"
   ]
  },
  {
   "cell_type": "markdown",
   "metadata": {},
   "source": [
    "Réalisez la même simulation que ci-dessus, mais en biaisant la pièce de monnaie (la probabilité d’obtenir « pile » doit seulement être de 0,3).\n",
    "\n",
    "Quelles proportions de piles et de faces avez-vous obtenues ?\n",
    "\n",
    "Recodez tous les piles par les valeurs numériques 0 et les faces par 1.\n",
    "\n",
    "Comptez le nombre de faces. \n",
    "\n",
    "*__Tip :__*\n",
    "_fonctions recommandées : `sample()`,`table()`, `which()`, `as.numeric()`, `sum()`_"
   ]
  },
  {
   "cell_type": "code",
   "execution_count": 50,
   "metadata": {},
   "outputs": [
    {
     "data": {
      "text/plain": [
       "results_bias\n",
       "face pile \n",
       "0.69 0.31 "
      ]
     },
     "metadata": {},
     "output_type": "display_data"
    },
    {
     "name": "stdout",
     "output_type": "stream",
     "text": [
      "  [1] \"1\" \"0\" \"1\" \"0\" \"1\" \"0\" \"0\" \"0\" \"1\" \"1\" \"1\" \"0\" \"0\" \"1\" \"1\" \"0\" \"0\" \"0\"\n",
      " [19] \"1\" \"0\" \"0\" \"1\" \"1\" \"1\" \"1\" \"1\" \"1\" \"1\" \"0\" \"1\" \"1\" \"1\" \"0\" \"0\" \"1\" \"1\"\n",
      " [37] \"0\" \"1\" \"0\" \"1\" \"1\" \"0\" \"0\" \"1\" \"1\" \"1\" \"0\" \"1\" \"1\" \"1\" \"1\" \"1\" \"1\" \"1\"\n",
      " [55] \"1\" \"1\" \"1\" \"1\" \"1\" \"1\" \"1\" \"1\" \"0\" \"1\" \"1\" \"1\" \"1\" \"1\" \"1\" \"0\" \"0\" \"1\"\n",
      " [73] \"1\" \"1\" \"1\" \"1\" \"0\" \"0\" \"0\" \"1\" \"1\" \"1\" \"0\" \"1\" \"1\" \"1\" \"1\" \"0\" \"0\" \"1\"\n",
      " [91] \"0\" \"1\" \"1\" \"1\" \"1\" \"1\" \"1\" \"1\" \"0\" \"1\"\n",
      "  [1] 1 0 1 0 1 0 0 0 1 1 1 0 0 1 1 0 0 0 1 0 0 1 1 1 1 1 1 1 0 1 1 1 0 0 1 1 0\n",
      " [38] 1 0 1 1 0 0 1 1 1 0 1 1 1 1 1 1 1 1 1 1 1 1 1 1 1 0 1 1 1 1 1 1 0 0 1 1 1\n",
      " [75] 1 1 0 0 0 1 1 1 0 1 1 1 1 0 0 1 0 1 1 1 1 1 1 1 0 1\n"
     ]
    },
    {
     "data": {
      "text/html": [
       "69"
      ],
      "text/latex": [
       "69"
      ],
      "text/markdown": [
       "69"
      ],
      "text/plain": [
       "[1] 69"
      ]
     },
     "metadata": {},
     "output_type": "display_data"
    }
   ],
   "source": [
    "results_bias <- sample(c(\"pile\", \"face\"), size = 100, rep = TRUE, prob = c(0.3, 0.7))\n",
    "table(results_bias)/100   \n",
    "results_bias[which(results_bias == \"pile\")] <- 0 \n",
    "results_bias[which(results_bias == \"face\")] <- 1\n",
    "print(results_bias)\n",
    "results_bias <- as.numeric(results_bias)\n",
    "print(results_bias)\n",
    "sum(results_bias)"
   ]
  },
  {
   "cell_type": "markdown",
   "metadata": {},
   "source": [
    "<br>\n",
    "\n",
    "*__=> Pour aller plus loin :__*\n",
    "\n",
    "Si vous n'aviez pas fait la conversion numérique, la fonction `sum()` aurait retourné une erreur. Vérifions-le en reconverstissant en chaîne de caractères:"
   ]
  },
  {
   "cell_type": "code",
   "execution_count": 51,
   "metadata": {},
   "outputs": [
    {
     "name": "stdout",
     "output_type": "stream",
     "text": [
      "  [1] \"1\" \"0\" \"1\" \"0\" \"1\" \"0\" \"0\" \"0\" \"1\" \"1\" \"1\" \"0\" \"0\" \"1\" \"1\" \"0\" \"0\" \"0\"\n",
      " [19] \"1\" \"0\" \"0\" \"1\" \"1\" \"1\" \"1\" \"1\" \"1\" \"1\" \"0\" \"1\" \"1\" \"1\" \"0\" \"0\" \"1\" \"1\"\n",
      " [37] \"0\" \"1\" \"0\" \"1\" \"1\" \"0\" \"0\" \"1\" \"1\" \"1\" \"0\" \"1\" \"1\" \"1\" \"1\" \"1\" \"1\" \"1\"\n",
      " [55] \"1\" \"1\" \"1\" \"1\" \"1\" \"1\" \"1\" \"1\" \"0\" \"1\" \"1\" \"1\" \"1\" \"1\" \"1\" \"0\" \"0\" \"1\"\n",
      " [73] \"1\" \"1\" \"1\" \"1\" \"0\" \"0\" \"0\" \"1\" \"1\" \"1\" \"0\" \"1\" \"1\" \"1\" \"1\" \"0\" \"0\" \"1\"\n",
      " [91] \"0\" \"1\" \"1\" \"1\" \"1\" \"1\" \"1\" \"1\" \"0\" \"1\"\n"
     ]
    },
    {
     "ename": "ERROR",
     "evalue": "Error in sum(results_bias): invalid 'type' (character) of argument\n",
     "output_type": "error",
     "traceback": [
      "Error in sum(results_bias): invalid 'type' (character) of argument\nTraceback:\n"
     ]
    }
   ],
   "source": [
    "results_bias <- as.character(results_bias)\n",
    "print(results_bias)\n",
    "sum(results_bias)"
   ]
  },
  {
   "cell_type": "markdown",
   "metadata": {},
   "source": [
    "Avant de faire des opérations dans R, vérifiez donc bien que vos vecteurs sont numériques (ou entiers!) avec les fonction `mode`, `is.numeric` ou `is.integer`!"
   ]
  },
  {
   "cell_type": "code",
   "execution_count": 52,
   "metadata": {},
   "outputs": [
    {
     "data": {
      "text/html": [
       "'character'"
      ],
      "text/latex": [
       "'character'"
      ],
      "text/markdown": [
       "'character'"
      ],
      "text/plain": [
       "[1] \"character\""
      ]
     },
     "metadata": {},
     "output_type": "display_data"
    },
    {
     "data": {
      "text/html": [
       "FALSE"
      ],
      "text/latex": [
       "FALSE"
      ],
      "text/markdown": [
       "FALSE"
      ],
      "text/plain": [
       "[1] FALSE"
      ]
     },
     "metadata": {},
     "output_type": "display_data"
    },
    {
     "data": {
      "text/html": [
       "FALSE"
      ],
      "text/latex": [
       "FALSE"
      ],
      "text/markdown": [
       "FALSE"
      ],
      "text/plain": [
       "[1] FALSE"
      ]
     },
     "metadata": {},
     "output_type": "display_data"
    }
   ],
   "source": [
    "mode(results_bias)\n",
    "is.numeric(results_bias)\n",
    "is.integer(results_bias)"
   ]
  },
  {
   "cell_type": "markdown",
   "metadata": {
    "tags": []
   },
   "source": [
    "---\n",
    "## Exercice 10 : importation et filtrage de données\n",
    "Importer dans votre session R le jeu de données `precip`. Ce jeu de données est pré-enregistré dans le logiciel R et regroupe des données de précipitations dans différentes villes américaines.\n",
    "\n",
    "Stocker dans le vecteur `villes` la liste des villes pour lesquelles des mesures sont disponibles.\n",
    "\n",
    "Combien y en a-t-il ? Afficher le niveau de précipitation des villes suivantes : Philadelphia, Columbia, Baltimore, Sacramento.\n",
    "\n",
    "\n",
    "*__Tip :__*\n",
    "_fonctions recommandées : `data(precip)`, `names( )`, `length( )`_"
   ]
  },
  {
   "cell_type": "code",
   "execution_count": 53,
   "metadata": {},
   "outputs": [
    {
     "name": "stdout",
     "output_type": "stream",
     "text": [
      "             Mobile              Juneau             Phoenix         Little Rock \n",
      "               67.0                54.7                 7.0                48.5 \n",
      "        Los Angeles          Sacramento       San Francisco              Denver \n",
      "               14.0                17.2                20.7                13.0 \n",
      "           Hartford          Wilmington          Washington        Jacksonville \n",
      "               43.4                40.2                38.9                54.5 \n",
      "              Miami             Atlanta            Honolulu               Boise \n",
      "               59.8                48.3                22.9                11.5 \n",
      "            Chicago              Peoria        Indianapolis          Des Moines \n",
      "               34.4                35.1                38.7                30.8 \n",
      "            Wichita          Louisville         New Orleans            Portland \n",
      "               30.6                43.1                56.8                40.8 \n",
      "          Baltimore              Boston             Detroit    Sault Ste. Marie \n",
      "               41.8                42.5                31.0                31.7 \n",
      "             Duluth Minneapolis/St Paul             Jackson         Kansas City \n",
      "               30.2                25.9                49.2                37.0 \n",
      "           St Louis         Great Falls               Omaha                Reno \n",
      "               35.9                15.0                30.2                 7.2 \n",
      "            Concord       Atlantic City         Albuquerque              Albany \n",
      "               36.2                45.5                 7.8                33.4 \n",
      "            Buffalo            New York           Charlotte             Raleigh \n",
      "               36.1                40.2                42.7                42.5 \n",
      "            Bismark          Cincinnati           Cleveland            Columbus \n",
      "               16.2                39.0                35.0                37.0 \n",
      "      Oklahoma City            Portland        Philadelphia           Pittsburg \n",
      "               31.4                37.6                39.9                36.2 \n",
      "         Providence            Columbia         Sioux Falls             Memphis \n",
      "               42.8                46.4                24.7                49.1 \n",
      "          Nashville              Dallas             El Paso             Houston \n",
      "               46.0                35.9                 7.8                48.2 \n",
      "     Salt Lake City          Burlington             Norfolk            Richmond \n",
      "               15.2                32.5                44.7                42.6 \n",
      "     Seattle Tacoma             Spokane          Charleston           Milwaukee \n",
      "               38.8                17.4                40.8                29.1 \n",
      "           Cheyenne            San Juan \n",
      "               14.6                59.2 \n"
     ]
    }
   ],
   "source": [
    "data(precip) # charge les donnees\n",
    "print(precip) # visualise les donnees"
   ]
  },
  {
   "cell_type": "code",
   "execution_count": 54,
   "metadata": {},
   "outputs": [
    {
     "name": "stdout",
     "output_type": "stream",
     "text": [
      " Named num [1:70] 67 54.7 7 48.5 14 17.2 20.7 13 43.4 40.2 ...\n",
      " - attr(*, \"names\")= chr [1:70] \"Mobile\" \"Juneau\" \"Phoenix\" \"Little Rock\" ...\n"
     ]
    }
   ],
   "source": [
    "str(precip) # on affiche le début d'un vecteur de valeurs numeriques (les precipitations) avec des noms pour chaque ville et on connait sa longueur\n",
    "villes <- names(precip)  # nom des villes"
   ]
  },
  {
   "cell_type": "markdown",
   "metadata": {},
   "source": [
    "-> La variable `precip` est donc un vecteur avec un attribut qui est le nom de chaque élément de ce vecteur.\n",
    "\n",
    "\n",
    "__Niveau de precipitation de certaines villes:__\n",
    "\n",
    "On peut effectivement faire le slicing en indiquant soit le nom s'il y en a un:"
   ]
  },
  {
   "cell_type": "code",
   "execution_count": 55,
   "metadata": {},
   "outputs": [
    {
     "data": {
      "text/html": [
       "<style>\n",
       ".dl-inline {width: auto; margin:0; padding: 0}\n",
       ".dl-inline>dt, .dl-inline>dd {float: none; width: auto; display: inline-block}\n",
       ".dl-inline>dt::after {content: \":\\0020\"; padding-right: .5ex}\n",
       ".dl-inline>dt:not(:first-of-type) {padding-left: .5ex}\n",
       "</style><dl class=dl-inline><dt>Philadelphia</dt><dd>39.9</dd><dt>Columbia</dt><dd>46.4</dd><dt>Baltimore</dt><dd>41.8</dd><dt>Sacramento</dt><dd>17.2</dd></dl>\n"
      ],
      "text/latex": [
       "\\begin{description*}\n",
       "\\item[Philadelphia] 39.9\n",
       "\\item[Columbia] 46.4\n",
       "\\item[Baltimore] 41.8\n",
       "\\item[Sacramento] 17.2\n",
       "\\end{description*}\n"
      ],
      "text/markdown": [
       "Philadelphia\n",
       ":   39.9Columbia\n",
       ":   46.4Baltimore\n",
       ":   41.8Sacramento\n",
       ":   17.2\n",
       "\n"
      ],
      "text/plain": [
       "Philadelphia     Columbia    Baltimore   Sacramento \n",
       "        39.9         46.4         41.8         17.2 "
      ]
     },
     "metadata": {},
     "output_type": "display_data"
    }
   ],
   "source": [
    "precip[c(\"Philadelphia\", \"Columbia\", \"Baltimore\", \"Sacramento\")]"
   ]
  },
  {
   "cell_type": "markdown",
   "metadata": {},
   "source": [
    "Soit l'indice...manuellement vous pouvez regarder les indices:"
   ]
  },
  {
   "cell_type": "code",
   "execution_count": 56,
   "metadata": {},
   "outputs": [
    {
     "name": "stdout",
     "output_type": "stream",
     "text": [
      " [1] \"Mobile\"              \"Juneau\"              \"Phoenix\"            \n",
      " [4] \"Little Rock\"         \"Los Angeles\"         \"Sacramento\"         \n",
      " [7] \"San Francisco\"       \"Denver\"              \"Hartford\"           \n",
      "[10] \"Wilmington\"          \"Washington\"          \"Jacksonville\"       \n",
      "[13] \"Miami\"               \"Atlanta\"             \"Honolulu\"           \n",
      "[16] \"Boise\"               \"Chicago\"             \"Peoria\"             \n",
      "[19] \"Indianapolis\"        \"Des Moines\"          \"Wichita\"            \n",
      "[22] \"Louisville\"          \"New Orleans\"         \"Portland\"           \n",
      "[25] \"Baltimore\"           \"Boston\"              \"Detroit\"            \n",
      "[28] \"Sault Ste. Marie\"    \"Duluth\"              \"Minneapolis/St Paul\"\n",
      "[31] \"Jackson\"             \"Kansas City\"         \"St Louis\"           \n",
      "[34] \"Great Falls\"         \"Omaha\"               \"Reno\"               \n",
      "[37] \"Concord\"             \"Atlantic City\"       \"Albuquerque\"        \n",
      "[40] \"Albany\"              \"Buffalo\"             \"New York\"           \n",
      "[43] \"Charlotte\"           \"Raleigh\"             \"Bismark\"            \n",
      "[46] \"Cincinnati\"          \"Cleveland\"           \"Columbus\"           \n",
      "[49] \"Oklahoma City\"       \"Portland\"            \"Philadelphia\"       \n",
      "[52] \"Pittsburg\"           \"Providence\"          \"Columbia\"           \n",
      "[55] \"Sioux Falls\"         \"Memphis\"             \"Nashville\"          \n",
      "[58] \"Dallas\"              \"El Paso\"             \"Houston\"            \n",
      "[61] \"Salt Lake City\"      \"Burlington\"          \"Norfolk\"            \n",
      "[64] \"Richmond\"            \"Seattle Tacoma\"      \"Spokane\"            \n",
      "[67] \"Charleston\"          \"Milwaukee\"           \"Cheyenne\"           \n",
      "[70] \"San Juan\"           \n"
     ]
    },
    {
     "data": {
      "text/html": [
       "<style>\n",
       ".dl-inline {width: auto; margin:0; padding: 0}\n",
       ".dl-inline>dt, .dl-inline>dd {float: none; width: auto; display: inline-block}\n",
       ".dl-inline>dt::after {content: \":\\0020\"; padding-right: .5ex}\n",
       ".dl-inline>dt:not(:first-of-type) {padding-left: .5ex}\n",
       "</style><dl class=dl-inline><dt>Philadelphia</dt><dd>39.9</dd><dt>Columbia</dt><dd>46.4</dd><dt>Baltimore</dt><dd>41.8</dd><dt>Sacramento</dt><dd>17.2</dd></dl>\n"
      ],
      "text/latex": [
       "\\begin{description*}\n",
       "\\item[Philadelphia] 39.9\n",
       "\\item[Columbia] 46.4\n",
       "\\item[Baltimore] 41.8\n",
       "\\item[Sacramento] 17.2\n",
       "\\end{description*}\n"
      ],
      "text/markdown": [
       "Philadelphia\n",
       ":   39.9Columbia\n",
       ":   46.4Baltimore\n",
       ":   41.8Sacramento\n",
       ":   17.2\n",
       "\n"
      ],
      "text/plain": [
       "Philadelphia     Columbia    Baltimore   Sacramento \n",
       "        39.9         46.4         41.8         17.2 "
      ]
     },
     "metadata": {},
     "output_type": "display_data"
    }
   ],
   "source": [
    "print(villes) # on identifie les indices des 4 villes\n",
    "precip[c(51,54,25,6)] # on entre les indices des 4 villes qui nous interessent dans un vecteur"
   ]
  },
  {
   "cell_type": "markdown",
   "metadata": {},
   "source": [
    "<br>\n",
    "\n",
    "*__=> Pour aller plus loin :__*\n",
    "\n",
    "Vous pouvez identifier par le code l'index d'une ville d'intérêt avec la fonction `which()`"
   ]
  },
  {
   "cell_type": "code",
   "execution_count": 57,
   "metadata": {},
   "outputs": [
    {
     "data": {
      "text/html": [
       "51"
      ],
      "text/latex": [
       "51"
      ],
      "text/markdown": [
       "51"
      ],
      "text/plain": [
       "[1] 51"
      ]
     },
     "metadata": {},
     "output_type": "display_data"
    },
    {
     "data": {
      "text/html": [
       "51"
      ],
      "text/latex": [
       "51"
      ],
      "text/markdown": [
       "51"
      ],
      "text/plain": [
       "[1] 51"
      ]
     },
     "metadata": {},
     "output_type": "display_data"
    },
    {
     "data": {
      "text/html": [
       "<strong>Philadelphia:</strong> 39.9"
      ],
      "text/latex": [
       "\\textbf{Philadelphia:} 39.9"
      ],
      "text/markdown": [
       "**Philadelphia:** 39.9"
      ],
      "text/plain": [
       "Philadelphia \n",
       "        39.9 "
      ]
     },
     "metadata": {},
     "output_type": "display_data"
    }
   ],
   "source": [
    "which(names(precip) == \"Philadelphia\" ) # Philadelphia est la 51eme ville listee\n",
    "grep(\"Philadelphia\", names(precip))     # on peut aussi utiliser la fonction grep comme en bash\n",
    "precip[51] # On obtient les pércipitations des la ville Philadelphia "
   ]
  },
  {
   "cell_type": "markdown",
   "metadata": {},
   "source": [
    "ou des 4 villes directement:"
   ]
  },
  {
   "cell_type": "code",
   "execution_count": 58,
   "metadata": {},
   "outputs": [
    {
     "name": "stdout",
     "output_type": "stream",
     "text": [
      "[1]  6 25 51 54\n"
     ]
    },
    {
     "data": {
      "text/html": [
       "<style>\n",
       ".dl-inline {width: auto; margin:0; padding: 0}\n",
       ".dl-inline>dt, .dl-inline>dd {float: none; width: auto; display: inline-block}\n",
       ".dl-inline>dt::after {content: \":\\0020\"; padding-right: .5ex}\n",
       ".dl-inline>dt:not(:first-of-type) {padding-left: .5ex}\n",
       "</style><dl class=dl-inline><dt>Sacramento</dt><dd>17.2</dd><dt>Baltimore</dt><dd>41.8</dd><dt>Philadelphia</dt><dd>39.9</dd><dt>Columbia</dt><dd>46.4</dd></dl>\n"
      ],
      "text/latex": [
       "\\begin{description*}\n",
       "\\item[Sacramento] 17.2\n",
       "\\item[Baltimore] 41.8\n",
       "\\item[Philadelphia] 39.9\n",
       "\\item[Columbia] 46.4\n",
       "\\end{description*}\n"
      ],
      "text/markdown": [
       "Sacramento\n",
       ":   17.2Baltimore\n",
       ":   41.8Philadelphia\n",
       ":   39.9Columbia\n",
       ":   46.4\n",
       "\n"
      ],
      "text/plain": [
       "  Sacramento    Baltimore Philadelphia     Columbia \n",
       "        17.2         41.8         39.9         46.4 "
      ]
     },
     "metadata": {},
     "output_type": "display_data"
    },
    {
     "data": {
      "text/html": [
       "<style>\n",
       ".dl-inline {width: auto; margin:0; padding: 0}\n",
       ".dl-inline>dt, .dl-inline>dd {float: none; width: auto; display: inline-block}\n",
       ".dl-inline>dt::after {content: \":\\0020\"; padding-right: .5ex}\n",
       ".dl-inline>dt:not(:first-of-type) {padding-left: .5ex}\n",
       "</style><dl class=dl-inline><dt>Philadelphia</dt><dd>39.9</dd><dt>Columbia</dt><dd>46.4</dd><dt>Baltimore</dt><dd>41.8</dd><dt>Sacramento</dt><dd>17.2</dd></dl>\n"
      ],
      "text/latex": [
       "\\begin{description*}\n",
       "\\item[Philadelphia] 39.9\n",
       "\\item[Columbia] 46.4\n",
       "\\item[Baltimore] 41.8\n",
       "\\item[Sacramento] 17.2\n",
       "\\end{description*}\n"
      ],
      "text/markdown": [
       "Philadelphia\n",
       ":   39.9Columbia\n",
       ":   46.4Baltimore\n",
       ":   41.8Sacramento\n",
       ":   17.2\n",
       "\n"
      ],
      "text/plain": [
       "Philadelphia     Columbia    Baltimore   Sacramento \n",
       "        39.9         46.4         41.8         17.2 "
      ]
     },
     "metadata": {},
     "output_type": "display_data"
    }
   ],
   "source": [
    "les4villes <- c(\"Philadelphia\", \"Columbia\", \"Baltimore\", \"Sacramento\") # ou avec les 4 villes\n",
    "print(which(names(precip) %in% les4villes )) # retourne les index tries des 4 villes\n",
    "precip[ which(names(precip) %in% les4villes )]\n",
    "precip[les4villes] # retourne les precipitations dans l'ordre choisi des villes = identique à la commande `precip[c(51,54,25,6)]` "
   ]
  },
  {
   "cell_type": "markdown",
   "metadata": {},
   "source": [
    "Juste au dessus, notez bien la différence dans l'odre d'affichage: \n",
    "- lorsque vous utilisez le vecteur `les4villes`, l'ordre souhaité est respecté\n",
    "- lorsque vous recherchez par indice, l'ordre affiché est celui de l'ordre croissant des indices des villes dans le vecteur `precip`"
   ]
  },
  {
   "cell_type": "markdown",
   "metadata": {
    "tags": []
   },
   "source": [
    "---\n",
    "---\n",
    "\n",
    "## <mark>Check list des actions avant la prochaine session R<mark>\n",
    "\n",
    "_Pour cocher les cases, ouvrez la cellule du notebook et remplacez l'espace entre les crochets par un `x` lorsque l'action est effectuée_\n",
    "\n",
    "[ ] relire le cours (dias et notebook tutoriel sur les vecteurs)\n",
    "\n",
    "[ ] faire les exercices sans les corrections\n",
    "\n",
    "[ ] lire et comprendre les corrections\n",
    "\n",
    "[ ] refaire les exercices sans les corrections\n",
    "\n",
    "[ ] faire les travaux préparatoires de la session 2 sur les matrices\n",
    "    \n",
    "[ ] faire les travaux préparatoires de la session 2 sur les matrices (video et notebook,diaporama et script correspondants à la video). "
   ]
  },
  {
   "cell_type": "markdown",
   "metadata": {
    "tags": []
   },
   "source": [
    "***\n",
    "***\n",
    "## Useful commands\n",
    "<div class=\"alert alert-block alert-info\"> \n",
    "    \n",
    "- <kbd>CTRL</kbd>+<kbd>S</kbd> : save notebook<br>    \n",
    "- <kbd>CTRL</kbd>+<kbd>ENTER</kbd> : Run Cell<br>  \n",
    "- <kbd>SHIFT</kbd>+<kbd>ENTER</kbd> : Run Cell and Select Next<br>   \n",
    "- <kbd>ALT</kbd>+<kbd>ENTER</kbd> : Run Cell and Insert Below<br>   \n",
    "- <kbd>ESC</kbd>+<kbd>y</kbd> : Change to *Code* Cell Type<br>  \n",
    "- <kbd>ESC</kbd>+<kbd>m</kbd> : Change to *Markdown* Cell Type<br> \n",
    "- <kbd>ESC</kbd>+<kbd>r</kbd> : Change to *Raw* Cell Type<br>    \n",
    "- <kbd>ESC</kbd>+<kbd>a</kbd> : Create Cell Above<br> \n",
    "- <kbd>ESC</kbd>+<kbd>b</kbd> : Create Cell Below<br> \n",
    "\n",
    "<em>  \n",
    "To make nice html reports with markdown: <a href=\"https://dillinger.io/\" title=\"dillinger.io\">html visualization tool 1</a> or <a href=\"https://stackedit.io/app#\" title=\"stackedit.io\">html visualization tool 2</a>, <a href=\"https://www.tablesgenerator.com/markdown_tables\" title=\"tablesgenerator.com\">to draw nice tables</a>, and the <a href=\"https://medium.com/analytics-vidhya/the-ultimate-markdown-guide-for-jupyter-notebook-d5e5abf728fd\" title=\"Ultimate guide\">Ultimate guide</a>. <br>\n",
    "Further reading on JupyterLab notebooks: <a href=\"https://jupyterlab.readthedocs.io/en/latest/user/notebook.html\" title=\"Jupyter Lab\">Jupyter Lab documentation</a>.<br>   \n",
    "</em>    \n",
    " \n",
    "</div>"
   ]
  },
  {
   "cell_type": "markdown",
   "metadata": {},
   "source": [
    "__*=> About this jupyter notebook*__\n",
    "\n",
    "This a jupyter notebook in **R**, meaning that the commands you will enter or run in `Code` cells are directly understood by the server in the R language.\n",
    "<br>You could run the same commands in a Terminal or in RStudio. \n",
    "Here we are using JupyterLab interface implemented as part of the https://plasmabio.org/ project lead by Sandrine Caburet, Pierre Poulain and Claire Vandiedonck. \n",
    "---\n",
    "\n"
   ]
  },
  {
   "cell_type": "markdown",
   "metadata": {},
   "source": [
    "[version 19/09/2022 - last revision: @CVandiedonck]"
   ]
  }
 ],
 "metadata": {
  "kernelspec": {
   "display_name": "R",
   "language": "R",
   "name": "ir"
  },
  "language_info": {
   "codemirror_mode": "r",
   "file_extension": ".r",
   "mimetype": "text/x-r-source",
   "name": "R",
   "pygments_lexer": "r",
   "version": "4.1.3"
  },
  "toc-autonumbering": false
 },
 "nbformat": 4,
 "nbformat_minor": 4
}
