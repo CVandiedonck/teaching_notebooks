{
 "cells": [
  {
   "cell_type": "markdown",
   "metadata": {},
   "source": [
    "# __R Session n°1 - practice : version with corrections__\n",
    "M1 MEG UE5 - Claire Vandiedonck\n",
    "***\n",
    "\n",
    "__*Programme couvert:*__\n",
    "\n",
    "- Assignation de variables, utilisation des fonctions built-in de R.\n",
    "- Les vecteurs et leur manipulation.\n"
   ]
  },
  {
   "cell_type": "markdown",
   "metadata": {},
   "source": [
    "---\n",
    "    \n",
    "**Conseils**    \n",
    "> Les exercices proposés sont donnés dans un ordre progressif qui suit celui du diaporama associé. Ils ont des niveaux de difficulté variable. Pour chaque exercice, des fonctions R vous sont suggérées. N’hésitez pas à consulter leur menu d’aide en tapant soit `?nom_fonction`, soit `help(nom_fonction)`. Vous pouvez parvenir aux mêmes résultats avec d’autres commandes. Les commandes les plus courtes sont en général les meilleures. Une correction détaillée sera fournie.\n",
    "\n",
    "> Vous pouvez réaliser ces exercices directement dans ce notebook sur `adenine` en indiquant votre code dans les cellules laissées libres. Pour ajouter une nouvelle cellule, cliquez simplement sur le `+` dans le menu en haut à gauche du notebook (cf. rappels sur les notebooks en bas de ce notebook). Vous pouvez mettre plusieurs lignes de code aussi par cellule.\n",
    "> Pour executer les cellules, cliquez sur `Shift+Enter`. Executez les dans le bon ordre.\n",
    "> Remarque: dans un notebook jupyter, par défaut chaque élément d'un vecteur est affiché sur une ligne différente numérotée. Si vous souhaitez afficher le vecteur de façon plus classique, c'est à dire en ligne, tel qu'il apparait dans R, il est nécessaire d'utiliser la fonction `print()` -> voir dans cet exemple avec un vecteur contenant les deux valeurs numériques 1 et 10.\n"
   ]
  },
  {
   "cell_type": "code",
   "execution_count": null,
   "metadata": {},
   "outputs": [],
   "source": [
    "my_vector <- c(1, 10) # pour générer le vecteur et l'assigner dans un objet \"my_vector\"\n",
    "my_vector # l'affichage ici montre deux éléments, chacun séparé par un point médian."
   ]
  },
  {
   "cell_type": "code",
   "execution_count": null,
   "metadata": {},
   "outputs": [],
   "source": [
    "print(my_vector) # L'affichage ici montre le vecteur par ligne avec l'indice 1 entre crochets indiquant l'indice de la première valeur de la ligne."
   ]
  },
  {
   "cell_type": "markdown",
   "metadata": {},
   "source": [
    "> Vous pouvez également réaliser ces exercices si vous le préférez dans un terminal ou une console de cet environnement `megm1_ue5_r` sur adenine, ou sur la version rstudio de cet environnement.\n",
    ">\n",
    "> Il est enfin possible de réaliser ces exercices sur votre ordinateur. Dans ce cas, utilisez un editeur de texte avec coloration syntaxique pour votre code (editeur dans Rstudio, ou Tinn-R ou notepad++ par exemple). Sauvegardez vos commandes dans un fichier mes_commandes.R dans le répertoire de votre choix. Exécutez les commandes une par une dans votre console. Vous pouvez ajouter des commentaires qui ne seront pas éxécutés si vous les précédez du caractère « # ».\n",
    "\n",
    ">    "
   ]
  },
  {
   "cell_type": "markdown",
   "metadata": {},
   "source": [
    "---\n",
    "## Avant d'aller plus loin\n",
    "\n",
    "<div class=\"alert alert-block alert-danger\"><b>Attention:</b> \n",
    "Ne travaillez pas directement sur ce notebook pour ne pas le perdre. Dupliquez-le et renommez-le par exemple en ajoutant vos initiales et travaillez sur cette nouvelle copie. Pour ce faire, dans le panneau de gauche, faites un clic droit sur le fichier et sélectionnez \"Duplicate\". Puis, toujours dans la colonne de gauche, faites un clic droit sur cette copie et sélectionnez \"rename\" pour changer le nom. Ouvrez ensuite cette nouvelle version en double cliquant dessus. Vous êtes prêt(e) à démarrer! <br>\n",
    "<br>\n",
    "<b>N'oubliez pas de sauvegarder régulièrement votre notebook</b>: <kbd>Ctrl</kbd> + <kbd>S</kbd>. ou en cliquant sur l'icone 💾 en haut à gauche de votre notebook ou dans le Menu du JupyterLab \"File puis \"Save Notebook\"!\n",
    "</div>"
   ]
  },
  {
   "cell_type": "markdown",
   "metadata": {},
   "source": [
    "<mark> Do not hesitate to try other commands by adding other cells. cf  useful commands at the bottom of the notebook</mark> "
   ]
  },
  {
   "cell_type": "markdown",
   "metadata": {},
   "source": [
    "<div class=\"alert alert-block alert-warning\"><b>Open variable inspector:</b> right click on the notebook and select \"Open Variable Inspector\". A new tab will open. </div>"
   ]
  },
  {
   "cell_type": "markdown",
   "metadata": {},
   "source": [
    "#### 1. Identifiez votre répertoire de travail"
   ]
  },
  {
   "cell_type": "code",
   "execution_count": null,
   "metadata": {},
   "outputs": [],
   "source": [
    "getwd()"
   ]
  },
  {
   "cell_type": "markdown",
   "metadata": {},
   "source": [
    "Si ce répertoire ne vous convient pas, changer le pour un répertoire existant `my_directory`par exemple, avec la commande suivante en spécifiant le chemin relatif ou absolu de votre répertoire:\n",
    "```setwd(\"path/my_directory\")```"
   ]
  },
  {
   "cell_type": "markdown",
   "metadata": {},
   "source": [
    "#### 2.  Identifiez la version R de votre environnement et packages installés."
   ]
  },
  {
   "cell_type": "code",
   "execution_count": null,
   "metadata": {},
   "outputs": [],
   "source": [
    "sessionInfo()"
   ]
  },
  {
   "cell_type": "markdown",
   "metadata": {},
   "source": [
    "---\n",
    "---\n",
    "\n",
    "## Exercice 1: création de vecteurs numériques\n",
    "\n",
    "Créez le vecteur `vec1` contenant la suite des entiers de 1 à 12. \n",
    "\n",
    "*__Tip :__*\n",
    "_fonction recommandée : `:`_"
   ]
  },
  {
   "cell_type": "code",
   "execution_count": null,
   "metadata": {},
   "outputs": [],
   "source": [
    "vec1 <- 1:12 # ou vec1 <- seq(1, 12)\n",
    "print(vec1)"
   ]
  },
  {
   "cell_type": "markdown",
   "metadata": {},
   "source": [
    "Ajoutez à la fin de ce vecteur les valeurs 16, 17, 18.\n",
    "\n",
    "*__Tip :__*\n",
    "_fonctions recommandées : `:` et `c()`_"
   ]
  },
  {
   "cell_type": "code",
   "execution_count": null,
   "metadata": {},
   "outputs": [],
   "source": [
    "vec1 <- c(vec1, c(16, 17, 18))\n",
    "print(vec1)"
   ]
  },
  {
   "cell_type": "markdown",
   "metadata": {},
   "source": [
    "Refaites ces opérations en une seule ligne de commande et affichez ensuite le vecteur `vec1`."
   ]
  },
  {
   "cell_type": "code",
   "execution_count": null,
   "metadata": {},
   "outputs": [],
   "source": [
    "vec1 <- c(1:12, c(16, 17, 18))\n",
    "print(vec1)"
   ]
  },
  {
   "cell_type": "markdown",
   "metadata": {},
   "source": [
    "<br>\n",
    "\n",
    "*__=> Pour aller plus loin :__*\n",
    "\n",
    "Verifiez la taille de `vec1`, le type de valeurs contenues ou directement sa structure:"
   ]
  },
  {
   "cell_type": "code",
   "execution_count": null,
   "metadata": {},
   "outputs": [],
   "source": [
    "length(vec1)\n",
    "class(vec1)\n",
    "mode(vec1)\n",
    "str(vec1)"
   ]
  },
  {
   "cell_type": "markdown",
   "metadata": {},
   "source": [
    "---\n",
    "Créez le vecteur `vec2` contenant les valeurs suivantes : 0, 0.5, 1.0, 1.5, 2.0, 2.5, 3.0, 3.5, 4.0, 4.5, 5.0.\n",
    "\n",
    "Réalisez cette action au moins de deux façons différentes.\n",
    "\n",
    "*__Tip :__*\n",
    "_fonctions recommandées : `c()` et `seq()`_\n"
   ]
  },
  {
   "cell_type": "code",
   "execution_count": null,
   "metadata": {},
   "outputs": [],
   "source": [
    "vec2 <- c(0, 0.5, 1, 1.5, 2, 2.5, 3, 3.5, 4, 4.5, 5)\n",
    "print(vec2)"
   ]
  },
  {
   "cell_type": "markdown",
   "metadata": {},
   "source": [
    "ou pour s'amuser:"
   ]
  },
  {
   "cell_type": "code",
   "execution_count": null,
   "metadata": {},
   "outputs": [],
   "source": [
    "vec2 <- c(0, (1:10)/2)\n",
    "print(vec2)"
   ]
  },
  {
   "cell_type": "markdown",
   "metadata": {},
   "source": [
    "ou mieux encore:"
   ]
  },
  {
   "cell_type": "code",
   "execution_count": null,
   "metadata": {},
   "outputs": [],
   "source": [
    "vec2 <- seq(from = 0, to = 5, by = 0.5)\n",
    "print(vec2)"
   ]
  },
  {
   "cell_type": "markdown",
   "metadata": {},
   "source": [
    "ou la commande precedente sans préciser `from`, `to` et `by`, si vous respectez l'ordre des arguments:"
   ]
  },
  {
   "cell_type": "code",
   "execution_count": null,
   "metadata": {},
   "outputs": [],
   "source": [
    "vec2 <- seq(0, 5, 0.5)# la meilleure solution ici \n",
    "print(vec2)"
   ]
  },
  {
   "cell_type": "markdown",
   "metadata": {},
   "source": [
    "<br>\n",
    "\n",
    "*__=> Pour aller plus loin :__*\n",
    "\n",
    "Vérification qu'il s'agit du meme vecteur en testant l'égailité avec `==`."
   ]
  },
  {
   "cell_type": "code",
   "execution_count": null,
   "metadata": {},
   "outputs": [],
   "source": [
    "c(0, 0.5, 1, 1.5, 2, 2.5, 3, 3.5, 4, 4.5, 5) == seq(0, 5, 0.5)"
   ]
  },
  {
   "cell_type": "markdown",
   "metadata": {},
   "source": [
    "ou je peux compter le nombre d'elements identiques dans les 2 vecteurs :"
   ]
  },
  {
   "cell_type": "code",
   "execution_count": null,
   "metadata": {},
   "outputs": [],
   "source": [
    "sum(as.integer(c(0, 0.5, 1, 1.5, 2, 2.5, 3, 3.5, 4, 4.5, 5) == seq(0, 5, 0.5)))"
   ]
  },
  {
   "cell_type": "markdown",
   "metadata": {},
   "source": [
    "ou avec la fonction `table()`:"
   ]
  },
  {
   "cell_type": "code",
   "execution_count": null,
   "metadata": {},
   "outputs": [],
   "source": [
    "table(c(0, 0.5, 1, 1.5, 2, 2.5, 3, 3.5, 4, 4.5, 5) == seq(0, 5, 0.5))"
   ]
  },
  {
   "cell_type": "code",
   "execution_count": null,
   "metadata": {},
   "outputs": [],
   "source": [
    "identical(c(0, 0.5, 1, 1.5, 2, 2.5, 3, 3.5, 4, 4.5, 5), seq(0, 5, 0.5))"
   ]
  },
  {
   "cell_type": "markdown",
   "metadata": {},
   "source": [
    "---\n",
    "## Exercice 2 : manipulation de données numériques\n",
    "Effectuez l’opération suivante : 4850 / 26. Affichez le résultat avec seulement 2 ou 3 décimales.\n",
    "\n",
    "Existe-t-il d’autres fonctions R permettant de réaliser une réduction de décimales ? Répondez à cette question en écrivant du texte dans une cellule de commentaires au format Markdown. Vous pouvez ensuite ajouter une cellule de code pour montrer des exemples. \n",
    "\n",
    "*__Tip :__*\n",
    "_fonctions recommandées : `round()` et `help()`_\n"
   ]
  },
  {
   "cell_type": "code",
   "execution_count": null,
   "metadata": {},
   "outputs": [],
   "source": [
    "4850/26"
   ]
  },
  {
   "cell_type": "code",
   "execution_count": null,
   "metadata": {},
   "outputs": [],
   "source": [
    "#seulement 2 ou 3 décimales\n",
    "round(4850/26, 2)\n",
    "round(4850/26, 3)"
   ]
  },
  {
   "cell_type": "code",
   "execution_count": null,
   "metadata": {
    "tags": []
   },
   "outputs": [],
   "source": [
    "help(round)# identique a ?round"
   ]
  },
  {
   "cell_type": "markdown",
   "metadata": {},
   "source": [
    " <span style=\"color:blue\"> <b>Tip : </b> Je peux masquer le menu d'aide ci-dessus en cliquant sur le côté gauche de la cellule dans la barre bleue</span>"
   ]
  },
  {
   "cell_type": "markdown",
   "metadata": {},
   "source": [
    "__📍 ICI : Ma nouvelle cellule au format Markdown (regardez dans le menu: `Markdown` est affiché au lieu de `Code`__\n",
    "\n",
    "- Je double clique dessus pour l'ouvrir et écrire dedans.\n",
    "\n",
    "- Je passe une ligne dedans pour aller à la ligne.\n",
    "\n",
    "- Pour écrire en gras, je mets un symbole `_` ou `*` de part et d'autre de la phrase. Si je double ces signes, la phrase est en italique.\n",
    "\n",
    "*=> Les autres fonctions de R lues dans le menu help de `round()` que j'aies trouvées sont: `ceiling()`, `floor()`, etc.*"
   ]
  },
  {
   "cell_type": "code",
   "execution_count": null,
   "metadata": {},
   "outputs": [],
   "source": [
    "ceiling(4850/26) # entier immeditament superieur ou egal\n",
    "floor(4850/26)  # entier immediatement inferieur ou egal"
   ]
  },
  {
   "cell_type": "markdown",
   "metadata": {},
   "source": [
    "---\n",
    "## Exercice 3 : création d'un vecteur avec des chaînes de caractères incrémentées\n",
    "Créez le vecteur `vec3` contenant les noms suivants : « individu1 », « individu2 », ... , « individu100».\n",
    "\n",
    "Attention au séparateur utilisé !\n",
    "\n",
    "*__Tip :__*\n",
    "_fonction recommandée : `paste()`_\n"
   ]
  },
  {
   "cell_type": "code",
   "execution_count": null,
   "metadata": {},
   "outputs": [],
   "source": [
    "vec3 <- paste(\"individu\", 1:100, sep = \"\")\n",
    "print(vec3)"
   ]
  },
  {
   "cell_type": "markdown",
   "metadata": {},
   "source": [
    "<br>\n",
    "\n",
    "*__=> Pour aller plus loin :__*\n",
    "\n",
    "Je comprends l'alternance de l'utilisation des 2 vecteurs collés => les deux vecteurs `c(\"cas\", \"controle\")` et `1:10` n'ont pas la même longueur.\n",
    "\n",
    "Dans ce cas R recycle le premier vecteur qui est le plus court:"
   ]
  },
  {
   "cell_type": "code",
   "execution_count": null,
   "metadata": {},
   "outputs": [],
   "source": [
    "print(paste(c(\"cas\",\"controle\"), 1:10, sep = \"_\"))"
   ]
  },
  {
   "cell_type": "markdown",
   "metadata": {},
   "source": [
    "<br>\n",
    "\n",
    "*__=> Pour aller encore plus loin :__*\n",
    "\n",
    "Je comprends l'usage de la fonction `paste0()` (documentée dans la même aide que pour la fonction `paste()`) *(même fonction avec sep=\"\" par défaut)*"
   ]
  },
  {
   "cell_type": "code",
   "execution_count": null,
   "metadata": {},
   "outputs": [],
   "source": [
    "vec3 <- paste0(\"individu\", 1:100)\n",
    "print(vec3)"
   ]
  },
  {
   "cell_type": "markdown",
   "metadata": {},
   "source": [
    "On obtient bien un vecteur de longueur 100, c'est à dire contenant 100 éléments:"
   ]
  },
  {
   "cell_type": "code",
   "execution_count": null,
   "metadata": {},
   "outputs": [],
   "source": [
    "length(vec3)"
   ]
  },
  {
   "cell_type": "markdown",
   "metadata": {},
   "source": [
    "En revanche, avec l'argument `collapse` en collapsant par un separateur de champs comme \";\", je combine les 100 éléments en un seul :"
   ]
  },
  {
   "cell_type": "code",
   "execution_count": null,
   "metadata": {},
   "outputs": [],
   "source": [
    "print(paste0(\"individu\", 1:100, collapse = \";\"))\n",
    "length(paste0(\"individu\", 1:100, collapse = \";\"))"
   ]
  },
  {
   "cell_type": "markdown",
   "metadata": {},
   "source": [
    "---\n",
    "## Exercice 4 : création et manipulation de vecteurs de chaînes de caractères\n",
    "Affichez la date du jour. Sauvegardez le résultat dans une variable `dateJour`.\n",
    "\n",
    "Créez la variable `m1` dans laquelle vous assignerez la phrase _« Je me souviendrai longtemps de mon premier cours de R, le .\"_\n",
    "\n",
    "Combinez les variables `dateJour` et `m1` afin d’afficher à l’écran la phrase suivante _« Je me souviendrai longtemps de mon premier cours de R, le YYYY-MM-DD.»_\n",
    "\n",
    "Comptez le nombre de caractères de cette phrase.\n",
    "\n",
    "*__Tip :__*\n",
    "_fonctions recommandées : `Sys.Date()`, `paste()` et `nchar()`_"
   ]
  },
  {
   "cell_type": "code",
   "execution_count": null,
   "metadata": {},
   "outputs": [],
   "source": [
    "Sys.Date()\n",
    "dateJour <- Sys.Date()"
   ]
  },
  {
   "cell_type": "code",
   "execution_count": null,
   "metadata": {},
   "outputs": [],
   "source": [
    "m1 <- \"Je me souviendrai longtemps de mon premier cours de R, le\"\n",
    "paste(m1, dateJour, sep = \" \") # ou mettre l'espace séparant la date dans m1\n",
    "nchar(paste(m1, dateJour, sep = \" \"))"
   ]
  },
  {
   "cell_type": "markdown",
   "metadata": {},
   "source": [
    "<br>\n",
    "\n",
    "*__=> Pour aller plus loin :__*\n",
    "\n",
    "Il est possible de coller plusieurs chaînes de caracteres. La proposition anticipe le cours avec les listes."
   ]
  },
  {
   "cell_type": "code",
   "execution_count": null,
   "metadata": {},
   "outputs": [],
   "source": [
    "date()\n",
    "length(date())\n",
    "str(date())"
   ]
  },
  {
   "cell_type": "markdown",
   "metadata": {},
   "source": [
    "Ci-dessus, la structure de l'objet retourné par la fonction `date()` est un vecteur de type chaîne de caractères avec un seul élément. Mais on peut noter des espaces séparant les \"mots\" de cette chaîne de caractères. On peut donc générer un nouvel objet R en séparant chaque item de la chaîne de caractères avec la fonction `strsplit()` et le bon séparateur comme argument."
   ]
  },
  {
   "cell_type": "code",
   "execution_count": null,
   "metadata": {},
   "outputs": [],
   "source": [
    "strsplit(date(), split = \" \")"
   ]
  },
  {
   "cell_type": "markdown",
   "metadata": {},
   "source": [
    "La commande ci-dessus a généré un objet de type \"liste\" avec 1 seul element qui est un vecteur de longueur 5 contenant les chaînes de caractères du vecteur produit par `date()` séparé par un espace.\n",
    "\n",
    "Vous pouvez en verifier la structure avec `str()`."
   ]
  },
  {
   "cell_type": "code",
   "execution_count": null,
   "metadata": {},
   "outputs": [],
   "source": [
    "str(strsplit(date(), split = \" \"))"
   ]
  },
  {
   "cell_type": "markdown",
   "metadata": {},
   "source": [
    "On peut alors récupérer le 4ème élément de la liste par exemple:"
   ]
  },
  {
   "cell_type": "code",
   "execution_count": null,
   "metadata": {},
   "outputs": [],
   "source": [
    "dateHeure <- unlist(strsplit(date(), split = \" \"))[4] #on recupere le 4eme element de la liste\n",
    "paste(m1, \" \", dateJour, \". Il etait \", dateHeure, \".\", sep = \"\") # on affiche la nouvelle phrase!"
   ]
  },
  {
   "cell_type": "markdown",
   "metadata": {},
   "source": [
    "Vous pouvez aussi utiliser la fonction `cat()` bien adaptée aux chaines de caracteres:"
   ]
  },
  {
   "cell_type": "code",
   "execution_count": null,
   "metadata": {},
   "outputs": [],
   "source": [
    "str(Sys.Date())# il s'agit d'une valeur temporelle\n",
    "as.character(Sys.Date())# convertit la date en chaîne de caracteres\n",
    "cat(m1, as.character(dateJour), \"\\n\", sep = \" \") # \\n est ajouté pour retourer a la ligne"
   ]
  },
  {
   "cell_type": "markdown",
   "metadata": {
    "tags": []
   },
   "source": [
    "---\n",
    "## Exercice 5 : utilisation d'une constante de R et manipulation de chaînes de caractères\n",
    "Créez la variable `vec4` dans laquelle vous assignerez les 24 lettres de l’alphabet en lettres capitales.\n",
    "\n",
    "Remplacez ensuite par des lettres minuscules dans le vecteur `vec4`  toutes les lettres d’indice impair.\n",
    "\n",
    "Inversez l’odre du vecteur `vec4`. Affichez le vecteur `vec4` ainsi obtenu.\n",
    "\n",
    "*__Tip :__*\n",
    "_constante recommandée: `LETTERS`; fonctions recommandées : `seq()`, `tolower()`, `rev()`_"
   ]
  },
  {
   "cell_type": "code",
   "execution_count": null,
   "metadata": {},
   "outputs": [],
   "source": [
    "vec4 <- LETTERS\n",
    "vec4[seq(1, length(vec4), 2)] <- tolower(vec4[seq(1, length(vec4), 2)])\n",
    "print(rev(vec4))"
   ]
  },
  {
   "cell_type": "markdown",
   "metadata": {
    "tags": []
   },
   "source": [
    "<br>\n",
    "\n",
    "*__=> Pour aller plus loin :__*\n",
    "\n",
    "Vous auriez pu aussi utiliser la commande `letters` pour génerer les lettres en minuscule.\n",
    "De façon reverse, la fonction `toupper()` transforme les lettres en majuscules"
   ]
  },
  {
   "cell_type": "code",
   "execution_count": null,
   "metadata": {},
   "outputs": [],
   "source": [
    "vec4 <- tolower(letters)\n",
    "vec4[seq(2, length(vec4), 2)] <- toupper(vec4[seq(2, length(vec4), 2)])\n",
    "print(rev(vec4))"
   ]
  },
  {
   "cell_type": "markdown",
   "metadata": {},
   "source": [
    "---\n",
    "\n",
    "## Exercice 6 : manipulation avancée d'un vecteur\n",
    "Créez un vecteur `vec5` dans lequel vous entrerez les entiers de 1 à 10, en entrant d’abord les valeurs impaires puis les valeurs paires.\n",
    "\n",
    "Ajoutez ensuite, sous forme d’attribut, le nom _« impair »_ ou _« pair »_ à chacune des valeurs de ce vecteur .\n",
    "\n",
    "Réordonnez le vecteur `v5` dans l’ordre croissant des valeurs.\n",
    "\n",
    "Quel est le type de données du vecteur `vec5` ?\n",
    "\n",
    "Affichez à présent les 2ème, 4ème, 9ème , 8ème et 7ème valeurs.\n",
    "\n",
    "Remplacez-les ensuite dans le vecteur `vec5` par les lettres de l’alpahbet du vecteur `vec4` de même indice.\n",
    "\n",
    "Affichez le vecteur `vec5` ainsi obtenu.\n",
    "\n",
    "Quelle est nouveau le type de données du vecteur `vec5` ?\n",
    "\n",
    "*__Tip :__*\n",
    "_fonctions recommandées : `c()`, `seq()`, `sort()`, et `mode()`_"
   ]
  },
  {
   "cell_type": "code",
   "execution_count": null,
   "metadata": {},
   "outputs": [],
   "source": [
    "vec5 <- c(seq(1, 10, 2), seq(2, 10, 2))\n",
    "print(vec5)"
   ]
  },
  {
   "cell_type": "code",
   "execution_count": null,
   "metadata": {},
   "outputs": [],
   "source": [
    "names(vec5) <- c(rep(\"impair\", 5), rep(\"pair\", 5))\n",
    "print(vec5)"
   ]
  },
  {
   "cell_type": "code",
   "execution_count": null,
   "metadata": {},
   "outputs": [],
   "source": [
    "vec5 <- sort(vec5)\n",
    "print(vec5)\n",
    "mode(vec5)\n",
    "class(vec5)"
   ]
  },
  {
   "cell_type": "code",
   "execution_count": null,
   "metadata": {},
   "outputs": [],
   "source": [
    "print(vec5[c(2, 4, 9:7)])\n",
    "vec5[c(2, 4, 9:7)] <- vec4[c(2, 4, 9:7)]\n",
    "print(vec5)\n",
    "mode(vec5)\n",
    "class(vec5)"
   ]
  },
  {
   "cell_type": "markdown",
   "metadata": {},
   "source": [
    "=> Vous constaterez qu'en ajoutant les lettres du vecteur vec4, le vecteur vec5 qui était numérique a été forcé (\"coerced\") vers un type \"chaînes de caractères\"\n",
    "\n",
    "---"
   ]
  },
  {
   "cell_type": "markdown",
   "metadata": {},
   "source": [
    "## Exercice 7 : tirage aléatoire et statistiques descriptives de données numériques\n",
    "Tirez aléatoirement 10 nombres dans un ensemble de valeurs comprises entre 1 et 100.\n",
    "\n",
    "*__Tip :__*\n",
    "_fonction recommandée : `sample()`_"
   ]
  },
  {
   "cell_type": "code",
   "execution_count": null,
   "metadata": {},
   "outputs": [],
   "source": [
    "print(sample(1:1000, size = 100))"
   ]
  },
  {
   "cell_type": "markdown",
   "metadata": {},
   "source": [
    "Assignez à présent dans un vecteur `vec6` 100 nombres entiers tirés aléatoirement dans un ensemble de valeurs comprises entre 1 et 1000."
   ]
  },
  {
   "cell_type": "code",
   "execution_count": null,
   "metadata": {},
   "outputs": [],
   "source": [
    "vec6 <- sample(1:1000, size = 100)\n",
    "print(vec6)"
   ]
  },
  {
   "cell_type": "markdown",
   "metadata": {},
   "source": [
    "Constatez bien que le vecteur `vec6` a été généré par un nouvel échantillonage et ne contient pas (ou avec une très faible probabilité) les mêmes valeurs que celles obtenues juste au-dessus sans assigner les valeurs dans une variable."
   ]
  },
  {
   "cell_type": "markdown",
   "metadata": {},
   "source": [
    "Calculer la moyenne, la médiane, l’écart-type et les quartiles de cette série de 100 valeurs.\n",
    "\n",
    "*__Tip :__*\n",
    "_fonctions recommandées : `mean()`, `median()`, `sd()`, `quantile()`, `summary()`_"
   ]
  },
  {
   "cell_type": "code",
   "execution_count": null,
   "metadata": {},
   "outputs": [],
   "source": [
    "mean(vec6)\n",
    "median(vec6)\n",
    "sd(vec6)\n",
    "quantile(vec6)\n",
    "summary(vec6)"
   ]
  },
  {
   "cell_type": "markdown",
   "metadata": {},
   "source": [
    "Retirez les 50 dernières valeurs du vecteur vec6."
   ]
  },
  {
   "cell_type": "code",
   "execution_count": null,
   "metadata": {},
   "outputs": [],
   "source": [
    "print(vec6[-(50:100)])"
   ]
  },
  {
   "cell_type": "markdown",
   "metadata": {},
   "source": [
    "---"
   ]
  },
  {
   "cell_type": "markdown",
   "metadata": {
    "tags": []
   },
   "source": [
    "## Exercice 8 : tirage aléatoire d'une loi de probabilité connue et filtrage de valeurs\n",
    "Créez un vecteur `v7` dans lequel vous assignerez 50 valeurs tirées aléatoirement parmi 50 données manquantes et 50 données issues d’une loi normale de moyenne 3 et de variance 4.\n",
    "\n",
    "Calculer la moyenne du vecteur `vec7`.\n",
    "\n",
    "Comptez le nombre de données manquantes dans le vecteur `vec7`.\n",
    "\n",
    "\n",
    "*__Tip :__*\n",
    "_fonctions recommandées : `sample()`,`c()`, `rep()`, `rnorm()`, `mean()` avec l’argument `na.rm=TRUE`, `is.na()`, `sum()`, `which()`_"
   ]
  },
  {
   "cell_type": "code",
   "execution_count": null,
   "metadata": {},
   "outputs": [],
   "source": [
    "vec7 <- sample(c(rep(NA, 50), rnorm(50, 0, 2)), 50)\n",
    "mean(vec7, na.rm = TRUE)"
   ]
  },
  {
   "cell_type": "markdown",
   "metadata": {},
   "source": [
    "Si vous ne precisez pas l'argument `na.rm=TRUE`, la commande vous retourne `NA` car elle est incapable de calculer une moyenne sur des donnees manquantes."
   ]
  },
  {
   "cell_type": "code",
   "execution_count": null,
   "metadata": {},
   "outputs": [],
   "source": [
    "mean(vec7)"
   ]
  },
  {
   "cell_type": "markdown",
   "metadata": {},
   "source": [
    "C'est donc un bon reflexe d'ajouter systématqiuement cet argument `na.rm=TRUE`.\n",
    "\n",
    "D'autres fonctions comme `sd()` utilisent le même argument pour ne pas considérer les données manquantes."
   ]
  },
  {
   "cell_type": "code",
   "execution_count": null,
   "metadata": {},
   "outputs": [],
   "source": [
    " sum(is.na(vec7))"
   ]
  },
  {
   "cell_type": "markdown",
   "metadata": {},
   "source": [
    "Ci-dessus, la fonction `sum()` a implicitement coercé les donnees booleenes `FALSE` et `TRUE` issues de la commande `is.na(vec7)` en valeurs numeriques `0` et `1`\n",
    "\n",
    "---"
   ]
  },
  {
   "cell_type": "markdown",
   "metadata": {},
   "source": [
    "Dans un vecteur `vec8`, gardez uniquement les valeurs positives du vecteur `vec7`.\n",
    "\n",
    "Affichez le vecteur `vec8` pour vérifier qu’il ne contient que des données positives.\n",
    "\n",
    "*__Tip :__*\n",
    "_fonction recommandée : `which()`_"
   ]
  },
  {
   "cell_type": "code",
   "execution_count": null,
   "metadata": {},
   "outputs": [],
   "source": [
    "vec8 <- vec7[which(vec7 > 0)]\n",
    "print(vec8)"
   ]
  },
  {
   "cell_type": "markdown",
   "metadata": {},
   "source": [
    "<br>\n",
    "\n",
    "*__=> Pour aller plus loin :__*\n",
    "\n",
    "ATTENTION, si vous n'utilisez pas la fonction `which()` ci-dessus, vous récupèrerez aussi les données manquantes `NA` en plus des donnees positives"
   ]
  },
  {
   "cell_type": "code",
   "execution_count": null,
   "metadata": {},
   "outputs": [],
   "source": [
    "vec8 <- vec7[vec7 > 0]\n",
    "print(vec8 )"
   ]
  },
  {
   "cell_type": "markdown",
   "metadata": {},
   "source": [
    "Alternativement vous pouviez selectionner simultanement les donnes du vecteur vec7 non manquantes ET positives avec la commande suivante:"
   ]
  },
  {
   "cell_type": "code",
   "execution_count": null,
   "metadata": {},
   "outputs": [],
   "source": [
    "vec8 <- vec7[!is.na(vec7) & vec7 > 0]\n",
    "print(vec8)"
   ]
  },
  {
   "cell_type": "markdown",
   "metadata": {},
   "source": [
    "---\n",
    "## Exercice 9 : comptage de valeurs, remplacement de valeurs et coercion\n",
    "Simulez 100 lancers d’une pièce de monnaie. Pour cela, réalisez un tirage avec remise dans un ensemble de deux valeurs possibles (« pile » et « face ») et assignez le résultat dans un vecteur `results`.\n",
    "\n",
    "Comptez le nombre de piles et de faces. \n",
    "\n",
    "*__Tip :__*\n",
    "_fonctions recommandées : `sample()`,`table()`_"
   ]
  },
  {
   "cell_type": "code",
   "execution_count": null,
   "metadata": {},
   "outputs": [],
   "source": [
    "results <- sample(c(\"pile\", \"face\"), size = 100, rep = TRUE)\n",
    "table(results)"
   ]
  },
  {
   "cell_type": "markdown",
   "metadata": {},
   "source": [
    "<br>\n",
    "\n",
    "*__=> Pour aller plus loin :__*\n",
    "La fonction `table()`ci-dessus génère un tableau de contingence. S'il y a des données manquantes, ajoutez `useNA = \"always\"` comme argument\n",
    "\n",
    "---"
   ]
  },
  {
   "cell_type": "markdown",
   "metadata": {},
   "source": [
    "Réalisez la même simulation que ci-dessus, mais en biaisant la pièce de monnaie (la probabilité d’obtenir « pile » doit seulement être de 0,3).\n",
    "\n",
    "Quelles proportions de piles et de faces avez-vous obtenues ?\n",
    "\n",
    "Recodez tous les piles par les valeurs numériques 0 et les faces par 1.\n",
    "\n",
    "Comptez le nombre de faces. \n",
    "\n",
    "*__Tip :__*\n",
    "_fonctions recommandées : `sample()`,`table()`, `which()`, `as.numeric()`, `sum()`_"
   ]
  },
  {
   "cell_type": "code",
   "execution_count": null,
   "metadata": {},
   "outputs": [],
   "source": [
    "results_bias <- sample(c(\"pile\", \"face\"), size = 100, rep = TRUE, prob = c(0.3, 0.7))\n",
    "table(results_bias)/100   \n",
    "results_bias[which(results_bias == \"pile\")] <- 0 \n",
    "results_bias[which(results_bias == \"face\")] <- 1\n",
    "print(results_bias)\n",
    "results_bias <- as.numeric(results_bias)\n",
    "print(results_bias)\n",
    "sum(results_bias)"
   ]
  },
  {
   "cell_type": "markdown",
   "metadata": {},
   "source": [
    "<br>\n",
    "\n",
    "*__=> Pour aller plus loin :__*\n",
    "\n",
    "Si vous n'aviez pas fait la conversion numérique, la fonction `sum()` aurait retourné une erreur. Vérifions-le en reconverstissant en chaîne de caractères:"
   ]
  },
  {
   "cell_type": "code",
   "execution_count": null,
   "metadata": {},
   "outputs": [],
   "source": [
    "results_bias <- as.character(results_bias)\n",
    "print(results_bias)\n",
    "sum(results_bias)"
   ]
  },
  {
   "cell_type": "markdown",
   "metadata": {},
   "source": [
    "Avant de faire des opérations dans R, vérifiez donc bien que vos vecteurs sont numériques (ou entiers!) avec les fonction `mode`, `is.numeric` ou `is.integer`!"
   ]
  },
  {
   "cell_type": "code",
   "execution_count": null,
   "metadata": {},
   "outputs": [],
   "source": [
    "mode(results_bias)\n",
    "is.numeric(results_bias)\n",
    "is.integer(results_bias)"
   ]
  },
  {
   "cell_type": "markdown",
   "metadata": {
    "tags": []
   },
   "source": [
    "---\n",
    "## Exercice 10 : importation et filtrage de données\n",
    "Importer dans votre session R le jeu de données `precip`. Ce jeu de données est pré-enregistré dans le logiciel R et regroupe des données de précipitations dans différentes villes américaines.\n",
    "\n",
    "Stocker dans le vecteur `villes` la liste des villes pour lesquelles des mesures sont disponibles.\n",
    "\n",
    "Combien y en a-t-il ? Afficher le niveau de précipitation des villes suivantes : Philadelphia, Columbia, Baltimore, Sacramento.\n",
    "\n",
    "\n",
    "*__Tip :__*\n",
    "_fonctions recommandées : `data(precip)`, `names( )`, `length( )`_"
   ]
  },
  {
   "cell_type": "code",
   "execution_count": null,
   "metadata": {},
   "outputs": [],
   "source": [
    "data(precip) # charge les donnees\n",
    "print(precip) # visualise les donnees"
   ]
  },
  {
   "cell_type": "code",
   "execution_count": null,
   "metadata": {},
   "outputs": [],
   "source": [
    "str(precip) # on affiche le début d'un vecteur de valeurs numeriques (les precipitations) avec des noms pour chaque ville et on connait sa longueur\n",
    "villes <- names(precip)  # nom des villes"
   ]
  },
  {
   "cell_type": "markdown",
   "metadata": {},
   "source": [
    "-> La variable `precip` est donc un vecteur avec un attribut qui est le nom de chaque élément de ce vecteur.\n",
    "\n",
    "\n",
    "__Niveau de precipitation de certaines villes:__\n",
    "\n",
    "On peut effectivement faire le slicing en indiquant soit le nom s'il y en a un:"
   ]
  },
  {
   "cell_type": "code",
   "execution_count": null,
   "metadata": {},
   "outputs": [],
   "source": [
    "precip[c(\"Philadelphia\", \"Columbia\", \"Baltimore\", \"Sacramento\")]"
   ]
  },
  {
   "cell_type": "markdown",
   "metadata": {},
   "source": [
    "Soit l'indice...manuellement vous pouvez regarder les indices:"
   ]
  },
  {
   "cell_type": "code",
   "execution_count": null,
   "metadata": {},
   "outputs": [],
   "source": [
    "print(villes) # on identifie les indices des 4 villes\n",
    "precip[c(51,54,25,6)] # on entre les indices des 4 villes qui nous interessent dans un vecteur"
   ]
  },
  {
   "cell_type": "markdown",
   "metadata": {},
   "source": [
    "<br>\n",
    "\n",
    "*__=> Pour aller plus loin :__*\n",
    "\n",
    "Vous pouvez identifier par le code l'index d'une ville d'intérêt avec la fonction `which()`"
   ]
  },
  {
   "cell_type": "code",
   "execution_count": null,
   "metadata": {},
   "outputs": [],
   "source": [
    "which(names(precip) == \"Philadelphia\" ) # Philadelphia est la 51eme ville listee\n",
    "grep(\"Philadelphia\", names(precip))     # on peut aussi utiliser la fonction grep comme en bash\n",
    "precip[51] # On obtient les pércipitations des la ville Philadelphia "
   ]
  },
  {
   "cell_type": "markdown",
   "metadata": {},
   "source": [
    "ou des 4 villes directement:"
   ]
  },
  {
   "cell_type": "code",
   "execution_count": null,
   "metadata": {},
   "outputs": [],
   "source": [
    "les4villes <- c(\"Philadelphia\", \"Columbia\", \"Baltimore\", \"Sacramento\") # ou avec les 4 villes\n",
    "print(which(names(precip) %in% les4villes )) # retourne les index tries des 4 villes\n",
    "precip[ which(names(precip) %in% les4villes )]\n",
    "precip[les4villes] # retourne les precipitations dans l'ordre choisi des villes = identique à la commande `precip[c(51,54,25,6)]` "
   ]
  },
  {
   "cell_type": "markdown",
   "metadata": {},
   "source": [
    "Juste au dessus, notez bien la différence dans l'odre d'affichage: \n",
    "- lorsque vous utilisez le vecteur `les4villes`, l'ordre souhaité est respecté\n",
    "- lorsque vous recherchez par indice, l'ordre affiché est celui de l'ordre croissant des indices des villes dans le vecteur `precip`"
   ]
  },
  {
   "cell_type": "markdown",
   "metadata": {
    "tags": []
   },
   "source": [
    "---\n",
    "---\n",
    "\n",
    "## <mark>Check list des actions avant la prochaine session R<mark>\n",
    "\n",
    "_Pour cocher les cases, ouvrez la cellule du notebook et remplacez l'espace entre les crochets par un `x` lorsque l'action est effectuée_\n",
    "\n",
    "[ ] relire le cours (dias et notebook tutoriel sur les vecteurs)\n",
    "\n",
    "[ ] faire les exercices sans les corrections\n",
    "\n",
    "[ ] lire et comprendre les corrections\n",
    "\n",
    "[ ] refaire les exercices sans les corrections\n",
    "\n",
    "[ ] faire les travaux préparatoires de la session 2 sur les matrices\n",
    "    \n",
    "[ ] faire les travaux préparatoires de la session 2 sur les matrices (video et notebook,diaporama et script correspondants à la video). "
   ]
  },
  {
   "cell_type": "markdown",
   "metadata": {
    "tags": []
   },
   "source": [
    "***\n",
    "***\n",
    "## Useful commands\n",
    "<div class=\"alert alert-block alert-info\"> \n",
    "    \n",
    "- <kbd>CTRL</kbd>+<kbd>S</kbd> : save notebook<br>    \n",
    "- <kbd>CTRL</kbd>+<kbd>ENTER</kbd> : Run Cell<br>  \n",
    "- <kbd>SHIFT</kbd>+<kbd>ENTER</kbd> : Run Cell and Select Next<br>   \n",
    "- <kbd>ALT</kbd>+<kbd>ENTER</kbd> : Run Cell and Insert Below<br>   \n",
    "- <kbd>ESC</kbd>+<kbd>y</kbd> : Change to *Code* Cell Type<br>  \n",
    "- <kbd>ESC</kbd>+<kbd>m</kbd> : Change to *Markdown* Cell Type<br> \n",
    "- <kbd>ESC</kbd>+<kbd>r</kbd> : Change to *Raw* Cell Type<br>    \n",
    "- <kbd>ESC</kbd>+<kbd>a</kbd> : Create Cell Above<br> \n",
    "- <kbd>ESC</kbd>+<kbd>b</kbd> : Create Cell Below<br> \n",
    "\n",
    "<em>  \n",
    "To make nice html reports with markdown: <a href=\"https://dillinger.io/\" title=\"dillinger.io\">html visualization tool 1</a> or <a href=\"https://stackedit.io/app#\" title=\"stackedit.io\">html visualization tool 2</a>, <a href=\"https://www.tablesgenerator.com/markdown_tables\" title=\"tablesgenerator.com\">to draw nice tables</a>, and the <a href=\"https://medium.com/analytics-vidhya/the-ultimate-markdown-guide-for-jupyter-notebook-d5e5abf728fd\" title=\"Ultimate guide\">Ultimate guide</a>. <br>\n",
    "Further reading on JupyterLab notebooks: <a href=\"https://jupyterlab.readthedocs.io/en/latest/user/notebook.html\" title=\"Jupyter Lab\">Jupyter Lab documentation</a>.<br>   \n",
    "</em>    \n",
    " \n",
    "</div>"
   ]
  },
  {
   "cell_type": "markdown",
   "metadata": {},
   "source": [
    "__*=> About this jupyter notebook*__\n",
    "\n",
    "This a jupyter notebook in **R**, meaning that the commands you will enter or run in `Code` cells are directly understood by the server in the R language.\n",
    "<br>You could run the same commands in a Terminal or in RStudio. \n",
    "Here we are using JupyterLab interface implemented as part of the https://plasmabio.org/ project lead by Sandrine Caburet, Pierre Poulain and Claire Vandiedonck. \n",
    "---\n",
    "\n"
   ]
  },
  {
   "cell_type": "markdown",
   "metadata": {},
   "source": [
    "[version 19/09/2022 - last revision: @CVandiedonck]"
   ]
  }
 ],
 "metadata": {
  "kernelspec": {
   "display_name": "R",
   "language": "R",
   "name": "ir"
  },
  "language_info": {
   "codemirror_mode": "r",
   "file_extension": ".r",
   "mimetype": "text/x-r-source",
   "name": "R",
   "pygments_lexer": "r",
   "version": "4.1.3"
  },
  "toc-autonumbering": false
 },
 "nbformat": 4,
 "nbformat_minor": 4
}
