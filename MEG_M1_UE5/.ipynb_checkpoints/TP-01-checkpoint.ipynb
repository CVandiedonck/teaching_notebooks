{
 "cells": [
  {
   "cell_type": "markdown",
   "metadata": {},
   "source": [
    "# Système de fichiers \n",
    "\n",
    "Le système de fichiers (EN *file system*) d'un système d'exploitation (EN *operating system* ou *OS*) permet l'organisation hiérarchique des fichiers (EN *file*) et des répertoires/dossiers (EN *directory*). Un ensemble de commandes Unix permettent de se déplacer dans cette arborescence, de créer/renommer/déplacer/effacer des fichiers ou des répertoires. \n"
   ]
  },
  {
   "cell_type": "markdown",
   "metadata": {},
   "source": [
    "---\n",
    "**Question 8:**\n",
    "Pour se déplacer dans l'arborescence, il faut d'abord savoir à quel niveau on se trouve à un instant donné, c'est-à-dire **connaitre est le répertoire de travail** (EN *working directory* ou *wd*). \n",
    "\n",
    "Exécutez la commande `pwd` qui affiche le répertoire de travail (EN *print working directory*):\n",
    "\n"
   ]
  },
  {
   "cell_type": "code",
   "execution_count": null,
   "metadata": {},
   "outputs": [],
   "source": []
  },
  {
   "cell_type": "markdown",
   "metadata": {},
   "source": [
    "Il s'agit du chemin absolu (EN *absolute path*) du répertoire de travail. \n",
    "\n",
    "Remarquez qu'un chemin absolu commence toujours par un \"slash\" `/` , qui désigne la racine (EN *root*) de l'arborescence.\n",
    "\n",
    "Remarquez que le chemin affiché contient votre `Username` ainsi que le nom de l'environnement que vous avez chargé dans PlasmaBio. \n"
   ]
  },
  {
   "cell_type": "markdown",
   "metadata": {},
   "source": [
    "---\n",
    "**Question 9:**\n",
    "Listez (EN *list*) les fichiers/répertoires du répertoire courant à l'aide de la commande `ls`:\n"
   ]
  },
  {
   "cell_type": "code",
   "execution_count": null,
   "metadata": {},
   "outputs": [],
   "source": []
  },
  {
   "cell_type": "markdown",
   "metadata": {},
   "source": [
    "Comparez le résultat à ce qui est affiché dans la barre latérale gauche de l'interface.\n"
   ]
  },
  {
   "cell_type": "markdown",
   "metadata": {},
   "source": [
    "---\n",
    "**Question 10:**\n",
    "L'affichage se fait sous forme d'une série de valeurs sur la même ligne. En consultant l'aide intégrée, faites-vous une idée du nombre de possibilités pour changer cet affichage (il devrait y avoir beaucoup de possibilités, plus ou moins intéressantes ou compréhensibles...). \n"
   ]
  },
  {
   "cell_type": "code",
   "execution_count": null,
   "metadata": {},
   "outputs": [],
   "source": [
    "ls --help"
   ]
  },
  {
   "cell_type": "markdown",
   "metadata": {},
   "source": [
    "Trouvez le/les argument/s à ajouter à la commande `ls` pour: "
   ]
  },
  {
   "cell_type": "markdown",
   "metadata": {},
   "source": [
    "**a-**\n",
    "n'avoir qu'un seul nom par ligne\n"
   ]
  },
  {
   "cell_type": "code",
   "execution_count": null,
   "metadata": {},
   "outputs": [],
   "source": []
  },
  {
   "cell_type": "markdown",
   "metadata": {},
   "source": [
    "**b-**\n",
    "faire apparaître des fichiers/répertoires cachés, c'est-à-dire les fichiers/répertoires dont le nom commence par un point `.`\n"
   ]
  },
  {
   "cell_type": "code",
   "execution_count": null,
   "metadata": {},
   "outputs": [],
   "source": []
  },
  {
   "cell_type": "markdown",
   "metadata": {},
   "source": [
    "Quels sont les fichiers/répertoires cachés ? \n"
   ]
  },
  {
   "cell_type": "markdown",
   "metadata": {},
   "source": [
    "*votre réponse ici*"
   ]
  },
  {
   "cell_type": "markdown",
   "metadata": {},
   "source": [
    "Ces fichiers/répertoires cachés correspondent à des fichiers/répertoires de configuration qui n'ont pas vocation à être modifiés régulièrement, notamment dans le cadre d'une utilisation scientifique. Néanmoins, ils permettent de configurer vos préférences (langues, éditeur de texte, shell à utiliser, etc.), de stocker des historiques, des identifiants à des sites distants, etc.\n"
   ]
  },
  {
   "cell_type": "markdown",
   "metadata": {},
   "source": [
    "---\n",
    "**Question 11:**\n",
    "Exécutez la commande:\n"
   ]
  },
  {
   "cell_type": "code",
   "execution_count": null,
   "metadata": {},
   "outputs": [],
   "source": [
    "ls -l"
   ]
  },
  {
   "cell_type": "markdown",
   "metadata": {},
   "source": [
    "L'affichage devrait se faire ligne par ligne et indiquer, pour chaque entrée du répertoire de travail, s'il s'agit d'un fichier (`-`) ou un répertoire (`d`), les permissions (`rwx`) de lecture/écriture/exécution (EN *read/write/execute*), le propriétaire, le groupe, la taille et la date de modification.\n"
   ]
  },
  {
   "cell_type": "markdown",
   "metadata": {},
   "source": [
    "---\n",
    "**Question 12:**\n",
    "Combinez des \"drapeaux\" en exécutant la commande:\n",
    "\n"
   ]
  },
  {
   "cell_type": "code",
   "execution_count": null,
   "metadata": {},
   "outputs": [],
   "source": [
    "ls -l -h"
   ]
  },
  {
   "cell_type": "markdown",
   "metadata": {},
   "source": [
    "Qu'est-ce que le drapeau `-h` a permis de faire?\n"
   ]
  },
  {
   "cell_type": "markdown",
   "metadata": {},
   "source": [
    "*votre réponse ici*"
   ]
  },
  {
   "cell_type": "markdown",
   "metadata": {},
   "source": [
    "*Remarque*:\n",
    "On peut également grouper plusieurs \"drapeaux\" ensemble:"
   ]
  },
  {
   "cell_type": "code",
   "execution_count": null,
   "metadata": {},
   "outputs": [],
   "source": [
    "ls -lh"
   ]
  },
  {
   "cell_type": "markdown",
   "metadata": {},
   "source": [
    "---\n",
    "**Question 13:**\n",
    "Pour **lister le contenu d'un répertoire** autre que le répertoire de travail, il suffit d'utiliser la commande `ls` (suivie de ses éventuels drapeaux) suivie du chemin (absolu ou relatif) de ce répertoire. \n",
    "\n",
    "Listez le contenu du répertoire `Data`\n"
   ]
  },
  {
   "cell_type": "code",
   "execution_count": null,
   "metadata": {},
   "outputs": [],
   "source": []
  },
  {
   "cell_type": "code",
   "execution_count": null,
   "metadata": {},
   "outputs": [],
   "source": []
  },
  {
   "cell_type": "markdown",
   "metadata": {},
   "source": [
    "---\n",
    "**Question 14:**\n",
    "Le système de fichiers est une arborescence plus ou moins complexe constituée d'une racine, de branches et de noeuds sur une profondeur variable. On peut **visualiser l'arborescence** à partir d'un noeud du système de fichiers à l'aide de la commande `tree`.  \n",
    "\n",
    "Visualisez l'arborescence du répertoire de travail (dans ce cas, la commande peut être utilisée sans argument). \n"
   ]
  },
  {
   "cell_type": "code",
   "execution_count": null,
   "metadata": {},
   "outputs": [],
   "source": []
  },
  {
   "cell_type": "markdown",
   "metadata": {},
   "source": [
    "---\n",
    "**Question 15:**\n",
    "Pour **se déplacer** dans l'arborescence du système de fichiers, c'est-à-dire changer le répertoire de travail, on utilise la commande `cd` (EN *change directory*). \n",
    "\n",
    "Déplacez-vous dans le sous-répertoire `Diversity` du répertoire `Data` en utilisant un **chemin relatif**, puis vérifier que le *working directory* a bien été modifié. \n"
   ]
  },
  {
   "cell_type": "code",
   "execution_count": null,
   "metadata": {},
   "outputs": [],
   "source": []
  },
  {
   "cell_type": "markdown",
   "metadata": {},
   "source": [
    "---\n",
    "**Question 16:**\n",
    "Déplacez-vous dans le sous répertoire `Hapmap_SMALL` du répertoire `Data` en utilisant un **chemin relatif**.\n",
    "\n",
    "NB: \n",
    "Pour remonter d'un niveau dans l'arborescence, on utilise l'écriture `../` qui désigne le répertoire \"parent\" du répertoire de travail.\n"
   ]
  },
  {
   "cell_type": "code",
   "execution_count": null,
   "metadata": {},
   "outputs": [],
   "source": []
  },
  {
   "cell_type": "code",
   "execution_count": null,
   "metadata": {},
   "outputs": [],
   "source": []
  },
  {
   "cell_type": "markdown",
   "metadata": {},
   "source": [
    "*Remarque :* \n",
    "On peut en outre remonter autant que niveaux qu'on le souhaite (pourvu qu'ils existent) en enchaînant les `../`.\n",
    "Par exemple, `../../` désigne le répertoire \"grand-parent\" du répertoire de travail.\n"
   ]
  },
  {
   "cell_type": "markdown",
   "metadata": {},
   "source": [
    "---\n",
    "**Question 17:**\n",
    "Pour **copier un fichier**, on utilise la commande `cp` (EN *copy*) suivie du chemin (absolu ou relatif) du fichier source, suivi du chemin (absolu ou relatif) du répertoire de copie. \n",
    "\n",
    "Copiez le fichier `WORLD_resampled_SMALL.map` dans le répertoire `Data`. NB: il vous faudra réfléchir à la localisation du fichier et du répertoire par rapport au *working directory*. \n"
   ]
  },
  {
   "cell_type": "code",
   "execution_count": null,
   "metadata": {},
   "outputs": [],
   "source": []
  },
  {
   "cell_type": "markdown",
   "metadata": {},
   "source": [
    "Quelles commandes pouvez-vous utiliser pour vérifier que vous avez bien copié le bon fichier au bon endroit ?"
   ]
  },
  {
   "cell_type": "code",
   "execution_count": null,
   "metadata": {},
   "outputs": [],
   "source": []
  },
  {
   "cell_type": "code",
   "execution_count": null,
   "metadata": {},
   "outputs": [],
   "source": []
  },
  {
   "cell_type": "markdown",
   "metadata": {},
   "source": [
    "---\n",
    "**Question 18:**\n",
    "Déplacez-vous dans le répertoire `Data` en utilisant un **chemin absolu** et vérifiez l'état de l'arborescence. \n"
   ]
  },
  {
   "cell_type": "code",
   "execution_count": null,
   "metadata": {},
   "outputs": [],
   "source": []
  },
  {
   "cell_type": "markdown",
   "metadata": {},
   "source": [
    "---\n",
    "**Question 19:**\n",
    "Pour **créer un répertoire**, on utilise la commande `mkdir` (EN *make directory*) suivie du chemin du nouveau répertoire. \n",
    "\n",
    "Créez un répertoire `tmp` dans le répertoire `Data` puis déplacez-vous dans ce répertoire. \n"
   ]
  },
  {
   "cell_type": "code",
   "execution_count": null,
   "metadata": {},
   "outputs": [],
   "source": []
  },
  {
   "cell_type": "markdown",
   "metadata": {},
   "source": [
    "---\n",
    "**Question 20:**\n",
    "Pour **déplacer un fichier vers un répertoire cible**, on utilise la commande `mv` (EN *move*) suivie du chemin du fichier à déplacer, suivi du chemin du répertoire cible. \n",
    "\n",
    "Déplacez le fichier `WORLD_resampled_SMALL.map` du répertoire `Data` vers le répertoire `tmp` (c'est-à-dire le répertoire courant). NB: Le répertoire courant est désigné par `./`\n"
   ]
  },
  {
   "cell_type": "code",
   "execution_count": null,
   "metadata": {},
   "outputs": [],
   "source": []
  },
  {
   "cell_type": "markdown",
   "metadata": {},
   "source": [
    "Quelles commandes pouvez-vous utiliser pour vérifier que vous avez bien déplacé le bon fichier au bon endroit ?"
   ]
  },
  {
   "cell_type": "code",
   "execution_count": null,
   "metadata": {},
   "outputs": [],
   "source": []
  },
  {
   "cell_type": "markdown",
   "metadata": {},
   "source": [
    "---\n",
    "**Question 21:**\n",
    "Pour **renommer un fichier**, on utilise la commande `mv` (EN *move*) suivie du nom du fichier à renommer, suivi du nouveau nom. \n",
    "\n",
    "Renommez le fichier `WORLD_resampled_SMALL.map` du répertoire `tmp` en `example.map`.\n"
   ]
  },
  {
   "cell_type": "code",
   "execution_count": null,
   "metadata": {},
   "outputs": [],
   "source": []
  },
  {
   "cell_type": "markdown",
   "metadata": {},
   "source": [
    "Quelles commandes pouvez-vous utiliser pour vérifier que vous avez correctement renommé le fichier ?"
   ]
  },
  {
   "cell_type": "code",
   "execution_count": null,
   "metadata": {},
   "outputs": [],
   "source": []
  },
  {
   "cell_type": "markdown",
   "metadata": {},
   "source": [
    "---\n",
    "**Question 22:**\n",
    "Faites un bilan de l'état de l'arborescence de votre environnement `tp-unix-1_2021` en utilisant la commande `tree`\n"
   ]
  },
  {
   "cell_type": "code",
   "execution_count": null,
   "metadata": {},
   "outputs": [],
   "source": []
  },
  {
   "cell_type": "markdown",
   "metadata": {},
   "source": [
    "# Manipulation de fichiers texte \n",
    "\n"
   ]
  },
  {
   "cell_type": "markdown",
   "metadata": {},
   "source": [
    "---\n",
    "**Question 23:**\n",
    "Pour **visualiser le contenu d'un fichier de type texte** sur la console, on utilise la commande `cat` suivie du chemin du fichier à visualiser. \n",
    "\n",
    "Visualisez le contenu du fichier `example.map`\n",
    "\n"
   ]
  },
  {
   "cell_type": "code",
   "execution_count": null,
   "metadata": {},
   "outputs": [],
   "source": []
  },
  {
   "cell_type": "markdown",
   "metadata": {},
   "source": [
    "Il s'agit d'un fichier au format 'MAP' de PLINK , qui liste les marqueurs génétiques analysés, chaque ligne décrivant un SNP (*chromosome*, *identifiant*, *distance génétique*, *position physique*).\n"
   ]
  },
  {
   "cell_type": "markdown",
   "metadata": {},
   "source": [
    "---\n",
    "**Question 24:**\n",
    "On peut **compter le nombre de lignes** (mais aussi de caractères et de mots) d'un fichier texte à l'aide de la commande `wc` et de son drapeau `-l` (pour *line*). \n",
    "\n",
    "Comptez le nombre de lignes du fichier `example.map`\n"
   ]
  },
  {
   "cell_type": "code",
   "execution_count": null,
   "metadata": {},
   "outputs": [],
   "source": []
  },
  {
   "cell_type": "markdown",
   "metadata": {},
   "source": [
    "---\n",
    "**Question 25:**\n",
    "Il est possible de **trier les lignes** d'un fichier selon un ordre ascendant, descendant, voire aléatoire selon les valeurs d'une colonne. \n",
    "Consultez l'aide de la commande `sort` pour connaitre les options possibles. \n"
   ]
  },
  {
   "cell_type": "code",
   "execution_count": null,
   "metadata": {},
   "outputs": [],
   "source": []
  },
  {
   "cell_type": "markdown",
   "metadata": {},
   "source": [
    "Triez les SNP du fichier `example.map` selon un ordre décroissant de position physique. \n",
    "\n",
    "*Hint:* \n",
    "Il faudra donc que le tri se fasse de manière numérique, avec une clé de tri correspondant à la 4e colonne, et dans l'ordre inverse.\n"
   ]
  },
  {
   "cell_type": "code",
   "execution_count": null,
   "metadata": {},
   "outputs": [],
   "source": []
  },
  {
   "cell_type": "markdown",
   "metadata": {},
   "source": [
    "---\n",
    "**Question 26:**\n",
    "Lorsque le fichier texte est un 'fichier plat' (chaque ligne contient le même nombre de colonnes, séparées les unes des autres par un délimiteur), il est possible d'**extraire uniquement certaines colonnes**. \n",
    "\n",
    "Consultez l'aide de la commande `cut` pour connaitre les options possibles. \n"
   ]
  },
  {
   "cell_type": "code",
   "execution_count": null,
   "metadata": {},
   "outputs": [],
   "source": []
  },
  {
   "cell_type": "markdown",
   "metadata": {},
   "source": [
    "Filtrez les colonnes *identifiant* et *position physique* du fichier `example.map`. \n",
    "\n",
    "*Hint:*\n",
    "On pourra remarquer que les colonnes à extraire sont les colonnes 2 et 4 (formant donc la liste `2,4`)\n"
   ]
  },
  {
   "cell_type": "code",
   "execution_count": null,
   "metadata": {},
   "outputs": [],
   "source": []
  },
  {
   "cell_type": "markdown",
   "metadata": {},
   "source": [
    "---\n",
    "**Question 27:**\n",
    "On peut avoir envie de ne visualiser que le **début** du fichier ou que la **fin** du fichier. Les commandes dédiées à ces tâches sont `head` et `tail`. \n",
    "\n",
    "Exécutez-les sur le fichier `example.map`.\n"
   ]
  },
  {
   "cell_type": "code",
   "execution_count": null,
   "metadata": {},
   "outputs": [],
   "source": []
  },
  {
   "cell_type": "code",
   "execution_count": null,
   "metadata": {},
   "outputs": [],
   "source": []
  },
  {
   "cell_type": "markdown",
   "metadata": {},
   "source": [
    "---\n",
    "**Question 28:**\n",
    "Consulter l'aide des commandes `head` et `tail` pour trouver les drapeaux à utiliser afin de:\n"
   ]
  },
  {
   "cell_type": "markdown",
   "metadata": {},
   "source": [
    "**a-** \n",
    "n'afficher que les 5 premières lignes\n"
   ]
  },
  {
   "cell_type": "code",
   "execution_count": null,
   "metadata": {},
   "outputs": [],
   "source": []
  },
  {
   "cell_type": "markdown",
   "metadata": {},
   "source": [
    "**b-**\n",
    "n'afficher que les 3 dernières lignes\n"
   ]
  },
  {
   "cell_type": "code",
   "execution_count": null,
   "metadata": {},
   "outputs": [],
   "source": []
  },
  {
   "cell_type": "markdown",
   "metadata": {},
   "source": [
    "**c-**\n",
    "afficher tout le contenu sauf les 2 premières lignes\n"
   ]
  },
  {
   "cell_type": "code",
   "execution_count": null,
   "metadata": {},
   "outputs": [],
   "source": []
  },
  {
   "cell_type": "markdown",
   "metadata": {},
   "source": [
    "**d-**\n",
    "afficher tout le contenu sauf les 4 dernières lignes\n"
   ]
  },
  {
   "cell_type": "code",
   "execution_count": null,
   "metadata": {},
   "outputs": [],
   "source": []
  },
  {
   "cell_type": "markdown",
   "metadata": {},
   "source": [
    "---\n",
    "**Question 29:**\n",
    "Pour **supprimer un fichier**, on utilise la commande `rm` (EN *remove*) suivie du chemin du fichier à supprimer. \n",
    "\n",
    "Supprimez le fichier `example.map` et vérifiez que la suppression a bien eu lieu.\n"
   ]
  },
  {
   "cell_type": "code",
   "execution_count": null,
   "metadata": {},
   "outputs": [],
   "source": []
  },
  {
   "cell_type": "markdown",
   "metadata": {},
   "source": [
    "---\n",
    "**Question 30:**\n",
    "On veut créer un nouveau fichier de type texte nommé `gene_list.txt` dans le répertoire `tmp` et ayant le contenu suivant (NB: vous séparerez les colonnes par des tabulations):\n",
    "\n",
    "| symbol | name |\n",
    "| --- | --- |\n",
    "| APOE | apolipoprotein  |\n",
    "| AR | androgen receptor |\n",
    "| GRN | granulin |\n",
    "| HTT | huntingtin |\n",
    "| PSEN1 | presenilin 1 |\n",
    "\n",
    "Plusieurs outils permettent de créer et modifier des fichiers de type texte. Nous allons utiliser le programme `nano`. \n",
    "\n",
    "\n"
   ]
  },
  {
   "cell_type": "markdown",
   "metadata": {},
   "source": [
    "<div class=\"alert alert-block alert-danger\">\n",
    "<b>Attention</b>: \n",
    "    nano est un outil interactif qui doit être appelé depuis un <b>Terminal</b> et pas depuis un Notebook. \n",
    "</div>\n"
   ]
  },
  {
   "cell_type": "markdown",
   "metadata": {},
   "source": [
    "**Retournez dans un onglet Terminal** (au besoin, créez-en un nouveau), déplacez-vous dans le répertoire `tmp` et exécutez la commande:\n",
    "`nano gene_list.txt`\n",
    "\n",
    "**Attention**: si nano s'utilise comme n'importe quel éditeur de texte classique pour la saisie du texte, les raccourcis clavier (pour copier, couper, coller, sauvegarder, quitter) sont inhabituels:\n",
    "- <kbd>ALT</kbd>+<kbd>SHIFT</kbd>+<kbd>6</kbd>: copier un texte sélectionné (et le placer dans le presse-papier)\n",
    "- <kbd>CTRL</kbd>+<kbd>K</kbd> : couper un texte sélectionné (et le placer dans le presse-papier)\n",
    "- <kbd>CTRL</kbd>+<kbd>U</kbd> : coller le texte présent dans le presse-paprier\n",
    "- <kbd>CTRL</kbd>+<kbd>O</kbd> : enregistrer le fichier\n",
    "- <kbd>CTRL</kbd>+<kbd>X</kbd> : quitter nano\n"
   ]
  },
  {
   "cell_type": "markdown",
   "metadata": {},
   "source": [
    "Après avoir quitté le programme, vérifiez qu'il existe à l'endroit souhaité et que son contenu est celui attendu."
   ]
  },
  {
   "cell_type": "code",
   "execution_count": null,
   "metadata": {},
   "outputs": [],
   "source": []
  },
  {
   "cell_type": "markdown",
   "metadata": {},
   "source": [
    "***\n",
    "<div class=\"alert alert-block alert-success\"><b>Usefull commands</b><br>\n",
    "\n",
    "- <kbd>CTRL</kbd>+<kbd>S</kbd> : save notebook\n",
    "- <kbd>CTRL</kbd>+<kbd>ENTER</kbd> : Run Cell\n",
    "- <kbd>SHIFT</kbd>+<kbd>ENTER</kbd> : Run Cell and Select Next\n",
    "- <kbd>ALT</kbd>+<kbd>ENTER</kbd> : Run Cell and Insert Below\n",
    "- <kbd>ESC</kbd>+<kbd>y</kbd> : Change to *Code* Cell Type\n",
    "- <kbd>ESC</kbd>+<kbd>m</kbd> : Change to *Markdown* Cell Type\n",
    "- <kbd>ESC</kbd>+<kbd>r</kbd> : Change to *Raw* Cell Type\n",
    "- <kbd>ESC</kbd>+<kbd>a</kbd> : Create Cell Above\n",
    "- <kbd>ESC</kbd>+<kbd>b</kbd> : Create Cell Below\n",
    "\n",
    "</div>\n"
   ]
  }
 ],
 "metadata": {
  "kernelspec": {
   "display_name": "Python 3 (ipykernel)",
   "language": "python",
   "name": "python3"
  },
  "language_info": {
   "codemirror_mode": {
    "name": "ipython",
    "version": 3
   },
   "file_extension": ".py",
   "mimetype": "text/x-python",
   "name": "python",
   "nbconvert_exporter": "python",
   "pygments_lexer": "ipython3",
   "version": "3.10.0"
  }
 },
 "nbformat": 4,
 "nbformat_minor": 4
}
