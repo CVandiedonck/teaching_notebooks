{
 "cells": [
  {
   "cell_type": "markdown",
   "metadata": {},
   "source": [
    "# __R Session n°6 - practice:__\n",
    "M1 MEG UE5 - Claire Vandiedonck\n",
    "***\n",
    "\n",
    "__*Programme couvert:*__\n",
    "\n",
    "- Gestion des flux: exéctutions conditionnelles, boucles\n",
    "- nouvelles fonctions\n",
    "- programmation dans R\n",
    "\n",
    "__*Objectifs pédagogiques de ce practical:*__\n",
    "\n",
    "- distinguer les boucles des exécutions conditionnelles\n",
    "- écrire des exécutions conditionnelles\n",
    "- écrire des boucles\n",
    "- comprendre que la vectorisation peut remplacer les boucles de manière avantageuse avec R\n",
    "- créer ses propres fonctions dans R et avoir saisi l'importance de l'espace clos des fonctions."
   ]
  },
  {
   "cell_type": "markdown",
   "metadata": {},
   "source": [
    "---\n",
    "    \n",
    "**Rappels**    \n",
    "> Les exercices proposés sont donnés dans un ordre progressif qui suit celui du diaporama associé. Ils ont des niveaux de difficulté variable. Pour chaque exercice, des fonctions R vous sont suggérées. N’hésitez pas à consulter leur menu d’aide en tapant soit `?nom_fonction`, soit `help(nom_fonction)`. Vous pouvez parvenir aux mêmes résultats avec d’autres commandes. Les commandes les plus courtes sont en général les meilleures. Une correction détaillée sera fournie.\n",
    "\n",
    "> Vous pouvez réaliser ces exercices directement dans ce notebook sur `adenine` en indiquant votre code dans les cellules laissées libres. Pour ajouter une nouvelle cellule, cliquez simplement sur le `+`dans le menu en haut à gauche du notebook (cf. rappels sur les notebooks en bas de ce notebook). Vous pouvez mettre plusieurs lignes de code aussi par cellule.\n",
    "> Pour executer les cellules, cliquez sur `Shift+Enter`. Executez les dans le bon ordre.\n",
    "> Remarque: dans un notebook jupyter, l'affichage des vecteurs n'est pas classique. Si vous souhaitez afficher le vecteur de façon plus classique, c'est à dire en ligne avec l'indice pour la 1ère valeur de chaque ligne au début de la ligne, tel qu'il apparait dans R, il est nécessaire d'utiliser la fonction `print()` -> voir dans cet exemple avec un vecteur contenant les deux valeurs numériques 1 et 10."
   ]
  },
  {
   "cell_type": "code",
   "execution_count": null,
   "metadata": {},
   "outputs": [],
   "source": [
    "#cell1\n",
    "my_vector <- c(1, 10) # pour générer le vecteur et l'assigner dans un objet \"my_vector\"\n",
    "my_vector # l'affichage ici montre deux éléments dont l'affichage est séparé par un point médian."
   ]
  },
  {
   "cell_type": "code",
   "execution_count": null,
   "metadata": {},
   "outputs": [],
   "source": [
    "#cell2\n",
    "print(my_vector) # L'affichage ici montre le vecteur par ligne avec l'indice 1 entre crochets indiquant l'indice de la première valeur de la ligne."
   ]
  },
  {
   "cell_type": "markdown",
   "metadata": {},
   "source": [
    "> Vous pouvez également réaliser ces exercices si vous le préférez dans un terminal ou une console de cet environnement `megm1_ue5_r` sur adenine, ou sur la version rstudio de cet environnement.\n",
    ">\n",
    "> Il est enfin possible de réaliser ces exercices sur votre ordinateur. Dans ce cas, utilisez un editeur de texte avec coloration syntaxique pour votre code (editeur dans Rstudio, ou Tinn-R ou notepad++ par exemple). Sauvegardez vos commandes dans un fichier mes_commandes.R dans le répertoire de votre choix. Exécutez les commandes une par une dans votre console. Vous pouvez ajouter des commentaires qui ne seront pas éxécutés si vous les précédez du caractère « # ».\n",
    "\n",
    ">    "
   ]
  },
  {
   "cell_type": "markdown",
   "metadata": {},
   "source": [
    "---\n",
    "## Avant d'aller plus loin\n",
    "\n",
    "<div class=\"alert alert-block alert-danger\"><b>Attention:</b> \n",
    "Ne travaillez pas directement sur ce notebook pour ne pas le perdre. Dupliquez-le et renommez-le par exemple en ajoutant vos initiales et travaillez sur cette nouvelle copie. Pour ce faire, dans le panneau de gauche, faites un clic droit sur le fichier et sélectionnez \"Duplicate\". Puis, toujours dans la colonne de gauche, faites un clic droit sur cette copie et sélectionnez \"rename\" pour changer le nom. Ouvrez ensuite cette nouvelle version en double cliquant dessus. Vous êtes prêt(e) à démarrer! <br>\n",
    "<br>\n",
    "<b>N'oubliez pas de sauvegarder régulièrement votre notebook</b>: <kbd>Ctrl</kbd> + <kbd>S</kbd>. ou en cliquant sur l'icone 💾 en haut à gauche de votre notebook ou dans le Menu du JupyterLab \"File puis \"Save Notebook\"!\n",
    "</div>"
   ]
  },
  {
   "cell_type": "markdown",
   "metadata": {},
   "source": [
    "#### 1. Identifiez votre répertoire de travail"
   ]
  },
  {
   "cell_type": "code",
   "execution_count": null,
   "metadata": {},
   "outputs": [],
   "source": [
    "#cell3\n",
    "getwd()"
   ]
  },
  {
   "cell_type": "markdown",
   "metadata": {},
   "source": [
    "Si ce répertoire ne vous convient pas, changer le pour un répertoire existant `my_directory`par exemple, avec la commande suivante en spécifiant le chemin relatif ou absolu de votre répertoire:\n",
    "```setwd(\"path/my_directory\")```"
   ]
  },
  {
   "cell_type": "markdown",
   "metadata": {},
   "source": [
    "#### 2.  Identifiez la version R de votre environnement et packages installés."
   ]
  },
  {
   "cell_type": "code",
   "execution_count": null,
   "metadata": {},
   "outputs": [],
   "source": [
    "#cell4\n",
    "sessionInfo()"
   ]
  },
  {
   "cell_type": "markdown",
   "metadata": {},
   "source": [
    "---\n",
    "---\n",
    "## Exercice 1: tester une condition"
   ]
  },
  {
   "cell_type": "markdown",
   "metadata": {},
   "source": [
    "- Créez un vecteur de 100 valeurs tirées aléatoirement selon une loi normale de moyenne 4 et d’écart type 5.\n",
    "\n",
    "- Identifiez les indices des valeurs strictement supérieures à 3 et récupérez les valeurs correspondantes.\n",
    "\n",
    "- Testez si la somme de ces valeurs est supérieure à 40, à 30 ou à 20 et affichez un message adéquat selon chaque éventualité."
   ]
  },
  {
   "cell_type": "markdown",
   "metadata": {},
   "source": [
    "*__Tip :__*_fonctions recommandées : `rnorm()`, `which()`, `sum()`, `if()`, `ifelse()`, `else()`, `cat()` ou `print()`_"
   ]
  },
  {
   "cell_type": "code",
   "execution_count": null,
   "metadata": {},
   "outputs": [],
   "source": [
    "# cell 5"
   ]
  },
  {
   "cell_type": "code",
   "execution_count": null,
   "metadata": {},
   "outputs": [],
   "source": [
    "# cell 6"
   ]
  },
  {
   "cell_type": "code",
   "execution_count": null,
   "metadata": {},
   "outputs": [],
   "source": [
    "# cell 7"
   ]
  },
  {
   "cell_type": "markdown",
   "metadata": {},
   "source": [
    "---\n",
    "## Exercice 2: création d'une boucle simple\n",
    "\n",
    "- Créez une boucle de 10 itérations `i` qui affiche à chaque itération l’indice `i`.\n",
    "- Calculez au fur et à mesure la somme cumulée des indices dans un vecteur.\n",
    "- Affichez la somme cumulée finale.\n",
    "\n",
    "\n",
    "*__Tip :__*\n",
    "_fonction recommandée : `for()`, `cat()` ou `print()`_"
   ]
  },
  {
   "cell_type": "code",
   "execution_count": null,
   "metadata": {},
   "outputs": [],
   "source": [
    "# cell 8"
   ]
  },
  {
   "cell_type": "code",
   "execution_count": null,
   "metadata": {},
   "outputs": [],
   "source": [
    "# cell 9"
   ]
  },
  {
   "cell_type": "markdown",
   "metadata": {},
   "source": [
    "---\n",
    "## Exercice 3: création d'une fonction\n",
    "\n",
    "\n",
    "- Créez une fonction calculSomme qui calcule la somme de deux variables x et y passées en argument.\n",
    "- Testez la fonction.\n",
    "\n",
    "\n",
    "*__Tip :__*_fonction recommandée : `function()`, `return()`_"
   ]
  },
  {
   "cell_type": "code",
   "execution_count": null,
   "metadata": {},
   "outputs": [],
   "source": [
    "# cell 10"
   ]
  },
  {
   "cell_type": "code",
   "execution_count": null,
   "metadata": {},
   "outputs": [],
   "source": [
    "# cell 11"
   ]
  },
  {
   "cell_type": "markdown",
   "metadata": {},
   "source": [
    "---\n",
    "## Exercice 4: création d’une fonction avec des tests, utilisation de cette fonction de manière itérative\n"
   ]
  },
  {
   "cell_type": "markdown",
   "metadata": {},
   "source": [
    "- Ecrivez une fonction `calculTarif()` qui prend pour argument un âge et affiche “demi-tarif” si l’âge est inférieur à 12 ans, “tarif sénior” si l’âge est supérieur ou égal à 60 ans et “plein tarif” sinon.\n",
    "- Testez votre fonction pour des personnes de 5, 65, 85, 41, 23 et 47 ans.\n",
    "\n",
    "\n",
    "*__Tip :__*_fonctions recommandées :\n",
    "   `function()`,\n",
    "    `return()`,\n",
    "    `print()`,\n",
    "    `c()`,\n",
    "    `if()`,\n",
    "    `else()`,\n",
    "    `ifelse()`,\n",
    "    `for()`_"
   ]
  },
  {
   "cell_type": "code",
   "execution_count": null,
   "metadata": {},
   "outputs": [],
   "source": [
    "# cell 12"
   ]
  },
  {
   "cell_type": "code",
   "execution_count": null,
   "metadata": {},
   "outputs": [],
   "source": [
    "# cell 13"
   ]
  },
  {
   "cell_type": "markdown",
   "metadata": {},
   "source": [
    "---\n",
    "## Exercice 5: création d’une fonction avec compteur de boucle\n",
    "\n",
    "- Ecrivez une fonction `sumCumul()` qui calcule la somme cumulée des nombres entiers compris entre deux bornes a et b que vous mettrez en arguments start et end.\n",
    "\n",
    "- De plus, toutes les 10 boucles, vous affichez la valeur de l’entier ajouté, sinon vous affichez un point ..\n",
    "\n",
    "- Testez la fonction avec les entiers entre 3 et 55 par exemple.\n",
    "\n",
    "- Améliorez la fonction en ajoutant un paramètre \"interval\" correspondant à l’incrément de boucles entre les affichages des entiers (dans la fonction précédente, cet incrément était de 10)\n",
    "\n",
    "- Testez la fonction avec les entiers entre 3 et 55 et un intervalle de 15 par exemple.\n",
    "\n",
    "*__Tip :__*_fonctions recommandées : ` \n",
    "    function()`,\n",
    "    `return()`,\n",
    "    `cat()`,\n",
    "    `seq()`_"
   ]
  },
  {
   "cell_type": "code",
   "execution_count": null,
   "metadata": {},
   "outputs": [],
   "source": [
    "# cell 14"
   ]
  },
  {
   "cell_type": "code",
   "execution_count": null,
   "metadata": {},
   "outputs": [],
   "source": [
    "# cell 15"
   ]
  },
  {
   "cell_type": "code",
   "execution_count": null,
   "metadata": {},
   "outputs": [],
   "source": [
    "# cell 16"
   ]
  },
  {
   "cell_type": "markdown",
   "metadata": {},
   "source": [
    "<div class=\"alert alert-block alert-warning\"><b>Warning:</b><br>\n",
    " Don't forget to save you notebook and export a copy as an <b>html</b> file as well <br>\n",
    "- Open \"File\" in the Menu<br>\n",
    "- Select \"Export Notebook As\"<br>\n",
    "- Export notebook as HTML<br>\n",
    "- You can then open it in your browser even without being connected to a JupyterLab interface!\n",
    "</div>"
   ]
  },
  {
   "cell_type": "markdown",
   "metadata": {},
   "source": [
    "***\n",
    "***\n",
    "## Useful commands\n",
    "<div class=\"alert alert-block alert-info\"> \n",
    "    \n",
    "- <kbd>CTRL</kbd>+<kbd>S</kbd> : save notebook<br>    \n",
    "- <kbd>CTRL</kbd>+<kbd>ENTER</kbd> : Run Cell<br>  \n",
    "- <kbd>SHIFT</kbd>+<kbd>ENTER</kbd> : Run Cell and Select Next<br>   \n",
    "- <kbd>ALT</kbd>+<kbd>ENTER</kbd> : Run Cell and Insert Below<br>   \n",
    "- <kbd>ESC</kbd>+<kbd>y</kbd> : Change to *Code* Cell Type<br>  \n",
    "- <kbd>ESC</kbd>+<kbd>m</kbd> : Change to *Markdown* Cell Type<br> \n",
    "- <kbd>ESC</kbd>+<kbd>r</kbd> : Change to *Raw* Cell Type<br>    \n",
    "- <kbd>ESC</kbd>+<kbd>a</kbd> : Create Cell Above<br> \n",
    "- <kbd>ESC</kbd>+<kbd>b</kbd> : Create Cell Below<br> \n",
    "\n",
    "<em>  \n",
    "To make nice html reports with markdown: <a href=\"https://dillinger.io/\" title=\"dillinger.io\">html visualization tool 1</a> or <a href=\"https://stackedit.io/app#\" title=\"stackedit.io\">html visualization tool 2</a>, <a href=\"https://www.tablesgenerator.com/markdown_tables\" title=\"tablesgenerator.com\">to draw nice tables</a>, and the <a href=\"https://medium.com/analytics-vidhya/the-ultimate-markdown-guide-for-jupyter-notebook-d5e5abf728fd\" title=\"Ultimate guide\">Ultimate guide</a>. <br>\n",
    "Further reading on JupyterLab notebooks: <a href=\"https://jupyterlab.readthedocs.io/en/latest/user/notebook.html\" title=\"Jupyter Lab\">Jupyter Lab documentation</a>.<br>   \n",
    "</em>    \n",
    " \n",
    "</div>"
   ]
  },
  {
   "cell_type": "markdown",
   "metadata": {},
   "source": [
    "---\n",
    "---\n",
    "\n",
    "## <mark>Check list des actions avant la prochaine session R:<mark>\n",
    "\n",
    "_Pour cocher les cases, ouvrez la cellule du notebook et remplacez l'espace entre les crochets par un `x` lorsque l'action est effectuée_\n",
    "\n",
    "[ ] relire le cours et revoir les différents supports dont diapos, scripts et notebooks (practice et tuto) de la session 6\n",
    "       \n",
    "[ ] finir l'atelier#1 de la partie II RNASeq du Fil Rouge: en binôme, <mark> notebook à rendre pour le 21/10 12h00 </mark> sur moodle dans la section \"Fil Rouge\"\n",
    "    \n",
    "[ ] atelier#2 de la partie II RNASeq du Fil Rouge: en binôme, évaluation par les pairs des notebooks de 3 autres binômes <mark> pour le 31/10 minuit </mark> sur moodle dans la section \"Fil Rouge\"\n",
    "\n",
    "[ ] partie III RNASeq du Fil Rouge: statistiues descriptives, rendu avec le même binôme que pour l'atelier sur moodle  <mark> pour le 08/11 minuit </mark>"
   ]
  }
 ],
 "metadata": {
  "kernelspec": {
   "display_name": "R",
   "language": "R",
   "name": "ir"
  },
  "language_info": {
   "codemirror_mode": "r",
   "file_extension": ".r",
   "mimetype": "text/x-r-source",
   "name": "R",
   "pygments_lexer": "r",
   "version": "4.0.5"
  }
 },
 "nbformat": 4,
 "nbformat_minor": 4
}
