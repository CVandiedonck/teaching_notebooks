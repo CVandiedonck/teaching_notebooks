{
 "cells": [
  {
   "cell_type": "markdown",
   "metadata": {},
   "source": [
    "# Flux\n",
    "\n",
    "Dans cette partie, vous allez manipuler les **flux Unix**: redirection de la sortie standard et \"pipe\".\n"
   ]
  },
  {
   "cell_type": "markdown",
   "metadata": {
    "jp-MarkdownHeadingCollapsed": true,
    "tags": []
   },
   "source": [
    "---\n",
    "**Question 1:**\n",
    "Déplacez-vous dans le répertoire `Data/Hapmap_SMALL`"
   ]
  },
  {
   "cell_type": "code",
   "execution_count": null,
   "metadata": {},
   "outputs": [],
   "source": []
  },
  {
   "cell_type": "markdown",
   "metadata": {},
   "source": [
    "---\n",
    "**Question 2:**\n",
    "En utilisant la **redirection** de la sortie standard `>` et la commande `head`, exportez les 5 premiers SNP du fichier `WORLD_resampled_SMALL.map` vers le fichier `first_5.map`\n",
    "\n"
   ]
  },
  {
   "cell_type": "code",
   "execution_count": null,
   "metadata": {},
   "outputs": [],
   "source": []
  },
  {
   "cell_type": "markdown",
   "metadata": {},
   "source": [
    "Vérifiez l'existence, l'emplacement et le contenu du fichier `first_5.map`"
   ]
  },
  {
   "cell_type": "code",
   "execution_count": null,
   "metadata": {},
   "outputs": [],
   "source": []
  },
  {
   "cell_type": "markdown",
   "metadata": {},
   "source": [
    "---\n",
    "**Question 3:**\n",
    "En utilisant un pipe `|` enchaînant une commande `head` et une commande `tail`, obtenez la liste des SNP du fichier `WORLD_resampled_SMALL.map` du 4e (inclus) à l'[antépénultième](https://www.cnrtl.fr/definition/ant%C3%A9p%C3%A9nulti%C3%A8me)  (exclu) \n"
   ]
  },
  {
   "cell_type": "code",
   "execution_count": null,
   "metadata": {},
   "outputs": [],
   "source": []
  },
  {
   "cell_type": "markdown",
   "metadata": {},
   "source": [
    "# Filtre et Expressions régulières\n",
    "\n",
    "Dans cette partie, vous allez **filtrer** un fichier à l'aide de la commande `grep` et d'**expressions régulières**\n"
   ]
  },
  {
   "cell_type": "markdown",
   "metadata": {},
   "source": [
    "---\n",
    "**Question 4:**\n",
    "En utilisant la commande `grep`, extrayez les SNP du fichier `WORLD_resampled_SMALL.map` dont l'identifiant commence par \"**rs1**\".\n"
   ]
  },
  {
   "cell_type": "code",
   "execution_count": null,
   "metadata": {},
   "outputs": [],
   "source": []
  },
  {
   "cell_type": "markdown",
   "metadata": {},
   "source": [
    "---\n",
    "**Question 5:**\n",
    "En utilisant la commande `grep`, extrayez les SNP du fichier `WORLD_resampled_SMALL.map` dont l'identifiant ne commence pas par \"**rs1**\".\n"
   ]
  },
  {
   "cell_type": "code",
   "execution_count": null,
   "metadata": {},
   "outputs": [],
   "source": []
  },
  {
   "cell_type": "markdown",
   "metadata": {},
   "source": [
    "---\n",
    "**Question 6:**\n",
    "En utilisant la commande `grep`, extrayez les SNP du fichier `WORLD_resampled_SMALL.map` qui sont à une distance génétique comprise entre 0.7 inclus et 0.8 exclus.\n"
   ]
  },
  {
   "cell_type": "code",
   "execution_count": null,
   "metadata": {},
   "outputs": [],
   "source": []
  },
  {
   "cell_type": "markdown",
   "metadata": {},
   "source": [
    "---\n",
    "**Question 7:**\n",
    "En utilisant la commande `grep` et une **expression régulière**, extrayez les SNP du fichier `WORLD_resampled_SMALL.map` dont l'identifiant fait exactement 9 caractères.\n"
   ]
  },
  {
   "cell_type": "code",
   "execution_count": null,
   "metadata": {},
   "outputs": [],
   "source": []
  },
  {
   "cell_type": "markdown",
   "metadata": {},
   "source": [
    "# Manipulation de fichiers texte volumineux\n",
    "\n",
    "Dans cette partie vous allez utiliser un fichier contenant des données d'expression génique obtenues par RNA-Seq.\n",
    "Ce fichier est stocké dans la base de données FlyBase  à l'URL:\n",
    "\n"
   ]
  },
  {
   "cell_type": "raw",
   "metadata": {},
   "source": [
    "ftp://ftp.flybase.org/releases/FB2020_03/precomputed_files/genes/gene_rpkm_report_fb_2020_03.tsv.gz"
   ]
  },
  {
   "cell_type": "markdown",
   "metadata": {},
   "source": [
    "**<span style=\"color:red\">Ne cliquez pas directement sur ce lien</span>**. \n",
    "Dans la suite, vous allez effectuer le téléchargement à l'aide d'une commande Unix.\n",
    "\n"
   ]
  },
  {
   "cell_type": "markdown",
   "metadata": {},
   "source": [
    "Il s'agit des données analysées dans l'article Graveley BR, Brooks AN, Carlson JW, et al. The developmental transcriptome of Drosophila melanogaster. Nature. 2011;471(7339):473-479. doi:10.1038/nature09715 \n",
    "\n",
    "https://www.ncbi.nlm.nih.gov/pmc/articles/PMC3075879/\n",
    "\n",
    "Ces données seront analysées plus en détail dans de futurs TP. \n"
   ]
  },
  {
   "cell_type": "markdown",
   "metadata": {},
   "source": [
    "---\n",
    "**Question 8:**\n",
    "Dans le répertoire `Data`, créez un répertoire `rna-seq`, puis déplacez-vous dans ce dossier.\n"
   ]
  },
  {
   "cell_type": "code",
   "execution_count": null,
   "metadata": {},
   "outputs": [],
   "source": []
  },
  {
   "cell_type": "markdown",
   "metadata": {},
   "source": [
    "---\n",
    "**Question 9:**\n",
    "Exécutez la commande : "
   ]
  },
  {
   "cell_type": "code",
   "execution_count": null,
   "metadata": {},
   "outputs": [],
   "source": [
    " wget ftp://ftp.flybase.org/releases/FB2020_03/precomputed_files/genes/gene_rpkm_report_fb_2020_03.tsv.gz"
   ]
  },
  {
   "cell_type": "markdown",
   "metadata": {},
   "source": [
    "NB: \n",
    "La commande `wget` permet de télécharger des ressources internet de manière non-interactive. La commande précédente tente de télécharger le fichier distant `gene_rpkm_report_fb_2020_03.tsv.gz` dans le répertoire de travail.\n"
   ]
  },
  {
   "cell_type": "markdown",
   "metadata": {},
   "source": [
    "---\n",
    "**Question 10:**\n",
    "Vérifiez que le fichier a bien été téléchargé dans le répertoire `rna-seq`. \n"
   ]
  },
  {
   "cell_type": "code",
   "execution_count": null,
   "metadata": {},
   "outputs": [],
   "source": []
  },
  {
   "cell_type": "markdown",
   "metadata": {},
   "source": [
    "---\n",
    "**Question 11:**\n",
    "Retrouvez le type de ce fichier à l'aide de la commande `file`\n"
   ]
  },
  {
   "cell_type": "code",
   "execution_count": null,
   "metadata": {},
   "outputs": [],
   "source": []
  },
  {
   "cell_type": "markdown",
   "metadata": {},
   "source": [
    "---\n",
    "**Question 12:**\n",
    "Quelle est la taille de ce fichier ?\n"
   ]
  },
  {
   "cell_type": "code",
   "execution_count": null,
   "metadata": {},
   "outputs": [],
   "source": []
  },
  {
   "cell_type": "markdown",
   "metadata": {},
   "source": [
    "---\n",
    "**Question 13:**\n",
    "Faites une copie du fichier ayant pour nom `tmp.tsv.gz`\n"
   ]
  },
  {
   "cell_type": "code",
   "execution_count": null,
   "metadata": {},
   "outputs": [],
   "source": []
  },
  {
   "cell_type": "markdown",
   "metadata": {},
   "source": [
    "---\n",
    "**Question 14:**\n",
    "Pour décompresser un fichier `gz`, on utilise la commande `gzip -d` suivie du nom du fichier à décompresser. \n",
    "\n",
    "Décompressez le fichier `tmp.tsv.gz`\n"
   ]
  },
  {
   "cell_type": "code",
   "execution_count": null,
   "metadata": {},
   "outputs": [],
   "source": []
  },
  {
   "cell_type": "markdown",
   "metadata": {},
   "source": [
    "Listez les fichiers du répertoire de travail"
   ]
  },
  {
   "cell_type": "code",
   "execution_count": null,
   "metadata": {},
   "outputs": [],
   "source": []
  },
  {
   "cell_type": "markdown",
   "metadata": {},
   "source": [
    "Vous pouvez constater que le fichier `tmp.tsv.gz` a été remplacé par un fichier `tmp.tsv`.\n"
   ]
  },
  {
   "cell_type": "markdown",
   "metadata": {},
   "source": [
    "Quelle est sa taille ? \n"
   ]
  },
  {
   "cell_type": "code",
   "execution_count": null,
   "metadata": {},
   "outputs": [],
   "source": []
  },
  {
   "cell_type": "markdown",
   "metadata": {},
   "source": [
    "---\n",
    "**Question 15:**\n",
    "Le fichier décompressé est un fichier texte. Comptez son nombre de lignes.\n"
   ]
  },
  {
   "cell_type": "code",
   "execution_count": null,
   "metadata": {},
   "outputs": [],
   "source": []
  },
  {
   "cell_type": "markdown",
   "metadata": {},
   "source": [
    "---\n",
    "**Question 16:**\n",
    "Pour avoir une idée du format des données qu'il contient, nous allons utiliser la commande `less` pour **visualiser** le contenu du fichier **page par page**. \n",
    "\n",
    "\n"
   ]
  },
  {
   "cell_type": "markdown",
   "metadata": {},
   "source": [
    "<div class=\"alert alert-block alert-danger\">\n",
    "<b>Attention</b>: \n",
    "    less est un outil interactif qui doit être appelé depuis un <b>Terminal</b> et pas depuis un Notebook. \n",
    "</div>\n"
   ]
  },
  {
   "cell_type": "markdown",
   "metadata": {},
   "source": [
    "**Retournez dans un onglet Terminal** (au besoin, créez-en un nouveau), déplacez-vous dans le répertoire `rna-seq` et exécutez la commande:\n",
    "\n",
    "`less tmp.tsv`\n",
    "\n",
    "La commande `less` permet de naviguer de manière interactive dans le contenu d'un fichier texte. Principales commandes :\n",
    "- <kbd>q</kbd> : quitter\n",
    "- <kbd>Space</kbd> ou <kbd>PageDown</kbd> : page suivante\n",
    "- <kbd>b</kbd> ou <kbd>PageUp</kbd> : page précédente\n",
    "- <kbd>Up</kbd> ou <kbd>Down</kbd> : défilement vers le haut ou vers le bas\n",
    "- <kbd>g</kbd> : aller au début\n",
    "- <kbd>G</kbd> : aller à la fin \n"
   ]
  },
  {
   "cell_type": "markdown",
   "metadata": {},
   "source": [
    "Le format vous semble-t-il conforme à ce qui est indiqué à la page:\n",
    "\n",
    "https://wiki.flybase.org/wiki/FlyBase:Downloads_Overview#RNA-Seq_RPKM_values_.28gene_rpkm_report_fb_.2A.tsv.gz.29"
   ]
  },
  {
   "cell_type": "markdown",
   "metadata": {},
   "source": [
    "---\n",
    "**Question 17:**\n",
    "Dans de futurs TP, vous travaillerez plus spécifiquement sur les données quantitatives d'expression, notamment la colonne RPKM_value. Dans cette séance, nous allons nous contenter d'utiliser la colonne *GeneSymbol*, c'est-à-dire le champ qui contient le nom du gène dont l'expression a été quantifiée dans l'expérience de la ligne. \n",
    "\n",
    "Le fichier décompressé `tmp.tsv` étant très volumineux (252 MB), nous allons le supprimer et travailler sur la version compressée. \n",
    "\n",
    "Exécutez la commande:"
   ]
  },
  {
   "cell_type": "code",
   "execution_count": null,
   "metadata": {},
   "outputs": [],
   "source": [
    "rm tmp.tsv"
   ]
  },
  {
   "cell_type": "markdown",
   "metadata": {},
   "source": [
    "A partir d'un **terminal**, utilisez la commande:\n",
    "\n",
    "`zless gene_rpkm_report_fb_2020_03.tsv.gz`\n",
    "  \n",
    "Comme `less`, la commande `zless` permet de visualiser page par page le contenu d'un fichier texte, mais dans sa version compressée. \n",
    "\n",
    "Une alternative est d'utiliser le \"pipe\" suivant (toujours à partir d'un **terminal**): \n",
    "\n",
    "`zcat gene_rpkm_report_fb_2020_03.tsv.gz | less`\n",
    "    \n",
    "La commande `zcat`, est la version de `cat` pour fichier compressé. \n"
   ]
  },
  {
   "cell_type": "markdown",
   "metadata": {},
   "source": [
    "<div class=\"alert alert-block alert-info\">\n",
    "    Vous pouvez maintenant revenir dans votre <b>Notebook</b>. \n",
    "</div>"
   ]
  },
  {
   "cell_type": "markdown",
   "metadata": {},
   "source": [
    "---\n",
    "On désire compter le nombre de gènes analysés dans l'ensemble des expériences. L'idée est d'extraire du fichier la liste des gènes (sans doublon) puis de les compter. On vous propose d'utiliser le découpage de tâches suivant:\n",
    "- ne conserver que les lignes correspondant à un résultat d'expérience, c'est-à-dire les lignes qui ne sont ni des lignes vides, ni des lignes de commentaires (commençant par un dièse `#`)\n",
    "- ne conserver que la colonne contenant les noms des gènes (colonne *GeneSymbol*)\n",
    "- supprimer les doublons dans cette colonne pour créer la liste des gènes analysés\n",
    "- compter le nombre de lignes de cette liste\n",
    "\n",
    "\n"
   ]
  },
  {
   "cell_type": "markdown",
   "metadata": {},
   "source": [
    "On vous demande de construire une commande Unix complexe combinant par des pipes des commandes Unix standards.\n",
    "Attention: Le fichier contient plus de 2 millions de lignes. Un Notebook n'est pas adapté pour des sorties de cette taille. Dans la phase de mise au point, utilisez systématiquement un pipe ` | head` ou ` | tail` en fin de commande.\n",
    "\n",
    "Exécutez la commande:"
   ]
  },
  {
   "cell_type": "code",
   "execution_count": null,
   "metadata": {},
   "outputs": [],
   "source": [
    "zcat gene_rpkm_report_fb_2020_03.tsv.gz | head"
   ]
  },
  {
   "cell_type": "markdown",
   "metadata": {},
   "source": [
    "puis la commande:"
   ]
  },
  {
   "cell_type": "code",
   "execution_count": null,
   "metadata": {},
   "outputs": [],
   "source": [
    "zcat gene_rpkm_report_fb_2020_03.tsv.gz | tail"
   ]
  },
  {
   "cell_type": "code",
   "execution_count": null,
   "metadata": {},
   "outputs": [],
   "source": []
  },
  {
   "cell_type": "markdown",
   "metadata": {},
   "source": [
    "---\n",
    "**Question 19:**\n",
    "\n",
    "**Etape 1a:** ne conserver que les lignes qui ne sont pas vides. \n"
   ]
  },
  {
   "cell_type": "markdown",
   "metadata": {},
   "source": [
    "Exécutez la commande suivante:\n"
   ]
  },
  {
   "cell_type": "code",
   "execution_count": null,
   "metadata": {},
   "outputs": [],
   "source": [
    "zcat gene_rpkm_report_fb_2020_03.tsv.gz | grep -v '^$' | tail"
   ]
  },
  {
   "cell_type": "markdown",
   "metadata": {},
   "source": [
    "Commentez le résultat.\n",
    "Expliquez la signification de `'^$` de la commande précédente."
   ]
  },
  {
   "cell_type": "markdown",
   "metadata": {},
   "source": [
    "---\n",
    "**Question 20:**\n",
    "\n",
    "**Etape 1b:** et ne conserver que les lignes qui ne sont pas des commentaires\n",
    "\n",
    "Exécutez la commande suivante:\n"
   ]
  },
  {
   "cell_type": "code",
   "execution_count": null,
   "metadata": {},
   "outputs": [],
   "source": [
    "zcat gene_rpkm_report_fb_2020_03.tsv.gz | grep -v '^$' | grep -v '^#' | tail"
   ]
  },
  {
   "cell_type": "markdown",
   "metadata": {},
   "source": [
    "puis:"
   ]
  },
  {
   "cell_type": "code",
   "execution_count": null,
   "metadata": {},
   "outputs": [],
   "source": [
    "zcat gene_rpkm_report_fb_2020_03.tsv.gz | grep -v '^$' | grep -v '^#' | head"
   ]
  },
  {
   "cell_type": "markdown",
   "metadata": {},
   "source": [
    "Commentez le résultat.\n",
    "Expliquez la signification de `'^#'` de la commande précédente. "
   ]
  },
  {
   "cell_type": "markdown",
   "metadata": {},
   "source": [
    "---\n",
    "**Question 21:**\n",
    "\n",
    "**Etape 2:** à la commande précédente, juste avant le ` | head` final, insérez un pipe pour ne conserver que la colonne *GeneSymbol*\n"
   ]
  },
  {
   "cell_type": "code",
   "execution_count": null,
   "metadata": {},
   "outputs": [],
   "source": []
  },
  {
   "cell_type": "markdown",
   "metadata": {},
   "source": [
    "---\n",
    "**Question 22:**\n",
    "\n",
    "**Etape 3a:** à la commande précédente, juste avant le ` | head` final, insérez un pipe pour trier la colonne\n"
   ]
  },
  {
   "cell_type": "code",
   "execution_count": null,
   "metadata": {},
   "outputs": [],
   "source": []
  },
  {
   "cell_type": "markdown",
   "metadata": {},
   "source": [
    "---\n",
    "**Question 23:**\n",
    "\n",
    "**Etape 3b:** à la commande précédente, juste avant le ` | head` final, insérez le pipe ` | uniq ` pour supprimer les doublons\n"
   ]
  },
  {
   "cell_type": "code",
   "execution_count": null,
   "metadata": {},
   "outputs": [],
   "source": []
  },
  {
   "cell_type": "markdown",
   "metadata": {},
   "source": [
    "---\n",
    "**Question 24:**\n",
    "\n",
    "**Etape 4:** à la commande précédente, insérez un pipe pour compter le nombre de lignes\n"
   ]
  },
  {
   "cell_type": "code",
   "execution_count": null,
   "metadata": {},
   "outputs": [],
   "source": []
  },
  {
   "cell_type": "markdown",
   "metadata": {},
   "source": [
    "---\n",
    "**Question 25:**\n",
    "Bravo, vous devez maintenant être en mesure de dire combien de gènes différents ont été analysés.\n"
   ]
  },
  {
   "cell_type": "markdown",
   "metadata": {},
   "source": [
    "***\n",
    "<div class=\"alert alert-block alert-success\"><b>Usefull commands</b><br>\n",
    "\n",
    "- <kbd>CTRL</kbd>+<kbd>S</kbd> : Save Notebook\n",
    "- <kbd>CTRL</kbd>+<kbd>ENTER</kbd> : Run Cell\n",
    "- <kbd>SHIFT</kbd>+<kbd>ENTER</kbd> : Run Cell and Select Next\n",
    "- <kbd>ALT</kbd>+<kbd>ENTER</kbd> : Run Cell and Insert Below\n",
    "- <kbd>ESC</kbd>+<kbd>y</kbd> : Change to *Code* Cell Type\n",
    "- <kbd>ESC</kbd>+<kbd>m</kbd> : Change to *Markdown* Cell Type\n",
    "- <kbd>ESC</kbd>+<kbd>r</kbd> : Change to *Raw* Cell Type\n",
    "- <kbd>ESC</kbd>+<kbd>a</kbd> : Create Cell Above\n",
    "- <kbd>ESC</kbd>+<kbd>b</kbd> : Create Cell Below\n",
    "\n",
    "</div>\n"
   ]
  }
 ],
 "metadata": {
  "kernelspec": {
   "display_name": "Bash",
   "language": "bash",
   "name": "bash"
  },
  "language_info": {
   "codemirror_mode": "shell",
   "file_extension": ".sh",
   "mimetype": "text/x-sh",
   "name": "bash"
  }
 },
 "nbformat": 4,
 "nbformat_minor": 4
}
